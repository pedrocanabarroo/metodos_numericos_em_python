{
 "cells": [
  {
   "cell_type": "markdown",
   "id": "93665bad-34c5-418b-9173-8f469b56c92e",
   "metadata": {},
   "source": [
    "## 6.2 Regras de Newton-Cotes\n",
    "\n",
    "\n"
   ]
  },
  {
   "cell_type": "markdown",
   "id": "1a58e76d-e8b7-4baa-9ea6-bb8dfb1e6aaf",
   "metadata": {},
   "source": [
    "Fonte: [Arenales e Darezzo, 2016.](https://integrada.minhabiblioteca.com.br/reader/books/9788522112821/pageid/223)"
   ]
  },
  {
   "cell_type": "markdown",
   "id": "e72a1e85-64b4-43a2-b912-2ebce65eca7e",
   "metadata": {},
   "source": [
    "Considere uma função definida em $x_0, x_1, \\ldots, x_n,(n+1)$ pontos distintos e equidistantes no intervalo $[a, b]$, isto é, $\\left(x_{i+1}-x_i\\right)=h, i=0,1, \\ldots, n-1$, sendo $h>0$ a distância entre os pontos.\n",
    "\n",
    "Seja $P_n(x)$ o polinômio interpolador de uma função $f(x)$ definida nos pontos $x_0, x_1, \\ldots, x_n,(n+1)$ pontos distintos e equidistantes no intervalo $[a, b]$, tal que $x_0=a$ e $x_n=b$. Considerando que $f(x)$ seja suficientemente diferenciável, temos da interpolação polinomial que:\n",
    "$$\r\n",
    "f(x)=P_n(x)+E_n(x)\r\n",
    "$$"
   ]
  },
  {
   "cell_type": "markdown",
   "id": "3cccc054-85f9-4441-b662-5c73188513c8",
   "metadata": {},
   "source": [
    "em que\n",
    "\n",
    "$$\n",
    "E_n(x)=\\left(x-x_0\\right) \\ldots\\left(x-x_n\\right) \\frac{f^{(n+1)}(\\xi)}{(n+1)!}, \\quad x_0 \\leq \\xi \\leq x_n\n",
    "$$\n",
    "\n",
    "\n",
    "Assim,\n",
    "\n",
    "$$\n",
    "\\int_{x_0}^{x_n} f(x) d x \\simeq \\int_{x_0}^{x_n} P_n(x) d x\n",
    "$$\n",
    "\n",
    "e o erro dado por:\n",
    "\n",
    "$$\n",
    "\\int_{x_0}^{x_n} E_n(x) d x\n",
    "$$\n"
   ]
  },
  {
   "cell_type": "markdown",
   "id": "e90cb616-0c3a-47a0-a113-f05ce037e1e3",
   "metadata": {},
   "source": [
    "Como os pontos escolhidos são equidistantes, por simplicidade usamos a fórmula de interpolação de Newton-Gregory:\n",
    "\n",
    "$$\n",
    "\\begin{aligned}\n",
    "& P_n(x)=\\Delta^0 f\\left(x_0\\right)+\\left(x-x_0\\right) \\frac{\\Delta^1 f\\left(x_0\\right)}{1!h^1}+\\left(x-x_0\\right)\\left(x-x_1\\right) \\frac{\\Delta^2 f\\left(x_0\\right)}{2!h^2}+\\cdots+ \\\\\n",
    "&+\\left(x-x_0\\right) \\ldots\\left(x-x_{n-1}\\right) \\frac{\\Delta^n f\\left(x_0\\right)}{n!h^n}\n",
    "\\end{aligned}\n",
    "$$\n"
   ]
  },
  {
   "cell_type": "markdown",
   "id": "4a0f85c9-6cf2-43be-9796-f6022ad46d35",
   "metadata": {},
   "source": [
    "a qual pode ser reescrita com a mudança de variável:\n",
    "\n",
    "$$\n",
    "u=\\left(x-x_0\\right) / h \\rightarrow x=x_0+u h\n",
    "$$\n",
    "\n",
    "de modo que na variável $u$ os pontos de interpolação são sempre $0,1, \\ldots, n$ e o polinômio interpolador é dado por:\n",
    "\n",
    "$$\n",
    "P_n(u)=\\Delta^0 f\\left(x_0\\right)+\\frac{u \\Delta^1 f\\left(x_0\\right)}{1!}+\\frac{u(u-1)}{2!} \\Delta^2 f\\left(x_0\\right)+\\cdots+\\frac{u(u-1) \\ldots(u-(n-1))}{n!} \\Delta^n f\\left(x_0\\right)\n",
    "$$\n",
    "\n",
    "e o erro na interpolação na variável $u$ é dado por:\n",
    "\n",
    "$$\n",
    "E_n(u)=\\frac{u(u-1) \\ldots(u-n)}{(n+1)!} h^{n+1} f^{(n+1)}\\left(\\xi_u\\right), \\quad 0 \\leq \\xi_u \\leq n\n",
    "$$\n",
    "\n",
    "\n",
    "Assim, o erro na integração pode ser escrito como:\n",
    "\n",
    "$$\n",
    "E_n=\\int_{x_0}^{x_n} E_n(x) d x=h \\int_0^n E_n(u) d u=h \\int_0^n \\frac{u(u-1) \\ldots(u-n)}{(n+1)!} h^{n+1} f^{(n+1)}\\left(\\xi_u\\right) d u\n",
    "$$\n"
   ]
  },
  {
   "cell_type": "markdown",
   "id": "d851627a-059d-4db1-857c-204981a24ea4",
   "metadata": {},
   "source": [
    "**Número ímpar de subintervalos:**\n",
    "\n",
    "Se a função $f(x)$ possui $(n+1)$ derivadas contínuas no intervalo $\\left[x_0, x_n\\right]$ e os pontos $x_i=x_0+i h, i=0,1, \\ldots, n$ subdividem o intervalo de integração num número ímpar de intervalos, então existe $\\xi$, tal que:\n",
    "\n",
    "$$\n",
    "E_n=\\frac{h^{n+2} f^{(n+1)}(\\xi)}{(n+1)!} \\int_0^n(u)(u-1) \\ldots(u-n) d u, \\quad x_0 \\leq \\xi \\leq x_n\n",
    "$$\n"
   ]
  },
  {
   "cell_type": "markdown",
   "id": "0ecc60e1-cca2-41d7-9e20-73e8db242f2c",
   "metadata": {},
   "source": [
    "**Número par de subintervalos:**\n",
    "\n",
    "Se a função $f(x)$ possui $(n+2)$ derivadas contínuas no intervalo $\\left[x_0, x_n\\right]$ e os pontos $x_i=x_0+i h, i=0,1, \\ldots, n$ subdividem o intervalo de integração num número par de intervalos, então existe $\\xi$, tal que:\n",
    "\n",
    "$$\n",
    "E_n=\\frac{h^{n+3} f^{(n+2)}(\\xi)}{(n+2)!} \\int_0^n\\left(u-\\frac{n}{2}\\right)(u)(u-1) \\ldots(u-n) d u, \\quad x_0 \\leq \\xi \\leq x_n\n",
    "$$\n"
   ]
  },
  {
   "cell_type": "code",
   "execution_count": null,
   "id": "b6661446-c44a-49c4-a20e-4f8ff59d5e35",
   "metadata": {},
   "outputs": [],
   "source": []
  }
 ],
 "metadata": {
  "kernelspec": {
   "display_name": "Python 3 (ipykernel)",
   "language": "python",
   "name": "python3"
  },
  "language_info": {
   "codemirror_mode": {
    "name": "ipython",
    "version": 3
   },
   "file_extension": ".py",
   "mimetype": "text/x-python",
   "name": "python",
   "nbconvert_exporter": "python",
   "pygments_lexer": "ipython3",
   "version": "3.12.4"
  }
 },
 "nbformat": 4,
 "nbformat_minor": 5
}