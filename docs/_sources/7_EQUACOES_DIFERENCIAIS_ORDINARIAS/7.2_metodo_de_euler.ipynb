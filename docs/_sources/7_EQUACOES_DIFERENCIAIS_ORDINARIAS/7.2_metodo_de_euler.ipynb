{
 "cells": [
  {
   "cell_type": "markdown",
   "metadata": {},
   "source": [
    "## 7.2 Método de Euler\n",
    "\n",
    "Vamos agora estudar a solução de equações diferenciais ordinárias da forma\n",
    "\n",
    "$$ \\frac{dy}{dx} = f(x,y) $$\n",
    "\n",
    "usando um método numérico de _passo único_ em que obtemos um processo iterativo para obter a solução para cada ponto $y_{i+1}$ a partir de um ponto $y_i$ conhecido. Fazemos isso considerando a derivada no ponto $x_i$ para obter o valor da função no ponto $x_{i+1}$ em que o tamanho de cada _passo_ é dado por $h = x_{i+1} - x_i$. Matemativamente, escrevemos\n",
    "\n",
    "$$ y_{i+1} = y_i + \\phi h$$\n",
    "\n",
    "Assim, a estimativa da inclinação\té usada para extrapolar de um valor antigo $y_i$ para um valor novo $y_{i+1}$ em uma distância $h$. \n",
    "\n",
    "\n",
    "<img src=\"https://github.com/tiagoburiol/NUMETHODS/raw/master/8_SOLUCAO_NUMERICA_DE_EDOs/imagens/euler_fig01.png\" width=\"400\">\n",
    "\n",
    "A inclinação no início do intervalo é tomada como uma aproximação da inclinação média em todo o intervalo, com isso um erro é inserido. Em geral, quanto maior o tamanho do passo, maior é o erro nessa apoximação.\n",
    "\n",
    "<img src=\"https://github.com/tiagoburiol/NUMETHODS/raw/master/8_SOLUCAO_NUMERICA_DE_EDOs/imagens/euler_fig02.png\" width=\"400\">\n",
    "\n",
    "No método de Euler a inclinação é tomada como sendo a derivada primeira da função $f(x,y)$, ou seja, considerando que $\\frac{dy}{dx} = f(x,y)$, escrevemos\n",
    "\n",
    "$$ y_{i+1} = y_i + f(x_i, y_{i}) h$$\n",
    "\n",
    "Assim, a partir de um valor inicial $y_0$ conhecido obtemos estimativas para os valores subsequentes $y_1, y_2, y_3, ...$ da função.\n",
    "\n",
    "Esse método também é chamado de método de _Euler-Cauchy_ ou _ponto-inclinação_."
   ]
  },
  {
   "cell_type": "markdown",
   "metadata": {},
   "source": [
    "### Exemplo\n",
    "\n",
    "Use o método de Euler para integrar numericamente a equação:\n",
    "\n",
    "$$ \\frac{dy}{dx} = -2x^3+12x^2-20x+8.5$$\n",
    "\n",
    "de $x = 0$ a $x = 4$ com um tamanho de passo de $0.5$. A condição inicial em $x = 0$ é $y = 1$. \n",
    "\n",
    "A solução exata é dada por $y = -5.x^4+4x^3-10x^2+8.5x+1$.\n",
    "\n"
   ]
  },
  {
   "cell_type": "markdown",
   "metadata": {},
   "source": [
    "**Solução**\n",
    "Com um passo $h=0.5$, temos $x_0 = 0.0$, $x_1 = 0.5$, $x_2 = 1.0$, $x_3 = 1.5$, ..., $x_8=4.0$. Assim, a partir da equação \n",
    "\n",
    "$$ y_{i+1} = y_i + f(x_i, y_{i}) h$$\n",
    "\n",
    "com\n",
    "\n",
    "$$f(x,y)= \\frac{dy}{dx} = -2x^3+12x^2-20x+8.5$$\n",
    "\n",
    "e sabendo que em $x_0 = 0$ temos $y_0 = 1$ obtemos os valores de $y_1, y_2, y_3, ..., y_8$ \n",
    "\n",
    "Vamos fazer isso computacionalmente, em Python."
   ]
  },
  {
   "cell_type": "code",
   "execution_count": 1,
   "metadata": {},
   "outputs": [
    {
     "name": "stderr",
     "output_type": "stream",
     "text": [
      "UsageError: Line magic function `%` not found.\n"
     ]
    }
   ],
   "source": [
    "% matplotlib inline\n",
    "import numpy as np\n",
    "import matplotlib.pyplot as plt\n",
    "\n",
    "h = 0.5 #passo\n",
    "x0 = 0.0\n",
    "xn = 4.0\n",
    "\n",
    "# criamos a lista com os pontos xi\n",
    "X = np.arange(x0, xn+h, h) \n",
    "print (\"pontos xi:\", X)\n",
    "\n",
    "# lista com y0, a ser preenchida pelos yi\n",
    "Y = [1.0]                  \n",
    "\n",
    "# entramos com f(x,y)\n",
    "f = lambda x: -2*x**3 + 12*x**2 - 20*x + 8.5\n",
    "\n",
    "# laço para ir calculando os yi e preenchendo a lista\n",
    "for x in X[0:-1]:\n",
    "    Y.append(Y[-1] + f(x)*h ) #Y[-1] é o último yi calculado\n",
    "    \n",
    "# imprime\n",
    "print (\"pontos yi:\", Y)\n",
    "\n",
    "# plota\n",
    "plt.plot(X, Y, \"r-\")\n",
    "plt.grid()\n",
    "plt.show()"
   ]
  },
  {
   "cell_type": "code",
   "execution_count": null,
   "metadata": {},
   "outputs": [],
   "source": [
    "# plotando a solução exata para comparar\n",
    "Xex = np.arange(0, 4.1, 0.1)\n",
    "Yex = []\n",
    "sol_ex = lambda x: -0.5*x**4 + 4*x**3 - 10*x**2 + 8.5*x + 1.0\n",
    "\n",
    "for x in Xex:\n",
    "    Yex.append(sol_ex(x))\n",
    "\n",
    "plt.plot(X, Y, \"r-\", Xex, Yex, \"b-\")\n",
    "plt.grid()\n",
    "plt.show()"
   ]
  },
  {
   "cell_type": "markdown",
   "metadata": {},
   "source": [
    "Nesse exemplo usamos um polinômio simples para a equação diferencial para facilitar a análise de erro a seguir. Logo,\n",
    "\n",
    "$$\\frac{dy}{dx} = f(x)$$\n",
    "\n",
    "Um caso mais geral envolveria EDOs que dependam de $x$ e $y$, \n",
    "\n",
    "$$\\frac{dy}{dx} = f(x,y)$$\n",
    "\n",
    "Conforme progredirmos por esta parte do texto, nossos exemplos vão envolver cada vez mais EDOs que dependem tanto das variáveis dependentes quanto das independentes.\n"
   ]
  },
  {
   "cell_type": "markdown",
   "metadata": {},
   "source": [
    "### Exemplo\n",
    "Use o método de Euler para integrar numericamente a equação:\n",
    "\n",
    "$$ \\frac{dy}{dx} = x-y+2$$\n",
    "\n",
    "de $x = 0$ a $x = 1$ com um tamanho de passo de $0.25$. A condição inicial em $x = 0$ é $y = 2$. "
   ]
  },
  {
   "cell_type": "code",
   "execution_count": null,
   "metadata": {},
   "outputs": [],
   "source": [
    "% matplotlib inline\n",
    "import numpy as np\n",
    "import matplotlib.pyplot as plt\n",
    "\n",
    "h = 0.20 #passo\n",
    "x0 = 0.0\n",
    "xn = 1.0\n",
    "\n",
    "# criamos a lista com os pontos xi\n",
    "X = np.arange(x0, xn+h, h) \n",
    "print (\"pontos xi:\", X)\n",
    "\n",
    "# lista com y0, a ser preenchida pelos yi\n",
    "Y = [2.0]                  \n",
    "\n",
    "# entramos com f(x,y)\n",
    "f = lambda x,y: x-y+2\n",
    "\n",
    "# laço para ir calculando os yi e preenchendo a lista\n",
    "for n in range(len(X)-1):\n",
    "    Y.append(Y[n] + f(X[n],Y[n])*h ) #Y[-1] é o último yi calculado\n",
    "    \n",
    "# imprime\n",
    "print (\"pontos yi:\", Y)\n",
    "s = lambda x: np.exp(-x) + x + 1\n",
    "Xe = np.linspace(x0,xn, 20)\n",
    "Ye = s(Xe)\n",
    "\n",
    "\n",
    "# plota\n",
    "plt.plot(X, Y, \"r-\", Xe, Ye, \"b-\")\n",
    "plt.grid()\n",
    "plt.show()"
   ]
  },
  {
   "cell_type": "code",
   "execution_count": null,
   "metadata": {
    "collapsed": true,
    "jupyter": {
     "outputs_hidden": true
    }
   },
   "outputs": [],
   "source": []
  }
 ],
 "metadata": {
  "kernelspec": {
   "display_name": "Python 3 (ipykernel)",
   "language": "python",
   "name": "python3"
  },
  "language_info": {
   "codemirror_mode": {
    "name": "ipython",
    "version": 3
   },
   "file_extension": ".py",
   "mimetype": "text/x-python",
   "name": "python",
   "nbconvert_exporter": "python",
   "pygments_lexer": "ipython3",
   "version": "3.12.4"
  }
 },
 "nbformat": 4,
 "nbformat_minor": 4
}
