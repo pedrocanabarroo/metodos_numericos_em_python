{
 "cells": [
  {
   "cell_type": "markdown",
   "metadata": {},
   "source": [
    "## 1.2. Aritmética de ponto flutuante\n",
    "\n",
    "Um número no Sistema de Ponto Flutuante (STF) é caracterizado por uma base $b$, um número de dígitos significativos $n$ e um expoente $exp$. Assim, dizemos que um número real $n_r$ está representado no SPF se estiver na forma \n",
    "\n",
    "$$ n_r = \\pm 0.d_1 d_2 d_3...d_n \\times b^{exp}$$\n",
    "\n",
    "em que $m=d_1 d_2...d_n$ é a mantissa com $n$ dígitos significativos $d_1, d_2,...,d_n$ satisfazendo $0 \\leq d_i \\leq (b-1)$, $i=1,...,n$ e $d_1 \\neq 0$.\n",
    "\n",
    "O expoente $exp$ da base $b$ varia da seguinte maneira\n",
    "\n",
    "$$ exp_{min} \\leq exp \\leq exp_{max}$$\n",
    "\n",
    "sendo $ exp_{min} \\leq 0 $ e $exp_{max} \\geq 1$ com  $exp_{min}$ e $exp_{max}$ inteiros.\n",
    "\n",
    "Considerando o sistema de ponto flutuante normalizado, na forma genérica $SPF(b,n,exp_{min}, exp_{max})$, temos que apenas um conjunto finito de números reais podem ser exatamente representados, tal que\n",
    "\n",
    "a) o número zero é representado como:\n",
    "\n",
    "$$ 0.000...0 \\times b^{exp_{min}}$$\n",
    "\n",
    "b) o menor positivo exatamente representável é \n",
    "\n",
    "$$ 0.100...0 \\times b^{exp_{min}}$$\n",
    "\n",
    "c) o maior positivo exatamente representável é \n",
    "\n",
    "$$ 0.(b-1)(b-1)(b-1)...(b-1) \\times b^{exp_{max}}$$\n",
    "\n",
    "d) o número máximo de mantissas positivas possíveis é \n",
    "\n",
    "$$ mantissas_+ = (b-1)b^{n-1}$$\n",
    "\n",
    "e) o número máximo de expoentes possíveis é \n",
    "\n",
    "$$ exp_{possiveis}=exp_{max}-exp_{min}+1 $$\n",
    "\n",
    "f) o número máximo de reais positivos é\n",
    "\n",
    "$$ NR_+ = mantissas_+ \\times exp_{possiveis}$$\n",
    "\n",
    "g) assim, considerando os números negativos e o zero, o número total de números reais exatamente representáveis é\n",
    "\n",
    "$$NR_t = 2\\times NR_+ + 1$$"
   ]
  },
  {
   "cell_type": "markdown",
   "metadata": {
    "collapsed": true,
    "jupyter": {
     "outputs_hidden": true
    }
   },
   "source": [
    "**Exemplo 1.2.8:** Em Python também dispomos de algumas funções para acessar as informações do sistema de ponto flutuante:"
   ]
  },
  {
   "cell_type": "code",
   "execution_count": 9,
   "metadata": {},
   "outputs": [
    {
     "name": "stdout",
     "output_type": "stream",
     "text": [
      "Máximo representável: 1.7976931348623157e+308\n",
      "Mínimo represenável: 2.2250738585072014e-308\n",
      "Épsilon da máquina: 2.220446049250313e-16\n",
      "Todas informações: sys.float_info(max=1.7976931348623157e+308, max_exp=1024, max_10_exp=308, min=2.2250738585072014e-308, min_exp=-1021, min_10_exp=-307, dig=15, mant_dig=53, epsilon=2.220446049250313e-16, radix=2, rounds=1)\n"
     ]
    }
   ],
   "source": [
    "import sys  \n",
    "print (\"Máximo representável:\", sys.float_info.max)\n",
    "print (\"Mínimo represenável:\", sys.float_info.min)\n",
    "print (\"Épsilon da máquina:\", sys.float_info.epsilon)\n",
    "print (\"Todas informações:\", sys.float_info)"
   ]
  },
  {
   "cell_type": "markdown",
   "metadata": {},
   "source": [
    "\n",
    "**Exemplo 1.2.9:** Considere o sistema de ponto flutuante normalizado **SPF (3, 2,−1, 2)**, de base 3, 2 dígitos na mantissa, menor expoente igual a −1 e maior expoente 2.\n",
    "\n",
    "Para esse sistema tem-se que os números\n",
    "\n",
    "$$ x = \\frac{1}{9} = (0.10)_3 \\times 3^{-1} $$\n",
    "\n",
    "e\n",
    "\n",
    "$$ y = 5 = (0.12)_3 \\times 3^2 $$\n",
    "\n",
    "são exatamente representáveis, no entanto,\n",
    "\n",
    "$$ (x+y) = (0.00010)_3 \\times 3^2 + (0.12)_3 \\times 3^2 = (0.1201)_3 \\times 3^2$$\n",
    "\n",
    "não é exatamente representável, uma vez que a mantissa é de 2 dígitos. Nesse sistema $(x+y)=(0.12)_3 \\times 3^2$. Ou seja, $(x+y)=y$."
   ]
  },
  {
   "cell_type": "markdown",
   "metadata": {},
   "source": [
    "Assim, pode ocorrer de propriedades bem conhecidas no conjunto dos números reais, como  as propriedades comutativa e associativa na adição e as propriedades comutativa e distributiva na multiplicação, não serem verdadeiras no sistema de ponto flutuante\n",
    "\n",
    "Por exemplo, em um sistema de ponto flutuante, base decimal, 3 dígitos e arredondamento, as seguintes operações geram **erros de arredondamento**\n",
    "\n",
    "Sejam $x=5.26$, $y=9.34$ e $z = 5.04$. Então:\n",
    "\n",
    "$$ (x+y)+z = (5.26 + 9.34) + 5.04 = 14.6 + 5.04 = 19.6 $$\n",
    "\n",
    "e\n",
    "\n",
    "$$ x+(y+z)=5.26+(9.34+5.04)=5.26+14.4=19.7$$\n",
    "\n",
    "Ou seja, \n",
    "\n",
    "$$ x+(y+z) \\neq (x+y) +z$$\n"
   ]
  },
  {
   "cell_type": "markdown",
   "metadata": {},
   "source": [
    "**Exemplo 1.2.10:** Exemplos de somas que fornecem resultados diferentes de forem realizadas em uma ordem diferente. Tente explicar."
   ]
  },
  {
   "cell_type": "code",
   "execution_count": 10,
   "metadata": {},
   "outputs": [
    {
     "name": "stdout",
     "output_type": "stream",
     "text": [
      "0.2 + 0.4 - 0.5 = 0.10000000000000009\n",
      "- 0.5 + 0.4 + 0.2 = 0.10000000000000003\n",
      "0.2 -0.1 + 0.2 - 0.1 = 0.20000000000000004\n",
      "0.2 - 0.1 + (0.2 - 0.1) = 0.2\n",
      "0.2 + 0.3 + 0.1 = 0.6\n",
      "0.2 + 0.1 + 0.3 = 0.6000000000000001\n"
     ]
    }
   ],
   "source": [
    "print (\"0.2 + 0.4 - 0.5 =\", 0.2 + 0.4 - 0.5)\n",
    "print (\"- 0.5 + 0.4 + 0.2 =\", - 0.5 + 0.4 + 0.2)\n",
    "print (\"0.2 -0.1 + 0.2 - 0.1 =\", 0.2 -0.1 + 0.2 - 0.1)\n",
    "print (\"0.2 - 0.1 + (0.2 - 0.1) =\", 0.2 - 0.1 + (0.2 - 0.1))\n",
    "print (\"0.2 + 0.3 + 0.1 =\", 0.2 + 0.3 + 0.1 )\n",
    "print (\"0.2 + 0.1 + 0.3 =\", 0.2 + 0.1 + 0.3) \n"
   ]
  },
  {
   "cell_type": "markdown",
   "metadata": {},
   "source": [
    "**Exemplo 1.2.11:** Alguns exemplos de operações simples que ilustram erros devido à limitação do computador em representar certos números reais. "
   ]
  },
  {
   "cell_type": "code",
   "execution_count": 11,
   "metadata": {},
   "outputs": [
    {
     "data": {
      "text/plain": [
       "False"
      ]
     },
     "execution_count": 11,
     "metadata": {},
     "output_type": "execute_result"
    }
   ],
   "source": [
    "0.1 + 0.2 == 0.3\n"
   ]
  },
  {
   "cell_type": "code",
   "execution_count": 12,
   "metadata": {},
   "outputs": [
    {
     "data": {
      "text/plain": [
       "0.6000000000000001"
      ]
     },
     "execution_count": 12,
     "metadata": {},
     "output_type": "execute_result"
    }
   ],
   "source": [
    "0.4 + 0.2\n"
   ]
  },
  {
   "cell_type": "code",
   "execution_count": 13,
   "metadata": {},
   "outputs": [
    {
     "data": {
      "text/plain": [
       "Decimal('0.1000000000000000055511151231257827021181583404541015625')"
      ]
     },
     "execution_count": 13,
     "metadata": {},
     "output_type": "execute_result"
    }
   ],
   "source": [
    "from decimal import Decimal\n",
    "Decimal(0.1)"
   ]
  },
  {
   "cell_type": "markdown",
   "metadata": {},
   "source": [
    "**Exemplo 1.2.12:** \n",
    "Considere o seguinte processo iterativo\n",
    "\n",
    "$$x^{(0)} = \\frac{1}{3}$$\n",
    "\n",
    "e\n",
    "\n",
    "$$x^{(n+1)} = 4x^{(n)}-1, \\,\\,\\,\\, n=1,2,...$$\n",
    "\n",
    "O resultado dessa sequência é \n",
    "\n",
    "$$x^{(1)}=x^{(2)}=x^{(3)}=...=x^{(n)}=\\frac{1}{3}$$\n",
    "\n",
    "Agora observe o programa abaixo. Você pode explicar os resultados?"
   ]
  },
  {
   "cell_type": "code",
   "execution_count": 14,
   "metadata": {},
   "outputs": [
    {
     "name": "stdout",
     "output_type": "stream",
     "text": [
      "0.33333333333333326\n",
      "0.33333333333333304\n",
      "0.33333333333333215\n",
      "0.3333333333333286\n",
      "0.3333333333333144\n",
      "0.33333333333325754\n",
      "0.33333333333303017\n",
      "0.3333333333321207\n",
      "0.3333333333284827\n",
      "0.3333333333139308\n",
      "0.3333333332557231\n",
      "0.3333333330228925\n",
      "0.3333333320915699\n",
      "0.3333333283662796\n",
      "0.3333333134651184\n",
      "0.33333325386047363\n",
      "0.33333301544189453\n",
      "0.3333320617675781\n",
      "0.3333282470703125\n",
      "0.33331298828125\n"
     ]
    }
   ],
   "source": [
    "x = 1/3\n",
    "for i in range(20):\n",
    "    x = 4*x -1\n",
    "    print (x)"
   ]
  },
  {
   "cell_type": "markdown",
   "metadata": {},
   "source": [
    "**Exercícios:**\n",
    "\n",
    "(Fontes: Ruggiero (2016), [Chapra e Canale (2016)](https://integrada.minhabiblioteca.com.br/reader/books/9788580555691/pageid/87)) \n",
    "\n",
    "\n",
    "\n",
    "**1.** Converta os seguintes números decimais para sua forma binária:\n",
    "\n",
    "  $$a) (37)_{10} \\quad  b) (2345)_{10} \\quad  c) (0,1217)_{10} \\quad\n",
    "  d) (71,263)_{10} \\quad  e) (3,147)_{10} \\quad  f) (625,125)_{10}$$\n",
    "\n",
    "**2.** Converta os seguintes números na base 2 para a base 10:\n",
    "   \n",
    "$$a) (101101)_{2} \\quad b) (101,101)_{2} \\quad c) (110101011)_{2} \\quad \n",
    "d) (0,1101)_{2} \\quad e) (0,111111101)_{2} \\quad f) (0,01101)_{2} \\quad$$\n",
    "\n",
    "\n",
    "**3.** Seja um sistema de aritmética de ponto flutuante de quatro dígitos e base decimal. Dados os números:\n",
    "\n",
    "$$\n",
    "x=0.7237 \\times 10^4 \\quad y=0.2145 \\times 10^{-3} \\quad \\text { e } \\quad z=0.2585 \\times 10^1\n",
    "$$\n",
    "\n",
    "efetue as seguintes operações e obtenha o erro relativo no resultado, supondo que $x, y$ e z estão exatamente representados:\n",
    "\n",
    "a) $\\mathrm{x}+\\mathrm{y}+\\mathrm{z}$\n",
    "\n",
    "d) $(\\mathrm{xy}) / \\mathrm{z}$\n",
    "\n",
    "b) $x-y-z$\n",
    "\n",
    "e) $\\mathrm{x}(\\mathrm{y} / \\mathrm{z})$\n",
    "\n",
    "c) $\\mathrm{x} / \\mathrm{y}$\n",
    "\n",
    "\n",
    "\n",
    "**4.**\t(a) Calcule o polinômio $y = x^3-5x^2+6x+0,55$\n",
    "em $x = 1,37$. Use aritmética com 3 algarismos significativos e truncamento. Estime o erro.\n",
    "\n",
    "(b) Repita (a), mas expresse $y$ como $y = ((x – 5)x + 6)x + 0,55$\n",
    "Estime o erro e compare com a parte (a)\n",
    "\n",
    "**5.** Use aritmética com 5 algarismos significativos para determinar as raízes da equação \n",
    "\n",
    "$$x^2 – 5000,002x + 10=0$$\n",
    "\n",
    "com as fórmulas\n",
    "\n",
    "$$x=\\frac{-b \\pm \\sqrt{b^2- 4ac}} {2a}$$\n",
    "\n",
    "e\n",
    "\n",
    "$$x=\\frac{-2c}{b \\pm \\sqrt{b^2 -4ac}}.$$\n",
    "Então, calcule os erros percentuais para o seu resultado.\n",
    "\n",
    "**6.** Faça seu próprio programa para determinar o épsilon da máquina do seu computador."
   ]
  },
  {
   "cell_type": "markdown",
   "metadata": {},
   "source": [
    "**Respostas:**\n",
    "\n",
    "**1.**   $a) (100101)_{2} \\quad  b) (100100101001)_{2} \\quad  c) (0,000111110010)_{2}$\n",
    "$d) (1000111,010000110101...)_{2} \\quad  e) (11,0010010110100...)_{2} \\quad  f) (1001110001,001)_{2}$\n",
    "\n",
    "**2.** $a) (45)_{10} \\quad b) (5,625)_{10} \\quad c) (427)_{10} \\quad \n",
    "d) (0,8125)_{10} \\quad e) (0,994140625)_{10} \\quad f) (0,40625)_{10} \\quad$\n",
    "\n",
    "**3.** $a)\\mathrm{x}+\\mathrm{y}+\\mathrm{z}=0.7240 \\times 10^4$ $\\quad \\left|\\mathrm{ER}_{\\mathrm{x}+\\mathrm{y}+\\mathrm{z}}\\right|<10^{-3}$\n",
    "\n",
    "$b) \\mathrm{x}-\\mathrm{y}-\\mathrm{z}=0.7234 \\times 10^4$\n",
    "$\\quad \\left|\\mathrm{ER}_{\\mathrm{x}-\\mathrm{y}-\\mathrm{z}}\\right|<1.0002 \\times 10^{-3}$\n",
    "\n",
    "$c)\\mathrm{x} / \\mathrm{y}=0.3374 \\times 10^8$\n",
    "$\\quad \\left|E R_{x / y}\\right|<\\frac{1}{2} \\times 10^{-3}$\n",
    "\n",
    "$d) (\\mathrm{xy}) / \\mathrm{z}=0.6004$\n",
    "$\\quad \\left|\\mathrm{ER}_{(\\mathrm{xy}) / \\mathrm{z}}\\right|<10^{-3}$\n",
    "\n",
    "$e) \\mathrm{x}(\\mathrm{y} / \\mathrm{z})=0.6005$\n",
    "$\\quad\\left|\\mathrm{ER}_{\\mathrm{x}(\\mathrm{y} / \\mathrm{z})}\\right|<10^{-3}$"
   ]
  },
  {
   "cell_type": "code",
   "execution_count": null,
   "metadata": {},
   "outputs": [],
   "source": []
  }
 ],
 "metadata": {
  "kernelspec": {
   "display_name": "Python 3 (ipykernel)",
   "language": "python",
   "name": "python3"
  },
  "language_info": {
   "codemirror_mode": {
    "name": "ipython",
    "version": 3
   },
   "file_extension": ".py",
   "mimetype": "text/x-python",
   "name": "python",
   "nbconvert_exporter": "python",
   "pygments_lexer": "ipython3",
   "version": "3.12.4"
  }
 },
 "nbformat": 4,
 "nbformat_minor": 4
}
