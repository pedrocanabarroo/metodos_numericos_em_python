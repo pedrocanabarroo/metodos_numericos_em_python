{
 "cells": [
  {
   "cell_type": "markdown",
   "metadata": {},
   "source": [
    "# 7.1 Introdução e conceitos fundamentais \n",
    "A integração numérica é útil em situações onde não se conhece a expressão analítica da função a ser integrada ou quando a função primitiva é difícil de se obter ou não existe. Uma forma de se calcular uma aproximação numérica para uma integral é por meio da integração do polinômio interpolador. Esse processo é conhecido como quadratura de Newton-Cotes e é desenvolvido por meio das fórmulas conhecidas como *Regra dos Trapézios*, *Regra 1/3 de Simpson* e *Regra 3/8 de Simpson*.\n",
    "\n",
    "Considere uma função $f(x)$ contínua no intervalo [$a,b$]. Então, sabemos que\n",
    "\n",
    "$$I=\\int_a^b f(x)dx = F(b) - F(a)$$\n",
    "\n",
    "em que a função $F(x)$ é chamada função primitiva, tal que $F'(x) = f(x)$.\n",
    "\n",
    "Graficamente, considerando a função $f(x) \\geq 0$, para todo $x \\in [a,b]$ podemos interpretar a intergral $I=\\int_a^b f(x)dx$ como a área entre a curva de $f$ e o eixo das abcissas:\n",
    "\n",
    "![integral_area.jpg](https://github.com/tiagoburiol/NUMETHODS/raw/master/7_INTEGRACAO_NUMERICA/imagens/integral_area.jpg)\n",
    "\n",
    "Os métodos numéricos para cálculo de integrais definidas consistem em aproximar a função $f(x)$ pelo polinômio interpolador $P(x)$ e integrar o polinômio. Assim, temos:\n",
    "\n",
    "$$ \\int_{x_0}^{x_n} f(x) dx \\approx \\int_{x_0}^{x_n} P(x) dx $$\n",
    "\n",
    "Por exemplo, graficamente, poderíamos ter a seguinte aproximação para a integral, usando um polinômio de grau 2:\n",
    "\n",
    "![simpson1.jpg](https://github.com/tiagoburiol/NUMETHODS/raw/master/7_INTEGRACAO_NUMERICA/imagens/simspon1.jpg)\n",
    "\n"
   ]
  },
  {
   "cell_type": "markdown",
   "metadata": {
    "collapsed": true
   },
   "source": [
    "## Fómulas de quadratura de Newton-Cotes\n",
    "Considere $f(x)$ definida em $x_0,x_1,...,x_n$, $(n+1)$ pontos distintos e equidistantes do intervalo $[a,b]$, em que $h = x_{i+1}-x_i$, $i=0,1,...,n-1$. Seja $P(x)$ o polinômio interpolador de $f(x)$, nos pontos $x_0,...,x_1$ do intervalo $[a,b]$ tal que $a=x_0$ e $b=x_1. Considerando que $f(x)$ é suficientemente diferenciável, sabemos, da interpolação polinomial, que\n",
    "\n",
    "$$ f(x) = P_n(x)+E_n(x)$$\n",
    "\n",
    "em que \n",
    "\n",
    "$$E_n(x) = (x-x_0)(x-x_1)...(x-x_n)\\frac{f^{(n+1)}(\\xi)}{(n+1)!}$$\n",
    "\n",
    "com $x_0 \\leq \\xi \\leq x_n$. Assim,\n",
    "\n",
    "$$ \\int_{x_0}^{x_n} f(x) dx \\approx \\int_{x_0}^{x_n} P_n(x) dx$$\n",
    "\n",
    "com erro dado por \n",
    "\n",
    "$$ \\int_{x_0}^{x_n} E_n(x) dx $$\n",
    "\n",
    "Como os pontos são equidistantes, fazemos a troca de variável $u = \\frac{x-x_0}{h}$ e o erro na integração numérica será dados por\n",
    "\n",
    "$$ E_n = \\int_{x_0}^{x_n} E_n(x) dx = h \\int_{0}^{n} E_n(u) = h \\int_{0}^{n} \\frac{u(u-1)(u-2)...(u-n)}{(n+1)!} h^{n+1}f^{(n+1)}(\\xi_u) du$$"
   ]
  },
  {
   "cell_type": "code",
   "execution_count": null,
   "metadata": {
    "collapsed": true
   },
   "outputs": [],
   "source": []
  }
 ],
 "metadata": {
  "kernelspec": {
   "display_name": "Python 3",
   "language": "python",
   "name": "python3"
  },
  "language_info": {
   "codemirror_mode": {
    "name": "ipython",
    "version": 3
   },
   "file_extension": ".py",
   "mimetype": "text/x-python",
   "name": "python",
   "nbconvert_exporter": "python",
   "pygments_lexer": "ipython3",
   "version": "3.5.1"
  }
 },
 "nbformat": 4,
 "nbformat_minor": 0
}
