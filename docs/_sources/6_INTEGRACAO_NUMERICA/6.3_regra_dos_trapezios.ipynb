{
 "cells": [
  {
   "cell_type": "markdown",
   "metadata": {},
   "source": [
    "## 7.2 Regra dos trapézios \n",
    "\n",
    "Considere uma função $f(x)$ definida nos pontos $x_0$ e $x_1$ no intervalo $[a,b]$. O polinômio de Lagrange para  esses pontos, considerando a mudança de variável $u = \\frac{x-x_0}{h}$, é dado por\n",
    "\n",
    "$$ P(u) =  f(x_0) (1-u) + f(x_1)(u)$$\n",
    "\n",
    "e a integral pode ser aproximada como segue \n",
    "\n",
    "$$ \\int_{x_0}^{x_n} f(x) dx \\approx \\int_{x_0}^{x_1} P_1(x) dx= h \\int_{0}^{1} P_1(u) du $$\n",
    "\n",
    "ou, ainda,\n",
    "\n",
    "$$ h \\int_{0}^{1} P_1(u) du  = h \\int_{0}^{1} [f(x_0) (1-u) + f(x_1)(u)] du = h f(x_0) \\int_{0}^{1} (1-u) du + hf(x_1)\\int_{0}^{1} (u) du$$\n",
    "\n",
    "que resulta em \n",
    "\n",
    "$$ \\int_{x_0}^{x_n} f(x) dx \\approx \\frac{h}{2} [f(x_0)+f(x_1)]$$\n",
    "\n",
    "que coincide com a fórmula da área do trapézio.\n",
    "\n",
    "\n",
    "Graficamente, tem-se\n",
    "\n",
    "<img src=\"https://github.com/tiagoburiol/NUMETHODS/raw/master/7_INTEGRACAO_NUMERICA/imagens/trapexio.jpg\" width=\"400\">\n",
    "\n",
    "### Erro na regra dos trapézios\n",
    "\n",
    "O erro na regra dos trapézios será dado por\n",
    "\n",
    "$$E_1 = -\\frac{h^3}{12}f^{(2)}(\\xi)$$\n",
    "\n",
    "com $x_0 \\leq \\xi \\leq x_1$.\n",
    "\n",
    "Um **limitante superior** para o erro será dado por \n",
    "\n",
    "$$ |E_1| \\leq \\frac{h^3}{12} max.\\{|f^{(2)}(x)|, x_0 \\leq x \\leq x_1 \\}$$\n",
    "\n",
    "\n",
    "### Regra dos trapézios gerneralizada\n",
    "\n",
    "Consiste na subdivisão do intervalo $[a,b]$ em $n$ subintervalos iguais, de amplitude $h=\\frac{x_n-x_0}{n}$, $x_0=a$ e $x_n=b$ e aplicarmos a regra dos trapézios a cada dois pontos consecutivos.\n",
    "\n",
    "<img src=\"https://github.com/tiagoburiol/NUMETHODS/raw/master/7_INTEGRACAO_NUMERICA/imagens/trapezio2.jpg\" width=\"580\">\n",
    "\n",
    "\n",
    "\n",
    "Assim, temos \n",
    "\n",
    "$$ \\int_{x_0}^{x_n} f(x) dx \\approx \\frac{h}{2} [f(x_0)+f(x_1)] + \\frac{h}{2} [f(x_2)+f(x_2)] + ... + \\frac{h}{2} [f(x_{n-1})+f(x_n)]=$$\n",
    "\n",
    "$$ = \\frac{h}{2} [f(x_0)+ 2f(x_1) + 2f(x_2)+...+2f(x_{n-1})+f(x_n)] = $$\n",
    "\n",
    "$$ = \\frac{h}{2} \\{f(x_0)+ 2[f(x_1) + f(x_2)+...+f(x_{n-1})]+f(x_n)\\}  $$\n",
    "\n",
    "E o **limitante superior** para o erro será dado por\n",
    "\n",
    "$$ |E_t| \\leq \\frac{h^2}{12}(x_n-x_0) max.\\{|f^{(2)}(x)|, x_0 \\leq x \\leq x_n \\}$$"
   ]
  },
  {
   "cell_type": "markdown",
   "metadata": {
    "collapsed": true
   },
   "source": [
    "### Exemplo\n",
    "Calcule o valor aproximado da integral \n",
    "\n",
    "$$ \\int_1^4 \\sqrt{x} \\,\\,dx$$\n",
    "\n",
    "usando a regra dos trapézios generalizada para 2, 4 e 6 subintervalos e um limitante superior para o erro."
   ]
  },
  {
   "cell_type": "code",
   "execution_count": 2,
   "metadata": {},
   "outputs": [
    {
     "name": "stdout",
     "output_type": "stream",
     "text": [
      "[1.    1.003 1.006 ... 3.994 3.997 4.   ]\n",
      "Resultado Trapézio:  4.666666479166708\n"
     ]
    }
   ],
   "source": [
    "import numpy as np\n",
    "# Dados do enunciado\n",
    "x0 = 1.0\n",
    "xn = 4.0 \n",
    "n = 1000    # nº de subintervalos\n",
    "\n",
    "h = (xn-x0)/n\n",
    "f = lambda x: np.sqrt(x)\n",
    "\n",
    "# Criando n+1 pontos igualmente espacados \n",
    "X = np.linspace(x0, xn, n+1)\n",
    "print (X)\n",
    "\n",
    "# Regra dos trapézios usando funções do numpy\n",
    "It = (h/2)*(f(X[0]) + 2*np.sum(f(X[1:n])) + f(X[-1]))\n",
    "print (\"Resultado Trapézio: \", It)"
   ]
  },
  {
   "cell_type": "markdown",
   "metadata": {
    "collapsed": true
   },
   "source": [
    "A regra dos trapézios também está disponível na biblioteca do Scipy como uma das funções para integração numérica. Assim, podemos chegar no mesmo resultado acima fazendo:"
   ]
  },
  {
   "cell_type": "code",
   "execution_count": 4,
   "metadata": {},
   "outputs": [
    {
     "name": "stdout",
     "output_type": "stream",
     "text": [
      "I = 4.666666479166707\n"
     ]
    }
   ],
   "source": [
    "print (\"I =\", np.trapz(f(X), dx=h))  # entra com valores de f(xi) e de h\n"
   ]
  },
  {
   "cell_type": "markdown",
   "metadata": {},
   "source": [
    "ou"
   ]
  },
  {
   "cell_type": "code",
   "execution_count": 5,
   "metadata": {},
   "outputs": [
    {
     "name": "stdout",
     "output_type": "stream",
     "text": [
      "I = 4.666666479166707\n"
     ]
    }
   ],
   "source": [
    "print (\"I =\", np.trapz(f(X), X)) # entra com valores de f(xi) e de xi"
   ]
  },
  {
   "cell_type": "code",
   "execution_count": null,
   "metadata": {},
   "outputs": [],
   "source": []
  }
 ],
 "metadata": {
  "kernelspec": {
   "display_name": "Python 3",
   "language": "python",
   "name": "python3"
  },
  "language_info": {
   "codemirror_mode": {
    "name": "ipython",
    "version": 3
   },
   "file_extension": ".py",
   "mimetype": "text/x-python",
   "name": "python",
   "nbconvert_exporter": "python",
   "pygments_lexer": "ipython3",
   "version": "3.8.5"
  }
 },
 "nbformat": 4,
 "nbformat_minor": 1
}
