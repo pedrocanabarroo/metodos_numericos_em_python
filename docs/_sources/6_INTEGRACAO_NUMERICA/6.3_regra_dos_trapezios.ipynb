{
 "cells": [
  {
   "cell_type": "markdown",
   "id": "4f378db0-e498-4c7b-b5bc-ff81bf6a8eb3",
   "metadata": {},
   "source": [
    "## 6.3 Regra dos trapézios \n",
    "\n",
    "Consiste am aproximar a integral da função em um intervalo [𝑎,𝑏] pela integral do polinômio de grau 1 que passa pelos pontos (𝑎,𝑓(𝑎)) e (𝑏,𝑓(𝑏)). Se 𝑓(𝑥)>0 em [𝑎,𝑏] a área entre o gráfico da função e o eixo 𝑥 é aproximado pela área do trapézio de altura ℎ=𝑏−𝑎 e bases 𝑓(𝑎) e 𝑓(𝑏).\n",
    "\n",
    "Considere uma função $f(x)$ definida nos pontos $x_0$ e $x_1$ no intervalo $[a,b]$. O polinômio de Lagrange para  esses pontos, considerando a mudança de variável $u = \\frac{x-x_0}{h}$, é dado por\n",
    "\n",
    "$$P(u) =  f(x_0) (1-u) + f(x_1)(u)$$\n",
    "\n",
    "e a integral pode ser aproximada como segue \n",
    "\n",
    "$$\\int_{x_0}^{x_n} f(x) dx \\approx \\int_{x_0}^{x_1} P_1(x) dx= h \\int_{0}^{1} P_1(u) du$$\n",
    "\n",
    "ou, ainda,\n",
    "\n",
    "$$h \\int_{0}^{1} P_1(u) du  = h \\int_{0}^{1} [f(x_0) (1-u) + f(x_1)(u)] du = h f(x_0) \\int_{0}^{1} (1-u) du + hf(x_1)\\int_{0}^{1} (u) du$$\n",
    "\n",
    "que resulta em \n",
    "\n",
    "$$\\int_{x_0}^{x_n} f(x) dx \\approx \\frac{h}{2} [f(x_0)+f(x_1)]$$\n",
    "\n",
    "ou seja, tem-se aqui a fórmula da área do trapézio.\n",
    "\n",
    "\n",
    "Graficamente, tem-se\n",
    "\n",
    "<img src=\"imagens/trapezio.png\" width=\"400\">\n",
    "Figura 6.3 - Interpretação geométrica da regra dos trapézios\n",
    "\n",
    "\n",
    "Um **limitante superior** para o erro será dado por \n",
    "\n",
    "$$|E_1| \\leq \\frac{h^3}{12} max.\\{|f^{(2)}(x)|, x_0 \\leq x \\leq x_1 \\}$$\n",
    "\n",
    "\n",
    "A **regra dos trapézios repetida** (ou generalizada), consiste na subdivisão do intervalo $[a,b]$ em $n$ subintervalos iguais, de amplitude $h=\\frac{x_n-x_0}{n}$, $x_0=a$ e $x_n=b$ e na aplicação da regra dos trapézios repetidamente a cada dois pontos consecutivos.\n",
    "\n",
    "Assim, temos \n",
    "\n",
    "$$\\int_{x_0}^{x_n} f(x) dx \\approx \\frac{h}{2} [f(x_0)+f(x_1)] + \\frac{h}{2} [f(x_2)+f(x_2)] + ... + \\frac{h}{2} [f(x_{n-1})+f(x_n)]=$$\n",
    "\n",
    "$$= \\frac{h}{2} [f(x_0)+ 2f(x_1) + 2f(x_2)+...+2f(x_{n-1})+f(x_n)] =$$\n",
    "\n",
    "$$= \\frac{h}{2} \\{f(x_0)+ 2[f(x_1) + f(x_2)+...+f(x_{n-1})]+f(x_n)\\}$$\n",
    "\n",
    "E o **limitante superior** para o erro será dado por\n",
    "\n",
    "$$|E_t| \\leq \\frac{h^2}{12}(x_n-x_0) max.\\{|f^{(2)}(x)|, x_0 \\leq x \\leq x_n \\}$$"
   ]
  },
  {
   "cell_type": "markdown",
   "id": "7626bcb5-f5ea-4fad-94f6-5c34b15c7458",
   "metadata": {},
   "source": [
    "**Exemplo 6.2:** Vamos calcular o valor aproximado da integral \n",
    "\n",
    "$$\\int_{1.5}^{5.5} \\frac{1}{x}dx$$\n",
    "\n",
    "usando a regra dos trapézios.\n",
    "\n",
    "_Solução:_ Basta fazer  $$\\int_{1.5}^{5.5} \\frac{1}{x} dx \\approx \\frac{4}{2} [f(1.5)+f(5.5)] = 2 \\left( \\frac{1}{1.5} + \\frac{1}{5.5} \\right) \\approx 1.697$$\n",
    "\n",
    "<img src=\"imagens/trapezioExemplo.png\" width=\"400\">\n",
    "\n",
    "Resolvendo analiticamente o valor exato é $ln(5.5)$ - $ln(1.5)$ que pode ser calculado usando  uma calculadora obtendo-se $1.2992829841302609$. O valor obtido pela regra do trapézio é maior, como pode ser verificado observando na figura, comparando-se as áreas. Vamos usar a regra dos trapézios repetida para 5, 10 e 100 subintervalos para ver como fica."
   ]
  },
  {
   "cell_type": "code",
   "execution_count": 1,
   "id": "6f8c1572-2531-43ed-b49a-e019cfa0d944",
   "metadata": {},
   "outputs": [],
   "source": [
    "import numpy as np"
   ]
  },
  {
   "cell_type": "code",
   "execution_count": 2,
   "id": "2ffb789d-d99a-4d89-9f08-d4b16940ab91",
   "metadata": {},
   "outputs": [
    {
     "name": "stdout",
     "output_type": "stream",
     "text": [
      "n= 5 , I= 1.3206255135651455\n",
      "n= 10 , I= 1.304727563368882\n",
      "n= 100 , I= 1.2993378314867685\n"
     ]
    }
   ],
   "source": [
    "x0 = 1.5; xn = 5.5 \n",
    "f = lambda x: 1/x\n",
    "\n",
    "for n in [5,10,100]:\n",
    "    h = (xn-x0)/n\n",
    "    xi = np.linspace(x0, xn, n+1)   \n",
    "    It = h*((f(xi[0])+f(xi[-1]))/2 + np.sum(f(xi[1:-1])))\n",
    "    print (\"n=\",n,\", I=\",It)"
   ]
  },
  {
   "cell_type": "markdown",
   "id": "0112f1cd-7fd5-44c2-b97e-a7c480972ba6",
   "metadata": {},
   "source": [
    "A biblioteca `numpy` já traz uma implementação da regra dos trapézios. Veja como usar no exemplo a seguir com os pontos, o espaçameto e a função definidos acima."
   ]
  },
  {
   "cell_type": "code",
   "execution_count": 3,
   "id": "ce852b9f-6f9a-4aa6-83c5-a70d958296ff",
   "metadata": {},
   "outputs": [
    {
     "data": {
      "text/plain": [
       "1.2993378314867685"
      ]
     },
     "execution_count": 3,
     "metadata": {},
     "output_type": "execute_result"
    }
   ],
   "source": [
    "np.trapz(f(xi),dx=h)"
   ]
  },
  {
   "cell_type": "markdown",
   "id": "4dca3166-fda2-4b1b-bc1e-7966b383ceb2",
   "metadata": {},
   "source": [
    "A biblioteca `scipy` também possui funções para integrais definidas. Para saber mais pesquise por  `scipy.integrate`. "
   ]
  },
  {
   "cell_type": "markdown",
   "id": "e6713a3a-e060-4c1a-a1d2-aef760e0b1d5",
   "metadata": {},
   "source": [
    "**Exemplo 6.2:** Vamos calcular o valor aproximado da integral \n",
    "\n",
    "$$\\int_1^4 \\sqrt{x}dx$$\n",
    "\n",
    "usando a regra dos trapézios generalizada para 2, 4 e 6 subintervalos e obter um limitante superior para o erro."
   ]
  },
  {
   "cell_type": "code",
   "execution_count": 4,
   "id": "37af39b2-9536-4062-b54d-5d6ebad89dbe",
   "metadata": {},
   "outputs": [
    {
     "data": {
      "text/plain": [
       "6.772340295647981"
      ]
     },
     "execution_count": 4,
     "metadata": {},
     "output_type": "execute_result"
    }
   ],
   "source": [
    "f = lambda x: np.sqrt(x)\n",
    "xi = np.linspace(1, 5, 6)\n",
    "np.trapz(f(xi), xi)"
   ]
  },
  {
   "cell_type": "code",
   "execution_count": 5,
   "id": "6d1e9aa2-4fee-466e-9a20-0392532e3f8a",
   "metadata": {},
   "outputs": [
    {
     "data": {
      "text/plain": [
       "6.78322070363297"
      ]
     },
     "execution_count": 5,
     "metadata": {},
     "output_type": "execute_result"
    }
   ],
   "source": [
    "xi = np.linspace(1, 5, 11)\n",
    "np.trapz(f(xi), xi)"
   ]
  },
  {
   "cell_type": "code",
   "execution_count": 6,
   "id": "5d9cf837-3a07-421d-9205-a74c7de39bb8",
   "metadata": {},
   "outputs": [
    {
     "data": {
      "text/plain": [
       "6.786856407214704"
      ]
     },
     "execution_count": 6,
     "metadata": {},
     "output_type": "execute_result"
    }
   ],
   "source": [
    "xi = np.linspace(1, 5, 101)\n",
    "np.trapz(f(xi), xi)"
   ]
  },
  {
   "cell_type": "code",
   "execution_count": null,
   "id": "3f5ed465-66a5-42ac-9c7f-a44e4edf98cb",
   "metadata": {},
   "outputs": [],
   "source": []
  },
  {
   "cell_type": "code",
   "execution_count": null,
   "id": "c1a60b3d-6987-4c39-aa43-e6ce0a2036e3",
   "metadata": {},
   "outputs": [],
   "source": []
  },
  {
   "cell_type": "code",
   "execution_count": null,
   "id": "2951569a-016b-4321-979f-cc87c6c223bc",
   "metadata": {},
   "outputs": [],
   "source": []
  }
 ],
 "metadata": {
  "kernelspec": {
   "display_name": "Python 3 (ipykernel)",
   "language": "python",
   "name": "python3"
  },
  "language_info": {
   "codemirror_mode": {
    "name": "ipython",
    "version": 3
   },
   "file_extension": ".py",
   "mimetype": "text/x-python",
   "name": "python",
   "nbconvert_exporter": "python",
   "pygments_lexer": "ipython3",
   "version": "3.12.4"
  }
 },
 "nbformat": 4,
 "nbformat_minor": 5
}
