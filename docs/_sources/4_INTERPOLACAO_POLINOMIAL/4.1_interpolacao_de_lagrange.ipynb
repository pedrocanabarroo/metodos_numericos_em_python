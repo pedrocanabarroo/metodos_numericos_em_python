{
 "cells": [
  {
   "cell_type": "markdown",
   "metadata": {},
   "source": [
    "## 4.1. Intepolação polinomial\n",
    "\n",
    "A interpolação polinomial é um método de aproximação de funções por polinômios. A interpolação é utilizada quando se conhece apenas alguns pontos da função ou quando a função é muito complicada e difícil de manejar. Os polinômios têm a vantagem de serem fáceis de derivar e integrar. Além disso, é possível provar que qualquer função contínua pode ser arbitrariamente aproximada por um polinômio (teorema de Weierstrass). \n",
    "\n",
    "Outra particularidade é que o valor numérico de um polinômio \n",
    "\n",
    "$$P_n(x)= a_0 + a_1x + a_2x^2+...+a_nx^n$$ \n",
    "\n",
    "para algum valor real de $x$ pode ser calculado com um número reduzido de operações aritméticas escrevendo-o na forma\n",
    "\n",
    "$$P_n(x)=a_0+x(a_1+x(a_2+x(...+x(a_{n-1}+xa_n)...)))$$\n",
    "\n",
    "o que apresenta algumas vantagens computacionalmente, como veremos mais para frente ao realizar a interpolação pela fórmula de Newton."
   ]
  },
  {
   "cell_type": "markdown",
   "metadata": {},
   "source": [
    "Interpolar uma função $f(x) = y$ em um conjunto de $n+1$ pontos distintos ${x_0,x_1,...,x_n}$ de um intervalo $[a,b]$ por um polinômio de significa encontrar $P_n(x)= a_0 + a_1x+...+ax^n$ tal que $P(x_i)=y_i$ com  $i = 0,1,...,n$. Ou seja, significa encontrar o polinômio de grau $n$ que \"passa\" por  esses pontos. \n",
    "\n",
    "Na figura abaixo é mostrada um polinômio que interpola uma função a partir de 6 pontos. É possível observar que o polinômio passa pelos pontos, ou seja, $P(x_i) = y_i$, $i=0,1,...,5$, e que aproxima a função razoavelmente bem a função no intervalo de $x_1$ até $x_5$. No intervalo entre $x_0$ e $x_1$ a aproximação não é tão boa e fora do intervalo $(x_0,x_5)$ parece não funcionar muito bem.   \n",
    "\n",
    "<img src=\"imagens/figura_3.1.png\" width=\"800\">\n",
    "\n"
   ]
  },
  {
   "cell_type": "markdown",
   "metadata": {},
   "source": [
    "O caso mais simples de interpolação que podemos analisar é o de encontrar a reta (polinômio de grau 1) que passa por dois pontos, $(x_0, y_0)$ e $(x_1,y_1)$. Nesse caso, o polinômio tem a forma $P(x)=a_0+a_1x$ e para determiná-lo basta encontrar os coeficientes $a_0$ e $a_1$ da única reta que passa por esses dois pontos. Logo, os coeficientes podem ser obtidos resolvendo o sistema linear:"
   ]
  },
  {
   "cell_type": "markdown",
   "metadata": {},
   "source": [
    "$\\begin{cases} \n",
    "       y_0 = a_0 + a_1 x_0\\\\ \n",
    "       y_1 = a_0 + a_1 x_1\\\\\n",
    "\\end{cases}$\n",
    "ou, na forma matricial\n",
    "$\\left[\\begin{array}{cc} \n",
    "          1 & x_0 \\\\ \n",
    "\t      1 & x_1 \\\\ \n",
    "\\end{array} \\right]\n",
    "\\left[\\begin{array}{c} \n",
    "          a_0 \\\\ \n",
    "\t      a_1 \\\\ \n",
    "\\end{array} \\right]\n",
    "=\n",
    "\\left[\\begin{array}{c} \n",
    "          y_0 \\\\ \n",
    "\t      y_1 \\\\ \n",
    "\\end{array} \\right]$\n"
   ]
  },
  {
   "cell_type": "markdown",
   "metadata": {},
   "source": [
    "A solução pode ser obtida fazendo $a_1 = \\frac{y_1 - y_0}{x_1 - x_0}$ e $a_0 = y_0 - a_1x_0$.\n",
    "\n",
    "\n"
   ]
  },
  {
   "cell_type": "markdown",
   "metadata": {},
   "source": [
    "#### Exemplo 4.1\n",
    "Vamos obter o polinômio que interpola os pontos ${(1,2),(5,1)}$.<br>\n",
    "_Solução:_\n",
    "Para isso, resolvemos o sistema linear\n",
    "$$ \\begin{cases} \n",
    "\t         a_0 + a_1 = 2\\\\ \n",
    "\t         a_0 + 5a_1 = 1\\\\\n",
    "\t         \\end{cases} $$\n",
    "que nos fornece:\n",
    "\n",
    "$a_1=\\frac{y_1 - y_0}{x_1 - x_0}=\\frac{1 - 2}{5 - 1}=-\\frac{1}{4}$\n",
    "e\n",
    "$a_0 = y_0 - a_1x_0 = 2 +\\frac{1}{4} = \\frac{9}{4}$ \n",
    "\n",
    "Assim, obtemos\n",
    "\n",
    "$$P(x)= \\frac{9}{4}-\\frac{1}{4}x$$\n",
    "\n",
    "A figura abaixo mostra o resultado"
   ]
  },
  {
   "cell_type": "markdown",
   "metadata": {},
   "source": [
    "\n",
    "<img src=\"imagens/figura_3.2.png\" width=\"600\">"
   ]
  },
  {
   "cell_type": "markdown",
   "metadata": {},
   "source": [
    "Assim, generalizando o caso anterior, para obter os coeficientes do polinômio $P(x)=a_0 + a_1x + a_2x^2+...+a_nx^n$, de grau $n$, que interpola uma função a partir de $n+1$ pontos $(x_i,y_i)$, $i=0,1,...,n$, podemos resolver o seguinte sistema "
   ]
  },
  {
   "cell_type": "markdown",
   "metadata": {},
   "source": [
    "$\\left[\\begin{array}{ccccc} \n",
    "          1 & x_0 & x_0^2 & ... & x_0^n\\\\ \n",
    "\t      1 & x_1 & x_1^2 & ... & x_1^n\\\\ \n",
    "          ...& ... & ... & ... & ...\\\\ \n",
    "          1 & x_n & x_n^2 & ... & x_n^n\\\\ \n",
    "\\end{array} \\right]\n",
    "\\left[\\begin{array}{c} \n",
    "          a_0 \\\\ \n",
    "\t      a_1 \\\\ \n",
    "          ...\\\\\n",
    "          a_n \\\\ \n",
    "\\end{array} \\right]\n",
    "=\n",
    "\\left[\\begin{array}{c} \n",
    "          y_0 \\\\ \n",
    "\t      y_1 \\\\ \n",
    "          ...\\\\\n",
    "          y_n \\\\\n",
    "\\end{array} \\right]$\n"
   ]
  },
  {
   "cell_type": "markdown",
   "metadata": {},
   "source": [
    "A matriz $n \\times n$ mostrada acima é chamada matriz de Vandermonde e tem determinante não nulo para pontos $x_i$ distintos, ou seja, polinômio de coeficientes $a_0,a_1,...,a_n$ existe e é único. Usando o módulo `polynomial` de Numpy a matriz de Vandermonde pode ser obtida usando a função `np.polynomial.polynomial.polyvander`."
   ]
  },
  {
   "cell_type": "markdown",
   "metadata": {},
   "source": [
    "#### Exemplo 4.2\n",
    "Considere o problema de encontrar um polinômio interpolador para do conjunto de pontos $\\{(0, 1)$, $(1, 6)$, $(2, 5)$, $(3, -8)\\}$. Como o conjunto consiste de 4 pontos, o polinômio interpolador deve ser da forma: $p(x) = a_0 + a_1x + a_2x^2 + a_3x^3$"
   ]
  },
  {
   "cell_type": "markdown",
   "metadata": {},
   "source": [
    "O que nos leva ao sistema linear:\n",
    "\n",
    "$$\\begin{cases} \n",
    "    a_0=1\\\\\n",
    "    a_0+a_1+a_2+a_3=6\\\\\n",
    "    a_0+2a_1+4a_2+ 8a_3=5\\\\\n",
    "    a_0+3a_1+9a_2+27a_3=-8\n",
    "\\end{cases} $$\n",
    "\n",
    "cuja solução é $a_0=1$, $a_1=6$, $a_2=0$ e $a_3=-1$. Portanto, o polinômio interpolador é $p(x)=1+6x-x^3$.\n",
    "\n",
    "Podemos verificar o resultado plotando os pontos e o polinômio:"
   ]
  },
  {
   "cell_type": "code",
   "execution_count": 1,
   "metadata": {},
   "outputs": [],
   "source": [
    "import matplotlib.pyplot as plt\n",
    "import numpy as np"
   ]
  },
  {
   "cell_type": "code",
   "execution_count": 3,
   "metadata": {},
   "outputs": [
    {
     "data": {
      "image/png": "[encoded data removed]",
      "text/plain": [
       "<Figure size 640x480 with 1 Axes>"
      ]
     },
     "metadata": {},
     "output_type": "display_data"
    }
   ],
   "source": [
    "xi = np.array([0.,1.,2.,3.])\n",
    "yi = np.array([1.,6.,5.,-8.])\n",
    "\n",
    "x = np.linspace(-1,4)\n",
    "y = 1+6*x-x**3\n",
    "\n",
    "plt.plot(xi,yi,'o',x,y)\n",
    "plt.grid()\n",
    "plt.savefig('imagens/Exemplo3.2.png',dpi=300)"
   ]
  },
  {
   "cell_type": "markdown",
   "metadata": {},
   "source": [
    "Computacionalmente, podemos resolver esse exemplo como é mostrado a seguir, utilizando as operações vetorizadas da biblioteca `numpy` para montar a matriz do sistema e a função `solve` do módulo `linalg` para resolver, assim obtemos facilmente os coeficientes do polinômio interpolador. Também podemos usar a conveniente função `polyval` para avaliar o valores do polinômio em um conjunto de valores de $x$. Faremos isso para verificar se correspondem aos valores da função, como é esperado, ou seja, se $P(x_i)=y_i$, $i=0,1,2,3$. \n",
    "\n",
    "\n",
    "\n"
   ]
  },
  {
   "cell_type": "code",
   "execution_count": null,
   "metadata": {},
   "outputs": [],
   "source": [
    "A = np.array([xi**0,xi**1,xi**2,xi**3]).T\n",
    "#ou  A = np.polynomial.polynomial.polyvander(xi,3)\n",
    "ai = np.linalg.solve(A,yi)\n",
    "coeffs = np.flipud(ai) # reverte a ordem\n",
    "\n",
    "print (\"Coeficientes:\", coeffs)\n",
    "print (\"P(xi):\", np.polyval(coeffs,xi))"
   ]
  },
  {
   "cell_type": "markdown",
   "metadata": {},
   "source": [
    "Como é possível notar, com poucas linhas de código, utilizando as convenientes funções disponíveis na biblioteca NumPy, é possível obter o polinômio que interpola os pontos dados. Podemos também verificar que os numéricos do polinômio em cada um dos pontos coincidem com os valores da função, ou seja, $f(x_i)$, $i=0,1,2,3$.\n",
    "\n",
    "Embora sempre seja possível obter o polinômio interpolador de grau  que passa por um conjunto de  pontos distintos resolvendo um sistema linear, essa pode não ser a maneira mais eficiente de fazer isso. A seguir serão apresentadas duas fórmulas bem conhecidas para interpolação polinomial que requerem menos esforço computacional, as fórmula de Lagrange e de Newton. A primeira requer um número maior de operações aritméticas básicas mas ainda assim pode ser mais vantajosa quando várias funções precisam ser interpoladas no mesmo conjunto de pontos. \n",
    "    "
   ]
  },
  {
   "cell_type": "markdown",
   "metadata": {},
   "source": [
    "### 3.2. Fórmula Interpolatória de Lagrange\n",
    "\n",
    "Seja $f(x)$ definida em $x_0, x_1,...,x_n$, $(n+1)$ pontos distintos de um intervalo $[a,b]$ e $y_i=f(x_i)$, $i=0,1,...,n$, então o polinômio interpolador de Lagrange é dado por \n",
    "\n",
    "$$P(x)=\\sum_{k=0}^{n} y_k L_k(x) $$\n",
    "\n",
    "com\n",
    "\n",
    "$$ L_k(x) = \\prod_{j=0 e j\\neq k}^{n} \\frac{(x-x_j)}{(x_k-x_j)}$$"
   ]
  },
  {
   "cell_type": "markdown",
   "metadata": {},
   "source": [
    "#### Exemplo 3.3\n",
    "\n",
    "Considere a função $f(x)$ definida nos pontos $\\{(0.0, 1.9), (1.5, 2.5), (2.0, 0.9)\\}$. Determine o polinômio interpolador, usando a fórmula de Lagrange, e estime $f(0.9)$.\n",
    "\n",
    "*Solução:* Queremos o polinômio na forma $P(x) = y_0 L_0(x) + y_1 L_1(x) + y_2 L_2(x)$. Então, obtemos os $L_k(x)$ fazendo\n",
    "\n",
    "$L_0 = \\frac{(x-x_1)(x-x_2)}{(x_0-x_1)(x_0-x_2)} = \\frac{(x-1,5)(x-2,0)}{(0,0-1,5)(0,0-2,0)} = \n",
    "\\frac{x^2 - 3,5x + 3,0}{3,0}$\n",
    "\n",
    "$L_1 = \\frac{(x-x_0)(x-x_2)}{(x_1-x_0)(x_1-x_2)}=\\frac{(x-0,0)(x-2,0)}{(1,5-0,0)(1,5-2,0)}=\\frac{x^2-2x}{-0,75}$\n",
    "\n",
    "$L_2 = \\frac{(x-x_0)(x-x_1)}{(x_2-x_0)(x_2-x_1)}=\\frac{(x-0,0)(x-1,5)}{(2,0-0,0)(2,0-1,5)}=\\frac{x^2-1,5x}{1,0}$\n",
    "\n",
    "Assim,\n",
    "$P(x)=1,9 \\left(\\frac{x^2 - 3,5x + 3,0}{3,0}\\right) + 2,5 \\left( \\frac{x^2-2x}{-0,75}\\right) + 0.9 \\left( \\frac{x^2-1,5x}{1,0}\\right) = -1,8x^2 - 3,1x + 1,9$\n",
    "\n",
    "Portanto, tem-se\n",
    "\n",
    "$P(0.9) = -1,8(0,9)^2 + 3,1(0,9) + 1,9 = 3,2320$.\n",
    "\n",
    "O script Python abaixo plota o gráfico do polinômio obtido juntamente com os pontos tabelados."
   ]
  },
  {
   "cell_type": "code",
   "execution_count": null,
   "metadata": {},
   "outputs": [],
   "source": [
    "import matplotlib.pyplot as plt\n",
    "import numpy as np\n",
    "\n",
    "x = [0.0, 1.5, 2.0]\n",
    "y = [1.9, 2.5, 0.9]\n",
    "\n",
    "def P(x): \n",
    "    return -1.8*x**2+3.1*x+1.9\n",
    "\n",
    "xi= np.linspace(-0.2, 2.2)\n",
    "plt.plot(x, y, 'ko', xi, P(xi),'C0-')\n",
    "\n",
    "plt.title('Gráfico de $y=-1,8x^2+3,1x+1,9$')\n",
    "plt.ylabel('Eixo $y$')\n",
    "plt.xlabel('Eixo $x$')\n",
    "plt.grid()\n",
    "plt.savefig('figura_3.3a.png', dpi=300)"
   ]
  },
  {
   "cell_type": "markdown",
   "metadata": {},
   "source": [
    "No código abaixo é mostrada uma função que calcula o valor numérico do polinômio interpolador usando a fórmula de Lagrange para um dado valor de x. Usando essa função vamos calcular o valor de $P(9)$ e, também, fazer um laço de repetição para calcular o calor do polinômio em um conjunto de pontos para construir o gráfico. Observe que, como é esperado, o gráfico é igual ao do polinômio que foi obtido analiticamente no exemplo 3.3."
   ]
  },
  {
   "cell_type": "code",
   "execution_count": null,
   "metadata": {},
   "outputs": [],
   "source": [
    "\n",
    "def calculaP(x,X,Y):\n",
    "    valor = 0\n",
    "    for k in range(len(X)):\n",
    "        lk = 1.0\n",
    "        for i in range(len(X)):\n",
    "            if k != i:\n",
    "                lk = lk*(x - X[i])/(X[k]-X[i])\n",
    "        valor = valor + Y[k]*lk \n",
    "    return valor"
   ]
  },
  {
   "cell_type": "code",
   "execution_count": null,
   "metadata": {},
   "outputs": [],
   "source": [
    "xp = np.linspace(xi[0], xi[-1])\n",
    "yp = []\n",
    "for x in xp:\n",
    "    y = calculaP(x, xi, yi)\n",
    "    yp.append(y)\n",
    "\n",
    "plt.plot(xi, yi, 'o', xp, yp,'-',color='black')\n",
    "plt.grid()\n",
    "plt.show()\n",
    "\n",
    "print (\"P(\",0.9,\") =\", calculaP(0.9, xi,yi))\n",
    "\n",
    "plt.savefig('figura_3.3a.png', dpi=300)"
   ]
  },
  {
   "cell_type": "markdown",
   "metadata": {},
   "source": [
    "**Exemplo 3.4:** Considere a função $f(x)= \\frac{0,2x^2sen(x)}{ln\\left[(1+x)^2 \\right]}$ definida em seis pontos igualmente espaçados tais que $x_0=0.5$ e $x_5=5.5$. Vamos usar a função do exemplo 3.3 para plotar o gráfico do polinômio interpolador de Lagrage juntamente com o gráfico da função e os plontos utilizados.\n"
   ]
  },
  {
   "cell_type": "code",
   "execution_count": null,
   "metadata": {},
   "outputs": [],
   "source": [
    "f = lambda x:(0.2*x**2*np.sin(x))/np.log((1 + x)**2)\n",
    "xi = np.linspace(0.5,5.5,6)\n",
    "yi = f(xi)\n",
    "\n",
    "xp = np.linspace(0.1, 6)\n",
    "yp = []\n",
    "for x in xp:\n",
    "    y = calculaP(x, xi, yi)\n",
    "    yp.append(y)\n",
    "\n",
    "plt.plot(xi, yi, 'o', \n",
    "         xp, yp,'-',\n",
    "         xp,f(xp),'--',color='black')\n",
    "plt.grid()\n",
    "plt.show()"
   ]
  },
  {
   "cell_type": "markdown",
   "metadata": {},
   "source": [
    "### Fórmula interpolatória de Lagrange para pontos equidistantes\n",
    "\n",
    "Se os pontos $x_0, ..., x_n$ forem igualmente espaçados, ou seja, se $x_{i+1}-x_i=h$ para $i=0, ..., n-1$, então é possível fazer uma mudança de variável e obter uma fórmula simplificada para o polinômio interpolador de Lagrange.\n",
    "Fazemos \n",
    "\n",
    "$$ u = \\frac{x-x_0}{h} $$\n",
    "que é o mesmo que\n",
    "$$ x = x_o +uh$$\n",
    "\n",
    "\n",
    "Com essas mudanças, a fórmula de Lagrange fica \n",
    "\n",
    "$$P(u)=\\sum_{k=0}^{n} y_k l_k(u) $$\n",
    "\n",
    "com\n",
    "\n",
    "$$ l_k(u) = \\prod_{j=0 e j\\neq k}^{n} \\frac{(u-j)}{(k-j)}$$\n",
    "\n",
    "Para avaliar o valor do polinômio de um determinado valor de $x$ precisamos obter o valor correspondente na variável $u$, fazendo, $ u = \\frac{x-x_0}{h} $ e calcular $P(u)$.\n"
   ]
  },
  {
   "cell_type": "markdown",
   "metadata": {},
   "source": [
    "**Exemplo 3.4:**\n",
    "\n",
    "Considere a função $f(x) = \\cos(x)$. Obtenha uma aproximação para $f(0.3)$ usando um polinômio de grau 2 com $x_0 = 0.2$ e $h=0.2$."
   ]
  },
  {
   "cell_type": "code",
   "execution_count": null,
   "metadata": {},
   "outputs": [],
   "source": [
    "def calculaP(u):\n",
    "    valor = 0\n",
    "    for k in range(len(X)):\n",
    "        lk = 1.0\n",
    "        for i in range(len(X)):\n",
    "            if k != i:\n",
    "                lk = lk*(u - i)/(k-i)\n",
    "        valor = valor + Y[k]*lk \n",
    "    return valor"
   ]
  },
  {
   "cell_type": "code",
   "execution_count": null,
   "metadata": {},
   "outputs": [],
   "source": [
    "X = np.linspace(0.2, 0.6, 3)\n",
    "Y = np.cos(X)\n",
    "\n",
    "h = X[1]-X[0]\n",
    "u = (0.3 - X[0])/h\n",
    "\n",
    "print (calculaP(u))"
   ]
  },
  {
   "cell_type": "markdown",
   "metadata": {},
   "source": []
  },
  {
   "cell_type": "markdown",
   "metadata": {},
   "source": [
    "### Exercícios\n",
    "\n",
    "**1.** Encontre polinômios interpoladores para as funções (a)$ln(x+1)$, (b)$\\sqrt{1+x}$ e (c)$e^{2x}cos(3x)$ no intervalo de $x_0=1$ até $x_n=3$ com $3$, $4$ e $5$ pontos escolhidos arbitrariamente no intervalo.\n",
    "\n",
    "**2.** Dada a tabela a seguir de valores de uma função $f$,\n",
    "\n",
    "x   | 0,15 | 0,17 | 0,19 | 0,21 | 0,23 | 0,25 | 0,27 | 0,29 | 0,31  | \n",
    "----|------|------|------|------|------|------|------|------|-------|\n",
    "f(x)|0,176 |0,234 |0,278 |0,322 |0,361 |0,398 |0,431 |0,462 |0,491  | \n",
    "\n",
    "(a) Obtenha uma estimativa para $f(0,20)$ e para $f(0,22)$ utilizando interpolação polinomial. (b) Obtenha a expressão analítica do polinômio interpolador. Plote o gráfico. (c) Estime $f(0,20)$ e $f(0,22)$ utilizando uma polinomial de terceiro grau. Plote o gráfico e compare com o resultado do item anterior. "
   ]
  },
  {
   "cell_type": "markdown",
   "metadata": {},
   "source": [
    "**3.** Considere a função \n",
    "$$f(x)=\\frac{3.21}{0.73 + 9.81x^2}$$\n",
    "\n",
    "(a) Aproxime o valor de $f(1.78)$ usando um polinômio interpolador de grau 3 no intervalo [1, 2] e compare com o valor da função. Mostre o gráfico do polinômio e da função nesse intervalo. (b) Repita o item anterior, mas dessa vez utilize um polinômio de grau 10 no intervalo [-2,2] e comente o que você observou. (c)Pesquise e responda o que é \"Fenômeno de Runge\"."
   ]
  },
  {
   "cell_type": "markdown",
   "metadata": {},
   "source": [
    "**4.** O concreto novo ganha resistência com o passar dos dias atingindo 99% de sua resistência máxima aos 28 dias. A tabela abaixo mostra os resultados de um ensaio de resistência à compressão simples (em MPa), obtidos em laboratório especializado, de três diferentes traços de concreto:\n",
    "1. Dosagem padrão, sem a adição de agregado miúdo reciclado\n",
    "2. Substituindo 20% de agregado miúdo natural por agregado miúdo reciclado\n",
    "3. Substituindo 40% de agregado miúdo natural por agregado miúdo reciclado.\n",
    "\n",
    "Dias |Traço 1 |Traço 2 |Traço 3 \n",
    "-----|--------|--------|-------\n",
    "3    |14,4025 |21,8450 |19,0045 \n",
    "7    |27,4350 |31,2800 |26,7450 \n",
    "14   |34,4900 |35,1600 |31,3000 \n",
    "21   |34,3750 |38,1000 |34,1800 \n",
    "28   |36,1650 |39,9800 |35,6550 \n",
    "\n",
    "\n",
    "(a) Encontre o polinômio que interpola dos dados de cada um dos ensaios, faça o gráfico. (b) Estime quantos dias são necessários para que cada um dos concretos alcance 32 MPa. (c) Encontre a resistência de cada concreto após 16 dias. "
   ]
  },
  {
   "cell_type": "markdown",
   "metadata": {},
   "source": [
    "**5.** Durante três dias consecutivos foi tomada a temperatura (em $^\\circ$C) numa região de uma\n",
    "cidade, por quatro vezes no período das 6 às 12 horas. Determine, usando todos os dados\n",
    "da tabela abaixo, a média das temperaturas dos três dias às 9 horas.\n",
    "\n",
    "Hora |1º dia |2º dia |3ºdia| \n",
    "-----|-------|-------|-----|\n",
    "6    |18.5   |17.2   |18.1 |\n",
    "8    |20.3   |20.1   |21.4 |\n",
    "10   |24.0   |25,1   |22.9 |\n",
    "12   |28.2   |27.5   |23.7 |\n",
    "\n"
   ]
  },
  {
   "cell_type": "code",
   "execution_count": null,
   "metadata": {},
   "outputs": [],
   "source": []
  },
  {
   "cell_type": "code",
   "execution_count": null,
   "metadata": {},
   "outputs": [],
   "source": []
  },
  {
   "cell_type": "code",
   "execution_count": null,
   "metadata": {},
   "outputs": [],
   "source": []
  }
 ],
 "metadata": {
  "kernelspec": {
   "display_name": "Python 3 (ipykernel)",
   "language": "python",
   "name": "python3"
  },
  "language_info": {
   "codemirror_mode": {
    "name": "ipython",
    "version": 3
   },
   "file_extension": ".py",
   "mimetype": "text/x-python",
   "name": "python",
   "nbconvert_exporter": "python",
   "pygments_lexer": "ipython3",
   "version": "3.12.4"
  }
 },
 "nbformat": 4,
 "nbformat_minor": 4
}
