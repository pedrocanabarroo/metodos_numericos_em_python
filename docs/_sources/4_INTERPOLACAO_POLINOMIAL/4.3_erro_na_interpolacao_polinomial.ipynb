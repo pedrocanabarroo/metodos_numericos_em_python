{
 "cells": [
  {
   "cell_type": "markdown",
   "id": "8ff35140-4e77-40a2-aa83-5e061d0ceef2",
   "metadata": {},
   "source": [
    "## Fórmula de Lagrange\n",
    "\n",
    "Se $x_0, x_1, \\ldots, x_n$ são $n+1$ números distintos, e $f$ é uma função cujos valores são dados por esses números, então existe um único polinômio $P(x)$ de grau no máximo $n$\n",
    "\n",
    "$$\n",
    "f\\left(x_k\\right)=P\\left(x_k\\right), \\quad \\text { para cada } k=0,1, \\ldots, n .\n",
    "$$\n"
   ]
  },
  {
   "cell_type": "markdown",
   "id": "ad44d567-90d2-4c87-8942-a8ec7bf1ea67",
   "metadata": {},
   "source": [
    "Esse polinômio é dado por\n",
    "\n",
    "$$\n",
    "P(x)=f\\left(x_0\\right) L_{n, 0}(x)+\\cdots+f\\left(x_n\\right) L_{n, n}(x)=\\sum_{k=0}^n f\\left(x_k\\right) L_{n, k}(x),\n",
    "$$\n",
    "\n",
    "onde, para cada $k=0,1, \\ldots, n$,\n",
    "\n",
    "$$\n",
    "\\begin{aligned}\n",
    "L_{n, k}(x) & =\\frac{\\left(x-x_0\\right)\\left(x-x_1\\right) \\cdots\\left(x-x_{k-1}\\right)\\left(x-x_{k+1}\\right) \\cdots\\left(x-x_n\\right)}{\\left(x_k-x_0\\right)\\left(x_k-x_1\\right) \\cdots\\left(x_k-x_{k-1}\\right)\\left(x_k-x_{k+1}\\right) \\cdots\\left(x_k-x_n\\right)} \\\\\n",
    "& =\\prod_{\\substack{i=0 \\\\\n",
    "i \\neq k}}^n \\frac{\\left(x-x_i\\right)}{\\left(x_k-x_i\\right)}\n",
    "\\end{aligned}\n",
    "$$\n"
   ]
  },
  {
   "cell_type": "markdown",
   "id": "008ff910-d7ff-48a1-a903-50750762291c",
   "metadata": {},
   "source": [
    "Um esboço do gráfico de um típico $L_{n, k}$ quando $n$ é par é mostrado na Figura 4.3.1 ([Burden,2016](https://integrada.minhabiblioteca.com.br/reader/books/9788522123414/pageid/136)).\n",
    "\n",
    "<img src=\"imagens/polinomio_Lk.png\" width=\"800\">\n",
    "\n",
    "Figura 4.3.1 - Gráfico de um típico $L_{n, k}$ quando $n$ é par"
   ]
  },
  {
   "cell_type": "markdown",
   "id": "2075128b-c6ce-480d-97df-a74589ab1ac8",
   "metadata": {},
   "source": [
    "Essa fórmula é conhecida como *polinômio interpolados de Lagrange*.\n",
    "\n",
    "O próximo passo é calcular um resto ou limitante para o erro envolvido na aproximação de uma função por um polinômio interpolador."
   ]
  },
  {
   "cell_type": "markdown",
   "id": "d751919e-29f8-4b5f-b483-67351f96f6ef",
   "metadata": {},
   "source": [
    "Suponha que $x_0, x_1, \\ldots, x_n$ sejam números distintos no intervalo $[a, b]$ e que $f \\in$ $C^{n+1}[a, b]$. Então, para cada $x$ em $[a, b]$, existe umnúmero $\\xi(x)$ (geralmente desconhecido) entre $\\min \\left\\{x_0, x_1, \\ldots, x_n\\right\\}$, e o $\\max \\left\\{x_0, x_1, \\ldots, x_n\\right\\}$ e consequentemente em $(a, b)$, com"
   ]
  },
  {
   "cell_type": "markdown",
   "id": "bab79565-968e-445e-88f5-81b2958d70a4",
   "metadata": {},
   "source": [
    "$$f(x)=P(x)+\\frac{f^{(n+1)}(\\xi(x))}{(n+1)!}\\left(x-x_0\\right)\\left(x-x_1\\right) \\cdots\\left(x-x_n\\right)$$\n",
    "onde $P(x)$ é o polinômio interpolador $P(x)=\\sum_{k=0}^n f\\left(x_k\\right) L_{n, k}(x)$"
   ]
  },
  {
   "cell_type": "markdown",
   "id": "d23e63a9-d26e-4cba-aa5f-eee4066ac4ca",
   "metadata": {},
   "source": [
    "**Exemplos:** \n",
    "\n",
    "https://integrada.minhabiblioteca.com.br/reader/books/9788522123414/pageid/137\n",
    "\n",
    "https://integrada.minhabiblioteca.com.br/reader/books/9788522123414/pageid/139"
   ]
  },
  {
   "cell_type": "code",
   "execution_count": null,
   "id": "d32c9c54-1aed-4dbe-895b-10d3253175c5",
   "metadata": {},
   "outputs": [],
   "source": []
  },
  {
   "cell_type": "markdown",
   "id": "940b4990-01e9-4016-8fa9-ceb1567294c9",
   "metadata": {},
   "source": [
    "## Fórmula de Newton - diferenças divididas\n",
    "\n",
    "O polinômio interpolador de Newton é dado por \n",
    "\n",
    "\n",
    "$$P(x)=f[x_0]+(x-x_0)f[x_0,x_1]+(x-x_0)(x-x_1)f[x_0,x_1,x_2]+...$$\n",
    "$$...+(x-x_0)(x-x_1)...(x-x_{n-1})f[x_0,...,x_n]$$\n",
    "\n",
    "\n",
    "onde $f[x_0]$, $f[x_0,x_1]$,...,$f[x_0,...,x_n]$ são as *diferenças divididas**"
   ]
  },
  {
   "cell_type": "markdown",
   "id": "0979904a-19cf-4ecb-80f0-8761fa997067",
   "metadata": {},
   "source": [
    "Uma tabela de diferenças divididas é mostrado na Figura 4.3.2.\n",
    "\n",
    "<img src=\"imagens/tabela_dd.png\" width=\"800\">\n",
    "\n",
    "Figura 4.3.2 - Tabela de diferenças divididas de Newton (Fonte: [Chapra, 2016](https://integrada.minhabiblioteca.com.br/reader/books/9788580555691/pageid/455)) "
   ]
  },
  {
   "cell_type": "markdown",
   "id": "6c75cb23-5461-4441-a89f-3c9ba007fd33",
   "metadata": {},
   "source": [
    "Para um polinômio interpolador de grau $n$, uma fórmula para o erro é dada por \n",
    "\n",
    "$$\r\n",
    "R_n=\\frac{f^{(n+1)}(\\xi)}{(n+1)!}\\left(x-x_0\\right)\\left(x-x_1\\right) \\ldots\\left(x-x_n\\right)\r\n",
    "$$"
   ]
  },
  {
   "cell_type": "markdown",
   "id": "b610b913-5ebf-4eb5-8da6-ab6d8e5b8ca5",
   "metadata": {},
   "source": [
    "onde $\\xi$ é algum ponto no intervalo contendo a variável e os dados. Para essa fórmula ser útil, a função em questão deve ser conhecida e $(n + 1)$ vezes diferenciável. Em geral, esse não é o caso. Felizmente, está disponível uma formulação alternativa que não requer conhecimento anterior da função. Em vez disso, ela usa diferenças divididas finitas para aproximar a $(n + 1)$-ésima derivada,\r\n",
    "$$\r\n",
    "R_n=f\\left[x, x_n, x_{n-1}, \\ldots, x_0\\right]\\left(x-x_0\\right)\\left(x-x_1\\right) \\cdots\\left(x-x_n\\right)\r\n",
    "$$"
   ]
  },
  {
   "cell_type": "markdown",
   "id": "9185a8bc-fae7-4dfe-9489-b1b8b5b617d2",
   "metadata": {},
   "source": [
    "Como a esta contém a incógnita $f(x)$, ela não determina o erro. Entretanto, se estiver disponível um ponto dado adicional $f(x_{n+1})$, a equação pode ser usada para estimar o erro, como em\n",
    "\r",
    "$$\r\n",
    "R_n \\cong f\\left[x_{n+1}, x_n, x_{n-1}, \\ldots, x_0\\right]\\left(x-x_0\\right)\\left(x-x_1\\right) \\cdots\\left(x-x_n\\right)\r\n",
    "$$"
   ]
  },
  {
   "cell_type": "markdown",
   "id": "97be346a-065a-4e84-b0b0-94617f503c42",
   "metadata": {},
   "source": [
    "**Exemplo:**\n",
    "https://integrada.minhabiblioteca.com.br/reader/books/9788580555691/pageid/455"
   ]
  },
  {
   "cell_type": "markdown",
   "id": "903caeb0-ecdf-4a23-9cdf-856a5e83ae43",
   "metadata": {},
   "source": [
    "**Exercícios:**\n",
    "\n",
    "**1.** Para as funções $f(x)$ dadas, construa polinômios interpoladores de graus entre 2 e 5 para determinar uma aproximação de $f(0,45)$ e encontre o erro absoluto. Encontre um limitante limitante superior para o erro nas aproximações.\n",
    "\n",
    "a) $f(x)=\\cos x$\n",
    "\n",
    "b) $f(x)=\\sqrt{1+x}$\n",
    "\n",
    "c) $f(x)=\\ln (x+1)$\n",
    "\n",
    "d) $f(x)=\\operatorname{tg} x$\n",
    "\n",
    "**2.** Para as funções $f(x)$, construa polinômios interpoladores de graus entre 2 e 5 para determinar uma aproximação de $f(1,4)$, e encontre o erro absoluto. Encontre um limitante limitante superior para o erro nas aproximações.\n",
    "\n",
    "a) $f(x)=\\operatorname{sen} \\pi x$\n",
    "\n",
    "b) $f(x)=\\sqrt[3]{x-1}$\n",
    "\n",
    "c) $f(x)=\\log _{10}(3 x-1)$\n",
    "\n",
    "d) $f(x)=e^{2 x}-x$"
   ]
  },
  {
   "cell_type": "code",
   "execution_count": null,
   "id": "20535a8e-1660-4904-8c94-a8646f1f04c1",
   "metadata": {},
   "outputs": [],
   "source": []
  }
 ],
 "metadata": {
  "kernelspec": {
   "display_name": "Python 3 (ipykernel)",
   "language": "python",
   "name": "python3"
  },
  "language_info": {
   "codemirror_mode": {
    "name": "ipython",
    "version": 3
   },
   "file_extension": ".py",
   "mimetype": "text/x-python",
   "name": "python",
   "nbconvert_exporter": "python",
   "pygments_lexer": "ipython3",
   "version": "3.12.4"
  }
 },
 "nbformat": 4,
 "nbformat_minor": 5
}
