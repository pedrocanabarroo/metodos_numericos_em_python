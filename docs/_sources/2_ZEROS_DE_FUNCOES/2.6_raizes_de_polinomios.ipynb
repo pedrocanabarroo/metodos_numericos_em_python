{
 "cells": [
  {
   "cell_type": "markdown",
   "metadata": {},
   "source": [
    "## 2.6. Raízes de polinômios\n",
    "\n",
    "\n",
    "Desejamos, agora, utilizar métodos numéricos para determinar $\\overline x$ tal que $P(\\overline x) = 0$, em que $P(x)$ é um polinômio de grau $n \\in N$, com coeficientes reais ou complexos na forma:\n",
    "\n",
    "$$P(x)=a_0+a_1 x+a_2 x^2+\\cdots+a_n x^n$$ \n",
    "\n",
    "e $a_n \\neq 0$. Os métodos para zeros de funções estudados até agora podem ser usados para polinômios, no entanto, outros resultados e teoremas envolvendo polinômios também podem ser úteis.\n",
    "\n",
    "As raízes de tais polinômios seguem estas regras:\n",
    "1. Para uma equação de grau $n$, existem $n$ raízes reais ou complexas. Deve-se observar que essas raízes não serão necessariamente distintas.\n",
    "2. Se $n$ for ímpar, existe pelo menos uma raiz real.\n",
    "3. Se existirem raízes complexas, elas existem em pares conjugados (isto é, $a+b i$ e $a-b i)$ onde $i=\\sqrt{-1}$."
   ]
  },
  {
   "cell_type": "markdown",
   "metadata": {},
   "source": [
    "O método de Newton para raízes de funções requer a cada iteração o cáculo da função e de sua derivada em um determinado ponto. No caso de polinômios, o valor da função pode ser calculado de forma mais eficiente se pensarmos na sequência de operações necessárias quando o polinômio é colocado na forma estruturada, usando *parênteses aninhados*. Por exemplo, o polinômio de terceiro grau\n",
    "\n",
    "$$\n",
    "f_3(x)=a_3 x^3+a_2 x^2+a_1 x+a_0\n",
    "$$\n",
    "\n",
    "exige seis multiplicações e seis adições. Em geral um polinômio de grau $n$ exige $n(n+1) / 2$ multiplicações e $n$ adições para ser avaliado em um determinado ponto. Já se ele for reescrito como                                                                                           \n",
    "$$f_3(x)=\\left(\\left(a_3 x+a_2\\right) x+a_1\\right)x+a_0$$\n",
    "\n",
    "então, requer três multiplicações e três adições."
   ]
  },
  {
   "cell_type": "markdown",
   "metadata": {},
   "source": [
    "**Exemplo 2.6.1:** Considere o polinômio $f(x)=0,8x^5 - 1,3x^4 +5x^3 +17x^2 + 1.9x +10$. Vamos calcular $P(0.5)$ usando um laço simples em que cada passo efetuamos uma multiplicação e uma soma."
   ]
  },
  {
   "cell_type": "code",
   "execution_count": 1,
   "metadata": {},
   "outputs": [],
   "source": [
    "a = [0.8, -1.3,5, 17,1.9,10]\n",
    "x = 0.5; p = 0; df = 0"
   ]
  },
  {
   "cell_type": "code",
   "execution_count": 3,
   "metadata": {},
   "outputs": [
    {
     "name": "stdout",
     "output_type": "stream",
     "text": [
      "16.01513671875 0\n"
     ]
    }
   ],
   "source": [
    "for n in range(6):\n",
    "    #df = df*x+p\n",
    "    p = p*x+a[n]\n",
    "print(p, df)"
   ]
  },
  {
   "cell_type": "markdown",
   "metadata": {},
   "source": [
    "Observe que a derivada pode ser obtida incluindo a linha `df = df*x+p`no laço acima."
   ]
  },
  {
   "cell_type": "code",
   "execution_count": 4,
   "metadata": {},
   "outputs": [
    {
     "name": "stdout",
     "output_type": "stream",
     "text": [
      "15.76875 22.25\n"
     ]
    }
   ],
   "source": [
    "p = 0.8*x**5-1.3*x**4+5*x**3+17*x**2+1.9*x+10\n",
    "df = 5*0.8*x**4-1.3*4*x**3+3*5*x**2+2*17*x+1.9\n",
    "print (p, df)"
   ]
  },
  {
   "cell_type": "code",
   "execution_count": null,
   "metadata": {},
   "outputs": [],
   "source": []
  },
  {
   "cell_type": "markdown",
   "metadata": {},
   "source": [
    "Em particular, o **Teorema do Resto** pode ser útil para avaliar o valor numérico de um polinômio $P(x)$ e de sua derivada $P'(x)$ em um determinado valor de $x$. Este teorema nos diz:\n",
    "\n",
    "_Seja $P(x)$ um polinômio de grau $n \\geq 1$, então para qualquer $\\alpha \\in R$ existe um único polinômio $Q(x)$ de grau $(n-1)$ tal que_\n",
    "\n",
    "$$P(x) = (x-\\alpha)Q(x)+P(\\alpha)$$\n",
    "\n",
    "_em que $P(\\alpha)$ é o resto da divisão de $P(x)$ por $(x -\\alpha)$._"
   ]
  },
  {
   "cell_type": "markdown",
   "metadata": {},
   "source": [
    "**Exemplo 2.6.1:**\n",
    "A divisão do polinômio $P(x) = 6x^2 -4x + 2$ pelo polinômio $(x - 4)$ resulta $Q(x)=6x+20 $ e o resto desta divisão, $P(4)=82$.\n"
   ]
  },
  {
   "cell_type": "code",
   "execution_count": null,
   "metadata": {},
   "outputs": [],
   "source": []
  },
  {
   "cell_type": "markdown",
   "metadata": {
    "collapsed": true,
    "jupyter": {
     "outputs_hidden": true
    }
   },
   "source": [
    "#### Teorema: Localização de raízes no círculo\n",
    "\n",
    "Sejam $P(x)=a_0 x^n + a_1 x^{n-1}+...+a_{n-1}x+a_n$ e $A=max\\{\\left|a_1 \\right|,..., \\left|a_n \\right|\\}$. Então, o módulo de todas as raízes $x_k$ , $k = 1,... , n$ satisfaz a inequação:\n",
    "\n",
    "$$ |x_k|< 1 +\\frac{A}{\\left|a_0 \\right|} = R$$\n",
    "\n",
    "(Para a demonstração, ver Arenales e Darezzo, 2016)"
   ]
  },
  {
   "cell_type": "markdown",
   "metadata": {},
   "source": [
    "Como consequência desse teorema, tem-se o seguinte **corolário**: \n",
    "\n",
    "Sejam $a_n\\neq 0$ e $B=max\\{\\left|a_0 \\right|,...,\\left|a_{n-1}\\right|\\}$, em que $a_k$,$k=0,...,n$ são os coeficientes de $P(x)$. Então, o módulo de todas as raízes $x_k$, $k = 1,..., n$ satisfaz a inequação:\n",
    "\n",
    "$$ \\left|x_k \\right| > \\frac{1}{1+\\frac{B}{\\left|a_n \\right|}}=r$$\n",
    "\n",
    "(Para a demonstração, ver Arenales e Darezzo, 2015, p 123)"
   ]
  },
  {
   "cell_type": "markdown",
   "metadata": {
    "collapsed": true,
    "jupyter": {
     "outputs_hidden": true
    }
   },
   "source": [
    "**Exemplo 2.6.2:** \n",
    "As raízes de $P(x)=x^3+2x^2-x-2=0$ estão localizadas em $-3<x_k< -1/2$ ou $1/2< x_k <3$, pois:\n",
    "\n",
    "$ |x_k|<1-\\frac{2}{|1|} = 3 = R$ e    $|x_k|> \\frac{1}{1+\\frac{2}{|-2|}} = 1/2 = r$\n",
    " \n",
    "De fato, as raízes de $P(x) = 0$ são dadas por $x = 1$, $x = −1$ e $x = −2$.\n"
   ]
  },
  {
   "cell_type": "markdown",
   "metadata": {},
   "source": [
    "Assim, no plano complexo as raízes de $P(x) = 0$ estão localizadas no anel $r < |x| < R$ como ilustra a figura abaixo.\n",
    "\n",
    "<img src=\"https://github.com/tiagoburiol/NUMETHODS/raw/master/4_ZEROS_DE_POLINOMIOS/imagens/anel.png\" width=\"250\">"
   ]
  },
  {
   "cell_type": "markdown",
   "metadata": {},
   "source": [
    "#### Teorema: regra de sinais de Descartes\n",
    "Dada uma equação polinomial com coeficientes reais, o número de raízes reais positivas $p$ dessa equação não excede o número $v$ de variações de sinais dos coeficientes. Ainda mais, $(v − p)$ é inteiro par, não negativo.\n",
    "\n",
    "Para determinar o número de raízes negativas, basta calcular o número de variações de sinais no polinômio $P(−x)$.\n"
   ]
  },
  {
   "cell_type": "markdown",
   "metadata": {},
   "source": [
    "#### Teorema: Budan-Fourier\n",
    "Se os números $a$ e $b(a<b)$ não são raízes da eqı $N(a, b)$ de raízes reais da equação $P(x)=0$ locali\n",
    "$N(a, b)=\\Delta \\bar{N}-2 k \\quad(k$ natural $)$, send em que $\\bar{N}(x)$ é igual ao número de variações de si derivadas:\n",
    "\n",
    "$$\n",
    "P(x), P^{(1)}(x), \\ldots, P^{(n-1)}, 1\n",
    "$$\n"
   ]
  },
  {
   "cell_type": "markdown",
   "metadata": {},
   "source": [
    "**Exemplo 2.6.3:** (Fonte: [Arenales e Darezzo, 2016](https://integrada.minhabiblioteca.com.br/reader/books/9788522112821/pageid/137)) Considere o polinômio $P(x)=x^3+2 x^2-x-2$. Aplicando o teorema de Budan-Fourier, vemos que os valores 3 e -3 não são raízes de $P(x)=0$, pois $P(3)=40$ e $P(-3)=-8$. Desta forma, é possível calcular o número de raízes localizadas em $[-3,3]$ :\n",
    "\n",
    "Seja $P^{(i)}(x) \\rightarrow i$-ésima derivada de $P(x)$. Assim, temos:\n",
    "\n",
    "$$\n",
    "\\begin{array}{rrr}\n",
    "P(3)=40 & P^{(1)}(3)=38 & P^{(2)}(3) \\\\\n",
    "P(-3)=-8 & P^{(1)}(-3)=14 & P^{(2)}(-3)\n",
    "\\end{array}\n",
    "$$\n",
    "Logo,\n",
    "\n",
    "$$\n",
    "\\begin{gathered}\n",
    "\\bar{N}(3)=0 \\quad \\text { e } \\quad \\bar{N}(-3)= 3\\\\\n",
    "\\Delta \\bar{N}=\\bar{N}(-3)-\\bar{N}(3)=3-0 = 3\\\\\n",
    "N(-3,3)=3-2 k, \\quad k=0,1\n",
    "\\end{gathered}\n",
    "$$\n",
    "\n",
    "\n",
    "Portanto, temos uma ou três raízes no intervalo\n",
    "Pela regra de sinais de Descartes, observamos que a equação possui uma raiz positiva e, portanto, a equação pode ter duas raízes no intervalo $(-3,0)$ ou não ter nenhuma raiz real negativa."
   ]
  },
  {
   "cell_type": "markdown",
   "metadata": {
    "collapsed": true,
    "jupyter": {
     "outputs_hidden": true
    }
   },
   "source": [
    "#### Método de Briot-Ruffini para divisão de polinômios\n",
    "\n",
    "Dados os polinômios\n",
    "$$\n",
    "P(x)=a_0 x^n+a_1 x^{n-1}+\\cdots+a_n\n",
    "$$\n",
    "e\n",
    "$$\n",
    "Q(x)=b_0 x^{n-1}+b_1 x^{n-2}+\\cdots+b_{n-1}\n",
    "$$\n",
    "\n",
    "tal que $P(x)=(x-\\alpha) Q(x)+P(\\alpha)$, ou seja, $Q(x)$ é o polinômio resultante da divisão de $P(x)$ por $(x-\\alpha)$ $P(\\alpha)$ é o resto. \n",
    "\n",
    "Podemos determinar $Q(x)$ e $P(\\alpha)$ usando o método de Briot-Ruffini escrevendo\n",
    "\n",
    "$$\n",
    "\\begin{array}{r}\n",
    "{\\left[a_0 x^n+a_1 x^{n-1}+\\cdots+a_n\\right]=(x-\\alpha)\\left[b_0 x^{n-1}+b_1 x^{n-2}+\\cdots+b_{n-1}\\right]+b_n} \\\\\n",
    "=b_0 x^n+\\left(b_1-\\alpha b_0\\right) x^{n-1}+\\left(b_2-\\alpha b_1\\right) x^{n-2}+ \\\\\n",
    "+\\cdots+\\left(b_{n-1}-\\alpha b_{n-2}\\right) x+\\left(b_n-\\alpha b_{n-1}\\right)\n",
    "\\end{array}\n",
    "$$\n",
    "\n",
    "que leva a \n",
    "\n",
    "$$\n",
    "\\begin{array}{cll}\n",
    "a_0=b_0 & \\rightarrow & b_0=a_0 \\\\\n",
    "a_1=b_1-\\alpha b_0 & \\rightarrow & b_1=a_1+\\alpha b_0 \\\\\n",
    "\\vdots & & \\\\\n",
    "a_{n-1}=b_{n-1}-\\alpha b_{n-2} & \\rightarrow & b_{n-1}=a_{n-1}+\\alpha b_{n-2} \\\\\n",
    "a_n=b_n-\\alpha b_{n-1} & \\rightarrow & b_n=a_n+\\alpha b_{n-1}\n",
    "\\end{array}\n",
    "$$"
   ]
  },
  {
   "cell_type": "markdown",
   "metadata": {},
   "source": [
    "\n",
    "Vejamos o seguinte exemplo:\n",
    "\n",
    "**Exemplo 2.6.3:** (Arenales e Darezzo, 2016) Seja $P(x)=6 x^3+x-1$, calcule $P(3)$."
   ]
  },
  {
   "cell_type": "code",
   "execution_count": 5,
   "metadata": {},
   "outputs": [],
   "source": [
    "import numpy as np\n",
    "import matplotlib.pyplot as plt"
   ]
  },
  {
   "cell_type": "code",
   "execution_count": 6,
   "metadata": {},
   "outputs": [],
   "source": [
    "def BriotRuffini(a,alpha):\n",
    "    q = a.copy()\n",
    "    for i in range(1,len(a)):\n",
    "         q[i] = alpha*q[i-1] + a[i]\n",
    "    return q"
   ]
  },
  {
   "cell_type": "code",
   "execution_count": 7,
   "metadata": {},
   "outputs": [
    {
     "name": "stdout",
     "output_type": "stream",
     "text": [
      "Coeficientes de Q(x): [6, 18, 55]\n",
      "Resto: P(3)= 164\n"
     ]
    }
   ],
   "source": [
    "an = [6,0,1,-1] \n",
    "bn = BriotRuffini(an , 3)\n",
    "\n",
    "print ('Coeficientes de Q(x):', bn[:-1] )\n",
    "print ('Resto: P(3)=', bn[-1])"
   ]
  },
  {
   "cell_type": "markdown",
   "metadata": {},
   "source": [
    "Podemos também obter a derivada $P'(\\alpha)$ pelo método de Briot-Ruffini, pois como\n",
    "\n",
    "$$P(x)=(x-\\alpha) Q(x)+P(\\alpha)$$\n",
    "\n",
    "temos que \n",
    "\n",
    "$$P'(x)=(x-\\alpha) Q'(x) + Q(x)$$\n",
    "\n",
    "Assim, para $x=\\alpha$, tem-se que $P'(\\alpha)=Q(\\alpha)$. Ou seja, para calcular $P'(\\alpha)$ precisamos obter o resto da divisão de $Q(x)$ por $(x-\\alpha)$, o que pode ser feito usando Briot-Ruffini uma segunda vez."
   ]
  },
  {
   "cell_type": "markdown",
   "metadata": {},
   "source": [
    "**Exemplo 2.6.4:** (Arenales e Darezzo, 2016) Seja $P(x)=6 x^3+x-1$, calcule $P'(3)$."
   ]
  },
  {
   "cell_type": "code",
   "execution_count": 8,
   "metadata": {},
   "outputs": [
    {
     "name": "stdout",
     "output_type": "stream",
     "text": [
      "P'(3)= 163\n"
     ]
    }
   ],
   "source": [
    "cn = BriotRuffini(bn[:-1] , 3)\n",
    "print (\"P'(3)=\", cn[-1])"
   ]
  },
  {
   "cell_type": "markdown",
   "metadata": {},
   "source": [
    "### Método de Newton com Briot-Ruffini\n",
    "\n",
    "Vamos agora obter zeros de polinômios pelo método iterativo de Newton \n",
    "\n",
    "$$\n",
    "x_{i+1}=x_i-\\frac{P\\left(x_i\\right)}{P^{\\prime}\\left(x_i\\right)}\n",
    "$$\n",
    "\n",
    "usando Briot-Ruffini para calcular $P(x_i)$ e $P'(x_i)$ a cada iteração.\n",
    "\n",
    "**Exemplo 2.6.7:**  (Arenales e Darezzo, 2016) Determine uma raiz da equação $P(x)=x^3+2 x^2-x-2=0$ usando o método de Newton mais Briot-Ruffini, com $\\varepsilon=0.001$"
   ]
  },
  {
   "cell_type": "code",
   "execution_count": 9,
   "metadata": {},
   "outputs": [],
   "source": [
    "a = np.array([1.,2.,-1.,-2.])\n",
    "x = 2.\n",
    "x_ant = x\n",
    "\n",
    "def IteraNewton(a,x):\n",
    "    q = BriotRuffini(a,x)\n",
    "    m = BriotRuffini(q[0:-1],x)\n",
    "    return (x - q[-1]/m[-1])"
   ]
  },
  {
   "cell_type": "code",
   "execution_count": 10,
   "metadata": {},
   "outputs": [
    {
     "data": {
      "text/plain": [
       "1.368421052631579"
      ]
     },
     "execution_count": 10,
     "metadata": {},
     "output_type": "execute_result"
    }
   ],
   "source": [
    "# uma iteração\n",
    "IteraNewton(a,x)"
   ]
  },
  {
   "cell_type": "code",
   "execution_count": 11,
   "metadata": {},
   "outputs": [
    {
     "name": "stdout",
     "output_type": "stream",
     "text": [
      "x= 1.368421052631579 Erro: 0.4615384615384615\n",
      "x= 1.077163124665906 Erro: 0.27039351913946175\n",
      "x= 1.0045201633201402 Erro: 0.07231608084965287\n",
      "x= 1.0000169296346983 Erro: 0.004503157448631215\n",
      "x= 1.0000000002388385 Erro: 1.6929395855800372e-05\n"
     ]
    }
   ],
   "source": [
    "# iterando até atingir a precisão\n",
    "err = 1.\n",
    "x = 2.\n",
    "while err>0.001:\n",
    "    x = IteraNewton(a,x)\n",
    "    err = abs(x-x_ant)/abs(x)\n",
    "    x_ant = x\n",
    "    print(\"x=\",x, 'Erro:', err)"
   ]
  },
  {
   "cell_type": "markdown",
   "metadata": {},
   "source": [
    "\n",
    "**Exemplo2.6.8:**  (Arenales e Darezzo, 2016) Encontre as raízes de \n",
    "$P(x)=x^3+8 x^2-4 x-2=0$.\n",
    "\n"
   ]
  },
  {
   "cell_type": "code",
   "execution_count": 12,
   "metadata": {},
   "outputs": [
    {
     "data": {
      "image/png": "[encoded data removed]",
      "text/plain": [
       "<Figure size 600x400 with 1 Axes>"
      ]
     },
     "metadata": {},
     "output_type": "display_data"
    }
   ],
   "source": [
    "a = [1,8,-4,-2]\n",
    "x = np.linspace(-9,2)\n",
    "\n",
    "plt.figure(figsize=(6,4))\n",
    "plt.plot(x, np.polyval(a, x))\n",
    "plt.plot(x, np.zeros(len(x)), 'k--')\n",
    "plt.grid()"
   ]
  },
  {
   "cell_type": "code",
   "execution_count": 13,
   "metadata": {},
   "outputs": [
    {
     "name": "stdout",
     "output_type": "stream",
     "text": [
      "x= 0.8 Erro: 0.2500000002985481\n",
      "x= 0.7597014925373134 Erro: 0.053045186640471545\n",
      "x= 0.7579998221716971 Erro: 0.002244948238564167\n",
      "x= 0.7579968013604806 Erro: 3.985255889050246e-06\n"
     ]
    }
   ],
   "source": [
    "# iterando até atingir a precisão\n",
    "err = 1.\n",
    "x = 1.\n",
    "while err>0.001:\n",
    "    x = IteraNewton(a,x)\n",
    "    err = abs(x-x_ant)/abs(x)\n",
    "    x_ant = x\n",
    "    print(\"x=\",x, 'Erro:', err)"
   ]
  },
  {
   "cell_type": "code",
   "execution_count": 14,
   "metadata": {},
   "outputs": [
    {
     "name": "stdout",
     "output_type": "stream",
     "text": [
      "x= -0.47058823529411764 Erro: 2.6107432028910216\n",
      "x= -0.3279505432746347 Erro: 0.43493659316805666\n",
      "x= -0.31260601722010856 Erro: 0.04908583075584857\n",
      "x= -0.3124159051406068 Erro: 0.000608522409946434\n"
     ]
    }
   ],
   "source": [
    "# iterando até atingir a precisão\n",
    "err = 1.\n",
    "x = -1.\n",
    "while err>0.001:\n",
    "    x = IteraNewton(a,x)\n",
    "    err = abs(x-x_ant)/abs(x)\n",
    "    x_ant = x\n",
    "    print(\"x=\",x, 'Erro:', err)"
   ]
  },
  {
   "cell_type": "code",
   "execution_count": 15,
   "metadata": {},
   "outputs": [
    {
     "name": "stdout",
     "output_type": "stream",
     "text": [
      "x= -9.419354838709678 Erro: 0.9668325580158944\n",
      "x= -8.609635740090033 Erro: 0.09404800888953495\n",
      "x= -8.451477874162121 Erro: 0.0187136342640655\n",
      "x= -8.4455889629375 Erro: 0.0006972765606359088\n"
     ]
    }
   ],
   "source": [
    "# iterando até atingir a precisão\n",
    "err = 1.\n",
    "x = -7.\n",
    "while err>0.001:\n",
    "    x = IteraNewton(a,x)\n",
    "    err = abs(x-x_ant)/abs(x)\n",
    "    x_ant = x\n",
    "    print(\"x=\",x, 'Erro:', err)"
   ]
  },
  {
   "cell_type": "markdown",
   "metadata": {},
   "source": [
    "**Exercícios:**\n",
    "*1.* Calcule, se possível, as raízes dos seguintes polinômios com pelo menos 5 casas de precisão:\n",
    "\n",
    "a) $P(x) = x^3-7x^2+14x-6=0$  \n",
    "\n",
    "b) $P(x) = –25 + 82x – 90x^2 + 44x^3 – 8x^4 + 0.7x^5$\n",
    "\n",
    "c) $P(x) = – 12 – 21x + 18x^2 – 2.75x^3$\n",
    "\n"
   ]
  },
  {
   "cell_type": "code",
   "execution_count": null,
   "metadata": {},
   "outputs": [],
   "source": []
  },
  {
   "cell_type": "code",
   "execution_count": null,
   "metadata": {},
   "outputs": [],
   "source": []
  }
 ],
 "metadata": {
  "kernelspec": {
   "display_name": "Python 3 (ipykernel)",
   "language": "python",
   "name": "python3"
  },
  "language_info": {
   "codemirror_mode": {
    "name": "ipython",
    "version": 3
   },
   "file_extension": ".py",
   "mimetype": "text/x-python",
   "name": "python",
   "nbconvert_exporter": "python",
   "pygments_lexer": "ipython3",
   "version": "3.12.4"
  }
 },
 "nbformat": 4,
 "nbformat_minor": 4
}
