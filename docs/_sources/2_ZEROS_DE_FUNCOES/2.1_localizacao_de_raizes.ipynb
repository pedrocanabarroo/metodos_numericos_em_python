{
 "cells": [
  {
   "cell_type": "markdown",
   "id": "95787be5-8e65-409a-9f0c-50ee2af5f173",
   "metadata": {},
   "source": [
    "## 2.1 Localização de raízes"
   ]
  },
  {
   "cell_type": "markdown",
   "id": "0db8527c-6904-4b12-a889-61f59efe7de9",
   "metadata": {},
   "source": [
    "Em ciências e engenharias frequentemente a solução de um problema real é obtida resolvendo uma equação em uma variável real, a qual sempre pode ser escrita na forma \n",
    "$$f(x)=0$$\n",
    "\n",
    "Dada uma função $f:R \\rightarrow R$ dizemos que $\\overline{x} \\in R$, tal que $f(\\overline{x})=0$ é um _zero_ (ou _raiz_) da função $f$. Graficamente, uma raíz é o ponto onde a função $f(x)$ cruza ou toca o eixo $x$. Uma equação $f(x)=0$ pode não ter solução (raiz real), ter uma única raiz ou várias.\n",
    "\n",
    "![raizes.jpg](https://github.com/tiagoburiol/NUMETHODS/raw/master/3_ZEROS_DE_FUNCOES/images/raizes.jpg)\n",
    "\n",
    "Quando a equação é simples, o valor de $x$ pode ser determinado analiticamente. Esse é o caso quando se escreve $x$ explicitamente após a aplicação de operações matemáticas, ou quando uma fórmula conhecida (como a fórmula de Bháskara para resolução de equações quadráticas) pode ser usada para determinar o valor exato de $x$. Em muitas situações, no entanto, é impossível determinar analiticamente a raiz de uma equação.\n",
    "\n",
    "Por exemplo, é relativamente fácil obter analiticamente as raízes das equações \n",
    "\n",
    "a) $2.1x-47.3 = 0$\n",
    "\n",
    "b) $x^2+2x-3 = 0$\n",
    "\n",
    "c) $senx-x = 0$\n",
    "\n",
    "Já para as equações a seguir é preferível utilizar-se de métodos numéricos\n",
    "\n",
    "a) $xe^x-2 = 0$\n",
    "\n",
    "b) $cos3\\theta-sen\\theta =0$\n",
    "\n",
    "c) $2.1^x+5.7x=0$\n",
    "\n",
    "**Exemplo 2.1.1:**\n",
    "Em termodinâmica, sob determinadas condições, a relação entre o calor $Q$ fornecido a um gás e sua variação de temperatura $T_f - T_i$ é dada por \n",
    "\n",
    "$$ Q = nR \\left[ A (T_f-T_i)+ \\frac{B}{2}(T_f^2-T_i^2) + \\frac{C}{3}(T_f^3-T_i^3) \\right].$$\n",
    "\n",
    "Para o gás metano tem-se $R=8,314 J/mol.K$, $A=1,702$, $B=9,081 \\times 10^{-3}K^{-1}$, $C=-2,164 \\times 10^{-6} K^{-2}$. \n",
    "\n",
    "Considere o problema de calcular a temperatura final $T_f$ se $20 kJ$ de energia que é absorvido pelo gás, supondo estar contido em uma uma câmara com $n=2 mol$ de metano a temperatura $T_i = 300 K$. \n",
    "\n",
    "**Exemplo 2.1.2:**\n",
    "A área do segmento $A_S$ de um círculo de raio $r$ (ver figura abaixo) é dada por $A_S=\\frac{1}{2}r^2(\\theta-sen\\theta).$\n",
    "\n",
    "\n",
    "<img src=\"imagens/circulo_de_raio_r.png\" width=\"100\">\n",
    "\n",
    "Para se determinar o ângulo $\\theta$ se $A_S$ e $r$ são conhecidos, a equação deve ser resolvida para $\\theta$. Obviamente, não é possível escrever $\\theta$ explicitamente em termos de $A_S$ e $r$, portanto, a equação não pode ser resolvida analiticamente."
   ]
  },
  {
   "cell_type": "markdown",
   "id": "311e9be4-5b8b-49bd-b05c-e901f6fccceb",
   "metadata": {},
   "source": [
    "**Exemplo 2.1.3:** Seja uma esfera de madeira de raio $r$ colocada a flutuar sobre a água conforme figura. Qual é a altura $d$ da esfera que ficará submersa? \n",
    "\n",
    "![esfera.png](data:image/png;base64,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)\n",
    "\n",
    "Para responder essa pergunta, observemos que, pelo *Princípio de Arquimedes* o peso da esfera deve ser equilibrado com o peso do volume de água deslocada, ou seja, $\\mu_e V_e g = \\mu_a V_a g$ onde $g$ é a aceleração da gravidade, $\\mu_e$ é a densidade relativa da madeira e $\\mu_a$ é a densidade relativa da água, $V_e$ e $V_a$ são os volumes. Essa equação nos leva a \n",
    "\n",
    "$$ \\mu_e \\frac{4 \\pi r^3}{3} = \\mu_a \\int_0^d \\pi \\left[r^2-(x-r)^2) \\right]dx $$\n",
    "\n",
    "$$ \\mu_e \\frac{4 \\pi r^3}{3} = \\mu_a \\frac{\\pi d^2 (3r-d)}{3}$$\n",
    "\n",
    "$$ 4 \\mu_e r^3 = \\mu_a d^2 (3r-d)$$\n",
    "\n",
    "substituindo os valores: $r=10 cm$  $\\mu_e =0,638 g/cm^3$ e $\\mu_a=1 g/cm^3$ obtemos \n",
    "\n",
    "\n",
    "$$ 1.047d^3-31.415d^2+2672.369=0$$ \n",
    "\n",
    "Basta resolver essa equação para obter a resposta procurada. Embora a solução analítica para esse problema possa ser encontrada, não é tão simples. No entanto, com uma rotina num simples podemos encontrar uma boa aproximação numericamente. "
   ]
  },
  {
   "cell_type": "markdown",
   "id": "defc81fb-4756-4c72-80f8-1351b05e22a6",
   "metadata": {},
   "source": [
    "**Exemplo 2.1.4:** Podemos utilizar uma abordagem numérica para obter soluções aproximadas de equações, vejamos por exemplo a equação $f(d) = 1.047d^3-31.415d^2+2672.369$ do exemplo descrito anteriormente. Dos dados do problema, podemos inferir que a solução é um número entre 0 e 20, então, calculamos valores da função nesse intervalo e tentar encontrar uma aproximação. Buscamos o valor de $d$ que anula a função $f$, então, observando os resultados na tabera abaixo, podemos concluir que a solução é um número entre 11 e 12 cm pois é o intervalo onde a função muda de sinal.  "
   ]
  },
  {
   "cell_type": "code",
   "execution_count": 1,
   "id": "7eb35813-b1bb-46dd-ad0e-cdb07559ecc5",
   "metadata": {},
   "outputs": [
    {
     "name": "stdout",
     "output_type": "stream",
     "text": [
      "f( 0 )= 2672.369\n",
      "f( 1 )= 2642.001\n",
      "f( 2 )= 2555.085\n",
      "f( 3 )= 2417.903\n",
      "f( 4 )= 2236.737\n",
      "f( 5 )= 2017.869\n",
      "f( 6 )= 1767.581\n",
      "f( 7 )= 1492.155\n",
      "f( 8 )= 1197.873\n",
      "f( 9 )= 891.017\n",
      "f( 10 )= 577.869\n",
      "f( 11 )= 264.711\n",
      "f( 12 )= -42.175\n",
      "f( 13 )= -336.507\n",
      "f( 14 )= -612.003\n",
      "f( 15 )= -862.381\n",
      "f( 16 )= -1081.359\n",
      "f( 17 )= -1262.655\n",
      "f( 18 )= -1399.987\n",
      "f( 19 )= -1487.073\n",
      "f( 20 )= -1517.631\n"
     ]
    }
   ],
   "source": [
    "for d in range(0,21):\n",
    "    y = 1.047*d**3-31.415*d**2+2672.369\n",
    "    print('f(',d,')=', round(y,3))"
   ]
  },
  {
   "cell_type": "markdown",
   "id": "18d735bb-cdc5-4df0-b7d7-6362ccb5dd49",
   "metadata": {},
   "source": [
    "Seguindo o mesmo procedimento mas agora incrementando o valor de $d$ em 0.1 e calculando $f$ para valores de $d$ entre 11 e 12 observamos que a solução está entre $11.8$ e $11.9$. "
   ]
  },
  {
   "cell_type": "code",
   "execution_count": 2,
   "id": "d2291eab-e881-4350-a23a-5dc9ca639502",
   "metadata": {},
   "outputs": [
    {
     "name": "stdout",
     "output_type": "stream",
     "text": [
      "f( 11.0 )= 264.711\n",
      "f( 11.1 )= 233.637\n",
      "f( 11.2 )= 202.631\n",
      "f( 11.3 )= 171.701\n",
      "f( 11.4 )= 140.852\n",
      "f( 11.5 )= 110.091\n",
      "f( 11.6 )= 79.425\n",
      "f( 11.7 )= 48.858\n",
      "f( 11.8 )= 18.399\n",
      "f( 11.9 )= -11.948\n",
      "f( 12.0 )= -42.175\n"
     ]
    }
   ],
   "source": [
    "for inc in range(0,11):\n",
    "    d = 11+inc/10\n",
    "    y = 1.047*d**3-31.415*d**2+2672.369\n",
    "    print('f(',d,')=', round(y,3))"
   ]
  },
  {
   "cell_type": "markdown",
   "id": "fb20df1b-c958-4b43-9392-58c767e8fe6d",
   "metadata": {},
   "source": [
    "Por fim, podemos tomar como solução aproximada o ponto médio entre $11.8$ e $11.9$, ou seja, $d=11.85$. A precisão é de $0.05$."
   ]
  },
  {
   "cell_type": "markdown",
   "id": "258bbee1-76d5-4e57-ac9c-5a3e4d1a8104",
   "metadata": {},
   "source": [
    "**Exemplo 2.1.5:** (Usando a biblioteca SciPy)\n",
    "\n",
    "Encontrando a raiz de $A_S=\\frac{1}{2}r^2(\\theta-sen\\theta)$ com $r=1$ e $A_s = 3.5$."
   ]
  },
  {
   "cell_type": "code",
   "execution_count": 3,
   "id": "571d3c42-2e5f-4642-874b-534dad2e4058",
   "metadata": {},
   "outputs": [
    {
     "name": "stdout",
     "output_type": "stream",
     "text": [
      "[7.99067236]\n"
     ]
    }
   ],
   "source": [
    "from scipy.optimize import fsolve\n",
    "import numpy as np\n",
    "\n",
    "As = lambda x: 0.5*(x-np.sin(x))-3.5\n",
    "\n",
    "sol = fsolve(As, 1)\n",
    "print (sol)"
   ]
  },
  {
   "cell_type": "markdown",
   "id": "70b202d0-390c-4dc5-9cce-3961b2c3b00e",
   "metadata": {},
   "source": [
    "Esses foram pequenos exemplos de como os métodos numéricos podem nos auxiliar a obter soluções aproximadas quando não é fácil ou possível obter soluções analíticas. Os métodos numéricos são utilizados para muitas outras situações, como resolver integrais definidas, sistemas lineares de grande porte, equações diferenciais, obter visualização de grandes conjuntos de dados, etc."
   ]
  },
  {
   "cell_type": "markdown",
   "id": "83d50e10-d7c8-42cc-b98f-5080656292b2",
   "metadata": {},
   "source": [
    "### Localização de Raízes\n",
    "\n",
    "Como foi possível perceber, muitos problemas em ciências e engenharia envolvem a resolução de uma equação que pode ser colocada na forma \n",
    "\n",
    "\n",
    "$$f(x)=0$$ \n",
    "\n",
    "Em alguns casos a solução exata $\\overline{x}$ pode ser encontrada por processos analíticos, quando isso não for possível, uma solução aproximada pode ser obtida por métodos numéricos. Em geral, esses métodos fornecem uma sequência de aproximações, obtidas por um processo iterativo que termina quando a precisão desejada é atingida. \n",
    "\n",
    "Graficamente as raízes da equação $f(x)=0$ (ou zeros da função $f$ correspondem aos pontos onde o gráfico de $f$ intercepta o eixo $x$. Na figura abaixo, a função $f$ possui 5 zeros representados por $\\overline{x}_1$, $\\overline{x}_2$, $\\overline{x}_3$, $\\overline{x}_4$ e $\\overline{x}_5$.\n",
    "\n",
    "![localizacao.png](imagens/localizacao.png)\n",
    "<!---\n",
    "<img src=\"https://github.com/tiagoburiol/NUMETHODS/raw/master/3_ZEROS_DE_FUNCOES/images/localizacao.png\" width=\"500\">-->\n",
    "\n",
    "\n",
    "\n",
    "\n",
    "Encontrar numericamente a raiz de uma equação requer duas etapas:\n",
    "\n",
    "1. Isolar a raiz, ou seja, encontrar um intervalo $[a,b]$ contendo uma única raíz da equação $f(x)=0$ e;\n",
    "\n",
    "2. Refinar o intervalo que contém a raíz até atingir a precisão desejada.\n",
    "\n",
    "\n",
    "Para isolar os zeros de uma função, podemos utilizar métodos gráficos ou testar valores numericamente. Um dos métodos gráficos consiste em rescrever a equação $f(x)=0$ numa forma equivamente $f_1(x)=f_2(x)$ e traçar os gráficos de $f_1$ e $f_2$ para verificar onde eles se interceptam. Outra abordagem seria atribuir valores arbitrários para a variável $x$ e encontrar um par $a$ e $b$ tal que $f(a)\\cdot f(b)<0$."
   ]
  },
  {
   "cell_type": "markdown",
   "id": "0ec4aa45-ce7b-4789-a5c1-1ca439d02adf",
   "metadata": {},
   "source": [
    "**Exemplo 2.1.6:**\n",
    "\n",
    "A equação $f(x)=e^x-sen(x)-2=0$ pode ser escrita como $e^x=senx+2$ então, esboçando os gráficos de $f_1(x)=e^x$ e $f_2(x)=senx+2$, observamos que \n",
    "a raiz procurada está entre  $0.5$ e $1.5$, como pode ser visto na figura abaixo\n",
    " <img src=\"https://github.com/tiagoburiol/NUMETHODS/raw/master/3_ZEROS_DE_FUNCOES/images/exemplo1.png\" width=\"300\"> "
   ]
  },
  {
   "cell_type": "markdown",
   "id": "6d13a01d-b449-497f-8dea-a17bbb477306",
   "metadata": {},
   "source": [
    "Também podemos fazer gráficos usando Python. Para isso precisamos da seguinte biblioteca:"
   ]
  },
  {
   "cell_type": "code",
   "execution_count": 4,
   "id": "45a93566-fb2a-45b1-b62e-4f1a1b1b1966",
   "metadata": {},
   "outputs": [],
   "source": [
    "import matplotlib.pyplot as plt"
   ]
  },
  {
   "cell_type": "markdown",
   "id": "da49a985-0610-4bb3-9e84-1649382854ec",
   "metadata": {},
   "source": [
    "A partir daí criamos uma lista de pontos para plotar, fica fácil fazer isso usando a função *arange* da biblioteca numpy:"
   ]
  },
  {
   "cell_type": "code",
   "execution_count": 13,
   "id": "b1956895-14c7-4cee-bcbc-36b6383491a5",
   "metadata": {},
   "outputs": [
    {
     "name": "stdout",
     "output_type": "stream",
     "text": [
      "[-1.   -0.75 -0.5  -0.25  0.    0.25  0.5   0.75  1.    1.25  1.5   1.75\n",
      "  2.    2.25  2.5   2.75  3.    3.25  3.5   3.75  4.    4.25  4.5   4.75\n",
      "  5.    5.25  5.5   5.75]\n"
     ]
    }
   ],
   "source": [
    "import numpy as np\n",
    "x = np.arange(-1, 6, 0.25) # início, fim, passo\n",
    "print (x)"
   ]
  },
  {
   "cell_type": "markdown",
   "id": "fc19005c-cc76-4e58-ab0e-5fe2ca2de90e",
   "metadata": {},
   "source": [
    "Agora definimos as funções para obter os valores de $f1(x)$ e $f2(x)$. Isso pode ser feito usando a função `lambda` ou `def`."
   ]
  },
  {
   "cell_type": "code",
   "execution_count": 14,
   "id": "fd0c12ab-ec64-434e-b618-79776c9f9fa7",
   "metadata": {},
   "outputs": [],
   "source": [
    "f1 = lambda x: np.exp(x)\n",
    "f2 = lambda x: np.sin(x)+2"
   ]
  },
  {
   "cell_type": "markdown",
   "id": "97cdea14-c942-456c-b5fa-1e29df865c7b",
   "metadata": {},
   "source": [
    "Agora, basta plotar:"
   ]
  },
  {
   "cell_type": "code",
   "execution_count": 16,
   "id": "e4d43b0b-d7f8-4708-b590-03fa7fbb415f",
   "metadata": {},
   "outputs": [
    {
     "data": {
      "image/png": "[encoded data removed]",
      "text/plain": [
       "<Figure size 500x300 with 1 Axes>"
      ]
     },
     "metadata": {},
     "output_type": "display_data"
    }
   ],
   "source": [
    "plt.figure(figsize=(5,3))\n",
    "plt.plot(x, f1(x), x, f2(x))\n",
    "plt.ylim(0, 4) \n",
    "plt.grid()\n",
    "plt.show()"
   ]
  },
  {
   "cell_type": "markdown",
   "id": "abb0c58e-1524-4a79-aeb6-7822021e3e56",
   "metadata": {},
   "source": [
    "**Exemplo 2.1.7:**\n",
    "Atribuindo valores para $x$ e avaliando a função $f(x)=e^x-sen(x)-2$ para esses valores obtemos:\n",
    "\n",
    "    f(0.0) = -1.0000  \n",
    "    f(0.5) = -0.8307  \n",
    "    f(1.0) = -0.1232  \n",
    "    f(1.5) = 1.4842 \n",
    "    f(2.0) = 4.4798 \n",
    "    f(2.5) = 9.5840 \n",
    "\n",
    "Como $f(1.0) \\cdot f(1.5)<0$, podemos concluir que existe pelo menos uma raíz entre $1.0$ e $1.5$.\n",
    "\n",
    "Ainda, considerando essa mesma função, podemos verificar a existência de uma única raíz no intervalo $[1.0, 1.5]$ plotando seu gráfico\n",
    "\n",
    "\n",
    "<img src=\"https://github.com/tiagoburiol/NUMETHODS/raw/master/3_ZEROS_DE_FUNCOES/images/exemplo2.png\" width=\"300\">\n",
    "\n",
    "Em Python, podemos plotar os gráficos de $f_1(x)=e^x$ e $f_2(x)=sen(x)+2$ usando o seguinte script:"
   ]
  },
  {
   "cell_type": "code",
   "execution_count": null,
   "id": "94421396-06ab-4681-9bb5-d8e2c73cd9eb",
   "metadata": {},
   "outputs": [],
   "source": [
    "x = np.arange(0.5, 1.5, 0.1)\n",
    "\n",
    "f1 = lambda x: np.exp(x)\n",
    "f2 = lambda x: np.sin(x)+2\n",
    "\n",
    "plt.plot(x, f1(x), x, f2(x))\n",
    "plt.grid()\n",
    "plt.show()"
   ]
  },
  {
   "cell_type": "markdown",
   "id": "adb1e72f-d765-4a5a-a45f-716c4aaa68e7",
   "metadata": {},
   "source": [
    "Ou, então, plotar apenas o gráfico de $f(x)=e^x - sen(x) -2$ usando o seguinte script:"
   ]
  },
  {
   "cell_type": "code",
   "execution_count": null,
   "id": "406b882a-3db0-4ff3-b9a2-1eb643dfde18",
   "metadata": {},
   "outputs": [],
   "source": [
    "x = np.arange(0.0, 2.0, 0.1)\n",
    "\n",
    "f = lambda x: np.exp(x)-np.sin(x)-2\n",
    "\n",
    "plt.plot(x, f(x))\n",
    "plt.grid()\n",
    "plt.show()"
   ]
  },
  {
   "cell_type": "markdown",
   "id": "6f27f146-d631-4145-b1eb-4f6752a73bc9",
   "metadata": {},
   "source": [
    "**Exercícios:** \n",
    "\n",
    "**1.** Localize graficamente e determine uma aproximação para as raízes reais das funções dadas. \n",
    "\n",
    "a) $f(x) = –0.5x^2 + 2.5x + 4.5$\n",
    "\n",
    "b) $f(x) = 5x^2 – 5x^2 + 6x -2$\n",
    "\n",
    "c) $f(x) = –25 + 82x – 90x^2 + 44x^3 – 8x^4 + 0.7x^5$\n",
    "\n",
    "d) $f(x) = – 12 – 21x + 18x^2 – 2.75x^3$"
   ]
  },
  {
   "cell_type": "markdown",
   "id": "0837386b-af59-45b5-99be-682c54d82977",
   "metadata": {},
   "source": [
    "**2.** Determine um intervalo pequeno (de tamanho 0.1, por exemplo) que contenha as raízes reais das funções dadas.\n",
    "\n",
    "a) $f(x)=x-e^x=0$\n",
    "\n",
    "b) $f(x)=\\operatorname{sen}(x)+x^2+1=0$\n",
    "\n",
    "c) $f(x)=\\operatorname{sen}(x)-x+2=0$\n",
    "\n",
    "d) $f(x)=2 x-\\operatorname{tg}(x)=0$\n",
    "\n",
    "e) $f(x)=3 x-\\cos (x)+1=0$\n",
    "\n",
    "f) $f(x)=\\ln (x)-\\operatorname{sen}(x)=0$"
   ]
  },
  {
   "cell_type": "code",
   "execution_count": null,
   "id": "aa5e63d7-d76a-4326-a0e9-b56d225a9642",
   "metadata": {},
   "outputs": [],
   "source": []
  }
 ],
 "metadata": {
  "kernelspec": {
   "display_name": "Python 3 (ipykernel)",
   "language": "python",
   "name": "python3"
  },
  "language_info": {
   "codemirror_mode": {
    "name": "ipython",
    "version": 3
   },
   "file_extension": ".py",
   "mimetype": "text/x-python",
   "name": "python",
   "nbconvert_exporter": "python",
   "pygments_lexer": "ipython3",
   "version": "3.12.4"
  }
 },
 "nbformat": 4,
 "nbformat_minor": 5
}
