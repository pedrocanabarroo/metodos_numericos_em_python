{
 "cells": [
  {
   "cell_type": "markdown",
   "metadata": {},
   "source": [
    "## 2.3 Método do ponto fixo\n",
    "\n",
    "Muitos problemas em ciências e engenharia envolvem a resolução de uma equação que pode ser colocada na forma $f(x)=0$. Em alguns casos a solução exata $\\overline{x}$ pode ser encontrada por processos analíticos, quando isso não for possível, uma solução aproximada pode ser obtida por métodos numéricos. \n",
    "\n",
    "Em geral, a solução numérica é obtida por meio de um processo iterativo que gera uma sequência de soluções aproximadas $x_i$, $i=1,2,3,...$ a partir de uma aproximação inicial $x_0$. Se os valores obtidos se aproximam cada vez mais da solução exata $\\overline{x}$, ou seja, $|\\overline{x} -x_i| \\rightarrow 0$ quando $i\\rightarrow \\infty$, dizemos que a sequência está convergindo para a solução exata.\n",
    "\n",
    "O Método das aproximações sucessivas, ou método do ponto fixo, consiste em reescrever a equação $f(x)=0 $ em uma equação equivalente $x = \\phi (x)$ em que $\\phi (x)$ é a chamada função de iteração. A raiz $\\overline{x}$ procurada é obtida por meio de uma sequência de de soluções aproximadas, geradas pelo processo iterativo dado por\n",
    "\n",
    "$$ x_{i+1} = \\phi(x_i) , \\,\\,\\,\\,\\, i = 0,1,2,...$$\n",
    "\n",
    "Existem muitas formas diferentes de se obter a função de iteração, como é mostrado nos exemplos a seguir.\n",
    "\n",
    "**Exemplo 2.3.1:**\n",
    "Seja a equação $f(x) = x^2-5x=0$, então, algumas possíveis funções de iteração são\n",
    "\n",
    "(a) $x_{i+1} = \\phi(x_i) = \\sqrt{5x_i}$\n",
    "\n",
    "(b) $x_{i+1} = \\phi(x_i) = \\frac{x_i^2}{5}$\n",
    "\n",
    "(c) $x_{i+1} = \\phi(x_i) = x^2 - 4$\n",
    "\n",
    "\n",
    "**Exemplo 2.3.2:**\n",
    "Seja a equação $f(x) = x^3-x-7=0$, então, algumas possíveis funções de iteração são:\n",
    "\n",
    "(a) $x_{i+1} = \\phi(x_i) = x_{i}^3-7$\n",
    "\n",
    "(b) $x_{i+1} = \\phi(x_i) = \\sqrt[3]{x+7}$\n",
    "\n",
    "(c) $x_{i+1} = \\phi(x_i) = 7/(x^2-1)$\n",
    "\n",
    "De modo geral, sempre é possível obter uma função de iteração multiplicando uma função qualquer $\\theta(x)$ pela equação $f(x)=0$ e somando $x$ a ambos os lados obtendo-se \n",
    "\n",
    "$$x_{i+1} = \\phi(x_i) = f(x)\\theta(x_i)+x$$\n",
    "\n",
    "O processo iterativo gera uma sequência de soluções aproximadas a partir de uma solução inicial (\"chute\" inicial) $x_0$, como é mostrado abaixo\n",
    "\n",
    "$$x_{1} = \\phi(x_0)$$\n",
    "\n",
    "$$x_{2} = \\phi(x_1)$$\n",
    "\n",
    "$$x_{3} = \\phi(x_2)$$\n",
    "\n",
    "$$\\vdots$$\n",
    "\n",
    "$$x_{n} = \\phi(x_{n-1})\\simeq \\overline{x}$$\n",
    "\n",
    "Geometricamente, interpretamos o processo iterativo como é mostrado nas figuras abaixo, para dois casos distintos. O ponto de intersecção entre o gráfico de $\\phi(x)$ e a reta $y=x$ é o ponto cuja abcissa é a raix procurada $\\overline{x}$.\n",
    "\n",
    "<img src=\"imagens/ponto_fixo_convergente.png\" width=\"800\">\n",
    "<p style=\"text-align:center\"> Figura 2.3.1 - Método do ponto fixo convergindo para a raiz </p>\n",
    "\n",
    "\n",
    "**Convergência:**\n",
    "Seja $\\phi(x)$ uma função contínua e derivável em $I=[a,b]$ centrado em $\\overline{x}$, então, se $|\\phi'(x)|<1$ em $I$, a sequência ${x_k}$, $k=0,1,2,3,..$ querada por $x_{k+1}=\\phi(x_k)$ converge para a raiz $\\overline{x}$ procurada.\n",
    "\n",
    "No caso do processo iterativo gerar sequências divergentes, uma interpretação geométrica é mostrada na figura a seguir. \n",
    "\n",
    "<img src=\"imagens/ponto_fixo_divergente.png\" width=\"500\">\n",
    "<p style=\"text-align:center\"> Figura 2.3.2 - Método do ponto fixo divergindo da raiz. </p>"
   ]
  },
  {
   "cell_type": "markdown",
   "metadata": {},
   "source": [
    "**Exemplo 2.3.3:**\n",
    "Encontre uma raiz para $f(x)=x-cosx$ com $\\epsilon = 0.01$."
   ]
  },
  {
   "cell_type": "code",
   "execution_count": 9,
   "metadata": {},
   "outputs": [
    {
     "data": {
      "image/png": "[encoded data removed]",
      "text/plain": [
       "<Figure size 640x480 with 1 Axes>"
      ]
     },
     "metadata": {},
     "output_type": "display_data"
    }
   ],
   "source": [
    "import numpy as np\n",
    "import matplotlib.pyplot as plt\n",
    "f1 = lambda x: x\n",
    "f2 = lambda x: np.cos(x)\n",
    "X = np.linspace(-5, 5, 31)\n",
    "plt.plot(X, f1(X), \"b-\", X, f2(X), \"r-\") \n",
    "plt.grid()\n",
    "plt.show()"
   ]
  },
  {
   "cell_type": "code",
   "execution_count": 2,
   "metadata": {},
   "outputs": [
    {
     "name": "stdout",
     "output_type": "stream",
     "text": [
      "1 | x=0.764842187 | err=0.084778518\n",
      "2 | x=0.721491640 | err=0.060084615\n",
      "3 | x=0.750821329 | err=0.039063474\n",
      "4 | x=0.731128773 | err=0.026934457\n",
      "5 | x=0.744421184 | err=0.017856035\n",
      "6 | x=0.735480200 | err=0.012156661\n",
      "7 | x=0.741508652 | err=0.008129981\n"
     ]
    }
   ],
   "source": [
    "from math import cos\n",
    "phi = lambda x: cos(x)\n",
    "x0 = 0.7\n",
    "eps = 0.01\n",
    "\n",
    "# Inicializando as variáveis\n",
    "err = 10.0\n",
    "x_ant = x0\n",
    "i = 0\n",
    "\n",
    "while err>eps:\n",
    "    x = phi(x_ant)\n",
    "    err = abs(x-x_ant)/abs(x)\n",
    "    x_ant = x\n",
    "    i=i+1\n",
    "    print (i, \"| x=%.9f\"%x, \"| err=%.9f\"%err)"
   ]
  },
  {
   "cell_type": "markdown",
   "metadata": {},
   "source": [
    "**Exemplo 2.3.4:**\n",
    "Encontrar a menor raíz positiva de $ f(x)=2x-\\tan(x)$ com $\\epsilon < 0.01$.\n",
    "\n",
    "_Solução:_ Inicialmente precisamos localizar a menor raiz positiva da função. Sabemos que há uma raíz em $x=0$ e a outra é próxima de $\\pi/2$. Para conseguir uma boa aproximação inicial, fazemos algumas contas e gráfico:"
   ]
  },
  {
   "cell_type": "code",
   "execution_count": 4,
   "metadata": {},
   "outputs": [
    {
     "name": "stdout",
     "output_type": "stream",
     "text": [
      "f( 0.0 )= 0.0\n",
      "f( 0.3490658503988659 )= 0.33416146653152945\n",
      "f( 0.6981317007977318 )= 0.5571637704181837\n",
      "f( 1.0471975511965976 )= 0.3623442948243185\n",
      "f( 1.3962634015954636 )= -2.8787550164267794\n",
      "f( 1.7453292519943295 )= 9.16194032360637\n",
      "f( 2.0943951023931953 )= 5.920841012355269\n",
      "f( 2.443460952792061 )= 5.726021536761403\n",
      "f( 2.792526803190927 )= 5.9490238406480564\n",
      "f( 3.141592653589793 )= 6.283185307179586\n"
     ]
    }
   ],
   "source": [
    "import numpy as np\n",
    "import matplotlib.pyplot as plt\n",
    "\n",
    "for x in np.linspace(0,np.pi,10):\n",
    "    print (\"f(\",x,\")=\", 2*x-np.tan(x))"
   ]
  },
  {
   "cell_type": "markdown",
   "metadata": {},
   "source": [
    "Na tabela acima para valores da função entre 0 e $\\pi$, já vemos que a menor raíz positiva está entre 1.04 e 1.39. Embora possa parecer qu existe outa raiz entre 1.39 e 1.75, essa é uma conclusão erradapois a função não é contínua em $x = \\pi/2$. Fazendo o gráfico de $f_1(x)=2x$ e $f_2(x)=tan(x)$ podemos ter uma ideia melhor da localização dessa raiz e concluir que ela está próxima de $x=1.2$."
   ]
  },
  {
   "cell_type": "code",
   "execution_count": 5,
   "metadata": {},
   "outputs": [
    {
     "data": {
      "image/png": "[encoded data removed]",
      "text/plain": [
       "<Figure size 640x480 with 1 Axes>"
      ]
     },
     "metadata": {},
     "output_type": "display_data"
    }
   ],
   "source": [
    "X = np.linspace(0,1.4,50)\n",
    "plt.plot(X, np.tan(X),\"r\",X, 2*X,\"b\") \n",
    "plt.grid()\n",
    "plt.show()\n"
   ]
  },
  {
   "cell_type": "markdown",
   "metadata": {},
   "source": [
    "Usando o método do ponto fixo, a primeira função de iteração que imediatamente imaginamos é $\\phi(x)=\\tan(x)/2$. Mas nesse caso o método converge apenas para a raiz nula já que $|\\phi'(x)|=|\\tan(x)/2|$ é maior que 1 para valores próximos de $x=1.2$ como podemos ver abaixo."
   ]
  },
  {
   "cell_type": "code",
   "execution_count": 6,
   "metadata": {},
   "outputs": [
    {
     "name": "stdout",
     "output_type": "stream",
     "text": [
      "x = 0.8 phi' = -0.06015555816475615\n",
      "x = 0.88 phi' = -0.4632872860442183\n",
      "x = 0.96 phi' = -1.0402051218775918\n",
      "x = 1.04 phi' = -1.9023027471028362\n",
      "x = 1.12 phi' = -3.268171142025814\n",
      "x = 1.2 phi' = -5.615963967207052\n"
     ]
    }
   ],
   "source": [
    "for x in np.linspace(0.8,1.2,6):\n",
    "    print ('x =',x, \"phi' =\",  2-(1/(cos(x))**2 ))"
   ]
  },
  {
   "cell_type": "markdown",
   "metadata": {},
   "source": [
    "Assim precisamos de uma outra função de iteração, talvez $\\phi(x) = \\tan^{-1}(2x)$. Podemos testar fazendo algumas iterações e verificando que está se aproximando de um valor fixo próximo de $x=1.2$."
   ]
  },
  {
   "cell_type": "code",
   "execution_count": 7,
   "metadata": {},
   "outputs": [
    {
     "name": "stdout",
     "output_type": "stream",
     "text": [
      "1.1071487177940904\n",
      "1.1466039045135867\n",
      "1.1595864584933437\n",
      "1.1636959143671342\n",
      "1.1649805955397388\n",
      "1.165380637446075\n",
      "1.16550505598934\n"
     ]
    }
   ],
   "source": [
    "x = 1.0\n",
    "for i in range(7):\n",
    "    x = np.arctan(2*x)\n",
    "    print (x)"
   ]
  },
  {
   "cell_type": "markdown",
   "metadata": {},
   "source": [
    "Lembrando que $\\frac{d}{dx}(tan^{-1})=\\frac{1}{1+x^2}$ fica fácil verificar a convergência."
   ]
  },
  {
   "cell_type": "markdown",
   "metadata": {},
   "source": [
    "A seguir a mesma equação resolvida pelo Método de Newton-Raphson, que é assunto da próxima seção."
   ]
  },
  {
   "cell_type": "code",
   "execution_count": 8,
   "metadata": {},
   "outputs": [
    {
     "name": "stdout",
     "output_type": "stream",
     "text": [
      "1.1656668721422732 -0.00046879734426985564\n",
      "1.1655612229823151 -1.6749979936392378e-07\n",
      "1.165561185207216 -2.1316282072803006e-14\n",
      "1.1655611852072112 4.440892098500626e-16\n",
      "1.1655611852072112 4.440892098500626e-16\n"
     ]
    }
   ],
   "source": [
    "from math import tan, cos\n",
    "x = 1.16\n",
    "for i in range(5):\n",
    "    #x = tan(x)/2\n",
    "    x = x-(2*x-tan(x))/(2-(1/(cos(x))**2))\n",
    "    print (x, 2*x-tan(x))"
   ]
  }
 ],
 "metadata": {
  "kernelspec": {
   "display_name": "Python 3 (ipykernel)",
   "language": "python",
   "name": "python3"
  },
  "language_info": {
   "codemirror_mode": {
    "name": "ipython",
    "version": 3
   },
   "file_extension": ".py",
   "mimetype": "text/x-python",
   "name": "python",
   "nbconvert_exporter": "python",
   "pygments_lexer": "ipython3",
   "version": "3.12.4"
  }
 },
 "nbformat": 4,
 "nbformat_minor": 4
}
