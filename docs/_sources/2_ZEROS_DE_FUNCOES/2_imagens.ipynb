{
 "cells": [
  {
   "cell_type": "code",
   "execution_count": 19,
   "metadata": {},
   "outputs": [],
   "source": [
    "import numpy as np\n",
    "import matplotlib.pyplot as plt\n",
    "import matplotlib as mpl\n",
    "plt.rcParams[\"font.family\"] = \"serif\"\n",
    "plt.rcParams[\"mathtext.fontset\"] = \"dejavuserif\""
   ]
  },
  {
   "cell_type": "code",
   "execution_count": 30,
   "metadata": {},
   "outputs": [
    {
     "data": {
      "image/png": "[encoded data removed]",
      "text/plain": [
       "<Figure size 432x288 with 1 Axes>"
      ]
     },
     "metadata": {},
     "output_type": "display_data"
    }
   ],
   "source": [
    "x = np.linspace(-3, 3.7)\n",
    "f = lambda x: 0.3*(x+1)*(x-2.1)*(1.1*x)-1.1\n",
    "fig, ax = plt.subplots()\n",
    "ax.plot(x, f(x),[2.485],f(2.485),'o',color='black')\n",
    "\n",
    "\n",
    "params = {'mathtext.default': 'regular' }          \n",
    "plt.rcParams.update(params)\n",
    "\n",
    "\n",
    "ax.text(-0.2,-0.7, \"O\", style='italic')\n",
    "ax.text(1.05,-0.7, \"a\", style='italic')\n",
    "ax.text(2.55,f(2.485)-0.8, \"$\\overline{x}$\", style='italic')\n",
    "ax.text(3,-0.7, \"b\", style='italic')\n",
    "\n",
    "ax.text(-0.35,f(1)-0.2, \"f(a)\", style='italic')\n",
    "ax.text(-0.35,f(3)-0.2, \"f(b)\", style='italic')\n",
    "\n",
    "\n",
    "ax.vlines(x=[1,3], ymin=[0,0], ymax=[f(1),f(3)], \n",
    "          color='black', ls='--', lw=1)\n",
    "\n",
    "ax.hlines(y=[f(1),f(3)],xmin=[0,0], xmax=[1,3], \n",
    "          color='black', ls='--', lw=1)\n",
    "\n",
    "\n",
    "           \n",
    "# Customizações para a figura final:\n",
    "#____________________\n",
    "# Limites em x e em y\n",
    "ymin = -4; ymax = 10\n",
    "xmin = -1; xmax = 5\n",
    "plt.ylim(ymin, ymax) \n",
    "plt.xlim(xmin, xmax)\n",
    "#________________________________________________\n",
    "# Inclui setas nos eixos nas posições certas\n",
    "ax.plot((xmax-0.07), (0), marker=\">\", color='black')\n",
    "ax.text(xmax-0.15,-1, \"x\", style='italic')\n",
    "ax.plot((0), (ymax-0.3), marker=\"^\",color='black')\n",
    "ax.text(-0.2, ymax-0.7, \"y\", style='italic')\n",
    "\n",
    "# remove as bordas\n",
    "ax.spines['top'].set_visible(False)\n",
    "ax.spines['right'].set_visible(False)\n",
    "ax.spines['bottom'].set_visible(False)\n",
    "ax.spines['left'].set_visible(False)\n",
    "\n",
    "# desenha os eixos\n",
    "ax.axhline(linewidth=1.0, color='black')\n",
    "ax.axvline(linewidth=1.0, color='black')\n",
    "\n",
    "\n",
    "plt.xticks([])\n",
    "plt.yticks([])\n",
    "plt.grid()\n",
    "plt.savefig('png/bolzano.png',dpi=300)"
   ]
  },
  {
   "cell_type": "code",
   "execution_count": null,
   "metadata": {},
   "outputs": [],
   "source": []
  },
  {
   "cell_type": "code",
   "execution_count": null,
   "metadata": {},
   "outputs": [],
   "source": []
  },
  {
   "cell_type": "markdown",
   "metadata": {},
   "source": [
    "#### Exemplo 1"
   ]
  },
  {
   "cell_type": "code",
   "execution_count": 3,
   "metadata": {},
   "outputs": [
    {
     "data": {
      "image/png": "[encoded data removed]",
      "text/plain": [
       "<Figure size 432x288 with 1 Axes>"
      ]
     },
     "metadata": {
      "needs_background": "light"
     },
     "output_type": "display_data"
    }
   ],
   "source": [
    "x = np.linspace(-3, 6)\n",
    "f1 = lambda x: np.exp(x)\n",
    "f2 = lambda x: np.sin(x)+2\n",
    "\n",
    "fig, ax = plt.subplots()\n",
    "\n",
    "ax.axhline(linewidth=1.0, color='black')\n",
    "ax.axvline(linewidth=1.0, color='black')\n",
    "\n",
    "ax.annotate(\"$f_1(x) = e^x$\", fontsize=12,\n",
    "            xy=(2,6), xycoords='data',\n",
    "            xytext=(2,6), textcoords='data')\n",
    "\n",
    "ax.annotate(\"$f_2(x) = sen(x)+2$\", fontsize=12,\n",
    "            xy=(2.2,3.2), xycoords='data',\n",
    "            xytext=(2,3.2), textcoords='data')\n",
    "\n",
    "\n",
    "plt.plot(x, f1(x), x, f2(x),color='black')\n",
    "plt.ylim(-1, 8) \n",
    "plt.xlim(-3, 6)\n",
    "plt.grid()\n",
    "plt.savefig('png/exemplo1.png',dpi=300)\n"
   ]
  },
  {
   "cell_type": "code",
   "execution_count": 4,
   "metadata": {},
   "outputs": [
    {
     "name": "stdout",
     "output_type": "stream",
     "text": [
      "f( 0.5 ) = -0.8307\n",
      "f( 0.6 ) = -0.7425\n",
      "f( 0.7 ) = -0.6305\n",
      "f( 0.8 ) = -0.4918\n",
      "f( 0.9 ) = -0.3237\n",
      "f( 1.0 ) = -0.1232\n",
      "f( 1.1 ) = 0.113\n",
      "f( 1.2 ) = 0.3881\n",
      "f( 1.3 ) = 0.7057\n",
      "f( 1.4 ) = 1.0698\n",
      "f( 1.5 ) = 1.4842\n"
     ]
    }
   ],
   "source": [
    "xi = np.linspace(0.5, 1.5, 11)\n",
    "f = lambda x: np.exp(x)-np.sin(x)-2\n",
    "for x in xi:\n",
    "    print (\"f(\",round(x,1),\") =\",round(f(x),4))"
   ]
  },
  {
   "cell_type": "code",
   "execution_count": 5,
   "metadata": {},
   "outputs": [
    {
     "data": {
      "text/plain": [
       "-0.009772107530853003"
      ]
     },
     "execution_count": 5,
     "metadata": {},
     "output_type": "execute_result"
    }
   ],
   "source": [
    "f(1.05)"
   ]
  },
  {
   "cell_type": "code",
   "execution_count": null,
   "metadata": {},
   "outputs": [],
   "source": []
  },
  {
   "cell_type": "code",
   "execution_count": 6,
   "metadata": {},
   "outputs": [],
   "source": [
    "import math"
   ]
  },
  {
   "cell_type": "code",
   "execution_count": 7,
   "metadata": {},
   "outputs": [
    {
     "name": "stdout",
     "output_type": "stream",
     "text": [
      "2.4041630560342617\n",
      "3.136563602406145\n",
      "3.457552430687604\n"
     ]
    },
    {
     "data": {
      "image/png": "[encoded data removed]",
      "text/plain": [
       "<Figure size 432x288 with 1 Axes>"
      ]
     },
     "metadata": {},
     "output_type": "display_data"
    }
   ],
   "source": [
    "xplot = np.linspace(0, 6)\n",
    "f1 = lambda x: x\n",
    "f2 = lambda x: 1.7*np.sqrt(x+1) #0.2*np.exp(x)-0.9\n",
    "\n",
    "xi = [1]; yi_min = [0]; yi_max = [f2(xi[0])]\n",
    "yi = []; xi_min = []; xi_max = []\n",
    "\n",
    "fig, ax = plt.subplots()\n",
    "ax.plot(xplot, f1(xplot), xplot, f2(xplot),color='black')\n",
    "ax.plot(xi, yi_max[-1]-0.12, \n",
    "        marker=\"^\",markersize=3, color='black')\n",
    "ax.annotate(\"$x_0$\", xy=(xi[-1]-0.1, -0.3), xycoords='data',\n",
    "            xytext=(xi[-1]-0.1, -0.3), textcoords='data')\n",
    "\n",
    "x=1\n",
    "for i in range(3):\n",
    "    x = f2(x)\n",
    "    print (x)\n",
    "    yi.append(yi_max[-1])\n",
    "    xi_min.append(xi[-1])\n",
    "    xi_max.append(yi[-1])\n",
    "    ax.plot(yi[-1]-0.12, xi_max[-1], \n",
    "            marker=\">\",markersize=3, color='black')\n",
    "    \n",
    "    xi.append(yi_max[-1])\n",
    "    yi_min.append(yi[-1])\n",
    "    yi_max.append(f2(xi[-1]))\n",
    "    ax.plot(xi[-1], yi_max[-1]-0.12, \n",
    "            marker=\"^\", markersize=3, color='black')\n",
    "    text = '$x_'+str(i+1)+'$'\n",
    "    ax.annotate(text, xy=(xi[-1]-0.1, -0.3), xycoords='data',\n",
    "            xytext=(xi[-1]-0.1, -0.3), textcoords='data')\n",
    "\n",
    "ax.vlines(x=xi, ymin=yi_min, ymax=yi_max, \n",
    "          color='black', ls='--', lw=1.2)\n",
    "ax.vlines(x=xi, ymin=np.zeros(len(xi)), ymax=yi_max, \n",
    "          color='black', linestyle='dotted', lw=1.2)\n",
    "ax.hlines(y=yi, xmin=xi_min, xmax=xi_max, \n",
    "          color='black', ls='--', lw=1.2)\n",
    "\n",
    "# inclui setas nos eixos\n",
    "ax.plot((5.9), (0), marker=\">\", color='black')\n",
    "ax.annotate(\"x\", xy=(6,-0.3), xycoords='data',\n",
    "            xytext=(6,-0.3), textcoords='data')\n",
    "ax.plot((0), (5.9), marker=\"^\",color='black')\n",
    "ax.annotate(\"y\", xy=(-0.2, 5.8), xycoords='data',\n",
    "            xytext=(-0.2, 5.8), textcoords='data')\n",
    "\n",
    "# remove as bordas\n",
    "ax.spines['top'].set_visible(False)\n",
    "ax.spines['right'].set_visible(False)\n",
    "ax.spines['bottom'].set_visible(False)\n",
    "ax.spines['left'].set_visible(False)\n",
    "\n",
    "# desenha os eixos\n",
    "ax.axhline(linewidth=1.0, color='black')\n",
    "ax.axvline(linewidth=1.0, color='black')\n",
    "\n",
    "plt.ylim(-0.5, 6) \n",
    "plt.xlim(-0.5, 6)\n",
    "plt.xticks([])\n",
    "plt.yticks([])\n",
    "plt.grid()\n",
    "plt.savefig('png/exemplo7a.png',dpi=300)\n"
   ]
  },
  {
   "cell_type": "code",
   "execution_count": 8,
   "metadata": {},
   "outputs": [
    {
     "name": "stderr",
     "output_type": "stream",
     "text": [
      "<ipython-input-8-e64d3b262fe4>:3: RuntimeWarning: divide by zero encountered in divide\n",
      "  f2 = lambda x: 5/np.sqrt(x)\n"
     ]
    },
    {
     "name": "stdout",
     "output_type": "stream",
     "text": [
      "5.0\n",
      "2.23606797749979\n",
      "3.34370152488211\n",
      "2.734363528521053\n"
     ]
    },
    {
     "data": {
      "image/png": "[encoded data removed]",
      "text/plain": [
       "<Figure size 432x288 with 1 Axes>"
      ]
     },
     "metadata": {},
     "output_type": "display_data"
    }
   ],
   "source": [
    "xplot = np.linspace(0, 6)\n",
    "f1 = lambda x: x\n",
    "f2 = lambda x: 5/np.sqrt(x)\n",
    "\n",
    "x = 1.0\n",
    "xi = [x]; yi_min = [0]; yi_max = [f2(xi[0])]\n",
    "yi = []; xi_min = []; xi_max = []\n",
    "\n",
    "fig, ax = plt.subplots()\n",
    "ax.plot(xplot, f1(xplot), xplot, f2(xplot),color='black')\n",
    "ax.plot(xi, yi_max[-1]-0.12, \n",
    "        marker=\"^\",markersize=3, color='black')\n",
    "ax.annotate(\"$x_0$\", xy=(xi[-1]-0.1, -0.3), xycoords='data',\n",
    "            xytext=(xi[-1]-0.1, -0.3), textcoords='data')\n",
    "\n",
    "\n",
    "for i in range(4):\n",
    "    x = f2(x)\n",
    "    print (x)\n",
    "    yi.append(yi_max[-1])\n",
    "    xi_min.append(xi[-1])\n",
    "    xi_max.append(yi[-1])\n",
    "    if xi_min[-1]<xi_max[-1]:\n",
    "        ax.plot(yi[-1]-0.12, xi_max[-1], \n",
    "            marker=\">\",markersize=3, color='black')\n",
    "    else:\n",
    "        ax.plot(yi[-1]+0.12, xi_max[-1], \n",
    "            marker=\"<\",markersize=3, color='black')\n",
    "    \n",
    "    xi.append(yi_max[-1])\n",
    "    yi_min.append(yi[-1])\n",
    "    yi_max.append(f2(xi[-1]))\n",
    "    if yi_min[-1]<yi_max[-1]:\n",
    "        ax.plot(xi[-1], yi_max[-1]-0.12, \n",
    "            marker=\"^\", markersize=3, color='black')\n",
    "    else:\n",
    "        ax.plot(xi[-1], yi_max[-1]+0.12, \n",
    "            marker=\"v\", markersize=3, color='black')\n",
    "        \n",
    "    text = '$x_'+str(i+1)+'$'\n",
    "    ax.annotate(text, xy=(xi[-1]-0.1, -0.3), xycoords='data',\n",
    "            xytext=(xi[-1]-0.1, -0.3), textcoords='data')\n",
    "\n",
    "        \n",
    "        \n",
    "\n",
    "ax.vlines(x=xi, ymin=yi_min, ymax=yi_max, \n",
    "          color='black', ls='--', lw=1.2)\n",
    "ax.vlines(x=xi, ymin=np.zeros(len(xi)), ymax=yi_max, \n",
    "          color='black', linestyle='dotted', lw=1.2)\n",
    "ax.hlines(y=yi, xmin=xi_min, xmax=xi_max, \n",
    "          color='black', ls='--', lw=1.2)\n",
    "\n",
    "# inclui setas nos eixos\n",
    "ax.plot((5.9), (0), marker=\">\", color='black')\n",
    "ax.annotate(\"x\", xy=(6,-0.3), xycoords='data',\n",
    "            xytext=(6,-0.3), textcoords='data')\n",
    "ax.plot((0), (5.9), marker=\"^\",color='black')\n",
    "ax.annotate(\"y\", xy=(-0.2, 5.8), xycoords='data',\n",
    "            xytext=(-0.2, 5.8), textcoords='data')\n",
    "\n",
    "# remove as bordas\n",
    "ax.spines['top'].set_visible(False)\n",
    "ax.spines['right'].set_visible(False)\n",
    "ax.spines['bottom'].set_visible(False)\n",
    "ax.spines['left'].set_visible(False)\n",
    "\n",
    "# desenha os eixos\n",
    "ax.axhline(linewidth=1.0, color='black')\n",
    "ax.axvline(linewidth=1.0, color='black')\n",
    "\n",
    "plt.ylim(-0.5, 6) \n",
    "plt.xlim(-0.5, 6)\n",
    "plt.xticks([])\n",
    "plt.yticks([])\n",
    "plt.grid()\n",
    "plt.savefig('png/exemplo7b.png',dpi=300)\n"
   ]
  },
  {
   "cell_type": "code",
   "execution_count": 9,
   "metadata": {},
   "outputs": [
    {
     "name": "stdout",
     "output_type": "stream",
     "text": [
      "2.953032424395115\n",
      "2.3776682175107107\n",
      "1.283251061383698\n"
     ]
    },
    {
     "data": {
      "image/png": "[encoded data removed]",
      "text/plain": [
       "<Figure size 432x288 with 1 Axes>"
      ]
     },
     "metadata": {},
     "output_type": "display_data"
    }
   ],
   "source": [
    "xplot = np.linspace(0, 6)\n",
    "f1 = lambda x: x\n",
    "f2 = lambda x: np.exp(x/2)-2\n",
    "\n",
    "x = 3.2\n",
    "xi = [x]; yi_min = [0]; yi_max = [f2(xi[0])]\n",
    "yi = []; xi_min = []; xi_max = []\n",
    "\n",
    "fig, ax = plt.subplots()\n",
    "ax.plot(xplot, f1(xplot), xplot, f2(xplot),color='black')\n",
    "ax.plot(xi, yi_max[-1]-0.12, \n",
    "        marker=\"^\",markersize=3, color='black')\n",
    "ax.annotate(\"$x_0$\", xy=(xi[-1]-0.1, -0.3), xycoords='data',\n",
    "            xytext=(xi[-1]-0.1, -0.3), textcoords='data')\n",
    "\n",
    "\n",
    "for i in range(3):\n",
    "    x = f2(x)\n",
    "    print (x)\n",
    "    yi.append(yi_max[-1])\n",
    "    xi_min.append(xi[-1])\n",
    "    xi_max.append(yi[-1])\n",
    "    if xi_min[-1]<xi_max[-1]:\n",
    "        ax.plot(yi[-1]-0.12, xi_max[-1], \n",
    "            marker=\">\",markersize=3, color='black')\n",
    "    else:\n",
    "        ax.plot(yi[-1]+0.12, xi_max[-1], \n",
    "            marker=\"<\",markersize=3, color='black')\n",
    "    \n",
    "    xi.append(yi_max[-1])\n",
    "    yi_min.append(yi[-1])\n",
    "    yi_max.append(f2(xi[-1]))\n",
    "    if yi_min[-1]<yi_max[-1]:\n",
    "        ax.plot(xi[-1], yi_max[-1]-0.12, \n",
    "            marker=\"^\", markersize=3, color='black')\n",
    "    else:\n",
    "        ax.plot(xi[-1], yi_max[-1]+0.12, \n",
    "            marker=\"v\", markersize=3, color='black')\n",
    "        \n",
    "    text = '$x_'+str(i+1)+'$'\n",
    "    ax.annotate(text, xy=(xi[-1]-0.1, -0.3), xycoords='data',\n",
    "            xytext=(xi[-1]-0.1, -0.3), textcoords='data')\n",
    "\n",
    "        \n",
    "        \n",
    "\n",
    "ax.vlines(x=xi, ymin=yi_min, ymax=yi_max, \n",
    "          color='black', ls='--', lw=1.2)\n",
    "ax.vlines(x=xi, ymin=np.zeros(len(xi)), ymax=yi_max, \n",
    "          color='black', linestyle='dotted', lw=1.2)\n",
    "ax.hlines(y=yi, xmin=xi_min, xmax=xi_max, \n",
    "          color='black', ls='--', lw=1.2)\n",
    "\n",
    "# inclui setas nos eixos\n",
    "ax.plot((5.9), (0), marker=\">\", color='black')\n",
    "ax.annotate(\"x\", xy=(6,-0.3), xycoords='data',\n",
    "            xytext=(6,-0.3), textcoords='data')\n",
    "ax.plot((0), (5.9), marker=\"^\",color='black')\n",
    "ax.annotate(\"y\", xy=(-0.2, 5.8), xycoords='data',\n",
    "            xytext=(-0.2, 5.8), textcoords='data')\n",
    "\n",
    "# remove as bordas\n",
    "ax.spines['top'].set_visible(False)\n",
    "ax.spines['right'].set_visible(False)\n",
    "ax.spines['bottom'].set_visible(False)\n",
    "ax.spines['left'].set_visible(False)\n",
    "\n",
    "# desenha os eixos\n",
    "ax.axhline(linewidth=1.0, color='black')\n",
    "ax.axvline(linewidth=1.0, color='black')\n",
    "\n",
    "plt.ylim(-0.5, 6) \n",
    "plt.xlim(-0.5, 6)\n",
    "plt.xticks([])\n",
    "plt.yticks([])\n",
    "plt.grid()\n",
    "plt.savefig('png/exemplo7c.png',dpi=300)\n"
   ]
  },
  {
   "cell_type": "code",
   "execution_count": 10,
   "metadata": {},
   "outputs": [
    {
     "name": "stdout",
     "output_type": "stream",
     "text": [
      "1.0800000000000005\n",
      "4.416799999999999\n"
     ]
    },
    {
     "data": {
      "image/png": "[encoded data removed]",
      "text/plain": [
       "<Figure size 432x288 with 1 Axes>"
      ]
     },
     "metadata": {},
     "output_type": "display_data"
    }
   ],
   "source": [
    "xplot = np.linspace(0, 5)\n",
    "f1 = lambda x: x\n",
    "f2 = lambda x: -0.5*x**2+5\n",
    "\n",
    "x =2.8\n",
    "xi = [x]; yi_min = [0]; yi_max = [f2(xi[0])]\n",
    "yi = []; xi_min = []; xi_max = []\n",
    "\n",
    "fig, ax = plt.subplots()\n",
    "ax.plot(xplot, f1(xplot), xplot, f2(xplot),color='black')\n",
    "ax.plot(xi, yi_max[-1]-0.12, \n",
    "        marker=\"^\",markersize=3, color='black')\n",
    "ax.annotate(\"$x_0$\", xy=(xi[-1]-0.1, -0.3), xycoords='data',\n",
    "            xytext=(xi[-1]-0.1, -0.3), textcoords='data')\n",
    "\n",
    "\n",
    "for i in range(2):\n",
    "    x = f2(x)\n",
    "    print (x)\n",
    "    yi.append(yi_max[-1])\n",
    "    xi_min.append(xi[-1])\n",
    "    xi_max.append(yi[-1])\n",
    "    if xi_min[-1]<xi_max[-1]:\n",
    "        ax.plot(yi[-1]-0.12, xi_max[-1], \n",
    "            marker=\">\",markersize=3, color='black')\n",
    "    else:\n",
    "        ax.plot(yi[-1]+0.12, xi_max[-1], \n",
    "            marker=\"<\",markersize=3, color='black')\n",
    "    \n",
    "    xi.append(yi_max[-1])\n",
    "    yi_min.append(yi[-1])\n",
    "    yi_max.append(f2(xi[-1]))\n",
    "    if yi_min[-1]<yi_max[-1]:\n",
    "        ax.plot(xi[-1], yi_max[-1]-0.12, \n",
    "            marker=\"^\", markersize=3, color='black')\n",
    "    else:\n",
    "        ax.plot(xi[-1], yi_max[-1]+0.12, \n",
    "            marker=\"v\", markersize=3, color='black')\n",
    "        \n",
    "    text = '$x_'+str(i+1)+'$'\n",
    "    ax.annotate(text, xy=(xi[-1]-0.1, -0.3), xycoords='data',\n",
    "            xytext=(xi[-1]-0.1, -0.3), textcoords='data')\n",
    "\n",
    "\n",
    "ax.vlines(x=xi, ymin=yi_min, ymax=yi_max, \n",
    "          color='black', ls='--', lw=1.2)\n",
    "ax.vlines(x=xi, ymin=np.zeros(len(xi)), ymax=yi_max, \n",
    "          color='black', linestyle='dotted', lw=1.2)\n",
    "ax.hlines(y=yi, xmin=xi_min, xmax=xi_max, \n",
    "          color='black', ls='--', lw=1.2)\n",
    "\n",
    "# inclui setas nos eixos\n",
    "ax.plot((5.9), (0), marker=\">\", color='black')\n",
    "ax.annotate(\"x\", xy=(6,-0.3), xycoords='data',\n",
    "            xytext=(6,-0.3), textcoords='data')\n",
    "ax.plot((0), (5.9), marker=\"^\",color='black')\n",
    "ax.annotate(\"y\", xy=(-0.2, 5.8), xycoords='data',\n",
    "            xytext=(-0.2, 5.8), textcoords='data')\n",
    "\n",
    "# remove as bordas\n",
    "ax.spines['top'].set_visible(False)\n",
    "ax.spines['right'].set_visible(False)\n",
    "ax.spines['bottom'].set_visible(False)\n",
    "ax.spines['left'].set_visible(False)\n",
    "\n",
    "# desenha os eixos\n",
    "ax.axhline(linewidth=1.0, color='black')\n",
    "ax.axvline(linewidth=1.0, color='black')\n",
    "\n",
    "plt.ylim(-0.5, 6) \n",
    "plt.xlim(-0.5, 6)\n",
    "plt.xticks([])\n",
    "plt.yticks([])\n",
    "plt.grid()\n",
    "plt.savefig('png/exemplo7d.png',dpi=300)\n"
   ]
  },
  {
   "cell_type": "code",
   "execution_count": 11,
   "metadata": {},
   "outputs": [
    {
     "name": "stdout",
     "output_type": "stream",
     "text": [
      "3.2561051957065645\n",
      "1.8685970743358675\n",
      "1.0943244755192305\n"
     ]
    },
    {
     "data": {
      "image/png": "[encoded data removed]",
      "text/plain": [
       "<Figure size 432x288 with 1 Axes>"
      ]
     },
     "metadata": {},
     "output_type": "display_data"
    }
   ],
   "source": [
    "xplot = np.linspace(0.3, 5.5)\n",
    "f = lambda x: np.exp(x/2)-1.56\n",
    "df = lambda x: np.exp(x/2)/2\n",
    "\n",
    "x = 5\n",
    "xi = [x]\n",
    "yi = [f(x)]\n",
    "\n",
    "fig, ax = plt.subplots()\n",
    "ax.plot(xplot, f(xplot),color='black')\n",
    "ax.plot(0.85, 0, '.', color='black')\n",
    "text = '$x_0$'\n",
    "ax.annotate(text, xy=(xi[-1]-0.1, -1), xycoords='data',\n",
    "            xytext=(xi[-1]-0.1, -1), textcoords='data')\n",
    "\n",
    "text = '$\\overline{x}$'\n",
    "ax.annotate(text, xy=(0.78, -1.2), xycoords='data',\n",
    "            xytext=(0.78, -1.2), textcoords='data')\n",
    "\n",
    "for i in range(1,4):\n",
    "    x = x-f(x)/df(x)\n",
    "    xi.append(x)\n",
    "    yi.append(f(x))\n",
    "    ax.plot([xi[-2],xi[-1]], \n",
    "            [f(xi[-2]),0],\n",
    "            color='black', lw=0.5)\n",
    "    print (x)\n",
    "    \n",
    "    text = '$x_'+str(i)+'$'\n",
    "    ax.annotate(text, xy=(xi[-1]-0.1, -1), xycoords='data',\n",
    "            xytext=(xi[-1]-0.1, -1), textcoords='data')\n",
    "\n",
    "    \n",
    "ax.vlines(x=xi, ymin=0, ymax=yi, \n",
    "         color='black', linestyle='dotted', lw=1.2)\n",
    "              \n",
    "# Customizações para a figura final:\n",
    "#____________________\n",
    "# Limites em x e em y\n",
    "ymin = -2; ymax = 17\n",
    "xmin = -0.5; xmax = 6\n",
    "plt.ylim(ymin, ymax) \n",
    "plt.xlim(xmin, xmax)\n",
    "#_____________________________________________________\n",
    "# Inclui setas nos eixos nas posições certas\n",
    "ax.plot((xmax-0.07), (0), marker=\">\", color='black')\n",
    "ax.text(xmax-0.15,-1, \"x\", style='italic')\n",
    "ax.plot((0), (ymax-0.3), marker=\"^\",color='black')\n",
    "ax.text(-0.2, ymax-0.7, \"y\", style='italic')\n",
    "#____________________________________\n",
    "# Remove as bordas\n",
    "ax.spines['top'].set_visible(False)\n",
    "ax.spines['right'].set_visible(False)\n",
    "ax.spines['bottom'].set_visible(False)\n",
    "ax.spines['left'].set_visible(False)\n",
    "#_______________________________________\n",
    "# Desenha os eixos\n",
    "ax.axhline(linewidth=1.0, color='black')\n",
    "ax.axvline(linewidth=1.0, color='black')\n",
    "#________________\n",
    "# remove a escala\n",
    "plt.xticks([])\n",
    "plt.yticks([])\n",
    "#plt.grid()\n",
    "#_____________________________\n",
    "# Salva em um arquivo\n",
    "plt.savefig('png/newton.png',dpi=300)"
   ]
  },
  {
   "cell_type": "code",
   "execution_count": 18,
   "metadata": {},
   "outputs": [
    {
     "name": "stdout",
     "output_type": "stream",
     "text": [
      "3.10559639776929\n",
      "2.1263959533174397\n",
      "1.4113625636000928\n",
      "1.02917530747943\n"
     ]
    },
    {
     "data": {
      "image/png": "[encoded data removed]",
      "text/plain": [
       "<Figure size 432x288 with 1 Axes>"
      ]
     },
     "metadata": {},
     "output_type": "display_data"
    }
   ],
   "source": [
    "plt.rcParams[\"font.family\"] = \"serif\"\n",
    "plt.rcParams[\"mathtext.fontset\"] = \"dejavuserif\"\n",
    "#['dejavusans', 'dejavuserif', 'cm', 'stix', 'stixsans', 'custom']\n",
    "\n",
    "xplot = np.linspace(0.3, 5.6)\n",
    "f = lambda x: np.exp(x/2)-1.56\n",
    "\n",
    "x0 = 5.5\n",
    "x1 = 4.3\n",
    "\n",
    "xi = [x0,x1]\n",
    "yi = [f(x0),f(x1)]\n",
    "\n",
    "# plotando a função e a raiz\n",
    "fig, ax = plt.subplots()\n",
    "\n",
    "ax.plot(xplot, f(xplot),color='black')\n",
    "ax.plot(0.85, 0, '.', color='black')\n",
    "\n",
    "\n",
    "\n",
    "ax.text(xi[-2]-0.1, -0.7, '$x_0$', style='italic')\n",
    "ax.text(xi[-1]-0.1, -0.7, '$x_1$', style='italic')\n",
    "ax.text(0.76, -1.0, '$\\overline{x}$', style='italic')\n",
    "\n",
    "\n",
    "# Calcula as iterações\n",
    "for i in range(1,5):\n",
    "    # Calcula xi\n",
    "    x = (x0*f(x1)-x1*f(x0))/(f(x1)-f(x0))\n",
    "    print (x)\n",
    "    \n",
    "    # Alimenta a lista de pontos\n",
    "    xi.append(x)\n",
    "    yi.append(f(x))\n",
    "    \n",
    "    # Atualiza X0 e x1\n",
    "    x0 = x1\n",
    "    x1 = x\n",
    "    \n",
    "    # Desenha as retas secantes e os xi's\n",
    "    ax.text(xi[-1]-0.1, -0.7, '$x_'+str(i+1)+'$', style='italic')\n",
    "    ax.plot([xi[-3],xi[-1]], [f(xi[-3]),0], color='black', lw=0.5)\n",
    "    \n",
    "# desenha as linhas verticais\n",
    "ax.vlines(x=xi, ymin=0, ymax=yi, \n",
    "          color='black', linestyle='dotted', lw=1.2)\n",
    "\n",
    "                \n",
    "# Customizações para a figura final:\n",
    "#____________________\n",
    "# Limites em x e em y\n",
    "ymin = -2; ymax = 17\n",
    "xmin = -0.5; xmax = 6\n",
    "plt.ylim(ymin, ymax) \n",
    "plt.xlim(xmin, xmax)\n",
    "#_____________________________________________________\n",
    "# Inclui setas nos eixos nas posições certas\n",
    "ax.plot((xmax-0.07), (0), marker=\">\", color='black')\n",
    "ax.text(xmax-0.15,-1, \"x\", style='italic')\n",
    "ax.plot((0), (ymax-0.3), marker=\"^\",color='black')\n",
    "ax.text(-0.2, ymax-0.7, \"y\", style='italic')\n",
    "#____________________________________\n",
    "# Remove as bordas\n",
    "ax.spines['top'].set_visible(False)\n",
    "ax.spines['right'].set_visible(False)\n",
    "ax.spines['bottom'].set_visible(False)\n",
    "ax.spines['left'].set_visible(False)\n",
    "#_______________________________________\n",
    "# Desenha os eixos\n",
    "ax.axhline(linewidth=1.0, color='black')\n",
    "ax.axvline(linewidth=1.0, color='black')\n",
    "#________________\n",
    "# remove a escala\n",
    "plt.xticks([])\n",
    "plt.yticks([])\n",
    "#plt.grid()\n",
    "#_____________________________\n",
    "# Salva em um arquivo\n",
    "plt.savefig('png/secantes.png',dpi=300)"
   ]
  },
  {
   "cell_type": "code",
   "execution_count": null,
   "metadata": {},
   "outputs": [],
   "source": []
  },
  {
   "cell_type": "code",
   "execution_count": null,
   "metadata": {},
   "outputs": [],
   "source": []
  },
  {
   "cell_type": "code",
   "execution_count": null,
   "metadata": {},
   "outputs": [],
   "source": []
  }
 ],
 "metadata": {
  "kernelspec": {
   "display_name": "Python 3 (ipykernel)",
   "language": "python",
   "name": "python3"
  },
  "language_info": {
   "codemirror_mode": {
    "name": "ipython",
    "version": 3
   },
   "file_extension": ".py",
   "mimetype": "text/x-python",
   "name": "python",
   "nbconvert_exporter": "python",
   "pygments_lexer": "ipython3",
   "version": "3.12.4"
  }
 },
 "nbformat": 4,
 "nbformat_minor": 4
}
