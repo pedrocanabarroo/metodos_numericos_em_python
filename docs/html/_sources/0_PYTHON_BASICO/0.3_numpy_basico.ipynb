{
 "cells": [
  {
   "cell_type": "markdown",
   "metadata": {},
   "source": [
    "# 0.2 Comandos básicos em  Numpy\n",
    "\n",
    "Numpy é o pacote fundamental para programação científica que proporciona um objeto tipo **array** para armazenar dados de forma eficiente e dispõe de uma série de funções para operar e manipular esses dados. Para usar Numpy, uma vez que já esteja instalado, é importá-lo. Para isso podemos usar a seguinte linha de comando, que importa e chama de **np**."
   ]
  },
  {
   "cell_type": "code",
   "execution_count": 42,
   "metadata": {},
   "outputs": [],
   "source": [
    "import numpy as np"
   ]
  },
  {
   "cell_type": "markdown",
   "metadata": {},
   "source": [
    "## Deferença entre listas e arrays \n",
    "\n",
    "Os arrays do Numpy são muito parecidos com as listas do Python, mas possuem diferenças importantes que devem ser conhecidas. Uma diferença importante é que as listas do Python podem armazenar diferentes tipos de dados (int, floar, str, etc) enquanto os arrays do NumPy são homogêneos (mesmo tipo de dado) e representam vetores e matrizes de tamanho fixo, ou seja, não podem ser redimensionados (sem criar um novo array)."
   ]
  },
  {
   "cell_type": "markdown",
   "metadata": {},
   "source": [
    "Por exemplo, observe que a forma de acessar elementos de _lista_ e de _array_ é a mesma "
   ]
  },
  {
   "cell_type": "code",
   "execution_count": 49,
   "metadata": {},
   "outputs": [
    {
     "name": "stdout",
     "output_type": "stream",
     "text": [
      "3\n",
      "1\n"
     ]
    }
   ],
   "source": [
    "x = [1, 2, 3, -1]     # x é uma lista do python  \n",
    "y = [-2, 3, 0.3, 1]   # y também é uma lista do python\n",
    "print (x[2])          # imprime o 3º elemento de x\n",
    "print (y[-1])         # imprime o último elemento de y"
   ]
  },
  {
   "cell_type": "code",
   "execution_count": 52,
   "metadata": {},
   "outputs": [
    {
     "name": "stdout",
     "output_type": "stream",
     "text": [
      "2.0\n",
      "1.2\n"
     ]
    }
   ],
   "source": [
    "import numpy as np\n",
    "u = np.array([2, 5, 0.5, 10])    # u é um array do numpy\n",
    "v = np.array([-1, 0.5, 1.2, 3])  # v também é um array do numpy\n",
    "print (u[0])                     # imprime o 1º elemento de u\n",
    "print (v[-2])                    # imprime o penúltimo elemento de v"
   ]
  },
  {
   "cell_type": "markdown",
   "metadata": {},
   "source": [
    "Apesar das semalhanças entre listas e arrays, as operações com arrays do Numpy são feitas elemento a elemento. Então, devemos ter cuidado para não confundir as operações com realizadas com arrays e com listas, pois um mesmo operador pode gerar resultados muito diferentes. Veja os exemplos abaixo."
   ]
  },
  {
   "cell_type": "code",
   "execution_count": 53,
   "metadata": {},
   "outputs": [
    {
     "name": "stdout",
     "output_type": "stream",
     "text": [
      "[1, 2, 3, -1, 1, 2, 3, -1]\n"
     ]
    }
   ],
   "source": [
    "# x e y são listas python\n",
    "print(2*x) "
   ]
  },
  {
   "cell_type": "code",
   "execution_count": 54,
   "metadata": {},
   "outputs": [
    {
     "name": "stdout",
     "output_type": "stream",
     "text": [
      "[1, 2, 3, -1, -2, 3, 0.3, 1]\n"
     ]
    }
   ],
   "source": [
    "print(x+y)"
   ]
  },
  {
   "cell_type": "code",
   "execution_count": 55,
   "metadata": {},
   "outputs": [
    {
     "ename": "TypeError",
     "evalue": "unsupported operand type(s) for ** or pow(): 'list' and 'int'",
     "output_type": "error",
     "traceback": [
      "\u001b[1;31m---------------------------------------------------------------------------\u001b[0m",
      "\u001b[1;31mTypeError\u001b[0m                                 Traceback (most recent call last)",
      "\u001b[1;32m<ipython-input-55-a89b562e6092>\u001b[0m in \u001b[0;36m<module>\u001b[1;34m()\u001b[0m\n\u001b[1;32m----> 1\u001b[1;33m \u001b[0mprint\u001b[0m\u001b[1;33m(\u001b[0m\u001b[0mx\u001b[0m\u001b[1;33m**\u001b[0m\u001b[1;36m2\u001b[0m\u001b[1;33m)\u001b[0m\u001b[1;33m\u001b[0m\u001b[0m\n\u001b[0m",
      "\u001b[1;31mTypeError\u001b[0m: unsupported operand type(s) for ** or pow(): 'list' and 'int'"
     ]
    }
   ],
   "source": [
    "print(x**2)"
   ]
  },
  {
   "cell_type": "code",
   "execution_count": 46,
   "metadata": {},
   "outputs": [
    {
     "name": "stdout",
     "output_type": "stream",
     "text": [
      "[-2.   1.   2.4  6. ]\n",
      "[ 1.   5.5  1.7 13. ]\n",
      "[1.   0.25 1.44 9.  ]\n"
     ]
    }
   ],
   "source": [
    "print(2*v)\n",
    "print(v+u)\n",
    "print(v**2)"
   ]
  },
  {
   "cell_type": "markdown",
   "metadata": {},
   "source": [
    "## Vetores, matrices e arrays multidimensionais\n",
    "\n",
    "Vetores, matrizes e _arrays_ de dimensões superiores são ferramentas essenciais na computação numérica. Quando um o cálculo deve ser repetido para um conjunto de valores de entrada, é natural e vantajoso representar o dados como _arrays_ e processar cálculos em termos de operações entre _arrays_.\n",
    "\n",
    "Processamento computacional numérico formulado dessa forma são ditos vetorizados. A computação vetorizada elimina a necessidade de muitos _loops_ explícitos sobre os elementos da matriz, aplicando operações em blocos de dados da matriz. \n",
    "\n",
    "O resultado é um código conciso e mais fácil de entender e gerenciar, além disso, permite realizar operações em bibliotecas de baixo nível (BLAS, LAPACK,etc), mais eficientes. Computações vetorizadas podem, portanto, ser significativamente mais rápidas do que cálculos sequenciais elemento a elemento. \n",
    "\n",
    "Isso é particularmente importante em uma linguagem interpretada como Python, onde laços elemento a elemento resultam em uma demanda de desempenho significativa. \n",
    "\n",
    "No ambiente de computação científica do Python, estruturas de dados eficientes para trabalhar com matrizes são fornecido pela biblioteca NumPy. O núcleo do NumPy é implementado em C e fornece funções eficientes para manipular e processar matrizes. \n",
    "\n",
    "À primeira vista, os arrays NumPy têm alguma semelhança com as listas do Python. Mas uma diferença importante é que, enquanto as listas do Python são recipientes genéricos de objetos, os arrays NumPy são homogêneos e datilografam matrizes de tamanho fixo. Homogênea significa que todos os elementos no\n",
    "array tem o mesmo tipo de dados. Tamanho fixo significa que um array não pode ser redimensionado (sem criar um novo array).\n",
    "\n",
    "Por essas e outras razões, as operações e funções que atuam nos arrays NumPy podem ser muito mais eficiente do que operações em listas do Python. Além das estruturas de dados para matrizes, o NumPy também fornece uma grande coleção de operadores e funções básicas que atuam nessas estruturas de dados, bem como submódulos com algoritmos de nível superior, como álgebra linear e transformações rápidas de Fourier.\n"
   ]
  },
  {
   "cell_type": "markdown",
   "metadata": {},
   "source": [
    "### Criando e manipulando arrays e matrizes\n",
    "Uma forma simples de criar um array é a partir de uma lista, mas também existem finções para criar array de zeros, ou vazios, conforme é mostrado nos exemplos a seguir."
   ]
  },
  {
   "cell_type": "code",
   "execution_count": 58,
   "metadata": {},
   "outputs": [
    {
     "name": "stdout",
     "output_type": "stream",
     "text": [
      "[ 2  3  5 -1]\n"
     ]
    }
   ],
   "source": [
    "a = np.array([2, 3, 5, -1])\n",
    "print (a)"
   ]
  },
  {
   "cell_type": "code",
   "execution_count": 59,
   "metadata": {},
   "outputs": [
    {
     "data": {
      "text/plain": [
       "array([1., 1., 1., 1., 1., 1.])"
      ]
     },
     "execution_count": 59,
     "metadata": {},
     "output_type": "execute_result"
    }
   ],
   "source": [
    "np.ones(6)"
   ]
  },
  {
   "cell_type": "code",
   "execution_count": 68,
   "metadata": {},
   "outputs": [
    {
     "data": {
      "text/plain": [
       "array([0., 0., 0.])"
      ]
     },
     "execution_count": 68,
     "metadata": {},
     "output_type": "execute_result"
    }
   ],
   "source": [
    "np.zeros(3)"
   ]
  },
  {
   "cell_type": "code",
   "execution_count": 85,
   "metadata": {},
   "outputs": [
    {
     "data": {
      "text/plain": [
       "array([[0., 1., 0., 0.],\n",
       "       [0., 0., 1., 0.],\n",
       "       [0., 0., 0., 1.],\n",
       "       [0., 0., 0., 0.]])"
      ]
     },
     "execution_count": 85,
     "metadata": {},
     "output_type": "execute_result"
    }
   ],
   "source": [
    "np.eye(4,4,1)  # matriz com uma diagonal deslocada formada de 1s"
   ]
  },
  {
   "cell_type": "code",
   "execution_count": 69,
   "metadata": {},
   "outputs": [
    {
     "data": {
      "text/plain": [
       "array([0., 0., 0.])"
      ]
     },
     "execution_count": 69,
     "metadata": {},
     "output_type": "execute_result"
    }
   ],
   "source": [
    "np.empty(3)"
   ]
  },
  {
   "cell_type": "code",
   "execution_count": 80,
   "metadata": {},
   "outputs": [
    {
     "data": {
      "text/plain": [
       "array([[1., 0., 0., 0.],\n",
       "       [0., 1., 0., 0.],\n",
       "       [0., 0., 1., 0.],\n",
       "       [0., 0., 0., 1.]])"
      ]
     },
     "execution_count": 80,
     "metadata": {},
     "output_type": "execute_result"
    }
   ],
   "source": [
    "np.identity(4)"
   ]
  },
  {
   "cell_type": "code",
   "execution_count": 86,
   "metadata": {},
   "outputs": [
    {
     "data": {
      "text/plain": [
       "array([2. , 2.5, 3. , 3.5, 4. , 4.5, 5. ])"
      ]
     },
     "execution_count": 86,
     "metadata": {},
     "output_type": "execute_result"
    }
   ],
   "source": [
    "np.linspace(2,5,7)  # pontos igualmente espaçados (ini, fim, n de pontos)"
   ]
  },
  {
   "cell_type": "markdown",
   "metadata": {},
   "source": [
    "Outras operações muito úteis ao lidar com arrays em computação científica e numérica são o recorte de arrays, inversão de linhas ou colunas, concatenação de matrizes, e outras que são exemplificadas a seguir. "
   ]
  },
  {
   "cell_type": "code",
   "execution_count": null,
   "metadata": {},
   "outputs": [],
   "source": [
    "w = np.array([1, 2, -1, 3, -4, 2, 5])\n"
   ]
  },
  {
   "cell_type": "markdown",
   "metadata": {},
   "source": [
    "#### Exemplo\n",
    "construindo a matriz ampliada (A|b) para processar a eliminação de Gauss"
   ]
  },
  {
   "cell_type": "code",
   "execution_count": 47,
   "metadata": {},
   "outputs": [
    {
     "name": "stdout",
     "output_type": "stream",
     "text": [
      "[[ 4 -2  1]\n",
      " [-2  4 -2]\n",
      " [ 1 -2  4]]\n",
      "[ 11 -16  17]\n",
      "[[ 11]\n",
      " [-16]\n",
      " [ 17]]\n",
      "[[  4  -2   1  11]\n",
      " [ -2   4  -2 -16]\n",
      " [  1  -2   4  17]]\n"
     ]
    }
   ],
   "source": [
    "A = np.array([[4,-2,1],[-2,4,-2],[1,-2,4]])\n",
    "print (A)\n",
    "\n",
    "b = np.array([11,-16,17])\n",
    "print (b)\n",
    "\n",
    "b = b.reshape(3,1)\n",
    "print (b)\n",
    "\n",
    "Ab = np.hstack((A, b))\n",
    "print (Ab)"
   ]
  },
  {
   "cell_type": "markdown",
   "metadata": {},
   "source": [
    "### Vetorizando uma função\n",
    "\n",
    "Ocasionalmente é necessário definir novas funções que operam em matrizes numpy em uma base elemento-por-elemento. Uma boa maneira de implementar essas funções é expressá-la em termos de operadores numpy já existentes e expressões, mas em casos em que isso não é possível, a função np. vectorize pode ser uma ferramenta conveniente. Essa função usa uma função não-vetorial e retorna uma função vetorial. Por exemplo, considere a seguinte implementação da função Step Heaviside, que funciona para entrada escalar:\n"
   ]
  },
  {
   "cell_type": "code",
   "execution_count": 3,
   "metadata": {},
   "outputs": [
    {
     "name": "stdout",
     "output_type": "stream",
     "text": [
      "0\n"
     ]
    }
   ],
   "source": [
    "def heaviside(x):\n",
    "    return 1 if x>0 else 0\n",
    "\n",
    "print(heaviside(-1))"
   ]
  },
  {
   "cell_type": "code",
   "execution_count": 4,
   "metadata": {},
   "outputs": [
    {
     "name": "stdout",
     "output_type": "stream",
     "text": [
      "1\n"
     ]
    }
   ],
   "source": [
    "print(heaviside(1.5))"
   ]
  },
  {
   "cell_type": "code",
   "execution_count": 6,
   "metadata": {},
   "outputs": [
    {
     "name": "stdout",
     "output_type": "stream",
     "text": [
      "[-5. -4. -3. -2. -1.  0.  1.  2.  3.  4.  5.]\n"
     ]
    }
   ],
   "source": [
    "import numpy as np\n",
    "x = np.linspace(-5,5,11)\n",
    "print (x)"
   ]
  },
  {
   "cell_type": "code",
   "execution_count": 7,
   "metadata": {},
   "outputs": [
    {
     "ename": "ValueError",
     "evalue": "The truth value of an array with more than one element is ambiguous. Use a.any() or a.all()",
     "output_type": "error",
     "traceback": [
      "\u001b[1;31m---------------------------------------------------------------------------\u001b[0m",
      "\u001b[1;31mValueError\u001b[0m                                Traceback (most recent call last)",
      "\u001b[1;32m<ipython-input-7-52f34380192d>\u001b[0m in \u001b[0;36m<module>\u001b[1;34m()\u001b[0m\n\u001b[1;32m----> 1\u001b[1;33m \u001b[0mheaviside\u001b[0m\u001b[1;33m(\u001b[0m\u001b[0mx\u001b[0m\u001b[1;33m)\u001b[0m\u001b[1;33m\u001b[0m\u001b[0m\n\u001b[0m",
      "\u001b[1;32m<ipython-input-3-e5e14345b206>\u001b[0m in \u001b[0;36mheaviside\u001b[1;34m(x)\u001b[0m\n\u001b[0;32m      1\u001b[0m \u001b[1;32mdef\u001b[0m \u001b[0mheaviside\u001b[0m\u001b[1;33m(\u001b[0m\u001b[0mx\u001b[0m\u001b[1;33m)\u001b[0m\u001b[1;33m:\u001b[0m\u001b[1;33m\u001b[0m\u001b[0m\n\u001b[1;32m----> 2\u001b[1;33m     \u001b[1;32mreturn\u001b[0m \u001b[1;36m1\u001b[0m \u001b[1;32mif\u001b[0m \u001b[0mx\u001b[0m\u001b[1;33m>\u001b[0m\u001b[1;36m0\u001b[0m \u001b[1;32melse\u001b[0m \u001b[1;36m0\u001b[0m\u001b[1;33m\u001b[0m\u001b[0m\n\u001b[0m\u001b[0;32m      3\u001b[0m \u001b[1;33m\u001b[0m\u001b[0m\n\u001b[0;32m      4\u001b[0m \u001b[0mprint\u001b[0m\u001b[1;33m(\u001b[0m\u001b[0mheaviside\u001b[0m\u001b[1;33m(\u001b[0m\u001b[1;33m-\u001b[0m\u001b[1;36m1\u001b[0m\u001b[1;33m)\u001b[0m\u001b[1;33m)\u001b[0m\u001b[1;33m\u001b[0m\u001b[0m\n",
      "\u001b[1;31mValueError\u001b[0m: The truth value of an array with more than one element is ambiguous. Use a.any() or a.all()"
     ]
    }
   ],
   "source": [
    "heaviside(x)"
   ]
  },
  {
   "cell_type": "code",
   "execution_count": 8,
   "metadata": {},
   "outputs": [
    {
     "data": {
      "text/plain": [
       "array([0, 0, 0, 0, 0, 0, 1, 1, 1, 1, 1])"
      ]
     },
     "execution_count": 8,
     "metadata": {},
     "output_type": "execute_result"
    }
   ],
   "source": [
    "heaviside = np.vectorize(heaviside)\n",
    "heaviside(x) "
   ]
  },
  {
   "cell_type": "markdown",
   "metadata": {},
   "source": [
    "### Operações básicas com arrays\n",
    "As operações com arrays do Numpy são feitas elemento a elemento. "
   ]
  },
  {
   "cell_type": "markdown",
   "metadata": {},
   "source": [
    "#### Exemplo"
   ]
  },
  {
   "cell_type": "code",
   "execution_count": 33,
   "metadata": {
    "scrolled": true
   },
   "outputs": [
    {
     "name": "stdout",
     "output_type": "stream",
     "text": [
      "[ 2  4  6 -2]\n"
     ]
    }
   ],
   "source": [
    "import numpy as np\n",
    "v = np.array([1, 2, 3, -1])\n",
    "u = np.array([2, 5, 0.5, 10])\n",
    "print (2*v)"
   ]
  },
  {
   "cell_type": "code",
   "execution_count": 34,
   "metadata": {},
   "outputs": [
    {
     "name": "stdout",
     "output_type": "stream",
     "text": [
      "[3.  7.  3.5 9. ]\n"
     ]
    }
   ],
   "source": [
    "print (u+v)"
   ]
  },
  {
   "cell_type": "code",
   "execution_count": 35,
   "metadata": {},
   "outputs": [
    {
     "name": "stdout",
     "output_type": "stream",
     "text": [
      "[4 5 6 2]\n"
     ]
    }
   ],
   "source": [
    "print (3+v)"
   ]
  },
  {
   "cell_type": "code",
   "execution_count": 36,
   "metadata": {},
   "outputs": [
    {
     "name": "stdout",
     "output_type": "stream",
     "text": [
      "[  2.   10.    1.5 -10. ]\n"
     ]
    }
   ],
   "source": [
    "print (u*v)"
   ]
  },
  {
   "cell_type": "code",
   "execution_count": 13,
   "metadata": {},
   "outputs": [
    {
     "name": "stdout",
     "output_type": "stream",
     "text": [
      "[  4.    25.     0.25 100.  ]\n"
     ]
    }
   ],
   "source": [
    "print (u**2)"
   ]
  },
  {
   "cell_type": "markdown",
   "metadata": {},
   "source": [
    "Calculando o produto interno (ou produto de matrizes)"
   ]
  },
  {
   "cell_type": "code",
   "execution_count": 37,
   "metadata": {},
   "outputs": [
    {
     "name": "stdout",
     "output_type": "stream",
     "text": [
      "3.5\n"
     ]
    }
   ],
   "source": [
    "print (np.dot(u,v))"
   ]
  },
  {
   "cell_type": "code",
   "execution_count": 40,
   "metadata": {},
   "outputs": [
    {
     "name": "stdout",
     "output_type": "stream",
     "text": [
      "[[18  1]\n",
      " [27 13]]\n"
     ]
    }
   ],
   "source": [
    "A = np.array([[2,1],[-1,4]])\n",
    "B = np.array([[5,-1],[8,3]])\n",
    "print(np.dot(A,B))"
   ]
  },
  {
   "cell_type": "markdown",
   "metadata": {},
   "source": [
    "Somando os elementos de um array"
   ]
  },
  {
   "cell_type": "code",
   "execution_count": 38,
   "metadata": {},
   "outputs": [
    {
     "name": "stdout",
     "output_type": "stream",
     "text": [
      "5\n"
     ]
    }
   ],
   "source": [
    "print(np.sum(v))"
   ]
  },
  {
   "cell_type": "code",
   "execution_count": 41,
   "metadata": {},
   "outputs": [
    {
     "name": "stdout",
     "output_type": "stream",
     "text": [
      "3\n"
     ]
    }
   ],
   "source": [
    "print(np.max(v))"
   ]
  },
  {
   "cell_type": "code",
   "execution_count": null,
   "metadata": {},
   "outputs": [],
   "source": []
  }
 ],
 "metadata": {
  "kernelspec": {
   "display_name": "Python 3",
   "language": "python",
   "name": "python3"
  },
  "language_info": {
   "codemirror_mode": {
    "name": "ipython",
    "version": 3
   },
   "file_extension": ".py",
   "mimetype": "text/x-python",
   "name": "python",
   "nbconvert_exporter": "python",
   "pygments_lexer": "ipython3",
   "version": "3.6.5"
  }
 },
 "nbformat": 4,
 "nbformat_minor": 2
}
