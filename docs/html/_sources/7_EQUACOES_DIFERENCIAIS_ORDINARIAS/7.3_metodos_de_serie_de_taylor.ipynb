{
 "cells": [
  {
   "cell_type": "markdown",
   "metadata": {},
   "source": [
    "## 7.3 Métodos de Série de Taylor\n",
    "\n",
    "Consideremos o Problema de Valor Inicial (PVI) descrito por\n",
    "$$\\begin{cases} \n",
    "   y' = f(x,y) \\\\\n",
    "   y(x_0)=y_0\n",
    "  \\end{cases}$$\n",
    "\n",
    "\n",
    "Supondo que a solução $y(x)$ do PVI possui todas as derivadas contínuas no intervalo $[a,b]$ que contém os pontos de discretização $x_0$,$x_1$,...,$x_n$ , o desenvolvimento em série de Taylor da função $y(x)$ em torno do ponto $x_n$ é dado por\n",
    "\n",
    "$$ y(x) = y(x_n) + y'(x_n)(x−x_n) + y''(x_n)\\frac{(x-x_n)^2}{2!}+...+y^{(p)}(x_n)\\frac{(x-x_n)^p}{p!}+y^{(p+1)}(\\xi)\\frac{(x-\\xi)^{p+1}}{(p+1)!}$$\n",
    "\n",
    "com $ x_0<\\xi<x$. \n",
    "\n",
    "Tomando $x = x_n + h$, denotado por $x_n+1$ , assim, $h = x_n+1 − x_n$ e temos:\n",
    "\n",
    "$$ y(x) = y(x_n) + y'(x_n)h + y''(x_n)\\frac{h^2}{2!}+...+y^{(p)}(x_n)\\frac{h^p}{p!}+y^{(p+1)}(\\xi)\\frac{(x-\\xi)^{p+1}}{(p+1)!}$$\n",
    "\n",
    "Se truncarmos a série de Taylor no p-ésimo termo, temos:\n",
    "\n",
    "$$ y(x) = y(x_n) + y'(x_n)h + y''(x_n)\\frac{h^2}{2!}+...+y^{(p)}(x_n)\\frac{h^p}{p!}$$\n",
    "\n",
    "com um **erro de truncamento** dado pelo último termo da série de Taylor\n",
    "\n",
    "$$e(x_n)=y^{(p+1)}(\\xi)\\frac{(x-\\xi)^{p+1}}{(p+1)!}$$\n",
    "\n",
    "\n",
    "Se a função $y(x)$ possui a derivada de ordem $(p + 1)$ contínua no intervalo $[a,b]$, então existe $M = max \\left\\{ \\left|y^{(p+1)}(x)\\right|, x \\in [a,b] \\right\\}$, e temos uma estimativa para o erro dada por um limitante superior, de ordem $(p + 1)$, como segue:\n",
    "\n",
    "$$ |E| \\leq \\frac{h^{p+1}}{(p+1)!}M$$\n",
    "\n",
    "Assim, usando a série de Taylor, podemos calcular aproximações para $y(x)$ da seguinte forma:\n",
    "\n",
    "$$ y(x_{n+1}) = y_n + y'_nh + y''_n\\frac{h^2}{2!}+...+y^{(p)}_n\\frac{h^p}{p!}$$\n",
    "\n",
    "onde \n",
    "\n",
    "$ y'_n = f(x_n, y_n)$\n",
    "\n",
    "$ y''_n = f_x(x_n, y_n) + f_y(x_n, y_n)y'_n$\n",
    "\n",
    "$y'''_n = f_{xx}(x_n, y_n) + 2f_{xy}(x_n, y_n)f(x_n, y_n) + f^2(x_n, y_n)f_{yy}(x_n, y_n) + f^2_y(x_n, y_n)f(x_n, y_n)$\n",
    "\n",
    "$\\vdots $\n"
   ]
  },
  {
   "cell_type": "markdown",
   "metadata": {},
   "source": [
    "### Método de Taylor de ordem $p=2$\n",
    "### Exemplo\n",
    "Use o método de Taylor de ordem 2 para integrar numericamente a equação:\n",
    "\n",
    "$$ \\begin {cases}\n",
    "   \\frac{dy}{dx} = x-y+2 \\\\\n",
    "    y(0)=2\n",
    "    \\end{cases}$$\n",
    "\n",
    "de $x = 0$ a $x = 1$ com $N = 5$ subintervalos. Compare os valores e plote o resultado considerando a solução exata $y(x)=e^x - x + 1$.\n",
    "\n",
    "*Solução:*\n",
    "\n",
    "Precisamos usar a fórmula de recorrência\n",
    "\n",
    "$$ y_{n+1} = y_n + y'_nh + y''_n\\frac{h^2}{2!} $$\n",
    "\n",
    "em que\n",
    "\n",
    "$$ y' = x - y + 2 $$\n",
    "\n",
    "$$ y'' = 1-y' = 1-(x-y+2) = -x+y-1$$\n",
    "\n",
    "então\n",
    "\n",
    "$$ y_{n+1} = y_n + (x_n - y_n + 2)h + (-x_n+y_n-1) \\frac{h^2}{2!} $$"
   ]
  },
  {
   "cell_type": "code",
   "execution_count": 1,
   "metadata": {},
   "outputs": [
    {
     "name": "stdout",
     "output_type": "stream",
     "text": [
      "Y 1 = 2.02\n",
      "Y 2 = 2.0724\n",
      "Y 3 = 2.1513679999999997\n",
      "Y 4 = 2.2521217599999996\n",
      "Y 5 = 2.3707398431999995\n",
      "[0.  0.2 0.4 0.6 0.8 1. ]\n",
      "Sol. aprox.: [2.     2.02   2.0724 2.1514 2.2521 2.3707]\n",
      "Sol. exata.: [2.     2.0187 2.0703 2.1488 2.2493 2.3679]\n"
     ]
    },
    {
     "data": {
      "image/png": "[encoded data removed]",
      "text/plain": [
       "<Figure size 640x480 with 1 Axes>"
      ]
     },
     "metadata": {},
     "output_type": "display_data"
    }
   ],
   "source": [
    "import numpy as np\n",
    "import matplotlib.pyplot as plt\n",
    "\n",
    "f = lambda x,y: x-y+2\n",
    "df = lambda x,y: -x+y-1\n",
    "\n",
    "x0 = 0\n",
    "xn = 1\n",
    "n = 5 #subintervalos\n",
    "\n",
    "X = np.linspace(x0,xn,n+1)\n",
    "Y = np.zeros(n+1)\n",
    "Y[0] = 2\n",
    "h=(xn-x0)/n\n",
    "for i in range(n):\n",
    "    Y[i+1] = Y[i] + h*f(X[i],Y[i]) + 0.5*(h**2)*df(X[i],Y[i])\n",
    "    print (\"Y\",i+1,\"=\",Y[i+1])\n",
    "print (X)\n",
    "print ('Sol. aprox.:',np.round(Y,4))\n",
    "print ('Sol. exata.:',np.round(np.exp(-X) + X + 1, 4))\n",
    "\n",
    "Xe = np.linspace(X[0],X[-1],21)\n",
    "Ye = np.exp(-Xe) + Xe + 1\n",
    "\n",
    "\n",
    "# plotando\n",
    "plt.plot(X, Y, \"x\",Xe, Ye, 'b--')\n",
    "plt.grid()\n",
    "plt.show()"
   ]
  },
  {
   "cell_type": "code",
   "execution_count": null,
   "metadata": {},
   "outputs": [],
   "source": []
  },
  {
   "cell_type": "code",
   "execution_count": null,
   "metadata": {},
   "outputs": [],
   "source": []
  }
 ],
 "metadata": {
  "kernelspec": {
   "display_name": "Python 3 (ipykernel)",
   "language": "python",
   "name": "python3"
  },
  "language_info": {
   "codemirror_mode": {
    "name": "ipython",
    "version": 3
   },
   "file_extension": ".py",
   "mimetype": "text/x-python",
   "name": "python",
   "nbconvert_exporter": "python",
   "pygments_lexer": "ipython3",
   "version": "3.12.4"
  }
 },
 "nbformat": 4,
 "nbformat_minor": 4
}
