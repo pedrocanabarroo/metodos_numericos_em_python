{
 "cells": [
  {
   "cell_type": "code",
   "execution_count": 1,
   "metadata": {},
   "outputs": [],
   "source": [
    "import numpy as np\n",
    "import matplotlib.pyplot as plt\n",
    "import matplotlib as mpl\n",
    "plt.rcParams[\"font.family\"] = \"serif\"\n",
    "plt.rcParams[\"mathtext.fontset\"] = \"dejavuserif\""
   ]
  },
  {
   "cell_type": "code",
   "execution_count": 2,
   "metadata": {},
   "outputs": [
    {
     "name": "stderr",
     "output_type": "stream",
     "text": [
      "<>:13: SyntaxWarning: invalid escape sequence '\\o'\n",
      "<>:13: SyntaxWarning: invalid escape sequence '\\o'\n",
      "/tmp/ipykernel_26077/3091409264.py:13: SyntaxWarning: invalid escape sequence '\\o'\n",
      "  ax.text(2.55,f(2.485)-0.8, \"$\\overline{x}$\", style='italic')\n"
     ]
    },
    {
     "name": "stderr",
     "output_type": "stream",
     "text": [
      "/tmp/ipykernel_26077/3091409264.py:13: SyntaxWarning: invalid escape sequence '\\o'\n",
      "  ax.text(2.55,f(2.485)-0.8, \"$\\overline{x}$\", style='italic')\n"
     ]
    },
    {
     "ename": "FileNotFoundError",
     "evalue": "[Errno 2] No such file or directory: '/home/tiagoburiol/metodos_numericos_em_python/2_ZEROS_DE_FUNCOES/png/bolzano.png'",
     "output_type": "error",
     "traceback": [
      "\u001b[0;31m---------------------------------------------------------------------------\u001b[0m",
      "\u001b[0;31mFileNotFoundError\u001b[0m                         Traceback (most recent call last)",
      "Cell \u001b[0;32mIn[2], line 56\u001b[0m\n\u001b[1;32m     54\u001b[0m plt\u001b[38;5;241m.\u001b[39myticks([])\n\u001b[1;32m     55\u001b[0m plt\u001b[38;5;241m.\u001b[39mgrid()\n\u001b[0;32m---> 56\u001b[0m plt\u001b[38;5;241m.\u001b[39msavefig(\u001b[38;5;124m'\u001b[39m\u001b[38;5;124mpng/bolzano.png\u001b[39m\u001b[38;5;124m'\u001b[39m,dpi\u001b[38;5;241m=\u001b[39m\u001b[38;5;241m300\u001b[39m)\n",
      "File \u001b[0;32m~/anaconda3/lib/python3.12/site-packages/matplotlib/pyplot.py:1134\u001b[0m, in \u001b[0;36msavefig\u001b[0;34m(*args, **kwargs)\u001b[0m\n\u001b[1;32m   1131\u001b[0m fig \u001b[38;5;241m=\u001b[39m gcf()\n\u001b[1;32m   1132\u001b[0m \u001b[38;5;66;03m# savefig default implementation has no return, so mypy is unhappy\u001b[39;00m\n\u001b[1;32m   1133\u001b[0m \u001b[38;5;66;03m# presumably this is here because subclasses can return?\u001b[39;00m\n\u001b[0;32m-> 1134\u001b[0m res \u001b[38;5;241m=\u001b[39m fig\u001b[38;5;241m.\u001b[39msavefig(\u001b[38;5;241m*\u001b[39margs, \u001b[38;5;241m*\u001b[39m\u001b[38;5;241m*\u001b[39mkwargs)  \u001b[38;5;66;03m# type: ignore[func-returns-value]\u001b[39;00m\n\u001b[1;32m   1135\u001b[0m fig\u001b[38;5;241m.\u001b[39mcanvas\u001b[38;5;241m.\u001b[39mdraw_idle()  \u001b[38;5;66;03m# Need this if 'transparent=True', to reset colors.\u001b[39;00m\n\u001b[1;32m   1136\u001b[0m \u001b[38;5;28;01mreturn\u001b[39;00m res\n",
      "File \u001b[0;32m~/anaconda3/lib/python3.12/site-packages/matplotlib/figure.py:3390\u001b[0m, in \u001b[0;36mFigure.savefig\u001b[0;34m(self, fname, transparent, **kwargs)\u001b[0m\n\u001b[1;32m   3388\u001b[0m     \u001b[38;5;28;01mfor\u001b[39;00m ax \u001b[38;5;129;01min\u001b[39;00m \u001b[38;5;28mself\u001b[39m\u001b[38;5;241m.\u001b[39maxes:\n\u001b[1;32m   3389\u001b[0m         _recursively_make_axes_transparent(stack, ax)\n\u001b[0;32m-> 3390\u001b[0m \u001b[38;5;28mself\u001b[39m\u001b[38;5;241m.\u001b[39mcanvas\u001b[38;5;241m.\u001b[39mprint_figure(fname, \u001b[38;5;241m*\u001b[39m\u001b[38;5;241m*\u001b[39mkwargs)\n",
      "File \u001b[0;32m~/anaconda3/lib/python3.12/site-packages/matplotlib/backend_bases.py:2193\u001b[0m, in \u001b[0;36mFigureCanvasBase.print_figure\u001b[0;34m(self, filename, dpi, facecolor, edgecolor, orientation, format, bbox_inches, pad_inches, bbox_extra_artists, backend, **kwargs)\u001b[0m\n\u001b[1;32m   2189\u001b[0m \u001b[38;5;28;01mtry\u001b[39;00m:\n\u001b[1;32m   2190\u001b[0m     \u001b[38;5;66;03m# _get_renderer may change the figure dpi (as vector formats\u001b[39;00m\n\u001b[1;32m   2191\u001b[0m     \u001b[38;5;66;03m# force the figure dpi to 72), so we need to set it again here.\u001b[39;00m\n\u001b[1;32m   2192\u001b[0m     \u001b[38;5;28;01mwith\u001b[39;00m cbook\u001b[38;5;241m.\u001b[39m_setattr_cm(\u001b[38;5;28mself\u001b[39m\u001b[38;5;241m.\u001b[39mfigure, dpi\u001b[38;5;241m=\u001b[39mdpi):\n\u001b[0;32m-> 2193\u001b[0m         result \u001b[38;5;241m=\u001b[39m print_method(\n\u001b[1;32m   2194\u001b[0m             filename,\n\u001b[1;32m   2195\u001b[0m             facecolor\u001b[38;5;241m=\u001b[39mfacecolor,\n\u001b[1;32m   2196\u001b[0m             edgecolor\u001b[38;5;241m=\u001b[39medgecolor,\n\u001b[1;32m   2197\u001b[0m             orientation\u001b[38;5;241m=\u001b[39morientation,\n\u001b[1;32m   2198\u001b[0m             bbox_inches_restore\u001b[38;5;241m=\u001b[39m_bbox_inches_restore,\n\u001b[1;32m   2199\u001b[0m             \u001b[38;5;241m*\u001b[39m\u001b[38;5;241m*\u001b[39mkwargs)\n\u001b[1;32m   2200\u001b[0m \u001b[38;5;28;01mfinally\u001b[39;00m:\n\u001b[1;32m   2201\u001b[0m     \u001b[38;5;28;01mif\u001b[39;00m bbox_inches \u001b[38;5;129;01mand\u001b[39;00m restore_bbox:\n",
      "File \u001b[0;32m~/anaconda3/lib/python3.12/site-packages/matplotlib/backend_bases.py:2043\u001b[0m, in \u001b[0;36mFigureCanvasBase._switch_canvas_and_return_print_method.<locals>.<lambda>\u001b[0;34m(*args, **kwargs)\u001b[0m\n\u001b[1;32m   2039\u001b[0m     optional_kws \u001b[38;5;241m=\u001b[39m {  \u001b[38;5;66;03m# Passed by print_figure for other renderers.\u001b[39;00m\n\u001b[1;32m   2040\u001b[0m         \u001b[38;5;124m\"\u001b[39m\u001b[38;5;124mdpi\u001b[39m\u001b[38;5;124m\"\u001b[39m, \u001b[38;5;124m\"\u001b[39m\u001b[38;5;124mfacecolor\u001b[39m\u001b[38;5;124m\"\u001b[39m, \u001b[38;5;124m\"\u001b[39m\u001b[38;5;124medgecolor\u001b[39m\u001b[38;5;124m\"\u001b[39m, \u001b[38;5;124m\"\u001b[39m\u001b[38;5;124morientation\u001b[39m\u001b[38;5;124m\"\u001b[39m,\n\u001b[1;32m   2041\u001b[0m         \u001b[38;5;124m\"\u001b[39m\u001b[38;5;124mbbox_inches_restore\u001b[39m\u001b[38;5;124m\"\u001b[39m}\n\u001b[1;32m   2042\u001b[0m     skip \u001b[38;5;241m=\u001b[39m optional_kws \u001b[38;5;241m-\u001b[39m {\u001b[38;5;241m*\u001b[39minspect\u001b[38;5;241m.\u001b[39msignature(meth)\u001b[38;5;241m.\u001b[39mparameters}\n\u001b[0;32m-> 2043\u001b[0m     print_method \u001b[38;5;241m=\u001b[39m functools\u001b[38;5;241m.\u001b[39mwraps(meth)(\u001b[38;5;28;01mlambda\u001b[39;00m \u001b[38;5;241m*\u001b[39margs, \u001b[38;5;241m*\u001b[39m\u001b[38;5;241m*\u001b[39mkwargs: meth(\n\u001b[1;32m   2044\u001b[0m         \u001b[38;5;241m*\u001b[39margs, \u001b[38;5;241m*\u001b[39m\u001b[38;5;241m*\u001b[39m{k: v \u001b[38;5;28;01mfor\u001b[39;00m k, v \u001b[38;5;129;01min\u001b[39;00m kwargs\u001b[38;5;241m.\u001b[39mitems() \u001b[38;5;28;01mif\u001b[39;00m k \u001b[38;5;129;01mnot\u001b[39;00m \u001b[38;5;129;01min\u001b[39;00m skip}))\n\u001b[1;32m   2045\u001b[0m \u001b[38;5;28;01melse\u001b[39;00m:  \u001b[38;5;66;03m# Let third-parties do as they see fit.\u001b[39;00m\n\u001b[1;32m   2046\u001b[0m     print_method \u001b[38;5;241m=\u001b[39m meth\n",
      "File \u001b[0;32m~/anaconda3/lib/python3.12/site-packages/matplotlib/backends/backend_agg.py:497\u001b[0m, in \u001b[0;36mFigureCanvasAgg.print_png\u001b[0;34m(self, filename_or_obj, metadata, pil_kwargs)\u001b[0m\n\u001b[1;32m    450\u001b[0m \u001b[38;5;28;01mdef\u001b[39;00m \u001b[38;5;21mprint_png\u001b[39m(\u001b[38;5;28mself\u001b[39m, filename_or_obj, \u001b[38;5;241m*\u001b[39m, metadata\u001b[38;5;241m=\u001b[39m\u001b[38;5;28;01mNone\u001b[39;00m, pil_kwargs\u001b[38;5;241m=\u001b[39m\u001b[38;5;28;01mNone\u001b[39;00m):\n\u001b[1;32m    451\u001b[0m \u001b[38;5;250m    \u001b[39m\u001b[38;5;124;03m\"\"\"\u001b[39;00m\n\u001b[1;32m    452\u001b[0m \u001b[38;5;124;03m    Write the figure to a PNG file.\u001b[39;00m\n\u001b[1;32m    453\u001b[0m \n\u001b[0;32m   (...)\u001b[0m\n\u001b[1;32m    495\u001b[0m \u001b[38;5;124;03m        *metadata*, including the default 'Software' key.\u001b[39;00m\n\u001b[1;32m    496\u001b[0m \u001b[38;5;124;03m    \"\"\"\u001b[39;00m\n\u001b[0;32m--> 497\u001b[0m     \u001b[38;5;28mself\u001b[39m\u001b[38;5;241m.\u001b[39m_print_pil(filename_or_obj, \u001b[38;5;124m\"\u001b[39m\u001b[38;5;124mpng\u001b[39m\u001b[38;5;124m\"\u001b[39m, pil_kwargs, metadata)\n",
      "File \u001b[0;32m~/anaconda3/lib/python3.12/site-packages/matplotlib/backends/backend_agg.py:446\u001b[0m, in \u001b[0;36mFigureCanvasAgg._print_pil\u001b[0;34m(self, filename_or_obj, fmt, pil_kwargs, metadata)\u001b[0m\n\u001b[1;32m    441\u001b[0m \u001b[38;5;250m\u001b[39m\u001b[38;5;124;03m\"\"\"\u001b[39;00m\n\u001b[1;32m    442\u001b[0m \u001b[38;5;124;03mDraw the canvas, then save it using `.image.imsave` (to which\u001b[39;00m\n\u001b[1;32m    443\u001b[0m \u001b[38;5;124;03m*pil_kwargs* and *metadata* are forwarded).\u001b[39;00m\n\u001b[1;32m    444\u001b[0m \u001b[38;5;124;03m\"\"\"\u001b[39;00m\n\u001b[1;32m    445\u001b[0m FigureCanvasAgg\u001b[38;5;241m.\u001b[39mdraw(\u001b[38;5;28mself\u001b[39m)\n\u001b[0;32m--> 446\u001b[0m mpl\u001b[38;5;241m.\u001b[39mimage\u001b[38;5;241m.\u001b[39mimsave(\n\u001b[1;32m    447\u001b[0m     filename_or_obj, \u001b[38;5;28mself\u001b[39m\u001b[38;5;241m.\u001b[39mbuffer_rgba(), \u001b[38;5;28mformat\u001b[39m\u001b[38;5;241m=\u001b[39mfmt, origin\u001b[38;5;241m=\u001b[39m\u001b[38;5;124m\"\u001b[39m\u001b[38;5;124mupper\u001b[39m\u001b[38;5;124m\"\u001b[39m,\n\u001b[1;32m    448\u001b[0m     dpi\u001b[38;5;241m=\u001b[39m\u001b[38;5;28mself\u001b[39m\u001b[38;5;241m.\u001b[39mfigure\u001b[38;5;241m.\u001b[39mdpi, metadata\u001b[38;5;241m=\u001b[39mmetadata, pil_kwargs\u001b[38;5;241m=\u001b[39mpil_kwargs)\n",
      "File \u001b[0;32m~/anaconda3/lib/python3.12/site-packages/matplotlib/image.py:1656\u001b[0m, in \u001b[0;36mimsave\u001b[0;34m(fname, arr, vmin, vmax, cmap, format, origin, dpi, metadata, pil_kwargs)\u001b[0m\n\u001b[1;32m   1654\u001b[0m pil_kwargs\u001b[38;5;241m.\u001b[39msetdefault(\u001b[38;5;124m\"\u001b[39m\u001b[38;5;124mformat\u001b[39m\u001b[38;5;124m\"\u001b[39m, \u001b[38;5;28mformat\u001b[39m)\n\u001b[1;32m   1655\u001b[0m pil_kwargs\u001b[38;5;241m.\u001b[39msetdefault(\u001b[38;5;124m\"\u001b[39m\u001b[38;5;124mdpi\u001b[39m\u001b[38;5;124m\"\u001b[39m, (dpi, dpi))\n\u001b[0;32m-> 1656\u001b[0m image\u001b[38;5;241m.\u001b[39msave(fname, \u001b[38;5;241m*\u001b[39m\u001b[38;5;241m*\u001b[39mpil_kwargs)\n",
      "File \u001b[0;32m~/anaconda3/lib/python3.12/site-packages/PIL/Image.py:2456\u001b[0m, in \u001b[0;36mImage.save\u001b[0;34m(self, fp, format, **params)\u001b[0m\n\u001b[1;32m   2454\u001b[0m         fp \u001b[38;5;241m=\u001b[39m builtins\u001b[38;5;241m.\u001b[39mopen(filename, \u001b[38;5;124m\"\u001b[39m\u001b[38;5;124mr+b\u001b[39m\u001b[38;5;124m\"\u001b[39m)\n\u001b[1;32m   2455\u001b[0m     \u001b[38;5;28;01melse\u001b[39;00m:\n\u001b[0;32m-> 2456\u001b[0m         fp \u001b[38;5;241m=\u001b[39m builtins\u001b[38;5;241m.\u001b[39mopen(filename, \u001b[38;5;124m\"\u001b[39m\u001b[38;5;124mw+b\u001b[39m\u001b[38;5;124m\"\u001b[39m)\n\u001b[1;32m   2458\u001b[0m \u001b[38;5;28;01mtry\u001b[39;00m:\n\u001b[1;32m   2459\u001b[0m     save_handler(\u001b[38;5;28mself\u001b[39m, fp, filename)\n",
      "\u001b[0;31mFileNotFoundError\u001b[0m: [Errno 2] No such file or directory: '/home/tiagoburiol/metodos_numericos_em_python/2_ZEROS_DE_FUNCOES/png/bolzano.png'"
     ]
    },
    {
     "data": {
      "image/png": "[encoded data removed]",
      "text/plain": [
       "<Figure size 640x480 with 1 Axes>"
      ]
     },
     "metadata": {},
     "output_type": "display_data"
    }
   ],
   "source": [
    "x = np.linspace(-3, 3.7)\n",
    "f = lambda x: 0.3*(x+1)*(x-2.1)*(1.1*x)-1.1\n",
    "fig, ax = plt.subplots()\n",
    "ax.plot(x, f(x),[2.485],f(2.485),'o',color='black')\n",
    "\n",
    "\n",
    "params = {'mathtext.default': 'regular' }          \n",
    "plt.rcParams.update(params)\n",
    "\n",
    "\n",
    "ax.text(-0.2,-0.7, \"O\", style='italic')\n",
    "ax.text(1.05,-0.7, \"a\", style='italic')\n",
    "ax.text(2.55,f(2.485)-0.8, \"$\\overline{x}$\", style='italic')\n",
    "ax.text(3,-0.7, \"b\", style='italic')\n",
    "\n",
    "ax.text(-0.35,f(1)-0.2, \"f(a)\", style='italic')\n",
    "ax.text(-0.35,f(3)-0.2, \"f(b)\", style='italic')\n",
    "\n",
    "\n",
    "ax.vlines(x=[1,3], ymin=[0,0], ymax=[f(1),f(3)], \n",
    "          color='black', ls='--', lw=1)\n",
    "\n",
    "ax.hlines(y=[f(1),f(3)],xmin=[0,0], xmax=[1,3], \n",
    "          color='black', ls='--', lw=1)\n",
    "\n",
    "\n",
    "           \n",
    "# Customizações para a figura final:\n",
    "#____________________\n",
    "# Limites em x e em y\n",
    "ymin = -4; ymax = 10\n",
    "xmin = -1; xmax = 5\n",
    "plt.ylim(ymin, ymax) \n",
    "plt.xlim(xmin, xmax)\n",
    "#________________________________________________\n",
    "# Inclui setas nos eixos nas posições certas\n",
    "ax.plot((xmax-0.07), (0), marker=\">\", color='black')\n",
    "ax.text(xmax-0.15,-1, \"x\", style='italic')\n",
    "ax.plot((0), (ymax-0.3), marker=\"^\",color='black')\n",
    "ax.text(-0.2, ymax-0.7, \"y\", style='italic')\n",
    "\n",
    "# remove as bordas\n",
    "ax.spines['top'].set_visible(False)\n",
    "ax.spines['right'].set_visible(False)\n",
    "ax.spines['bottom'].set_visible(False)\n",
    "ax.spines['left'].set_visible(False)\n",
    "\n",
    "# desenha os eixos\n",
    "ax.axhline(linewidth=1.0, color='black')\n",
    "ax.axvline(linewidth=1.0, color='black')\n",
    "\n",
    "\n",
    "plt.xticks([])\n",
    "plt.yticks([])\n",
    "plt.grid()\n",
    "plt.savefig('png/bolzano.png',dpi=300)"
   ]
  },
  {
   "cell_type": "code",
   "execution_count": null,
   "metadata": {},
   "outputs": [],
   "source": []
  },
  {
   "cell_type": "code",
   "execution_count": null,
   "metadata": {},
   "outputs": [],
   "source": []
  },
  {
   "cell_type": "markdown",
   "metadata": {},
   "source": [
    "#### Exemplo 1"
   ]
  },
  {
   "cell_type": "code",
   "execution_count": 3,
   "metadata": {},
   "outputs": [
    {
     "data": {
      "image/png": "[encoded data removed]",
      "text/plain": [
       "<Figure size 432x288 with 1 Axes>"
      ]
     },
     "metadata": {
      "needs_background": "light"
     },
     "output_type": "display_data"
    }
   ],
   "source": [
    "x = np.linspace(-3, 6)\n",
    "f1 = lambda x: np.exp(x)\n",
    "f2 = lambda x: np.sin(x)+2\n",
    "\n",
    "fig, ax = plt.subplots()\n",
    "\n",
    "ax.axhline(linewidth=1.0, color='black')\n",
    "ax.axvline(linewidth=1.0, color='black')\n",
    "\n",
    "ax.annotate(\"$f_1(x) = e^x$\", fontsize=12,\n",
    "            xy=(2,6), xycoords='data',\n",
    "            xytext=(2,6), textcoords='data')\n",
    "\n",
    "ax.annotate(\"$f_2(x) = sen(x)+2$\", fontsize=12,\n",
    "            xy=(2.2,3.2), xycoords='data',\n",
    "            xytext=(2,3.2), textcoords='data')\n",
    "\n",
    "\n",
    "plt.plot(x, f1(x), x, f2(x),color='black')\n",
    "plt.ylim(-1, 8) \n",
    "plt.xlim(-3, 6)\n",
    "plt.grid()\n",
    "plt.savefig('png/exemplo1.png',dpi=300)\n"
   ]
  },
  {
   "cell_type": "code",
   "execution_count": 4,
   "metadata": {},
   "outputs": [
    {
     "name": "stdout",
     "output_type": "stream",
     "text": [
      "f( 0.5 ) = -0.8307\n",
      "f( 0.6 ) = -0.7425\n",
      "f( 0.7 ) = -0.6305\n",
      "f( 0.8 ) = -0.4918\n",
      "f( 0.9 ) = -0.3237\n",
      "f( 1.0 ) = -0.1232\n",
      "f( 1.1 ) = 0.113\n",
      "f( 1.2 ) = 0.3881\n",
      "f( 1.3 ) = 0.7057\n",
      "f( 1.4 ) = 1.0698\n",
      "f( 1.5 ) = 1.4842\n"
     ]
    }
   ],
   "source": [
    "xi = np.linspace(0.5, 1.5, 11)\n",
    "f = lambda x: np.exp(x)-np.sin(x)-2\n",
    "for x in xi:\n",
    "    print (\"f(\",round(x,1),\") =\",round(f(x),4))"
   ]
  },
  {
   "cell_type": "code",
   "execution_count": 5,
   "metadata": {},
   "outputs": [
    {
     "data": {
      "text/plain": [
       "-0.009772107530853003"
      ]
     },
     "execution_count": 5,
     "metadata": {},
     "output_type": "execute_result"
    }
   ],
   "source": [
    "f(1.05)"
   ]
  },
  {
   "cell_type": "code",
   "execution_count": null,
   "metadata": {},
   "outputs": [],
   "source": []
  },
  {
   "cell_type": "code",
   "execution_count": 6,
   "metadata": {},
   "outputs": [],
   "source": [
    "import math"
   ]
  },
  {
   "cell_type": "code",
   "execution_count": 7,
   "metadata": {},
   "outputs": [
    {
     "name": "stdout",
     "output_type": "stream",
     "text": [
      "2.4041630560342617\n",
      "3.136563602406145\n",
      "3.457552430687604\n"
     ]
    },
    {
     "data": {
      "image/png": "[encoded data removed]",
      "text/plain": [
       "<Figure size 432x288 with 1 Axes>"
      ]
     },
     "metadata": {},
     "output_type": "display_data"
    }
   ],
   "source": [
    "xplot = np.linspace(0, 6)\n",
    "f1 = lambda x: x\n",
    "f2 = lambda x: 1.7*np.sqrt(x+1) #0.2*np.exp(x)-0.9\n",
    "\n",
    "xi = [1]; yi_min = [0]; yi_max = [f2(xi[0])]\n",
    "yi = []; xi_min = []; xi_max = []\n",
    "\n",
    "fig, ax = plt.subplots()\n",
    "ax.plot(xplot, f1(xplot), xplot, f2(xplot),color='black')\n",
    "ax.plot(xi, yi_max[-1]-0.12, \n",
    "        marker=\"^\",markersize=3, color='black')\n",
    "ax.annotate(\"$x_0$\", xy=(xi[-1]-0.1, -0.3), xycoords='data',\n",
    "            xytext=(xi[-1]-0.1, -0.3), textcoords='data')\n",
    "\n",
    "x=1\n",
    "for i in range(3):\n",
    "    x = f2(x)\n",
    "    print (x)\n",
    "    yi.append(yi_max[-1])\n",
    "    xi_min.append(xi[-1])\n",
    "    xi_max.append(yi[-1])\n",
    "    ax.plot(yi[-1]-0.12, xi_max[-1], \n",
    "            marker=\">\",markersize=3, color='black')\n",
    "    \n",
    "    xi.append(yi_max[-1])\n",
    "    yi_min.append(yi[-1])\n",
    "    yi_max.append(f2(xi[-1]))\n",
    "    ax.plot(xi[-1], yi_max[-1]-0.12, \n",
    "            marker=\"^\", markersize=3, color='black')\n",
    "    text = '$x_'+str(i+1)+'$'\n",
    "    ax.annotate(text, xy=(xi[-1]-0.1, -0.3), xycoords='data',\n",
    "            xytext=(xi[-1]-0.1, -0.3), textcoords='data')\n",
    "\n",
    "ax.vlines(x=xi, ymin=yi_min, ymax=yi_max, \n",
    "          color='black', ls='--', lw=1.2)\n",
    "ax.vlines(x=xi, ymin=np.zeros(len(xi)), ymax=yi_max, \n",
    "          color='black', linestyle='dotted', lw=1.2)\n",
    "ax.hlines(y=yi, xmin=xi_min, xmax=xi_max, \n",
    "          color='black', ls='--', lw=1.2)\n",
    "\n",
    "# inclui setas nos eixos\n",
    "ax.plot((5.9), (0), marker=\">\", color='black')\n",
    "ax.annotate(\"x\", xy=(6,-0.3), xycoords='data',\n",
    "            xytext=(6,-0.3), textcoords='data')\n",
    "ax.plot((0), (5.9), marker=\"^\",color='black')\n",
    "ax.annotate(\"y\", xy=(-0.2, 5.8), xycoords='data',\n",
    "            xytext=(-0.2, 5.8), textcoords='data')\n",
    "\n",
    "# remove as bordas\n",
    "ax.spines['top'].set_visible(False)\n",
    "ax.spines['right'].set_visible(False)\n",
    "ax.spines['bottom'].set_visible(False)\n",
    "ax.spines['left'].set_visible(False)\n",
    "\n",
    "# desenha os eixos\n",
    "ax.axhline(linewidth=1.0, color='black')\n",
    "ax.axvline(linewidth=1.0, color='black')\n",
    "\n",
    "plt.ylim(-0.5, 6) \n",
    "plt.xlim(-0.5, 6)\n",
    "plt.xticks([])\n",
    "plt.yticks([])\n",
    "plt.grid()\n",
    "plt.savefig('png/exemplo7a.png',dpi=300)\n"
   ]
  },
  {
   "cell_type": "code",
   "execution_count": 8,
   "metadata": {},
   "outputs": [
    {
     "name": "stderr",
     "output_type": "stream",
     "text": [
      "<ipython-input-8-e64d3b262fe4>:3: RuntimeWarning: divide by zero encountered in divide\n",
      "  f2 = lambda x: 5/np.sqrt(x)\n"
     ]
    },
    {
     "name": "stdout",
     "output_type": "stream",
     "text": [
      "5.0\n",
      "2.23606797749979\n",
      "3.34370152488211\n",
      "2.734363528521053\n"
     ]
    },
    {
     "data": {
      "image/png": "[encoded data removed]",
      "text/plain": [
       "<Figure size 432x288 with 1 Axes>"
      ]
     },
     "metadata": {},
     "output_type": "display_data"
    }
   ],
   "source": [
    "xplot = np.linspace(0, 6)\n",
    "f1 = lambda x: x\n",
    "f2 = lambda x: 5/np.sqrt(x)\n",
    "\n",
    "x = 1.0\n",
    "xi = [x]; yi_min = [0]; yi_max = [f2(xi[0])]\n",
    "yi = []; xi_min = []; xi_max = []\n",
    "\n",
    "fig, ax = plt.subplots()\n",
    "ax.plot(xplot, f1(xplot), xplot, f2(xplot),color='black')\n",
    "ax.plot(xi, yi_max[-1]-0.12, \n",
    "        marker=\"^\",markersize=3, color='black')\n",
    "ax.annotate(\"$x_0$\", xy=(xi[-1]-0.1, -0.3), xycoords='data',\n",
    "            xytext=(xi[-1]-0.1, -0.3), textcoords='data')\n",
    "\n",
    "\n",
    "for i in range(4):\n",
    "    x = f2(x)\n",
    "    print (x)\n",
    "    yi.append(yi_max[-1])\n",
    "    xi_min.append(xi[-1])\n",
    "    xi_max.append(yi[-1])\n",
    "    if xi_min[-1]<xi_max[-1]:\n",
    "        ax.plot(yi[-1]-0.12, xi_max[-1], \n",
    "            marker=\">\",markersize=3, color='black')\n",
    "    else:\n",
    "        ax.plot(yi[-1]+0.12, xi_max[-1], \n",
    "            marker=\"<\",markersize=3, color='black')\n",
    "    \n",
    "    xi.append(yi_max[-1])\n",
    "    yi_min.append(yi[-1])\n",
    "    yi_max.append(f2(xi[-1]))\n",
    "    if yi_min[-1]<yi_max[-1]:\n",
    "        ax.plot(xi[-1], yi_max[-1]-0.12, \n",
    "            marker=\"^\", markersize=3, color='black')\n",
    "    else:\n",
    "        ax.plot(xi[-1], yi_max[-1]+0.12, \n",
    "            marker=\"v\", markersize=3, color='black')\n",
    "        \n",
    "    text = '$x_'+str(i+1)+'$'\n",
    "    ax.annotate(text, xy=(xi[-1]-0.1, -0.3), xycoords='data',\n",
    "            xytext=(xi[-1]-0.1, -0.3), textcoords='data')\n",
    "\n",
    "        \n",
    "        \n",
    "\n",
    "ax.vlines(x=xi, ymin=yi_min, ymax=yi_max, \n",
    "          color='black', ls='--', lw=1.2)\n",
    "ax.vlines(x=xi, ymin=np.zeros(len(xi)), ymax=yi_max, \n",
    "          color='black', linestyle='dotted', lw=1.2)\n",
    "ax.hlines(y=yi, xmin=xi_min, xmax=xi_max, \n",
    "          color='black', ls='--', lw=1.2)\n",
    "\n",
    "# inclui setas nos eixos\n",
    "ax.plot((5.9), (0), marker=\">\", color='black')\n",
    "ax.annotate(\"x\", xy=(6,-0.3), xycoords='data',\n",
    "            xytext=(6,-0.3), textcoords='data')\n",
    "ax.plot((0), (5.9), marker=\"^\",color='black')\n",
    "ax.annotate(\"y\", xy=(-0.2, 5.8), xycoords='data',\n",
    "            xytext=(-0.2, 5.8), textcoords='data')\n",
    "\n",
    "# remove as bordas\n",
    "ax.spines['top'].set_visible(False)\n",
    "ax.spines['right'].set_visible(False)\n",
    "ax.spines['bottom'].set_visible(False)\n",
    "ax.spines['left'].set_visible(False)\n",
    "\n",
    "# desenha os eixos\n",
    "ax.axhline(linewidth=1.0, color='black')\n",
    "ax.axvline(linewidth=1.0, color='black')\n",
    "\n",
    "plt.ylim(-0.5, 6) \n",
    "plt.xlim(-0.5, 6)\n",
    "plt.xticks([])\n",
    "plt.yticks([])\n",
    "plt.grid()\n",
    "plt.savefig('png/exemplo7b.png',dpi=300)\n"
   ]
  },
  {
   "cell_type": "code",
   "execution_count": 9,
   "metadata": {},
   "outputs": [
    {
     "name": "stdout",
     "output_type": "stream",
     "text": [
      "2.953032424395115\n",
      "2.3776682175107107\n",
      "1.283251061383698\n"
     ]
    },
    {
     "data": {
      "image/png": "[encoded data removed]",
      "text/plain": [
       "<Figure size 432x288 with 1 Axes>"
      ]
     },
     "metadata": {},
     "output_type": "display_data"
    }
   ],
   "source": [
    "xplot = np.linspace(0, 6)\n",
    "f1 = lambda x: x\n",
    "f2 = lambda x: np.exp(x/2)-2\n",
    "\n",
    "x = 3.2\n",
    "xi = [x]; yi_min = [0]; yi_max = [f2(xi[0])]\n",
    "yi = []; xi_min = []; xi_max = []\n",
    "\n",
    "fig, ax = plt.subplots()\n",
    "ax.plot(xplot, f1(xplot), xplot, f2(xplot),color='black')\n",
    "ax.plot(xi, yi_max[-1]-0.12, \n",
    "        marker=\"^\",markersize=3, color='black')\n",
    "ax.annotate(\"$x_0$\", xy=(xi[-1]-0.1, -0.3), xycoords='data',\n",
    "            xytext=(xi[-1]-0.1, -0.3), textcoords='data')\n",
    "\n",
    "\n",
    "for i in range(3):\n",
    "    x = f2(x)\n",
    "    print (x)\n",
    "    yi.append(yi_max[-1])\n",
    "    xi_min.append(xi[-1])\n",
    "    xi_max.append(yi[-1])\n",
    "    if xi_min[-1]<xi_max[-1]:\n",
    "        ax.plot(yi[-1]-0.12, xi_max[-1], \n",
    "            marker=\">\",markersize=3, color='black')\n",
    "    else:\n",
    "        ax.plot(yi[-1]+0.12, xi_max[-1], \n",
    "            marker=\"<\",markersize=3, color='black')\n",
    "    \n",
    "    xi.append(yi_max[-1])\n",
    "    yi_min.append(yi[-1])\n",
    "    yi_max.append(f2(xi[-1]))\n",
    "    if yi_min[-1]<yi_max[-1]:\n",
    "        ax.plot(xi[-1], yi_max[-1]-0.12, \n",
    "            marker=\"^\", markersize=3, color='black')\n",
    "    else:\n",
    "        ax.plot(xi[-1], yi_max[-1]+0.12, \n",
    "            marker=\"v\", markersize=3, color='black')\n",
    "        \n",
    "    text = '$x_'+str(i+1)+'$'\n",
    "    ax.annotate(text, xy=(xi[-1]-0.1, -0.3), xycoords='data',\n",
    "            xytext=(xi[-1]-0.1, -0.3), textcoords='data')\n",
    "\n",
    "        \n",
    "        \n",
    "\n",
    "ax.vlines(x=xi, ymin=yi_min, ymax=yi_max, \n",
    "          color='black', ls='--', lw=1.2)\n",
    "ax.vlines(x=xi, ymin=np.zeros(len(xi)), ymax=yi_max, \n",
    "          color='black', linestyle='dotted', lw=1.2)\n",
    "ax.hlines(y=yi, xmin=xi_min, xmax=xi_max, \n",
    "          color='black', ls='--', lw=1.2)\n",
    "\n",
    "# inclui setas nos eixos\n",
    "ax.plot((5.9), (0), marker=\">\", color='black')\n",
    "ax.annotate(\"x\", xy=(6,-0.3), xycoords='data',\n",
    "            xytext=(6,-0.3), textcoords='data')\n",
    "ax.plot((0), (5.9), marker=\"^\",color='black')\n",
    "ax.annotate(\"y\", xy=(-0.2, 5.8), xycoords='data',\n",
    "            xytext=(-0.2, 5.8), textcoords='data')\n",
    "\n",
    "# remove as bordas\n",
    "ax.spines['top'].set_visible(False)\n",
    "ax.spines['right'].set_visible(False)\n",
    "ax.spines['bottom'].set_visible(False)\n",
    "ax.spines['left'].set_visible(False)\n",
    "\n",
    "# desenha os eixos\n",
    "ax.axhline(linewidth=1.0, color='black')\n",
    "ax.axvline(linewidth=1.0, color='black')\n",
    "\n",
    "plt.ylim(-0.5, 6) \n",
    "plt.xlim(-0.5, 6)\n",
    "plt.xticks([])\n",
    "plt.yticks([])\n",
    "plt.grid()\n",
    "plt.savefig('png/exemplo7c.png',dpi=300)\n"
   ]
  },
  {
   "cell_type": "code",
   "execution_count": 10,
   "metadata": {},
   "outputs": [
    {
     "name": "stdout",
     "output_type": "stream",
     "text": [
      "1.0800000000000005\n",
      "4.416799999999999\n"
     ]
    },
    {
     "data": {
      "image/png": "[encoded data removed]",
      "text/plain": [
       "<Figure size 432x288 with 1 Axes>"
      ]
     },
     "metadata": {},
     "output_type": "display_data"
    }
   ],
   "source": [
    "xplot = np.linspace(0, 5)\n",
    "f1 = lambda x: x\n",
    "f2 = lambda x: -0.5*x**2+5\n",
    "\n",
    "x =2.8\n",
    "xi = [x]; yi_min = [0]; yi_max = [f2(xi[0])]\n",
    "yi = []; xi_min = []; xi_max = []\n",
    "\n",
    "fig, ax = plt.subplots()\n",
    "ax.plot(xplot, f1(xplot), xplot, f2(xplot),color='black')\n",
    "ax.plot(xi, yi_max[-1]-0.12, \n",
    "        marker=\"^\",markersize=3, color='black')\n",
    "ax.annotate(\"$x_0$\", xy=(xi[-1]-0.1, -0.3), xycoords='data',\n",
    "            xytext=(xi[-1]-0.1, -0.3), textcoords='data')\n",
    "\n",
    "\n",
    "for i in range(2):\n",
    "    x = f2(x)\n",
    "    print (x)\n",
    "    yi.append(yi_max[-1])\n",
    "    xi_min.append(xi[-1])\n",
    "    xi_max.append(yi[-1])\n",
    "    if xi_min[-1]<xi_max[-1]:\n",
    "        ax.plot(yi[-1]-0.12, xi_max[-1], \n",
    "            marker=\">\",markersize=3, color='black')\n",
    "    else:\n",
    "        ax.plot(yi[-1]+0.12, xi_max[-1], \n",
    "            marker=\"<\",markersize=3, color='black')\n",
    "    \n",
    "    xi.append(yi_max[-1])\n",
    "    yi_min.append(yi[-1])\n",
    "    yi_max.append(f2(xi[-1]))\n",
    "    if yi_min[-1]<yi_max[-1]:\n",
    "        ax.plot(xi[-1], yi_max[-1]-0.12, \n",
    "            marker=\"^\", markersize=3, color='black')\n",
    "    else:\n",
    "        ax.plot(xi[-1], yi_max[-1]+0.12, \n",
    "            marker=\"v\", markersize=3, color='black')\n",
    "        \n",
    "    text = '$x_'+str(i+1)+'$'\n",
    "    ax.annotate(text, xy=(xi[-1]-0.1, -0.3), xycoords='data',\n",
    "            xytext=(xi[-1]-0.1, -0.3), textcoords='data')\n",
    "\n",
    "\n",
    "ax.vlines(x=xi, ymin=yi_min, ymax=yi_max, \n",
    "          color='black', ls='--', lw=1.2)\n",
    "ax.vlines(x=xi, ymin=np.zeros(len(xi)), ymax=yi_max, \n",
    "          color='black', linestyle='dotted', lw=1.2)\n",
    "ax.hlines(y=yi, xmin=xi_min, xmax=xi_max, \n",
    "          color='black', ls='--', lw=1.2)\n",
    "\n",
    "# inclui setas nos eixos\n",
    "ax.plot((5.9), (0), marker=\">\", color='black')\n",
    "ax.annotate(\"x\", xy=(6,-0.3), xycoords='data',\n",
    "            xytext=(6,-0.3), textcoords='data')\n",
    "ax.plot((0), (5.9), marker=\"^\",color='black')\n",
    "ax.annotate(\"y\", xy=(-0.2, 5.8), xycoords='data',\n",
    "            xytext=(-0.2, 5.8), textcoords='data')\n",
    "\n",
    "# remove as bordas\n",
    "ax.spines['top'].set_visible(False)\n",
    "ax.spines['right'].set_visible(False)\n",
    "ax.spines['bottom'].set_visible(False)\n",
    "ax.spines['left'].set_visible(False)\n",
    "\n",
    "# desenha os eixos\n",
    "ax.axhline(linewidth=1.0, color='black')\n",
    "ax.axvline(linewidth=1.0, color='black')\n",
    "\n",
    "plt.ylim(-0.5, 6) \n",
    "plt.xlim(-0.5, 6)\n",
    "plt.xticks([])\n",
    "plt.yticks([])\n",
    "plt.grid()\n",
    "plt.savefig('png/exemplo7d.png',dpi=300)\n"
   ]
  },
  {
   "cell_type": "code",
   "execution_count": 11,
   "metadata": {},
   "outputs": [
    {
     "name": "stdout",
     "output_type": "stream",
     "text": [
      "3.2561051957065645\n",
      "1.8685970743358675\n",
      "1.0943244755192305\n"
     ]
    },
    {
     "data": {
      "image/png": "[encoded data removed]",
      "text/plain": [
       "<Figure size 432x288 with 1 Axes>"
      ]
     },
     "metadata": {},
     "output_type": "display_data"
    }
   ],
   "source": [
    "xplot = np.linspace(0.3, 5.5)\n",
    "f = lambda x: np.exp(x/2)-1.56\n",
    "df = lambda x: np.exp(x/2)/2\n",
    "\n",
    "x = 5\n",
    "xi = [x]\n",
    "yi = [f(x)]\n",
    "\n",
    "fig, ax = plt.subplots()\n",
    "ax.plot(xplot, f(xplot),color='black')\n",
    "ax.plot(0.85, 0, '.', color='black')\n",
    "text = '$x_0$'\n",
    "ax.annotate(text, xy=(xi[-1]-0.1, -1), xycoords='data',\n",
    "            xytext=(xi[-1]-0.1, -1), textcoords='data')\n",
    "\n",
    "text = '$\\overline{x}$'\n",
    "ax.annotate(text, xy=(0.78, -1.2), xycoords='data',\n",
    "            xytext=(0.78, -1.2), textcoords='data')\n",
    "\n",
    "for i in range(1,4):\n",
    "    x = x-f(x)/df(x)\n",
    "    xi.append(x)\n",
    "    yi.append(f(x))\n",
    "    ax.plot([xi[-2],xi[-1]], \n",
    "            [f(xi[-2]),0],\n",
    "            color='black', lw=0.5)\n",
    "    print (x)\n",
    "    \n",
    "    text = '$x_'+str(i)+'$'\n",
    "    ax.annotate(text, xy=(xi[-1]-0.1, -1), xycoords='data',\n",
    "            xytext=(xi[-1]-0.1, -1), textcoords='data')\n",
    "\n",
    "    \n",
    "ax.vlines(x=xi, ymin=0, ymax=yi, \n",
    "         color='black', linestyle='dotted', lw=1.2)\n",
    "              \n",
    "# Customizações para a figura final:\n",
    "#____________________\n",
    "# Limites em x e em y\n",
    "ymin = -2; ymax = 17\n",
    "xmin = -0.5; xmax = 6\n",
    "plt.ylim(ymin, ymax) \n",
    "plt.xlim(xmin, xmax)\n",
    "#_____________________________________________________\n",
    "# Inclui setas nos eixos nas posições certas\n",
    "ax.plot((xmax-0.07), (0), marker=\">\", color='black')\n",
    "ax.text(xmax-0.15,-1, \"x\", style='italic')\n",
    "ax.plot((0), (ymax-0.3), marker=\"^\",color='black')\n",
    "ax.text(-0.2, ymax-0.7, \"y\", style='italic')\n",
    "#____________________________________\n",
    "# Remove as bordas\n",
    "ax.spines['top'].set_visible(False)\n",
    "ax.spines['right'].set_visible(False)\n",
    "ax.spines['bottom'].set_visible(False)\n",
    "ax.spines['left'].set_visible(False)\n",
    "#_______________________________________\n",
    "# Desenha os eixos\n",
    "ax.axhline(linewidth=1.0, color='black')\n",
    "ax.axvline(linewidth=1.0, color='black')\n",
    "#________________\n",
    "# remove a escala\n",
    "plt.xticks([])\n",
    "plt.yticks([])\n",
    "#plt.grid()\n",
    "#_____________________________\n",
    "# Salva em um arquivo\n",
    "plt.savefig('png/newton.png',dpi=300)"
   ]
  },
  {
   "cell_type": "code",
   "execution_count": 18,
   "metadata": {},
   "outputs": [
    {
     "name": "stdout",
     "output_type": "stream",
     "text": [
      "3.10559639776929\n",
      "2.1263959533174397\n",
      "1.4113625636000928\n",
      "1.02917530747943\n"
     ]
    },
    {
     "data": {
      "image/png": "[encoded data removed]",
      "text/plain": [
       "<Figure size 432x288 with 1 Axes>"
      ]
     },
     "metadata": {},
     "output_type": "display_data"
    }
   ],
   "source": [
    "plt.rcParams[\"font.family\"] = \"serif\"\n",
    "plt.rcParams[\"mathtext.fontset\"] = \"dejavuserif\"\n",
    "#['dejavusans', 'dejavuserif', 'cm', 'stix', 'stixsans', 'custom']\n",
    "\n",
    "xplot = np.linspace(0.3, 5.6)\n",
    "f = lambda x: np.exp(x/2)-1.56\n",
    "\n",
    "x0 = 5.5\n",
    "x1 = 4.3\n",
    "\n",
    "xi = [x0,x1]\n",
    "yi = [f(x0),f(x1)]\n",
    "\n",
    "# plotando a função e a raiz\n",
    "fig, ax = plt.subplots()\n",
    "\n",
    "ax.plot(xplot, f(xplot),color='black')\n",
    "ax.plot(0.85, 0, '.', color='black')\n",
    "\n",
    "\n",
    "\n",
    "ax.text(xi[-2]-0.1, -0.7, '$x_0$', style='italic')\n",
    "ax.text(xi[-1]-0.1, -0.7, '$x_1$', style='italic')\n",
    "ax.text(0.76, -1.0, '$\\overline{x}$', style='italic')\n",
    "\n",
    "\n",
    "# Calcula as iterações\n",
    "for i in range(1,5):\n",
    "    # Calcula xi\n",
    "    x = (x0*f(x1)-x1*f(x0))/(f(x1)-f(x0))\n",
    "    print (x)\n",
    "    \n",
    "    # Alimenta a lista de pontos\n",
    "    xi.append(x)\n",
    "    yi.append(f(x))\n",
    "    \n",
    "    # Atualiza X0 e x1\n",
    "    x0 = x1\n",
    "    x1 = x\n",
    "    \n",
    "    # Desenha as retas secantes e os xi's\n",
    "    ax.text(xi[-1]-0.1, -0.7, '$x_'+str(i+1)+'$', style='italic')\n",
    "    ax.plot([xi[-3],xi[-1]], [f(xi[-3]),0], color='black', lw=0.5)\n",
    "    \n",
    "# desenha as linhas verticais\n",
    "ax.vlines(x=xi, ymin=0, ymax=yi, \n",
    "          color='black', linestyle='dotted', lw=1.2)\n",
    "\n",
    "                \n",
    "# Customizações para a figura final:\n",
    "#____________________\n",
    "# Limites em x e em y\n",
    "ymin = -2; ymax = 17\n",
    "xmin = -0.5; xmax = 6\n",
    "plt.ylim(ymin, ymax) \n",
    "plt.xlim(xmin, xmax)\n",
    "#_____________________________________________________\n",
    "# Inclui setas nos eixos nas posições certas\n",
    "ax.plot((xmax-0.07), (0), marker=\">\", color='black')\n",
    "ax.text(xmax-0.15,-1, \"x\", style='italic')\n",
    "ax.plot((0), (ymax-0.3), marker=\"^\",color='black')\n",
    "ax.text(-0.2, ymax-0.7, \"y\", style='italic')\n",
    "#____________________________________\n",
    "# Remove as bordas\n",
    "ax.spines['top'].set_visible(False)\n",
    "ax.spines['right'].set_visible(False)\n",
    "ax.spines['bottom'].set_visible(False)\n",
    "ax.spines['left'].set_visible(False)\n",
    "#_______________________________________\n",
    "# Desenha os eixos\n",
    "ax.axhline(linewidth=1.0, color='black')\n",
    "ax.axvline(linewidth=1.0, color='black')\n",
    "#________________\n",
    "# remove a escala\n",
    "plt.xticks([])\n",
    "plt.yticks([])\n",
    "#plt.grid()\n",
    "#_____________________________\n",
    "# Salva em um arquivo\n",
    "plt.savefig('png/secantes.png',dpi=300)"
   ]
  },
  {
   "cell_type": "code",
   "execution_count": null,
   "metadata": {},
   "outputs": [],
   "source": []
  },
  {
   "cell_type": "code",
   "execution_count": null,
   "metadata": {},
   "outputs": [],
   "source": []
  },
  {
   "cell_type": "code",
   "execution_count": null,
   "metadata": {},
   "outputs": [],
   "source": []
  }
 ],
 "metadata": {
  "kernelspec": {
   "display_name": "Python 3 (ipykernel)",
   "language": "python",
   "name": "python3"
  },
  "language_info": {
   "codemirror_mode": {
    "name": "ipython",
    "version": 3
   },
   "file_extension": ".py",
   "mimetype": "text/x-python",
   "name": "python",
   "nbconvert_exporter": "python",
   "pygments_lexer": "ipython3",
   "version": "3.12.4"
  }
 },
 "nbformat": 4,
 "nbformat_minor": 4
}