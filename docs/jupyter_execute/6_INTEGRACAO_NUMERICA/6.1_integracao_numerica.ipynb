{
 "cells": [
  {
   "cell_type": "markdown",
   "id": "d8455ed7-12a4-4c6b-8813-c9575c16c868",
   "metadata": {},
   "source": [
    "## 6.1 Integração Numérica\n",
    "A integração numérica é útil em situações nas quais não se conhece a expressão analítica da função a ser integrada ou quando a função primitiva é difícil de se obter. Uma forma de se calcular uma aproximação numérica para uma integral é por meio da integração do polinômio interpolador. Esse processo é conhecido como quadratura de Newton-Cotes e é desenvolvido por meio das sistemáticas conhecidas como *Regra dos Trapézios*, *Regra 1/3 de Simpson* e *Regra 3/8 de Simpson*. Antes de apresentarmos as fórmulas de Newton-Cotes, vamos relembrar um pouco do Cálculo. \n",
    "\n",
    "Considere uma função $f(x)$ contínua no intervalo $[a,b]$. Então, sabemos que\n",
    "\n",
    "$$I=\\int_a^b f(x)dx = F(b) - F(a)$$\n",
    "\n",
    "em que a função $F(x)$ é a primitiva (ou antiderivada) de $f$, ou seja, é tal que $F'(x) = f(x)$.\n",
    "\n",
    "Graficamente, considerando a função $f(x) \\geq 0$, para todo $x \\in [a,b]$ podemos interpretar a intergral $I=\\int_a^b f(x)dx$ como a área entre a curva de $f$ e o eixo das abcissas:\n",
    "\n",
    "<img src=\"imagens/integral.png\" width=\"400\">\n",
    "Figura 6.1 - A integral definida como área sob o gráfico"
   ]
  },
  {
   "cell_type": "markdown",
   "id": "ca3a5d7c-df44-42db-9460-93e92189eb50",
   "metadata": {},
   "source": [
    "**Soma de Riemann**\n",
    "\n",
    "A forma mais simples de obter um valor aproximado para uma integral definida é por meio da soma de Riemann. Para isto, divide-se o intervalo de integração $(a,b)$ em $n$ subintervalos e somam-se as áreas dos retângulos definidos em cada subintervalo. A largura de cada retângulo será dado por $h=\\frac{x_n-x_0}{n}$ e a altura será dada por $f(x)$ para algum $x$ dentro do subintervalo $[x_i,x_{i+1}]$, com $i=0,1,...,n$. Uma escolha natural para o valor de $x$ é um dos extremos do intervalo, o extremo esquerdo $x_i$ (\"pela esquerda\") ou o extremo direito $x_{i+1}$ (\"pela direita\"):"
   ]
  },
  {
   "cell_type": "markdown",
   "id": "4e11228a-8c14-4fe4-95c7-aa31a7ab908c",
   "metadata": {},
   "source": [
    "<img src=\"imagens/RiemannRight.png\" width=\"400\">\n",
    "<img src=\"imagens/RiemannLeft.png\" width=\"400\">\n",
    "Figura 6.2 - Somas de Riemann \"pela direita\" e \"pela esquerda\""
   ]
  },
  {
   "cell_type": "markdown",
   "id": "81f17e77-1e3d-43fe-ab26-edb288dc36cc",
   "metadata": {},
   "source": [
    "Claramente podemos aumentar a acurácia da aproximação obtida aumentando o número de subintervalos. A _regra do ponto médio_ considera a altura do retângulo definida em cada subintervalo como sendo o valor da função no ponto médio entre $x_i$ e $x_{i+1}$:\n",
    "\n",
    "$$\\int_a^b f(x)dx \\approx \\sum_{i = 0}^{n-1} hf\\left(\\frac{x_i+x_{i+1}}{2} \\right)$$\n"
   ]
  },
  {
   "cell_type": "markdown",
   "id": "f44f38c2-11c3-443d-b0f9-85c590670989",
   "metadata": {},
   "source": [
    "**Exemplo 6.1:** Nesse exemplo vamos calcular a integral $\\int_{0.1}^{0.8} x^2ln(x)dx$ usando aproximações da soma de Riemann pela esquerda, pela direita e pela regra do ponto médio, e comparar os resultados. Então vamos comparar com a solução exata \n",
    "($\\approx -0.0940934155044049$)."
   ]
  },
  {
   "cell_type": "code",
   "execution_count": 1,
   "id": "2fdbcd2f-2537-4a7d-9cfb-09cf4fdb83ab",
   "metadata": {},
   "outputs": [],
   "source": [
    "from math import log"
   ]
  },
  {
   "cell_type": "code",
   "execution_count": 2,
   "id": "a0a7403e-dba6-4488-b031-857bb89c96d1",
   "metadata": {},
   "outputs": [
    {
     "name": "stdout",
     "output_type": "stream",
     "text": [
      "-0.0940934155044049\n"
     ]
    }
   ],
   "source": [
    "F = lambda x: x**3*log(x)/3 - x**3/9\n",
    "I = F(0.8)-F(0.1)\n",
    "print(I)"
   ]
  },
  {
   "cell_type": "markdown",
   "id": "5f7d69f6-b1c5-4842-9677-b0e678b0a888",
   "metadata": {},
   "source": [
    "Aproximado pela soma de Riemann com 7 subintervalos, ou seja, $h = 0.1$"
   ]
  },
  {
   "cell_type": "code",
   "execution_count": 3,
   "id": "507c97ac-694e-4bfe-a05b-a1ac0c16487d",
   "metadata": {},
   "outputs": [
    {
     "name": "stdout",
     "output_type": "stream",
     "text": [
      "h= 0.1\n"
     ]
    }
   ],
   "source": [
    "import numpy as np\n",
    "xi = np.linspace(0.1, 0.8, 8)\n",
    "h = xi[1]-xi[0]\n",
    "print (\"h=\",h)"
   ]
  },
  {
   "cell_type": "code",
   "execution_count": 4,
   "id": "e745db6a-b98f-4590-aed0-eb10c34a7e9a",
   "metadata": {},
   "outputs": [],
   "source": [
    "f = lambda x: x**2*np.log(x)"
   ]
  },
  {
   "cell_type": "code",
   "execution_count": 5,
   "id": "645c108f-29ca-4548-a135-d612d481a7a4",
   "metadata": {},
   "outputs": [
    {
     "name": "stdout",
     "output_type": "stream",
     "text": [
      "Ie= -0.08743221791422254 Erro= 0.006661197590182369\n"
     ]
    }
   ],
   "source": [
    "Ie = h*np.sum(f(xi[0:-1]))\n",
    "print(\"Ie=\",Ie, \"Erro=\",abs(I-Ie))"
   ]
  },
  {
   "cell_type": "code",
   "execution_count": 6,
   "id": "c497f89e-b48d-4e29-ad37-c9e32bfee1fb",
   "metadata": {},
   "outputs": [
    {
     "name": "stdout",
     "output_type": "stream",
     "text": [
      "Id= -0.09941082010533792 Erro= 0.0053174046009330095\n"
     ]
    }
   ],
   "source": [
    "Id = h*np.sum(f(xi[1:]))\n",
    "print(\"Id=\",Id, \"Erro=\",abs(I-Id))"
   ]
  },
  {
   "cell_type": "code",
   "execution_count": 7,
   "id": "ce932aac-cb3f-4841-84ab-8a1b3924346b",
   "metadata": {},
   "outputs": [
    {
     "name": "stdout",
     "output_type": "stream",
     "text": [
      "Im= -0.09443022564968762 Erro= 0.00033681014528270936\n"
     ]
    }
   ],
   "source": [
    "Im = h*np.sum(f((xi[0:-1]+xi[1:])/2))\n",
    "print(\"Im=\",Im, \"Erro=\",abs(I-Im))"
   ]
  },
  {
   "cell_type": "markdown",
   "id": "1786580a-595a-46d2-a5a8-deef2059ad06",
   "metadata": {},
   "source": [
    "Nesse exemplo é possivel notar que a regra do ponto médio forneceu a melhor aproximação.\n",
    "\n",
    "---"
   ]
  },
  {
   "cell_type": "markdown",
   "id": "ed71005b-eb8e-4ae0-9af8-5c996c588401",
   "metadata": {},
   "source": [
    "De modo geral, os métodos numéricos para cálculo de integrais definidas consistem em aproximar a função $f(x)$ pelo polinômio interpolador $P(x)$ e integrar o polinômio. Os casos ilustrados acima são polinômios de grau zero, mas poderiamos utilizar polinômios de grau maior.\n",
    "\n",
    "Assim, de forma geral temos:\n",
    "\n",
    "$$ \\int_{a}^{b} f(x) dx \\approx \\int_{x_0}^{x_n} P(x) dx $$\n"
   ]
  },
  {
   "cell_type": "markdown",
   "id": "a7764e95-d724-47d3-bd1d-c7841fcc7880",
   "metadata": {},
   "source": [
    "A seguir serão apresentados três métodos para integração numérica baseados na integração do polinômio interpolador conhecidos como Regras de Newton-Cotes. São eles, a regra dos trapézios, a regra 1/3 de Simpson e a regra 3/8 de Simpson."
   ]
  },
  {
   "cell_type": "code",
   "execution_count": null,
   "id": "d6c40dcb-3967-48ee-af94-3d548472edf2",
   "metadata": {},
   "outputs": [],
   "source": []
  }
 ],
 "metadata": {
  "kernelspec": {
   "display_name": "Python 3 (ipykernel)",
   "language": "python",
   "name": "python3"
  },
  "language_info": {
   "codemirror_mode": {
    "name": "ipython",
    "version": 3
   },
   "file_extension": ".py",
   "mimetype": "text/x-python",
   "name": "python",
   "nbconvert_exporter": "python",
   "pygments_lexer": "ipython3",
   "version": "3.12.4"
  }
 },
 "nbformat": 4,
 "nbformat_minor": 5
}