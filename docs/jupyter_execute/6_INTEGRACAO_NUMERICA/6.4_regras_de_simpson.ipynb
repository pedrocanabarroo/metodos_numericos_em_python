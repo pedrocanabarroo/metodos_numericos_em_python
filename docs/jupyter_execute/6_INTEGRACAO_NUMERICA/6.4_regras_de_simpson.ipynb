{
 "cells": [
  {
   "cell_type": "markdown",
   "id": "e72c05eb-263c-44d0-93f4-ff1dfe69c797",
   "metadata": {},
   "source": [
    "## 6.4 Regras de Simpson\n",
    "\n",
    "**Regra 1/3 de Simpson**\n",
    "\n",
    "Consiste em aproximar a integral da função pela integral de um polinômio interpolador de grau 2. Para isso dividimos o intervalo de integração subintervalos e a cada 3 pontos usamos a integral do polinômio interplolador como aproximação da integral da função nesses dois subintervalos. \n",
    "\n",
    "Então, considere uma função $f(x)$ definida em três pontos distintos $x_0$, $x_1$ e $x_2$ equidistantes no intervalo $[a,b]$. O polinômio de Lagrange para esses pontos, considerando a mudança de variável $u = \\frac{x-x_0}{h}$ é dado por\n",
    "\n",
    "$$ P_2(u) =  f(x_0) \\left( \\frac{u^2-3u+2}{2}\\right) + f(x_1)\\left( \\frac{u^2-2u}{-1}\\right) + f(x_2)\\left( \\frac{u^2-u}{2}\\right)$$\n",
    "\n",
    "A integral pode ser aproximada como segue \n",
    "\n",
    "$$ \\int_{x_0}^{x_n} f(x) dx \\approx \\int_{x_0}^{x_2} P_2(x) dx= h \\int_{0}^{2} P_2(u) du $$\n",
    "\n",
    "ou, ainda,\n",
    "\n",
    "$$ h \\int_{0}^{2} P_2(u) du  = h f(x_0)(u) \\Big|_0^2 + h (f(x_1)-f(x_0))\\left( \\frac{u^2}{2} \\right) \\Big|_0^2\n",
    "+ \\frac{h}{2}(f(x_ 2)-2f(x_1)+f(x_ 0)) \\left(\\frac{u^3}{3}-\\frac{u^2}{2} \\right) \\Big|_0^2 =$$\n",
    "\n",
    "$$ = 2hf(x_0)+2hf(x_1)-2hf(x_0)+\\frac{h}{3} ( f(x_2)-2f(x_1)+f(x_0)) = $$\n",
    "\n",
    "$$ \\frac{h}{3}[f(x_0)+4f(x_1)+f(x_2)]$$\n",
    "\n",
    "Assim, temos \n",
    "\n",
    "$$ \\int_{x_0}^{x_n} f(x) dx \\approx \\frac{h}{3}[f(x_0)+4f(x_1)+f(x_2)]$$\n",
    "\n",
    "conhecida como *Regra 1/3 de Simpson*.\n",
    "\n",
    "\n",
    "Graficamente, tem-se\n",
    "<img src=\"imagens/integral2.png\" width=\"400\">\n",
    "Figura 6.4 - Aproximação pela integral do polinômio interpolador de grau 2\n",
    "\n",
    "\n",
    "Um *limitante superior* para o erro será dado por \n",
    "\n",
    "$$ |E_2| \\leq \\frac{h^5}{90} max.\\{|f^{(4)}(x)|, x_0 \\leq \\xi \\leq x_2 \\}$$"
   ]
  },
  {
   "cell_type": "markdown",
   "id": "c0455aac-c1bf-4efb-a6d2-de1ebe5f9b7d",
   "metadata": {},
   "source": [
    "**Exemplo 1:** Calcule o valor aproximado da integral $\\int_{0.5}^{1.5}cos(x)dx$ usando a regra 1/3 de Simpson."
   ]
  },
  {
   "cell_type": "code",
   "execution_count": 1,
   "id": "9c906c79-d64f-4319-8a19-f589afda69f8",
   "metadata": {},
   "outputs": [],
   "source": [
    "import numpy as np"
   ]
  },
  {
   "cell_type": "code",
   "execution_count": 2,
   "id": "46cb5839-54d9-47fa-a53c-5ddf6bd0e9a1",
   "metadata": {},
   "outputs": [
    {
     "ename": "NameError",
     "evalue": "name 'xi' is not defined",
     "output_type": "error",
     "traceback": [
      "\u001b[0;31m---------------------------------------------------------------------------\u001b[0m",
      "\u001b[0;31mNameError\u001b[0m                                 Traceback (most recent call last)",
      "Cell \u001b[0;32mIn[2], line 7\u001b[0m\n\u001b[1;32m      5\u001b[0m f \u001b[38;5;241m=\u001b[39m \u001b[38;5;28;01mlambda\u001b[39;00m x: np\u001b[38;5;241m.\u001b[39mcos(x)\n\u001b[1;32m      6\u001b[0m x \u001b[38;5;241m=\u001b[39m np\u001b[38;5;241m.\u001b[39mlinspace(x0, xn, n\u001b[38;5;241m+\u001b[39m\u001b[38;5;241m1\u001b[39m)\n\u001b[0;32m----> 7\u001b[0m y \u001b[38;5;241m=\u001b[39m f(xi)\n\u001b[1;32m      9\u001b[0m \u001b[38;5;66;03m# Regra 1/3 de Simpson \u001b[39;00m\n\u001b[1;32m     10\u001b[0m Is \u001b[38;5;241m=\u001b[39m (h\u001b[38;5;241m/\u001b[39m\u001b[38;5;241m3\u001b[39m)\u001b[38;5;241m*\u001b[39m(y[\u001b[38;5;241m0\u001b[39m] \u001b[38;5;241m+\u001b[39m \u001b[38;5;241m4\u001b[39m\u001b[38;5;241m*\u001b[39my[\u001b[38;5;241m1\u001b[39m] \u001b[38;5;241m+\u001b[39m y[\u001b[38;5;241m2\u001b[39m])\n",
      "\u001b[0;31mNameError\u001b[0m: name 'xi' is not defined"
     ]
    }
   ],
   "source": [
    "x0 = 0.5; xn = 1.5 \n",
    "n = 2\n",
    "h = (xn-x0)/n\n",
    "\n",
    "f = lambda x: np.cos(x)\n",
    "x = np.linspace(x0, xn, n+1)\n",
    "y = f(xi)\n",
    "\n",
    "# Regra 1/3 de Simpson \n",
    "Is = (h/3)*(y[0] + 4*y[1] + y[2])\n",
    "print (\"Resultado 1/3 Simpson: \", Is)"
   ]
  },
  {
   "cell_type": "markdown",
   "id": "9720029b-72ed-4276-8124-5d86072d7f90",
   "metadata": {},
   "source": [
    "A biblioteca `scipy` contém diversas funções para integração numérica, dentre elas as regras de Simpson. Veja um exemplo de como utilizar a seguir:"
   ]
  },
  {
   "cell_type": "code",
   "execution_count": null,
   "id": "e68d08b4-098e-4d00-b224-45bcfd3d1e70",
   "metadata": {},
   "outputs": [],
   "source": [
    "import scipy.integrate as integrate\n",
    "integrate.simps(f(x), x)"
   ]
  },
  {
   "cell_type": "markdown",
   "id": "97746e05-2233-4691-bc97-f9f2a900f5ec",
   "metadata": {},
   "source": [
    "A **regra 1/3 de Simpson repetida** (ou generalizada) consiste em subdividirmos o intervalo de integração $[a,b]$ em $n$ subintervalos de ampliture $h$, que que $n$ é um número par de subintervalos, com $x_0=a$ e $x_n=b$, então, aplicando a regra 1/3 de Simpson a cada 2 subintervalos consecutivos, obtemos\n",
    "\n",
    "$$ \\int_{x_0}^{x_n} f(x) dx \\approx \\frac{h}{3} [f(x_0)+4f(x_1)+f(x_2)] + \\frac{h}{3} [f(x_2)+4f(x_3)+f(x_4)] + ... + \\frac{h}{3} [f(x_{n-2})+4f(x_{n-1})+f(x_n)]=$$\n",
    "\n",
    "$$ = \\frac{h}{3} [f(x_0)+ 4f(x_1) + 2f(x_2)+ 4f(x_3)+...+2f(x_{n-2})+4f(x_{n-1})+f(x_n)] = $$\n",
    "\n",
    "$$ = \\frac{h}{3} \\{f(x_0)+ 4[f(x_1) + f(x_3)+...+f(x_{n-1})]+ 2[f(x_2) + f(x_4)+...+f(x_{n-2})] + f(x_n)\\}  $$\n",
    "\n",
    "\n",
    "Um **limitante superior** para o erro será dado por \n",
    "\n",
    "$$ |E_2| \\leq \\frac{h^4}{180}(x_n-x_0)  \\,\\, max.\\left\\{\\left|f^{(4)}(x)\\right|, x_0 \\leq \\xi \\leq x_n  \\right\\}$$"
   ]
  },
  {
   "cell_type": "markdown",
   "id": "186d78a3-004d-4691-99f2-3a624c2b65c3",
   "metadata": {},
   "source": [
    "**Exemplo 6.4:** Calcule o valor aproximado da integral $\\int_1^4(xe^x+3)dx$ usando a regra 1/3 de Simpson para 10, 20 e 100 subintervalos"
   ]
  },
  {
   "cell_type": "code",
   "execution_count": null,
   "id": "ce736eec-35dd-428c-b3cd-96a23764e072",
   "metadata": {},
   "outputs": [],
   "source": [
    "x0 = 1.0; xn = 4.0 \n",
    "f = lambda x: x*np.exp(x)+3\n",
    "\n",
    "for n in [10,20,100]:\n",
    "    h = (xn-x0)/n\n",
    "    x = np.linspace(x0, xn, n+1) \n",
    "    y = f(x)\n",
    "    I = (h/3)*(y[0] + 4*np.sum(y[1:n:2]) + 2*np.sum(y[2:n:2])+ y[-1])\n",
    "    print (\"n=\",n,\", I=\",I)"
   ]
  },
  {
   "cell_type": "code",
   "execution_count": null,
   "id": "42179860-fc08-46d9-a259-1288b9d0347c",
   "metadata": {},
   "outputs": [],
   "source": [
    "x = np.linspace(1, 4, 11) \n",
    "print(scipy.integrate.simps(f(x), x))"
   ]
  },
  {
   "cell_type": "code",
   "execution_count": null,
   "id": "22a18719-099f-4e99-b417-6fab122bd599",
   "metadata": {},
   "outputs": [],
   "source": [
    "x = np.linspace(1, 4, 21) \n",
    "print(scipy.integrate.simps(f(x), x))"
   ]
  },
  {
   "cell_type": "code",
   "execution_count": null,
   "id": "7b689a55-8332-409f-a976-4674c29b6079",
   "metadata": {},
   "outputs": [],
   "source": [
    "x = np.linspace(1, 4, 101) \n",
    "print(scipy.integrate.simps(f(x), x))"
   ]
  },
  {
   "cell_type": "markdown",
   "id": "d1077e54-270f-4402-8c23-70bd4bd9af52",
   "metadata": {},
   "source": [
    "**Regra 3/8 de Simpson**\n",
    "\n",
    "Consiste em aproximar a integral da função pela integral de um polinômio interpolador de grau 3. Para isso dividimos o intervalo de integração subintervalos e a cada 4 pontos usamos a integral do polinômio interpolador como aproximação da integral da função nesses 3 subintervalos. \n",
    "\n",
    "Então, considere uma função $f(x)$ definida em quatro pontos distintos $x_0$, $x_1$, $x_2$ e $x_3$ equidistantes no intervalo $[a,b]$. O polinômio interpolador de Lagrange para esses pontos, considerando a mudança de variável $u = \\frac{x-x_0}{h}$ é dado por\n",
    "\n",
    "$$P_3(u)=f(x_0) \\left[ \\frac{(u-1)(u-2)(u-3)}{-6}\\right] + f(x_1) \\left[ \\frac{u(u-2)(u-3)}{2} \\right] + f(x_2) \\left[\n",
    "\\frac{u(u-1)(u-3)}{-2}\\right]+ f(x_3)\\left[ \\frac{u(u-1)(u-2)}{6}  \\right]$$\n",
    "\n",
    "ou\n",
    "\n",
    "$$P_3(u)=f(x_0) \\left[ \\frac{u^3-6u^2+11u-6}{-6}\\right] + f(x_1) \\left[ \\frac{u^3-5u^2+6u}{2} \\right] + f(x_2) \\left[ \\frac{u^3-4u^2+3u}{-2}\\right]  + f(x_3)\\left[ \\frac{u^3-5u^2+6u}{6}  \\right]$$\n",
    "\n",
    "O que fornece\n",
    "\n",
    "$$ \\int_{x_0}^{x_3} f(x) dx \\approx  h \\int_{0}^{3} P_3(u) du = \\frac{3}{8}h \\left[f(x_0)+3f(x_1)+3f(f_2)+f(x_3) \\right]$$\n",
    "\n",
    "Então\n",
    "\n",
    " \n",
    "\n",
    "$$\\int_{x_0}^{x_3} f(x) dx \\approx \\frac{3}{8}h \\left[f(x_0)+3f(x_1)+3f(x_2)+f(x_3) \\right]$$\n",
    "\n",
    "que consiste na regra 3/8 de Simpson.\n",
    "\n",
    "Graficamente, tem-se\n",
    "<img src=\"imagens/simpson3p8.png\" width=\"400\">\n",
    "Figura 6.5 - Aproximação pela integral do polinômio interpolador de grau 3\n",
    "\n",
    "\n",
    "Um *limitante superior* para o erro será dado por \n",
    "\n",
    "$$ |E_3| \\leq \\frac{3h^5}{80} max.\\{|f^{(4)}(x)|, x_0 \\leq \\xi \\leq x_3 \\}$$"
   ]
  },
  {
   "cell_type": "markdown",
   "id": "7f7b1439-e5cb-40e8-b197-3b0d7819ca1a",
   "metadata": {},
   "source": [
    "**Exemplo 6.5:**\n",
    "Calcule o valor aproximado da integral $\\int_1^7 ln(x+9) dx$ usando a regra 3/8 de Simpson."
   ]
  },
  {
   "cell_type": "code",
   "execution_count": null,
   "id": "fb0fc109-558b-4105-8fd9-a9f7c09a77f5",
   "metadata": {},
   "outputs": [],
   "source": [
    "x = np.linspace(1,7,4)\n",
    "h = x[1]-x[0]\n",
    "f = lambda x: np.log(x+9)\n",
    "I = (3*h/8)*(f(x[0]) + 3*f(x[1])+3*f(x[2])+f(x[3]))\n",
    "print(I)"
   ]
  },
  {
   "cell_type": "code",
   "execution_count": null,
   "id": "3ca6872a-4b64-4829-b832-dcb7f1e26c8c",
   "metadata": {},
   "outputs": [],
   "source": [
    "print(scipy.integrate.simps(f(x), x))"
   ]
  },
  {
   "cell_type": "markdown",
   "id": "28cd6caf-d4c5-4475-9ea1-189f1f8d5d61",
   "metadata": {},
   "source": [
    "A **regra 3/8 de Simpson repetida** (ou generalizada) consiste em subdividir o intervalo de integração $[a,b]$ em $n$ subintervalos de ampliture $h$, em que $n$ é um número múltiplo de 3, com $x_0=a$ e $x_n=b$, então, aplicar a regra 3/8 de Simpson repetidamente a cada 3 subintervalos consecutivos. Com isso obtém-se:\n",
    "\n",
    "$$ \\int_{x_0}^{x_n} f(x) dx \\approx \\frac{3}{8}h \\left[\n",
    "f(x_0) + 3f(x_1)+3f(x_2)+f(x_3) \\right] +\n",
    "\\frac{3}{8}h \\left[f(x_3)+3f(x_4)+3f(x_5)+f(x_6) \\right] + \n",
    "... + \\frac{3}{8}h \\left[f(x_{n-3})+3f(x_{n-2})+3f(x_{n-1})+f(x_n) \\right]$$\n",
    "\n",
    "\n",
    "$$ = \\frac{3}{8}h \\left\\{ f(x_0) +\n",
    "3 \\left[f(x_1)+f(x_2)+f(x_4)+f(x_5)+....+ f(x_{n-2})+f(x_{n-1})\\right] +\n",
    "2 \\left[f(x_3)+f(x_6)+....+f(x_{n-3}) \\right] + f(x_n)\\right\\}$$\n",
    "\n",
    "que consiste na regra 3/8 de Simpson repetida."
   ]
  },
  {
   "cell_type": "markdown",
   "id": "0f787a85-c955-42d8-9181-ff903bd9135c",
   "metadata": {},
   "source": [
    "Um *limitante superior* para o erro é dado por \n",
    "\n",
    "$$ |E_3| \\leq \\frac{h^4}{80}(x_n-x_0)  \\,\\, max.\\left\\{\\left|f^{(4)}(x)\\right|, x_0 \\leq \\xi \\leq x_n  \\right\\}$$"
   ]
  },
  {
   "cell_type": "markdown",
   "id": "81f4a1df-5ac5-4f11-a2f2-bafc6227a2a1",
   "metadata": {},
   "source": [
    "**Exemplo 2:** Calcule o valor aproximado da integral $\\int_1^6 ln(x+9) dx$ usando a regra 3/8 de Simpson para 8, 20 e 40 subintervalos."
   ]
  },
  {
   "cell_type": "code",
   "execution_count": null,
   "id": "99d8d54a-097d-4569-b66f-dae00be18c9d",
   "metadata": {},
   "outputs": [],
   "source": [
    "x0 = 1.0; xn = 6.0 \n",
    "f = lambda x: np.log(x+9)\n",
    "\n",
    "for n in [4,20,40]:\n",
    "    h = (xn-x0)/n\n",
    "    x = np.linspace(x0, xn, n+1) \n",
    "    y = f(x)\n",
    "    # Regra 3/8 de Simpson usando funções do numpy\n",
    "    I = (3*h/8)*(y[0] + 3*np.sum(y[1:n-1:3]+y[2:n:3]) +\\\n",
    "                 2*np.sum(y[3:n:3])+ y[-1])\n",
    "    print (\"n=\",n,\", I=\",I)"
   ]
  },
  {
   "cell_type": "markdown",
   "id": "880f611b-21ec-4542-a042-19ee3dfce995",
   "metadata": {},
   "source": [
    "O sub-pacote `scipy.integrate`, de SciPy, provê diversas funções para integração numérica, incluindo as regras de Newton-Cotes `trapezoid`, `cumulative_trapezoid` e `simpson`. Além destas, outras funções disponíveis são `quad`, `dblquad` e `tplquad` para integrais simples, duplas e triplas, respectivamente; `fixed_quad` e `quadrature`para quadratura Gaussiana e; `romberg`para integração de Romberg."
   ]
  },
  {
   "cell_type": "markdown",
   "id": "eb0a3e2c-a5e7-42d3-abe9-fa9bae3f3040",
   "metadata": {},
   "source": [
    "**Exercícios:**\n",
    "\n",
    "Encontre, se possível, a primitiva das seguintes funções, então obtenha a solução exata e compare com soluções numéricas usando somas de Riemann e os métodos de Newton-Cotes para diferentes números de subintervalos. Compare os resultados.  \n",
    "\n",
    "\n",
    "a) $\\int_{1}^{1.6} \\frac{2x}{x^2-4} dx$  \n",
    "\n",
    "b) $\\int_{0}^{1} x^2 e^{-x} dx$\n",
    "\n",
    "c) $\\int_{0}^{\\pi/4} e^{x^3}sen(2x)dx$\n",
    "\n",
    "d) $\\int_{0}^{0.5} \\frac{2}{x-4} dx$\n",
    "\n",
    "e) $\\int_{0}^{1} x^{-1/4}sen(x) dx$\n",
    "\n",
    "f) $\\int_{0}^{1} \\frac{e^{2x}}{\\sqrt[5]{x^2}}dx$\n",
    "\n",
    "g) $\\int_{0}^{1} \\frac{ln(x)}{(1-x)^{1/5}}dx$\n",
    "\n",
    "h) $\\int_{0}^{1} \\frac{cos(2x)}{x^{1/3}}dx$\n",
    "\n",
    "i) $\\int e^{x^2} dx$\n",
    "\n",
    "j) $\\int \\frac{e^x}{x} dx$\n",
    "\n",
    "k) $\\int sen(x^2) dx$\n",
    "\n",
    "l) $\\int ln(lnx) dx$\n",
    "\n",
    "m) $\\int e^{-\\frac{x^2}{2}} dx$\n",
    "\n",
    "n) $\\int cos(x^2) dx$\n",
    "\n",
    "o) $\\int cos(e^x) dx$\n",
    "\n",
    "p) $\\int \\frac{1}{ln(x)} dx$\n"
   ]
  },
  {
   "cell_type": "code",
   "execution_count": null,
   "id": "4255150c-fad8-4d52-8209-bc24aa0c989a",
   "metadata": {},
   "outputs": [],
   "source": []
  },
  {
   "cell_type": "code",
   "execution_count": null,
   "id": "4f3f1a63-f661-4e26-be5f-54cfdca03cae",
   "metadata": {},
   "outputs": [],
   "source": []
  },
  {
   "cell_type": "code",
   "execution_count": null,
   "id": "01789118-2964-470b-ad67-fcfbcf1c4ad3",
   "metadata": {},
   "outputs": [],
   "source": []
  },
  {
   "cell_type": "code",
   "execution_count": null,
   "id": "062832ba-02a8-4919-9540-380711d467b3",
   "metadata": {},
   "outputs": [],
   "source": []
  }
 ],
 "metadata": {
  "kernelspec": {
   "display_name": "Python 3 (ipykernel)",
   "language": "python",
   "name": "python3"
  },
  "language_info": {
   "codemirror_mode": {
    "name": "ipython",
    "version": 3
   },
   "file_extension": ".py",
   "mimetype": "text/x-python",
   "name": "python",
   "nbconvert_exporter": "python",
   "pygments_lexer": "ipython3",
   "version": "3.12.4"
  }
 },
 "nbformat": 4,
 "nbformat_minor": 5
}