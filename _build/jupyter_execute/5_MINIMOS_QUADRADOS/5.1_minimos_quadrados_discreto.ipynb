{
 "cells": [
  {
   "cell_type": "markdown",
   "metadata": {},
   "source": [
    "## 5.1 Minimos quadrados: caso discreto\n",
    "\n",
    "O método dos mínimos quadrados é útil quando queremos aproximar uma função $f(x)$ por uma outra função $g(x)$, seja porque $f$ não tem expressão analítica conhecida, ou por ser de difícil tratamento ou manipulação. A função $g(x)$ pode ser uma combinação de funções polinomiais, exponenciais, logarítmicas, trigonométricas, etc.\n",
    "\n",
    "De forma geral, escrevemos a função $g(x)$ como uma combinação linear das funções $g_1(x)$, $g_2(x)$,...,$g_n(x)$, ou seja:\n",
    "\n",
    "$$ g(x) = a_1g_1(x)+a_2g_1(x)+...+a_ng_n(x)$$\n",
    "\n",
    "O problema a ser resolvido, portanto, se resume em encontrar os parâmetros $a_1$, $a_2$, ..., $a_n$ para função $g(x)$ que melhor aproxima a função $f(x)$.\n",
    "\n",
    "No **caso discreto** $f(x)$ é utilizado apenas num conjunto finito de pontos e no **caso contínuo** é usada a expressão analítica da função $f(x)$. \n",
    "\n",
    "\n",
    "\n",
    "\n",
    "\n",
    "Para encontrar a função $g(x)$ que melhor \"se ajusta\" aos $n$ pontos conhecidos de uma função $f(x)$ devemos buscar minimizar os desvios, ou erros,  $e(x_i) = f(x_i)-g(x_i)$, $i=1,...,m$. No método dos mínimos quadrados, se a função for conhecida apenas em um conjunto finito de pontos, fazemos isso minimizando a soma \n",
    "\n",
    "$$ E = \\sum_{i=1}^{m} [e(x_i)]^2= \\sum_{i=1}^{m} [f(x_i)-g(x_i)]^2 $$\n",
    "\n",
    "Note que, diferentemente do que aproximar $f$ por interpolação, com mínimos quadrados, função $g(x)$ não necessariamente precisa passar pelos pontos mas sim se ajustar a eles. \n",
    "\n",
    "Se $f$ for conhecida, buscamos minimizar a função \n",
    "\n",
    "$$ E = \\int_a^b [e(x)]^2 dx = \\int_a^b [f(x)-g(x)]^2 dx$$\n",
    "\n",
    "ou seja, queremos minimizar a área entra os gráficos de $g(x)$ e $f(x)$."
   ]
  },
  {
   "cell_type": "markdown",
   "metadata": {},
   "source": [
    "O caso discreto é útil quando queremos aproximar uma função complicada por outra mais simples, ou então, obter uma função que possa representar um conjunto de dados obtidos experimentalmente usamos. Por exemplo, se quisermos encontrar a função linear que representa o comportamento de uma mola a partir de medidas da força  $F$  aplicada para esticar essa mola e o do comprimento $x$ da mola esticada, podemos buscar a função linear $F(x)=kx$ (Lei de Hooke), encontrando constante elástica $k$ que determina a reta que melhor se ajusta aos dados.\n",
    "\n",
    "### Caso discreto\n",
    "\n",
    "Inicialmente vamos supor que queremos ajustar uma reta $g(x) = a_1x+a_2$ aos pontos $(x_i, f(x_i))$, $i=1,...,m$, como é mostrado na figura abaixo\n",
    "\n",
    "<img src=\"imagens/ajuste_reta.png\" width=\"500\">m\n",
    "\n",
    "\n",
    "Então, buscamos os coeficientes $a_1$ e $a_2$ que definem a reta que melhor se ajusta aos pontos, ou seja, os coeficientes que minimizam a função\n",
    "\n",
    "$$ E(a_1, a_2)= \\sum_{i=1}^{m} [g(x_i)-f(x_i)]^2 $$\n",
    "\n",
    "Do cálculo infinitesimal, sabemos que se a função $ E(a_1, a_2)$ possui um ponto de mínimo, suas derivadas parciais nesse ponto devem ser nulas, ou seja \n",
    "\n",
    "$$ \\frac{\\partial E}{\\partial a_1} = 0  \\,\\,\\,\\,\\,  \\frac{\\partial E}{\\partial a_2} = 0$$ \n",
    "\n",
    "Derivando $ E(a_1, a_2)$ em relação a $a_1$ e $a_2$ obtemos\n",
    "\n",
    "$$ \\frac{\\partial E}{\\partial a_1} = \\frac{\\partial}{\\partial a_1} \\left[ \\sum_{i=1}^{m}\\left(g(x_i)-f(x_i) \\right)^2 \\right]=0$$\n",
    "\n",
    "\n",
    "ou\n",
    "\n",
    "$$ \\frac{\\partial E}{\\partial a_1} = \\frac{\\partial}{\\partial a_1} \\left[ \\left(\\sum_{i=1}^{m} a_1 x_i\n",
    " + \\sum_{i=1}^{m} a_2 - \\sum_{i=1}^{m} f(x_i) \\right)^2 \\right]=0$$\n",
    " \n",
    "ou, ainda\n",
    " \n",
    "$$ \\frac{\\partial E}{\\partial a_1} =   2 \\left[a_1\\sum_{i=1}^{m} x_i^2 + a_2\\sum_{i=1}^{m} x_i \\right] - 2 \\left[\\sum_{i=1}^{m} f(x_i)x_i \\right] =0$$ \n",
    "\n",
    "e \n",
    "\n",
    "$$ \\frac{\\partial E}{\\partial a_2} =   2 \\left[a_1\\sum_{i=1}^{m} x_i + ma_2 - \\sum_{i=1}^{m} f(x_i)\\right] =0$$ \n",
    "\n",
    "As equações obtidas nos permitem encontrar $a_1$ e $a_2$ por meio da resolução do sistema linear \n",
    "\n",
    "$$ \\begin{cases} \n",
    "\t         \\left(\\sum_{i=1}^{m} x_i^2\\right)a_ 1 + \\left(\\sum_{i=1}^{m} x_i\\right)a_ 2 = \\sum_{i=1}^{m} f(x_i)x_i  \\\\\n",
    "             \\left(\\sum_{i=1}^{m} x_i\\right)a_ 1 + ma_ 2 = \\sum_{i=1}^{m} f(x_i)\n",
    "   \\end{cases} $$\n",
    "   \n",
    "ou \n",
    "\n",
    "$$\\left[\\begin{array}{cc}\n",
    "\t         \\sum_{i=1}^{m} x_i^2 & \\sum_{i=1}^{m} x_i \\\\ \n",
    "\t         \\sum_{i=1}^{m} x_i   & m \n",
    "\t         \\end{array} \\right]\n",
    "\\left[\\begin{array}{c} \n",
    "\t         a_1 \\\\ \n",
    "\t         a_2 \n",
    "\t         \\end{array} \\right]\n",
    "=\n",
    "\\left[\\begin{array}{c} \n",
    "\t         \\sum_{i=1}^{m} f(x_i)x_i \\\\ \n",
    "\t         \\sum_{i=1}^{m} f(x_i) \n",
    "\t         \\end{array} \\right] \n",
    "             $$"
   ]
  },
  {
   "cell_type": "markdown",
   "metadata": {},
   "source": [
    "**Exemplo 1:** Ajuste uma reta à função $f(x)$, tabelada como segue\n",
    "\n",
    "$$\\begin{array}{cccccc}\n",
    "\\hline\n",
    "x_i   &0    &1     &2     &3      &4\\\\ \\hline\n",
    "f(x_i) &0.98 &-3.01 &-6.99 &-11.01 &-15 \\\\ \\hline\n",
    "\\end{array} $$\n",
    "             \n",
    "             \n",
    "             \n",
    "*Resolução:*\n",
    "Fazendo\n",
    "\n",
    "$\\sum_{i=1}^{5} x_i^2 = 0^2+1^2+2^2+3^2+4^2 = 30$\n",
    "\n",
    "$\\sum_{i=1}^{5} x_i = 0+1+2+3+4 = 10$\n",
    "\n",
    "$\\sum_{i=1}^{5} f(x_i)x_i = 0\\times0.98+1\\times(-3.01)+2\\times(-6.99) +3\\times(-11.01)+4\\times(-15) = -3.996$\n",
    "\n",
    "$\\sum_{i=1}^{5} x_i = 0.98+(-3.01)+(-6.99) +3\\times(-11.01)+(-15) = -3.996$\n",
    "\n",
    "Então, fazendo \n",
    "\n",
    "$$\\left[\\begin{array}{cc}\n",
    "\t         \\sum_{i=1}^{5} x_i^2 & \\sum_{i=1}^{5} x_i \\\\ \n",
    "\t         \\sum_{i=1}^{5} x_i   & 5 \n",
    "\t         \\end{array} \\right]\n",
    "\\left[\\begin{array}{c} \n",
    "\t         a_1 \\\\ \n",
    "\t         a_2 \n",
    "\t         \\end{array} \\right]\n",
    "=\n",
    "\\left[\\begin{array}{c} \n",
    "\t         \\sum_{i=1}^{5} f(x_i)x_i \\\\ \n",
    "\t         \\sum_{i=1}^{5} f(x_i) \n",
    "\t         \\end{array} \\right] \n",
    "             $$\n",
    "\n",
    "Obtem-se\n",
    "\n",
    "\n",
    "$$\\left[\\begin{array}{cc}\n",
    "\t         30 & 10 \\\\ \n",
    "\t         10   & 5 \n",
    "\t         \\end{array} \\right]\n",
    "\\left[\\begin{array}{c} \n",
    "\t         a_1 \\\\ \n",
    "\t         a_2 \n",
    "\t         \\end{array} \\right]\n",
    "=\n",
    "\\left[\\begin{array}{c} \n",
    "\t         -110.02 \\\\ \n",
    "\t         -35.03 \n",
    "\t         \\end{array} \\right] \n",
    "             $$\n",
    "\n",
    "cuja solução fornece\n",
    "\n",
    "$$\n",
    "\\left[\\begin{array}{c} \n",
    "\t         a_1 \\\\ \n",
    "\t         a_2 \n",
    "\t         \\end{array} \\right]\n",
    "=\n",
    "\\left[\\begin{array}{c} \n",
    "\t         -3.996 \\\\ \n",
    "\t          0.986 \n",
    "\t         \\end{array} \\right]$$\n",
    "             \n",
    "Que são os coefinientes da reta procurada \n",
    "]"
   ]
  },
  {
   "cell_type": "code",
   "execution_count": 1,
   "metadata": {},
   "outputs": [
    {
     "name": "stdout",
     "output_type": "stream",
     "text": [
      "[[30 10]\n",
      " [10  5]]\n",
      "[-110.02  -35.03]\n",
      "[-3.996  0.986]\n"
     ]
    },
    {
     "data": {
      "image/png": "[encoded data removed]",
      "text/plain": [
       "<Figure size 640x480 with 1 Axes>"
      ]
     },
     "metadata": {},
     "output_type": "display_data"
    }
   ],
   "source": [
    "import numpy as np\n",
    "from scipy.linalg import solve\n",
    "import matplotlib.pyplot as plt\n",
    "\n",
    "X = np.array([0, 1, 2, 3, 4])\n",
    "Y = np.array([0.98, -3.01, -6.99, -11.01, -15.0])\n",
    "\n",
    "# Calcula os elementos das marizes\n",
    "a11 = np.sum(X**2)\n",
    "a12 = np.sum(X)\n",
    "a22 = len(X)\n",
    "b1 = np.sum(X * Y)\n",
    "b2 = np.sum(Y)\n",
    "\n",
    "# Monta e resolve o sistema\n",
    "A = np.array([[a11, a12], [a12, a22]])\n",
    "print (A)\n",
    "B = np.array([b1,b2])\n",
    "print (B)\n",
    "\n",
    "a = solve(A, B)\n",
    "print (a)\n",
    "\n",
    "# define a funcao g(x) para plotar \n",
    "g = lambda x: a[0]*x+a[1]\n",
    "\n",
    "# cria pontos (x, y) da reta \n",
    "Xr = np.arange(-1, 5, 0.5)\n",
    "\n",
    "# Plota os pontos e a reta\n",
    "plt.plot(X, Y, \".\", Xr, g(Xr), \"-\") \n",
    "plt.grid()\n",
    "plt.show()"
   ]
  },
  {
   "cell_type": "markdown",
   "metadata": {},
   "source": [
    "\n",
    "\n",
    "\n",
    "Para aproximar a função f(x) por um polinômio de grau 2, usamos a seguinte forma geral para $g(x)$\n",
    "\n",
    "$$ g(x)=a_1g_1(x) + a_2g_2(x) + a_3g_3(x) = a_1x^2 + a_2x + a_3$$\n",
    "\n",
    "com $g_1(x) = x^2$, $g_2(x) = x$ e $g_3(x) = 1$.\n",
    "\n",
    "\n",
    "$$ E(a_1, a_2, a_3)= \\sum_{i=1}^{m} [g(x_i)-f(x_i)]^2 $$\n",
    "\n",
    "Procuramos o ponto de mínimo, em que as derivadas parciais são nulas, ou seja\n",
    "\n",
    "$$ \\frac{\\partial E}{\\partial a_1} = 0\\,\\,\\, ,  \\,\\,\\,  \\frac{\\partial E}{\\partial a_2} = 0 \\,\\,\\, e \\,\\,\\,  \\frac{\\partial E}{\\partial a_3} = 0$$ \n",
    "\n",
    "Derivando $ E(a_1, a_2, a_3)$ em relação a $a_1$, $a_2$ e $a_3$ obtemos\n",
    "\n",
    "$$ \\frac{\\partial E}{\\partial a_1} = \\frac{\\partial}{\\partial a_1} \\left[ \\sum_{i=1}^{m}\\left(g(x_i)-f(x_i) \\right)^2 \\right]=0$$\n",
    "\n",
    "\n",
    "ou\n",
    "\n",
    "$$ \\frac{\\partial E}{\\partial a_1} = \\frac{\\partial}{\\partial a_1} \\left\\{\\left[ \\left(\\sum_{i=1}^{m} a_1 x_i^2\n",
    " +  a_2x_i + a_3\\right) - \\left(\\sum_{i=1}^{m} f(x_i) \\right)\\right]^2 \\right\\}=0$$\n",
    " \n",
    "ou, ainda\n",
    " \n",
    "$$ \\frac{\\partial E}{\\partial a_1} =   2 \\left[a_1\\sum_{i=1}^{m} x_i^4 + a_2\\sum_{i=1}^{m} x_i^3 + a_3\\sum_{i=1}^{m} x_i^2   \\right] - 2 \\left[\\sum_{i=1}^{m} f(x_i)x_i^2 \\right] =0$$ \n",
    "\n",
    "analogamente, derivando em relação a $a_2$ \n",
    "\n",
    "$$ \\frac{\\partial E}{\\partial a_2} =   2 \\left[a_1\\sum_{i=1}^{m} x_i^3 +  a_2\\sum_{i=1}^{m} x_i^2 + a_3\\sum_{i=1}^{m} x_i \\right] - 2\\left[\\sum_{i=1}^{m} f(x_i) x_i \\right] =0$$ \n",
    "\n",
    "e em relação a $a_3$\n",
    "\n",
    "$$ \\frac{\\partial E}{\\partial a_3} =   2 \\left[a_1\\sum_{i=1}^{m} x_i^2 +  a_2\\sum_{i=1}^{m} x_i + ma_3 \\right] - 2\\left[\\sum_{i=1}^{m} f(x_i)\\right] =0$$ \n",
    "\n",
    "\n",
    "Assim, as equações obtidas nos permitem montar um sistema linear cuja solução dará os coeficientes $a_1$, $a_2$ e $a_3$ procurados\n",
    "\n",
    "$$ \\begin{cases} \n",
    "              \\left(\\sum_{i=1}^{m} x_i^4\\right)a_1 + \\left(\\sum_{i=1}^{m} x_i^3\\right)a_2 +\\left(\\sum_{i=1}^{m} x_i^2\\right)a_3  = \\sum_{i=1}^{m} f(x_i)x_i^2  \\\\ \n",
    "              \\\\\n",
    "\t         \\left(\\sum_{i=1}^{m} x_i^3\\right)a_1 + \\left(\\sum_{i=1}^{m} x_i^2\\right)a_2 + \\left(\\sum_{i=1}^{m} x_i\\right)a_3 = \\sum_{i=1}^{m} f(x_i)x_i  \\\\\n",
    "             \\\\\n",
    "             \\left(\\sum_{i=1}^{m} x_i^2\\right)a_ 1 + \\left(\\sum_{i=1}^{m} x_i\\right)a_ 2 + \\left(\\sum_{i=1}^{m} 1\\right)a_ 3  = \\sum_{i=1}^{m} f(x_i)\n",
    "   \\end{cases} $$\n",
    "\n",
    "\n",
    "\n",
    "\n",
    "\n",
    "\n",
    "\n",
    "\n",
    "\n"
   ]
  },
  {
   "cell_type": "markdown",
   "metadata": {},
   "source": [
    "**Exemplo 2:** Considere uma função f (x) definida conforme tabela\n",
    "\n",
    "$$\n",
    "\\begin{array}{c|c|c|c|c|c|c}\n",
    "x_i & -2 & -1 & 0 & 1 & 2 & 3 \\\\\n",
    "\\hline f\\left(x_i\\right) & 19.01 & 3.99 & -1.00 & 4.01 & 18.99 & 45.00\n",
    "\\end{array}\n",
    "$$\n",
    "\n",
    "Observando o gráfico, vemos que a função possui o comportamento de uma parábola, ou seja, podemos ajustar um polinômio de grau 2."
   ]
  },
  {
   "cell_type": "code",
   "execution_count": 2,
   "metadata": {},
   "outputs": [],
   "source": [
    "X = np.array([-2., -1., 0, 1., 2., 3.])\n",
    "Y = np.array([19.01, 3.99, -1.00, 4.01, 18.99, 45.00])"
   ]
  },
  {
   "cell_type": "code",
   "execution_count": 3,
   "metadata": {},
   "outputs": [
    {
     "data": {
      "image/png": "[encoded data removed]",
      "text/plain": [
       "<Figure size 400x300 with 1 Axes>"
      ]
     },
     "metadata": {},
     "output_type": "display_data"
    }
   ],
   "source": [
    "plt.figure(figsize=(4,3))\n",
    "plt.plot(X, Y, \"o\")\n",
    "plt.grid()\n",
    "plt.show()"
   ]
  },
  {
   "cell_type": "markdown",
   "metadata": {},
   "source": [
    "Assim, tomamos $g(x)=a_1 x^2+a_2 x+a_3$, isto é, $g_1(x)=x^2, g_2(x)=x, g_3(x)=1$, e determinamos os parâmetros $a_1, a_2$ e $a_3$ de modo que $g(x)$ se ajuste aos dados. Substituindo no sistema de equações normais temos:\n",
    "\n",
    "$$\n",
    "\\left[\\begin{array}{ccc}\n",
    "\\sum_{i=1}^6 x_i^4 & \\sum_{i=1}^6 x_i^3 & \\sum_{i=1}^6 x_i^2 \\\\\n",
    "\\sum_{i=1}^6 x_i^3 & \\sum_{i=1}^6 x_i^2 & \\sum_{i=1}^6 x_i \\\\\n",
    "\\sum_{i=1}^6 x_i^2 & \\sum_{i=1}^6 x_i & 6\n",
    "\\end{array}\\right]\\left[\\begin{array}{l}\n",
    "a_1 \\\\\n",
    "a_2 \\\\\n",
    "a_3\n",
    "\\end{array}\\right]=\\left[\\begin{array}{c}\n",
    "\\sum_{i=1}^6 f\\left(x_i\\right) x_i^2 \\\\\n",
    "\\sum_{i=1}^6 f\\left(x_i\\right) x_i \\\\\n",
    "\\sum_{i=1}^6 f\\left(x_i\\right)\n",
    "\\end{array}\\right]\n",
    "$$\n",
    "\n",
    "ou\n",
    "\n",
    "$$\n",
    "\\left[\\begin{array}{ccc}\n",
    "115 & 27 & 19 \\\\\n",
    "27 & 19 & 3 \\\\\n",
    "19 & 3 & 6\n",
    "\\end{array}\\right]\\left[\\begin{array}{l}\n",
    "a_1 \\\\\n",
    "a_2 \\\\\n",
    "a_3\n",
    "\\end{array}\\right]=\\left[\\begin{array}{c}\n",
    "565.00 \\\\\n",
    "134.98 \\\\\n",
    "90.00\n",
    "\\end{array}\\right]\n",
    "$$\n",
    "\n",
    "Vamos fazer essas contas em Python:"
   ]
  },
  {
   "cell_type": "code",
   "execution_count": 4,
   "metadata": {},
   "outputs": [
    {
     "name": "stdout",
     "output_type": "stream",
     "text": [
      "[[115.  27.  19.]\n",
      " [ 27.  19.   3.]\n",
      " [ 19.   3.   6.]]\n",
      "[565.   134.98  90.  ]\n"
     ]
    }
   ],
   "source": [
    "# Monta o sistema\n",
    "A = np.array([[np.sum(X**4), np.sum(X**3), np.sum(X**2)],\n",
    "              [np.sum(X**3), np.sum(X**2), np.sum(X)   ], \n",
    "              [np.sum(X**2), np.sum(X),    len(X)]     ])\n",
    "\n",
    "B = np.array([np.sum(X**2*Y),\n",
    "              np.sum(X*Y)   ,\n",
    "              np.sum(Y)     ])\n",
    "\n",
    "print(A)\n",
    "print(B)"
   ]
  },
  {
   "cell_type": "markdown",
   "metadata": {},
   "source": [
    "A solução do sistema nos fornece $ a_1=5,0898$, $a_2=0,0519$ e $a_3=-1,1437$ como podemos ver a seguir. Ou seja, a função que procuramos é $g(x) = 5,0898x^2 + 5,0898x -1,1437 $. Vamos plotar essa função junto com os pontos:"
   ]
  },
  {
   "cell_type": "code",
   "execution_count": 5,
   "metadata": {},
   "outputs": [
    {
     "name": "stdout",
     "output_type": "stream",
     "text": [
      "[ 5.08982143  0.05189286 -1.14371429]\n"
     ]
    }
   ],
   "source": [
    "a = solve(A, B)\n",
    "print (a)"
   ]
  },
  {
   "cell_type": "code",
   "execution_count": 6,
   "metadata": {},
   "outputs": [
    {
     "data": {
      "image/png": "[encoded data removed]",
      "text/plain": [
       "<Figure size 400x300 with 1 Axes>"
      ]
     },
     "metadata": {},
     "output_type": "display_data"
    }
   ],
   "source": [
    "# define a funcao g(x) para plotar \n",
    "g = lambda x: a[0]*x*x+a[1]*x+a[2]\n",
    "\n",
    "# gera os pontos\n",
    "Xr = np.arange(X[0]-1, X[-1]+1, 0.2)\n",
    "Yr = []\n",
    "for x in Xr:\n",
    "    Yr.append(g(x))    \n",
    "\n",
    "# plota\n",
    "plt.figure(figsize=(4,3))\n",
    "plt.plot(X, Y, \"o\", Xr, Yr, \"-\") \n",
    "plt.grid()\n",
    "plt.show()"
   ]
  },
  {
   "cell_type": "markdown",
   "metadata": {},
   "source": [
    "#### Forma matricial do sistema\n",
    "Observe que podemos obter o mesmo resultado se fizermos $A= V^TV$ e  $B=V^T y_i$, onde $V$ é a matriz cujas linhas são formadas por $[g_1(x_i) \\,\\, g_n(x_i) \\,\\,... \\,\\,g_n(x_i)\\,\\,]$, $i=1,...,m$. Nesse caso, a solução pode ser obtida fazendo:\n",
    "\n",
    "$$ a = (V^TV)^{-1}V^Ty $$"
   ]
  },
  {
   "cell_type": "markdown",
   "metadata": {},
   "source": [
    "Observe os códigos a seguir:"
   ]
  },
  {
   "cell_type": "code",
   "execution_count": 7,
   "metadata": {},
   "outputs": [
    {
     "name": "stdout",
     "output_type": "stream",
     "text": [
      "[[ 4. -2.  1.]\n",
      " [ 1. -1.  1.]\n",
      " [ 0.  0.  1.]\n",
      " [ 1.  1.  1.]\n",
      " [ 4.  2.  1.]\n",
      " [ 9.  3.  1.]]\n"
     ]
    }
   ],
   "source": [
    "V = np.array([X**2, X**1, X**0]).T\n",
    "print (V)"
   ]
  },
  {
   "cell_type": "code",
   "execution_count": 8,
   "metadata": {},
   "outputs": [
    {
     "name": "stdout",
     "output_type": "stream",
     "text": [
      "[[115.  27.  19.]\n",
      " [ 27.  19.   3.]\n",
      " [ 19.   3.   6.]]\n"
     ]
    }
   ],
   "source": [
    "A = np.dot(V.T,V)\n",
    "print (A)"
   ]
  },
  {
   "cell_type": "code",
   "execution_count": 9,
   "metadata": {},
   "outputs": [
    {
     "name": "stdout",
     "output_type": "stream",
     "text": [
      "B= [565.   134.98  90.  ]\n"
     ]
    }
   ],
   "source": [
    "B = np.dot(V.T,Y)\n",
    "print('B=',B)"
   ]
  },
  {
   "cell_type": "code",
   "execution_count": 10,
   "metadata": {},
   "outputs": [
    {
     "name": "stdout",
     "output_type": "stream",
     "text": [
      "solução: [ 5.08982143  0.05189286 -1.14371429]\n"
     ]
    }
   ],
   "source": [
    "a = np.linalg.solve(A,B)\n",
    "print('solução:', a)"
   ]
  },
  {
   "cell_type": "markdown",
   "metadata": {},
   "source": [
    "Ou ainda, de forma mais compacta,fazendo $ a = (V^TV)^{-1}V^Ty $:"
   ]
  },
  {
   "cell_type": "code",
   "execution_count": 11,
   "metadata": {},
   "outputs": [],
   "source": [
    "# importando as funções para multiplicar e inverter\n",
    "from numpy.linalg import inv\n",
    "from numpy import dot"
   ]
  },
  {
   "cell_type": "code",
   "execution_count": 12,
   "metadata": {},
   "outputs": [
    {
     "name": "stdout",
     "output_type": "stream",
     "text": [
      "solução: [ 5.08982143  0.05189286 -1.14371429]\n"
     ]
    }
   ],
   "source": [
    "# resolvendo o sistema\n",
    "a = inv(dot(V.T,V)).dot(dot(V.T,Y))\n",
    "print('solução:', a)"
   ]
  },
  {
   "cell_type": "markdown",
   "metadata": {},
   "source": [
    "### Exercícios:\n",
    "\n",
    "**1.** Em um experimento foram obtidos os seguintes dados:\n",
    "\n",
    "$$\n",
    "\\begin{array}{c|c|c|c|c|c}\n",
    "x_i & 0 & 1 & 2 & 3 & 4 \\\\\n",
    "\\hline f\\left(x_i\\right) & 0.01 & 1.01 & 1.40 & 3.81 & 4.01\n",
    "\\end{array}\n",
    "$$\n",
    "\n",
    "a) Determine a reta que melhor se ajusta aos dados da tabela, usando o método dos mínimos quadrados\n",
    "\n",
    "b) Calcule a soma do erro quadrático $\\sum_{i=1}^5 (f(x_i)-g(x_i))^2$"
   ]
  },
  {
   "cell_type": "markdown",
   "metadata": {},
   "source": [
    "\n",
    "\n",
    "\n",
    "\n",
    "**2.** Após serem efetuadas medições num gerador de corrente contínua, foram obtidos os seguintes\n",
    "valores indicados por um voltímetro e um amperímetro.\n",
    "$$\n",
    "\\begin{array}{ccccccccccccc}\n",
    "    \\hline\n",
    "I(A) &1.58&1.75&2.10&2.20&2.50&3.50&3.75&4.25&4.8&4.9&3.12    \\\\ \\hline\n",
    "V(v) &210&155&170&120&85&50&110&79&150&120&60\t\t  \\\\\n",
    "\\hline\n",
    "\\end{array}\n",
    "$$\n",
    "Faça um gráfico dos dados.(a) Ajuste os dados por polinômio de grau adequado. (b) Estime o valor a ser obtido no voltímetro quando o amperímetro estiver marcando $4.0A$."
   ]
  },
  {
   "cell_type": "markdown",
   "metadata": {},
   "source": [
    "**3.** Dados os seguintes pontos tabelados \n",
    "$$\n",
    "\\begin{array}{cccccccccc}\n",
    "\\hline\n",
    "x_i    &0.01  &0.99  &2.02  &3.01  &3.97  &5.01  &5.93  &6.99  &8.08  \\\\\n",
    "\\hline\n",
    "f(x_i) &0.000 &1.621  &1.782  &0.915 &-0.122 &-0.225 &1.099 &2.728 &3.534\\\\\n",
    "\\hline\n",
    "\\end{array}\n",
    "$$\n",
    "\n",
    "Encontre o polinômio de grau 3 que melhor se ajusta aos pontos dados."
   ]
  },
  {
   "cell_type": "code",
   "execution_count": null,
   "metadata": {},
   "outputs": [],
   "source": []
  },
  {
   "cell_type": "code",
   "execution_count": null,
   "metadata": {},
   "outputs": [],
   "source": []
  },
  {
   "cell_type": "markdown",
   "metadata": {},
   "source": [
    "### Exemplo \n",
    "p190"
   ]
  },
  {
   "cell_type": "code",
   "execution_count": 13,
   "metadata": {},
   "outputs": [
    {
     "name": "stdout",
     "output_type": "stream",
     "text": [
      "[-0.59854891  0.17695201]\n"
     ]
    },
    {
     "data": {
      "image/png": "[encoded data removed]",
      "text/plain": [
       "<Figure size 640x480 with 1 Axes>"
      ]
     },
     "metadata": {},
     "output_type": "display_data"
    }
   ],
   "source": [
    "import numpy as np\n",
    "from scipy.linalg import solve\n",
    "import matplotlib.pyplot as plt\n",
    "from scipy.integrate import quad\n",
    "import math\n",
    "from numpy import exp\n",
    "\n",
    "g1g1 = lambda x: 1\n",
    "g1g2 = lambda x: x\n",
    "g2g2 = lambda x: x**2\n",
    "fg1 = lambda x: -math.exp(-0.75*x)\n",
    "fg2 = lambda x: -x*math.exp(-0.75*x)\n",
    "\n",
    "\n",
    "\n",
    "\n",
    "# Calcula os elementos das marizes\n",
    "a11 = quad(g1g1, 1, 3)[0]\n",
    "a12 = quad(g1g2, 1, 3)[0]\n",
    "a22 = quad(g2g2, 1, 3)[0]\n",
    "b1 = quad(fg1, 1, 3)[0]\n",
    "b2 = quad(fg2, 1, 3)[0]\n",
    "\n",
    "\n",
    "\n",
    "# Monta e resolve o sistema\n",
    "A = np.array([[a11, a12], [a12, a22]])\n",
    "\n",
    "B = np.array([b1,b2])\n",
    "\n",
    "a = solve(A, B)\n",
    "print (a)\n",
    "\n",
    "# define a funcao g(x) para plotar \n",
    "g = lambda x: a[0]+a[1]*x\n",
    "\n",
    "# cria pontos (x, y) da reta \n",
    "Xr = np.arange(1, 3, 0.2)\n",
    "#print (Xr)\n",
    "\n",
    "#Y = np.exp(X)\n",
    "\n",
    "# Plota os pontos e a reta\n",
    "plt.plot(Xr, -np.exp(-0.75*Xr), \"r-\", Xr, g(Xr), \"b-\") \n",
    "plt.grid()\n",
    "plt.show()"
   ]
  },
  {
   "cell_type": "markdown",
   "metadata": {},
   "source": [
    "### Exercícios\n"
   ]
  },
  {
   "cell_type": "markdown",
   "metadata": {},
   "source": [
    "**1.**  Encontre o polinômio $p(x) = a_1 + a_2x + a_3x^2$ que melhor se ajusta no sentido de mínimos quadrados aos pontos:\n",
    "\n",
    "$$\n",
    "    \\begin{array}{l|cccc}\n",
    "    \\hline\n",
    "      i & 1 & 2 & 3 & 4 \\\\\\hline\n",
    "      x_i & -1,50 & -0,50 & 1,25 & 1,50\\\\\n",
    "      y_i & 1,15 & -0,37 & 0,17 & 0,94\\\\\n",
    "    \\hline\n",
    "  \\end{array}\n",
    "$$\n",
    "\n",
    "_Resposta:_ $a_1 = -0,67112$, $a_2 = -0,12123$, $a_3 = 0,73907$."
   ]
  },
  {
   "cell_type": "markdown",
   "metadata": {},
   "source": [
    "**2.** Encontrar a parábola $y=ax^2+bx+c$ que melhor aproxima o seguinte conjunto de dados:\n",
    "$$\n",
    "  \\begin{array}{l|ccccc}\n",
    "  \\hline\n",
    "      i & 1 & 2 & 3 & 4 & 5 \\\\\\hline\n",
    "      x_i & 0,01 & 1,02 & 2,04 & 2,95 & 3,55\\\\\n",
    "      y_i & 1,99 & 4,55 & 7,20 & 9,51 & 10,82\\\\\n",
    "    \\hline\n",
    "  \\end{array}\n",
    "$$\n",
    "_Resposta:_     $y=-0,0407898x^2+ 2,6613293x+ 1,9364598$"
   ]
  },
  {
   "cell_type": "markdown",
   "metadata": {
    "collapsed": true,
    "jupyter": {
     "outputs_hidden": true
    }
   },
   "source": [
    "\n",
    "**3.** Dado o seguinte conjunto de dados\n",
    "$$\n",
    "  \\begin{array}{l|ccccccccccc}\n",
    "  \\hline\n",
    "x_i & 0,0 & 0,1 & 0,2 & 0,3 & 0,4 & 0,5 & 0,6 & 0,7 & 0,8 & 0,9 & 1,0\\\\\\hline\n",
    "      y_i & 31 & 35 & 37 & 33 & 28 & 20 & 16 & 15 & 18 & 23 & 31\\\\\n",
    "    \\hline\n",
    "  \\end{array}\n",
    "$$\n",
    "\n",
    "a) Encontre a função do tipo $f(x)=a+b\\sin(2\\pi x)+c\\cos(2\\pi x)$ que melhor aproxima os valores dados.\n",
    "\n",
    "b) Encontre a função do tipo $f(x)=a+bx+cx^2+dx^3$ que melhor aproxima os valores dados.\n",
    "\n",
    "\n",
    "_Resposta:_    a) $a=25,638625$, $b=9,8591874$, $c=4,9751219$; b)$a=31,475524$, $b=65,691531$, $c=-272,84382$, $d=208,23621$.\n"
   ]
  },
  {
   "cell_type": "markdown",
   "metadata": {},
   "source": [
    "Fonte: https://www.ufrgs.br/reamat/CalculoNumerico/livro-py/adc-ajuste_linear_geral.html"
   ]
  },
  {
   "cell_type": "code",
   "execution_count": null,
   "metadata": {},
   "outputs": [],
   "source": []
  }
 ],
 "metadata": {
  "kernelspec": {
   "display_name": "Python 3 (ipykernel)",
   "language": "python",
   "name": "python3"
  },
  "language_info": {
   "codemirror_mode": {
    "name": "ipython",
    "version": 3
   },
   "file_extension": ".py",
   "mimetype": "text/x-python",
   "name": "python",
   "nbconvert_exporter": "python",
   "pygments_lexer": "ipython3",
   "version": "3.12.4"
  }
 },
 "nbformat": 4,
 "nbformat_minor": 4
}