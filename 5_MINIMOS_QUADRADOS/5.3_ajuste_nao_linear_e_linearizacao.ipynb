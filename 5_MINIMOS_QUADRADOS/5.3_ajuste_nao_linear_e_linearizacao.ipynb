{
 "cells": [
  {
   "cell_type": "markdown",
   "metadata": {},
   "source": [
    "## 5.3 Ajuste não linear e linearização \n",
    "\n",
    "Muitas vezes, temos dados experimentais em que o ajuste como combinação linear nos parâmetros não é adequado e não pode ser considerado. Neste caso, necessitamos de outras famílias de funções para representar adequadamente uma função representada em uma tabela.\n"
   ]
  },
  {
   "cell_type": "markdown",
   "metadata": {
    "jp-MarkdownHeadingCollapsed": true
   },
   "source": [
    "### Ajuste hiperbólico\n",
    "\n",
    "Considere os dados obtidos experimentalmente, conforme ilustrado na figura abaixo\n",
    "\n",
    "<img src=\"https://github.com/tiagoburiol/metodos_numericos_em_python/blob/main/5_MINIMOS_QUADRADOS/imagens/ajuste_hiperbolico.png?raw=true\" width=\"400\">\n",
    "\n",
    "Observando a o diagrama de dispersão, vemos que a representação dos dados possui um comportamento do tipo:\n",
    "\n",
    "$$ g(x) = \\frac{1}{a_1x+a_2}$$\n",
    "\n",
    "Para encontrar os parâmetros $a_1$ e $a_2$ da forma como fizemos anteriormente, podemos linearizar a função fazendo\n",
    "\n",
    "$$ h(x) = \\frac{1}{g(x)} = a_1x+a_2 $$\n",
    "\n",
    "que aproxima a função\n",
    "\n",
    "$$ \\frac{1}{f(x)}$$\n",
    "\n",
    "e temos agora o caso do ajuste linear, já desenvolvido anteriormente.\n",
    "\n",
    "Assim, a partir da tabela original, construímos uma nova tabela\n",
    "\n",
    "\\begin{array}{cccc} \n",
    "\\hline\n",
    "x_1      &x_2       &... &x_m  \\\\ \\hline\n",
    "1/f(x_1) &1/f(x_2)  &... &1/f(x_m)  \\\\ \\hline\n",
    "\\end{array} \n",
    "\n",
    "   \n",
    "O problema agora consiste em aproximarmos a função $\\frac{1}{f(x)}$ por uma reta $h(x)=a_1x+a_2$, e o sistema de equações normais é dado por \n",
    "\n",
    "\n",
    "$$ \\begin{cases} \n",
    "\\left(\\sum_{i=1}^{m}x_i^2\\right)a_ 1 +\\left(\\sum_{i=1}^{m} x_i\\right) = \\sum_{i=1}^{m} \\frac{x_i}{f(x_i)}\\\\ \n",
    "\\left(\\sum_{i=1}^{m}x_i\\right)a_ 1 +\\left(m \\right)a_2 = \\sum_{i=1}^{m} \\frac{1}{f(x_i)}\\\\\n",
    "             \\end{cases} $$\n"
   ]
  },
  {
   "cell_type": "markdown",
   "metadata": {},
   "source": [
    "**Exemplo 5.3.1:**\n",
    "Considere a função f (x) tabelada nos pontos, como segue\n",
    "\n",
    "\\begin{array}{cccc} \n",
    "\\hline\n",
    "x_1      &-3.0   &-2.0   &-1.0   &-0.5   &-0.4 \\\\ \\hline\n",
    "f(x_1) &-0.13  &-0.20  &-0.49  &-2.01  &-4.99\\\\ \\hline\n",
    "\\end{array} \n",
    "\n",
    "*Solução:*\n",
    "Plotando os pontos tem-se"
   ]
  },
  {
   "cell_type": "code",
   "execution_count": 3,
   "metadata": {},
   "outputs": [],
   "source": [
    "import numpy as np\n",
    "import matplotlib.pyplot as plt\n",
    "plt.rcParams['figure.figsize']=(4,3)"
   ]
  },
  {
   "cell_type": "code",
   "execution_count": 7,
   "metadata": {},
   "outputs": [
    {
     "data": {
      "image/png": "[encoded data removed]",
      "text/plain": [
       "<Figure size 400x300 with 1 Axes>"
      ]
     },
     "metadata": {},
     "output_type": "display_data"
    }
   ],
   "source": [
    "import numpy as np\n",
    "import matplotlib.pyplot as plt\n",
    "\n",
    "X = np.array([ -3.0, -2.0, -1.0, -0.5, -0.4])\n",
    "Y = np.array([ -0.13, -0.20, -0.49, -2.01, -4.99])\n",
    "# plotando\n",
    "plt.plot(X, Y, \"r.\")\n",
    "plt.grid()\n",
    "plt.show()"
   ]
  },
  {
   "cell_type": "markdown",
   "metadata": {},
   "source": [
    "O que sugere um comportamento de uma função do tipo $$g(x) = \\frac{1}{a_1x+a_2}$$. \n",
    "Para confirmar, e verificar se a linearização do tipo $$h(x) = \\frac{1}{g(x)} = a_1x+a_2$$ irá funcionar, construímos uma nova tabela e plotamos os pontos"
   ]
  },
  {
   "cell_type": "code",
   "execution_count": 8,
   "metadata": {},
   "outputs": [
    {
     "name": "stdout",
     "output_type": "stream",
     "text": [
      "[-7.69230769 -5.         -2.04081633 -0.49751244 -0.2004008 ]\n"
     ]
    },
    {
     "data": {
      "image/png": "[encoded data removed]",
      "text/plain": [
       "<Figure size 400x300 with 1 Axes>"
      ]
     },
     "metadata": {},
     "output_type": "display_data"
    }
   ],
   "source": [
    "Yl = np.power(Y, -1) \n",
    "print(Yl)\n",
    "# plotando\n",
    "plt.plot(X, Yl, \"r.\")\n",
    "plt.grid()\n",
    "plt.show()"
   ]
  },
  {
   "cell_type": "markdown",
   "metadata": {},
   "source": [
    "Notamos que os pontos parecem alinhados agora, o que sugere que podemos obter $a_1$ e $a_2$ ajustando uma reta a essa nova tabela"
   ]
  },
  {
   "cell_type": "code",
   "execution_count": 10,
   "metadata": {},
   "outputs": [
    {
     "name": "stdout",
     "output_type": "stream",
     "text": [
      "Parâmetros a1= 2.89521778367677  e a2 = 0.9091930898234516\n"
     ]
    },
    {
     "data": {
      "image/png": "[encoded data removed]",
      "text/plain": [
       "<Figure size 400x300 with 1 Axes>"
      ]
     },
     "metadata": {},
     "output_type": "display_data"
    }
   ],
   "source": [
    "# montando a matriz do sistema\n",
    "A = np.array([[np.sum(X * X), np.sum(X)],\n",
    "              [np.sum(X),     len(X)]])\n",
    "B = np.array([np.sum(X*Yl),\n",
    "              np.sum(Yl)])\n",
    "# resolvendo\n",
    "a = np.linalg.solve(A, B)\n",
    "print (\"Parâmetros a1=\", a[0],\" e a2 =\", a[1])\n",
    "\n",
    "# lista de pontos para os plots\n",
    "Xr = np.linspace(X[0], X[-1], 50)\n",
    "\n",
    "#reta\n",
    "h = lambda X: a[0]*X + a[1]\n",
    "# plotando\n",
    "plt.plot(X, Yl, \"r.\", Xr, h(Xr), \"b-\") \n",
    "plt.grid()\n",
    "plt.show()\n"
   ]
  },
  {
   "cell_type": "code",
   "execution_count": 11,
   "metadata": {},
   "outputs": [
    {
     "data": {
      "image/png": "[encoded data removed]",
      "text/plain": [
       "<Figure size 400x300 with 1 Axes>"
      ]
     },
     "metadata": {},
     "output_type": "display_data"
    }
   ],
   "source": [
    "\n",
    "# hipérbole\n",
    "g = lambda X: np.power(a[0]*X+a[1], -1)\n",
    "Yr = g(Xr)\n",
    "# plotando\n",
    "plt.plot(X, Y, \"r.\", Xr, g(Xr), \"b-\") \n",
    "plt.grid()\n",
    "plt.show()"
   ]
  },
  {
   "cell_type": "markdown",
   "metadata": {},
   "source": [
    "### Ajuste exponencial\n",
    "\n",
    "Podemos obter dados experimentais dispostos conforme ilustrado na figura abaixo, a qual sugere que devemos aproximar a função observada por uma função $g(x)$ da forma $g(x) = a(b)^x$ com os parâmetros $a$ e $b$ positivos.\n",
    "\n",
    "<img src=\"https://github.com/tiagoburiol/metodos_numericos_em_python/blob/main/5_MINIMOS_QUADRADOS/imagens/ajuste_exp.png?raw=true\" width=\"400\">\n",
    "\n",
    "O método dos mínimos quadrados desenvolvido anteriormente pode ser usado\n",
    "fazendo-se a seguinte transformação\n",
    "\n",
    "$$ h(x) = ln(g(x)) = ln(a(b)^x) = ln(a) + xln(b)$$\n",
    "\n",
    "Então, fazendo \n",
    "\n",
    "$$ a_1 = ln(a) \\to e^{a_1}=a$$\n",
    "\n",
    "$$ a_2 = ln(b) \\to e^{a_2}=b$$\n",
    "\n",
    "temos a linearização \n",
    "\n",
    "$$h(x) = a_1 + a_2x$$\n",
    "\n",
    "Então, construímos ma nova tabela \n",
    "\n",
    "\\begin{array}{cccc} \n",
    "\\hline\n",
    "x_1        &x_2         &... &x_m  \\\\ \\hline\n",
    "ln(f(x_1)) &ln(f(x_2))  &... &ln(f(x_m))  \\\\ \\hline\n",
    "\\end{array} \n",
    "\n",
    "e buscamos os parâmetros $a_1$ e $a_2$ que ajustam uma reta a esses dados, ou seja, buscamos a solução do sistema\n",
    "\n",
    "$$ \\begin{cases} \n",
    "\\left(\\sum_{i=1}^{m}x_i^2\\right)a_ 1 +\\left(\\sum_{i=1}^{m} x_i\\right)a_2 =  \\sum_{i=1}^{m} ln(f(x_i))x_i \\\\ \n",
    "\\left(\\sum_{i=1}^{m}x_i\\right)a_ 1 +\\left(m \\right)a_2 = \\sum_{i=1}^{m} ln(f(x_i))\\\\\n",
    "             \\end{cases} $$"
   ]
  },
  {
   "cell_type": "markdown",
   "metadata": {},
   "source": [
    "**Exemplo 5.3.2:** Considere uma função tabelada nos pontos, como segue:\n",
    "\n",
    "$$\n",
    "\\begin{array}{c|c|c|c|c|c|c}\n",
    "x_i & -1 & -0.9 & -0.8 & 0 & 1 & 2 \\\\\n",
    "\\hline f\\left(x_i\\right) & 6.01 & 5.39 & 4.80 & 2.01 & 0.65 & 0.21\n",
    "\\end{array}\n",
    "$$\n",
    "\n",
    "Determine uma função $g(x)$ que melhor se ajuste aos dados da tabela de $f(x)$."
   ]
  },
  {
   "cell_type": "code",
   "execution_count": 13,
   "metadata": {},
   "outputs": [
    {
     "name": "stdout",
     "output_type": "stream",
     "text": [
      "[-1.11689997  0.68139335]\n"
     ]
    },
    {
     "data": {
      "image/png": "[encoded data removed]",
      "text/plain": [
       "<Figure size 400x300 with 1 Axes>"
      ]
     },
     "metadata": {},
     "output_type": "display_data"
    },
    {
     "data": {
      "image/png": "[encoded data removed]",
      "text/plain": [
       "<Figure size 400x300 with 1 Axes>"
      ]
     },
     "metadata": {},
     "output_type": "display_data"
    }
   ],
   "source": [
    "X = np.array([ -1, -0.9, -0.8, 0, 1, 2])\n",
    "Y = np.array([ 6.01, 5.39, 4.8, 2.01, 0.65, 0.21])\n",
    "Yl = np.log(Y) \n",
    "\n",
    "# montando a matriz do sistema\n",
    "A = np.array([[np.sum(X*X), np.sum(X)],\n",
    "              [np.sum(X),   len(X)]])\n",
    "B = np.array([np.sum(X*Yl), np.sum(Yl)])\n",
    "\n",
    "a = solve(A, B)\n",
    "print (a)\n",
    "\n",
    "# lista de pontos para os plots\n",
    "Xr = np.linspace(X[0], X[-1], 51)\n",
    "#reta\n",
    "h = lambda X: a[0]*X + a[1]\n",
    "# plotando\n",
    "plt.plot(X, Yl, \"r.\", Xr, h(Xr), \"-\") \n",
    "plt.grid()\n",
    "plt.show()\n",
    "  \n",
    "# hipérbole\n",
    "k = np.exp(a[1])\n",
    "b = np.exp(a[0])\n",
    "g = lambda X: k*np.power(b,X)\n",
    "\n",
    "Yr = g(Xr)\n",
    "# plotando\n",
    "plt.plot(X, Y, \"r.\", Xr, g(Xr), \"-\") \n",
    "plt.grid()\n",
    "plt.show()"
   ]
  },
  {
   "cell_type": "markdown",
   "metadata": {},
   "source": [
    "**Exemplo 5.3.3:** Linearize o modelo matemático\n",
    "$$ y = \\alpha x e^{\\beta x}$$ \n",
    "e encontre os parâmetros $\\alpha$ e $\\beta$ que fornecem o melhor ajute com base nos seguintes dados.  \n",
    "$$\n",
    "\\begin{array}{cccccccccc}\n",
    "\\hline\n",
    "x    &0,1 &0,2 &0,4 &0,6  &0,9 &1,1 &1,5 &1,7 &1,8\\\\\n",
    "\\hline\n",
    "y    &0,75 &1,25 &1,45 &1,25 &0,85 &0,55 &0,35 &0,19 &0,18\\\\\n",
    "\\hline\n",
    "\\end{array}\n",
    "$$"
   ]
  },
  {
   "cell_type": "code",
   "execution_count": 14,
   "metadata": {},
   "outputs": [
    {
     "data": {
      "image/png": "[encoded data removed]",
      "text/plain": [
       "<Figure size 400x300 with 1 Axes>"
      ]
     },
     "metadata": {},
     "output_type": "display_data"
    }
   ],
   "source": [
    "x = np.array([0.1, 0.2, 0.4, 0.6, 0.9, 1.1, 1.5, 1.7, 1.8])\n",
    "y = np.array([0.75, 1.25, 1.45, 1.25, 0.85, 0.55, 0.35, 0.19, 0.18])\n",
    "# plotando\n",
    "plt.plot(x,y, \"r.\")\n",
    "plt.grid()\n",
    "plt.show()"
   ]
  },
  {
   "cell_type": "markdown",
   "metadata": {},
   "source": [
    "fazendo \n",
    "$$ln(y)=ln(\\alpha x e^{\\beta x})$$\n",
    "$$ln(y)=ln(\\alpha)+ln(x)+ \\beta x$$\n",
    "$$ln(y)-ln(x) = \\beta x + ln(\\alpha)$$\n",
    "\n",
    "escrevendo \n",
    "$$y' = a_1x+a_2$$\n",
    "\n",
    "sendo \n",
    "$$y'=ln(y)-ln(x)$$ \n",
    "\n",
    "$$a_1 = \\beta$$  \n",
    "\n",
    "$$a_2 = ln(\\alpha)$$\n",
    "\n",
    "obtemos os pontos alinhados"
   ]
  },
  {
   "cell_type": "code",
   "execution_count": 16,
   "metadata": {},
   "outputs": [
    {
     "data": {
      "image/png": "[encoded data removed]",
      "text/plain": [
       "<Figure size 400x300 with 1 Axes>"
      ]
     },
     "metadata": {},
     "output_type": "display_data"
    }
   ],
   "source": [
    "yl = np.log(y)-np.log(x)\n",
    "plt.plot(x,yl, \"r.\")\n",
    "plt.grid()\n",
    "plt.show()"
   ]
  },
  {
   "cell_type": "code",
   "execution_count": 17,
   "metadata": {},
   "outputs": [
    {
     "name": "stdout",
     "output_type": "stream",
     "text": [
      "9.910716948702442 -2.58708188621561\n"
     ]
    }
   ],
   "source": [
    "A = np.array([[np.sum(x * x), np.sum(x)],\n",
    "              [np.sum(x),     len(x)]])\n",
    "\n",
    "B = np.array([np.sum(x*yl),\n",
    "              np.sum(yl)])\n",
    "\n",
    "a = solve(A, B)\n",
    "\n",
    "alpha = np.exp(a[1])\n",
    "beta = a[0]\n",
    "print(alpha, beta)"
   ]
  },
  {
   "cell_type": "code",
   "execution_count": 20,
   "metadata": {},
   "outputs": [
    {
     "data": {
      "image/png": "[encoded data removed]",
      "text/plain": [
       "<Figure size 400x300 with 1 Axes>"
      ]
     },
     "metadata": {},
     "output_type": "display_data"
    }
   ],
   "source": [
    "h = lambda x: a[0]*x + a[1]\n",
    "\n",
    "xr = np.linspace(x[0], x[-1], 20)\n",
    "plt.plot(xr,h(xr), \"b-\", x,yl, \"r.\")\n",
    "plt.grid()\n",
    "plt.show()"
   ]
  },
  {
   "cell_type": "code",
   "execution_count": 21,
   "metadata": {},
   "outputs": [
    {
     "name": "stdout",
     "output_type": "stream",
     "text": [
      "9.910716948702442 -2.58708188621561\n"
     ]
    }
   ],
   "source": [
    "alpha = np.exp(a[1])\n",
    "beta = a[0]\n",
    "print(alpha, beta)"
   ]
  },
  {
   "cell_type": "code",
   "execution_count": 22,
   "metadata": {},
   "outputs": [],
   "source": [
    "g = lambda x: alpha*x*np.exp(beta*x) "
   ]
  },
  {
   "cell_type": "code",
   "execution_count": 24,
   "metadata": {},
   "outputs": [
    {
     "data": {
      "image/png": "[encoded data removed]",
      "text/plain": [
       "<Figure size 400x300 with 1 Axes>"
      ]
     },
     "metadata": {},
     "output_type": "display_data"
    }
   ],
   "source": [
    "xr = np.linspace(0,2, 51)\n",
    "plt.plot(xr,g(xr), \"b-\", x,y, \"r.\")\n",
    "plt.grid()\n",
    "plt.show()"
   ]
  },
  {
   "cell_type": "markdown",
   "metadata": {},
   "source": [
    "Resposta: $\\alpha = 9.6618$ e $\\beta = -2.4733$"
   ]
  },
  {
   "cell_type": "code",
   "execution_count": null,
   "metadata": {},
   "outputs": [],
   "source": []
  },
  {
   "cell_type": "markdown",
   "metadata": {},
   "source": [
    "Exemplos de linearização de algumas funções ([Chapra e Canale, 2016](https://integrada.minhabiblioteca.com.br/reader/books/9788580555691/pageid/430)):"
   ]
  },
  {
   "cell_type": "markdown",
   "metadata": {},
   "source": [
    "<img src=\"https://github.com/tiagoburiol/metodos_numericos_em_python/blob/main/5_MINIMOS_QUADRADOS/imagens/linearizacao.png?raw=true\">\n"
   ]
  },
  {
   "cell_type": "markdown",
   "metadata": {},
   "source": [
    "### Exercícios:\n",
    "\n",
    "**1.** Considereosdadosdeumexperimentoconformetabela:\n",
    "$$\n",
    "\\begin{array}{c|c|c|c|c|c|c|c}\n",
    "x_i & -9 & -6 & -4 & -2 & 0 & 2 & 4 \\\\\n",
    "\\hline f\\left(x_i\\right) & 30.1 & 10.1 & 8.9 & 5.9 & 5.0 & 3.9 & 4.01\n",
    "\\end{array}\n",
    "$$\n",
    "\n",
    "Usando o método dos mínimos quadrados e o Software Numérico, ajustar aos dados da tabela funções: \n",
    "\n",
    "a) Hiperbólica.\n",
    "\n",
    "b) Exponencial.\n",
    "\n",
    "c) Compare os resultados obtidos.\n"
   ]
  },
  {
   "cell_type": "code",
   "execution_count": null,
   "metadata": {},
   "outputs": [],
   "source": []
  },
  {
   "cell_type": "markdown",
   "metadata": {},
   "source": [
    "**2.** Ajuste os dados abaixo (número de bactérias por unidade de volume) à curva $y=ab^x$. Plote o gráfico da função obtida juntamente com os dados tabelados.\n",
    "$$\n",
    "\\begin{array}{cccccccc}\n",
    "\\hline\n",
    "nº de horas &0 &1 &2 &3 &4 &5 &6 \\\\ \n",
    "\\hline\n",
    "nº de bactéricas &32 &47 &65 &92 &132 &190 &275  \\\\ \n",
    "\\hline \n",
    "\\end{array}\n",
    "$$\t"
   ]
  },
  {
   "cell_type": "code",
   "execution_count": null,
   "metadata": {},
   "outputs": [],
   "source": []
  },
  {
   "cell_type": "markdown",
   "metadata": {},
   "source": [
    "**3.** ([Fonte](https://integrada.minhabiblioteca.com.br/reader/books/9788522123414/pageid/581))Fornecidos os dados:\n",
    "\n",
    "$$\n",
    "\\begin{array}{c|cccccccccc}\n",
    "x_i & 4{,}0 & 4{,}2 & 4{,}5 & 4{,}7 & 5{,}1 & 5{,}5 & 5{,}9 & 6{,}3 & 6{,}8 & 7{,}1 \\\\\n",
    "\\hline\n",
    "y_i & 102{,}56 & 113{,}18 & 130{,}11 & 142{,}05 & 167{,}53 & 195{,}14 & 224{,}87 & 256{,}73 & 299{,}50 & 326{,}72\n",
    "\\end{array}$$\n",
    "\n",
    "a)  Construa a aproximação por mínimos quadrados do tipo $b e^{a x}$ e calcule o erro.\n",
    "\n",
    "b) Construa a aproximação por mínimos quadrados do tipo $b x^a$ e calcule o erro."
   ]
  },
  {
   "cell_type": "code",
   "execution_count": null,
   "metadata": {},
   "outputs": [],
   "source": []
  },
  {
   "cell_type": "markdown",
   "metadata": {},
   "source": [
    "**4.** ([Fonte](https://integrada.minhabiblioteca.com.br/reader/books/9788580555691/pageid/522)) Os dados tabulados a seguir foram gerados a partir de uma experiência que continha inicialmente cianeto de amônio puro ($NH_4OCN$). Sabe-se que tais mudanças de concen- tração podem ser modeladas pela seguinte equação:\n",
    "\n",
    "$$\n",
    "c=\\frac{c_0}{1+k c_0 t}\n",
    "$$\n",
    "\n",
    "em que $c_0$ e $k$ são parâmetros. Use uma transformação para linearizar essa equação. A seguir, use regressão linear para prever a concentração em $t = 160$ min.\n",
    "\n",
    "$$\n",
    "\\begin{array}{l|ccccc}\n",
    "\\mathrm{t}(\\mathrm{~min}) & 0 & 20 & 50 & 65 & 150 \\\\\n",
    "\\hline \\mathrm{c}(\\mathrm{mols} / \\mathrm{L}) & 0,381 & 0,264 & 0,180 & 0,151 & 0,086\n",
    "\\end{array}\n",
    "$$"
   ]
  },
  {
   "cell_type": "code",
   "execution_count": null,
   "metadata": {},
   "outputs": [],
   "source": []
  },
  {
   "cell_type": "markdown",
   "metadata": {},
   "source": [
    "**5.** ([Fonte](https://integrada.minhabiblioteca.com.br/reader/books/9788580555691/pageid/524)) O modelo a seguir é usado frequentemente em engenharia ambiental para parametrizar o efeito da temperatura $T$ ($°C$) nas taxas de reações químicas $k$ (por dia),\n",
    "\n",
    "$$\n",
    "k=k_{20} \\theta^{T-20}\n",
    "$$\n",
    "\n",
    "em que $k_{20}$ e $\\theta$ são parâmetros. Use uma transformação para linearizar essa equação. A seguir, use regressão linear para estimar $k_{20}$ e $\\theta$ e para prever a taxa de reação em $T = 17 °C$.\n",
    "\n",
    "$$\r\n",
    "\\begin{array}{l|ccccc}\n",
    "T\\left({ }^{\\circ} \\mathrm{C}\\right) & 6 & 12 & 18 & 24 & 30 \\\\\n",
    "\\hline k \\text { (por dia) } & 0,14 & 0,20 & 0,31 & 0,46 & 0,69\n",
    "\\end{array}\r\n",
    "$$"
   ]
  },
  {
   "cell_type": "code",
   "execution_count": null,
   "metadata": {},
   "outputs": [],
   "source": []
  },
  {
   "cell_type": "markdown",
   "metadata": {},
   "source": [
    "**6.** ([Fonte](https://integrada.minhabiblioteca.com.br/reader/books/9788580555691/pageid/527)) A equação de Andrade foi proposta como um modelo para o efeito da temperatura sobre a viscosidade,\n",
    "\n",
    "$$\n",
    "\\mu=D e^{B / T_a}\n",
    "$$\n",
    "\n",
    "\n",
    "onde $\\mu$ é a viscosidade dinâmica da água ($10^{−3} N · s/m^2$), $T_a$ é a temperatura absoluta ($K$), e $D$ e $B$ são parâmetros. Ajuste esse modelo aos dados para a água\n",
    "\n",
    "$$\n",
    "\\begin{array}{c|cccccc}\n",
    "T & 0 & 5 & 10 & 20 & 30 & 40 \\\\\n",
    "\\hline \\mu & 1,787 & 1,519 & 1,307 & 1,002 & 0,7975 & 0,6529\n",
    "\\end{array}\n",
    "$$"
   ]
  },
  {
   "cell_type": "code",
   "execution_count": null,
   "metadata": {},
   "outputs": [],
   "source": []
  }
 ],
 "metadata": {
  "kernelspec": {
   "display_name": "Python 3 (ipykernel)",
   "language": "python",
   "name": "python3"
  },
  "language_info": {
   "codemirror_mode": {
    "name": "ipython",
    "version": 3
   },
   "file_extension": ".py",
   "mimetype": "text/x-python",
   "name": "python",
   "nbconvert_exporter": "python",
   "pygments_lexer": "ipython3",
   "version": "3.12.4"
  }
 },
 "nbformat": 4,
 "nbformat_minor": 4
}
