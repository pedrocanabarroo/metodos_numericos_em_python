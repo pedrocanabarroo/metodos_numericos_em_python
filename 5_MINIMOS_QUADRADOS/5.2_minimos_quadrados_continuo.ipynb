{
 "cells": [
  {
   "cell_type": "markdown",
   "metadata": {
    "collapsed": true,
    "jupyter": {
     "outputs_hidden": true
    }
   },
   "source": [
    "## 5.2 Minimos quadrados: caso contínuo\n",
    "\n",
    "No caso da função $f(x)$ ser conhecida, podemos ajustar a função $g(x)$ de modo a minimizar \n",
    "\n",
    "$$ E = \\int_a^b [e(x)]^2 dx = \\int_a^b [f(x)-g(x)]^2 dx$$\n",
    "\n",
    "o que leva a necessidade de resolução do sistema linear\n",
    "\n",
    "$$\\left[\\begin{array}{cccc}\n",
    "\t         \\langle g_1,g_1 \\rangle &\\langle g_1,g_2 \\rangle &... &\\langle g_1,g_n \\rangle\\\\ \n",
    "\t         \\langle g_2,g_1 \\rangle &\\langle g_2,g_2 \\rangle &... &\\langle g_2,g_n \\rangle\\\\  \n",
    "             \\vdots \\\\\n",
    "             \\langle g_n,g_1 \\rangle &\\langle g_n,g_2 \\rangle &... &\\langle g_n,g_n \\rangle\\\\ \n",
    "\t    \\end{array} \\right]\n",
    "\\left[\\begin{array}{c} \n",
    "\t         a_1 \\\\ \n",
    "\t         a_2 \\\\\n",
    "             \\vdots \\\\\n",
    "             a_n\n",
    "\t  \\end{array} \\right] =\n",
    "\\left[\\begin{array}{c} \n",
    "\t         \\langle f,g_1 \\rangle \\\\ \n",
    "\t         \\langle f,g_2 \\rangle \\\\ \n",
    "             \\vdots \\\\\n",
    "             \\langle f,g_n \\rangle \\\\ \n",
    "\t  \\end{array} \\right] \n",
    "             $$\n",
    "             \n",
    "Com $\\langle f,g \\rangle$ sendo o produto escalar entre as funções $f$ e $g$, definido como \n",
    "\n",
    "$$ \\langle f,g \\rangle = \\int_a^b f(x)g(x)dx$$"
   ]
  },
  {
   "cell_type": "markdown",
   "metadata": {},
   "source": [
    "**Exemplo 3:** ([Arenales, 2016](https://integrada.minhabiblioteca.com.br/reader/books/9788522112821/pageid/202)) Usando o método dos mínimos quadrados, aproxime a função $f(x)=e^{-x}$ no intervalo $[1,3]$ por um polinômio de grau 1 , ou seja, $g(x)=a_1+a_2 x$.\n",
    "\n",
    "O sistema de equações normais é dado por:\n",
    "\n",
    "$$\n",
    "\\left[\\begin{array}{cc}\n",
    "\\langle 1,1\\rangle & \\langle 1, x\\rangle \\\\\n",
    "\\langle 1, x\\rangle & \\langle x, x\\rangle\n",
    "\\end{array}\\right]\\left[\\begin{array}{l}\n",
    "a_1 \\\\\n",
    "a_2\n",
    "\\end{array}\\right]=\\left[\\begin{array}{c}\n",
    "\\left\\langle 1, e^{-x}\\right\\rangle \\\\\n",
    "\\left\\langle x, e^{-x}\\right\\rangle\n",
    "\\end{array}\\right]\n",
    "$$\n",
    "\n",
    "\n",
    "Assim,\n",
    "\n",
    "$$\n",
    "\\begin{aligned}\n",
    "\\langle 1,1\\rangle & =\\int_1^3 1 d x=2 \\\\\n",
    "\\langle 1, x\\rangle & =\\int_1^3 x d x=4 \\\\\n",
    "\\langle x, x\\rangle & =\\int_1^3 x^2 d x=26 / 3=8.6667 \\\\\n",
    "\\left\\langle 1, e^{-x}\\right\\rangle & =\\int_1^3 e^{-x} d x=0.3181 \\\\\n",
    "\\left\\langle x, e^{-x}\\right\\rangle & =\\int_1^3 x e^{-x} d x=0.5366\n",
    "\\end{aligned}\n",
    "$$\n"
   ]
  },
  {
   "cell_type": "markdown",
   "metadata": {},
   "source": [
    "Portanto, o sistema de equações normais é dado por:\n",
    "\n",
    "$$\n",
    "\\left[\\begin{array}{cc}\n",
    "2 & 4 \\\\\n",
    "4 & 8.6667\n",
    "\\end{array}\\right]\\left[\\begin{array}{l}\n",
    "a_1 \\\\\n",
    "a_2\n",
    "\\end{array}\\right]=\\left[\\begin{array}{l}\n",
    "0.3181 \\\\\n",
    "0.5366\n",
    "\\end{array}\\right]\n",
    "$$\n",
    "\n",
    "\n",
    "Usando o método de eliminação de Gauss, obtemos:\n",
    "\n",
    "$$\n",
    "a_1=0.4578 \\quad a_2=-1.1494\n",
    "$$\n",
    "\n",
    "e a reta que melhor se ajusta à $f(x)=e^{-x}$ no intervalo $[1,3]$ é dada por:\n",
    "\n",
    "$$\n",
    "g(x)=a_1+a_2 x=0.4578-0.1494 x\n",
    "$$\n"
   ]
  },
  {
   "cell_type": "code",
   "execution_count": 10,
   "metadata": {},
   "outputs": [
    {
     "name": "stdout",
     "output_type": "stream",
     "text": [
      "[-0.59854891  0.17695201]\n"
     ]
    },
    {
     "data": {
      "image/png": "[encoded data removed]",
      "text/plain": [
       "<Figure size 640x480 with 1 Axes>"
      ]
     },
     "metadata": {},
     "output_type": "display_data"
    }
   ],
   "source": [
    "import numpy as np\n",
    "from scipy.linalg import solve\n",
    "import matplotlib.pyplot as plt\n",
    "from scipy.integrate import quad\n",
    "import math\n",
    "from numpy import exp\n",
    "\n",
    "g1g1 = lambda x: 1\n",
    "g1g2 = lambda x: x\n",
    "g2g2 = lambda x: x**2\n",
    "fg1 = lambda x: -math.exp(-0.75*x)\n",
    "fg2 = lambda x: -x*math.exp(-0.75*x)\n",
    "\n",
    "# Calcula os elementos das marizes\n",
    "a11 = quad(g1g1, 1, 3)[0]\n",
    "a12 = quad(g1g2, 1, 3)[0]\n",
    "a22 = quad(g2g2, 1, 3)[0]\n",
    "b1 = quad(fg1, 1, 3)[0]\n",
    "b2 = quad(fg2, 1, 3)[0]\n",
    "\n",
    "\n",
    "\n",
    "# Monta e resolve o sistema\n",
    "A = np.array([[a11, a12], [a12, a22]])\n",
    "\n",
    "B = np.array([b1,b2])\n",
    "\n",
    "a = solve(A, B)\n",
    "print (a)\n",
    "\n",
    "# define a funcao g(x) para plotar \n",
    "g = lambda x: a[0]+a[1]*x\n",
    "\n",
    "# cria pontos (x, y) da reta \n",
    "Xr = np.arange(1, 3, 0.2)\n",
    "#print (Xr)\n",
    "\n",
    "#Y = np.exp(X)\n",
    "\n",
    "# Plota os pontos e a reta\n",
    "plt.plot(Xr, -np.exp(-0.75*Xr), \"r-\", Xr, g(Xr), \"b-\") \n",
    "plt.grid()\n",
    "plt.show()"
   ]
  },
  {
   "cell_type": "markdown",
   "metadata": {},
   "source": [
    "**Exemplo 2:** ([Burden, 2016](https://integrada.minhabiblioteca.com.br/reader/books/9788522123414/pageid/586)) Encontre o polinômio de aproximação por mínimos quadrados de segundo grau para a função $f(x)=\\operatorname{sen} \\pi x$ no intervalo $[0,1]$.\n",
    "\n",
    "\n",
    "*Solução:* As equações normais para $P_2(x)=a_2 x^2+a_1 x+a_0$ são\n",
    "\n",
    "$$\n",
    "\\begin{aligned}\n",
    "a_0 \\int_0^1 1 d x+a_1 \\int_0^1 x d x+a_2 \\int_0^1 x^2 d x & =\\int_0^1 \\operatorname{sen} \\pi x d x \\\\\n",
    "a_0 \\int_0^1 x d x+a_1 \\int_0^1 x^2 d x+a_2 \\int_0^1 x^3 d x & =\\int_0^1 x \\operatorname{sen} \\pi x d x \\\\\n",
    "a_0 \\int_0^1 x^2 d x+a_1 \\int_0^1 x^3 d x+a_2 \\int_0^1 x^4 d x & =\\int_0^1 x^2 \\operatorname{sen} \\pi x d x\n",
    "\\end{aligned}\n",
    "$$\n",
    "\n",
    "\n",
    "Calculando as integrais, obtemos\n",
    "\n",
    "$$\n",
    "a_0+\\frac{1}{2} a_1+\\frac{1}{3} a_2=\\frac{2}{\\pi}, \\quad \\frac{1}{2} a_0+\\frac{1}{3} a_1+\\frac{1}{4} a_2=\\frac{1}{\\pi} \\quad \\text { e } \\quad \\frac{1}{3} a_0+\\frac{1}{4} a_1+\\frac{1}{5} a_2=\\frac{\\pi^2-4}{\\pi^3} .\n",
    "$$\n",
    "\n",
    "\n",
    "Estas três equações em três incógnitas podem ser resolvidas a fim de se obter\n",
    "\n",
    "$$\n",
    "a_0=\\frac{12 \\pi^2-120}{\\pi^3} \\approx-0,050465 \\quad \\text { e } \\quad a_1=-a_2=\\frac{720-60 \\pi^2}{\\pi^3} \\approx 4,12251\n",
    "$$\n",
    "\n",
    "\n",
    "Consequentemente, a aproximação polinomial por mínimos quadrados de segundo grau para $f(x)=\\operatorname{sen} \\pi x$ em $[0,1]$ é $P_2(x)=-4,12251 x^2+4,12251 x-0,050465$. "
   ]
  },
  {
   "cell_type": "code",
   "execution_count": null,
   "metadata": {},
   "outputs": [],
   "source": []
  },
  {
   "cell_type": "code",
   "execution_count": null,
   "metadata": {},
   "outputs": [],
   "source": []
  },
  {
   "cell_type": "markdown",
   "metadata": {},
   "source": [
    "### Exercícios\n",
    "\n",
    "**1.** Encontre a aproximação polinomial por mínimos quadrados linear para $f(x)$ nos intervalos indicados se:\n",
    "\n",
    "a. $f(x)=x^2+3 x+2$,$[0,1] ;$\n",
    "\n",
    "b. $f(x)=x^3, \\quad[0,2]$;\n",
    "\n",
    "c. $f(x)=\\frac{1}{x}, \\quad[1,3]$;\n",
    "\n",
    "d. $f(x)=e^x, \\quad[0,2]$;\n",
    "\n",
    "e. $f(x)=\\frac{1}{2} \\cos x+\\frac{1}{3} \\operatorname{sen} 2 x,[0,1]$;\n",
    "\n",
    "f. $f(x)=x \\ln x$, $[1,3]$.\n",
    "\n",
    "**2.** Encontre a aproximação polinomial por mínimos quadrados linear no intervalo $[-1,1]$ para as seguintes funções:\n",
    "\n",
    "a. $f(x)=x^2-2 x+3$\n",
    "\n",
    "b. $f(x)=x^3$\n",
    "\n",
    "c. $f(x)=\\frac{1}{x+2}$\n",
    "\n",
    "d. $f(x)=e^x$\n",
    "\n",
    "e. $f(x)=\\frac{1}{2} \\cos x+\\frac{1}{3} \\operatorname{sen} 2 x$\n",
    "\n",
    "f. $f(x)=\\ln (x+2)$"
   ]
  },
  {
   "cell_type": "markdown",
   "metadata": {},
   "source": []
  }
 ],
 "metadata": {
  "kernelspec": {
   "display_name": "Python 3 (ipykernel)",
   "language": "python",
   "name": "python3"
  },
  "language_info": {
   "codemirror_mode": {
    "name": "ipython",
    "version": 3
   },
   "file_extension": ".py",
   "mimetype": "text/x-python",
   "name": "python",
   "nbconvert_exporter": "python",
   "pygments_lexer": "ipython3",
   "version": "3.12.4"
  }
 },
 "nbformat": 4,
 "nbformat_minor": 4
}
