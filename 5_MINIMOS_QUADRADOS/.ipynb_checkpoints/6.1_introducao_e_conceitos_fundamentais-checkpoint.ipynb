{
 "cells": [
  {
   "cell_type": "markdown",
   "metadata": {},
   "source": [
    "# 6.1  Introdução e conceitos fundamentais \n",
    "\n",
    "O método dos mínimos quadrados é útil quando queremos aproximar uma função $f(x)$ por uma outra função $g(x)$, seja porque $f$ não tem expressão analítica conhecida, ou por ser de difícil tratamento ou manipulação. A função $g(x)$ pode ser uma combinação de funções polinomiais, exponenciais, logarítmicas, trigonométricas, etc.\n",
    "\n",
    "De forma geral, escrevemos a função $g(x)$ como uma combinação linear das funções $g_1(x)$, $g_2(x)$,...,g_n(x), ou seja:\n",
    "\n",
    "$$ g(x) = a_1g_1(x)+a_2g_1(x)+...+a_ng_n(x)$$\n",
    "\n",
    "O problema a ser resolvido, portanto, se resume em encontrar os parâmetros $a_1$, $a_2$, ..., $a_n$ para função $g(x)$ que melhor aproxima a função $f(x)$.\n",
    "\n",
    "No **caso discreto** $f(x)$ é conhecida apenas num conjunto finito de pontos e no **caso contínuo** $f(x)$ tem expressão conhecida. \n",
    "\n",
    "\n",
    "\n",
    "\n",
    "\n",
    "Para encontrar a função $g(x)$ que melhor \"se ajusta\" aos $n$ pontos conhecidos de uma função $f(x)$ devemos buscar minimizar os desvios, ou erros,  $e(x_i) = f(x_i)-g(x_i)$, $i=1,...,m$. No método dos mínimos quadrados, se a função for conhecida apenas em um conjunto finito de pontos, fazemos isso minimizando a soma \n",
    "\n",
    "$$ E = \\sum_{i=1}^{m} [e(x_i)]^2= \\sum_{i=1}^{m} [f(x_i)-g(x_i)]^2 $$\n",
    "\n",
    "Note que, diferentemente do que aproximar $f$ por interpolação, com mínimos quadrados, função $g(x)$ não necessariamente precisa passar pelos pontos mas sim se ajustar a eles. \n",
    "\n",
    "Se $f$ for conhecida, podemos buscamos minimizar a função \n",
    "\n",
    "$$ E = \\int_a^b [e(x)]^2 dx = \\int_a^b [f(x)-g(x)]^2 dx$$\n",
    "\n",
    "ou seja, queremos minimizar aárea entra os gráficos de $g(x)$ e $f(x)$."
   ]
  },
  {
   "cell_type": "code",
   "execution_count": null,
   "metadata": {
    "collapsed": true
   },
   "outputs": [],
   "source": []
  }
 ],
 "metadata": {
  "kernelspec": {
   "display_name": "Python 3",
   "language": "python",
   "name": "python3"
  },
  "language_info": {
   "codemirror_mode": {
    "name": "ipython",
    "version": 3
   },
   "file_extension": ".py",
   "mimetype": "text/x-python",
   "name": "python",
   "nbconvert_exporter": "python",
   "pygments_lexer": "ipython3",
   "version": "3.8.5"
  }
 },
 "nbformat": 4,
 "nbformat_minor": 1
}
