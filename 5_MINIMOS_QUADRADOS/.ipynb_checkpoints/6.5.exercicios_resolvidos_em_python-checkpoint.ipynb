{
 "cells": [
  {
   "cell_type": "markdown",
   "metadata": {},
   "source": [
    "# 6.5 Exercícios resolvidos em Python"
   ]
  },
  {
   "cell_type": "markdown",
   "metadata": {},
   "source": [
    "### Exercício 1\n",
    "Ajuste uma reta à função $f(x)$, tabelada como segue\n",
    "$$\\begin{array}{cccccc}\n",
    "x_i    &0    &1     &2     &3      &4\\\\ \n",
    "f(x_i) &0.98 &-3.01 &-6.99 &-11.01 &-15 \n",
    "\\end{array} $$"
   ]
  },
  {
   "cell_type": "code",
   "execution_count": 3,
   "metadata": {
    "collapsed": false
   },
   "outputs": [
    {
     "name": "stdout",
     "output_type": "stream",
     "text": [
      "[-4.3    0.938]\n"
     ]
    },
    {
     "data": {
      "image/png": "[encoded data removed]",
      "text/plain": [
       "<matplotlib.figure.Figure at 0x7f6ff9f005f8>"
      ]
     },
     "metadata": {},
     "output_type": "display_data"
    }
   ],
   "source": [
    "% matplotlib inline\n",
    "import numpy as np\n",
    "from scipy.linalg import solve\n",
    "import matplotlib.pyplot as plt\n",
    "\n",
    "X = np.array([0, 1, 2, 3, 4])\n",
    "Y = np.array([0.98, -3.01, -6.99, -11.01, -15.0])\n",
    "\n",
    "# podemos testar usr esses dados com mais ruidos\n",
    "# Y = np.array([1.2, -4.81, -5.99, -12.01, -16.7])\n",
    "\n",
    "# Calcula os elementos das marizes\n",
    "a11 = np.sum(X**2)\n",
    "a12 = np.sum(X)\n",
    "a22 = len(X)\n",
    "b1 = np.sum(X * Y)\n",
    "b2 = np.sum(Y)\n",
    "\n",
    "# Monta e resolve o sistema\n",
    "A = np.array([[a11, a12], [a12, a22]])\n",
    "\n",
    "B = np.array([b1,b2])\n",
    "\n",
    "a = solve(A, B)\n",
    "print (a)\n",
    "\n",
    "# define a funcao g(x) para plotar \n",
    "g = lambda x: a[0]*x+a[1]\n",
    "\n",
    "# cria pontos (x, y) da reta \n",
    "Xr = np.arange(-1, 5, 0.5)\n",
    "\n",
    "# Plota os pontos e a reta\n",
    "plt.plot(X, Y, \".\", Xr, g(Xr), \"-\") \n",
    "plt.grid()\n",
    "plt.show()"
   ]
  },
  {
   "cell_type": "markdown",
   "metadata": {},
   "source": [
    "\n",
    "\n",
    "\n",
    "Para aproximar a função f(x) por um polinômio de grau 2, usamos a seguinte forma geral para $g(x)$\n",
    "\n",
    "$$ g(x)=a_1g_1(x) + a_2g_2(x) + a_3g_3(x) = a_1x^2 + a_2x + a_3$$\n",
    "\n",
    "com $g_1(x) = x^2$, $g_2(x) = x$ e $g_3(x) = 1$.\n",
    "\n",
    "Generalizando o procedimento, podemos determinar os coeficientes $a_1,a_2,...,a_n$ da função$ g(x) = a_1g_1(x)+a_1g_1(x)+...+a_ng_n(x)$ resolvendo o sistema linear formado pelas equações \n",
    "\n",
    "$$ \\frac{\\partial E}{\\partial a_1} = 0, \\,\\,  \\frac{\\partial E}{\\partial a_2} = 0, ..., \\,\\, \\frac{\\partial E}{\\partial a_n} = 0$$ \n",
    "\n",
    "ou seja, \n",
    "\n",
    "$$ \\begin{cases} \n",
    "\\left(\\sum_{i=1}^{m} g_1(x_i)g_1(x_i)\\right)a_1 + \\left(\\sum_{i=1}^{m} g_1(x_i)g_2(x_i)\\right)a_2+...+\\left(\\sum_{i=1}^{m} g_1(x_i)g_n(x_i)\\right)a_n = \\sum_{i=1}^{m} f(x_i)g_1(x_i) \\\\\n",
    "\\left(\\sum_{i=1}^{m} g_2(x_i)g_1(x_i)\\right)a_1 + \\left(\\sum_{i=1}^{m} g_2(x_i)g_2(x_i)\\right)a_2+...+\\left(\\sum_{i=1}^{m} g_2(x_i)g_n(x_i)\\right)a_n = \\sum_{i=1}^{m} f(x_i)g_2(x_i) \\\\\n",
    "\\vdots\\\\\n",
    "\\left(\\sum_{i=1}^{m} g_n(x_i)g_1(x_i)\\right)a_1 + \\left(\\sum_{i=1}^{m} g_n(x_i)g_2(x_i)\\right)a_2+...+\\left(\\sum_{i=1}^{m} g_n(x_i)g_n(x_i)\\right)a_n = \\sum_{i=1}^{m} f(x_i)g_n(x_i) \\\\\n",
    "\\end{cases} $$\n",
    "\n",
    "\n",
    "\n"
   ]
  },
  {
   "cell_type": "markdown",
   "metadata": {},
   "source": [
    "### Exemplo\n",
    "p184"
   ]
  },
  {
   "cell_type": "code",
   "execution_count": 15,
   "metadata": {
    "collapsed": false
   },
   "outputs": [
    {
     "name": "stdout",
     "output_type": "stream",
     "text": [
      "[ 5.08982143  0.05189286 -1.14371429]\n"
     ]
    },
    {
     "data": {
      "image/png": "[encoded data removed]",
      "text/plain": [
       "<matplotlib.figure.Figure at 0x7f9d95f42fd0>"
      ]
     },
     "metadata": {},
     "output_type": "display_data"
    }
   ],
   "source": [
    "% matplotlib inline\n",
    "import numpy as np\n",
    "from scipy.linalg import solve\n",
    "import matplotlib.pyplot as plt\n",
    "\n",
    "X = np.array([-2., -1., 0, 1., 2., 3.])\n",
    "Y = np.array([19.01, 3.99, -1.00, 4.01, 18.99, 45.00])\n",
    "\n",
    "# Calcula os elementos das marizes\n",
    "A11 = np.sum(X**4)\n",
    "A12 = np.sum(X**3)\n",
    "A13 = np.sum(X**2)\n",
    "A23 = np.sum(X)\n",
    "A33 = len(X)\n",
    "B1 = np.sum(X**2*Y) \n",
    "B2 = np.sum(X*Y)\n",
    "B3 = np.sum(Y)\n",
    "\n",
    "# Monta e resolve o sistema\n",
    "A = np.array([[A11,A12, A13],[A12, A13, A23], [A13, A23, A33]])\n",
    "B = np.array([B1,B2,B3])\n",
    "a = solve(A, B)\n",
    "print (a)\n",
    "\n",
    "# define a funcao g(x) para plotar \n",
    "g = lambda x: a[0]*x*x+a[1]*x+a[2]\n",
    "\n",
    "# cria pontos (x, y) da reta \n",
    "Xr = np.arange(X[0], X[-1]+1, 0.2)\n",
    "Yr = []\n",
    "for x in Xr:\n",
    "    Yr.append(g(x))    \n",
    "\n",
    "# Plota os pontos e a reta\n",
    "plt.plot(X, Y, \".\", Xr, Yr, \"-\") \n",
    "plt.grid()\n",
    "plt.show()\n"
   ]
  },
  {
   "cell_type": "markdown",
   "metadata": {},
   "source": [
    "### Exemplo\n",
    "p186"
   ]
  },
  {
   "cell_type": "code",
   "execution_count": 5,
   "metadata": {
    "collapsed": false
   },
   "outputs": [
    {
     "name": "stdout",
     "output_type": "stream",
     "text": [
      "[-0.5  0.   0.5  1.   1.5  2.   2.5  3.   3.5  4.   4.5]\n",
      "71.5 2.0 5.0\n",
      "36.75 3.5\n",
      "[ 0.5  0.5]\n"
     ]
    },
    {
     "data": {
      "image/png": "[encoded data removed]",
      "text/plain": [
       "<matplotlib.figure.Figure at 0x7f1948fefdd8>"
      ]
     },
     "metadata": {},
     "output_type": "display_data"
    }
   ],
   "source": [
    "% matplotlib inline\n",
    "import numpy as np\n",
    "from scipy.linalg import solve\n",
    "import matplotlib.pyplot as plt\n",
    "\n",
    "X = np.array([-0.5, 0.0, 0.5, 1.0, 1.5, 2.0, 2.5, 3.0, 3.5, 4.0, 4.5])\n",
    "Y = np.array([-0.25, 0.5, 0.25, 0.0, 0.75, 1.5, 1.25, 1.00, 1.75, 2.5, 2.25])\n",
    "\n",
    "# Calcula os elementos das marizes\n",
    "g1 = lambda X: X\n",
    "g2 = lambda X: np.cos(np.pi*X)\n",
    "\n",
    "print (g1(X))\n",
    "a11 = np.sum(np.multiply(g1(X),g1(X)))\n",
    "a12 = np.sum(np.multiply(g1(X),g2(X)))\n",
    "a21 = a12\n",
    "a22 = np.sum(np.multiply(g2(X),g2(X)))\n",
    "\n",
    "print (a11, a12, a22)\n",
    "\n",
    "b1 = np.sum(np.multiply(Y,g1(X)))\n",
    "b2 = np.sum(np.multiply(Y,g2(X)))\n",
    "\n",
    "print (b1,b2)\n",
    "\n",
    "\n",
    "# Monta e resolve o sistema\n",
    "A = np.array([[a11, a12],\n",
    "              [a21, a22]])\n",
    "\n",
    "B = np.array([b1,b2])\n",
    "\n",
    "a = solve(A, B)\n",
    "print (a)\n",
    "\n",
    "# define a funcao g(x) para plotar \n",
    "g = lambda X: a[0]*g1(X)+a[1]*g2(X)\n",
    "\n",
    "# cria pontos (x, y) da reta \n",
    "Xr = np.arange(X[0], X[-1], 0.1)\n",
    "Yr = g(Xr)   \n",
    "\n",
    "# Plota os pontos e a reta\n",
    "plt.plot(X, Y, \"ro\", Xr, Yr, \"-\") \n",
    "plt.show()\n"
   ]
  },
  {
   "cell_type": "markdown",
   "metadata": {},
   "source": [
    "No caso da função $f(x)$ ser conhecida, podemos ajustar a função $g(x)$ de modo a minimizar \n",
    "\n",
    "$$ E = \\int_a^b [e(x)]^2 dx = \\int_a^b [f(x)-g(x)]^2 dx$$\n",
    "\n",
    "o que leva a necessidade de resolução do sistema linear\n",
    "\n",
    "$$\\left[\\begin{array}{cccc}\n",
    "\t         \\langle g_1,g_1 \\rangle &\\langle g_1,g_2 \\rangle &... &\\langle g_1,g_n \\rangle\\\\ \n",
    "\t         \\langle g_2,g_1 \\rangle &\\langle g_2,g_2 \\rangle &... &\\langle g_2,g_n \\rangle\\\\  \n",
    "             \\vdots \\\\\n",
    "             \\langle g_n,g_1 \\rangle &\\langle g_n,g_2 \\rangle &... &\\langle g_n,g_n \\rangle\\\\ \n",
    "\t    \\end{array} \\right]\n",
    "\\left[\\begin{array}{c} \n",
    "\t         a_1 \\\\ \n",
    "\t         a_2 \\\\\n",
    "             \\vdots \\\\\n",
    "             a_n\n",
    "\t  \\end{array} \\right]\n",
    "=\n",
    "\\left[\\begin{array}{c} \n",
    "\t         \\langle f,g_1 \\rangle \\\\ \n",
    "\t         \\langle f,g_2 \\rangle \\\\ \n",
    "             \\vdots \\\\\n",
    "             \\langle f,g_n \\rangle \\\\ \n",
    "\t  \\end{array} \\right] \n",
    "             $$\n",
    "             \n",
    "Com $\\langle f,g \\rangle$ sendo o produto escalar entre as funções $f$ e $g$, definido como \n",
    "\n",
    "$$ \\langle f,g \\rangle = \\int_a^b f(x)g(x)dx$$"
   ]
  },
  {
   "cell_type": "markdown",
   "metadata": {},
   "source": [
    "### Exemplo \n",
    "p190"
   ]
  }
 ],
 "metadata": {
  "kernelspec": {
   "display_name": "Python 3",
   "language": "python",
   "name": "python3"
  },
  "language_info": {
   "codemirror_mode": {
    "name": "ipython",
    "version": 3
   },
   "file_extension": ".py",
   "mimetype": "text/x-python",
   "name": "python",
   "nbconvert_exporter": "python",
   "pygments_lexer": "ipython3",
   "version": "3.5.1"
  }
 },
 "nbformat": 4,
 "nbformat_minor": 1
}
