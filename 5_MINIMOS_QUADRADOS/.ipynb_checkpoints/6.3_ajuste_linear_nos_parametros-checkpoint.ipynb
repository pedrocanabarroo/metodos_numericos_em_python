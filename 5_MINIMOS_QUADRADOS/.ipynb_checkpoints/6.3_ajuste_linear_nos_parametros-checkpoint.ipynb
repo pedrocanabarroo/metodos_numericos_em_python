{
 "cells": [
  {
   "cell_type": "markdown",
   "metadata": {},
   "source": [
    "# 6.3 Ajuste linear nos parâmetros\n",
    "\n",
    "Uma função do tipo \n",
    "\n",
    "$$ g(x) = a_1 g_1(x) + a_2 g_2(x) + ... + a_n g_n(x)$$\n",
    "\n",
    "é dita um _modelo de regressão linear_. O adjetivo \"linear\" é usado para indicar que o modelo é linear nos parâmetros $a_1$, $a_2$,..., $a_n$ e não porque é um função linear de $x$. Por exemplo, uma expressão da forma\n",
    "\n",
    "$$ y = a_1 + a_2 log(x) + a_3 x^3 $$ \n",
    "\n",
    "é um modelo de regressão linear múltipla, assim como os ajustes polinomiais feitos nos capítulos anteriores, mas o mesmo não acontece com a equação \n",
    "\n",
    "$$y =a_1 + a_2 x^{a_3} + a_4 x^2$$\n",
    "\n",
    "Algumas maneiras de justar funções não lineares serão discutidos nas próximas seções. Por hora, apresentamos um exemplo de ajuste linear não polinomial."
   ]
  },
  {
   "cell_type": "markdown",
   "metadata": {},
   "source": [
    "### Exemplo\n",
    "Considere o segunte conjunto de pontos\n",
    "\n",
    "$$\\begin{array}{cccccccccccc}\n",
    "x_i    &-0.5 &0.0 &0.5 &1.0 &1.5 &2.0 &2.5 &3.0 &3.5 &4.0 &4.5\\\\ \n",
    "f(x_i) &-0.25 &0.5 &0.25 &0.0 &0.75 &1.5 &1.25 &1.00 &1.75 &2.5 &2.25\n",
    "\\end{array} $$\n",
    "\n",
    "Usando o método dos mínimos quadrados, ajuste uma função $g(x)$ aos dados.\n",
    "\n",
    "**Solução:**\n",
    "Primeiramente, construimos o diagrama de dispersão dos pontos dados: "
   ]
  },
  {
   "cell_type": "code",
   "execution_count": 6,
   "metadata": {},
   "outputs": [
    {
     "data": {
      "image/png": "[encoded data removed]",
      "text/plain": [
       "<matplotlib.figure.Figure at 0x1dee9569898>"
      ]
     },
     "metadata": {},
     "output_type": "display_data"
    }
   ],
   "source": [
    "% matplotlib inline\n",
    "import numpy as np\n",
    "import matplotlib.pyplot as plt\n",
    "\n",
    "X = np.array([-0.5, 0.0, 0.5, 1.0, 1.5, 2.0, 2.5, 3.0, 3.5, 4.0, 4.5])\n",
    "Y = np.array([-0.25, 0.5, 0.25, 0.0, 0.75, 1.5, 1.25, 1.00, 1.75, 2.5, 2.25])\n",
    "\n",
    "# Plota os pontos e a reta\n",
    "plt.plot(X, Y, \".\") \n",
    "plt.grid()\n",
    "plt.show()"
   ]
  },
  {
   "cell_type": "markdown",
   "metadata": {},
   "source": [
    "É possível perceber que os pontos parecem crescer linearmente mas também parecem oscilar com período igual a 2. \n",
    "\n",
    "Essas características sugerem uma função do tipo $g(x) = a_1x+a_2 \\cos(\\pi x)$ em que $g_1(x)=x$ e $g_2(x) = cos(\\pi x)$."
   ]
  },
  {
   "cell_type": "code",
   "execution_count": 7,
   "metadata": {},
   "outputs": [
    {
     "name": "stdout",
     "output_type": "stream",
     "text": [
      "[-0.5  0.   0.5  1.   1.5  2.   2.5  3.   3.5  4.   4.5]\n",
      "71.5 2.0000000000000018 5.0\n",
      "36.75 3.5000000000000004\n",
      "[0.5 0.5]\n"
     ]
    },
    {
     "data": {
      "image/png": "[encoded data removed]",
      "text/plain": [
       "<matplotlib.figure.Figure at 0x1dee9744898>"
      ]
     },
     "metadata": {},
     "output_type": "display_data"
    }
   ],
   "source": [
    "from scipy.linalg import solve\n",
    "\n",
    "# Calcula os elementos das marizes\n",
    "g1 = lambda X: X\n",
    "g2 = lambda X: np.cos(np.pi*X)\n",
    "\n",
    "print (g1(X))\n",
    "a11 = np.sum(np.multiply(g1(X),g1(X)))\n",
    "a12 = np.sum(np.multiply(g1(X),g2(X)))\n",
    "a21 = a12\n",
    "a22 = np.sum(np.multiply(g2(X),g2(X)))\n",
    "\n",
    "print (a11, a12, a22)\n",
    "\n",
    "b1 = np.sum(np.multiply(Y,g1(X)))\n",
    "b2 = np.sum(np.multiply(Y,g2(X)))\n",
    "\n",
    "print (b1,b2)\n",
    "\n",
    "\n",
    "# Monta e resolve o sistema\n",
    "A = np.array([[a11, a12],\n",
    "              [a21, a22]])\n",
    "\n",
    "B = np.array([b1,b2])\n",
    "\n",
    "a = solve(A, B)\n",
    "print (a)\n",
    "\n",
    "# define a funcao g(x) para plotar \n",
    "g = lambda X: a[0]*g1(X)+a[1]*g2(X)\n",
    "\n",
    "# cria pontos (x, y) da reta \n",
    "Xr = np.arange(X[0], X[-1], 0.1)\n",
    "Yr = g(Xr)   \n",
    "\n",
    "# Plota os pontos e a reta\n",
    "plt.plot(X, Y, \"ro\", Xr, Yr, \"-\") \n",
    "plt.show()\n"
   ]
  },
  {
   "cell_type": "code",
   "execution_count": null,
   "metadata": {
    "collapsed": true
   },
   "outputs": [],
   "source": []
  }
 ],
 "metadata": {
  "kernelspec": {
   "display_name": "Python 3",
   "language": "python",
   "name": "python3"
  },
  "language_info": {
   "codemirror_mode": {
    "name": "ipython",
    "version": 3
   },
   "file_extension": ".py",
   "mimetype": "text/x-python",
   "name": "python",
   "nbconvert_exporter": "python",
   "pygments_lexer": "ipython3",
   "version": "3.8.5"
  }
 },
 "nbformat": 4,
 "nbformat_minor": 1
}
