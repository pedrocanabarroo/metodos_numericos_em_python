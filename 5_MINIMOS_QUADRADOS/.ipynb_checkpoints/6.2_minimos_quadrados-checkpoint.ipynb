{
 "cells": [
  {
   "cell_type": "markdown",
   "metadata": {},
   "source": [
    "# 6.2 Aproximação de funções pelo método dos mínimos quadrados\n",
    "\n",
    "Algumas vezes queremos aproximar uma função complicada por outra mais simples, ou então, obter uma função que possa representas um conjunto de dados obtidos experimentalmente. Por exemplo, suponha que desejamos encontrar a função linear que representa o comportamento de uma mola a partir de medidas da força aplicada para esticar essa mola e o do comprimento da mola esticada. Sabemos da Lei de Hooke que a força elástica produzida por uma mola feita de um material uniforme é função linear da deformação dessa mola. Podemos escrever\n",
    "\n",
    "$$F(x)=kx$$\n",
    "\n",
    "em que $F$ é a força, $k$ é a constante elástica da mola e $x$ é a deformação. \n",
    "\n",
    "\n",
    "\n",
    "## Caso discreto\n",
    "\n",
    "Inicialmente vamos supor que queremos ajustar uma reta $g(x) = a_1x+a_2$ aos pontos $(x_i, f(x_i))$, $i=1,...,m$, como é mostrado na figura abaixo\n",
    "\n",
    "<img src=\"https://github.com/tiagoburiol/NUMETHODS/raw/master/6_APROXIMACAO_DE_FUNCOES/imagens/ajuste_reta.png\" width=\"500\">m\n",
    "\n",
    "\n",
    "Então, buscamos os coeficientes $a_1$ e $a_2$ que definem a reta que melhor se ajusta aos pontos, ou seja, os coeficientes que minimizam a função\n",
    "\n",
    "$$ E(a_1, a_2)= \\sum_{i=1}^{m} [g(x_i)-f(x_i)]^2 $$\n",
    "\n",
    "Do cálculo infinitesimal, sabemos que se a função $ E(a_1, a_2)$ possui um ponto de mínimo, suas derivadas parciais nesse ponto devem ser nulas, ou seja \n",
    "\n",
    "$$ \\frac{\\partial E}{\\partial a_1} = 0  \\,\\,\\,\\,\\,  \\frac{\\partial E}{\\partial a_2} = 0$$ \n",
    "\n",
    "Derivando $ E(a_1, a_2)$ em relação a $a_1$ e $a_2$ obtemos\n",
    "\n",
    "$$ \\frac{\\partial E}{\\partial a_1} = \\frac{\\partial}{\\partial a_1} \\left[ \\sum_{i=1}^{m}\\left(g(x_i)-f(x_i) \\right)^2 \\right]=0$$\n",
    "\n",
    "\n",
    "ou\n",
    "\n",
    "$$ \\frac{\\partial E}{\\partial a_1} = \\frac{\\partial}{\\partial a_1} \\left[ \\left(\\sum_{i=1}^{m} a_1 x_i\n",
    " + \\sum_{i=1}^{m} a_2 - \\sum_{i=1}^{m} f(x_i) \\right)^2 \\right]=0$$\n",
    " \n",
    "ou, ainda\n",
    " \n",
    "$$ \\frac{\\partial E}{\\partial a_1} =   2 \\left[a_1\\sum_{i=1}^{m} x_i^2 + a_2\\sum_{i=1}^{m} x_i \\right] - 2 \\left[\\sum_{i=1}^{m} f(x_i)x_i \\right] =0$$ \n",
    "\n",
    "e \n",
    "\n",
    "$$ \\frac{\\partial E}{\\partial a_2} =   2 \\left[a_1\\sum_{i=1}^{m} x_i + ma_2 - \\sum_{i=1}^{m} f(x_i)\\right] =0$$ \n",
    "\n",
    "As equações obtidas nos permitem encontrar $a_1$ e $a_2$ por meio da resolução do sistema linear \n",
    "\n",
    "$$ \\begin{cases} \n",
    "\t         \\left(\\sum_{i=1}^{m} x_i^2\\right)a_ 1 + \\left(\\sum_{i=1}^{m} x_i\\right)a_ 2 = \\sum_{i=1}^{m} f(x_i)x_i  \\\\\n",
    "             \\left(\\sum_{i=1}^{m} x_i\\right)a_ 1 + ma_ 2 = \\sum_{i=1}^{m} f(x_i)\n",
    "   \\end{cases} $$\n",
    "   \n",
    "ou \n",
    "\n",
    "$$\\left[\\begin{array}{cc}\n",
    "\t         \\sum_{i=1}^{m} x_i^2 & \\sum_{i=1}^{m} x_i \\\\ \n",
    "\t         \\sum_{i=1}^{m} x_i   & m \n",
    "\t         \\end{array} \\right]\n",
    "\\left[\\begin{array}{c} \n",
    "\t         a_1 \\\\ \n",
    "\t         a_2 \n",
    "\t         \\end{array} \\right]\n",
    "=\n",
    "\\left[\\begin{array}{c} \n",
    "\t         \\sum_{i=1}^{m} f(x_i)x_i \\\\ \n",
    "\t         \\sum_{i=1}^{m} f(x_i) \n",
    "\t         \\end{array} \\right] \n",
    "             $$"
   ]
  },
  {
   "cell_type": "markdown",
   "metadata": {},
   "source": [
    "## Exemplo\n",
    "Ajuste uma reta à função $f(x)$, tabelada como segue\n",
    "\n",
    "$$\\begin{array}{cccccc}\n",
    "\\hline\n",
    "x_i   &0    &1     &2     &3      &4\\\\ \\hline\n",
    "f(x_i) &0.98 &-3.01 &-6.99 &-11.01 &-15 \\\\ \\hline\n",
    "\\end{array} $$\n",
    "             \n",
    "             \n",
    "             \n",
    "### Resolução\n",
    "Fazendo\n",
    "\n",
    "$\\sum_{i=1}^{5} x_i^2 = 0^2+1^2+2^2+3^2+4^2 = 30$\n",
    "\n",
    "$\\sum_{i=1}^{5} x_i = 0+1+2+3+4 = 10$\n",
    "\n",
    "$\\sum_{i=1}^{5} f(x_i)x_i = 0\\times0.98+1\\times(-3.01)+2\\times(-6.99) +3\\times(-11.01)+4\\times(-15) = -3.996$\n",
    "\n",
    "$\\sum_{i=1}^{5} x_i = 0.98+(-3.01)+(-6.99) +3\\times(-11.01)+(-15) = -3.996$\n",
    "\n",
    "Então, fazendo \n",
    "\n",
    "$$\\left[\\begin{array}{cc}\n",
    "\t         \\sum_{i=1}^{5} x_i^2 & \\sum_{i=1}^{5} x_i \\\\ \n",
    "\t         \\sum_{i=1}^{5} x_i   & 5 \n",
    "\t         \\end{array} \\right]\n",
    "\\left[\\begin{array}{c} \n",
    "\t         a_1 \\\\ \n",
    "\t         a_2 \n",
    "\t         \\end{array} \\right]\n",
    "=\n",
    "\\left[\\begin{array}{c} \n",
    "\t         \\sum_{i=1}^{5} f(x_i)x_i \\\\ \n",
    "\t         \\sum_{i=1}^{5} f(x_i) \n",
    "\t         \\end{array} \\right] \n",
    "             $$\n",
    "\n",
    "Obtem-se\n",
    "\n",
    "\n",
    "$$\\left[\\begin{array}{cc}\n",
    "\t         30 & 10 \\\\ \n",
    "\t         10   & 5 \n",
    "\t         \\end{array} \\right]\n",
    "\\left[\\begin{array}{c} \n",
    "\t         a_1 \\\\ \n",
    "\t         a_2 \n",
    "\t         \\end{array} \\right]\n",
    "=\n",
    "\\left[\\begin{array}{c} \n",
    "\t         -110.02 \\\\ \n",
    "\t         -35.03 \n",
    "\t         \\end{array} \\right] \n",
    "             $$\n",
    "\n",
    "cuja solução fornece\n",
    "\n",
    "$$\n",
    "\\left[\\begin{array}{c} \n",
    "\t         a_1 \\\\ \n",
    "\t         a_2 \n",
    "\t         \\end{array} \\right]\n",
    "=\n",
    "\\left[\\begin{array}{c} \n",
    "\t         -3.996 \\\\ \n",
    "\t          0.986 \n",
    "\t         \\end{array} \\right]$$\n",
    "             \n",
    "Que são os coefinientes da reta procurada \n",
    "]"
   ]
  },
  {
   "cell_type": "code",
   "execution_count": 1,
   "metadata": {},
   "outputs": [
    {
     "name": "stdout",
     "output_type": "stream",
     "text": [
      "[[30 10]\n",
      " [10  5]]\n",
      "[-110.02  -35.03]\n",
      "[-3.996  0.986]\n"
     ]
    },
    {
     "data": {
      "image/png": "[encoded data removed]",
      "text/plain": [
       "<Figure size 432x288 with 1 Axes>"
      ]
     },
     "metadata": {
      "needs_background": "light"
     },
     "output_type": "display_data"
    }
   ],
   "source": [
    "import numpy as np\n",
    "from scipy.linalg import solve\n",
    "import matplotlib.pyplot as plt\n",
    "\n",
    "X = np.array([0, 1, 2, 3, 4])\n",
    "Y = np.array([0.98, -3.01, -6.99, -11.01, -15.0])\n",
    "\n",
    "# Calcula os elementos das marizes\n",
    "a11 = np.sum(X**2)\n",
    "a12 = np.sum(X)\n",
    "a22 = len(X)\n",
    "b1 = np.sum(X * Y)\n",
    "b2 = np.sum(Y)\n",
    "\n",
    "# Monta e resolve o sistema\n",
    "A = np.array([[a11, a12], [a12, a22]])\n",
    "print (A)\n",
    "B = np.array([b1,b2])\n",
    "print (B)\n",
    "\n",
    "a = solve(A, B)\n",
    "print (a)\n",
    "\n",
    "# define a funcao g(x) para plotar \n",
    "g = lambda x: a[0]*x+a[1]\n",
    "\n",
    "# cria pontos (x, y) da reta \n",
    "Xr = np.arange(-1, 5, 0.5)\n",
    "\n",
    "# Plota os pontos e a reta\n",
    "plt.plot(X, Y, \".\", Xr, g(Xr), \"-\") \n",
    "plt.grid()\n",
    "plt.show()"
   ]
  },
  {
   "cell_type": "markdown",
   "metadata": {},
   "source": [
    "\n",
    "\n",
    "\n",
    "Para aproximar a função f(x) por um polinômio de grau 2, usamos a seguinte forma geral para $g(x)$\n",
    "\n",
    "$$ g(x)=a_1g_1(x) + a_2g_2(x) + a_3g_3(x) = a_1x^2 + a_2x + a_3$$\n",
    "\n",
    "com $g_1(x) = x^2$, $g_2(x) = x$ e $g_3(x) = 1$.\n",
    "\n",
    "\n",
    "$$ E(a_1, a_2, a_3)= \\sum_{i=1}^{m} [g(x_i)-f(x_i)]^2 $$\n",
    "\n",
    "Procuramos o ponto de mínimo, em que as derivadas parciais são nulas, ou seja\n",
    "\n",
    "$$ \\frac{\\partial E}{\\partial a_1} = 0\\,\\,\\, ,  \\,\\,\\,  \\frac{\\partial E}{\\partial a_2} = 0 \\,\\,\\, e \\,\\,\\,  \\frac{\\partial E}{\\partial a_3} = 0$$ \n",
    "\n",
    "Derivando $ E(a_1, a_2, a_3)$ em relação a $a_1$, $a_2$ e $a_3$ obtemos\n",
    "\n",
    "$$ \\frac{\\partial E}{\\partial a_1} = \\frac{\\partial}{\\partial a_1} \\left[ \\sum_{i=1}^{m}\\left(g(x_i)-f(x_i) \\right)^2 \\right]=0$$\n",
    "\n",
    "\n",
    "ou\n",
    "\n",
    "$$ \\frac{\\partial E}{\\partial a_1} = \\frac{\\partial}{\\partial a_1} \\left\\{\\left[ \\left(\\sum_{i=1}^{m} a_1 x_i^2\n",
    " +  a_2x_i + a_3\\right) - \\left(\\sum_{i=1}^{m} f(x_i) \\right)\\right]^2 \\right\\}=0$$\n",
    " \n",
    "ou, ainda\n",
    " \n",
    "$$ \\frac{\\partial E}{\\partial a_1} =   2 \\left[a_1\\sum_{i=1}^{m} x_i^4 + a_2\\sum_{i=1}^{m} x_i^3 + a_3\\sum_{i=1}^{m} x_i^2   \\right] - 2 \\left[\\sum_{i=1}^{m} f(x_i)x_i^2 \\right] =0$$ \n",
    "\n",
    "analogamente, derivando em relação a $a_2$ \n",
    "\n",
    "$$ \\frac{\\partial E}{\\partial a_2} =   2 \\left[a_1\\sum_{i=1}^{m} x_i^3 +  a_2\\sum_{i=1}^{m} x_i^2 + a_3\\sum_{i=1}^{m} x_i \\right] - 2\\left[\\sum_{i=1}^{m} f(x_i) x_i \\right] =0$$ \n",
    "\n",
    "e em relação a $a_3$\n",
    "\n",
    "$$ \\frac{\\partial E}{\\partial a_3} =   2 \\left[a_1\\sum_{i=1}^{m} x_i^2 +  a_2\\sum_{i=1}^{m} x_i + ma_3 \\right] - 2\\left[\\sum_{i=1}^{m} f(x_i)\\right] =0$$ \n",
    "\n",
    "\n",
    "Assim, as equações obtidas nos permitem montar um sistema linear cuja solução dará os coeficientes $a_1$, $a_2$ e $a_3$ procurados\n",
    "\n",
    "$$ \\begin{cases} \n",
    "              \\left(\\sum_{i=1}^{m} x_i^4\\right)a_1 + \\left(\\sum_{i=1}^{m} x_i^3\\right)a_2 +\\left(\\sum_{i=1}^{m} x_i^2\\right)a_3  = \\sum_{i=1}^{m} f(x_i)x_i^2  \\\\ \n",
    "              \\\\\n",
    "\t         \\left(\\sum_{i=1}^{m} x_i^3\\right)a_1 + \\left(\\sum_{i=1}^{m} x_i^2\\right)a_2 + \\left(\\sum_{i=1}^{m} x_i\\right)a_3 = \\sum_{i=1}^{m} f(x_i)x_i  \\\\\n",
    "             \\\\\n",
    "             \\left(\\sum_{i=1}^{m} x_i^2\\right)a_ 1 + \\left(\\sum_{i=1}^{m} x_i\\right)a_ 2 + \\left(\\sum_{i=1}^{m} 1\\right)a_ 3  = \\sum_{i=1}^{m} f(x_i)\n",
    "   \\end{cases} $$\n",
    "\n",
    "\n",
    "\n",
    "\n",
    "\n",
    "\n",
    "\n",
    "\n",
    "\n"
   ]
  },
  {
   "cell_type": "markdown",
   "metadata": {},
   "source": [
    "### Exemplo\n",
    "p184"
   ]
  },
  {
   "cell_type": "code",
   "execution_count": 2,
   "metadata": {},
   "outputs": [
    {
     "name": "stdout",
     "output_type": "stream",
     "text": [
      "[ 5.08982143  0.05189286 -1.14371429]\n"
     ]
    },
    {
     "data": {
      "image/png": "[encoded data removed]",
      "text/plain": [
       "<Figure size 432x288 with 1 Axes>"
      ]
     },
     "metadata": {
      "needs_background": "light"
     },
     "output_type": "display_data"
    }
   ],
   "source": [
    "import numpy as np\n",
    "from scipy.linalg import solve\n",
    "import matplotlib.pyplot as plt\n",
    "\n",
    "X = np.array([-2., -1., 0, 1., 2., 3.])\n",
    "Y = np.array([19.01, 3.99, -1.00, 4.01, 18.99, 45.00])\n",
    "\n",
    "# Calcula os elementos das marizes\n",
    "A11 = np.sum(X**4)\n",
    "A12 = np.sum(X**3)\n",
    "A13 = np.sum(X**2)\n",
    "A23 = np.sum(X)\n",
    "A33 = len(X)\n",
    "B1 = np.sum(X**2*Y) \n",
    "B2 = np.sum(X*Y)\n",
    "B3 = np.sum(Y)\n",
    "\n",
    "# Monta e resolve o sistema\n",
    "A = np.array([[A11,A12, A13],[A12, A13, A23], [A13, A23, A33]])\n",
    "B = np.array([B1,B2,B3])\n",
    "a = solve(A, B)\n",
    "print (a)\n",
    "\n",
    "# define a funcao g(x) para plotar \n",
    "g = lambda x: a[0]*x*x+a[1]*x+a[2]\n",
    "\n",
    "# cria pontos (x, y) da reta \n",
    "Xr = np.arange(X[0], X[-1]+1, 0.2)\n",
    "Yr = []\n",
    "for x in Xr:\n",
    "    Yr.append(g(x))    \n",
    "\n",
    "# Plota os pontos e a parábola\n",
    "plt.plot(X, Y, \".\", Xr, Yr, \"-\") \n",
    "plt.grid()\n",
    "plt.show()\n"
   ]
  },
  {
   "cell_type": "code",
   "execution_count": 3,
   "metadata": {},
   "outputs": [
    {
     "name": "stdout",
     "output_type": "stream",
     "text": [
      "A = [[115.  27.  19.]\n",
      " [ 27.  19.   3.]\n",
      " [ 19.   3.   6.]]\n",
      "B = [565.   134.98  90.  ]\n",
      "solução: [ 5.08982143  0.05189286 -1.14371429]\n"
     ]
    }
   ],
   "source": [
    "# Monta e resolve o sistema\n",
    "A = np.array([[A11,A12, A13],[A12, A13, A23], [A13, A23, A33]])\n",
    "print ('A =', A)\n",
    "B = np.array([B1,B2,B3])\n",
    "print ('B =', B)\n",
    "a = solve(A, B)\n",
    "print ('solução:',a)"
   ]
  },
  {
   "cell_type": "code",
   "execution_count": 4,
   "metadata": {},
   "outputs": [
    {
     "data": {
      "image/png": "[encoded data removed]",
      "text/plain": [
       "<Figure size 432x288 with 1 Axes>"
      ]
     },
     "metadata": {
      "needs_background": "light"
     },
     "output_type": "display_data"
    }
   ],
   "source": [
    "# define a funcao g(x) para plotar \n",
    "g = lambda x: a[0]*x*x+a[1]*x+a[2]\n",
    "\n",
    "# cria pontos (x, y) da reta \n",
    "Xr = np.arange(X[0], X[-1]+1, 0.2)\n",
    "Yr = []\n",
    "for x in Xr:\n",
    "    Yr.append(g(x))    \n",
    "\n",
    "# Plota os pontos e a reta\n",
    "plt.plot(X, Y, \".\", Xr, Yr, \"-\") \n",
    "plt.grid()\n",
    "plt.show()\n"
   ]
  },
  {
   "cell_type": "markdown",
   "metadata": {},
   "source": [
    "### Forma matricial do sistema\n",
    "Observe que podemos obter o mesmo resultado se fizermos $A= V^TV$ e  $B=V^T y_i$, onde $V$ é a matriz cujas linhas são formadas por $[g_1(x_i) \\,\\, g_n(x_i) \\,\\,... \\,\\,g_n(x_i)\\,\\,]$, $i=1,...,m$. Nesse caso, a solução pode ser obtida fazendo:\n",
    "\n",
    "$$ a = (V^TV)^{-1}V^Ty $$"
   ]
  },
  {
   "cell_type": "markdown",
   "metadata": {},
   "source": [
    "Observe os códigos a seguir:"
   ]
  },
  {
   "cell_type": "code",
   "execution_count": 5,
   "metadata": {},
   "outputs": [
    {
     "name": "stdout",
     "output_type": "stream",
     "text": [
      "V= [[ 4. -2.  1.]\n",
      " [ 1. -1.  1.]\n",
      " [ 0.  0.  1.]\n",
      " [ 1.  1.  1.]\n",
      " [ 4.  2.  1.]\n",
      " [ 9.  3.  1.]]\n"
     ]
    }
   ],
   "source": [
    "V = np.array([X**2, X**1, X**0]).T\n",
    "print ('V=',V)"
   ]
  },
  {
   "cell_type": "code",
   "execution_count": 6,
   "metadata": {},
   "outputs": [
    {
     "name": "stdout",
     "output_type": "stream",
     "text": [
      "A= [[115.  27.  19.]\n",
      " [ 27.  19.   3.]\n",
      " [ 19.   3.   6.]]\n"
     ]
    }
   ],
   "source": [
    "A = np.dot(V.T,V)\n",
    "print ('A=',A)"
   ]
  },
  {
   "cell_type": "code",
   "execution_count": 7,
   "metadata": {},
   "outputs": [
    {
     "name": "stdout",
     "output_type": "stream",
     "text": [
      "B= [565.   134.98  90.  ]\n"
     ]
    }
   ],
   "source": [
    "B = np.dot(V.T,Y)\n",
    "print('B=',B)"
   ]
  },
  {
   "cell_type": "code",
   "execution_count": 8,
   "metadata": {},
   "outputs": [
    {
     "name": "stdout",
     "output_type": "stream",
     "text": [
      "solução: [ 5.08982143  0.05189286 -1.14371429]\n"
     ]
    }
   ],
   "source": [
    "a = np.linalg.solve(A,B)\n",
    "print('solução:', a)"
   ]
  },
  {
   "cell_type": "markdown",
   "metadata": {},
   "source": [
    "Ou ainda, de forma mais compacta,fazendo $ a = (V^TV)^{-1}V^Ty $:"
   ]
  },
  {
   "cell_type": "code",
   "execution_count": 9,
   "metadata": {},
   "outputs": [],
   "source": [
    "# importando as funções para multiplicar e inverter\n",
    "from numpy.linalg import inv\n",
    "from numpy import dot"
   ]
  },
  {
   "cell_type": "code",
   "execution_count": 10,
   "metadata": {},
   "outputs": [
    {
     "name": "stdout",
     "output_type": "stream",
     "text": [
      "solução: [ 5.08982143  0.05189286 -1.14371429]\n"
     ]
    }
   ],
   "source": [
    "# resolvendo o sistema\n",
    "a = inv(dot(V.T,V)).dot(dot(V.T,Y))\n",
    "print('solução:', a)"
   ]
  },
  {
   "cell_type": "code",
   "execution_count": 11,
   "metadata": {},
   "outputs": [],
   "source": [
    "Xg = np.linspace(-3,4)\n",
    "Yg = np.polyval(a,Xg)"
   ]
  },
  {
   "cell_type": "code",
   "execution_count": 12,
   "metadata": {},
   "outputs": [
    {
     "data": {
      "image/png": "[encoded data removed]",
      "text/plain": [
       "<Figure size 432x288 with 1 Axes>"
      ]
     },
     "metadata": {
      "needs_background": "light"
     },
     "output_type": "display_data"
    }
   ],
   "source": [
    "# Plota os pontos e a parábola\n",
    "plt.plot(X, Y, \".\", Xg, Yg, \"-\") \n",
    "plt.grid()\n",
    "plt.show()\n"
   ]
  },
  {
   "cell_type": "markdown",
   "metadata": {},
   "source": [
    "### Generalizando "
   ]
  },
  {
   "cell_type": "markdown",
   "metadata": {},
   "source": [
    "Generalizando o procedimento, podemos determinar os coeficientes $a_1,a_2,...,a_n$ da função$ g(x) = a_1g_1(x)+a_1g_1(x)+...+a_ng_n(x)$ resolvendo o sistema linear formado pelas equações \n",
    "\n",
    "$$ \\frac{\\partial E}{\\partial a_1} = 0, \\,\\,  \\frac{\\partial E}{\\partial a_2} = 0, ..., \\,\\, \\frac{\\partial E}{\\partial a_n} = 0$$ \n",
    "\n",
    "ou seja, \n",
    "\n",
    "$$ \\begin{cases} \n",
    "\\left(\\sum_{i=1}^{m} g_1(x_i)g_1(x_i)\\right)a_1 + \\left(\\sum_{i=1}^{m} g_1(x_i)g_2(x_i)\\right)a_2+...+\\left(\\sum_{i=1}^{m} g_1(x_i)g_n(x_i)\\right)a_n = \\sum_{i=1}^{m} f(x_i)g_1(x_i) \\\\\n",
    "\\left(\\sum_{i=1}^{m} g_2(x_i)g_1(x_i)\\right)a_1 + \\left(\\sum_{i=1}^{m} g_2(x_i)g_2(x_i)\\right)a_2+...+\\left(\\sum_{i=1}^{m} g_2(x_i)g_n(x_i)\\right)a_n = \\sum_{i=1}^{m} f(x_i)g_2(x_i) \\\\\n",
    "\\vdots\\\\\n",
    "\\left(\\sum_{i=1}^{m} g_n(x_i)g_1(x_i)\\right)a_1 + \\left(\\sum_{i=1}^{m} g_n(x_i)g_2(x_i)\\right)a_2+...+\\left(\\sum_{i=1}^{m} g_n(x_i)g_n(x_i)\\right)a_n = \\sum_{i=1}^{m} f(x_i)g_n(x_i) \\\\\n",
    "\\end{cases} $$\n",
    "\n"
   ]
  },
  {
   "cell_type": "code",
   "execution_count": 21,
   "metadata": {},
   "outputs": [],
   "source": [
    "#Exercício 3 (Moodle)\n",
    "\n",
    "x = np.linspace(0.0,1.0, 11)\n",
    "y = np.array([31.,35.,37,33.,28.,20.,16.,15.,18.,23.,31.])"
   ]
  },
  {
   "cell_type": "code",
   "execution_count": 24,
   "metadata": {},
   "outputs": [],
   "source": [
    "g1 = lambda x: np.ones(len(x))\n",
    "g2 = lambda x: np.sin(2*np.pi*x)\n",
    "g3 = lambda x: np.cos(2*np.pi*x)"
   ]
  },
  {
   "cell_type": "code",
   "execution_count": 28,
   "metadata": {},
   "outputs": [],
   "source": [
    "V = np.array([g1(x), g2(x), g3(x)])"
   ]
  },
  {
   "cell_type": "code",
   "execution_count": 30,
   "metadata": {},
   "outputs": [
    {
     "data": {
      "text/plain": [
       "array([25.63862528,  9.85918743,  4.97512193])"
      ]
     },
     "execution_count": 30,
     "metadata": {},
     "output_type": "execute_result"
    }
   ],
   "source": [
    "A = V.dot(V.T)\n",
    "B = np.dot(V,y)\n",
    "a = np.linalg.solve(A,B)"
   ]
  },
  {
   "cell_type": "code",
   "execution_count": null,
   "metadata": {},
   "outputs": [],
   "source": [
    "V = np.array([X**2, X**1, X**0]).T\n",
    "print ('V=',V)"
   ]
  },
  {
   "cell_type": "markdown",
   "metadata": {},
   "source": [
    "## Caso contínuo\n",
    "\n",
    "No caso da função $f(x)$ ser conhecida, podemos ajustar a função $g(x)$ de modo a minimizar \n",
    "\n",
    "$$ E = \\int_a^b [e(x)]^2 dx = \\int_a^b [f(x)-g(x)]^2 dx$$\n",
    "\n",
    "o que leva a necessidade de resolução do sistema linear\n",
    "\n",
    "$$\\left[\\begin{array}{cccc}\n",
    "\t         \\langle g_1,g_1 \\rangle &\\langle g_1,g_2 \\rangle &... &\\langle g_1,g_n \\rangle\\\\ \n",
    "\t         \\langle g_2,g_1 \\rangle &\\langle g_2,g_2 \\rangle &... &\\langle g_2,g_n \\rangle\\\\  \n",
    "             \\vdots \\\\\n",
    "             \\langle g_n,g_1 \\rangle &\\langle g_n,g_2 \\rangle &... &\\langle g_n,g_n \\rangle\\\\ \n",
    "\t    \\end{array} \\right]\n",
    "\\left[\\begin{array}{c} \n",
    "\t         a_1 \\\\ \n",
    "\t         a_2 \\\\\n",
    "             \\vdots \\\\\n",
    "             a_n\n",
    "\t  \\end{array} \\right]\n",
    "=\n",
    "\\left[\\begin{array}{c} \n",
    "\t         \\langle f,g_1 \\rangle \\\\ \n",
    "\t         \\langle f,g_2 \\rangle \\\\ \n",
    "             \\vdots \\\\\n",
    "             \\langle f,g_n \\rangle \\\\ \n",
    "\t  \\end{array} \\right] \n",
    "             $$\n",
    "             \n",
    "Com $\\langle f,g \\rangle$ sendo o produto escalar entre as funções $f$ e $g$, definido como \n",
    "\n",
    "$$ \\langle f,g \\rangle = \\int_a^b f(x)g(x)dx$$"
   ]
  },
  {
   "cell_type": "markdown",
   "metadata": {},
   "source": [
    "### Exemplo \n",
    "p190"
   ]
  },
  {
   "cell_type": "code",
   "execution_count": 15,
   "metadata": {},
   "outputs": [
    {
     "name": "stdout",
     "output_type": "stream",
     "text": [
      "[-0.59854891  0.17695201]\n"
     ]
    },
    {
     "data": {
      "image/png": "[encoded data removed]",
      "text/plain": [
       "<Figure size 432x288 with 1 Axes>"
      ]
     },
     "metadata": {
      "needs_background": "light"
     },
     "output_type": "display_data"
    }
   ],
   "source": [
    "import numpy as np\n",
    "from scipy.linalg import solve\n",
    "import matplotlib.pyplot as plt\n",
    "from scipy.integrate import quad\n",
    "import math\n",
    "from numpy import exp\n",
    "\n",
    "g1g1 = lambda x: 1\n",
    "g1g2 = lambda x: x\n",
    "g2g2 = lambda x: x**2\n",
    "fg1 = lambda x: -math.exp(-0.75*x)\n",
    "fg2 = lambda x: -x*math.exp(-0.75*x)\n",
    "\n",
    "\n",
    "\n",
    "\n",
    "# Calcula os elementos das marizes\n",
    "a11 = quad(g1g1, 1, 3)[0]\n",
    "a12 = quad(g1g2, 1, 3)[0]\n",
    "a22 = quad(g2g2, 1, 3)[0]\n",
    "b1 = quad(fg1, 1, 3)[0]\n",
    "b2 = quad(fg2, 1, 3)[0]\n",
    "\n",
    "\n",
    "\n",
    "# Monta e resolve o sistema\n",
    "A = np.array([[a11, a12], [a12, a22]])\n",
    "\n",
    "B = np.array([b1,b2])\n",
    "\n",
    "a = solve(A, B)\n",
    "print (a)\n",
    "\n",
    "# define a funcao g(x) para plotar \n",
    "g = lambda x: a[0]+a[1]*x\n",
    "\n",
    "# cria pontos (x, y) da reta \n",
    "Xr = np.arange(1, 3, 0.2)\n",
    "#print (Xr)\n",
    "\n",
    "#Y = np.exp(X)\n",
    "\n",
    "# Plota os pontos e a reta\n",
    "plt.plot(Xr, -np.exp(-0.75*Xr), \"r-\", Xr, g(Xr), \"b-\") \n",
    "plt.grid()\n",
    "plt.show()"
   ]
  },
  {
   "cell_type": "markdown",
   "metadata": {},
   "source": [
    "### Exercícios\n"
   ]
  },
  {
   "cell_type": "markdown",
   "metadata": {},
   "source": [
    "**1.**  Encontre o polinômio $p(x) = a_1 + a_2x + a_3x^2$ que melhor se ajusta no sentido de mínimos quadrados aos pontos:\n",
    "\n",
    "$$\n",
    "    \\begin{array}{l|cccc}\n",
    "    \\hline\n",
    "      i & 1 & 2 & 3 & 4 \\\\\\hline\n",
    "      x_i & -1,50 & -0,50 & 1,25 & 1,50\\\\\n",
    "      y_i & 1,15 & -0,37 & 0,17 & 0,94\\\\\n",
    "    \\hline\n",
    "  \\end{array}\n",
    "$$\n",
    "\n",
    "_Resposta:_ $a_1 = -0,67112$, $a_2 = -0,12123$, $a_3 = 0,73907$."
   ]
  },
  {
   "cell_type": "markdown",
   "metadata": {},
   "source": [
    "**2.** Encontrar a parábola $y=ax^2+bx+c$ que melhor aproxima o seguinte conjunto de dados:\n",
    "$$\n",
    "  \\begin{array}{l|ccccc}\n",
    "  \\hline\n",
    "      i & 1 & 2 & 3 & 4 & 5 \\\\\\hline\n",
    "      x_i & 0,01 & 1,02 & 2,04 & 2,95 & 3,55\\\\\n",
    "      y_i & 1,99 & 4,55 & 7,20 & 9,51 & 10,82\\\\\n",
    "    \\hline\n",
    "  \\end{array}\n",
    "$$\n",
    "_Resposta:_     $y=-0,0407898x^2+ 2,6613293x+ 1,9364598$"
   ]
  },
  {
   "cell_type": "markdown",
   "metadata": {
    "collapsed": true
   },
   "source": [
    "\n",
    "**3.** Dado o seguinte conjunto de dados\n",
    "$$\n",
    "  \\begin{array}{l|ccccccccccc}\n",
    "  \\hline\n",
    "x_i & 0,0 & 0,1 & 0,2 & 0,3 & 0,4 & 0,5 & 0,6 & 0,7 & 0,8 & 0,9 & 1,0\\\\\\hline\n",
    "      y_i & 31 & 35 & 37 & 33 & 28 & 20 & 16 & 15 & 18 & 23 & 31\\\\\n",
    "    \\hline\n",
    "  \\end{array}\n",
    "$$\n",
    "\n",
    "a) Encontre a função do tipo $f(x)=a+b\\sin(2\\pi x)+c\\cos(2\\pi x)$ que melhor aproxima os valores dados.\n",
    "\n",
    "b) Encontre a função do tipo $f(x)=a+bx+cx^2+dx^3$ que melhor aproxima os valores dados.\n",
    "\n",
    "\n",
    "_Resposta:_    a) $a=25,638625$, $b=9,8591874$, $c=4,9751219$; b)$a=31,475524$, $b=65,691531$, $c=-272,84382$, $d=208,23621$.\n"
   ]
  },
  {
   "cell_type": "markdown",
   "metadata": {},
   "source": [
    "Fonte: https://www.ufrgs.br/reamat/CalculoNumerico/livro-py/adc-ajuste_linear_geral.html"
   ]
  },
  {
   "cell_type": "code",
   "execution_count": null,
   "metadata": {},
   "outputs": [],
   "source": []
  }
 ],
 "metadata": {
  "kernelspec": {
   "display_name": "Python 3",
   "language": "python",
   "name": "python3"
  },
  "language_info": {
   "codemirror_mode": {
    "name": "ipython",
    "version": 3
   },
   "file_extension": ".py",
   "mimetype": "text/x-python",
   "name": "python",
   "nbconvert_exporter": "python",
   "pygments_lexer": "ipython3",
   "version": "3.8.5"
  }
 },
 "nbformat": 4,
 "nbformat_minor": 1
}
