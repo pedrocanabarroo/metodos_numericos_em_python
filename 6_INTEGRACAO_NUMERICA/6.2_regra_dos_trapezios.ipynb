{
 "cells": [
  {
   "cell_type": "markdown",
   "id": "4f378db0-e498-4c7b-b5bc-ff81bf6a8eb3",
   "metadata": {},
   "source": [
    "## 6.2 Regra dos trapézios \n",
    "\n",
    "## 6.2.1 Regra dos trapézios em uma variável \n",
    "\n",
    "Consiste am aproximar a integral da função em um intervalo [𝑎,𝑏] pela integral do polinômio de grau 1 que passa pelos pontos (𝑎,𝑓(𝑎)) e (𝑏,𝑓(𝑏)). Se 𝑓(𝑥)>0 em [𝑎,𝑏] a área entre o gráfico da função e o eixo 𝑥 é aproximado pela área do trapézio de altura ℎ=𝑏−𝑎 e bases 𝑓(𝑎) e 𝑓(𝑏).\n",
    "\n",
    "Considere uma função $f(x)$ definida nos pontos $x_0$ e $x_1$ no intervalo $[a,b]$. O polinômio de Lagrange para  esses pontos, considerando a mudança de variável $u = \\frac{x-x_0}{h}$, é dado por\n",
    "\n",
    "$$P(u) =  f(x_0) (1-u) + f(x_1)(u)$$\n",
    "\n",
    "e a integral pode ser aproximada como segue \n",
    "\n",
    "$$\\int_{x_0}^{x_n} f(x) dx \\approx \\int_{x_0}^{x_1} P_1(x) dx= h \\int_{0}^{1} P_1(u) du$$\n",
    "\n",
    "ou, ainda,\n",
    "\n",
    "$$h \\int_{0}^{1} P_1(u) du  = h \\int_{0}^{1} [f(x_0) (1-u) + f(x_1)(u)] du = h f(x_0) \\int_{0}^{1} (1-u) du + hf(x_1)\\int_{0}^{1} (u) du$$\n",
    "\n",
    "que resulta em \n",
    "\n",
    "$$\\int_{x_0}^{x_n} f(x) dx \\approx \\frac{h}{2} [f(x_0)+f(x_1)]$$\n",
    "\n",
    "ou seja, tem-se aqui a fórmula da área do trapézio.\n",
    "\n",
    "\n",
    "Graficamente, tem-se\n",
    "\n",
    "RiemannLeft.png\n",
    "\n",
    "\n",
    "\n",
    "<img src=\"https://raw.githubusercontent.com/tiagoburiol/metodos_numericos_em_python/refs/heads/main/6_INTEGRACAO_NUMERICA/imagens/trapezio.png\" width=\"400\">\n",
    "Figura 6.3 - Interpretação geométrica da regra dos trapézios\n",
    "\n",
    "\n",
    "Um **limitante superior** para o erro será dado por \n",
    "\n",
    "$$|E_1| \\leq \\frac{h^3}{12} max.\\{|f^{(2)}(x)|, x_0 \\leq x \\leq x_1 \\}$$\n",
    "\n",
    "\n",
    "A **regra dos trapézios repetida** (ou generalizada), consiste na subdivisão do intervalo $[a,b]$ em $n$ subintervalos iguais, de amplitude $h=\\frac{x_n-x_0}{n}$, $x_0=a$ e $x_n=b$ e na aplicação da regra dos trapézios repetidamente a cada dois pontos consecutivos.\n",
    "\n",
    "Assim, temos \n",
    "\n",
    "$$\\int_{x_0}^{x_n} f(x) dx \\approx \\frac{h}{2} [f(x_0)+f(x_1)] + \\frac{h}{2} [f(x_2)+f(x_2)] + ... + \\frac{h}{2} [f(x_{n-1})+f(x_n)]=$$\n",
    "\n",
    "$$= \\frac{h}{2} [f(x_0)+ 2f(x_1) + 2f(x_2)+...+2f(x_{n-1})+f(x_n)] =$$\n",
    "\n",
    "$$= \\frac{h}{2} \\{f(x_0)+ 2[f(x_1) + f(x_2)+...+f(x_{n-1})]+f(x_n)\\}$$\n",
    "\n",
    "E o **limitante superior** para o erro será dado por\n",
    "\n",
    "$$|E_t| \\leq \\frac{h^2}{12}(x_n-x_0) max.\\{|f^{(2)}(x)|, x_0 \\leq x \\leq x_n \\}$$"
   ]
  },
  {
   "cell_type": "markdown",
   "id": "7626bcb5-f5ea-4fad-94f6-5c34b15c7458",
   "metadata": {},
   "source": [
    "**Exemplo 6.2.1:** Vamos calcular o valor aproximado da integral \n",
    "\n",
    "$$\\int_{1.5}^{5.5} \\frac{1}{x}dx$$\n",
    "\n",
    "usando a regra dos trapézios.\n",
    "\n",
    "_Solução:_ Basta fazer  $$\\int_{1.5}^{5.5} \\frac{1}{x} dx \\approx \\frac{4}{2} [f(1.5)+f(5.5)] = 2 \\left( \\frac{1}{1.5} + \\frac{1}{5.5} \\right) \\approx 1.697$$\n",
    "\n",
    "\n",
    "<img src=\"https://raw.githubusercontent.com/tiagoburiol/metodos_numericos_em_python/refs/heads/main/6_INTEGRACAO_NUMERICA/imagens/trapezioExemplo.png\" width=\"400\">\n",
    "\n",
    "Resolvendo analiticamente o valor exato é $ln(5.5)$ - $ln(1.5)$ que pode ser calculado usando  uma calculadora obtendo-se $1.2992829841302609$. O valor obtido pela regra do trapézio é maior, como pode ser verificado observando na figura, comparando-se as áreas. Vamos usar a regra dos trapézios repetida para 5, 10 e 100 subintervalos para ver como fica."
   ]
  },
  {
   "cell_type": "code",
   "execution_count": 1,
   "id": "6f8c1572-2531-43ed-b49a-e019cfa0d944",
   "metadata": {},
   "outputs": [],
   "source": [
    "import numpy as np"
   ]
  },
  {
   "cell_type": "code",
   "execution_count": 2,
   "id": "2ffb789d-d99a-4d89-9f08-d4b16940ab91",
   "metadata": {},
   "outputs": [
    {
     "name": "stdout",
     "output_type": "stream",
     "text": [
      "n= 5 , I= 1.3206255135651455\n",
      "n= 10 , I= 1.304727563368882\n",
      "n= 100 , I= 1.2993378314867685\n"
     ]
    }
   ],
   "source": [
    "x0 = 1.5; xn = 5.5 \n",
    "f = lambda x: 1/x\n",
    "\n",
    "for n in [5,10,100]:\n",
    "    h = (xn-x0)/n\n",
    "    xi = np.linspace(x0, xn, n+1)   \n",
    "    It = h*((f(xi[0])+f(xi[-1]))/2 + np.sum(f(xi[1:-1])))\n",
    "    print (\"n=\",n,\", I=\",It)"
   ]
  },
  {
   "cell_type": "markdown",
   "id": "0112f1cd-7fd5-44c2-b97e-a7c480972ba6",
   "metadata": {},
   "source": [
    "A biblioteca `numpy` já traz uma implementação da regra dos trapézios. Veja como usar no exemplo a seguir com os pontos, o espaçameto e a função definidos acima."
   ]
  },
  {
   "cell_type": "code",
   "execution_count": 3,
   "id": "ce852b9f-6f9a-4aa6-83c5-a70d958296ff",
   "metadata": {},
   "outputs": [
    {
     "data": {
      "text/plain": [
       "1.2993378314867685"
      ]
     },
     "execution_count": 3,
     "metadata": {},
     "output_type": "execute_result"
    }
   ],
   "source": [
    "np.trapz(f(xi),dx=h)"
   ]
  },
  {
   "cell_type": "markdown",
   "id": "4dca3166-fda2-4b1b-bc1e-7966b383ceb2",
   "metadata": {},
   "source": [
    "A biblioteca `scipy` também possui funções para integrais definidas. Para saber mais pesquise por  `scipy.integrate`. "
   ]
  },
  {
   "cell_type": "markdown",
   "id": "e6713a3a-e060-4c1a-a1d2-aef760e0b1d5",
   "metadata": {},
   "source": [
    "**Exemplo 6.2.2:** Vamos calcular o valor aproximado da integral \n",
    "\n",
    "$$\\int_1^4 \\sqrt{x}dx$$\n",
    "\n",
    "usando a regra dos trapézios generalizada para 2, 4 e 6 subintervalos e obter um limitante superior para o erro."
   ]
  },
  {
   "cell_type": "code",
   "execution_count": 4,
   "id": "37af39b2-9536-4062-b54d-5d6ebad89dbe",
   "metadata": {},
   "outputs": [
    {
     "data": {
      "text/plain": [
       "6.772340295647981"
      ]
     },
     "execution_count": 4,
     "metadata": {},
     "output_type": "execute_result"
    }
   ],
   "source": [
    "f = lambda x: np.sqrt(x)\n",
    "xi = np.linspace(1, 5, 6)\n",
    "np.trapz(f(xi), xi)"
   ]
  },
  {
   "cell_type": "code",
   "execution_count": 5,
   "id": "6d1e9aa2-4fee-466e-9a20-0392532e3f8a",
   "metadata": {},
   "outputs": [
    {
     "data": {
      "text/plain": [
       "6.78322070363297"
      ]
     },
     "execution_count": 5,
     "metadata": {},
     "output_type": "execute_result"
    }
   ],
   "source": [
    "xi = np.linspace(1, 5, 11)\n",
    "np.trapz(f(xi), xi)"
   ]
  },
  {
   "cell_type": "code",
   "execution_count": 6,
   "id": "5d9cf837-3a07-421d-9205-a74c7de39bb8",
   "metadata": {},
   "outputs": [
    {
     "data": {
      "text/plain": [
       "6.786856407214704"
      ]
     },
     "execution_count": 6,
     "metadata": {},
     "output_type": "execute_result"
    }
   ],
   "source": [
    "xi = np.linspace(1, 5, 101)\n",
    "np.trapz(f(xi), xi)"
   ]
  },
  {
   "cell_type": "markdown",
   "id": "eaef40aa-4189-412a-bcbb-f8931266e41a",
   "metadata": {},
   "source": [
    "### 6.2.2 Regra dos trapézios para integral dupla\n",
    "\n",
    " ([Arenales e Darezo, 2016](https://integrada.minhabiblioteca.com.br/reader/books/9788522112821/pageid/257)) Sabemos que a **regra dos trapézios** repetida (ou generalizada) para integração numérica de uma função de uma variável no intervalo $[a,b]$ é dada por \n",
    "\n",
    "$$\\int_{x_0}^{x_n} F(x) dx \\approx \\frac{h}{2} \\{F(x_0)+ 2[F(x_1) + F(x_2)+...+F(x_{n-1})]+F(x_n)\\}$$\n",
    "\n",
    "em que $n$ é o número de subintervalos, de amplitudes iguais a  $h=\\frac{x_n-x_0}{n}$, com $x_0=a$ e $x_n=b$. \n",
    "\n",
    "Para integrais duplas fazemos\n",
    "\n",
    "$$\n",
    "F\\left(x_i\\right)=\\int_c^d f\\left(x_i, y\\right) d y \\simeq \\frac{h}{2}\\left[f\\left(x_i, y_0\\right)+2\\left(f\\left(x_i, y_1\\right)+\\ldots+f\\left(x_i, y_{n-1}\\right)\\right)+f\\left(x_i, y_n\\right)\\right]\n",
    "$$\n",
    "\n",
    "com $i=0, \\ldots, n$.\n",
    "\n",
    "Os $(n+1)$ valores $F\\left(x_i\\right)$ podem ser calculados por qualquer método de integração numérica e, com estes valores, podemos calcular o valor aproximado de\n",
    "\n",
    "$$\n",
    "I=\\int_a^b \\int_c^d f(x, y) d y d x\n",
    "$$"
   ]
  },
  {
   "cell_type": "markdown",
   "id": "dca1dee8-f0b7-4468-ab5a-a3110a12c301",
   "metadata": {},
   "source": [
    "**Exemplo 6.2.3:** ([Arenales e Darezo, 2016](https://integrada.minhabiblioteca.com.br/reader/books/9788522112821/pageid/257)) Calcule o valor da integral dupla\n",
    "\n",
    "$$\n",
    "\\int_{0.1}^{1.0} \\int_{0.1}^{0.5} \\ln (x+y) d y d x\n",
    "$$\n",
    "\n",
    "usando a regra dos trapézios generalizada para $h_x=0.3 \\operatorname{com}$ os pontos $x_0=0.1$, $x_1=0.4, x_2=0.7$ e $x_3=1.0$ e $F\\left(x_i\\right), i=0, \\ldots, 3$, com $h_y=0.1$ e $y_0=0.1, y_1=0.2, y_2=0.3, y_3=0.4, y_4=0.5$."
   ]
  },
  {
   "cell_type": "code",
   "execution_count": 7,
   "id": "2951569a-016b-4321-979f-cc87c6c223bc",
   "metadata": {},
   "outputs": [
    {
     "name": "stdout",
     "output_type": "stream",
     "text": [
      "[0.1 0.4 0.7 1. ]\n",
      "[0.1 0.2 0.3 0.4 0.5]\n"
     ]
    }
   ],
   "source": [
    "# dados do problema\n",
    "x0 = 0.1; xn = 1.0\n",
    "y0 = 0.1; yn = 0.5\n",
    "nx = 3\n",
    "ny = 4\n",
    "\n",
    "hx = (xn-x0)/nx\n",
    "hy = (yn-y0)/ny\n",
    "\n",
    "x = np.arange(x0,xn+hx,hx)\n",
    "y = np.arange(y0,yn+hy,hy)\n",
    "\n",
    "print(x)\n",
    "print(y)"
   ]
  },
  {
   "cell_type": "code",
   "execution_count": 8,
   "id": "d1b9da32-6490-4da2-b93a-0f3cc5fd4128",
   "metadata": {},
   "outputs": [],
   "source": [
    "f = lambda x,y: np.log(x+y)"
   ]
  },
  {
   "cell_type": "code",
   "execution_count": 9,
   "id": "775a8a15-d2f8-49c8-9f24-b54142ee0cdf",
   "metadata": {},
   "outputs": [
    {
     "name": "stdout",
     "output_type": "stream",
     "text": [
      "[-0.3873542484860082, -0.14898979671278184, -0.0030461333113628686, 0.1031545701838904]\n"
     ]
    }
   ],
   "source": [
    "Fx = []\n",
    "for i in range(len(x)):\n",
    "    Fxi = (hy/2)*(f(x[i],y[0]) + \n",
    "                  2*np.sum(f(x[i],y[1:-1])) + \n",
    "                  f(x[i],y[-1]))\n",
    "    Fx.append(Fxi)\n",
    "    \n",
    "print(Fx)"
   ]
  },
  {
   "cell_type": "code",
   "execution_count": 10,
   "id": "d62d8851-855c-4aa5-8cab-18567bbb4d32",
   "metadata": {},
   "outputs": [
    {
     "name": "stdout",
     "output_type": "stream",
     "text": [
      "I = -0.08824073075256109\n"
     ]
    }
   ],
   "source": [
    "It = (hx/2)*((Fx[0] + 2*np.sum(Fx[1:-1]) + Fx[-1]))\n",
    "print (\"I =\",It)"
   ]
  },
  {
   "cell_type": "markdown",
   "id": "eb8cdde0-4824-4008-b0a0-b1b1ffd74acb",
   "metadata": {},
   "source": [
    "**Exemplo 6.2.4:** *(Integração dupla pela regra dos trapézios)* Vamos agora usar a regra dos trapézios para calcular a integral dupla \n",
    "$$\\int_0^2 \\int_0^2 (16-x^2-2y^2) dxdy .$$\n",
    "\n",
    "Vamos criar uma função para a regra dos trapéxios generalizada:"
   ]
  },
  {
   "cell_type": "code",
   "execution_count": 14,
   "id": "1f80905f-c826-4390-a7ba-22761030dd95",
   "metadata": {},
   "outputs": [],
   "source": [
    "def trapz2D(f,x0,xn,hx,y0,yn,hy):\n",
    "    x = np.arange(x0,xn+hx,hx)\n",
    "    y = np.arange(y0,yn+hy,hy)\n",
    "\n",
    "    Fx = []\n",
    "    for i in range(len(x)):\n",
    "        Fxi = (hy/2)*(f(x[i],y[0]) + \n",
    "                      2*np.sum(f(x[i],y[1:-1])) + \n",
    "                      f(x[i],y[-1]))\n",
    "        Fx.append(Fxi)\n",
    "    Fx = np.array(Fx)\n",
    "    It = (hx/2)*((Fx[0] + 2*np.sum(Fx[1:-1]) + Fx[-1]))\n",
    "    return It"
   ]
  },
  {
   "cell_type": "code",
   "execution_count": 15,
   "id": "b54e0c55-e337-4f44-bca5-13debbb0183d",
   "metadata": {},
   "outputs": [
    {
     "data": {
      "text/plain": [
       "47.5"
      ]
     },
     "execution_count": 15,
     "metadata": {},
     "output_type": "execute_result"
    }
   ],
   "source": [
    "# com hx = hy = 0.5\n",
    "trapz2D(lambda x,y: 16-x**2-2*y**2,0,2,0.5,0,2,0.5)"
   ]
  },
  {
   "cell_type": "code",
   "execution_count": 13,
   "id": "4293e651-064a-4880-84c3-9930c659eab5",
   "metadata": {},
   "outputs": [
    {
     "data": {
      "text/plain": [
       "47.92"
      ]
     },
     "execution_count": 13,
     "metadata": {},
     "output_type": "execute_result"
    }
   ],
   "source": [
    "# com hx = hy = 0.2\n",
    "trapz2D(lambda x,y: 16-x**2-2*y**2,0,2,0.2,0,2,0.2)"
   ]
  },
  {
   "cell_type": "markdown",
   "id": "b6473a3b-7a49-4e4a-91af-2c1729171e21",
   "metadata": {},
   "source": [
    "#### Exercícios:\n",
    "\n",
    "**1.** ([Fonte](https://integrada.minhabiblioteca.com.br/reader/books/9788522123414/pageid/238)) Obtenha uma aproximação das seguintes integrais utilizando a regra dos trapézios.\n",
    "\n",
    "a) $\\int_{0,5}^1 x^4 d x$\n",
    "\n",
    "b) $\\int_0^{0.5} \\frac{2}{x-4} d x$\n",
    "\n",
    "c) $\\int_1^{1,5} x^2 \\ln x d x$\n",
    "\n",
    "d) $\\int_0^1 x^2 e^{-x} d x$\n",
    "\n",
    "e) $\\int_1^{1,6} \\frac{2 x}{x^2-4} d x$\n",
    "\n",
    "f) $\\int_0^{0,35} \\frac{2}{x^2-4} d x$\n",
    "\n",
    "g) $\\int_0^{\\pi / 4} x \\operatorname{sen} x d x$\n",
    "\n",
    "h) $\\int_0^{\\pi / 4} e^{3 x} \\operatorname{sen} 2 x d x$"
   ]
  },
  {
   "cell_type": "markdown",
   "id": "78c07437-819a-4348-84cc-1015cda1a892",
   "metadata": {},
   "source": [
    "**2.** ([Fonte](https://integrada.minhabiblioteca.com.br/reader/books/9788580555691/pageid/571)) Suponha que uma força para cima de resistência do ar em um objeto em queda livre seja proporcional ao quadrado da velocidade. Nesse caso, a velocidade pode ser calculada por\n",
    "\n",
    "$$\n",
    "v(t)=\\sqrt{\\frac{g m}{c_d}} \\tanh \\left(\\sqrt{\\frac{g c_d}{m}} t\\right)\n",
    "$$\n",
    "em que $c_d$ é o coeficiente de arrasto de segunda ordem. (a) Se $g$ $=9,81 \\mathrm{~m} / \\mathrm{s}^2, m=68,1 \\mathrm{~kg}$ e $c_d=0,25 \\mathrm{~kg} / \\mathrm{m}$, use integração analítica para determinar quanto o objeto cai em 10 s . (b) Faça o mesmo cálculo, mas calcule a integral com a regra dos trapézios com segmentos múltiplos. Use um $n$ suficientemente grande para que você consiga uma acurácia de três algarismos significativos."
   ]
  },
  {
   "cell_type": "markdown",
   "id": "fbc8786c-54e3-4d50-8a47-f12a7dd0999f",
   "metadata": {},
   "source": [
    "**3.** Calcule a integral dos seguintes dados tabulares com a regra dos trapézios\n",
    "\n",
    "\\begin{array}{l|rrrrrrr}\n",
    "x & -2 & 0 & 2 & 4 & 6 & 8 & 10 \\\\\n",
    "\\hline f(x) & 35 & 5 & -10 & 2 & 5 & 3 & 20\n",
    "\\end{array}"
   ]
  },
  {
   "cell_type": "markdown",
   "id": "a3262258-e6d4-470d-b0cf-2a14d45b9e13",
   "metadata": {},
   "source": [
    "**4.** A função $f(x)=2 e^{-1,5 x}$ pode ser usada para gerar a seguinte tabela de dados desigualmente espaçados:\n",
    "\n",
    "\\begin{array}{l|ccccccc}\n",
    "x & 0 & 0,05 & 0,15 & 0,25 & 0,35 & 0,475 & 0,6 \\\\\n",
    "\\hline f(x) & 2 & 1,8555 & 1,5970 & 1,3746 & 1,1831 & 0,9808 & 0,8131\n",
    "\\end{array}\n",
    "\n",
    "Calcule a integral de $a=0$ a $b=0,6$ usando a regra do trapézio e calcule o erro relativo porcentual."
   ]
  },
  {
   "cell_type": "markdown",
   "id": "ed2d346b-2ca3-48f7-8d32-629c9ece507b",
   "metadata": {},
   "source": [
    "**5.** De um velocímetro de um automóvel foram obtidas as seguintes leituras de velocidade instantânea:\n",
    "$$\n",
    "\\begin{array}{l|ccccccccccc}\n",
    "\\hline \\mathrm{t}(\\mathrm{min}) & 0 & 4 & 8 & 12 & 16 & 20 & 24 & 28 & 32 & 36 & 40 \\\\\n",
    "\\hline \\mathrm{v}(\\mathrm{km} / \\mathrm{h}) & 24 & 23 & 31 & 36 & 40 & 45 & 48 & 52 & 55 & 60 & 62 \\\\\n",
    "\\hline\n",
    "\\end{array}\n",
    "$$\n",
    "Calcule a distância, depois de 40 minutos, em quilômetros, percorrida pelo automóvel utilizando a regra dos trapézios generalizada."
   ]
  },
  {
   "cell_type": "markdown",
   "id": "fe9ea22a-af09-42ce-a3af-4ded5f93b012",
   "metadata": {},
   "source": [
    "**6.** Calcule a seguinte integral dupla:\n",
    "\n",
    "$$\n",
    "\\int_{-1}^1 \\int_0^2\\left(x^2-2 y^2+x y^3\\right) d x d y\n",
    "$$\n",
    "(a) analiticamente; (b) usando a aplicação múltipla da regra do trapézio com $n=5$, $10$ e $20$."
   ]
  },
  {
   "cell_type": "markdown",
   "id": "5b5f636a-34c2-406c-928b-a4a0ddb9ac2d",
   "metadata": {},
   "source": [
    "**7.** Calcule o valor aproximado da integral dupla\n",
    "\n",
    "$$\n",
    "\\int_0^1 \\int_0^5 e^{(x+y)} d y d x\n",
    "$$\n",
    "\n",
    "usando a regra dos trapézios generalizada com $h=0.2$ e $h=0.1$."
   ]
  },
  {
   "cell_type": "markdown",
   "id": "6b24e3e8-67f7-43c3-8524-5bec274f95a0",
   "metadata": {},
   "source": []
  },
  {
   "cell_type": "code",
   "execution_count": null,
   "id": "0c424e08-c674-41b3-b232-97e86fa23d84",
   "metadata": {},
   "outputs": [],
   "source": []
  },
  {
   "cell_type": "code",
   "execution_count": null,
   "id": "92a55b9d-d328-4e88-9d3b-dd33355e9a09",
   "metadata": {},
   "outputs": [],
   "source": []
  }
 ],
 "metadata": {
  "kernelspec": {
   "display_name": "Python 3 (ipykernel)",
   "language": "python",
   "name": "python3"
  },
  "language_info": {
   "codemirror_mode": {
    "name": "ipython",
    "version": 3
   },
   "file_extension": ".py",
   "mimetype": "text/x-python",
   "name": "python",
   "nbconvert_exporter": "python",
   "pygments_lexer": "ipython3",
   "version": "3.12.4"
  }
 },
 "nbformat": 4,
 "nbformat_minor": 5
}
