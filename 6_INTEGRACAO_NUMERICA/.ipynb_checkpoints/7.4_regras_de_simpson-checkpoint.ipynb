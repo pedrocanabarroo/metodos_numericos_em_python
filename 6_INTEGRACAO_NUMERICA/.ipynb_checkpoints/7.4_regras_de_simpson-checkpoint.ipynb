{
 "cells": [
  {
   "cell_type": "markdown",
   "metadata": {},
   "source": [
    "# 7.2 Regras de Simpson \n",
    "\n",
    "## Regra 1/3 de Simpson\n",
    "\n",
    "Considere uma função $f(x)$ definida em três pontos distintos $x_0$, $x_1$ e $x_2$ equidistantes no intervalo $[a,b]$. O polinômio de Lagrange para esses pontos, considerando a mudança de variável $u = \\frac{x-x_0}{h}$ é dado por\n",
    "\n",
    "$$ P_2(u) =  f(x_0) \\left( \\frac{u^2-3u+2}{2}\\right) + f(x_1)\\left( \\frac{u^2-2u}{-1}\\right) + f(x_2)\\left( \\frac{u^2-u}{2}\\right)$$\n",
    "\n",
    "A integral pode ser aproximada como segue \n",
    "\n",
    "$$ \\int_{x_0}^{x_n} f(x) dx \\approx \\int_{x_0}^{x_2} P_2(x) dx= h \\int_{0}^{2} P_2(u) du $$\n",
    "\n",
    "ou, ainda,\n",
    "\n",
    "$$ h \\int_{0}^{2} P_2(u) du  = h f(x_0)(u) \\Big|_0^2 + h (f(x_1)-f(x_0))\\left( \\frac{u^2}{2} \\right) \\Big|_0^2\n",
    "+ \\frac{h}{2}(f(x_ 2)-2f(x_1)+f(x_ 0)) \\left(\\frac{u^3}{3}-\\frac{u^2}{2} \\right) \\Big|_0^2 =$$\n",
    "\n",
    "$$ = 2hf(x_0)+2hf(x_1)-2hf(x_0)+\\frac{h}{3} ( f(x_2)-2f(x_1)+f(x_0)) = $$\n",
    "\n",
    "$$ \\frac{h}{3}[f(x_0)+4f(x_1)+f(x_2)]$$\n",
    "\n",
    "Assim, temos \n",
    "\n",
    "$$ \\int_{x_0}^{x_n} f(x) dx \\approx \\frac{h}{3}[f(x_0)+4f(x_1)+f(x_2)]$$\n",
    "\n",
    "conhecida como **Regra 1/3 de Simpson**.\n",
    "\n",
    "\n",
    "Graficamente, tem-se\n",
    "<img src=\"https://github.com/tiagoburiol/NUMETHODS/raw/master/7_INTEGRACAO_NUMERICA/imagens/Simpson13.jpg\" width=\"480\">\n",
    "\n",
    "\n",
    "### Erro na regra 1/3 de Simpson\n",
    "\n",
    "O erro na regra 1/3 de Simpson será dado por\n",
    "\n",
    "$$E_2 = \\frac{-h^5}{90}f^{(4)}(\\xi)$$\n",
    "\n",
    "com $x_0 \\leq \\xi \\leq x_2$.\n",
    "\n",
    "Um **limitante superior** para o erro será dado por \n",
    "\n",
    "$$ |E_2| \\leq \\frac{h^5}{90} max.\\{|f^{(4)}(x)|, x_0 \\leq \\xi \\leq x_2 \\}$$"
   ]
  },
  {
   "cell_type": "markdown",
   "metadata": {},
   "source": [
    "### Exemplo 1\n",
    "Calcule o valor aproximado da integral $\\int_{0.5}^{1.5}cos(x)dx$ usando a regra 1/3 de Simpson. "
   ]
  },
  {
   "cell_type": "code",
   "execution_count": 1,
   "metadata": {},
   "outputs": [
    {
     "name": "stdout",
     "output_type": "stream",
     "text": [
      "xi= [ 0.5  1.   1.5]\n",
      "f(xi)= [ 0.87758256  0.54030231  0.0707372 ]\n",
      "Resultado 1/3 Simpson:  0.518254831172\n"
     ]
    }
   ],
   "source": [
    "import numpy as np\n",
    "# Dados do enunciado\n",
    "x0 = 0.5; xn = 1.5 \n",
    "n = 2\n",
    "h = (xn-x0)/n\n",
    "\n",
    "f = lambda x: np.cos(x)\n",
    "\n",
    "# Criando n+1 pontos igualmente espacados \n",
    "X = np.linspace(x0, xn, n+1)\n",
    "print (\"xi=\",X)\n",
    "print (\"f(xi)=\",f(X))\n",
    "\n",
    "# Regra 1/3 de Simpson \n",
    "Is = (h/3)*(f(X[0]) + 4*f(X[1]) + f(X[2]))\n",
    "print (\"Resultado 1/3 Simpson: \", Is)"
   ]
  },
  {
   "cell_type": "markdown",
   "metadata": {},
   "source": [
    "## Regra 1/3 de Simpson generalizada\n",
    "Consiste em subdividirmos o intervalo de integração $[a,b]$ em $n$ subintervalos de ampliture $h$, que que $n$ é um número par de subintervalos, com $x_0=a$ e $x_n=b$, então, aplicando a regra 1/3 de Simpson a cada 2 subintervalos consecutivos, obtemos\n",
    "\n",
    "$$ \\int_{x_0}^{x_n} f(x) dx \\approx \\frac{h}{3} [f(x_0)+4f(x_1)+f(x_2)] + \\frac{h}{3} [f(x_2)+4f(x_3)+f(x_4)] + ... + \\frac{h}{3} [f(x_{n-2})+4f(x_{n-1})+f(x_n)]=$$\n",
    "\n",
    "$$ = \\frac{h}{3} [f(x_0)+ 4f(x_1) + 2f(x_2)+ 4f(x_3)+...+2f(x_{n-2})+4f(x_{n-1})+f(x_n)] = $$\n",
    "\n",
    "$$ = \\frac{h}{3} \\{f(x_0)+ 4[f(x_1) + f(x_3)+...+f(x_{n-1})]+ 2[f(x_2) + f(x_4)+...+f(x_{n-2})] + f(x_n)\\}  $$\n",
    "\n",
    "Graficamente, tem-se\n",
    "<img src=\"https://github.com/tiagoburiol/NUMETHODS/raw/master/7_INTEGRACAO_NUMERICA/imagens/Simpson13gen.jpg\" width=\"640\">\n",
    "\n",
    "\n",
    "### Erro na regra 1/3 de Simpson generalizada\n",
    "O erro na regra 1/3 de Simpson generalizada será dado por\n",
    "\n",
    "$$E_2 = \\frac{-h^4}{180}(n_n-x_0)f^{(4)}(\\xi)$$\n",
    "\n",
    "com $x_0 \\leq \\xi \\leq x_n$.\n",
    "\n",
    "Um **limitante superior** para o erro será dado por \n",
    "\n",
    "$$ |E_2| \\leq \\frac{h^4}{180}(x_n-x_0)  \\,\\, max.\\left\\{\\left|f^{(4)}(x)\\right|, x_0 \\leq \\xi \\leq x_n  \\right\\}$$"
   ]
  },
  {
   "cell_type": "markdown",
   "metadata": {
    "collapsed": true
   },
   "source": [
    "### Exemplo 2\n",
    "Calcule o valor aproximado da integral $\\int_0^3(xe^x+1)dx$ usando a regra 1/3 de Simpson para 2, 4 e 6 subintervalos e um limitante superior para o erro."
   ]
  },
  {
   "cell_type": "code",
   "execution_count": 6,
   "metadata": {},
   "outputs": [
    {
     "name": "stdout",
     "output_type": "stream",
     "text": [
      "xi   = [ 0.    0.75  1.5   2.25  3.  ]\n",
      "f(xi)= [  1.           2.58775001   7.72253361  22.34740563  61.25661077]\n",
      "I = 44.3605751394\n"
     ]
    }
   ],
   "source": [
    "import numpy as np\n",
    "# Dados do enunciado\n",
    "x0 = 0.0; xn = 3.0\n",
    "n = 4\n",
    "h = (xn-x0)/n\n",
    "f = lambda x: x*np.exp(x)+1\n",
    "\n",
    "# Criando n+1 pontos igualmente espacados \n",
    "X = np.linspace(x0, xn, n+1)\n",
    "print (\"xi   =\",np.round(X,4))\n",
    "print (\"f(xi)=\",f(X))\n",
    "\n",
    "\n",
    "# Regra 1/3 de Simpson usando funções do numpy\n",
    "I = (h/3)*(f(X[0]) + 4*np.sum(f(X[1:n:2])) + 2*np.sum(f(X[2:n:2]))+ f(X[-1]))\n",
    "print (\"I =\",I)"
   ]
  },
  {
   "cell_type": "markdown",
   "metadata": {},
   "source": [
    "## Regra 3/8 de Simpson\n",
    "\n",
    "\n",
    "Considere uma função $f(x)$ definida em quatro pontos distintos $x_0$, $x_1$, $x_2$ e $x_3$ equidistantes no intervalo $[a,b]$. O polinômio interpolador de Lagrange para esses pontos, considerando a mudança de variável $u = \\frac{x-x_0}{h}$ é dado por\n",
    "\n",
    "$$P_3(u)=f(x_0) \\left[ \\frac{(u-1)(u-2)(u-3)}{-6}\\right] + f(x_1) \\left[ \\frac{u(u-2)(u-3)}{2} \\right] + f(x_2) \\left[\n",
    "\\frac{u(u-1)(u-3)}{-2}\\right]+ f(x_3)\\left[ \\frac{u(u-1)(u-2)}{6}  \\right]$$\n",
    "\n",
    "ou\n",
    "\n",
    "$$P_3(u)=f(x_0) \\left[ \\frac{u^3-6u^2+11u-6}{-6}\\right] + f(x_1) \\left[ \\frac{u^3-5u^2+6u}{2} \\right] + f(x_2) \\left[ \\frac{u^3-4u^2+3u}{-2}\\right]  + f(x_3)\\left[ \\frac{u^3-5u^2+6u}{6}  \\right]$$\n",
    "\n",
    "O que fornece\n",
    "\n",
    "$$ \\int_{x_0}^{x_3} f(x) dx \\approx  h \\int_{0}^{3} P_3(u) du = \\frac{3}{8}h \\left[f(x_0)+3f(x_1)+3f(f_2)+f(x_3) \\right]$$\n",
    "\n",
    "Então\n",
    "\n",
    " \n",
    "\n",
    "$$\\int_{x_0}^{x_3} f(x) dx \\approx \\frac{3}{8}h \\left[f(x_0)+3f(x_1)+3f(x_2)+f(x_3) \\right]$$\n",
    "\n",
    "conhecida como **Regra 3/8 de Simpson**.\n",
    "\n",
    "\n",
    "Graficamente, tem-se\n",
    "![Simpson13.jpg](https://github.com/tiagoburiol/NUMETHODS/raw/master/7_INTEGRACAO_NUMERICA/imagens/Simpson38.jpg)\n",
    "\n",
    "### Erro na regra 3/8 de Simpson\n",
    "\n",
    "O erro na regra 3/8 de Simpson será dado por\n",
    "\n",
    "$$E_3 = \\frac{3h^5}{80}f^{(4)}(\\xi)$$\n",
    "\n",
    "com $x_0 \\leq \\xi \\leq x_3$.\n",
    "\n",
    "Um **limitante superior** para o erro será dado por \n",
    "\n",
    "$$ |E_3| \\leq \\frac{3h^5}{80} max.\\{|f^{(4)}(x)|, x_0 \\leq \\xi \\leq x_3 \\}$$"
   ]
  },
  {
   "cell_type": "markdown",
   "metadata": {},
   "source": [
    "### Exemplo "
   ]
  },
  {
   "cell_type": "code",
   "execution_count": 16,
   "metadata": {},
   "outputs": [
    {
     "name": "stdout",
     "output_type": "stream",
     "text": [
      "Resultado:  15.3355503338\n"
     ]
    }
   ],
   "source": [
    "import numpy as np\n",
    "# Dados do enunciado\n",
    "x0 = 1.0\n",
    "xn = 7.0\n",
    "n = 6\n",
    "h = (xn-x0)/n\n",
    "f = lambda x: np.log(x+9)\n",
    "\n",
    "# Criando n+1 pontos igualmente espacados \n",
    "X = np.linspace(x0, xn, n+1)\n",
    "\n",
    "# Regra 3/8 de Simpson usando funções do numpy\n",
    "I = (3*h/8)*(f(X[0]) + 3*np.sum(f(X[1:n:3])+f(X[2:n:3])) + 2*np.sum(f(X[3:n:3]))+ f(X[-1]))\n",
    "\n",
    "print (\"Resultado: \", I)"
   ]
  },
  {
   "cell_type": "markdown",
   "metadata": {
    "collapsed": true
   },
   "source": [
    "## Regra 3/8 de Simpson generalizada\n",
    "Consiste em subdividirmos o intervalo de integração $[a,b]$ em $n$ subintervalos de ampliture $h$, que que $n$ é um número múltiplo de 3, com $x_0=a$ e $x_n=b$, então, aplicando a regra 3/8 de Simpson a cada 3 subintervalos consecutivos, obtemos\n",
    "\n",
    "$$ \\int_{x_0}^{x_n} f(x) dx \\approx \\frac{3}{8}h \\left[\n",
    "f(x_0) + 3f(x_1)+3f(x_2)+f(x_3) \\right] +\n",
    "\\frac{3}{8}h \\left[f(x_3)+3f(x_4)+3f(x_5)+f(x_6) \\right] + \n",
    "... + \\frac{3}{8}h \\left[f(x_{n-3})+3f(x_{n-2})+3f(x_{n-1})+f(x_n) \\right]$$\n",
    "\n",
    "\n",
    "$$ = \\frac{3}{8}h \\left\\{ f(x_0) +\n",
    "3 \\left[f(x_1)+f(x_2)+f(x_4)+f(x_5)+....+ f(x_{n-2})+f(x_{n-1})\\right] +\n",
    "2 \\left[f(x_3)+f(x_6)+....+f(x_{n-3}) \\right] + f(x_n)\\right\\}$$\n",
    "\n",
    "conhecida como **Regra 3/8 de Simpson Generalizada**.\n",
    "\n",
    "Graficamente, tem-se\n",
    "\n",
    "![Simpson38gen.jpg](https://github.com/tiagoburiol/NUMETHODS/raw/master/7_INTEGRACAO_NUMERICA/imagens/Simpson38gen.jpg)\n",
    "\n",
    "### Erro na regra 3/8 de Simpson generalizada\n",
    "O erro na regra 1/3 de Simpson generalizada será dado por\n",
    "\n",
    "$$E_3 = \\frac{-h^4}{80}(n_n-x_0)f^{(4)}(\\xi)$$\n",
    "\n",
    "com $x_0 \\leq \\xi \\leq x_n$.\n",
    "\n",
    "Um **limitante superior** para o erro será dado por \n",
    "\n",
    "$$ |E_3| \\leq \\frac{h^4}{80}(x_n-x_0)  \\,\\, max.\\left\\{\\left|f^{(4)}(x)\\right|, x_0 \\leq \\xi \\leq x_n  \\right\\}$$"
   ]
  },
  {
   "cell_type": "markdown",
   "metadata": {},
   "source": [
    "### Exemplo "
   ]
  },
  {
   "cell_type": "code",
   "execution_count": 3,
   "metadata": {},
   "outputs": [
    {
     "name": "stdout",
     "output_type": "stream",
     "text": [
      "Resultado:  15.3355649483\n"
     ]
    }
   ],
   "source": [
    "import numpy as np\n",
    "# Dados do enunciado\n",
    "x0 = 1.0\n",
    "xn = 7.0\n",
    "n = 9\n",
    "h = (xn-x0)/n\n",
    "f = lambda x: np.log(x+9)\n",
    "\n",
    "# Criando n+1 pontos igualmente espacados \n",
    "X = np.linspace(x0, xn, n+1)\n",
    "\n",
    "# Regra 3/8 de Simpson usando funções do numpy\n",
    "I = (3*h/8)*(f(X[0]) + 3*np.sum(f(X[1:n:3])+f(X[2:n:3])) + 2*np.sum(f(X[3:n:3]))+ f(X[-1]))\n",
    "\n",
    "print (\"Resultado: \", I)"
   ]
  },
  {
   "cell_type": "code",
   "execution_count": null,
   "metadata": {
    "collapsed": true
   },
   "outputs": [],
   "source": []
  }
 ],
 "metadata": {
  "kernelspec": {
   "display_name": "Python 3",
   "language": "python",
   "name": "python3"
  },
  "language_info": {
   "codemirror_mode": {
    "name": "ipython",
    "version": 3
   },
   "file_extension": ".py",
   "mimetype": "text/x-python",
   "name": "python",
   "nbconvert_exporter": "python",
   "pygments_lexer": "ipython3",
   "version": "3.8.5"
  }
 },
 "nbformat": 4,
 "nbformat_minor": 1
}
