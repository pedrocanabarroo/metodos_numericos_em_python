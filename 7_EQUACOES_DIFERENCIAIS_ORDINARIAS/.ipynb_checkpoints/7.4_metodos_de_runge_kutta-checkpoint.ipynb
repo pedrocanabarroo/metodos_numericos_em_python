{
 "cells": [
  {
   "cell_type": "markdown",
   "metadata": {},
   "source": [
    "# 8.4 Métodos de Runge-Kutta "
   ]
  },
  {
   "cell_type": "markdown",
   "metadata": {},
   "source": [
    "O método de Runge-Kutta mais simples é o de ordem 1. Neste caso, o método coincide com o método de Euler, isto é, o método de Taylor de ordem 1, apresentado na seção 8.2. \n",
    "\n",
    "Assim, considerando, novamente, o Problema de Valor Inicial (PVI) dado por\n",
    "\n",
    "$$\\begin{cases} \n",
    "   y' = f(x,y) \\\\\n",
    "   y(x_0)=y_0\n",
    "  \\end{cases}$$\n",
    "\n",
    "tem-se o Método de Runge-Kutta como é apresentado a seguir.\n",
    "\n",
    "\n",
    "## Método de Runge-Kutta de ordem 1\n",
    "\n",
    "O processo iterativo será dado por:\n",
    "\n",
    "$$ y_{n+1} =y_n + hk_1 $$ \n",
    "com\n",
    "$$ k_1 = f(x_n, y_n)$$\n",
    "\n",
    "(Ver exempos de seção 8.2).\n"
   ]
  },
  {
   "cell_type": "markdown",
   "metadata": {},
   "source": [
    "## Método de Runge-Kutta de ordem 2\n",
    "\n",
    "O processo iterativo será dado por:\n",
    "\n",
    "$$ y_{n+1} =y_n + \\frac{h}{2}(k_1+k_2) $$ \n",
    "\n",
    "com\n",
    "$$ k_1 = f(x_n, y_n)$$\n",
    "\n",
    "$$ k_2 = f(x_n+h, y_n+hk_1) $$\n",
    "\n",
    "\n",
    "o qual também é conhecido como **método de Euler aperfeiçoado**.\n",
    "\n",
    "A figura abaixo ilustra uma  interpretação gráfica do método.\n",
    "\n",
    "<img src=\"https://github.com/tiagoburiol/NUMETHODS/raw/master/8_SOLUCAO_NUMERICA_DE_EDOs/imagens/runge_kutta_ordem_2.png\" width=\"600\">\n"
   ]
  },
  {
   "cell_type": "markdown",
   "metadata": {},
   "source": [
    "### Exemplo 1\n",
    "Usando o método de Euler aperfeiçoado, calcule a solução do PVI definido por:\n",
    "\n",
    "$$\\begin{cases} \n",
    "   y' = f(x,y)=x-y+2 \\\\\n",
    "   y(x_0)= y(0) = 2\n",
    "  \\end{cases}$$\n",
    "\n",
    "com $x \\in [a,b] = [0,1]$ e $N = 5$. \n",
    "\n",
    "A solução exata é $y(x) = e^{-x}+x+1$."
   ]
  },
  {
   "cell_type": "code",
   "execution_count": 1,
   "metadata": {},
   "outputs": [
    {
     "name": "stdout",
     "output_type": "stream",
     "text": [
      "[ 0.   0.2  0.4  0.6  0.8  1. ]\n",
      "[2.0, 2.02, 2.0724, 2.1513680000000002, 2.2521217600000001, 2.3707398432]\n",
      "[ 2.          2.01873075  2.07032005  2.14881164  2.24932896  2.36787944]\n"
     ]
    },
    {
     "data": {
      "image/png": "[encoded data removed]",
      "text/plain": [
       "<matplotlib.figure.Figure at 0x7fae194467b8>"
      ]
     },
     "metadata": {},
     "output_type": "display_data"
    }
   ],
   "source": [
    "% matplotlib inline\n",
    "import numpy as np\n",
    "import matplotlib.pyplot as plt\n",
    "\n",
    "f = lambda x,y: x-y+2\n",
    "x0 = 0.0\n",
    "y0 = 2.0\n",
    "N = 5\n",
    "\n",
    "a = 0.0\n",
    "b = 1.0\n",
    "X = np.linspace(a,b,N+1)\n",
    "print (X)\n",
    "Y = [y0]\n",
    "\n",
    "h = (b-a)/N\n",
    "\n",
    "for n in range(len(X)-1):\n",
    "    k1 = f(X[n], Y[n])\n",
    "    k2 = f(X[n]+h, Y[n]+h*k1)\n",
    "    Y.append(Y[n]+0.5*h*(k1+k2))\n",
    "print (Y)  \n",
    "\n",
    "s = lambda x: np.exp(-x) + x + 1\n",
    "Xe = np.linspace(a,b, 20)\n",
    "Ye = s(Xe)\n",
    "print (s(X))\n",
    "\n",
    "# plota\n",
    "plt.plot(X, Y, \"r-\", Xe, Ye, \"b-\")\n",
    "plt.grid()\n",
    "plt.show()"
   ]
  },
  {
   "cell_type": "markdown",
   "metadata": {},
   "source": [
    "Uma outra forma para o Método de Runge-Kutta de ordem 2 é dado pelo seguinte processo iterativo:\n",
    "\n",
    "$$ y_{n+1} =y_n + hf(x_n+\\frac{h}{2}, y_n+\\frac{h}{2}k_1 ) $$ \n",
    "\n",
    "com\n",
    "$$ k_1 = f(x_n, y_n)$$\n",
    "\n",
    "$$ k_2 = f(x_n+h, y_n+hk_1) $$\n",
    "\n",
    "\n",
    "o qual também é conhecido como **método de Euler modificado**.\n"
   ]
  },
  {
   "cell_type": "markdown",
   "metadata": {},
   "source": [
    "### Exemplo 2\n",
    "\n",
    "Usando o método de Euler modificado, calcule a solução do PVI definido por:\n",
    "\n",
    "$$\\begin{cases} \n",
    "   y' = f(x,y)=x-y+2 \\\\\n",
    "   y(x_0)= y(0) = 2\n",
    "  \\end{cases}$$\n",
    "\n",
    "com $x \\in [a,b] = [0,1]$ e $h=0.2$. \n",
    "\n",
    "A solução exata é $y(x) = e^{-x}+x+1$."
   ]
  },
  {
   "cell_type": "code",
   "execution_count": 2,
   "metadata": {},
   "outputs": [
    {
     "name": "stdout",
     "output_type": "stream",
     "text": [
      "[ 0.   0.2  0.4  0.6  0.8  1. ]\n",
      "[ 2.      2.02    2.0724  2.1514  2.2521  2.3707]\n",
      "[ 2.      2.0187  2.0703  2.1488  2.2493  2.3679]\n"
     ]
    },
    {
     "data": {
      "image/png": "[encoded data removed]",
      "text/plain": [
       "<matplotlib.figure.Figure at 0x7fadf90f9da0>"
      ]
     },
     "metadata": {},
     "output_type": "display_data"
    }
   ],
   "source": [
    "% matplotlib inline\n",
    "import numpy as np\n",
    "import matplotlib.pyplot as plt\n",
    "\n",
    "f = lambda x,y: x-y+2\n",
    "x0 = 0.0\n",
    "y0 = 2.0\n",
    "N = 5\n",
    "\n",
    "a = 0.0\n",
    "b = 1.0\n",
    "X = np.linspace(a,b,N+1)\n",
    "print (X)\n",
    "Y = [y0]\n",
    "\n",
    "h = (b-a)/N\n",
    "\n",
    "for n in range(len(X)-1):\n",
    "    k1 = f(X[n], Y[n])\n",
    "    Y.append(Y[n] + h * f(X[n]+0.5*h, Y[n]+0.5*h*k1))\n",
    "    #print (k1,Y[-1])\n",
    "print (np.round(Y,4))\n",
    "\n",
    "s = lambda x: np.exp(-x) + x + 1\n",
    "Xe = np.linspace(a,b, 20)\n",
    "Ye = s(Xe)\n",
    "print (np.round(s(X),4))\n",
    "\n",
    "# plota\n",
    "plt.plot(X, Y, \"r-\", Xe, Ye, \"b-\")\n",
    "plt.grid()\n",
    "plt.show()"
   ]
  },
  {
   "cell_type": "markdown",
   "metadata": {},
   "source": [
    "## Método de Runge-Kutta de ordem 3\n",
    "\n",
    "O método de Runge-Kutta ordem 3 é dado po\n",
    "\n",
    "$$ y_{n+1} =y_n + \\frac{h}{9}(2k_1 + 3k_2 + 4k_3) $$ \n",
    "\n",
    "com\n",
    "\n",
    "$$ k_1 = f(x_n , y_n)$$\n",
    "\n",
    "$$ k_2 = f(x_n + \\frac{1}{2}h, y_n + \\frac{1}{2}hk_1) $$\n",
    "\n",
    "$$ k_3 = f(x_n + \\frac{3}{4}h, y_n + \\frac{3}{4}hk_2) $$"
   ]
  },
  {
   "cell_type": "markdown",
   "metadata": {},
   "source": [
    "### Exemplo 3\n",
    "Usando o método de Runge-Kutta de ordem 3, calcule a solução do PVI definido por:\n",
    "\n",
    "$$\\begin{cases} \n",
    "   y' = f(x,y)=x-y+2 \\\\\n",
    "   y(x_0)= y(0) = 2\n",
    "  \\end{cases}$$\n",
    "\n",
    "com $x \\in [a,b] = [0,1]$ e $h=0.2$. \n",
    "\n",
    "A solução exata é $y(x) = e^{-x}+x+1$."
   ]
  },
  {
   "cell_type": "code",
   "execution_count": 3,
   "metadata": {},
   "outputs": [
    {
     "name": "stdout",
     "output_type": "stream",
     "text": [
      "[ 0.   0.2  0.4  0.6  0.8  1. ]\n",
      "[ 2.      2.0187  2.0702  2.1487  2.2492  2.3677]\n"
     ]
    },
    {
     "data": {
      "image/png": "[encoded data removed]",
      "text/plain": [
       "<matplotlib.figure.Figure at 0x7fadf66dbeb8>"
      ]
     },
     "metadata": {},
     "output_type": "display_data"
    }
   ],
   "source": [
    "% matplotlib inline\n",
    "import numpy as np\n",
    "import matplotlib.pyplot as plt\n",
    "\n",
    "f = lambda x,y: x-y+2\n",
    "x0 = 0.0\n",
    "y0 = 2.0\n",
    "N = 5\n",
    "\n",
    "a = 0.0\n",
    "b = 1.0\n",
    "X = np.linspace(a,b,N+1)\n",
    "print (X)\n",
    "Y = [y0]\n",
    "\n",
    "h = (b-a)/N\n",
    "for n in range(len(X)-1):\n",
    "    k1 = f(X[n], Y[n])\n",
    "    k2 = f(X[n]+0.5*h, Y[n]+0.5*h*k1)\n",
    "    k3 = f(X[n]+0.75*h, Y[n]+0.75*h*k2)\n",
    "    Y.append(Y[n] + (h/9) * (2*k1 + 3*k2 + 4*k3))\n",
    "    #print (k1,Y[-1])\n",
    "print (np.round(Y,4))\n",
    "\n",
    "# plota\n",
    "plt.plot(X, Y, \"xb-\", Xe, Ye, \"r-\")\n",
    "plt.grid()\n",
    "plt.show()"
   ]
  },
  {
   "cell_type": "markdown",
   "metadata": {},
   "source": [
    "## Método de Runge-Kutta de ordem 4\n",
    "\n",
    "O método de Runge-Kutta ordem 4 é dado po\n",
    "\n",
    "$$ y_{n+1} =y_n + \\frac{h}{6}(k_1 + 2k_2 + 2k_3 +k4) $$ \n",
    "\n",
    "com\n",
    "\n",
    "$$ k_1 = f(x_n , y_n)$$\n",
    "\n",
    "$$ k_2 = f(x_n + \\frac{1}{2}h, y_n + \\frac{1}{2}hk_1) $$\n",
    "\n",
    "$$ k_3 = f(x_n + \\frac{1}{2}h, y_n + \\frac{1}{2}hk_2) $$\n",
    "\n",
    "$$ k_4 = f(x_n + h, y_n + hk_3) $$"
   ]
  },
  {
   "cell_type": "markdown",
   "metadata": {},
   "source": [
    "### Exemplo 4\n",
    "\n",
    "Usando o método de Runge-Kutta de ordem 4, calcule a solução do PVI definido por:\n",
    "\n",
    "$$\\begin{cases} \n",
    "   y' = f(x,y)=x-y+2 \\\\\n",
    "   y(x_0)= y(0) = 2\n",
    "  \\end{cases}$$\n",
    "\n",
    "com $x \\in [a,b] = [0,1]$ e $h=0.2$. \n",
    "\n",
    "A solução exata é $y(x) = e^{-x}+x+1$."
   ]
  },
  {
   "cell_type": "code",
   "execution_count": 4,
   "metadata": {},
   "outputs": [
    {
     "name": "stdout",
     "output_type": "stream",
     "text": [
      "[ 0.   0.2  0.4  0.6  0.8  1. ]\n",
      "[ 2.      2.0187  2.0703  2.1488  2.2493  2.3679]\n"
     ]
    },
    {
     "data": {
      "image/png": "[encoded data removed]",
      "text/plain": [
       "<matplotlib.figure.Figure at 0x7fadf66d2860>"
      ]
     },
     "metadata": {},
     "output_type": "display_data"
    }
   ],
   "source": [
    "% matplotlib inline\n",
    "import numpy as np\n",
    "import matplotlib.pyplot as plt\n",
    "\n",
    "f = lambda x,y: x-y+2\n",
    "x0 = 0.0\n",
    "y0 = 2.0\n",
    "N = 5\n",
    "\n",
    "a = 0.0\n",
    "b = 1.0\n",
    "X = np.linspace(a,b,N+1)\n",
    "print (X)\n",
    "Y = [y0]\n",
    "\n",
    "h = (b-a)/N\n",
    "for n in range(len(X)-1):\n",
    "    k1 = f(X[n], Y[n])\n",
    "    k2 = f(X[n]+0.5*h, Y[n]+0.5*h*k1)\n",
    "    k3 = f(X[n]+0.5*h, Y[n]+0.5*h*k2)\n",
    "    \n",
    "    k4 = f(X[n]+h, Y[n]+h*k3)\n",
    "    Y.append(Y[n] + (h/6) * (k1 + 2*k2 + 2*k3 + k4))\n",
    "    #print (k1,Y[-1])\n",
    "print (np.round(Y,4))\n",
    "\n",
    "# plota\n",
    "plt.plot(X, Y, \"xr-\", Xe, Ye, \"b-\")\n",
    "plt.grid()\n",
    "plt.show()"
   ]
  }
 ],
 "metadata": {
  "kernelspec": {
   "display_name": "Python 3",
   "language": "python",
   "name": "python3"
  },
  "language_info": {
   "codemirror_mode": {
    "name": "ipython",
    "version": 3
   },
   "file_extension": ".py",
   "mimetype": "text/x-python",
   "name": "python",
   "nbconvert_exporter": "python",
   "pygments_lexer": "ipython3",
   "version": "3.8.5"
  }
 },
 "nbformat": 4,
 "nbformat_minor": 1
}
