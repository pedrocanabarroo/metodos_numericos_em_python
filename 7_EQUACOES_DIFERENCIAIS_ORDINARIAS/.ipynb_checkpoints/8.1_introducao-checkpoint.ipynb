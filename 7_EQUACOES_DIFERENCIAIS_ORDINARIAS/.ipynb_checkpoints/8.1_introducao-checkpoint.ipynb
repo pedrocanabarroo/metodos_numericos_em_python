{
 "cells": [
  {
   "cell_type": "markdown",
   "metadata": {},
   "source": [
    "# 8.1 Introdução\n",
    "\n",
    "As leis fundamentais da física, matemática, eletrônica e termodinâmica, em geral, são baseadas em observações empíricas que explicam a variação das propriedades físicas e dos estados dos sistemas. Em vez de descrever os estados de sistemas físicos diretamente, as leis geralmente são dadas em termos de variações espaciais e temporais.\n",
    "\n",
    "Diversos exemplos estão listados na tabela a seguir. Essas leis definem mecanismos de variação. Quando combinadas com as leis de continuidade da energia, da massa e do momento, produzem equações diferenciais. A integração subsequente dessas equações diferenciais resulta em funções matemáticas que descrevem o estado espacial e temporal de um sistema em termos da variação de energia, massa ou velocidade (Chapra e Canale, 2016).\n",
    "\n",
    "\n",
    "\n",
    "A importância dos métodos numéricos para a resolução de equações diferenciais ordinárias (EDOs) deve-se ao fato de que essas equações ocorrer com frequência em modelos matemáticos com aplicação em diferentes situações práticas, nas áreas de engenharia, física, biologia, economia, biomedicina, etc.\n",
    "\n",
    "Tipicamente, problemas que relacionam funções de uma variável e suas derivadas levam a uma equação diferencial ordinária. Métodos numéricos são utilizados para resolução dessas equações diferenciais, pois com frequência soluções exatas não são possíveis, ou muito difícil de serem determinadas.\n",
    "\n",
    "Uma equação diferencial ordinária é uma equação que relaciona uma função de uma variável, $y(x)$ e suas derivadas, sendo $x$ a variável independente e $y(x)4 a função incógnita.\n",
    "\n",
    "A ordem de uma equação diferencial é determinada pela mais alta ordem da derivada da função $y(x)$ presente na equação. As equações a seguir são exemplos de equações diferenciais ordinárias. Temos as seguintes notações usuais:\n",
    "\n",
    "$$y'= \\frac{dy}{dx}, \\,\\,\\,  y''= \\frac{d^2y}{dx^2}, \\,\\,\\,... $$\n",
    "\n",
    "Por exemplo:\n",
    "\n",
    "$ \\frac{dy}{dx} = 3x-1$ é uma EDO de ordem 1\n",
    "\n",
    "$ y' = -xy$ é uma EDO de ordem 1\n",
    "\n",
    "$ \\frac{d^2y}{dx^2} = x^2-y+e^x$ é uma EDO de ordem 2 \n",
    "\n",
    "$ y'' -4y' + 3y = x$ é uma EDO de ordem 2 \n"
   ]
  },
  {
   "cell_type": "markdown",
   "metadata": {},
   "source": [
    "**Exemplo**\n"
   ]
  },
  {
   "cell_type": "markdown",
   "metadata": {},
   "source": [
    "Resolver uma equação diferencial consiste em determinar uma função $y(x)$ que satisfaça a equação.\n",
    "\n",
    "Por exemplo, a equação diferencial \n",
    "\n",
    "$$y' = -x y$$ \n",
    "\n",
    "tem solução \n",
    "\n",
    "$$ y = c \\, e^{\\frac{-x^2}{2}}$$\n",
    "\n",
    "com $c$ constante, pois\n",
    "\n",
    "$$ y' = c \\, e^{\\frac{-x^2}{2}}(-x) = -xy$$\n",
    "\n",
    "ou seja, a função $y(x)$ satisfaz a equação. \n",
    "Podemos observar que esta equação apresenta infinitas soluções, pois, para cada valor diferente de $c$ temos uma solução diferente."
   ]
  },
  {
   "cell_type": "code",
   "execution_count": null,
   "metadata": {},
   "outputs": [],
   "source": []
  },
  {
   "cell_type": "markdown",
   "metadata": {},
   "source": [
    "## Problema de valor Inicial\n",
    "\n",
    "Considere a equação diferencial ordinária, $y' = y$, cuja solução é dada por $y(x)=ce^x$ $c\\in R$.\n",
    "\n",
    "Assim, a equação diferencial dada apresenta infinitas soluções, uma vez que, para cada valor escolhido para a constante $c$, temos uma solução, como, por exemplo, $y(x)=c_0e^x$,$y(x)=c_1e^x$,$y(x)=c_2e^x$,sendo $c_0$, $c_1$ , $c_2$ valores fixados,conforme exibido na figura abaixo.\n",
    "\n",
    "<img src=\"https://github.com/tiagoburiol/NUMETHODS/raw/master/8_SOLUCAO_NUMERICA_DE_EDOs/imagens/pvi01.png\" width=\"560\">\n",
    "\n",
    "Se considerarmos que conhecemos o valor da função $y(x)$ em um ponto, isto é, $x = x_0$ , o valor de $y(x)$ é $y(x_0) = y_0$ e temos uma única solução para a equação proposta. Esta solução única é obtida quando usamos a solução geral da equação diferencial\n",
    "no ponto $x = x_0$ e obtemos o valor da constante $c$, como segue: $$y(x_0)=y_0$$ \n",
    "então \n",
    "$$ce^{x_0} = y_0$$ \n",
    "logo \n",
    "$$c=y_0e^{0-x_0}$$\n",
    "\n",
    "Assim, a solução única para a equação diferencial é dada por: \n",
    "\n",
    "$$y(x) = ce^x = y_0 e^{-x_0} e^x = y_0e^{(x-x_0)}$$\n",
    "\n",
    "Portanto, $y(x) = y_0 e^{(x-x_0)}$, conforme exibido na figura.\n"
   ]
  },
  {
   "cell_type": "markdown",
   "metadata": {},
   "source": [
    "### Definição\n",
    "\n",
    "Um Problema de Valor Inicial (PVI) de primeira ordem consiste de uma equação diferencial $y' = f (x,y)$, $x \\geq x_0$ e uma condição inicial $y(x_0) = y_0$, em que $y_0$ é um valor dado, chamado de valor inicial.\n",
    "\n",
    "Neste caso, podemos escrever o PVI da seguinte forma:\n",
    "\n",
    "$$ \n",
    "\\begin{cases} \n",
    "y'= f(x,y)\\\\ \n",
    "\\\\\n",
    "y(x_0)=y_0\n",
    "\\end{cases}$$\n",
    "\n",
    "Resolver o PVI consiste em determinar uma função $y(x)$ que satisfaça a equação diferencial $y' = f (x,y)$ e a condição inicial $y(x_0) = y_0$.\n",
    "\n",
    "Se a função $f$ e $ \\frac{\\partial f}{\\partial y}$ são contínuas, temos que o PVI apresenta solução única.\n",
    "\n"
   ]
  },
  {
   "cell_type": "markdown",
   "metadata": {},
   "source": [
    "### Discretização\n",
    "\n",
    "Resolver numericamente um PVI consiste em calcular aproximações para $y = y(x)$ em pontos discretos $x_0,x_1,x_2,...,x_N$ de um intervalo $[a,b]$.\n",
    "\n",
    "Para discretizar o intervalo $[a,b]$, tomamos $N$ subintervalos $(N \\geq 1)$ e fazemos $x_n = x_0 + nh$, $n = 0,1,2,...,N$ com $x_0 =a$ e $x_N =b$,sendo $h = (x_N −x_0)/N$.\n",
    "\n",
    "A este conjunto de pontos $x_0,x_1,x_2,...,x_N$ denominamos rede ou malha de pontos discretos, e calculamos aproximações para a função $y(x)$ nestes pontos, isto é, determinamos $y_n$ tal que $y_n \\approx y(x_n)$, $n=0,1,...,N$.\n",
    "\n",
    "A partir de um ponto inicial dado $y(x_0) = y_0$ (valor inicial), calculamos passo a passo, nos pontos \n",
    "\n",
    "$x_1 = x_0 +h$, \n",
    "\n",
    "$x_2 = x_0 +2h$, \n",
    "\n",
    "$x_3 = x_0 +3h$\n",
    "\n",
    ",...,\n",
    "\n",
    "$x_n = x_0 +nh$, \n",
    "\n",
    "soluções aproximadas $y_n$ para a solução exata $y(x_n)$, $n=0,1,2,...,N$, conforme ilustrado na figura a seguir.\n",
    "\n",
    "<img src=\"https://github.com/tiagoburiol/NUMETHODS/raw/master/8_SOLUCAO_NUMERICA_DE_EDOs/imagens/discretizacao.png\" width=\"560\">"
   ]
  },
  {
   "cell_type": "code",
   "execution_count": null,
   "metadata": {
    "collapsed": true
   },
   "outputs": [],
   "source": []
  }
 ],
 "metadata": {
  "kernelspec": {
   "display_name": "Python 3",
   "language": "python",
   "name": "python3"
  },
  "language_info": {
   "codemirror_mode": {
    "name": "ipython",
    "version": 3
   },
   "file_extension": ".py",
   "mimetype": "text/x-python",
   "name": "python",
   "nbconvert_exporter": "python",
   "pygments_lexer": "ipython3",
   "version": "3.8.5"
  }
 },
 "nbformat": 4,
 "nbformat_minor": 1
}
