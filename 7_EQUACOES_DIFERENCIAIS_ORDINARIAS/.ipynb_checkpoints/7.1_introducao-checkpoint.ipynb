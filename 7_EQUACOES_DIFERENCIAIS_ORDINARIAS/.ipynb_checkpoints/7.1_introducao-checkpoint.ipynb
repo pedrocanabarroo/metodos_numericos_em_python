{
 "cells": [
  {
   "cell_type": "markdown",
   "metadata": {},
   "source": [
    "# 8.1 Introdução\n",
    "\n",
    "As leis fundamentais da física, mecânica, eletrônica e termodinâmica, em geral, são baseadas em observações empíricas que explicam a variação das propriedades físicas e dos estados dos sistemas. Em vez de descrever os estados de sistemas físicos diretamente, as leis geralmente são dadas em termos de variações espaciais e temporais.\n",
    "\n",
    "Diversos exemplos estão listados na tabela a seguir. Essas leis definem mecanismos de variação. Quando combinadas com as leis de continuidade da energia, da massa e do momento, produzem equações diferenciais. A integração subsequente dessas equações diferenciais resulta em funções matemáticas que descrevem o estado espacial e temporal de um sistema em termos da variação de energia, massa ou velocidade (Chapra e Canale, 2016).\n",
    "\n",
    "A importância dos métodos numéricos para a resolução de equações diferenciais ordinárias (EDOs) deve-se ao fato de que essas equações ocorrer com frequência em modelos matemáticos com aplicação em diferentes situações práticas, nas áreas de engenharia, física, biologia, economia, biomedicina, etc.\n",
    "\n",
    "Tipicamente, problemas que relacionam funções de uma variável e suas derivadas levam a uma equação diferencial ordinária. Métodos numéricos são utilizados para resolução dessas equações diferenciais, pois com frequência soluções exatas não são possíveis, ou muito difícil de serem determinadas.\n",
    "\n",
    "Uma equação diferencial ordinária é uma equação que relaciona uma função de uma variável, $y(x)$ e suas derivadas, sendo $x$ a variável independente e $y(x)4 a função incógnita.\n",
    "\n",
    "A ordem de uma equação diferencial é determinada pela mais alta ordem da derivada da função $y(x)$ presente na equação. As equações a seguir são exemplos de equações diferenciais ordinárias. Temos as seguintes notações usuais:\n",
    "\n",
    "$$y'= \\frac{dy}{dx}, \\,\\,\\,  y''= \\frac{d^2y}{dx^2}, \\,\\,\\,... $$\n",
    "\n",
    "Por exemplo:\n",
    "\n",
    "$ \\frac{dy}{dx} = 3x-1$ é uma EDO de ordem 1\n",
    "\n",
    "$ y' = -xy$ é uma EDO de ordem 1\n",
    "\n",
    "$ \\frac{d^2y}{dx^2} = x^2-y+e^x$ é uma EDO de ordem 2 \n",
    "\n",
    "$ y'' -4y' + 3y = x$ é uma EDO de ordem 2 \n"
   ]
  },
  {
   "cell_type": "markdown",
   "metadata": {},
   "source": [
    "Resolver uma equação diferencial consiste em determinar uma função 𝑦(𝑥) que satisfaça a equação."
   ]
  },
  {
   "cell_type": "markdown",
   "metadata": {},
   "source": [
    "**Exemplos**\n"
   ]
  },
  {
   "cell_type": "code",
   "execution_count": null,
   "metadata": {},
   "outputs": [],
   "source": [
    "# Precisamos importar as bibliotecas\n",
    "import numpy as np\n",
    "import matplotlib.pyplot as plt"
   ]
  },
  {
   "cell_type": "markdown",
   "metadata": {},
   "source": [
    "**1.** A equação diferencial $y' = -x y$ tem solução $ y = c \\, e^{\\frac{-x^2}{2}}$ com $c$ constante, pois \n",
    "\n",
    "$$ y' = c \\, e^{\\frac{-x^2}{2}}(-x) = -xy$$\n",
    "\n",
    "ou seja, a função $y(x)$ satisfaz a equação. \n",
    "\n",
    "Podemos observar que esta equação apresenta infinitas soluções, pois, para cada valor diferente de $c$ temos uma solução diferente."
   ]
  },
  {
   "cell_type": "code",
   "execution_count": null,
   "metadata": {},
   "outputs": [],
   "source": [
    "y = lambda x: np.exp((-x**2)/2)\n",
    "X = np.linspace(-3,3)\n",
    "plt.plot(X,1*y(X), \n",
    "         X,1.5*y(X), \n",
    "         X,2*y(X), \n",
    "         X,2.5*y(X), \n",
    "         X,3*y(X), \n",
    "         X,0.5*y(X),\n",
    "         X,0.2*y(X))\n",
    "plt.grid()\n",
    "plt.show()"
   ]
  },
  {
   "cell_type": "markdown",
   "metadata": {},
   "source": [
    "**2.** A equação diferencial $\\frac{du}{dt} = t + 2$ tem solução obtida facilmente integrando ambos os lados fazendo\n",
    "\n",
    "$$ \\int \\frac{du}{dt}  = \\int (t+2)dt $$\n",
    "\n",
    "$$ u(t) = \\frac{t^2}{2}+2t+k$$\n",
    "\n",
    "em que $k$ é a constante de integração. Nesse caso a família de soluções, para $k=\\{-1,0,1,5,10,15, 20\\}$ pode ser visualizada como é mostrado abaixo.a\n"
   ]
  },
  {
   "cell_type": "code",
   "execution_count": null,
   "metadata": {},
   "outputs": [],
   "source": [
    "u = lambda t: (t**2/2)+2*t\n",
    "t = np.linspace(-5,3)\n",
    "plt.plot(t,u(t)-1, \n",
    "         t,u(t)-0, \n",
    "         t,u(t)+1,\n",
    "         t,u(t)+5, \n",
    "         t,u(t)+10,\n",
    "         t,u(t)+15,\n",
    "         t,u(t)+20,)\n",
    "plt.grid()\n",
    "plt.show()"
   ]
  },
  {
   "cell_type": "markdown",
   "metadata": {},
   "source": [
    "Se impomos uma condição, como por exemplo $u(0)= 8$, obtemos o valor $k=8$, que restringe a solução a uma única curva e não mais à uma família de curvas. Uma equação diferencial com condições iniciais como essa compõem o que chamamos de um *problema de valor inicial* (PVI). "
   ]
  },
  {
   "cell_type": "markdown",
   "metadata": {},
   "source": [
    "Ou seja, o problema de valor inicial descrito acima pode ser enunciado como\n",
    "\n",
    "$$ \n",
    "\\begin{cases} \n",
    "\\frac {du}{dt}= t+2\\\\ \n",
    "\\\\\n",
    "u(0)=8\n",
    "\\end{cases}$$"
   ]
  },
  {
   "cell_type": "markdown",
   "metadata": {},
   "source": [
    "**Usando Scipy**\n",
    "\n",
    "https://docs.scipy.org/doc/scipy/reference/generated/scipy.integrate.solve_ivp.html#scipy.integrate.solve_ivp"
   ]
  },
  {
   "cell_type": "code",
   "execution_count": null,
   "metadata": {},
   "outputs": [],
   "source": [
    "from scipy.integrate import solve_ivp"
   ]
  },
  {
   "cell_type": "code",
   "execution_count": null,
   "metadata": {},
   "outputs": [],
   "source": [
    "def du(t, u): return t+2  \n",
    "t0 = 0.0\n",
    "tf = 5.0\n",
    "u0 = [8]\n",
    "ti = np.linspace(t0,tf,20)\n",
    "\n",
    "sol = solve_ivp(du, (t0,tf), u0, t_eval=ti)\n",
    "sol.y "
   ]
  },
  {
   "cell_type": "code",
   "execution_count": null,
   "metadata": {},
   "outputs": [],
   "source": [
    "plt.plot(ti, sol.y[0],'rx', ti, u(ti)+u0[0])\n",
    "plt.grid()\n",
    "plt.show()"
   ]
  },
  {
   "cell_type": "markdown",
   "metadata": {},
   "source": [
    "E existência e unicidade da solução de um PVI é garantida, sob certas condições, pelos teoremas *Condição de Lipschits*, *Pincard-Lindelof* e *Dependência contínua na condição inicial* enunciados e demonstrados em Medeiros e Oliveira (2020, p.24, http://www.mat.ufpb.br/milton/disciplinas/edo/livro_edo.pdf)"
   ]
  },
  {
   "cell_type": "markdown",
   "metadata": {},
   "source": [
    "## Problema de valor Inicial (PVI)\n",
    "\n",
    "Considere a equação diferencial ordinária, $y' = y$, cuja solução é dada por $y(x)=ce^x$ $c\\in R$.\n",
    "\n",
    "Assim, a equação diferencial dada apresenta infinitas soluções, uma vez que, para cada valor escolhido para a constante $c$, temos uma solução, como, por exemplo, $y(x)=c_0e^x$,$y(x)=c_1e^x$,$y(x)=c_2e^x$,sendo $c_0$, $c_1$ , $c_2$ valores fixados,conforme exibido na figura abaixo.\n",
    "\n",
    "<img src=\"https://github.com/tiagoburiol/NUMETHODS/raw/master/8_SOLUCAO_NUMERICA_DE_EDOs/imagens/pvi01.png\" width=\"560\">\n",
    "\n",
    "Se considerarmos que conhecemos o valor da função $y(x)$ em um ponto, isto é, $x = x_0$ , o valor de $y(x)$ é $y(x_0) = y_0$ e temos uma única solução para a equação proposta. Esta solução única é obtida quando usamos a solução geral da equação diferencial\n",
    "no ponto $x = x_0$ e obtemos o valor da constante $c$, como segue: $$y(x_0)=y_0$$ \n",
    "então \n",
    "$$ce^{x_0} = y_0$$ \n",
    "logo \n",
    "$$c=y_0e^{0-x_0}$$\n",
    "\n",
    "Assim, a solução única para a equação diferencial é dada por: \n",
    "\n",
    "$$y(x) = ce^x = y_0 e^{-x_0} e^x = y_0e^{(x-x_0)}$$\n",
    "\n",
    "Portanto, $y(x) = y_0 e^{(x-x_0)}$, conforme exibido na figura.\n"
   ]
  },
  {
   "cell_type": "markdown",
   "metadata": {},
   "source": [
    "### Definição\n",
    "\n",
    "Um Problema de Valor Inicial (PVI) de primeira ordem consiste de uma equação diferencial $y' = f (x,y)$, $x \\geq x_0$ e uma condição inicial $y(x_0) = y_0$, em que $y_0$ é um valor dado, chamado de valor inicial.\n",
    "\n",
    "Neste caso, podemos escrever o PVI da seguinte forma:\n",
    "\n",
    "$$ \n",
    "\\begin{cases} \n",
    "y'= f(x,y)\\\\ \n",
    "\\\\\n",
    "y(x_0)=y_0\n",
    "\\end{cases}$$\n",
    "\n",
    "Resolver o PVI consiste em determinar uma função $y(x)$ que satisfaça a equação diferencial $y' = f (x,y)$ e a condição inicial $y(x_0) = y_0$.\n",
    "\n",
    "Se a função $f$ e $ \\frac{\\partial f}{\\partial y}$ são contínuas, temos que o PVI apresenta solução única.\n",
    "\n"
   ]
  },
  {
   "cell_type": "markdown",
   "metadata": {},
   "source": [
    "### Discretização\n",
    "\n",
    "Resolver numericamente um PVI consiste em calcular aproximações para $y = y(x)$ em pontos discretos $x_0,x_1,x_2,...,x_N$ de um intervalo $[a,b]$.\n",
    "\n",
    "Para discretizar o intervalo $[a,b]$, tomamos $N$ subintervalos $(N \\geq 1)$ e fazemos $x_n = x_0 + nh$, $n = 0,1,2,...,N$ com $x_0 =a$ e $x_N =b$,sendo $h = (x_N −x_0)/N$.\n",
    "\n",
    "A este conjunto de pontos $x_0,x_1,x_2,...,x_N$ denominamos rede ou malha de pontos discretos, e calculamos aproximações para a função $y(x)$ nestes pontos, isto é, determinamos $y_n$ tal que $y_n \\approx y(x_n)$, $n=0,1,...,N$.\n",
    "\n",
    "A partir de um ponto inicial dado $y(x_0) = y_0$ (valor inicial), calculamos passo a passo, nos pontos \n",
    "\n",
    "$x_1 = x_0 +h$, \n",
    "\n",
    "$x_2 = x_0 +2h$, \n",
    "\n",
    "$x_3 = x_0 +3h$\n",
    "\n",
    ",...,\n",
    "\n",
    "$x_n = x_0 +nh$, \n",
    "\n",
    "soluções aproximadas $y_n$ para a solução exata $y(x_n)$, $n=0,1,2,...,N$, conforme ilustrado na figura a seguir.\n",
    "\n",
    "<img src=\"https://github.com/tiagoburiol/NUMETHODS/raw/master/8_SOLUCAO_NUMERICA_DE_EDOs/imagens/discretizacao.png\" width=\"560\">"
   ]
  },
  {
   "cell_type": "markdown",
   "metadata": {
    "collapsed": true
   },
   "source": []
  }
 ],
 "metadata": {
  "kernelspec": {
   "display_name": "Python 3",
   "language": "python",
   "name": "python3"
  },
  "language_info": {
   "codemirror_mode": {
    "name": "ipython",
    "version": 3
   },
   "file_extension": ".py",
   "mimetype": "text/x-python",
   "name": "python",
   "nbconvert_exporter": "python",
   "pygments_lexer": "ipython3",
   "version": "3.8.5"
  }
 },
 "nbformat": 4,
 "nbformat_minor": 1
}
