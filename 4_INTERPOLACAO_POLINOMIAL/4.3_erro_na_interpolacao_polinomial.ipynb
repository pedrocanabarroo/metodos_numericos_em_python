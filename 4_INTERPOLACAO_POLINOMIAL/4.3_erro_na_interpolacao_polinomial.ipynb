{
 "cells": [
  {
   "cell_type": "markdown",
   "id": "8ff35140-4e77-40a2-aa83-5e061d0ceef2",
   "metadata": {},
   "source": [
    "## 4.3. Erros na interpolação \n",
    "\n",
    "#### Um limitante superior para o erro usando a fórmula de Lagrange\n",
    "\n",
    "([Burden,2016](https://integrada.minhabiblioteca.com.br/reader/books/9788522123414/pageid/136)) Se $x_0, x_1, \\ldots, x_n$ são $n+1$ números distintos, e $f$ é uma função cujos valores são dados por esses números, então existe um único polinômio $P(x)$ de grau no máximo $n$ \n",
    "\n",
    "$$\n",
    "f\\left(x_k\\right)=P\\left(x_k\\right), \\quad \\text { para cada } k=0,1, \\ldots, n .\n",
    "$$\n"
   ]
  },
  {
   "cell_type": "markdown",
   "id": "ad44d567-90d2-4c87-8942-a8ec7bf1ea67",
   "metadata": {},
   "source": [
    "Esse polinômio é dado por\n",
    "\n",
    "$$\n",
    "P(x)=f\\left(x_0\\right) L_{n, 0}(x)+\\cdots+f\\left(x_n\\right) L_{n, n}(x)=\\sum_{k=0}^n f\\left(x_k\\right) L_{n, k}(x),\n",
    "$$\n",
    "\n",
    "onde, para cada $k=0,1, \\ldots, n$,\n",
    "\n",
    "$$\n",
    "\\begin{aligned}\n",
    "L_{n, k}(x) & =\\frac{\\left(x-x_0\\right)\\left(x-x_1\\right) \\cdots\\left(x-x_{k-1}\\right)\\left(x-x_{k+1}\\right) \\cdots\\left(x-x_n\\right)}{\\left(x_k-x_0\\right)\\left(x_k-x_1\\right) \\cdots\\left(x_k-x_{k-1}\\right)\\left(x_k-x_{k+1}\\right) \\cdots\\left(x_k-x_n\\right)} \\\\\n",
    "& =\\prod_{\\substack{i=0 \\\\\n",
    "i \\neq k}}^n \\frac{\\left(x-x_i\\right)}{\\left(x_k-x_i\\right)}\n",
    "\\end{aligned}\n",
    "$$\n"
   ]
  },
  {
   "cell_type": "markdown",
   "id": "008ff910-d7ff-48a1-a903-50750762291c",
   "metadata": {},
   "source": [
    "Um esboço do gráfico de um típico $L_{n, k}$ quando $n$ é par é mostrado na Figura 4.3.1.\n",
    "\n",
    "<img src=\"https://raw.githubusercontent.com/tiagoburiol/metodos_numericos_em_python/refs/heads/main/4_INTERPOLACAO_POLINOMIAL/imagens/polinomio_Lk.png\" width=\"800\">\n",
    "\n",
    "Figura 4.3.1 - Gráfico de um típico $L_{n, k}$ quando $n$ é par ([Burden,2016](https://integrada.minhabiblioteca.com.br/reader/books/9788522123414/pageid/136))."
   ]
  },
  {
   "cell_type": "markdown",
   "id": "2075128b-c6ce-480d-97df-a74589ab1ac8",
   "metadata": {},
   "source": [
    "Já vimos que essa fórmula é conhecida como *polinômio interpolados de Lagrange*.\n",
    "\n",
    "O próximo passo é calcular um resto ou limitante para o erro envolvido na aproximação de uma função por um polinômio interpolador."
   ]
  },
  {
   "cell_type": "markdown",
   "id": "d751919e-29f8-4b5f-b483-67351f96f6ef",
   "metadata": {},
   "source": [
    "Suponha que $x_0, x_1, \\ldots, x_n$ sejam números distintos no intervalo $[a, b]$ e que $f \\in$ $C^{n+1}[a, b]$. Então, para cada $x$ em $[a, b]$, existe umnúmero $\\xi(x)$ (geralmente desconhecido) entre $\\min \\left\\{x_0, x_1, \\ldots, x_n\\right\\}$, e o $\\max \\left\\{x_0, x_1, \\ldots, x_n\\right\\}$ e consequentemente em $(a, b)$, com"
   ]
  },
  {
   "cell_type": "markdown",
   "id": "bab79565-968e-445e-88f5-81b2958d70a4",
   "metadata": {},
   "source": [
    "$$f(x)=P(x)+\\frac{f^{(n+1)}(\\xi(x))}{(n+1)!}\\left(x-x_0\\right)\\left(x-x_1\\right) \\cdots\\left(x-x_n\\right)$$\n",
    "onde $P(x)$ é o polinômio interpolador $P(x)=\\sum_{k=0}^n f\\left(x_k\\right) L_{n, k}(x)$,\n",
    "\n",
    "A demonstração desse resultado pode ser vista em [Burden (2016, p. 138)](https://integrada.minhabiblioteca.com.br/reader/books/9788522123414/pageid/138)."
   ]
  },
  {
   "cell_type": "markdown",
   "id": "d23e63a9-d26e-4cba-aa5f-eee4066ac4ca",
   "metadata": {},
   "source": [
    "**Exemplo 4.3.1:** Vamos usar os pontos com $x_0=2, x_1=2,75$ e $x_2=4$ para determinar o polinômio de Lagrange de grau 2 que aproxima a função $f(x)=\\frac{1}{x}$. Em seguida vamos determinar o erro máximo  quando o polinômio for usado para aproximar $f(x)$ com $x \\in [2,4]$.\n",
    "\n",
    "*Solução:* Primeiramente determinamos os coeficientes polinomiais $L_0(x), L_1(x)$ e $L_2(x)$.\n",
    "\n",
    "$$\n",
    "\\begin{aligned}\n",
    "& L_0(x)=\\frac{(x-2,75)(x-4)}{(2-2,75)(2-4)}=\\frac{2}{3}(x-2,75)(x-4) \\\\\n",
    "& L_1(x)=\\frac{(x-2)(x-4)}{(2,75-2)(2,75-4)}=-\\frac{16}{15}(x-2)(x-4)\n",
    "\\end{aligned}\n",
    "$$\n",
    "\n",
    "$$\n",
    "L_2(x)=\\frac{(x-2)(x-2,75)}{(4-2)(4-2,75)}=\\frac{2}{5}(x-2)(x-2,75)\n",
    "$$\n",
    "\n",
    "Além disso, tem-se $f\\left(x_0\\right)=f(2)=1 / 2, f\\left(x_1\\right)=f(2,75)=4 / 11$ e $f\\left(x^2\\right)=f(4)=1 / 4$, de modo que\n",
    "\n",
    "$$\r\n",
    "\\begin{aligned}\n",
    "P(x) & =\\sum_{k=0}^2 f\\left(x_k\\right) L_k(x) \\\\\n",
    "& =\\frac{1}{3}(x-2,75)(x-4)-\\frac{64}{165}(x-2)(x-4)+\\frac{1}{10}(x-2)(x-2,75) \\\\\n",
    "& =\\frac{1}{22} x^2-\\frac{35}{88} x+\\frac{49}{44}\n",
    "\\end{aligned}\r\n",
    "$$"
   ]
  },
  {
   "cell_type": "code",
   "execution_count": 1,
   "id": "5947ec76-21c3-44f7-88e3-6ddca3b98cd0",
   "metadata": {},
   "outputs": [],
   "source": [
    "import matplotlib.pyplot as plt\n",
    "plt.rcParams['figure.figsize'] = [6, 4]\n",
    "import numpy as np"
   ]
  },
  {
   "cell_type": "code",
   "execution_count": 2,
   "id": "d32c9c54-1aed-4dbe-895b-10d3253175c5",
   "metadata": {},
   "outputs": [
    {
     "data": {
      "image/png": "[encoded data removed]",
      "text/plain": [
       "<Figure size 600x400 with 1 Axes>"
      ]
     },
     "metadata": {},
     "output_type": "display_data"
    }
   ],
   "source": [
    "xi = np.array([2, 2.75, 4])\n",
    "yi =1/xi\n",
    "\n",
    "x = np.linspace(0.25,6)\n",
    "y = (1/22)*x**2 - (35/88)*x + 49/44\n",
    "\n",
    "plt.plot(xi,yi,'o', label='Pontos')\n",
    "plt.plot(x,y,'--', label='Polinômio')\n",
    "plt.plot(x,1/x,'-', label='Função')\n",
    "plt.legend()\n",
    "plt.grid()"
   ]
  },
  {
   "cell_type": "markdown",
   "id": "0c35784e-bb1c-44e4-807c-38126ba7ec8f",
   "metadata": {},
   "source": [
    "Para estimar o erro máximo, vamos primeiramente obter as derivadas de $f(x)=x^{-1}$ fazendo\n",
    "\n",
    "$$\n",
    "f^{\\prime}(x)=-x^{-2}, \\quad f^{\\prime \\prime}(x)=2 x^{-3} \\quad \\text { e } \\quad f^{\\prime \\prime \\prime}(x)=-6 x^{-4}\n",
    "$$\n",
    "\n",
    "Assim, a fórmula do erro fornece\n",
    "\n",
    "$$\n",
    "\\frac{f^{\\prime \\prime \\prime}(\\xi(x))}{3!}\\left(x-x_0\\right)\\left(x-x_1\\right)\\left(x-x_2\\right)=-(\\xi(x))^{-4}(x-2)(x-2,75)(x-4), \\quad \\text { para } \\xi(x) \\text { em }(2,4)\n",
    "$$\n",
    "\n",
    "\n",
    "O valor máximo de $(\\xi(x))^{-4}$ no intervalo é $2^{-4}=1 / 16$. Precisamos agora determinar o valor máximo neste intervalo do valor absoluto do polinômio\n",
    "\n",
    "$$\n",
    "g(x)=(x-2)(x-2,75)(x-4)=x^3-\\frac{35}{4} x^2+\\frac{49}{2} x-22.\n",
    "$$"
   ]
  },
  {
   "cell_type": "markdown",
   "id": "fdb21235-ac3c-4f84-b19b-5b05e95944ba",
   "metadata": {},
   "source": [
    "\n",
    "\n",
    "Já que\n",
    "\n",
    "$$\n",
    "\\frac{d}{dx} \\left(x^3-\\frac{35}{4} x^2+\\frac{49}{2} x-22\\right)=3 x^2-\\frac{35}{2} x+\\frac{49}{2}=\\frac{1}{2}(3 x-7)(2 x-7),\n",
    "$$\n",
    "\n",
    "os pontos críticos ocorrem em\n",
    "\n",
    "$$\n",
    "x=\\frac{7}{3}, \\operatorname{com} g\\left(\\frac{7}{3}\\right)=\\frac{25}{108}, \\quad \\text { e } \\quad x=\\frac{7}{2}, \\operatorname{com} g\\left(\\frac{7}{2}\\right)=-\\frac{9}{16} .\n",
    "$$\n"
   ]
  },
  {
   "cell_type": "markdown",
   "id": "7195f488-df18-4206-bad8-131561301e50",
   "metadata": {},
   "source": [
    "Assim, o erro máximo é\n",
    "\n",
    "$$\n",
    "\\frac{f^{\\prime \\prime \\prime}(\\xi(x))}{3!}\\left|\\left(x-x_0\\right)\\left(x-x_1\\right)\\left(x-x_2\\right)\\right| \\leq \\frac{1}{16}\\left|-\\frac{9}{16}\\right|=\\frac{9}{256} \\approx 0,03515625 .\n",
    "$$\n"
   ]
  },
  {
   "cell_type": "markdown",
   "id": "be6896c3-49b1-42b4-bf89-9b6354bff923",
   "metadata": {},
   "source": [
    "**Exemplo 4.3.2:** Considerando o polinômio de Lagrange que aproxima a função $f(x)=1/x$ no intervalo $[2,4]$ pelos pontos $x_0=2, x_1=2,75$ e $x_2=4$. Vamos agora usar a função `calculaP` para calcular o valor numérico do polinômio **sem obter a expressão do polinômio** e verificar o erro em um conjunto de 21 pontos igualmente espaçados o londo do intervalo. Vamos verificar se o erro não ultrapassa o valor estimado no Exemplo 4.3.1."
   ]
  },
  {
   "cell_type": "code",
   "execution_count": 3,
   "id": "92c79d20-00a8-45be-8e9d-e38bd9dbec90",
   "metadata": {},
   "outputs": [],
   "source": [
    "def calculaP(x,X,Y):\n",
    "    valor = 0\n",
    "    for k in range(len(X)):\n",
    "        lk = 1.0\n",
    "        for i in range(len(X)):\n",
    "            if k != i:\n",
    "                lk = lk*(x - X[i])/(X[k]-X[i])\n",
    "        valor = valor + Y[k]*lk \n",
    "    return valor"
   ]
  },
  {
   "cell_type": "code",
   "execution_count": 4,
   "id": "9b770512-25c7-4bae-bc5c-608e6c192adf",
   "metadata": {},
   "outputs": [],
   "source": [
    "xp = np.linspace(2,4,21)\n",
    "yp = 1/xp\n",
    "pi = []\n",
    "for x in xp:\n",
    "    pi.append(calculaP(x, xi, yi))\n",
    "pi = np.array(pi)"
   ]
  },
  {
   "cell_type": "code",
   "execution_count": 5,
   "id": "20226253-d0e8-4f6a-842e-b200f05de2d1",
   "metadata": {},
   "outputs": [
    {
     "name": "stdout",
     "output_type": "stream",
     "text": [
      "[ 0.          0.00267316  0.00409091  0.00453557  0.00424242  0.00340909\n",
      "  0.0022028   0.00076599 -0.00077922 -0.00232759 -0.00378788 -0.00508065\n",
      " -0.00613636 -0.00689394 -0.00729947 -0.00730519 -0.00686869 -0.00595209\n",
      " -0.00452153 -0.00254662  0.        ]\n"
     ]
    }
   ],
   "source": [
    "erro = pi-yp\n",
    "print(erro)"
   ]
  },
  {
   "cell_type": "code",
   "execution_count": 6,
   "id": "bb7012bb-9646-4bc9-aa7e-0cc98d499d43",
   "metadata": {},
   "outputs": [
    {
     "data": {
      "text/plain": [
       "0.007305194805194759"
      ]
     },
     "execution_count": 6,
     "metadata": {},
     "output_type": "execute_result"
    }
   ],
   "source": [
    "abs(erro).max()"
   ]
  },
  {
   "cell_type": "code",
   "execution_count": 7,
   "id": "47b6fb49-914a-4b95-b469-1c0543a1e2e1",
   "metadata": {},
   "outputs": [
    {
     "data": {
      "image/png": "[encoded data removed]",
      "text/plain": [
       "<Figure size 600x400 with 1 Axes>"
      ]
     },
     "metadata": {},
     "output_type": "display_data"
    }
   ],
   "source": [
    "plt.plot(xp, erro)\n",
    "#plt.plot(xp, yp)\n",
    "#plt.plot(xp,pi)\n",
    "plt.grid()"
   ]
  },
  {
   "cell_type": "code",
   "execution_count": null,
   "id": "12c760ba-cec8-41b8-8661-59df97b4b3c6",
   "metadata": {},
   "outputs": [],
   "source": []
  },
  {
   "cell_type": "markdown",
   "id": "940b4990-01e9-4016-8fa9-ceb1567294c9",
   "metadata": {},
   "source": [
    "#### Uma estimativa para o erro usando a fórmula de Newton de diferenças divididas\n",
    "\n",
    "\n",
    "O polinômio interpolador de Newton é dado por \n",
    "\n",
    "\n",
    "$$P(x)=f[x_0]+(x-x_0)f[x_0,x_1]+(x-x_0)(x-x_1)f[x_0,x_1,x_2]+...$$\n",
    "$$...+(x-x_0)(x-x_1)...(x-x_{n-1})f[x_0,...,x_n]$$\n",
    "\n",
    "\n",
    "onde $f[x_0]$, $f[x_0,x_1]$,...,$f[x_0,...,x_n]$ são as *diferenças divididas**"
   ]
  },
  {
   "cell_type": "markdown",
   "id": "0979904a-19cf-4ecb-80f0-8761fa997067",
   "metadata": {},
   "source": [
    "Uma tabela de diferenças divididas é mostrado na Figura 4.3.2.\n",
    "\n",
    "<img src=\"https://raw.githubusercontent.com/tiagoburiol/metodos_numericos_em_python/refs/heads/main/4_INTERPOLACAO_POLINOMIAL/imagens/tabela_dd.png\" width=\"800\">\n",
    "\n",
    "Figura 4.3.2 - Tabela de diferenças divididas de Newton (Fonte: [Chapra, 2016](https://integrada.minhabiblioteca.com.br/reader/books/9788580555691/pageid/455)) "
   ]
  },
  {
   "cell_type": "markdown",
   "id": "6c75cb23-5461-4441-a89f-3c9ba007fd33",
   "metadata": {},
   "source": [
    "([Chapra, 2016, p. 455](https://integrada.minhabiblioteca.com.br/reader/books/9788580555691/pageid/455)) Para um polinômio interpolador de grau $n$, uma fórmula para o erro é dada por \n",
    "\n",
    "$$\r\n",
    "R_n=\\frac{f^{(n+1)}(\\xi)}{(n+1)!}\\left(x-x_0\\right)\\left(x-x_1\\right) \\ldots\\left(x-x_n\\right)\r\n",
    "$$"
   ]
  },
  {
   "cell_type": "markdown",
   "id": "b610b913-5ebf-4eb5-8da6-ab6d8e5b8ca5",
   "metadata": {},
   "source": [
    "onde $\\xi$ é algum ponto no intervalo contendo a variável e os dados. Para essa fórmula ser útil, a função em questão deve ser conhecida e $(n + 1)$ vezes diferenciável. **Em geral, esse não é o caso**. Felizmente, está disponível uma formulação alternativa que não requer conhecimento anterior da função. Em vez disso, ela usa diferenças divididas finitas para aproximar a $(n + 1)$-ésima derivada,\r\n",
    "$$\r\n",
    "R_n=f\\left[x, x_n, x_{n-1}, \\ldots, x_0\\right]\\left(x-x_0\\right)\\left(x-x_1\\right) \\cdots\\left(x-x_n\\right)\r\n",
    "$$"
   ]
  },
  {
   "cell_type": "markdown",
   "id": "9185a8bc-fae7-4dfe-9489-b1b8b5b617d2",
   "metadata": {},
   "source": [
    "onde $f\\left[x, x_n, x_{n-1}, \\ldots, x_0\\right]$ é a $(n+1)$-ésima diferença dividida finita. \n",
    "\n",
    "Como esta expressão contém a incógnita $f(x)$, ela não determina o erro. Entretanto, se estiver disponível um ponto dado adicional $f(x_{n+1})$, a equação pode ser usada para estimar o erro, como em\n",
    "\r",
    "$$\r\n",
    "R_n \\cong f\\left[x_{n+1}, x_n, x_{n-1}, \\ldots, x_0\\right]\\left(x-x_0\\right)\\left(x-x_1\\right) \\cdots\\left(x-x_n\\right)\r\n",
    "$$"
   ]
  },
  {
   "cell_type": "markdown",
   "id": "97be346a-065a-4e84-b0b0-94617f503c42",
   "metadata": {},
   "source": [
    "**Exemplo 4.3.3:** ([Chapra, 2016, p. 451](https://integrada.minhabiblioteca.com.br/reader/books/9788580555691/pageid/451)) \n",
    "Ajuste um polinômio de segundo grau aos três pontos da função $f(x)=ln(x)$ dados, e use o polinômio para estimar $ln(2)$. Calcule o erro absoluto.\n",
    "\n",
    "Pontos:\n",
    "$$\r\n",
    "\\begin{array}{ll}\n",
    "x_0=1 & f\\left(x_0\\right)=0 \\\\\n",
    "x_1=4 & f\\left(x_1\\right)=1,386294 \\\\\n",
    "x_2=6 & f\\left(x_2\\right)=1,791759\n",
    "\\end{array}\r\n",
    "$$"
   ]
  },
  {
   "cell_type": "markdown",
   "id": "7a9ba67b-73a2-4172-983d-31f3d605314a",
   "metadata": {},
   "source": [
    "$f[x_0]=0$\n",
    "\n",
    "$f[x_0,x_1]=\\frac{1,386294-0}{4-1}=0,4620981$\n",
    "\n",
    "$ f[x_0,x_1,x_2]=\\frac{\\frac{1,791759-1,386294}{6-4}-0,4620981}{6-1}=-0,0518731$"
   ]
  },
  {
   "cell_type": "markdown",
   "id": "658fccfd-7abd-4123-b43e-b51561f5e853",
   "metadata": {},
   "source": [
    "Substituindo os os valores obtidos para as diferenças divididas na fórmula de Newton, obtemos o polinômio\n",
    "\n",
    "\n",
    "$$\n",
    "\\begin{array}{rl}\n",
    "P_2(x)= & 0+0,4620981(x-1)-0,0518731(x-1)(x-4)\\\\\n",
    "      = &-0.0518731x^2 + 0.7214636x - 0.6695905\n",
    "\\end{array}\n",
    "$$"
   ]
  },
  {
   "cell_type": "code",
   "execution_count": 8,
   "id": "0aa0ebca-7640-47c4-9fa5-29e02a91a177",
   "metadata": {},
   "outputs": [
    {
     "data": {
      "image/png": "[encoded data removed]",
      "text/plain": [
       "<Figure size 600x400 with 1 Axes>"
      ]
     },
     "metadata": {},
     "output_type": "display_data"
    }
   ],
   "source": [
    "xi = np.array([1, 4, 6])\n",
    "yi = np.log(xi)\n",
    "\n",
    "x = np.linspace(0.5,7)\n",
    "y = -0.0518731*x**2 + 0.7214636*x - 0.6695905\n",
    "\n",
    "plt.plot(xi,yi,'o', label='Pontos')\n",
    "plt.plot(x,y,'--', label='Polinômio')\n",
    "plt.plot(x,np.log(x),'-', label='Função')\n",
    "plt.legend()\n",
    "plt.grid()"
   ]
  },
  {
   "cell_type": "code",
   "execution_count": 9,
   "id": "fd0d7be7-e6a9-422c-8189-2662a5b3daf0",
   "metadata": {},
   "outputs": [
    {
     "name": "stdout",
     "output_type": "stream",
     "text": [
      "P(2) = 0.5658443\n"
     ]
    }
   ],
   "source": [
    "x = 2\n",
    "p2 = -0.0518731*x**2 + 0.7214636*x - 0.6695905\n",
    "print('P(2) =',p2)"
   ]
  },
  {
   "cell_type": "code",
   "execution_count": 10,
   "id": "9f63c754-eb00-424c-8100-abd832180355",
   "metadata": {},
   "outputs": [
    {
     "name": "stdout",
     "output_type": "stream",
     "text": [
      "Erro absoluto = 0.12730288055994532\n"
     ]
    }
   ],
   "source": [
    "print('Erro absoluto =',abs(p2-np.log(2)))"
   ]
  },
  {
   "cell_type": "markdown",
   "id": "f6ec70aa-3458-4865-a477-a46e83b01488",
   "metadata": {},
   "source": [
    "Agora, adicionando um quarto ponto $x_3 = 5$ , $f(x_3) = 1,609438$, vamos obter uma estimativa do erro para o polinômio interpolador de segundo grau fazendo\n",
    "\n",
    "$$\n",
    "R_2=f\\left[x_3, x_2, x_1, x_0\\right]\\left(x-x_0\\right)\\left(x-x_1\\right)\\left(x-x_2\\right)\n",
    "$$\n",
    "\r",
    "Para isso vamos precisar calcular as diferenças divididas incluindo o ponto $x_3$:"
   ]
  },
  {
   "cell_type": "code",
   "execution_count": 11,
   "id": "e78939da-e0a2-4e2a-9a91-8661e50da8dd",
   "metadata": {},
   "outputs": [],
   "source": [
    "def difdiv(x,y):\n",
    "    m = len(x)\n",
    "    dd = y.copy()\n",
    "    for k in range(1,m):\n",
    "        dd[k:m]=(dd[k:m]-dd[k-1])/(x[k:m]-x[k-1])\n",
    "    return dd"
   ]
  },
  {
   "cell_type": "code",
   "execution_count": 12,
   "id": "a867761d-9682-4b47-95ac-bab8304d59d3",
   "metadata": {},
   "outputs": [
    {
     "name": "stdout",
     "output_type": "stream",
     "text": [
      "[ 0.          0.46209812 -0.05973864  0.00786553]\n"
     ]
    }
   ],
   "source": [
    "xi = np.array([1, 4, 5, 6])\n",
    "yi = np.log(xi)\n",
    "print(difdiv(xi, yi))"
   ]
  },
  {
   "cell_type": "markdown",
   "id": "3d575d3e-c3a5-4cfe-8dab-50886e2ab9b4",
   "metadata": {},
   "source": [
    "Assim,  $f[x_0,x_1,x_2, x_3]=0,00786553$. Então podemos escrever\n",
    "\n",
    "$$\n",
    "R_2=0,007865529(x-1)(x-4)(x-6)\n",
    "$$\n",
    "\n",
    "onde o valor da diferença dividida finita de terceira ordem é como calculado usando a função `difdiv` desenvolvida anteriormente. Essa relação pode ser calculada em $x=2$ por\n",
    "\n",
    "$$\n",
    "R_2=0,007865529(2-1)(2-4)(2-6)=0,0629242\n",
    "$$\n",
    "\n",
    "que é da mesma ordem de grandeza que o erro verdadeiro ([Chapra, 2016, p. 455](https://integrada.minhabiblioteca.com.br/reader/books/9788580555691/pageid/455)) ."
   ]
  },
  {
   "cell_type": "markdown",
   "id": "c079ed90-353b-4c90-80e1-ff27bf650e0d",
   "metadata": {},
   "source": [
    "Por exemplo, arredondando com uma casa decimal obtemos: "
   ]
  },
  {
   "cell_type": "code",
   "execution_count": 13,
   "id": "7bd8cacf-e921-4a29-af4c-330c93e62cbd",
   "metadata": {},
   "outputs": [
    {
     "data": {
      "text/plain": [
       "0.1"
      ]
     },
     "execution_count": 13,
     "metadata": {},
     "output_type": "execute_result"
    }
   ],
   "source": [
    "np.round(0.0629242,1)"
   ]
  },
  {
   "cell_type": "code",
   "execution_count": 14,
   "id": "837a087c-111c-4c77-a0a3-06a4f6e2a357",
   "metadata": {},
   "outputs": [
    {
     "data": {
      "text/plain": [
       "0.1"
      ]
     },
     "execution_count": 14,
     "metadata": {},
     "output_type": "execute_result"
    }
   ],
   "source": [
    "np.round(0.12730288055994532,1)"
   ]
  },
  {
   "cell_type": "markdown",
   "id": "903caeb0-ecdf-4a23-9cdf-856a5e83ae43",
   "metadata": {},
   "source": [
    "**Exercícios:**\n",
    "\n",
    "**1.** Para as funções $f(x)$ dadas, construa polinômios interpoladores de graus entre 2 e 5 para determinar uma aproximação de $f(0,45)$ e encontre o erro absoluto. Encontre uma estimativa para o erro.\n",
    "\n",
    "a) $f(x)=\\cos x$\n",
    "\n",
    "b) $f(x)=\\sqrt{1+x}$\n",
    "\n",
    "c) $f(x)=\\ln (x+1)$\n",
    "\n",
    "d) $f(x)=\\operatorname{tg} x$\n",
    "\n",
    "**2.** Para as funções $f(x)$, construa polinômios interpoladores de graus entre 2 e 5 para determinar uma aproximação de $f(1,4)$, e encontre o erro absoluto. Encontre uma estimativa para o erro.\n",
    "\n",
    "a) $f(x)=\\operatorname{sen} \\pi x$\n",
    "\n",
    "b) $f(x)=\\sqrt[3]{x-1}$\n",
    "\n",
    "c) $f(x)=\\log _{10}(3 x-1)$\n",
    "\n",
    "d) $f(x)=e^{2 x}-x$"
   ]
  },
  {
   "cell_type": "markdown",
   "id": "6b0159c8-b05f-452b-a384-109b2be45868",
   "metadata": {},
   "source": [
    "**3.** ([Burden, 2016, p. 125](https://integrada.minhabiblioteca.com.br/reader/books/9788522123414/pageid/141)) Utilize polinômios interpoladores de Lagrange de graus dois e três adequados para aproximar cada um dos seguintes:\n",
    "\n",
    "a) $f(8,4)$ se $f(8,1)=16,94410, f(8,3)=17,56492, f(8,6)=18,50515, f(8,7)=18,82091$\n",
    "\n",
    "b) $f\\left(-\\frac{1}{3}\\right)$ se $f(-0,75)=-0,07181250, f(-0,5)=-0,02475000, f(-0,25)=0,33493750, f(0)= 1,10100000$\n",
    "\n",
    "c) $f(0,25)$ se $f(0,1)=0,62049958, f(0,2)=-0,28398668, f(0,3)=0,00660095, f(0,4)=0,24842440$\n",
    "\n",
    "d) $f(0,9)$ se $f(0,6)=-0,17694460, f(0,7)=0,01375227, f(0,8)=0,22363362, f(1,0)=0,65809197$\n",
    "\n",
    "e) $f(0,43)$ se $f(0)=1, f(0,25)=1,64872, f(0,5)=2,71828, f(0,75)=4,48169$\n",
    "\n",
    "f) $f(0)$ se $f(-0,5)=1,93750, f(-0,25)=1,332303, f(0,25)=0,800781, f(0,5)=0,687500$\n",
    "\n",
    "g) $f(0,18)$ se $f(0,1)=-0,29004986, f(0,2)=-0,56079734, f(0,3)=-0,81401972, f(0,4)=$ $-1,0526302$\n",
    "\n",
    "h) $f(0,25)$ se $f(-1)=0,86199480, f(-0,5)=0,95802009, f(0)=1,0986123, f(0,5)=1,2943767$\n",
    "\n",
    "**4.**  ([Burden, 2016, p. 125](https://integrada.minhabiblioteca.com.br/reader/books/9788522123414/pageid/141)) Os dados do Exercício 3 foram gerados a partir das funções a seguir. Use a fórmula de erro para encontrar um limitante para o erro e compare o limitante ao erro real para os polinômiod de grau 2\n",
    "\n",
    "a) $f(x)=x \\ln x$\n",
    "\n",
    "b) $f(x)=x^3+4,001 x^2+4,002 x+1,101$\n",
    "\n",
    "c) $f(x)=x \\cos x-2 x^2+3 x-1$\n",
    "\n",
    "d) $f(x)=\\operatorname{sen}\\left(e^x-2\\right)$\n",
    "\n",
    "e) $f(x)=e^{2 x}$\n",
    "\n",
    "f) $f(x)=x^4-x^3+x^2-x+1$\n",
    "\n",
    "g) $f(x)=x^2 \\cos x-3 x$\n",
    "\n",
    "h) $f(x)=\\ln \\left(e^x+2\\right)$\n"
   ]
  },
  {
   "cell_type": "code",
   "execution_count": null,
   "id": "9aac9487-9b42-4e7d-8fd0-8aa3dc13d4ef",
   "metadata": {},
   "outputs": [],
   "source": []
  }
 ],
 "metadata": {
  "kernelspec": {
   "display_name": "Python 3 (ipykernel)",
   "language": "python",
   "name": "python3"
  },
  "language_info": {
   "codemirror_mode": {
    "name": "ipython",
    "version": 3
   },
   "file_extension": ".py",
   "mimetype": "text/x-python",
   "name": "python",
   "nbconvert_exporter": "python",
   "pygments_lexer": "ipython3",
   "version": "3.12.4"
  }
 },
 "nbformat": 4,
 "nbformat_minor": 5
}
