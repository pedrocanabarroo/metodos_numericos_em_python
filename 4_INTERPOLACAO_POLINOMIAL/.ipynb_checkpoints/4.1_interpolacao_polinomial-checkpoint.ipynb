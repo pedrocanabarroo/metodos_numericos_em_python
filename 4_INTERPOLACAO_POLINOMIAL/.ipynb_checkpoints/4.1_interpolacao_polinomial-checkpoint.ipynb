{
 "cells": [
  {
   "cell_type": "markdown",
   "metadata": {},
   "source": [
    "## 5.1. Interpolação Polinomial\n",
    "\n",
    "### Introdução\n",
    "\n",
    "Segundo o teorema da aproximação de Weierstrass, qualquer função contínua definida em um intervalo fechado pode ser aproximada uniformemente por um polinômio tão bem quanto se queira.  \n",
    "\n",
    "**Teorema aproximação de Weierstrass:** Seja $f$ uma função contínua definida no intervalo fechado $[a,b]$ e seja $\\delta$ um número positivo. Então existe um polinômio $p$, tal que para todo $x\\in[a,b]$,\n",
    "\n",
    "$$ |f(x)-p(x)|<\\delta. $$\n",
    "\n",
    "Observe que para o problema ser bem determinado, é necessário restringirmos o grau dos polinômios. Dado um conjunto de $n$ pontos a serem interpolados $\\{(x_i,y_i)\\}_{i=1}^{n}$, $x_i\\neq x_j$ para $i\\neq j$, a família de polinômios $\\mathcal{F} = \\mathbb{P}_{n-1}$ deve ser escolhida tal que o grau o grau do polinômio interpolador seja menor ou igual a $n-1$.\n"
   ]
  },
  {
   "cell_type": "markdown",
   "metadata": {},
   "source": [
    "**Exemplo:** Considere o problema de encontrar um polinômio interpolador para do conjunto de pontos $\\{(0, 1)$, $(1, 6)$, $(2, 5)$, $(3, -8)\\}$. Como o conjunto consiste de 4 pontos, o polinômio interpolador deve ser da forma:\n",
    "\\begin{equation}\n",
    "  p(x) = a_0 + a_1x + a_2x^2 + a_3x^3.\n",
    "\\end{equation}"
   ]
  },
  {
   "cell_type": "markdown",
   "metadata": {},
   "source": [
    "As condições de interpolação são $p(x_i) = y_i$, $i = 0, 1, 2, 3$, o que nos leva ao sistema linear:\n",
    "\n",
    "$$\\begin{cases} \n",
    "    a_0=1\\\\\n",
    "    a_0+a_1+a_2+a_3=6\\\\\n",
    "    a_0+2a_1+4a_2+ 8a_3=5\\\\\n",
    "    a_0+3a_1+9a_2+27a_3=-8\n",
    "\\end{cases} $$\n",
    "\n",
    "cuja solução é $a_0=1$, $a_1=6$, $a_2=0$ e $a_3=1$. Portanto, o polinômio interpolador é $p(x)=-1+6x1x^3$.\n",
    " \n",
    "Computacionalmente, podemos resolver esse exemplo como é mostrado a seguir"
   ]
  },
  {
   "cell_type": "code",
   "execution_count": 123,
   "metadata": {},
   "outputs": [],
   "source": [
    "import numpy as np\n",
    "import matplotlib.pyplot as plt"
   ]
  },
  {
   "cell_type": "code",
   "execution_count": 124,
   "metadata": {},
   "outputs": [],
   "source": [
    "# Em python\n",
    "xi = np.array([0,1,2,3], dtype='float') \n",
    "yi = np.array([1,6,5,-8], dtype='float') "
   ]
  },
  {
   "cell_type": "code",
   "execution_count": 125,
   "metadata": {},
   "outputs": [
    {
     "data": {
      "text/plain": [
       "array([[ 0.,  0.,  0.,  1.],\n",
       "       [ 1.,  1.,  1.,  1.],\n",
       "       [ 8.,  4.,  2.,  1.],\n",
       "       [27.,  9.,  3.,  1.]])"
      ]
     },
     "execution_count": 125,
     "metadata": {},
     "output_type": "execute_result"
    }
   ],
   "source": [
    "A = np.stack((xi**3,xi**2,xi**1,xi**0), axis=1)\n",
    "#ou, equivalentemente:\n",
    "#A = np.array([xi**3,xi**2,xi**1,xi**0]).T\n",
    "A"
   ]
  },
  {
   "cell_type": "code",
   "execution_count": 126,
   "metadata": {},
   "outputs": [
    {
     "name": "stdout",
     "output_type": "stream",
     "text": [
      "Coeficientes do polinômio: [-1. -0.  6.  1.]\n"
     ]
    }
   ],
   "source": [
    "a = np.linalg.solve(A,yi)\n",
    "#ou, equivalentemente:\n",
    "#a = np.linalg.inv(A).dot(yi)\n",
    "print ('Coeficientes do polinômio:',np.round(a,2))"
   ]
  },
  {
   "cell_type": "code",
   "execution_count": 127,
   "metadata": {},
   "outputs": [
    {
     "data": {
      "image/png": "[encoded data removed]",
      "text/plain": [
       "<Figure size 432x288 with 1 Axes>"
      ]
     },
     "metadata": {
      "needs_background": "light"
     },
     "output_type": "display_data"
    }
   ],
   "source": [
    "# Plotando\n",
    "x = np.linspace(-1.5,3.5)\n",
    "plt.plot(xi,yi,'ro',x,np.polyval(a,x),'b-') \n",
    "plt.grid()\n",
    "plt.show()"
   ]
  },
  {
   "cell_type": "markdown",
   "metadata": {},
   "source": [
    "### Definição: Interpolação Polinomial\n",
    "\n",
    "Seja $f(x)$ definida em $x_0, x_1,...,x_n$, (n+1) pontos distintos de um intervalo $[a,b]$ e $y_i=f(x_i)$, $i = 0,1,...,n$, interpolar $f$ por um polinômio interpolador, significa encontrar um polinômio de grau $\\leq n$ tal que \n",
    "\n",
    "$$P(x_i)=f(x_i)=y_i$$\n",
    "\n",
    "com  $i = 0,1,...,n$.\n",
    "\n",
    "![Image of Yaktocat](https://github.com/tiagoburiol/NUMETHODS/raw/master/5_INTERPOLACAO/imagens/polinomio_interpolador.png)\n",
    "\n",
    "OBS: O polinômio interpolador existe e é um único.\n",
    "\n",
    "### Erro na interpolação polinomial\n",
    "\n",
    "Embora $P(x_i)=f(x_i)$ nos pontos $x_0, x_1,...,x_n$, em geral, $P(\\overline x) \\neq f(\\overline x)$ para $\\overline x \\neq x_ i$, $x_0, x_1,...,x_n$, espera-se que $P(\\overline x) \\simeq f(\\overline x)$ com erro dado por \n",
    "\n",
    "$$ E(\\overline x) = f(\\overline x) - P(\\overline x) $$\n",
    "\n",
    "Graficamente, tem-se\n",
    "![Image of Yaktocat](https://github.com/tiagoburiol/NUMETHODS/raw/master/5_INTERPOLACAO/imagens/erro_na_interpolacao.png)\n",
    "\n",
    "**Teorema:** Seja $f(x)$ definida e (n+1) vezes diferenciável em $[a,b]$ então o erro $E(x)$ é dado por \n",
    "\n",
    "$$\n",
    "E(\\overline x) = f(\\overline x) - P(\\overline x) = \\frac{\\psi(x)}{(n+1)!}f^{(n+1)}(\\xi)\n",
    "$$\n",
    "\n",
    "em que \n",
    "\n",
    "$$\n",
    "\\psi(x)= \\prod_{i=0}^n (x-x_i)\n",
    "$$\n",
    "com $\\xi \\in[x_ 0, x_ n]$.\n",
    "\n",
    "### Um limitante superior para o erro\n",
    "\n",
    "Como $\\xi$, na fórmula para o erro, não é conhecido, não podemos calcular o valor exato do erro, mas podemos obter uma estimativa, fazendo\n",
    "\n",
    "$$\n",
    "E(\\overline x) =  \\frac{\\left| \\psi(x) \\right|}{(n+1)!}  M\n",
    "$$\n",
    "\n",
    "onde \n",
    "\n",
    "$$M = max \\{  \\left|f^{(n+1)}(x)\\right|, x \\in [x_0, x_1] \\} $$.\n"
   ]
  },
  {
   "cell_type": "markdown",
   "metadata": {
    "collapsed": true
   },
   "source": [
    "**Exemplo:** Considere a função $f(x)=\\frac{x+3}{x+1}$. Interpolar um polinômio de grau 4 nos pontos $x = 0, 0.1, 0.5, 1.0$ e $2.0$."
   ]
  },
  {
   "cell_type": "code",
   "execution_count": 83,
   "metadata": {},
   "outputs": [],
   "source": [
    "xi = np.array([-0.5,0.1,0.5,1.0,2.0])\n",
    "yi = (xi+3)/(xi+1)"
   ]
  },
  {
   "cell_type": "code",
   "execution_count": 84,
   "metadata": {
    "scrolled": true
   },
   "outputs": [
    {
     "data": {
      "text/plain": [
       "array([[ 0.1, -0.1,  0.2, -0.5,  1. ],\n",
       "       [ 0. ,  0. ,  0. ,  0.1,  1. ],\n",
       "       [ 0.1,  0.1,  0.2,  0.5,  1. ],\n",
       "       [ 1. ,  1. ,  1. ,  1. ,  1. ],\n",
       "       [16. ,  8. ,  4. ,  2. ,  1. ]])"
      ]
     },
     "execution_count": 84,
     "metadata": {},
     "output_type": "execute_result"
    }
   ],
   "source": [
    "A = np.array([xi**4, xi**3,xi**2,xi**1,xi**0]).transpose()\n",
    "np.round(A,1)"
   ]
  },
  {
   "cell_type": "code",
   "execution_count": 85,
   "metadata": {},
   "outputs": [
    {
     "data": {
      "text/plain": [
       "array([ 0.404 , -1.6566,  2.4848, -2.2525,  3.0202])"
      ]
     },
     "execution_count": 85,
     "metadata": {},
     "output_type": "execute_result"
    }
   ],
   "source": [
    "a = np.linalg.inv(A).dot(yi)\n",
    "np.round(a,4)"
   ]
  },
  {
   "cell_type": "code",
   "execution_count": 92,
   "metadata": {
    "scrolled": true
   },
   "outputs": [
    {
     "data": {
      "image/png": "[encoded data removed]",
      "text/plain": [
       "<Figure size 432x288 with 1 Axes>"
      ]
     },
     "metadata": {
      "needs_background": "light"
     },
     "output_type": "display_data"
    }
   ],
   "source": [
    "x = np.linspace(-0.75,2.75);  \n",
    "plt.plot(xi,yi,'ro',x,np.polyval(a,x),'b-')  \n",
    "plt.plot(xi,yi,'ro',x,(x+3)/(x+1),'g--')  \n",
    "plt.grid()\n",
    "plt.show()"
   ]
  },
  {
   "cell_type": "markdown",
   "metadata": {},
   "source": [
    "**Exercícios**\n",
    "\n",
    "**1.** Encontre o polinômio interpolador para o conjunto de pontos $\\{(-2, -47)$, $(0, -3)$, $(1, 4)$, $(2, 41)\\}$. Então, faça um gráfico com os pontos e o polinômio interpolador encontrado.\n",
    "\n",
    "_Resposta:_ $P(x) = -3 + 2x + 5x^3$.\n",
    "\n",
    "\n",
    "**2.**  Encontre o polinômio interpolador para o conjunto de pontos $\\{(-1, 1,25)$, $(0,5, 0,5)$, $(1, 1,25)$, $(1,25, 1,8125)\\}$.\n",
    "\n",
    "_Resposta:_ $P(x) = 0,25 + x^2$.\n",
    "\n",
    "\n"
   ]
  },
  {
   "cell_type": "code",
   "execution_count": null,
   "metadata": {},
   "outputs": [],
   "source": []
  }
 ],
 "metadata": {
  "anaconda-cloud": {},
  "kernelspec": {
   "display_name": "Python 3",
   "language": "python",
   "name": "python3"
  },
  "language_info": {
   "codemirror_mode": {
    "name": "ipython",
    "version": 3
   },
   "file_extension": ".py",
   "mimetype": "text/x-python",
   "name": "python",
   "nbconvert_exporter": "python",
   "pygments_lexer": "ipython3",
   "version": "3.8.5"
  }
 },
 "nbformat": 4,
 "nbformat_minor": 1
}
