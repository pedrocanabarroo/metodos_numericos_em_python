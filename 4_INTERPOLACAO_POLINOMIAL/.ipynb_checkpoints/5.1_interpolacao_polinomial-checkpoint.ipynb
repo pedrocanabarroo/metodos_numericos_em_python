{
 "cells": [
  {
   "cell_type": "markdown",
   "metadata": {},
   "source": [
    "## 5.1. Interpolação Polinomial\n",
    "\n",
    "Seja $f(x)$ definida em $x_0, x_1,...,x_n$, (n+1) pontos distintos de um intervalo $[a,b]$ e $y_i=f(x_i)$, $i = 0,1,...,n$, interpolar $f$ por um polinômio interpolador, significa encontrar um polinômio de grau $\\leq n$ tal que \n",
    "\n",
    "$$P(x_i)=f(x_i)=y_i$$\n",
    "\n",
    "com  $i = 0,1,...,n$.\n",
    "\n",
    "![Image of Yaktocat](https://github.com/tiagoburiol/NUMETHODS/raw/master/5.%20INTERPOLACAO/imagens/polinomio_interpolador.png)\n",
    "\n",
    "OBS: Dada $f(x)$ definida em $x_0, x_1,...,x_n$, (n+1) pontos distintos de um intervalo $[a,b]$, existe um único polinômio de grau $\\leq n$ tal que $P(x_i)=f(x_i)=y_i$, com  $i = 0,1,...,n$.\n",
    "\n",
    "### Erro na interpolação polinomial\n",
    "\n",
    "Embora $P(x_i)=f(x_i)$ nos pontos $x_0, x_1,...,x_n$, em geral, $P(\\overline x) \\neq f(\\overline x)$ para $\\overline x \\neq x_ i$, $x_0, x_1,...,x_n$, espera-se que $P(\\overline x) \\simeq f(\\overline x)$ com erro dado por \n",
    "\n",
    "$$ E(\\overline x) = f(\\overline x) - P(\\overline x) $$\n",
    "\n",
    "Graficamente, tem-se\n",
    "![Image of Yaktocat](https://github.com/tiagoburiol/NUMETHODS/raw/master/5.%20INTERPOLACAO/imagens/erro_na_interpolacao.png)\n",
    "\n",
    "**Teorema:** Seja $f(x)$ definida e (n+1) vezes diferenciável em $[a,b]$ então o erro $E(x)$ é dado por \n",
    "\n",
    "$$\n",
    "E(\\overline x) = f(\\overline x) - P(\\overline x) = \\frac{\\psi(x)}{(n+1)!}f^{(n+1)}(\\xi)\n",
    "$$\n",
    "\n",
    "em que \n",
    "\n",
    "$$\n",
    "\\psi(x)= \\prod_{i=1}^n (x-x_i)\n",
    "$$\n",
    "com $\\xi \\in[x_ 0, x_ n]$\n",
    "\n",
    "### Um limitante superior para o erro\n",
    "\n",
    "Como $\\xi$, na fórmula para o erro, não é conhecido, não podemos calcular o valor exato do erro, mas podemos obter uma estimativa, fazendo\n",
    "\n",
    "$$\n",
    "E(\\overline x) =  \\frac{\\left| \\psi(x) \\right|}{(n+1)!}  M\n",
    "$$\n",
    "\n",
    "onde \n",
    "\n",
    "$$M = máx \\{  \\left|f^{(n+1)}(\\xi)\\right|, x \\in [x_0, x_1] \\} $$.\n"
   ]
  },
  {
   "cell_type": "code",
   "execution_count": null,
   "metadata": {
    "collapsed": true
   },
   "outputs": [],
   "source": []
  }
 ],
 "metadata": {
  "anaconda-cloud": {},
  "kernelspec": {
   "display_name": "Python 3",
   "language": "python",
   "name": "python3"
  },
  "language_info": {
   "codemirror_mode": {
    "name": "ipython",
    "version": 3
   },
   "file_extension": ".py",
   "mimetype": "text/x-python",
   "name": "python",
   "nbconvert_exporter": "python",
   "pygments_lexer": "ipython3",
   "version": "3.5.1"
  }
 },
 "nbformat": 4,
 "nbformat_minor": 0
}
