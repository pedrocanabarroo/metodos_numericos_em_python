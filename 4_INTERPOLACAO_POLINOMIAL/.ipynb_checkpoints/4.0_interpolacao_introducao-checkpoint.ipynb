{
 "cells": [
  {
   "cell_type": "markdown",
   "metadata": {},
   "source": [
    "# 5. Interpolação\n",
    "\n",
    "Interpolar uma função $f: R \\rightarrow R$ em um conjunto de \"n\" pontos distintos de um intervalo $[a,b]$ significa encontrar a função $f(x)$ tal que \n",
    "\n",
    "$$f(x_i)=y_i$$\n",
    "\n",
    "com  $i = 0,1,...,n$, ou seja, encontrar uma função que \"passe\" por todos esses pontos.\n",
    "\n",
    "![funcao_interpoladora.png](https://github.com/tiagoburiol/NUMETHODS/raw/master/5_INTERPOLACAO/imagens/funcao_interpoladora.png)\n",
    "\n",
    "\n",
    "O caso mais simples de interpolação que podemos citar é o de encontrar a reta (função afim) que passa por dois pontos. \n",
    "\n",
    "**Exemplo 1:**<br>\n",
    "Encontrar a função afim que interpola os pontos ${(1,2),(5,1)}$.<br>\n",
    "*Solução:* Sabemos que a forma geral de uma função afim é $f(x)=ax+b=y$, então podemos encontrar a função $f$ calculando os coeficientes $a$ e $b$, resolvendo o sistema linear\n",
    "$$ \\begin{cases} \n",
    "\t         a + b = 2\\\\ \n",
    "\t         5a + b = 1\\\\\n",
    "\t         \\end{cases} $$\n",
    "que nos fornece $f(x)=-\\frac{1}{4}x+\\frac{9}{4}$.\n",
    "\n",
    "Em python podemos obter a solução desse exemplo como é mostrado abaixo."
   ]
  },
  {
   "cell_type": "code",
   "execution_count": 25,
   "metadata": {},
   "outputs": [
    {
     "name": "stdout",
     "output_type": "stream",
     "text": [
      "f(x)= -0.25 x + 2.25\n"
     ]
    },
    {
     "data": {
      "text/plain": [
       "<function matplotlib.pyplot.show>"
      ]
     },
     "execution_count": 25,
     "metadata": {},
     "output_type": "execute_result"
    },
    {
     "data": {
      "image/png": "[encoded data removed]",
      "text/plain": [
       "<matplotlib.figure.Figure at 0x7f02ce96cc88>"
      ]
     },
     "metadata": {},
     "output_type": "display_data"
    }
   ],
   "source": [
    "% matplotlib inline\n",
    "from scipy import linalg\n",
    "import matplotlib.pyplot as plt\n",
    "import numpy as np\n",
    "\n",
    "x = [1, 5] #coordenadas x dos pontos\n",
    "y = [2, 1] #coordenadas y dos pontos\n",
    "\n",
    "# monta e resolve o sistema\n",
    "A = [[x[0], 1],[x[1], 1]]\n",
    "b = y\n",
    "coef = linalg.solve(A,b)\n",
    "print ('f(x)=',coef[0],\"x +\",coef[1])\n",
    "\n",
    "# cria lista de pontos para plotar a função\n",
    "X = np.linspace(0, 6, 10)\n",
    "\n",
    "# função obtida\n",
    "f = lambda x: coef[0]*x + coef[1] \n",
    "\n",
    "# plota\n",
    "plt.plot(x, y, 'o', X, f(X), '-')\n",
    "plt.grid()\n",
    "plt.show"
   ]
  },
  {
   "cell_type": "markdown",
   "metadata": {},
   "source": [
    "Algumas técnicas de interpolação comumente utilizadas incluem interpolação polinomial e interpolação por splines. O exemplo a seguir mostra como interpolar um conjunto de 4 pontos por uma spline cúbica.\n",
    "\n",
    "**Exemplo 2**<br>\n",
    "Código em Python para interpolar 4 pontos por uma Spline cúbica."
   ]
  },
  {
   "cell_type": "code",
   "execution_count": 6,
   "metadata": {},
   "outputs": [
    {
     "data": {
      "image/png": "[encoded data removed]",
      "text/plain": [
       "<Figure size 432x288 with 1 Axes>"
      ]
     },
     "metadata": {
      "needs_background": "light"
     },
     "output_type": "display_data"
    }
   ],
   "source": [
    "from scipy.interpolate import interp1d\n",
    "import matplotlib.pyplot as plt\n",
    "\n",
    "x = np.array([0.97, 2.10, 2.99, 4.05])\n",
    "y = np.array([1.21, 4.15, 3.25, 6.21])\n",
    "\n",
    "f = interp1d(x, y, kind='cubic') \n",
    "\n",
    "xnew = np.linspace(x[0], x[-1], num=20)\n",
    "\n",
    "plt.plot(x, y, 'o', xnew, f(xnew),'-')\n",
    "plt.grid()\n",
    "plt.show()\n"
   ]
  },
  {
   "cell_type": "code",
   "execution_count": null,
   "metadata": {},
   "outputs": [],
   "source": []
  }
 ],
 "metadata": {
  "anaconda-cloud": {},
  "kernelspec": {
   "display_name": "Python 3",
   "language": "python",
   "name": "python3"
  },
  "language_info": {
   "codemirror_mode": {
    "name": "ipython",
    "version": 3
   },
   "file_extension": ".py",
   "mimetype": "text/x-python",
   "name": "python",
   "nbconvert_exporter": "python",
   "pygments_lexer": "ipython3",
   "version": "3.8.5"
  }
 },
 "nbformat": 4,
 "nbformat_minor": 1
}
