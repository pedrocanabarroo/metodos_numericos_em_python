{
 "cells": [
  {
   "cell_type": "markdown",
   "metadata": {
    "collapsed": true,
    "jupyter": {
     "outputs_hidden": true
    }
   },
   "source": [
    "## 1.4 Exemplos aplicados\n",
    "\n",
    " A seguir são apresentados alguns exemplos envolvendo a modelagem matemática de problemas físicos e sua respectiva resolução numéricas.\n"
   ]
  },
  {
   "cell_type": "markdown",
   "metadata": {},
   "source": [
    "**Exemplo 1.4.1:** (Fórmula iterativa para obter raiz quadrada)\n",
    "\n",
    "\n",
    "A equação $f(x)=x^2-a=0$, com $a>0$, podemos utilizar o seguinte processo iterativo:\n",
    "\n",
    "$$ x_{n+1}=\\frac{1}{2} \\left( x_n + \\frac{a}{x_n} \\right), \\,\\,\\, n=1,2,...$$\n",
    "\n",
    "A partir de uma aproximação inicial $x_0$, usamos essa expressão para gerar a sequência de soluções aproximadas $x_1$, $x_2$, ...\n",
    "\n",
    "Assim, por exemplo, para calcular aproximações para $\\sqrt{2}$, podemos fazer\n",
    "\n",
    "$ x_0 = 1.5 $\n",
    "\n",
    "$ x_1 = 1/2(1.5 + 2/1.5) = 1.4166666666666665 $\n",
    "\n",
    "$x_2 = 1/2(1.4166666666666665 + 2/1.4166666666666665) = 1.4142156862745097 $\n",
    "\n",
    "E assim por diante.\n",
    "\n",
    "Em Python podemos fazer:"
   ]
  },
  {
   "cell_type": "code",
   "execution_count": 1,
   "metadata": {},
   "outputs": [
    {
     "name": "stdout",
     "output_type": "stream",
     "text": [
      "1.5 1.0\n",
      "1.4166666666666665 0.058823529411764816\n",
      "1.4142156862745097 0.001733102253032923\n",
      "1.4142135623746899 1.5018239651360762e-06\n"
     ]
    }
   ],
   "source": [
    "x = 1.0\n",
    "x_ant = 0.0\n",
    "\n",
    "err = 10.0\n",
    "\n",
    "while err>0.0001:\n",
    "    x = 0.5*(x + 2/x)\n",
    "    err = abs(x-x_ant)/abs(x)\n",
    "    x_ant = x\n",
    "    print (x, err)"
   ]
  },
  {
   "cell_type": "markdown",
   "metadata": {},
   "source": [
    "Para obter $\\sqrt{3}$ podemos fazer"
   ]
  },
  {
   "cell_type": "code",
   "execution_count": 2,
   "metadata": {},
   "outputs": [
    {
     "name": "stdout",
     "output_type": "stream",
     "text": [
      "1.75\n",
      "1.7321428571428572\n",
      "1.7320508100147274\n",
      "1.7320508075688772\n",
      "1.7320508075688772\n",
      "1.7320508075688772\n"
     ]
    }
   ],
   "source": [
    "x = 2.0\n",
    "\n",
    "for i in range(6):\n",
    "    x = 0.5*(x + 3/x)\n",
    "    print (x)"
   ]
  },
  {
   "cell_type": "markdown",
   "metadata": {
    "collapsed": true,
    "jupyter": {
     "outputs_hidden": true
    }
   },
   "source": [
    "**Exemplo 1.4.2:** (Obtendo a aproximação da raiz de uma equaçaõ de grau 3)\n",
    "\n",
    "Uma esfera de madeira (densidade relativa $\\mu_e =0,638$ e raio $r=10 cm$) é colocada a flutuar sobre a água (densidade relativa $\\mu=1$), conforme figura. Qual é a altura $d$ da esfera que ficará submersa? \n",
    "\n",
    "<img src=\"https://raw.githubusercontent.com/tiagoburiol/metodos_numericos_em_python/refs/heads/main/1_INTRODUCAO_ERROS/imagens/esfera.png\" width=\"200\">\n",
    "\n",
    "Inicialmente, observemos que, pelo *Princípio de Arquimedes* o peso da esfera deve ser equilibrado com o peso do volume de água deslocada \n",
    "\n",
    "$$ M_e g = M_a g $$\n",
    "\n",
    "$$ \\mu_e \\frac{4 \\pi r^3}{3} = \\mu_a \\int_0^d \\pi \\left[r^2-(x-r)^2) \\right]dx $$\n",
    "\n",
    "$$ \\mu_e \\frac{4 \\pi r^3}{3} = \\mu_a \\frac{\\pi d^2 (3r-d)}{3}$$\n",
    "\n",
    "$$ 4 \\mu_e r^3 = \\mu_a d^2 (3r-d)$$\n",
    "\n",
    "substituindo os valores obtemos \n",
    "\n",
    "$$ d^3-30d^2+2552=0 .$$\n",
    "\n",
    "A solução analítica para esse problema pode ser encontrada mas é um tanto complicada. No entanto, com uma rotina podemos encontrar uma aproximação numericamente. \n",
    "\n",
    "*Solução:* Sabemos que a solução é um numero entre 0 e 20, então calculamos os valores da função $ f(d) = d^3-30d^2+2552 $ para valores entre 0 e 20 obtendo:\n"
   ]
  },
  {
   "cell_type": "code",
   "execution_count": 3,
   "metadata": {},
   "outputs": [
    {
     "name": "stdout",
     "output_type": "stream",
     "text": [
      "d= 0 , f(d)= 2552\n",
      "d= 1 , f(d)= 2523\n",
      "d= 2 , f(d)= 2440\n",
      "d= 3 , f(d)= 2309\n",
      "d= 4 , f(d)= 2136\n",
      "d= 5 , f(d)= 1927\n",
      "d= 6 , f(d)= 1688\n",
      "d= 7 , f(d)= 1425\n",
      "d= 8 , f(d)= 1144\n",
      "d= 9 , f(d)= 851\n",
      "d= 10 , f(d)= 552\n",
      "d= 11 , f(d)= 253\n",
      "d= 12 , f(d)= -40\n",
      "d= 13 , f(d)= -321\n",
      "d= 14 , f(d)= -584\n",
      "d= 15 , f(d)= -823\n",
      "d= 16 , f(d)= -1032\n",
      "d= 17 , f(d)= -1205\n",
      "d= 18 , f(d)= -1336\n",
      "d= 19 , f(d)= -1419\n"
     ]
    }
   ],
   "source": [
    "for d in range(20):\n",
    "    print ('d=',d,', f(d)=', d**3-30*d**2+2552)"
   ]
  },
  {
   "cell_type": "markdown",
   "metadata": {},
   "source": [
    "Observemos que a função muda de sinal entre $d=11$ e $d=12$, então, podemos refinar a aproximação gerando alguns valores entre 11 e 12."
   ]
  },
  {
   "cell_type": "code",
   "execution_count": 4,
   "metadata": {},
   "outputs": [
    {
     "name": "stdout",
     "output_type": "stream",
     "text": [
      "d= 11.0 , f(d)= 253.0\n",
      "d= 11.1 , f(d)= 223.33100000000013\n",
      "d= 11.2 , f(d)= 193.72800000000007\n",
      "d= 11.3 , f(d)= 164.19700000000012\n",
      "d= 11.4 , f(d)= 134.7439999999997\n",
      "d= 11.5 , f(d)= 105.375\n",
      "d= 11.6 , f(d)= 76.09599999999955\n",
      "d= 11.7 , f(d)= 46.912999999999556\n",
      "d= 11.8 , f(d)= 17.831999999999425\n",
      "d= 11.9 , f(d)= -11.141000000000076\n"
     ]
    }
   ],
   "source": [
    "for x in range(10):\n",
    "    d = 11+x*0.1\n",
    "    print ('d=',d,', f(d)=', d**3-30*d**2+2552)"
   ]
  },
  {
   "cell_type": "markdown",
   "metadata": {},
   "source": [
    "Observemos que a função muda de sinal entre $d=11.8$ e $d=11.9$, então podemos refinar a aproximação gerando alguns valores."
   ]
  },
  {
   "cell_type": "code",
   "execution_count": 5,
   "metadata": {},
   "outputs": [
    {
     "name": "stdout",
     "output_type": "stream",
     "text": [
      "d= 11.8 , f(d)= 17.831999999999425\n",
      "d= 11.81 , f(d)= 14.929740999999922\n",
      "d= 11.82 , f(d)= 12.028567999999723\n",
      "d= 11.83 , f(d)= 9.128486999999495\n",
      "d= 11.84 , f(d)= 6.229503999999906\n",
      "d= 11.850000000000001 , f(d)= 3.3316249999998035\n",
      "d= 11.860000000000001 , f(d)= 0.43485599999894475\n",
      "d= 11.870000000000001 , f(d)= -2.4607969999997295\n",
      "d= 11.88 , f(d)= -5.355328000000554\n",
      "d= 11.89 , f(d)= -8.248731000000134\n"
     ]
    }
   ],
   "source": [
    "for x in range(10):\n",
    "    d = 11.8+x*0.01\n",
    "    print ('d=',d,', f(d)=', d**3-30*d**2+2552)"
   ]
  },
  {
   "cell_type": "markdown",
   "metadata": {},
   "source": [
    "Assim, podemos tomar como uma solução aproximada o ponto médio entre 11.86 e 11.87 que resolta em $d=11.865 cm$ com erro inferior a 0.005."
   ]
  },
  {
   "cell_type": "markdown",
   "metadata": {},
   "source": [
    "**Exemplo 1.4.3:** (Velocidade de um corpo em queda livre) \n",
    "\n",
    "Um corpo em queda livre pode ser descrito pelo modelo matemático\n",
    "\n",
    "$$ \\frac{dv}{dt} = \\frac{F}{m}$$\n",
    "\n",
    "derivado da 2ª Lei de Newton $F=ma$. A força $F$ atuante sobre o corpo, composta pela soma de duas forças de mesma direção e sentidos opostos, a força gravitacional para baixo ($F_D$) e a força da resistência do ar para cima ($F_U$). Então\n",
    "\n",
    "$$ \\frac{dv}{dt} = \\frac{(F_D+F_U)}{m}$$\n",
    "\n",
    "como $F_D = mg$, com $m$ massa e $g$ aceleração da gravidade, e $F_U=-cv$, com $c$ sendo uma constante que depende das características do corpo em queda livre e $v$ a velocidade instantânea. Então\n",
    "\n",
    "$$ \\frac{dv}{dt} = \\frac{mg-cv}{m}$$\n",
    "\n",
    "ou\n",
    "\n",
    "$$ \\frac{dv}{dt} = g-\\frac{c}{m}v$$\n",
    "\n",
    "O modelo então consiste em uma equação diferencial cuja solução pode ser obtida analitivamente. Se o corpo em queda livre entrou em movimento a partir do repouso, ou seja, $v=0$ em $t=0$, a sulução analítica é dada por\n",
    "\n",
    "$$ v(t) = gm(1-e^{(-c/m)t})$$\n",
    "\n",
    "Se considerarmos $m=61,8kg$ entrando em movimento de queda livre a partir do repouso $v(t)=0$ em $t=0$ e o coeficiente de arrasto $c=12.5k g/s$, a solução fica\n",
    "\n",
    "$$v(t)=\\frac{9,81(68,1)}{12,5}(1-e^{(-12,5/68,1)t} = 53,44(1-e^{-0,18355t})$$\n",
    "\n",
    "Assim, podemos obter o valor da velocidade para qualquer instante $t$. Tomando valores de $t$ de a cada 2 segundos, e calculando a velocidade a partir de $t=0$ obtemos\n"
   ]
  },
  {
   "cell_type": "code",
   "execution_count": 6,
   "metadata": {},
   "outputs": [
    {
     "name": "stderr",
     "output_type": "stream",
     "text": [
      "UsageError: Line magic function `%` not found.\n"
     ]
    }
   ],
   "source": [
    "% matplotlib inline\n",
    "import numpy as np\n",
    "import matplotlib.pyplot as plt\n",
    "\n",
    "t = np.arange(0,50, 2)\n",
    "v = lambda t: 53.44*(1-np.exp(-0.18355*t))\n",
    "print (t)\n",
    "print (v(t))\n",
    "plt.plot(t, v(t),\"b-\")\n",
    "plt.grid()\n",
    "plt.show()\n"
   ]
  },
  {
   "cell_type": "markdown",
   "metadata": {},
   "source": [
    "Por outro lado, supondo que a solução analítica não fosse conhecida (ou que fosse impossível obtê-la), poderíamos encontrar uma solução aproximada numericamente. Para isso podemos aproximar a derivada $\\frac{dv}{dt}$ por\n",
    "\n",
    "$$ \\frac{dv}{dt} \\cong \\frac{\\Delta v}{\\Delta t} = \\frac{v(t_{i+1}-v(t_i))}{t_{i+1}-t_{i}} $$\n",
    "\n",
    "então \n",
    "\n",
    "$$ \\frac{v(t_{i+1}-v(t_i))}{t_{i+1}-t_{i}} = gm(1-e^{(-c/m)t})$$\n",
    "\n",
    "que pode ser reescrita como\n",
    "\n",
    "$$ v(t_{i+1}) = v(t_i) + \\left[ g-\\frac{c}{m} v(t_i) \\right] (t_{i+1}-t_{i})$$\n",
    "\n",
    "e ser usada para obter os valores de $v$ para cada instante $t_i$, $i=0,2,4,6,...$, a partir do instante inicial $t_0=0$."
   ]
  },
  {
   "cell_type": "code",
   "execution_count": null,
   "metadata": {},
   "outputs": [],
   "source": [
    "% matplotlib inline\n",
    "import numpy as np\n",
    "import matplotlib.pyplot as plt\n",
    "\n",
    "tempos = np.arange(0,50, 2)\n",
    "\n",
    "v_aprox = [0.]\n",
    "v_ant = 0.\n",
    "\n",
    "for t in tempos:\n",
    "    result = v_ant + (9.81 - (12.5/68.1)*v_ant)*2\n",
    "    v_aprox.append(result)\n",
    "    v_ant = result\n",
    "    \n",
    "del v_aprox[-1]\n",
    "    \n",
    "print (tempos)\n",
    "print (v_aprox)\n",
    "\n",
    "plt.plot(tempos, v_aprox, \"r-\")\n",
    "plt.grid()\n",
    "plt.show()"
   ]
  },
  {
   "cell_type": "code",
   "execution_count": null,
   "metadata": {},
   "outputs": [],
   "source": [
    "# Comparando os dois gráficos\n",
    "% matplotlib inline\n",
    "plt.plot(tempos, v_aprox, \"b-\", tempos, v(tempos), \"r-\")\n",
    "plt.grid()"
   ]
  },
  {
   "cell_type": "markdown",
   "metadata": {
    "collapsed": true,
    "jupyter": {
     "outputs_hidden": true
    }
   },
   "source": [
    "**Exemplo 1.4.4:**\n",
    "\n",
    "Considere as expressões\n",
    "\n",
    "$$ \\frac{e^{1/x}}{1+e^{1/x}} \\,\\,\\,\\,\\,\\, e \\,\\,\\,\\,\\,\\,  \\frac{1}{e^{-1/x}+1}$$\n",
    "Verifique que, para $x>0$, são funções idênticas, então, use um programa em Python para testar o valor de cada uma para alguns valores de $x$ entre $0.1$ e $0.001$. Qual dessas expressões é mais adequada quando $x$ é um número pequeno? Explique.   "
   ]
  },
  {
   "cell_type": "code",
   "execution_count": null,
   "metadata": {},
   "outputs": [],
   "source": [
    "from math import exp\n",
    "def f1(x): return exp(1./x)/(1+exp(1./x))\n",
    "def f2(x): return 1./(exp(-1./x)+1)\n",
    "\n",
    "lista = [0.1, 0.075, 0.05, 0.01, 0.005, 0.002, 0.0015, 0.0014, 0.001]\n",
    "\n",
    "for x in lista:\n",
    "    try:\n",
    "        print (\"f1(x)=\", f1(x))\n",
    "    except ArithmeticError as erro:\n",
    "        print(\"f1(x)=\", erro)\n",
    "    try:\n",
    "        print (\"f2(x)=\", f2(x))\n",
    "    except ArithmeticError as erro:\n",
    "        print(\"f1(x)=\", erro)"
   ]
  },
  {
   "cell_type": "markdown",
   "metadata": {},
   "source": [
    "*Comentário:* <br>\n",
    "Embora as duas expressões sejam idênticas, observando a saída dos códigos acima, percebe-se que para valores menores do que 0.0015 a primeira expressão resulta em um erro de _*Overflow*_ (*ArithmeticError = math range error*) enquanto que a segunda expressão não ocorre o erro. Assim, podemos dizer que a segunda expressão é mais adequada para valores de x pequenos."
   ]
  },
  {
   "cell_type": "markdown",
   "metadata": {},
   "source": [
    "**Exemplo 1.4.5:**\n",
    "Apresente um programa em Python para obter aproximações para o valor da função\n",
    "$f(x) = ln(1 + x)$ usando expansões em séries de Taylor em torno do ponto $x = 0$. Descubra quantos termos da série precisam ser retidos para calcular $ln(0.8)$ com erro absoluto inferior a 0.0001. \n"
   ]
  },
  {
   "cell_type": "markdown",
   "metadata": {},
   "source": [
    "*Resolução:* <br>\n",
    "A Série de Taylor em torno de x=0, também chamada de Série de McLaurin, para a função $ln(1+x)$ é dada por $\\sum_{n=0}^{\\infty}\\frac{(-1)^nx^{n+1}}{n+1}$\n"
   ]
  },
  {
   "cell_type": "code",
   "execution_count": null,
   "metadata": {},
   "outputs": [],
   "source": [
    "from math import log\n",
    "soma = 0.0\n",
    "erro = 10.0\n",
    "n = 0.0\n",
    "\n",
    "while erro>0.0001:\n",
    "    soma = soma + (-1.0)**n * (-0.2)**(n+1)/(n + 1)\n",
    "    erro = abs(log(0.8)-soma)/abs(log(0.8))\n",
    "    n = n + 1    \n",
    "    print (\"Resultado:\", soma, \", Erro:\", erro) "
   ]
  },
  {
   "cell_type": "markdown",
   "metadata": {},
   "source": [
    "*Comentário* <br>\n",
    "Pelo resultado do código acima, os 5 primeiros termos da série são suficientes para a aproximar $ln(0.8)$, ou seja, $ln(1+x)$ com $x = -0.2$, com erro menor que 0.0001. "
   ]
  },
  {
   "cell_type": "markdown",
   "metadata": {},
   "source": [
    "**Exemplo 1.4.6:**\n",
    "\n",
    "De acordo com o *princípio de Arquimedes*, a força de *flutuação* é igual ao peso do fluido deslocado pela parte submersa de um objeto. Para o tronco de cone mostrado abaixo, use o método da bisseção e mais algum método de sua escolha para determinar a altura $h_1$ da parte que está acima da água. Use os seguintes valores para seus cálculos: $r_1 = 0,5 m$, $r_2 = 1 m$, $h = 1 m$, $\\rho_f=densidade do tronco=200 kg/m^3$ e $\\rho_w=densidade da água=1000 kg/m^3$. O volume do trondo de cone é dado por: $$V=\\frac{\\pi h}{3}(r_1^2+r_2^2+r_1 r_2)$$"
   ]
  },
  {
   "cell_type": "markdown",
   "metadata": {},
   "source": [
    "*Resolução:*<br> A equação a ser resolvida é \n",
    "\n",
    "$$200 \\frac{\\pi1.0}{3} (0.5^2+1.0^2+1.0 \\times 0.5) = 1000\\frac{\\pi (1-h_1)}{3}((0.5+h_1/2)^2+1.0^2+1.0 \\times (0.5+h_1/2))$$\n"
   ]
  },
  {
   "cell_type": "code",
   "execution_count": null,
   "metadata": {},
   "outputs": [],
   "source": [
    "import math\n",
    "a = 0.1\n",
    "b = 1.0\n",
    "err = 10\n",
    "x_ant = 0.0\n",
    "\n",
    "f = lambda h: 1.75-5*(1-h)*(1.0+(0.5+h/2.)**2+(0.5+h/2.))\n",
    "\n",
    "while err > 0.001:\n",
    "    x = (a+b)/2.0\n",
    "    if f(a)*f(x)<0:\n",
    "        b = x\n",
    "    else:\n",
    "        a = x\n",
    "    err = abs(x - x_ant)/abs(x)\n",
    "    x_ant = x\n",
    "    print (\"| h1=%.10f\"%x)"
   ]
  },
  {
   "cell_type": "code",
   "execution_count": null,
   "metadata": {},
   "outputs": [],
   "source": [
    "import math\n",
    "\n",
    "err = 1.0\n",
    "x0 = 0.5\n",
    "x1 = 1.0\n",
    "\n",
    "f = lambda h: 1.75-5*(1-h)*(1.0+(0.5+h/2.)**2+(0.5+h/2.))\n",
    "\n",
    "while err>0.001:\n",
    "    x = (x0*f(x1)-x1*f(x0))/(f(x1)-f(x0))\n",
    "    err = abs (x-x1)/abs(x)\n",
    "    \n",
    "    x0 = x1\n",
    "    x1 = x \n",
    "\n",
    "    print (\"| h1=%.10f\"%x)    "
   ]
  },
  {
   "cell_type": "markdown",
   "metadata": {},
   "source": [
    "**Exemplo 1.4.7:**\n",
    "O deslocamento de uma estrutura é definido pela seguinte equação para uma oscilação amortecida:\n",
    "\n",
    "$$ y = 8 e^{-kt}cos(wt)$$\n",
    "\n",
    "onde $k = 0,5$ e $w = 3$. Use os métodos de Ponto Fixo e Newton-Raphson para determinar a raiz com $\\varepsilon = 0.001$. Comente os resultados obtidos."
   ]
  },
  {
   "cell_type": "markdown",
   "metadata": {},
   "source": [
    "_Solução_: A raiz de $$ y = 8 e^{-kt}cos(wt)$$ é a mesma raiz de  $$cos(wt)=0$$."
   ]
  },
  {
   "cell_type": "code",
   "execution_count": null,
   "metadata": {},
   "outputs": [],
   "source": [
    "x = 0.5\n",
    "phi  = lambda x: x+(1/3)*math.cos(3*x)\n",
    "\n",
    "for i in range(3):\n",
    "    x = phi(x)\n",
    "    print (x)"
   ]
  },
  {
   "cell_type": "code",
   "execution_count": null,
   "metadata": {},
   "outputs": [],
   "source": [
    "x = 0.5\n",
    "f  = lambda x: math.cos(3*x)\n",
    "flinha = lambda x: -3*math.sin(3*x)\n",
    "\n",
    "for i in range(3):\n",
    "    x = x - f(x)/flinha(x)\n",
    "    print (x)"
   ]
  },
  {
   "cell_type": "markdown",
   "metadata": {},
   "source": [
    "**Exemplo 1.4.8:**\n",
    "A figura abaixo mostra uma viga uniforme sujeita a uma carga distribuída de forma uniformemente crescente. A equação para a curva elástica resultante é\n",
    "\n",
    "$$ y = \\frac{w_0}{120 EIL} (-x^5+2L^2x^3-L^4x)$$\n",
    "\n",
    "Use um método de sua escolha para determinar o ponto de deflexão máxima (isto é, o valor de $x$ para o qual $dy/dx=0$). A seguir, substitua esse valor na equação para determinar o valor da deflexão máxima. Use os seguintes valores dos parâmetros: $L = 450 cm$, $E = 50.000 kN/cm^2$, $I=30.000 cm^4$ e $w_0=1,75 kN/cm$. Comente seus resultados e estime o erro.\n",
    "\n",
    "<img src=\"https://raw.githubusercontent.com/tiagoburiol/metodos_numericos_em_python/refs/heads/main/1_INTRODUCAO_ERROS/imagens/viga.jpg\" width=\"300\">"
   ]
  },
  {
   "cell_type": "code",
   "execution_count": null,
   "metadata": {
    "collapsed": true,
    "jupyter": {
     "outputs_hidden": true
    }
   },
   "outputs": [],
   "source": []
  }
 ],
 "metadata": {
  "kernelspec": {
   "display_name": "Python 3 (ipykernel)",
   "language": "python",
   "name": "python3"
  },
  "language_info": {
   "codemirror_mode": {
    "name": "ipython",
    "version": 3
   },
   "file_extension": ".py",
   "mimetype": "text/x-python",
   "name": "python",
   "nbconvert_exporter": "python",
   "pygments_lexer": "ipython3",
   "version": "3.12.4"
  }
 },
 "nbformat": 4,
 "nbformat_minor": 4
}
