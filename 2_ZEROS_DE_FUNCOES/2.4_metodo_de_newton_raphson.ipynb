{
 "cells": [
  {
   "cell_type": "markdown",
   "metadata": {},
   "source": [
    "## 2.4 Método de Newton-Raphson\n",
    "\n",
    "Sabemos que muitos problemas em ciências e engenharia envolvem a resolução de uma equação que pode ser colocada na forma \n",
    "\n",
    "$$f(x)=0$$\n",
    "\n",
    "Sabemos também que, em muitos casos, a solução exata $\\overline{x}$ só pode ser encontrada por processos numéricos. Uma solução numérica é geralmente obtida por meio de um processo iterativo que gera uma sequência de soluções aproximadas, que converge para a solução exata, a partir de uma aproximação inicial $x_0$. "
   ]
  },
  {
   "cell_type": "markdown",
   "metadata": {},
   "source": [
    "O _Método de Newton_  (_Newton-Raphson_ ou _método das tangentes_) para zeros de funções reais em uma variável pode ser deduzido a partir do método do ponto fixo, ao buscar uma função de interação $\\phi(x)$ tal que $|\\phi'(x)|<1$. Dessa forma, escolhendo uma \"boa\" aproximação inicial $x_0$, garantimos que a sequência de soluções aproximadas irá convergir para a solução exata $\\overline{x}$.\n",
    "\n",
    "Para isso, estabelecemos que $|\\phi'(\\overline{x})|=0$, assim, espera-se que em torno de $\\overline{x}$ tenhamos $|\\phi'(x)|<1$. Para encontrar a função de iteração $\\phi(x)$ que satisfaça essas condições, começamos multiplicando $f(x)=0$ por uma função desconhecida $\\theta(x)$ e somamos $x$ em ambos os lados da equação obtendo\n",
    "\n",
    "$$x = x+\\theta(x)f(x)$$ \n",
    " \n",
    " ou\n",
    " \n",
    "$$\\phi(x) = x+\\theta(x)f(x)$$ \n",
    "\n",
    "nas quais $\\theta(x)$ é uma função de $x$ tal que $\\theta(\\overline{x})\\neq 0$. Então, para o ponto fixo $x=\\overline{x}$ tem-se $\\phi(\\overline{x}) = \\overline{x}$. "
   ]
  },
  {
   "cell_type": "markdown",
   "metadata": {},
   "source": [
    "Derivando a função $\\phi(x)$ e avaliando no ponto fixo obtemos:\n",
    "$$\\phi'(x) = 1+\\theta'(x)f(x) + \\theta(x)f'(x)$$\n",
    "\n",
    "avaliando em $\\overline{x}$ (lembrando que $f(\\overline{x})=0$ e $\\theta'(\\overline{x})=0$), obtemos:\n",
    "\n",
    "$$\\phi'(\\overline{x}) = 1+\\theta'(\\overline{x})f(\\overline{x}) + \\theta(\\overline{x})f'(\\overline{x})$$\n",
    "\n",
    "$$ 0 = 1 + \\theta(\\overline{x})f'(\\overline{x}) $$\n",
    "\n",
    "então\n",
    "$$  \\theta(\\overline{x}) = -\\frac{1}{f'(\\overline{x})} $$\n",
    "\n",
    "Assim, escolhento $\\theta(x) = -\\frac{1}{f'(x)}$ e substituindo em $\\phi(x) = x+\\theta(x)f(x)$ obtemos a função de iteração\n",
    "$$ \\phi(x) = x - \\frac{f(x)}{f'(x)}$$\n",
    "\n",
    "que fornece o processo iterativo do **método de Newton-Raphson** :\n",
    "$$ x_{i+1} = x_i - \\frac{f(x_i)}{f'(x_i)}$$\n",
    "\n",
    "a partir de uma aproximação inicial $x_0$,  para $i=1,2,3,...$."
   ]
  },
  {
   "cell_type": "markdown",
   "metadata": {},
   "source": [
    "<img src=\"https://raw.githubusercontent.com/tiagoburiol/metodos_numericos_em_python/refs/heads/main/2_ZEROS_DE_FUNCOES/imagens/newton.png\" width=\"500\">\n",
    "\n",
    "\n",
    "\n",
    "<p style=\"text-align:center\"> Figura 2.4.1 - Interpretação geométrica do método de Newton </p>"
   ]
  },
  {
   "cell_type": "markdown",
   "metadata": {},
   "source": [
    "Vejamos agora alguns exemplos. Iniciamos importando as bibliotecas `numpy`e `matplotlib`."
   ]
  },
  {
   "cell_type": "code",
   "execution_count": 1,
   "metadata": {},
   "outputs": [],
   "source": [
    "import numpy as np\n",
    "import matplotlib.pyplot as plt"
   ]
  },
  {
   "cell_type": "markdown",
   "metadata": {},
   "source": [
    "**Exemplo 2.4.1:**\n",
    "Encontre a raiz de $f(x)=ln(x)+x-4$"
   ]
  },
  {
   "cell_type": "markdown",
   "metadata": {},
   "source": [
    "Para obter uma aproximação inicial podemos usar um plot minimalista,fazendo."
   ]
  },
  {
   "cell_type": "code",
   "execution_count": 2,
   "metadata": {},
   "outputs": [
    {
     "data": {
      "image/png": "[encoded data removed]",
      "text/plain": [
       "<Figure size 400x300 with 1 Axes>"
      ]
     },
     "metadata": {},
     "output_type": "display_data"
    }
   ],
   "source": [
    "xi = np.linspace(0.1, 5)\n",
    "plt.figure(figsize=(4,3))\n",
    "plt.plot(xi, np.log(xi), xi, 4-xi) \n",
    "plt.grid()\n",
    "plt.show()"
   ]
  },
  {
   "cell_type": "markdown",
   "metadata": {},
   "source": [
    "O gráfico mostra que existe uma raiz entre 2 e 3, então, iniciando com $x_0=2$ obtemos pelo método de Newton:\n",
    "\n",
    "$x_1 = x_0-\\frac{f(x_0)}{f'(x_0)}=2-\\frac{ln(2) +2 -4}{1/2+1}=2.871235$\n",
    "\n",
    "$x_2 = x_1-\\frac{f(x_1)}{f'(x_1)}=2-\\frac{ln(2.871235) +2.871235-4}{1/2.871235+1}=2.926137$\n",
    "\n",
    "$x_3 = x_2-\\frac{f(x_2)}{f'(x_2)}=2.926137-\\frac{ln(2.926137) +2.926137 -4}{1/2.926137+1}=2.926271$\n",
    "\n",
    "Assim, em três interações chega-se a uma solução com $E=0.000046$. Usando Python podemos chegar a esses resultados com o código mostrado abaixo:"
   ]
  },
  {
   "cell_type": "code",
   "execution_count": 3,
   "metadata": {},
   "outputs": [
    {
     "name": "stdout",
     "output_type": "stream",
     "text": [
      "| x=2.871235 | err=0.303436\n",
      "| x=2.926137 | err=0.018762\n",
      "| x=2.926271 | err=0.000046\n"
     ]
    }
   ],
   "source": [
    "f = lambda x: np.log(x)+x-4.0\n",
    "df = lambda x: 1./x +1  \n",
    "x = 2\n",
    "x_ant = x\n",
    "err = 10.0\n",
    "\n",
    "while err>0.0001:\n",
    "    x = x - f(x)/df(x)\n",
    "    err = abs(x-x_ant)/abs(x)\n",
    "    x_ant = x\n",
    "    print (\"| x=%.6f\"%x, \"| err=%.6f\"%err)"
   ]
  },
  {
   "cell_type": "markdown",
   "metadata": {},
   "source": [
    "Fazendo o gráfico apenas para conferir"
   ]
  },
  {
   "cell_type": "code",
   "execution_count": 4,
   "metadata": {},
   "outputs": [
    {
     "data": {
      "image/png": "[encoded data removed]",
      "text/plain": [
       "<Figure size 400x300 with 1 Axes>"
      ]
     },
     "metadata": {},
     "output_type": "display_data"
    }
   ],
   "source": [
    "f = lambda x: np.log(x)+x-4.0\n",
    "xi = np.linspace(1, 5, 31)\n",
    "plt.figure(figsize=(4,3))\n",
    "plt.plot(xi, f(xi), \"-\") \n",
    "plt.plot(x, f(x), \".\") \n",
    "plt.grid()\n",
    "plt.show()"
   ]
  },
  {
   "cell_type": "markdown",
   "metadata": {},
   "source": [
    "Use o exemplo 2.4.1 como modelo para resolver o Exercício 1 no final da seção."
   ]
  },
  {
   "cell_type": "markdown",
   "metadata": {},
   "source": [
    "### O método de Newton e a série te Taylor\n",
    "\n",
    "O método de Newton também pode ser deduzido a partir do polinômio de Taylor em torno de $x_0$:\n",
    "\n",
    "$$f(x) = f(x_0)+\n",
    "        f^{(1)}(x_0)(x-x_0)+ \n",
    "        f^{(2)}(x_0)\\frac{(x-x_0)^2}{2!}+\n",
    "        f^{(3)}(x_0)\\frac{(x-x_0)^3}{3!}+...$$\n",
    "        \n",
    "desprezando os termos de maior grau, os quais assumem valores muito pequenos para $x$ suficientemente próximo de $x_0$, obtemos a seguinte aproximação para $f(x)$:\n",
    "\n",
    "$$f(x) \\approx f(x_0)+f'(x_0)(x-x_0)$$\n",
    "\n",
    "fazendo $x=\\overline{x}$, como $f(\\overline{x})=0$, tem-se:\n",
    "\n",
    "$$0 \\approx f(x_0)+f'(x_0)(\\overline{x}-x_0)$$\n",
    "\n",
    "ou\n",
    "\n",
    "$$\\overline{x} \\approx x_0 - \\frac{f(x_0)}{f'(x_0)}$$\n",
    "\n",
    "que fornece o processo iterativo \n",
    "\n",
    "$$ x_{i+1} = x_i - \\frac{f(x_i)}{f'(x_i)} \\,,\\,\\,\\,\\,\\, i=1,2,...$$"
   ]
  },
  {
   "cell_type": "markdown",
   "metadata": {},
   "source": [
    "Dizemos que um método iterativo apresenta convergência quadrática se\n",
    "\n",
    "$$\n",
    "\\lim _{i \\rightarrow \\infty} \\frac{e_{i+1}}{e_i^2}=k\n",
    "$$\n",
    "\n",
    "em que $k$ é chamada constante assintótica de proporcionalidade, $e_i=\\left|x_i-\\bar{x}\\right|$ e $e_{i+1}=\\left|x_{i+1}-\\bar{x}\\right|$ são os erros cometidos nas iterações correspondentes.\n",
    "\n",
    "O método de Newton apresenta convergência quadrática, se $f^{\\prime}(\\bar{x}) \\neq 0$."
   ]
  },
  {
   "cell_type": "markdown",
   "metadata": {},
   "source": [
    "**Exemplo 2.4.2:** Usando o método de Newton, resolva a equação $2x-e^{-2x}=0$, com $\\epsilon = 0.0001$.\n"
   ]
  },
  {
   "cell_type": "code",
   "execution_count": 5,
   "metadata": {},
   "outputs": [
    {
     "data": {
      "image/png": "[encoded data removed]",
      "text/plain": [
       "<Figure size 400x300 with 1 Axes>"
      ]
     },
     "metadata": {},
     "output_type": "display_data"
    }
   ],
   "source": [
    "f = lambda x: 2*x-np.exp(-2*x)\n",
    "\n",
    "xi = np.linspace(-2, 2)\n",
    "plt.figure(figsize=(4,3))\n",
    "plt.plot(xi, f(xi)) \n",
    "plt.grid()\n",
    "plt.show()"
   ]
  },
  {
   "cell_type": "markdown",
   "metadata": {},
   "source": [
    "Pelo gráfico podemos deduzir que a raiz está entre $0$ e $1$, tomemos $x_0=0,5$."
   ]
  },
  {
   "cell_type": "code",
   "execution_count": 6,
   "metadata": {},
   "outputs": [
    {
     "name": "stdout",
     "output_type": "stream",
     "text": [
      "x=0.26894,   err=0.85914\n",
      "x=0.28349,   err=0.05133\n",
      "x=0.28357,   err=0.00028\n",
      "x=0.28357,   err=0.00000\n"
     ]
    }
   ],
   "source": [
    "x0 = 0.5\n",
    "df = lambda x: 2+2*np.exp(-2*x)\n",
    "\n",
    "# Inicializando as variáveis\n",
    "err = 10.0\n",
    "x_ant = x0\n",
    "eps = 0.0001\n",
    "\n",
    "while err>eps:\n",
    "    x = x_ant-f(x_ant)/df(x_ant)    \n",
    "    err = abs(x-x_ant)/x\n",
    "    x_ant = x\n",
    "    print (\"x=%.5f, \"%x, \" err=%.5f\"%err)"
   ]
  },
  {
   "cell_type": "markdown",
   "metadata": {},
   "source": [
    "**Exercícios:**\n"
   ]
  },
  {
   "cell_type": "markdown",
   "metadata": {},
   "source": [
    "**1.** Usando o método de Newton, resolva as equações a seguir com precisão de 5 casas decimais.\n",
    "\n",
    "a) $f(x)=x^3+8 x^2-4 x-2=0$\n",
    "\n",
    "b) $f(x)=2 x-e^{-x}=0$\n",
    "\n",
    "c) $f(x)=\\ln (x)-\\operatorname{sen}(x)=0$"
   ]
  },
  {
   "cell_type": "markdown",
   "metadata": {
    "collapsed": true,
    "jupyter": {
     "outputs_hidden": true
    }
   },
   "source": [
    "\n",
    "**2.** Utilize o método de Newton para encontrar soluções com precisão de $10^{-5}$ para os problemas a seguir (Fonte: [Burden et al., 2016](https://integrada.minhabiblioteca.com.br/reader/books/9788522123414/pageid/98)):\n",
    "\n",
    "a) $e^x+2^{-x}+2 \\cos x-6=0$\n",
    "\n",
    "b) $\\ln (x-1)+\\cos (x-1)=0$\n",
    "\n",
    "c) $2 x \\cos 2 x-(x-2)^2=0$\n",
    "\n",
    "d) $(x-2)^2-\\ln x=0$\n",
    "\n",
    "e) $e^x-3 x^2=0$\n",
    "\n",
    "f) $\\operatorname{sen} x-e^{-x}=0$\n",
    "\n",
    "g) $x^3+3 x^2-1=0$\n",
    "\n",
    "h) $x^3-2 x^2-5=0$\n",
    "\n",
    "i) $x-0,8-0,2 \\operatorname{sen} x=0$\n",
    "\n",
    "\n"
   ]
  },
  {
   "cell_type": "markdown",
   "metadata": {},
   "source": [
    "**3.** \n",
    "Use o método de Newton-Raphson para determinar uma raiz real de $f(x)=-1+5,5 x-4 x^2+0,5 x^3$ usando aproximações iniciais (a) 4,52 e (b) 4,54 . Discuta e use métodos gráficos e analíticos para explicar quaisquer peculiaridades nos seus resultados (Fonte: [Chapra, 2016](https://integrada.minhabiblioteca.com.br/reader/books/9788580555691/pageid/169))."
   ]
  },
  {
   "cell_type": "markdown",
   "metadata": {},
   "source": [
    "**4.** Use o método de Newton-Raphson para encontrar a raiz de\n",
    "\n",
    "$$\n",
    "f(x)=e^{-0,5 x}(4-x)-2\n",
    "$$\n",
    "\n",
    "Use aproximações iniciais de (a) 2, (b) 6 e (c) 8 . Explique seus resultados (Fonte: [Chapra, 2016](https://integrada.minhabiblioteca.com.br/reader/books/9788580555691/pageid/170)).."
   ]
  },
  {
   "cell_type": "markdown",
   "metadata": {},
   "source": [
    "**5.** A função descrita por $f(x)=\\ln \\left(x^2+1\\right)-\\mathrm{e}^{0,4 x} \\cos \\pi x$ tem um número infinito de zeros (Fonte:[Burden et al., 2016](https://integrada.minhabiblioteca.com.br/reader/books/9788522123414/pageid/99)).\n",
    "\n",
    "a) Determine, com precisão de $10^{-6}$, o único zero negativo.\n",
    "\n",
    "b) Determine, com precisão de $10^{-6}$, os quatro menores zeros positivos.\n",
    "\n",
    "c) Determine uma aproximação inicial razoável para determinar o enésimo menor zero positivo de $f$. \n",
    "\n",
    "d) Utilize a parte (c) para determinar, com precisão de $10^{-6}$, o $25^{\\circ}$ menor zero positivo de $f$."
   ]
  },
  {
   "cell_type": "code",
   "execution_count": null,
   "metadata": {},
   "outputs": [],
   "source": []
  }
 ],
 "metadata": {
  "kernelspec": {
   "display_name": "Python 3 (ipykernel)",
   "language": "python",
   "name": "python3"
  },
  "language_info": {
   "codemirror_mode": {
    "name": "ipython",
    "version": 3
   },
   "file_extension": ".py",
   "mimetype": "text/x-python",
   "name": "python",
   "nbconvert_exporter": "python",
   "pygments_lexer": "ipython3",
   "version": "3.12.4"
  }
 },
 "nbformat": 4,
 "nbformat_minor": 4
}
