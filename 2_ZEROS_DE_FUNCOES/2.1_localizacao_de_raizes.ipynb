{
 "cells": [
  {
   "cell_type": "markdown",
   "id": "95787be5-8e65-409a-9f0c-50ee2af5f173",
   "metadata": {},
   "source": [
    "## 2.1 Localização de raízes"
   ]
  },
  {
   "cell_type": "markdown",
   "id": "5ba6ea9b-65d5-40c5-bcb2-706f8f04d201",
   "metadata": {},
   "source": [
    "Em ciências e engenharias frequentemente a solução de um problema real é obtida resolvendo uma equação em uma variável real, a qual sempre pode ser escrita na forma \n",
    "$$f(x)=0$$\n",
    "\n",
    "Dada uma função $f:R \\rightarrow R$ dizemos que $\\overline{x} \\in R$, tal que $f(\\overline{x})=0$ é um _zero_ (ou _raiz_) da função $f$. Graficamente, uma raíz é o ponto onde a função $f(x)$ cruza ou toca o eixo $x$. Uma equação $f(x)=0$ pode não ter solução (raiz) real, ter uma única raiz ou várias.\n",
    "\n",
    "<img src=\"https://raw.githubusercontent.com/tiagoburiol/metodos_numericos_em_python/refs/heads/main/2_ZEROS_DE_FUNCOES/imagens/raizes.jpg\" width=\"600\">\n",
    "\n",
    "Quando a equação é simples, o valor de $x$ pode ser determinado analiticamente. Esse é o caso quando se escreve $x$ explicitamente após a aplicação de operações matemáticas, ou quando uma fórmula conhecida (como a fórmula de Bháskara para resolução de equações quadráticas) pode ser usada para determinar o valor exato de $x$. Em muitas situações, no entanto, é impossível determinar analiticamente a raiz de uma equação.\n",
    "\n",
    "Por exemplo, é relativamente fácil obter analiticamente as raízes das equações \n",
    "\n",
    "a) $2.1x-47.3 = 0$\n",
    "\n",
    "b) $x^2+2x-3 = 0$\n",
    "\n",
    "c) $senx-x = 0$\n",
    "\n",
    "Já para as equações a seguir é preferível utilizar-se de métodos numéricos\n",
    "\n",
    "a) $xe^x-2 = 0$\n",
    "\n",
    "b) $cos3\\theta-sen\\theta =0$\n",
    "\n",
    "c) $2.1^x+5.7x=0$"
   ]
  },
  {
   "cell_type": "markdown",
   "id": "0db8527c-6904-4b12-a889-61f59efe7de9",
   "metadata": {},
   "source": [
    "**Exemplo 2.1.1:**\n",
    "Em termodinâmica, sob determinadas condições, a relação entre o calor $Q$ fornecido a um gás e sua variação de temperatura $T_f - T_i$ é dada por \n",
    "\n",
    "$$ Q = nR \\left[ A (T_f-T_i)+ \\frac{B}{2}(T_f^2-T_i^2) + \\frac{C}{3}(T_f^3-T_i^3) \\right].$$\n",
    "\n",
    "Para o gás metano tem-se $R=8,314 J/mol.K$, $A=1,702$, $B=9,081 \\times 10^{-3}K^{-1}$, $C=-2,164 \\times 10^{-6} K^{-2}$. \n",
    "\n",
    "Considere o problema de calcular a temperatura final $T_f$ se $20 kJ$ de energia que é absorvido pelo gás, supondo estar contido em uma uma câmara com $n=2 mol$ de metano a temperatura $T_i = 300 K$. \n",
    "\n",
    "**Exemplo 2.1.2:**\n",
    "A área do segmento $A_S$ de um círculo de raio $r$ (ver figura abaixo) é dada por $A_S=\\frac{1}{2}r^2(\\theta-sen\\theta).$\n",
    "\n",
    "<img src=\"https://raw.githubusercontent.com/tiagoburiol/metodos_numericos_em_python/refs/heads/main/2_ZEROS_DE_FUNCOES/imagens/circulo_de_raio_r.png\" width=\"160\">\n",
    "\n",
    "Para se determinar o ângulo $\\theta$ se $A_S$ e $r$ são conhecidos, a equação deve ser resolvida para $\\theta$. Não é uma tarefa simples escrever $\\theta$ explicitamente em termos de $A_S$ e $r$, portanto, pode não ser possível resolver essa equação analiticamente."
   ]
  },
  {
   "cell_type": "markdown",
   "id": "311e9be4-5b8b-49bd-b05c-e901f6fccceb",
   "metadata": {},
   "source": [
    "**Exemplo 2.1.3:** Seja uma esfera de madeira de raio $r$ colocada a flutuar sobre a água conforme figura. Qual é a altura $d$ da esfera que ficará submersa? \n",
    "\n",
    "<img src=\"https://raw.githubusercontent.com/tiagoburiol/metodos_numericos_em_python/refs/heads/main/2_ZEROS_DE_FUNCOES/imagens/esfera.png\" width=\"260\">\n",
    "\n",
    "Para responder essa pergunta, observemos que, pelo *Princípio de Arquimedes* o peso da esfera deve ser equilibrado com o peso do volume de água deslocada, ou seja, $\\mu_e V_e g = \\mu_a V_a g$ onde $g$ é a aceleração da gravidade, $\\mu_e$ é a densidade relativa da madeira e $\\mu_a$ é a densidade relativa da água, $V_e$ e $V_a$ são os volumes. Essa equação nos leva a \n",
    "\n",
    "$$ \\mu_e \\frac{4 \\pi r^3}{3} = \\mu_a \\int_0^d \\pi \\left[r^2-(x-r)^2) \\right]dx $$\n",
    "\n",
    "$$ \\mu_e \\frac{4 \\pi r^3}{3} = \\mu_a \\frac{\\pi d^2 (3r-d)}{3}$$\n",
    "\n",
    "\n",
    "substituindo os valores $r=10 cm$,  $\\mu_e =0,638 g/cm^3$ e $\\mu_a=1 g/cm^3$, com $\\pi \\approx 3.1415$, podemos chegar à seguinte equação aproximada\n",
    "\n",
    "$$ 1.047d^3-31.415d^2+2672.369=0$$\n",
    "\n",
    "Basta resolver essa equação para obter a resposta procurada. \n",
    "\n",
    "No entanto, encontrar a solução analítica para esse problema não é tão simples, mas com uma rotina numérica simples podemos encontrar uma boa aproximação. \n",
    "\n",
    "Observe que poderíamos ter multiplicado ambos os lados da equação por $\\frac{3}{\\pi}$, o que nos daria  \n",
    "\n",
    "$$d^3-30d^2+2552=0$$\n",
    "\n",
    "que é uma equação mais precisa, uma vez que não tivemos que usar aproximações, no entanto esse tipo de simplificaçao requer manipular o número $\\pi$ como um símbolo. Veremos que frequentemente soluções numéricas geral soluções aproximadas "
   ]
  },
  {
   "cell_type": "markdown",
   "id": "defc81fb-4756-4c72-80f8-1351b05e22a6",
   "metadata": {},
   "source": [
    "**Exemplo 2.1.4:** Podemos utilizar uma abordagem numérica para obter soluções aproximadas de equações, vejamos por exemplo a equação $f(d) = 1.047d^3-31.415d^2+2672.369$ do exemplo descrito anteriormente. Dos dados do problema, podemos inferir que a solução é um número entre 0 e 20, então, calculamos valores da função nesse intervalo e tentar encontrar uma aproximação. Buscamos o valor de $d$ que anula a função $f$, então, observando os resultados na tabera abaixo, podemos concluir que a solução é um número entre 11 e 12 cm pois é o intervalo onde a função muda de sinal.  "
   ]
  },
  {
   "cell_type": "code",
   "execution_count": 1,
   "id": "7eb35813-b1bb-46dd-ad0e-cdb07559ecc5",
   "metadata": {},
   "outputs": [
    {
     "name": "stdout",
     "output_type": "stream",
     "text": [
      "f( 0 )= 2672.369\n",
      "f( 1 )= 2642.001\n",
      "f( 2 )= 2555.085\n",
      "f( 3 )= 2417.903\n",
      "f( 4 )= 2236.737\n",
      "f( 5 )= 2017.869\n",
      "f( 6 )= 1767.581\n",
      "f( 7 )= 1492.155\n",
      "f( 8 )= 1197.873\n",
      "f( 9 )= 891.017\n",
      "f( 10 )= 577.869\n",
      "f( 11 )= 264.711\n",
      "f( 12 )= -42.175\n",
      "f( 13 )= -336.507\n",
      "f( 14 )= -612.003\n",
      "f( 15 )= -862.381\n",
      "f( 16 )= -1081.359\n",
      "f( 17 )= -1262.655\n",
      "f( 18 )= -1399.987\n",
      "f( 19 )= -1487.073\n",
      "f( 20 )= -1517.631\n"
     ]
    }
   ],
   "source": [
    "for d in range(0,21):\n",
    "    y = 1.047*d**3-31.415*d**2+2672.369\n",
    "    print('f(',d,')=', round(y,3))"
   ]
  },
  {
   "cell_type": "markdown",
   "id": "18d735bb-cdc5-4df0-b7d7-6362ccb5dd49",
   "metadata": {},
   "source": [
    "Seguindo o mesmo procedimento mas agora incrementando o valor de $d$ em 0.1 e calculando $f$ para valores de $d$ entre 11 e 12 observamos que a solução está entre $11.8$ e $11.9$. "
   ]
  },
  {
   "cell_type": "code",
   "execution_count": 2,
   "id": "d2291eab-e881-4350-a23a-5dc9ca639502",
   "metadata": {},
   "outputs": [
    {
     "name": "stdout",
     "output_type": "stream",
     "text": [
      "f( 11.0 )= 264.711\n",
      "f( 11.1 )= 233.637\n",
      "f( 11.2 )= 202.631\n",
      "f( 11.3 )= 171.701\n",
      "f( 11.4 )= 140.852\n",
      "f( 11.5 )= 110.091\n",
      "f( 11.6 )= 79.425\n",
      "f( 11.7 )= 48.858\n",
      "f( 11.8 )= 18.399\n",
      "f( 11.9 )= -11.948\n",
      "f( 12.0 )= -42.175\n"
     ]
    }
   ],
   "source": [
    "for inc in range(0,11):\n",
    "    d = 11+inc/10\n",
    "    y = 1.047*d**3-31.415*d**2+2672.369\n",
    "    print('f(',d,')=', round(y,3))"
   ]
  },
  {
   "cell_type": "markdown",
   "id": "fb20df1b-c958-4b43-9392-58c767e8fe6d",
   "metadata": {},
   "source": [
    "Por fim, podemos tomar como solução aproximada o ponto médio entre $11.8$ e $11.9$, ou seja, $d=11.85$. A precisão é de $0.05$."
   ]
  },
  {
   "cell_type": "markdown",
   "id": "258bbee1-76d5-4e57-ac9c-5a3e4d1a8104",
   "metadata": {},
   "source": [
    "**Exemplo 2.1.5:** (Usando a biblioteca SciPy)\n",
    "\n",
    "Encontrando a raiz de $A_S=\\frac{1}{2}r^2(\\theta-sen\\theta)$ com $r=1$ e $A_s = 3.5$."
   ]
  },
  {
   "cell_type": "code",
   "execution_count": 3,
   "id": "571d3c42-2e5f-4642-874b-534dad2e4058",
   "metadata": {},
   "outputs": [
    {
     "name": "stdout",
     "output_type": "stream",
     "text": [
      "[7.99067236]\n"
     ]
    }
   ],
   "source": [
    "from scipy.optimize import fsolve\n",
    "import numpy as np\n",
    "\n",
    "As = lambda x: 0.5*(x-np.sin(x))-3.5\n",
    "\n",
    "sol = fsolve(As, 1)\n",
    "print (sol)"
   ]
  },
  {
   "cell_type": "markdown",
   "id": "70b202d0-390c-4dc5-9cce-3961b2c3b00e",
   "metadata": {},
   "source": [
    "Esses foram pequenos exemplos de como os métodos numéricos podem nos auxiliar a obter soluções aproximadas quando não é fácil ou possível obter soluções analíticas. Os métodos numéricos são utilizados para muitas outras situações, como resolver integrais definidas, sistemas lineares de grande porte, equações diferenciais, obter visualização de grandes conjuntos de dados, etc."
   ]
  },
  {
   "cell_type": "markdown",
   "id": "83d50e10-d7c8-42cc-b98f-5080656292b2",
   "metadata": {},
   "source": [
    "Nos casos em que uma solução exata $\\overline{x}$ da equação $f(x)=0$ não puder ser encontrada por processos analíticos, uma solução aproximada pode ser obtida por métodos numéricos. Em geral, esses métodos fornecem uma sequência de aproximações, obtidas por um processo iterativo que termina quando a precisão desejada é atingida. \n",
    "\n",
    "Encontrar numericamente a raiz de uma equação requer duas etapas:\n",
    "\n",
    "1. Isolar a raiz, ou seja, encontrar um intervalo $[a,b]$ contendo uma única raíz da equação $f(x)=0$ e;\n",
    "\n",
    "2. Refinar o intervalo que contém a raíz até atingir a precisão desejada.\n",
    "\n",
    "Para isolar os zeros de uma função, podemos utilizar métodos gráficos ou testar valores numericamente.\n"
   ]
  },
  {
   "cell_type": "markdown",
   "id": "d20bc5dc-e126-43ec-a536-811f0953ebb0",
   "metadata": {},
   "source": [
    "### Localização por métodos métodos gráficos \n",
    "\n",
    "Graficamente as raízes da equação $f(x)=0$ (ou zeros da função $f$ correspondem aos pontos onde o gráfico de $f$ intercepta o eixo $x$. Na figura abaixo, a função $f$ possui 5 zeros representados por $\\overline{x}_1$, $\\overline{x}_2$, $\\overline{x}_3$, $\\overline{x}_4$ e $\\overline{x}_5$.\n",
    "\n",
    "\n",
    "<img src=\"https://raw.githubusercontent.com/tiagoburiol/metodos_numericos_em_python/refs/heads/main/2_ZEROS_DE_FUNCOES/imagens/localizacao.png\" width=\"600\">"
   ]
  },
  {
   "cell_type": "markdown",
   "id": "63df8167-58c7-4bad-abc3-5aa8dee92af2",
   "metadata": {},
   "source": [
    "Nem sempre é fácil esboçar o gráfico de uma função sem a ajuda de um computador. Em muitos casos é conveniente rescrever a equação $f(x)=0$ numa forma equivamente $f_1(x)=f_2(x)$ e esboçar os gráficos de $f_1$ e $f_2$ para verificar onde eles se interceptam. Outra abordagem seria atribuir valores arbitrários para a variável $x$ e encontrar um par $a$ e $b$ tal que $f(a)\\cdot f(b)<0$."
   ]
  },
  {
   "cell_type": "markdown",
   "id": "0ec4aa45-ce7b-4789-a5c1-1ca439d02adf",
   "metadata": {},
   "source": [
    "**Exemplo 2.1.6:**\n",
    "\n",
    "A equação $f(x)=e^x-sen(x)-2=0$ pode ser escrita como $e^x=senx+2$ então, esboçando os gráficos de $f_1(x)=e^x$ e $f_2(x)=senx+2$, observamos que \n",
    "a raiz procurada está entre  $0.5$ e $1.5$, como pode ser visto no gráfico a seguir.\n"
   ]
  },
  {
   "cell_type": "markdown",
   "id": "9a14c98d-a257-49a6-afb9-590919ebd10b",
   "metadata": {},
   "source": [
    "\n",
    "<img src=\"https://raw.githubusercontent.com/tiagoburiol/metodos_numericos_em_python/refs/heads/main/2_ZEROS_DE_FUNCOES/imagens/exemplo1.png\" width=\"400\">"
   ]
  },
  {
   "cell_type": "markdown",
   "id": "6d13a01d-b449-497f-8dea-a17bbb477306",
   "metadata": {},
   "source": [
    "Vamos geraresses gráficos usando Python. Para isso precisamos da seguinte biblioteca:"
   ]
  },
  {
   "cell_type": "code",
   "execution_count": 4,
   "id": "45a93566-fb2a-45b1-b62e-4f1a1b1b1966",
   "metadata": {},
   "outputs": [],
   "source": [
    "import matplotlib.pyplot as plt"
   ]
  },
  {
   "cell_type": "markdown",
   "id": "da49a985-0610-4bb3-9e84-1649382854ec",
   "metadata": {},
   "source": [
    "A partir daí criamos uma lista de pontos para plotar, fica fácil fazer isso usando a função *arange* da biblioteca numpy:"
   ]
  },
  {
   "cell_type": "code",
   "execution_count": 5,
   "id": "b1956895-14c7-4cee-bcbc-36b6383491a5",
   "metadata": {},
   "outputs": [
    {
     "name": "stdout",
     "output_type": "stream",
     "text": [
      "[-1.   -0.75 -0.5  -0.25  0.    0.25  0.5   0.75  1.    1.25  1.5   1.75\n",
      "  2.    2.25  2.5   2.75  3.    3.25  3.5   3.75  4.    4.25  4.5   4.75\n",
      "  5.    5.25  5.5   5.75]\n"
     ]
    }
   ],
   "source": [
    "import numpy as np\n",
    "x = np.arange(-1, 6, 0.25) # início, fim, passo\n",
    "print (x)"
   ]
  },
  {
   "cell_type": "markdown",
   "id": "fc19005c-cc76-4e58-ab0e-5fe2ca2de90e",
   "metadata": {},
   "source": [
    "Agora definimos as funções para obter os valores de $f1(x)$ e $f2(x)$. Isso pode ser feito usando a função `lambda` ou `def`."
   ]
  },
  {
   "cell_type": "code",
   "execution_count": 6,
   "id": "fd0c12ab-ec64-434e-b618-79776c9f9fa7",
   "metadata": {},
   "outputs": [],
   "source": [
    "f1 = lambda x: np.exp(x)\n",
    "f2 = lambda x: np.sin(x)+2"
   ]
  },
  {
   "cell_type": "markdown",
   "id": "97cdea14-c942-456c-b5fa-1e29df865c7b",
   "metadata": {},
   "source": [
    "Agora, basta plotar:"
   ]
  },
  {
   "cell_type": "code",
   "execution_count": 7,
   "id": "e4d43b0b-d7f8-4708-b590-03fa7fbb415f",
   "metadata": {},
   "outputs": [
    {
     "data": {
      "image/png": "[encoded data removed]",
      "text/plain": [
       "<Figure size 500x300 with 1 Axes>"
      ]
     },
     "metadata": {},
     "output_type": "display_data"
    }
   ],
   "source": [
    "plt.figure(figsize=(5,3))\n",
    "plt.plot(x, f1(x), x, f2(x))\n",
    "plt.ylim(0, 4) \n",
    "plt.grid()\n",
    "plt.show()"
   ]
  },
  {
   "cell_type": "markdown",
   "id": "abb0c58e-1524-4a79-aeb6-7822021e3e56",
   "metadata": {},
   "source": [
    "**Exemplo 2.1.7:**\n",
    "Atribuindo valores para $x$ e avaliando a função $f(x)=e^x-sen(x)-2$ para esses valores obtemos:\n",
    "\n",
    "    f(0.0) = -1.0000  \n",
    "    f(0.5) = -0.8307  \n",
    "    f(1.0) = -0.1232  \n",
    "    f(1.5) = 1.4842 \n",
    "    f(2.0) = 4.4798 \n",
    "    f(2.5) = 9.5840 \n",
    "\n",
    "Como $f(1.0) \\cdot f(1.5)<0$, podemos concluir que existe pelo menos uma raíz entre $1.0$ e $1.5$.\n",
    "\n",
    "Ainda, considerando essa mesma função, podemos verificar a existência de uma única raíz no intervalo $[1.0, 1.5]$ plotando seu gráfico\n",
    "\n",
    "<img src=\"https://raw.githubusercontent.com/tiagoburiol/metodos_numericos_em_python/refs/heads/main/2_ZEROS_DE_FUNCOES/imagens/exemplo2.png\" width=\"400\">\n",
    "\n",
    "Em Python, podemos plotar os gráficos de $f_1(x)=e^x$ e $f_2(x)=sen(x)+2$ usando o seguinte script:"
   ]
  },
  {
   "cell_type": "code",
   "execution_count": 8,
   "id": "94421396-06ab-4681-9bb5-d8e2c73cd9eb",
   "metadata": {},
   "outputs": [
    {
     "data": {
      "image/png": "[encoded data removed]",
      "text/plain": [
       "<Figure size 640x480 with 1 Axes>"
      ]
     },
     "metadata": {},
     "output_type": "display_data"
    }
   ],
   "source": [
    "x = np.arange(0.5, 1.5, 0.1)\n",
    "\n",
    "f1 = lambda x: np.exp(x)\n",
    "f2 = lambda x: np.sin(x)+2\n",
    "\n",
    "plt.plot(x, f1(x), x, f2(x))\n",
    "plt.grid()\n",
    "plt.show()"
   ]
  },
  {
   "cell_type": "markdown",
   "id": "adb1e72f-d765-4a5a-a45f-716c4aaa68e7",
   "metadata": {},
   "source": [
    "Ou, então, plotar apenas o gráfico de $f(x)=e^x - sen(x) -2$ usando o seguinte script:"
   ]
  },
  {
   "cell_type": "code",
   "execution_count": 9,
   "id": "406b882a-3db0-4ff3-b9a2-1eb643dfde18",
   "metadata": {},
   "outputs": [
    {
     "data": {
      "image/png": "[encoded data removed]",
      "text/plain": [
       "<Figure size 640x480 with 1 Axes>"
      ]
     },
     "metadata": {},
     "output_type": "display_data"
    }
   ],
   "source": [
    "x = np.arange(0.0, 2.0, 0.1)\n",
    "\n",
    "f = lambda x: np.exp(x)-np.sin(x)-2\n",
    "\n",
    "plt.plot(x, f(x))\n",
    "plt.grid()\n",
    "plt.show()"
   ]
  },
  {
   "cell_type": "code",
   "execution_count": null,
   "id": "f0bd194d-f3d5-4bf7-8c4c-068ab1875cf4",
   "metadata": {},
   "outputs": [],
   "source": []
  },
  {
   "cell_type": "markdown",
   "id": "3f67b65f-a209-44d0-98dc-ec6cacff8401",
   "metadata": {},
   "source": [
    "### Localização de raízes de polinômios"
   ]
  },
  {
   "cell_type": "markdown",
   "id": "27ef65cd-b912-47b0-ae0c-80646ee0ac2e",
   "metadata": {},
   "source": [
    "Desejamos, localizar as raízes \n",
    "$\\overline x$ tal que $P(\\overline x) = 0$, em que $P(x)$ é um polinômio de grau $n \\in N$, com coeficientes reais ou complexos na forma:\n",
    "\n",
    "$$P(x)=a_0+a_1 x+a_2 x^2+\\cdots+a_n x^n$$ \n",
    "\n",
    "e $a_n \\neq 0$. \n",
    "\n",
    "As raízes de tais polinômios seguem estas regras:\n",
    "1. Para uma equação de grau $n$, existem $n$ raízes reais ou complexas. Deve-se observar que essas raízes não serão necessariamente distintas.\n",
    "2. Se $n$ for ímpar, existe pelo menos uma raiz real.\n",
    "3. Se existirem raízes complexas, elas existem em pares conjugados (isto é, $a+b i$ e $a-b i)$ onde $i=\\sqrt{-1}$."
   ]
  },
  {
   "cell_type": "markdown",
   "id": "edeb04d4-d3a1-496f-9513-4b65ae2eab1b",
   "metadata": {},
   "source": [
    "No caso de polinômios, o valor da função pode ser calculado de forma mais eficiente se pensarmos na sequência de operações necessárias quando o polinômio é colocado na forma estruturada, usando *parênteses aninhados*. Por exemplo, o polinômio de terceiro grau\n",
    "\n",
    "$$\n",
    "f_3(x)=a_3 x^3+a_2 x^2+a_1 x+a_0\n",
    "$$\n",
    "\n",
    "exige seis multiplicações e seis adições. Em geral um polinômio de grau $n$ exige $n(n+1) / 2$ multiplicações e $n$ adições para ser avaliado em um determinado ponto. Já se ele for reescrito como                                                                                           \n",
    "$$f_3(x)=\\left(\\left(a_3 x+a_2\\right) x+a_1\\right)x+a_0$$\n",
    "\n",
    "então, requer três multiplicações e três adições."
   ]
  },
  {
   "cell_type": "markdown",
   "id": "1e3b9b10-e915-4d98-ac75-46358216f3a0",
   "metadata": {},
   "source": [
    "**Exemplo 2.6.1:** Considere o polinômio $f(x)=0,8x^5 - 1,3x^4 +5x^3 +17x^2 + 1.9x +10$. Vamos calcular $P(0.5)$ usando um laço simples em que cada passo efetuamos uma multiplicação e uma soma."
   ]
  },
  {
   "cell_type": "code",
   "execution_count": 10,
   "id": "8233ee58-d108-4873-87ca-49a14460b4ed",
   "metadata": {},
   "outputs": [],
   "source": [
    "a = [0.8, -1.3,5, 17,1.9,10]\n",
    "x = 0.5; p = 0; df = 0"
   ]
  },
  {
   "cell_type": "code",
   "execution_count": 11,
   "id": "6ae44c00-cf79-43fc-9534-2c3d04a50209",
   "metadata": {},
   "outputs": [
    {
     "name": "stdout",
     "output_type": "stream",
     "text": [
      "<function <lambda> at 0x7f9e4a70eb60> 0\n"
     ]
    }
   ],
   "source": [
    "for n in range(6):\n",
    "    #df = df*x+p\n",
    "    p = p*x+a[n]\n",
    "print(f, df)"
   ]
  },
  {
   "cell_type": "markdown",
   "id": "86ca42cf-b17f-4244-b2a2-daa2d911658c",
   "metadata": {},
   "source": [
    "Observe que a derivada pode ser obtida incluindo a linha `df = df*x+p`no laço acima."
   ]
  },
  {
   "cell_type": "code",
   "execution_count": 12,
   "id": "3c2faeaa-8112-4cad-97e0-bdef3451f285",
   "metadata": {},
   "outputs": [
    {
     "name": "stdout",
     "output_type": "stream",
     "text": [
      "15.76875 22.25\n"
     ]
    }
   ],
   "source": [
    "p = 0.8*x**5-1.3*x**4+5*x**3+17*x**2+1.9*x+10\n",
    "df = 5*0.8*x**4-1.3*4*x**3+3*5*x**2+2*17*x+1.9\n",
    "print (p, df)"
   ]
  },
  {
   "cell_type": "markdown",
   "id": "3db78d16-3907-41d1-bd91-b48dd919d936",
   "metadata": {},
   "source": [
    "**Teorema: Localização de raízes no círculo**\n",
    "\n",
    "Sejam $P(x)=a_0 x^n + a_1 x^{n-1}+...+a_{n-1}x+a_n$ e $A=max\\{\\left|a_1 \\right|,..., \\left|a_n \\right|\\}$. Então, o módulo de todas as raízes $x_k$ , $k = 1,... , n$ satisfaz a inequação:\n",
    "\n",
    "$$ |x_k|< 1 +\\frac{A}{\\left|a_0 \\right|} = R$$\n",
    "\n",
    "Para a demonstração, ver Arenales e Darezzo, 2016.\n",
    "\n",
    "Como consequência desse teorema, tem-se o seguinte **corolário**: \n",
    "\n",
    "Sejam $a_n\\neq 0$ e $B=max\\{\\left|a_0 \\right|,...,\\left|a_{n-1}\\right|\\}$, em que $a_k$,$k=0,...,n$ são os coeficientes de $P(x)$. Então, o módulo de todas as raízes $x_k$, $k = 1,..., n$ satisfaz a inequação:\n",
    "\n",
    "$$ \\left|x_k \\right| > \\frac{1}{1+\\frac{B}{\\left|a_n \\right|}}=r$$\n",
    "\n",
    "(Para a demonstração, ver Arenales e Darezzo, 2015, p 123)"
   ]
  },
  {
   "cell_type": "markdown",
   "id": "47ac6ccb-9916-4795-b3b9-d39e1c48c23d",
   "metadata": {},
   "source": [
    "**Exemplo 2.1.8:** \n",
    "As raízes de $P(x)=x^3+2x^2-x-2=0$ estão localizadas em $-3<x_k< -1/2$ ou $1/2< x_k <3$, pois:\n",
    "\n",
    "$ |x_k|<1-\\frac{2}{|1|} = 3 = R$ e    $|x_k|> \\frac{1}{1+\\frac{2}{|-2|}} = 1/2 = r$\n",
    " \n",
    "De fato, as raízes de $P(x) = 0$ são dadas por $x = 1$, $x = −1$ e $x = −2$.\n",
    "\n",
    "Assim, no plano complexo as raízes de $P(x) = 0$ estão localizadas no anel $r < |x| < R$ como ilustra a figura abaixo.\n",
    "\n",
    "<img src=\"https://raw.githubusercontent.com/tiagoburiol/metodos_numericos_em_python/refs/heads/main/2_ZEROS_DE_FUNCOES/imagens/anel.png\" width=\"300\">"
   ]
  },
  {
   "cell_type": "markdown",
   "id": "aa62c0f0-2281-429d-8aeb-58697c2cc24d",
   "metadata": {},
   "source": [
    "**Teorema: regra de sinais de Descartes**\n",
    "\n",
    "Dada uma equação polinomial com coeficientes reais, o número de raízes reais positivas $p$ dessa equação não excede o número $v$ de variações de sinais dos coeficientes. Ainda mais, $(v − p)$ é inteiro par, não negativo.\n",
    "\n",
    "Para determinar o número de raízes negativas, basta calcular o número de variações de sinais no polinômio $P(−x)$."
   ]
  },
  {
   "cell_type": "markdown",
   "id": "783f8af4-74b6-4f29-b23e-fc3189b6fa85",
   "metadata": {},
   "source": [
    "**Teorema: Budan-Fourier**\n",
    "\n",
    "Se os números $a$ e $b(a<b)$ não são raízes da eqı $N(a, b)$ de raízes reais da equação $P(x)=0$ locali\n",
    "$N(a, b)=\\Delta \\bar{N}-2 k \\quad(k$ natural $)$, send em que $\\bar{N}(x)$ é igual ao número de variações de si derivadas:\n",
    "\n",
    "$$\n",
    "P(x), P^{(1)}(x), \\ldots, P^{(n-1)}, 1\n",
    "$$"
   ]
  },
  {
   "cell_type": "markdown",
   "id": "6e5e78b5-7122-467c-ace0-4e2a4521f0e1",
   "metadata": {},
   "source": [
    "**Exemplo 2.6.3:** (Fonte: [Arenales e Darezzo, 2016](https://integrada.minhabiblioteca.com.br/reader/books/9788522112821/pageid/137)) Considere o polinômio $P(x)=x^3+2 x^2-x-2$. Aplicando o teorema de Budan-Fourier, vemos que os valores 3 e -3 não são raízes de $P(x)=0$, pois $P(3)=40$ e $P(-3)=-8$. Desta forma, é possível calcular o número de raízes localizadas em $[-3,3]$ :\n",
    "\n",
    "Seja $P^{(i)}(x) \\rightarrow i$-ésima derivada de $P(x)$. Assim, temos:\n",
    "\n",
    "$$\n",
    "\\begin{array}{rrr}\n",
    "P(3)=40 & P^{(1)}(3)=38 & P^{(2)}(3) \\\\\n",
    "P(-3)=-8 & P^{(1)}(-3)=14 & P^{(2)}(-3)\n",
    "\\end{array}\n",
    "$$\n",
    "Logo,\n",
    "\n",
    "$$\n",
    "\\begin{gathered}\n",
    "\\bar{N}(3)=0 \\quad \\text { e } \\quad \\bar{N}(-3)= 3\\\\\n",
    "\\Delta \\bar{N}=\\bar{N}(-3)-\\bar{N}(3)=3-0 = 3\\\\\n",
    "N(-3,3)=3-2 k, \\quad k=0,1\n",
    "\\end{gathered}\n",
    "$$\n",
    "\n",
    "\n",
    "Portanto, temos uma ou três raízes no intervalo\n",
    "Pela regra de sinais de Descartes, observamos que a equação possui uma raiz positiva e, portanto, a equação pode ter duas raízes no intervalo $(-3,0)$ ou não ter nenhuma raiz real negativa."
   ]
  },
  {
   "cell_type": "markdown",
   "id": "4887be43-abaf-425f-a550-49a34e63a1f8",
   "metadata": {},
   "source": []
  },
  {
   "cell_type": "code",
   "execution_count": null,
   "id": "98390b9f-9c10-4454-92ea-c2bf14f6df07",
   "metadata": {},
   "outputs": [],
   "source": []
  },
  {
   "cell_type": "markdown",
   "id": "6f27f146-d631-4145-b1eb-4f6752a73bc9",
   "metadata": {},
   "source": [
    "**Exercícios:** \n",
    "\n",
    "**1.** Localize graficamente e determine uma aproximação para as raízes reais das funções dadas. \n",
    "\n",
    "a) $f(x) = –0.5x^2 + 2.5x + 4.5$\n",
    "\n",
    "b) $f(x) = 5x^2 – 5x^2 + 6x -2$\n",
    "\n",
    "c) $f(x) = –25 + 82x – 90x^2 + 44x^3 – 8x^4 + 0.7x^5$\n",
    "\n",
    "d) $f(x) = – 12 – 21x + 18x^2 – 2.75x^3$"
   ]
  },
  {
   "cell_type": "markdown",
   "id": "0837386b-af59-45b5-99be-682c54d82977",
   "metadata": {},
   "source": [
    "**2.** Determine um intervalo pequeno (de tamanho 0.1, por exemplo) que contenha as raízes reais das funções dadas.\n",
    "\n",
    "a) $f(x)=x-e^x=0$\n",
    "\n",
    "b) $f(x)=\\operatorname{sen}(x)+x^2+1=0$\n",
    "\n",
    "c) $f(x)=\\operatorname{sen}(x)-x+2=0$\n",
    "\n",
    "d) $f(x)=2 x-\\operatorname{tg}(x)=0$\n",
    "\n",
    "e) $f(x)=3 x-\\cos (x)+1=0$\n",
    "\n",
    "f) $f(x)=\\ln (x)-\\operatorname{sen}(x)=0$"
   ]
  },
  {
   "cell_type": "markdown",
   "id": "0bd4f77f-a28d-4a12-a3ff-da41fc28afef",
   "metadata": {},
   "source": [
    "**3.** Localize as raízes dos seguintes polinômios:\n",
    "\n",
    "a) $P(x) = x^3-7x^2+14x-6=0$  \n",
    "\n",
    "b) $P(x) = –25 + 82x – 90x^2 + 44x^3 – 8x^4 + 0.7x^5$\n",
    "\n",
    "c) $P(x) = – 12 – 21x + 18x^2 – 2.75x^3$"
   ]
  },
  {
   "cell_type": "markdown",
   "id": "765bba57-3521-461d-830d-cc88c821ea00",
   "metadata": {},
   "source": [
    "**4.** ([Fonte](https://integrada.minhabiblioteca.com.br/reader/books/9788522123414/pageid/75)) Uma gamela de comprimento $L$ tem seção transversal semicircular com raio $r$ (veja a figura abaixo). Quando a gamela está cheia com água até uma distância $h$ do topo, o volume $V$ de água é\n",
    "\n",
    "$$\n",
    "V=L\\left[0,5 \\pi r^2-r^2 \\operatorname{arcsen}(h / r)-h\\left(r^2-h^2\\right)^{1 / 2}\\right] .\n",
    "$$\n",
    "\n",
    "\n",
    "![raizes](imagens/gamela.png)\n",
    "\n",
    "Suponha que $L=10 pés$, $r= 1$ pé e $V= 12,4$ pés$^3$. Encontre uma aproximação para a profundidade da água na gamela (sem resolver a equação)."
   ]
  },
  {
   "cell_type": "markdown",
   "id": "f1299c17-b4df-4e18-8b06-6fdce1215792",
   "metadata": {},
   "source": [
    "**5.** ([Fonte](https://integrada.minhabiblioteca.com.br/reader/books/9788522123414/pageid/75)) Uma partícula começa a se movimentar sobre um plano inclinado liso cujo ângulo $\\theta$ está variando com velocidade constante\n",
    "\n",
    "$$\n",
    "\\frac{d \\theta}{d t}=\\omega<0 .\n",
    "$$\n",
    "\n",
    "\n",
    "Depois de $t$ segundos, a posição do objeto é dada por\n",
    "\n",
    "$$\n",
    "x(t)=-\\frac{g}{2 \\omega^2}\\left(\\frac{e^{\\omega t}-e^{-\\omega t}}{2}-\\operatorname{sen} \\omega t\\right) .\n",
    "$$\n",
    "\n",
    "\n",
    "Suponha que a partícula tenha se deslocado 1,7 pé em 1 segundo. Obtenha uma aproximação para a velocidade $\\omega \\operatorname{com}$ a qual $\\theta$ varia. Suponha que $g=32,17$ pés $/ \\mathrm{s}^2$.\n",
    "\n",
    "![raizes](imagens/plano_inclinado.png)"
   ]
  },
  {
   "cell_type": "code",
   "execution_count": null,
   "id": "6d1c9dfa-41d6-4ec5-81ee-47768910f4e7",
   "metadata": {},
   "outputs": [],
   "source": []
  },
  {
   "cell_type": "code",
   "execution_count": null,
   "id": "4ab0b3cb-d574-494d-b724-09bbe5f2456c",
   "metadata": {},
   "outputs": [],
   "source": []
  }
 ],
 "metadata": {
  "kernelspec": {
   "display_name": "Python 3 (ipykernel)",
   "language": "python",
   "name": "python3"
  },
  "language_info": {
   "codemirror_mode": {
    "name": "ipython",
    "version": 3
   },
   "file_extension": ".py",
   "mimetype": "text/x-python",
   "name": "python",
   "nbconvert_exporter": "python",
   "pygments_lexer": "ipython3",
   "version": "3.12.4"
  }
 },
 "nbformat": 4,
 "nbformat_minor": 5
}
