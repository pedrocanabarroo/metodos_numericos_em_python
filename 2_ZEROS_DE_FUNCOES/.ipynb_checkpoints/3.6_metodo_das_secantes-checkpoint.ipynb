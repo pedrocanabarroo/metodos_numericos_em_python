{
 "cells": [
  {
   "cell_type": "markdown",
   "metadata": {},
   "source": [
    "# 3.6 Método das Secantes\n",
    "\n",
    "O método das secantes consiste em aproximarmos a derivada da função $f'(x_i)$ que ocorre no método de Newton da seguinte forma:\n",
    "\n",
    "$$ f'(x_i) \\approx \\frac{f(x_i) - f(x_{i-1})}{x_i-x_{i-1}}$$\n",
    "\n",
    "\n",
    "Observe que, neste caso, estamos trocando a inclinação da reta tangente pela inclinação da reta secante à curva, conforme a figura abaixo. Assim, dados os pontos $x_{i−1}$ e $x_i$ , onde a reta secante, passando por $(x_{i−1}, f(x_{i−1}) )$ e $(x_i , f(x_i))$, cortar o eixo das abscissas, temos a aproximação $x_{i+1}$ para a raiz $\\overline{x}$, conforme ilustrado \n",
    "\n",
    "<img src=\"https://github.com/tiagoburiol/NUMETHODS/raw/master/3_ZEROS_DE_FUNCOES/images/secantes.png\" width=\"360\">\n",
    "\n",
    "Assim, o método de Newton, dado por\n",
    "\n",
    "$$ x_{i+1} = x_i-\\frac{f(x_i)}{f''x_i)}$$\n",
    "\n",
    "é modificado da seguinte forma\n",
    "\n",
    "$$ x_{i+1} = x_i-\\frac{ f(x_i)}{ \\,\\, \\large \\frac{f(x_i) - f(x_{i-1})}{x_i-x_{i-1}}\\,\\,}$$\n",
    "\n",
    "Que pode ser reescrito como \n",
    "\n",
    "$$ x_{i+1} = x_i-\\frac{ x_{i-1}f(x_i) - x_i f(x_{i-1})}{ f(x_i) - f(x_{i-1})}$$"
   ]
  },
  {
   "cell_type": "code",
   "execution_count": 1,
   "metadata": {},
   "outputs": [
    {
     "name": "stdout",
     "output_type": "stream",
     "text": [
      "| x=0.761904762\n",
      "| x=0.766778714\n",
      "| x=0.766682643\n",
      "| x=0.766682636\n"
     ]
    }
   ],
   "source": [
    "#-*- coding: utf-8 -*-\n",
    "import math\n",
    "\n",
    "err = 10.0\n",
    "x0 = 1.0\n",
    "x1 = 2.0\n",
    "\n",
    "#f = lambda x: math.log(x)+x-4.0\n",
    "f = lambda x: 1.2**x-1.5*x\n",
    "\n",
    "while err> 0.0001:\n",
    "    x = (x0*f(x1)-x1*f(x0))/(f(x1)-f(x0))\n",
    "    \n",
    "    err = abs(x-x1)/abs(x)   # calcula o erro relativo\n",
    "   \n",
    "    x0 = x1\n",
    "    x1 = x\n",
    "    \n",
    "    print (\"| x=%.9f\"%x)\n"
   ]
  },
  {
   "cell_type": "code",
   "execution_count": null,
   "metadata": {
    "collapsed": true
   },
   "outputs": [],
   "source": []
  }
 ],
 "metadata": {
  "kernelspec": {
   "display_name": "Python 3",
   "language": "python",
   "name": "python3"
  },
  "language_info": {
   "codemirror_mode": {
    "name": "ipython",
    "version": 3
   },
   "file_extension": ".py",
   "mimetype": "text/x-python",
   "name": "python",
   "nbconvert_exporter": "python",
   "pygments_lexer": "ipython3",
   "version": "3.8.5"
  }
 },
 "nbformat": 4,
 "nbformat_minor": 1
}
