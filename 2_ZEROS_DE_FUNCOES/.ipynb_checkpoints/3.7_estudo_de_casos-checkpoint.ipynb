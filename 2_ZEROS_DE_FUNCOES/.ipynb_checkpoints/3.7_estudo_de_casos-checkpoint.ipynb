{
 "cells": [
  {
   "cell_type": "markdown",
   "metadata": {},
   "source": [
    "# 3.6 Estudo de casos\n"
   ]
  },
  {
   "cell_type": "markdown",
   "metadata": {},
   "source": [
    "## Problema 1\n",
    "Um tanque de comprimento $L$ tem uma secção transversal no formato de um semicírculo com raio $r$ (veja a figura). Quando cheio de água até uma distância $h$ do topo, o volume $V$ da água é: \n",
    "\n",
    "$$V=L \\left[0.5 \\pi r^2 - r^2 arcsen \\left(\\frac{h}{r} \\right)-h \\sqrt{r^2-h^2} \\right]$$\n",
    "\n",
    "Supondo que $L=10 ft$, $r = 1 ft$ e $V=12.4 ft^3$, encontre a profundidade do tanque com precisão de $0.0001 ft$ utilizando um programa em Python para o Método da Bisseção e Método de Newton. Apresente os códigos utilizados e comente os resultados obtidos.   \n",
    "\n",
    "<img src=\"https://github.com/tiagoburiol/NUMETHODS/raw/master/3_ZEROS_DE_FUNCOES/images/tanque_cilindrico.jpg\" width=\"400\">\n",
    "\n",
    "### Resolução\n",
    "Substituindo os valores de $L$, $r$ e $V$ na equação\n",
    "\n",
    "$$ f(h)= \\frac{V}{L} - \\left[0.5 \\pi r^2 - r^2 arcsen \\left(\\frac{h}{r} \\right)-h \\sqrt{r^2-h^2} \\right]=0$$\n",
    "\n",
    "obtem-se a seguinte função, cuja raiz é a solução do problema\n",
    "\n",
    "$$ f(h) = arcsen(h)+h\\sqrt{1-h^2} - 0.3308$$"
   ]
  },
  {
   "cell_type": "code",
   "execution_count": 2,
   "metadata": {},
   "outputs": [
    {
     "data": {
      "image/png": "[encoded data removed]",
      "text/plain": [
       "<Figure size 432x288 with 1 Axes>"
      ]
     },
     "metadata": {
      "needs_background": "light"
     },
     "output_type": "display_data"
    }
   ],
   "source": [
    "#% matplotlib inline\n",
    "import numpy as np\n",
    "import matplotlib.pyplot as plt\n",
    "\n",
    "f = lambda h: np.arcsin(h)+h*(1-h**2)**0.5-0.338\n",
    "\n",
    "# Localização por método gráfico \n",
    "h = np.arange(0.0, 1.0, 0.1)\n",
    "plt.plot(h, f(h))\n",
    "plt.grid()\n",
    "plt.show()"
   ]
  },
  {
   "cell_type": "markdown",
   "metadata": {},
   "source": [
    "Observa-se pelo gráfico que a raiz está entre 0,15 e 0,2."
   ]
  },
  {
   "cell_type": "code",
   "execution_count": 3,
   "metadata": {},
   "outputs": [
    {
     "name": "stdout",
     "output_type": "stream",
     "text": [
      "|h=0.1750 |err=0.1429\n",
      "|h=0.1625 |err=0.0769\n",
      "|h=0.1687 |err=0.0370\n",
      "|h=0.1719 |err=0.0182\n",
      "|h=0.1703 |err=0.0092\n",
      "|h=0.1695 |err=0.0046\n",
      "|h=0.1699 |err=0.0023\n",
      "|h=0.1697 |err=0.0012\n",
      "|h=0.1698 |err=0.0006\n",
      "|h=0.1698 |err=0.0003\n",
      "|h=0.1698 |err=0.0001\n",
      "|h=0.1698 |err=0.0001\n",
      "A profundidade aproximada pelo método da bisseção é  0.83018798828125\n"
     ]
    }
   ],
   "source": [
    "import math \n",
    "\n",
    "f = lambda h: math.asin(h)+h*(1-h**2)**0.5-0.338\n",
    "\n",
    "#como é uma secção transversal no formato de um semicírculo de raio r=1, h vai de 0 a 1\n",
    "a = 0.15\n",
    "b = 0.2\n",
    "eps = 0.0001\n",
    "err = 10.0\n",
    "h_ant = a\n",
    "\n",
    "while err>eps:\n",
    "    h = (a+b)/2.\n",
    "    err = abs(h-h_ant)/abs(h)\n",
    "    h_ant = h\n",
    "    print (\"|h=%.4f\"%h,\"|err=%.4f\"%err)\n",
    "    \n",
    "    if f(h)*f(a)<0:\n",
    "        b = h\n",
    "    else:\n",
    "        a = h\n",
    "#foi calculada a distância h do topo, então a profundidade é o raio=1 menos h\n",
    "print (\"A profundidade aproximada pelo método da bisseção é \",1.-h)"
   ]
  },
  {
   "cell_type": "code",
   "execution_count": 4,
   "metadata": {},
   "outputs": [
    {
     "name": "stdout",
     "output_type": "stream",
     "text": [
      "h=0.16900 | err=1.00000\n",
      "h=0.16982 | err=0.00483\n",
      "h=0.16982 | err=0.00000\n",
      "A profundidade aproximada pelo método de Newton é  0.830180200044136\n"
     ]
    }
   ],
   "source": [
    "import math \n",
    "\n",
    "f = lambda h: math.asin(h)+h*(1-h**2)**0.5-0.338\n",
    "df = lambda h: 1./(1.-h**2)**0.5 + (1.-h**2)**0.5 + h*0.5*(1-h**2)**(-0.5)*(-2*h)\n",
    "                                                                       \n",
    "h0 = 0.0\n",
    "eps = 0.0001\n",
    "err = 10.\n",
    "\n",
    "while err>eps:\n",
    "    h = h0 - f(h0)/df(h0)  \n",
    "    err = abs(h-h0)/abs(h)\n",
    "    h0 = h\n",
    "    print ( \"h=%.5f\"%h, \"| err=%.5f\"%err)\n",
    "#foi calculada a distância h do topo, então a profundidade é o raio=1 menos h\n",
    "print (\"A profundidade aproximada pelo método de Newton é \",1.-h)"
   ]
  },
  {
   "cell_type": "markdown",
   "metadata": {},
   "source": [
    "**Comentário** <br>\n",
    "É possível observar ambos os métodos convergem para a raiz, no entanto o método de Newton converge mais rapidamente, com apenas 3 iterações, enquanto o método da bisseção precisou de 12 iterações para atingir a precisão de 0,0001. \n",
    "\n",
    "___________________________________________________________________________"
   ]
  },
  {
   "cell_type": "markdown",
   "metadata": {},
   "source": [
    "## Problema 2\n",
    "\n",
    "Calcule todas as raízes de f(x)=lnx−x+2=0 pelo método do Aproximações Sucessivas (Ponto-Fixo) até que o erro relativo seja inferior a 0.0001. Em seguida, use o Método de Newton para resolver a mesma equação e compare os resultados comentando sobre o que você observou. \n",
    "\n",
    "### Resolução \n",
    "Para o método do Ponto Fixo, precisamos encontrar uma função de interação ϕ(x) escrevendo uma equação equivalente a f(x)=lnx−x+2=0 na forma x=ϕ(x). Existem muitas formas de fazer isso, as funções obtidas podem gerar sequências convergentes ou não. Se |ϕ′(x)|≤1 em torno da raiz, a sequência será convergente. Entre as equações possíveis, tem-se ϕ1(x)=ln(x)+2 e ϕ2(x)=e(x−2).\n"
   ]
  },
  {
   "cell_type": "code",
   "execution_count": 5,
   "metadata": {},
   "outputs": [
    {
     "data": {
      "image/png": "[encoded data removed]",
      "text/plain": [
       "<Figure size 432x288 with 1 Axes>"
      ]
     },
     "metadata": {
      "needs_background": "light"
     },
     "output_type": "display_data"
    }
   ],
   "source": [
    "#% matplotlib inline\n",
    "import numpy as np\n",
    "import matplotlib.pyplot as plt\n",
    "\n",
    "# Localização por método gráfico \n",
    "x = np.arange(0.1, 5.0, 0.1)\n",
    "plt.plot(x, np.log(x)-x+2)\n",
    "plt.grid()\n",
    "plt.show()"
   ]
  },
  {
   "cell_type": "markdown",
   "metadata": {},
   "source": [
    "Observa-se pelo gráfico que a função possui 2 raízes. Uma próxima de $x=0.0$ e outra próxima de $x = 3.0$. Analisando a convergência do método do ponto fixo, vemos que  $|\\phi_1'(x)| = |\\frac{1}{x}| \\geq 1$ em torno de $0.0$ e $\\leq 1$ em torno de $3.0$. Além disso,  $|\\phi_2'(x)|=e^{(x-2)}\\leq 1$ em torno de $0.0$ e $\\geq 1$ em torno de $3.0$. Assim, devemos usar $\\phi_1$ para a maior raiz e $\\phi_2$ para a menor raiz."
   ]
  },
  {
   "cell_type": "code",
   "execution_count": 6,
   "metadata": {},
   "outputs": [
    {
     "name": "stdout",
     "output_type": "stream",
     "text": [
      "Raiz 1:\n",
      "| x=0.14957 | err=0.33141\n",
      "| x=0.15717 | err=0.04836\n",
      "| x=0.15837 | err=0.00757\n",
      "| x=0.15856 | err=0.00120\n",
      "| x=0.15859 | err=0.00019\n",
      "| x=0.15859 | err=0.00003\n",
      "Raiz 2:\n",
      "| x=3.09861 | err=0.03182\n",
      "| x=3.13095 | err=0.01033\n",
      "| x=3.14134 | err=0.00331\n",
      "| x=3.14465 | err=0.00105\n",
      "| x=3.14570 | err=0.00033\n",
      "| x=3.14604 | err=0.00011\n",
      "| x=3.14614 | err=0.00003\n"
     ]
    }
   ],
   "source": [
    "import math\n",
    "\n",
    "phi1 = lambda x: math.log(x)+2\n",
    "phi2 = lambda x: math.exp(x-2)\n",
    "\n",
    "def ponto_fixo(phi, x0, eps):\n",
    "    err = 1.0\n",
    "    while err>eps:\n",
    "        x = phi(x0)   \n",
    "        err = abs(x-x0)/abs(x)\n",
    "        x0 = x\n",
    "        print ( \"| x=%.5f\"%x, \"| err=%.5f\"%err)\n",
    "\n",
    "print (\"Raiz 1:\")\n",
    "ponto_fixo(lambda x: math.exp(x-2), 0.1, 0.0001)\n",
    "\n",
    "print (\"Raiz 2:\")\n",
    "ponto_fixo(lambda x: math.log(x)+2, 3.0, 0.0001)"
   ]
  },
  {
   "cell_type": "markdown",
   "metadata": {},
   "source": [
    "Para o método de Newton, usamos a mesma função de iteração $x_{i+1} = x_1 - \\frac{f(x_i)}{f'(x_i)}$ e variamos a aproximação inicial para obter cada uma das raízes. Para a menor fazemos $x_0 = 0,0$ e para a maior fazemos $x_0=3,0$. "
   ]
  },
  {
   "cell_type": "code",
   "execution_count": 7,
   "metadata": {},
   "outputs": [
    {
     "name": "stdout",
     "output_type": "stream",
     "text": [
      "Newton x0 = 0.01\n",
      "| x=0.03642 | err=0.72539\n",
      "| x=0.08740 | err=0.58336\n",
      "| x=0.13765 | err=0.36503\n",
      "| x=0.15691 | err=0.12278\n",
      "| x=0.15858 | err=0.01052\n",
      "| x=0.15859 | err=0.00007\n",
      "Newton x0 = 3.5\n",
      "| x=3.15387 | err=0.10975\n",
      "| x=3.14620 | err=0.00244\n",
      "| x=3.14619 | err=0.00000\n"
     ]
    }
   ],
   "source": [
    "def newton(x0, eps):\n",
    "    err = 10.0\n",
    "    x_ant = x0\n",
    "    while err>eps:\n",
    "        x = x_ant-f(x_ant)/df(x_ant)    \n",
    "        err = abs(x-x_ant)/x\n",
    "        x_ant = x\n",
    "        print ( \"| x=%.5f\"%x, \"| err=%.5f\"%err)\n",
    "\n",
    "f = lambda x: math.log(x) - x + 2.0\n",
    "df = lambda x: 1.0/x - 1.0\n",
    "eps = 0.0001\n",
    "\n",
    "print (\"Newton x0 = 0.01\")\n",
    "newton(0.01, eps)\n",
    "\n",
    "print (\"Newton x0 = 3.5\")\n",
    "newton(3.5, eps)"
   ]
  },
  {
   "cell_type": "markdown",
   "metadata": {},
   "source": [
    "**Comentário** <br>\n",
    "Para o método do ponto fixo precisamos de duas funções de iteração diferentes. Para Newton, basta variar a aproximação inicial. Newton converge mais rápido.\n",
    "___________________________________________________________________________"
   ]
  },
  {
   "cell_type": "markdown",
   "metadata": {},
   "source": [
    "## Problema 3\n",
    "A tensão elétrica sobre o capacitor de um circuito RLC-paralelo é dado por \n",
    "\n",
    "$$u(t)=u_0e^{-\\alpha t} cos(w_d t), t \\geq 0 $$ \n",
    "\n",
    "onde $u_0$ é a tensão inicial sobre o capacitor, \n",
    "$\\alpha = \\frac{1}{2RC}$ é a constante de amortecimento, $w_0=\\frac{1}{\\sqrt{LC}}$ é a frequência angular de oscilação (natural), \n",
    "$w_d=\\sqrt{w_0^2-\\alpha^2}$ é a frequência angular de oscilação (amortecida).\n",
    "A tensão $u$ é dada em volts e o tempo $t$ em segundos. Considere um circuito em que $R=200 \\Omega$, $L=0,3 H$, $C = 40 \\mu F$ e $u_0 = 50 V$. Substitua os valores na equação e determine os instantes $t_1$, $t_2$ e $t_3$ em que a tensão atinge o valor $10 V$. Use o método das secantes e mais algum outro de sua escolha. Comente os resultados.  \n",
    "\n",
    "### Resolução"
   ]
  },
  {
   "cell_type": "code",
   "execution_count": 8,
   "metadata": {},
   "outputs": [
    {
     "data": {
      "image/png": "[encoded data removed]",
      "text/plain": [
       "<Figure size 432x288 with 1 Axes>"
      ]
     },
     "metadata": {
      "needs_background": "light"
     },
     "output_type": "display_data"
    },
    {
     "name": "stdout",
     "output_type": "stream",
     "text": [
      "Buscando t1:\n",
      "| x=0.0053066982\n",
      "| x=0.0040857456\n",
      "| x=0.0046245866\n",
      "| x=0.0046151446\n",
      "| x=0.0046150592\n",
      "Buscando t2\n",
      "| x=0.0207432848\n",
      "| x=0.0188853104\n",
      "| x=0.0195069191\n",
      "| x=0.0193390109\n",
      "| x=0.0193208301\n",
      "| x=0.0193216099\n",
      "Buscando t3\n",
      "| x=0.0220852171\n",
      "| x=0.0232817083\n",
      "| x=0.0243766968\n",
      "| x=0.0239041166\n",
      "| x=0.0239452287\n",
      "| x=0.0239476194\n"
     ]
    }
   ],
   "source": [
    "#% matplotlib inline\n",
    "import numpy as np\n",
    "import matplotlib.pyplot as plt\n",
    "import math\n",
    "\n",
    "R = 200.0\n",
    "L = 0.3\n",
    "C = 0.000040\n",
    "u0 = 50.0\n",
    "#Ti = 300\n",
    "\n",
    "alpha = 1./(2*R*C)\n",
    "w0 = 1./math.sqrt(L*C)\n",
    "wd = math.sqrt(w0**2 - alpha**2)\n",
    "\n",
    "f = lambda t: 10-u0*np.exp(-alpha*t)*np.cos(wd*t)\n",
    "\n",
    "t = np.arange(0.0, 0.2, 0.001)\n",
    "\n",
    "fig = plt.figure()\n",
    "\n",
    "plt.plot(t, f(t))\n",
    "plt.grid()\n",
    "plt.show()\n",
    "\n",
    "def secantes(x0,x1):\n",
    "    err = 10.0\n",
    "    while err> 0.0001:\n",
    "        x = (x0*f(x1)-x1*f(x0))/(f(x1)-f(x0))\n",
    "        err = abs(x-x1)/abs(x)   # calcula o erro relativo\n",
    "        x0 = x1\n",
    "        x1 = x\n",
    "        print (\"| x=%.10f\"%x)\n",
    "\n",
    "\n",
    "x0 = 0.0\n",
    "x1 = 0.01\n",
    "print (\"Buscando t1:\")\n",
    "secantes(x0,x1)\n",
    "\n",
    "print (\"Buscando t2\")\n",
    "x0 = 0.0\n",
    "x1 = 0.02\n",
    "secantes(x0,x1)\n",
    "\n",
    "print (\"Buscando t3\")\n",
    "x0 = 0.0\n",
    "x1 = 0.03\n",
    "secantes(x0,x1)"
   ]
  },
  {
   "cell_type": "markdown",
   "metadata": {},
   "source": [
    "**Comentário** <br>\n",
    "Como pode ser visto no gráfico, a função possui 3 raízes, que correspondem aos tempos $t_1$, $t_2$ e $t_3$ em que a tensão atinge o valor de 10V. Assim, precisamos executar o método das secantes 3 vezes, com aproximações iniciais próximas a 0.01, 0.02 e 0.03 para obter as raízes.\n",
    "___________________________________________________________________________\n"
   ]
  },
  {
   "cell_type": "markdown",
   "metadata": {},
   "source": [
    "## Problema 4\n",
    "Em Termodinâmica sob determinadas condições a relação entre o calor $Q$ fornecido a um gás e sua variação de temperatura $T_f - T_i$ é dada por \n",
    "$$ Q = nR \\left[ A (T_f-T_i)+ \\frac{B}{2}(T_f^2-T_i^2) + \\frac{C}{3}(T_f^3-T_i^3) \\right].$$\n",
    "Para o gás metano $R=8,314  J/mol.K$ , $A=1,702$, $B=9,081 \\times 10^{-3}K^{-1}$, $C=-2,164 \\times 10^{-6} K^{-2}$. Em uma câmara tem-se $n=2 mol$ de metano a temperatura $T_i = 300 K$ qual será a temperatura final $T_f$ se $20 kJ$ de energia é absorvido pelo gás? \n",
    "\n",
    "### Resolução"
   ]
  },
  {
   "cell_type": "code",
   "execution_count": 9,
   "metadata": {},
   "outputs": [
    {
     "name": "stdout",
     "output_type": "stream",
     "text": [
      "0 | x = 550.0\n",
      "1 | x = 525.0\n",
      "2 | x = 537.5\n",
      "3 | x = 531.25\n",
      "4 | x = 534.375\n",
      "5 | x = 535.9375\n",
      "6 | x = 535.15625\n",
      "7 | x = 535.546875\n"
     ]
    }
   ],
   "source": [
    "R = 8.314\n",
    "A = 1.702\n",
    "B = 0.009081\n",
    "C = -2.164 * (10**(-6))\n",
    "n = 2.0\n",
    "T_i = 300.0\n",
    "Q = 20000.0\n",
    "\n",
    "f = lambda x: n*R*((A*(x - T_i))+((B/2)*(x*x - T_i * T_i)+((C/3)*(x*x*x - T_i*T_i*T_i))))-Q\n",
    "\n",
    "erro = 10.0\n",
    "a = 500\n",
    "b = 600\n",
    "x_m = 1.0\n",
    "x_ant = 1.0\n",
    "i = 0\n",
    "\n",
    "while erro > 0.001:\n",
    "    x_m =((a+b)/2.0)\n",
    "    if (f(a)*f(x_m)<0):\n",
    "        a = a\n",
    "        b = x_m\n",
    "    else:\n",
    "        a = x_m\n",
    "        b = b\n",
    "    print ( i, '| x =', x_m)\n",
    "    erro = abs(x_m - x_ant)/abs(x_m)\n",
    "    x_ant = x_m\n",
    "    i = i+1"
   ]
  },
  {
   "cell_type": "markdown",
   "metadata": {},
   "source": [
    "**Comentário** <br>\n",
    "Usando o método da bisseção, com a=500 e b=600 precisamos de 7 iteraçõespara chegar na solução com erro menor que 0,001."
   ]
  },
  {
   "cell_type": "markdown",
   "metadata": {},
   "source": [
    "## Problema 5\n",
    "\n",
    "A resisitividade $\\rho$ do silício dopado é baseada na carga $q$ de um elétron, na densidade eletrônica $n$ e na mobilidade de elétron $\\mu$. A densidade eletrônica é dada em termos da densidade da dopagem $N$ e da densidade de transporte intríseca $n_i$. A mobilidade do elétron é descrita pela temperatura $T$, pela temperatura de referência $T_0$ e pela mobilidade de referência $\\mu_0$. As equações necessárias para o cálculo da resistividade são\n",
    "$$ \\rho = \\frac{1}{qn\\mu}$$\n",
    "onde \n",
    "\n",
    "$$n = \\frac{1}{2} \\left( N+\\sqrt{N^2+4n^2_i} \\right)$$ e $$\\mu=\\mu_0 \\left(\\frac{T}{T_0} \\right)^{-2,42}$$\n",
    "\n",
    "Determine $N$, dado que $T_0=300 K$, $T = 1000 K$, $\\mu_0=1300 cm^2 (V s)^{-1}$, $q = 1,6\\times10^{-19} C$, \n",
    "$n_ i = 6,21 \\times 10^9 cm^{-3}$ e uma resistividade desejada de $\\rho=6\\times10^6$ $V$ $s$ $cm/C$. Use o Método das Secantes e outro de sua escolha e compare os resultados.  \n",
    "\n",
    "### Resolução"
   ]
  },
  {
   "cell_type": "code",
   "execution_count": 10,
   "metadata": {},
   "outputs": [
    {
     "data": {
      "image/png": "[encoded data removed]",
      "text/plain": [
       "<Figure size 432x288 with 1 Axes>"
      ]
     },
     "metadata": {
      "needs_background": "light"
     },
     "output_type": "display_data"
    },
    {
     "name": "stdout",
     "output_type": "stream",
     "text": [
      "8 | x = 12150000000.0\n",
      "9 | x = 12145000000.0\n",
      "10 | x = 12147500000.0\n",
      "11 | x = 12148750000.0\n",
      "12 | x = 12149375000.0\n",
      "13 | x = 12149687500.0\n",
      "14 | x = 12149843750.0\n",
      "15 | x = 12149921875.0\n",
      "16 | x = 12149882812.5\n",
      "17 | x = 12149863281.25\n",
      "18 | x = 12149873046.875\n",
      "19 | x = 12149877929.6875\n",
      "20 | x = 12149880371.09375\n",
      "21 | x = 12149881591.796875\n",
      "22 | x = 12149880981.445312\n"
     ]
    }
   ],
   "source": [
    "#% matplotlib inline\n",
    "import numpy as np\n",
    "import matplotlib.pyplot as plt\n",
    "\n",
    "T0 = 300\n",
    "T = 1000\n",
    "mu0 = 1300\n",
    "q = 1.6*10**(-19)\n",
    "ni = 6.21*10**9\n",
    "rho=6*10**6\n",
    "mu = mu0*(T/T0)**(-2.42)\n",
    "\n",
    "f = lambda N: (rho*q*mu*0.5*(N + np.sqrt(N**2+4*ni**2)) - 1)\n",
    "\n",
    "N = np.arange(1.21*10**10, 1.22*10**10, 100)\n",
    "\n",
    "fig = plt.figure()\n",
    "plt.plot(N, f(N))\n",
    "plt.grid()\n",
    "plt.show()\n",
    "\n",
    "a = 1.214*10**10\n",
    "b = 1.216*10**10\n",
    "erro = 1000.\n",
    "\n",
    "while erro > 0.0000001:\n",
    "    x_m =((a+b)/2.0)\n",
    "    if (f(a)*f(x_m)<0):\n",
    "        a = a\n",
    "        b = x_m\n",
    "    else:\n",
    "        a = x_m\n",
    "        b = b\n",
    "    print ( i, '| x =', x_m)\n",
    "    erro = abs(x_m - x_ant)/abs(x_m)\n",
    "    x_ant = x_m\n",
    "    i = i+1\n"
   ]
  },
  {
   "cell_type": "code",
   "execution_count": 11,
   "metadata": {},
   "outputs": [
    {
     "name": "stdout",
     "output_type": "stream",
     "text": [
      "| x=12148815088.399784088\n",
      "| x=12149873683.437911987\n",
      "| x=12149881211.855869293\n"
     ]
    }
   ],
   "source": [
    "T0 = 300\n",
    "T = 1000\n",
    "mu0 = 1300\n",
    "q = 1.6*10**(-19)\n",
    "ni = 6.21*10**9\n",
    "rho=6*10**6\n",
    "mu = mu0*(T/T0)**(-2.42)\n",
    "\n",
    "f = lambda N: (rho*q*mu*0.5*(N + np.sqrt(N**2+4*ni**2)) - 1)\n",
    "err = 10.0\n",
    "x0 = 1.2*10**10\n",
    "x1 = 1.3*10**10\n",
    "\n",
    "while err> 0.000001:\n",
    "    x = (x0*f(x1)-x1*f(x0))/(f(x1)-f(x0))\n",
    "    err = abs(x-x1)/abs(x)   # calcula o erro relativo\n",
    "    x0 = x1\n",
    "    x1 = x\n",
    "    print (\"| x=%.9f\"%x)"
   ]
  },
  {
   "cell_type": "markdown",
   "metadata": {},
   "source": [
    "**Comentário** <br>\n",
    "Esse é um problema que possui uma escala atípica, mas como método de Newton chega-se a solução com apenas 3 iterações. "
   ]
  },
  {
   "cell_type": "markdown",
   "metadata": {},
   "source": [
    "## Problema 6\n",
    "De acordo com o *princípio de Arquimedes*, a força de *flutuação* é igual ao peso do fluido deslocado pela parte submersa de um objeto. Para o tronco de cone mostrado abaixo, use o método da bisseção e mais algum método de sua escolha para determinar a altura $h_1$ da parte que está acima da água. Use os seguintes valores para seus cálculos: $r_1 = 0,5 m$, $r_2 = 1 m$, $h = 1 m$, $\\rho_f=densidade do tronco=200 kg/m^3$ e $\\rho_w=densidade da água=1000 kg/m^3$. O volume do trondo de cone é dado por: $$V=\\frac{\\pi h}{3}(r_1^2+r_2^2+r_1 r_2)$$\n",
    "\n",
    "### Resolução\n",
    "A equação a ser resolvida é \n",
    "\n",
    "$$200 \\frac{\\pi1.0}{3} (0.5^2+1.0^2+1.0 \\times 0.5) = 1000\\frac{\\pi (1-h_1)}{3}((0.5+h_1/2)^2+1.0^2+1.0 \\times (0.5+h_1/2))$$"
   ]
  },
  {
   "cell_type": "code",
   "execution_count": 12,
   "metadata": {},
   "outputs": [
    {
     "name": "stdout",
     "output_type": "stream",
     "text": [
      "| h1=0.5500000000\n",
      "| h1=0.7750000000\n",
      "| h1=0.8875000000\n",
      "| h1=0.8312500000\n",
      "| h1=0.8593750000\n",
      "| h1=0.8734375000\n",
      "| h1=0.8804687500\n",
      "| h1=0.8769531250\n",
      "| h1=0.8751953125\n",
      "| h1=0.8760742188\n",
      "| h1=0.8756347656\n"
     ]
    }
   ],
   "source": [
    "import math\n",
    "a = 0.1\n",
    "b = 1.0\n",
    "err = 10\n",
    "x_ant = 0.0\n",
    "\n",
    "f = lambda h: 1.75-5*(1-h)*(1.0+(0.5+h/2.)**2+(0.5+h/2.))\n",
    "\n",
    "while err > 0.001:\n",
    "    x = (a+b)/2.0\n",
    "    if f(a)*f(x)<0:\n",
    "        b = x\n",
    "    else:\n",
    "        a = x\n",
    "    err = abs(x - x_ant)/abs(x)\n",
    "    x_ant = x\n",
    "    print (\"| h1=%.10f\"%x)"
   ]
  },
  {
   "cell_type": "code",
   "execution_count": 13,
   "metadata": {},
   "outputs": [
    {
     "name": "stdout",
     "output_type": "stream",
     "text": [
      "| h1=0.8486486486\n",
      "| h1=0.8740418082\n",
      "| h1=0.8758028171\n",
      "| h1=0.8757774319\n"
     ]
    }
   ],
   "source": [
    "import math\n",
    "\n",
    "err = 1.0\n",
    "x0 = 0.5\n",
    "x1 = 1.0\n",
    "\n",
    "f = lambda h: 1.75-5*(1-h)*(1.0+(0.5+h/2.)**2+(0.5+h/2.))\n",
    "\n",
    "while err>0.001:\n",
    "    x = (x0*f(x1)-x1*f(x0))/(f(x1)-f(x0))\n",
    "    err = abs (x-x1)/abs(x)\n",
    "    \n",
    "    x0 = x1\n",
    "    x1 = x \n",
    "\n",
    "    print (\"| h1=%.10f\"%x)  "
   ]
  },
  {
   "cell_type": "markdown",
   "metadata": {},
   "source": [
    "## Problema 7: Lei dos gases ideais e não ideais (engenharia química)\n",
    "\n",
    "A lei dos gases ideais é dada por \n",
    "\n",
    "$$ pV = nRT $$\n",
    "\n",
    "Essa equação é mais apropriada para alguns gases do que outros. Além disso, é acurada apenas para um intervalo limitado de pressão e temperatura. \n",
    "\n",
    "Uma equação de estado alternativa, conhecida como _equação de Van der Waals_ é dada por \n",
    "\n",
    "$$ \\left( p + \\frac{a}{v^2} \\right) (v-b) = RT$$\n",
    "\n",
    "onde $v = V/n $ é o volume molar, $a$ e $b$ são constantes empíricas que dependem do gás.\n",
    "\n",
    "Considere o problema de se fazer uma estimattiva acurada do volume $v$ do dióxido de carbono e do oxigênio, para diversas combinações de temperatura e pressão. Também deseja-se examidar o quão precisamente esses gases obedecem à lei dos gases ideais.\n",
    "\n",
    "São fornecidos os seguntes dados:\n",
    "\n",
    "$R = 0,082054 L \\,atm/(mol \\,K)$ \n",
    "\n",
    "Dióxido de carbono: $a=3,592$ e $b = 0,04267$\n",
    "\n",
    "Oxigênio: $ a= 1,360$ e $b = 0,03183$\n",
    "\n",
    "As pressões de interesse são 1, 10 e 100 atm , e  as temperaturas de 300, 500 e 700.\n",
    " \n",
    "### Solução\n",
    "\n",
    "Considerando a lei dos gases ideais tem-se\n",
    "\n"
   ]
  },
  {
   "cell_type": "code",
   "execution_count": 14,
   "metadata": {},
   "outputs": [
    {
     "name": "stdout",
     "output_type": "stream",
     "text": [
      "Para T= 300 e p= 1 o volume é v= 24.6162 L/mol\n",
      "Para T= 300 e p= 10 o volume é v= 2.46162 L/mol\n",
      "Para T= 300 e p= 100 o volume é v= 0.246162 L/mol\n",
      "Para T= 500 e p= 1 o volume é v= 41.027 L/mol\n",
      "Para T= 500 e p= 10 o volume é v= 4.1027000000000005 L/mol\n",
      "Para T= 500 e p= 100 o volume é v= 0.41027 L/mol\n",
      "Para T= 700 e p= 1 o volume é v= 57.4378 L/mol\n",
      "Para T= 700 e p= 10 o volume é v= 5.74378 L/mol\n",
      "Para T= 700 e p= 100 o volume é v= 0.574378 L/mol\n"
     ]
    }
   ],
   "source": [
    "press = [1, 10,100]\n",
    "temp = [300, 500,700] \n",
    "\n",
    "\n",
    "def calcula_vol(p,T):\n",
    "    v = 0.082054*float(T)/float(p)\n",
    "    print (\"Para T=\",T, \"e p=\",p, \"o volume é v=\",v,\"L/mol\")\n",
    "\n",
    "for T in temp:\n",
    "    for p in press:\n",
    "        calcula_vol(p, T)\n",
    "    "
   ]
  },
  {
   "cell_type": "markdown",
   "metadata": {},
   "source": [
    "Considerando a _equação de Van der Waals_, tem-se, pelo método da bissecao"
   ]
  },
  {
   "cell_type": "code",
   "execution_count": 15,
   "metadata": {},
   "outputs": [
    {
     "name": "stdout",
     "output_type": "stream",
     "text": [
      "24.5\n",
      "24.75\n",
      "24.625\n",
      "24.5625\n",
      "24.53125\n",
      "24.515625\n",
      "24.5078125\n",
      "24.51171875\n",
      "24.513671875\n",
      "24.5126953125\n",
      "24.51220703125\n"
     ]
    }
   ],
   "source": [
    "# bisseção\n",
    "import math\n",
    "\n",
    "p = 1\n",
    "T = 300\n",
    "\n",
    "f = lambda v: (p + 3.592/v**2)*(v-0.04267)-0.082054*T     #dioxido\n",
    "#f = lambda v: (p + 1.360/v**2)*(v-0.03183)-0.082054*T    #oxigenio\n",
    "\n",
    "a = 24.\n",
    "b = 25.\n",
    "\n",
    "v_ant = 0.0\n",
    "err = 10.\n",
    "\n",
    "while err > 0.0001:\n",
    "    v = (a+b)/2.0\n",
    "    if f(v)*f(a) < 0:\n",
    "        b = v\n",
    "    else:\n",
    "        a = v\n",
    "        err = abs(v - v_ant)/abs(v)\n",
    "        v_ant = v\n",
    "    print ( v )\n"
   ]
  },
  {
   "cell_type": "markdown",
   "metadata": {},
   "source": [
    "Pelo método de Newton-Raphson"
   ]
  },
  {
   "cell_type": "code",
   "execution_count": 16,
   "metadata": {},
   "outputs": [
    {
     "name": "stdout",
     "output_type": "stream",
     "text": [
      "1 | x=24.517487897 | err=0.223616389\n",
      "2 | x=24.512588134 | err=0.000199888\n",
      "3 | x=24.512588128 | err=0.000000000\n"
     ]
    }
   ],
   "source": [
    "# -*- coding: utf-8 -*-\n",
    "import math\n",
    "\n",
    "p = 1\n",
    "T = 300\n",
    "\n",
    "a = 3.592\n",
    "b = 0.04267\n",
    "\n",
    "#a = 1.360\n",
    "#b = 0.03183\n",
    "\n",
    "f = lambda v: (p + a/v**2)*(v-b)-0.082054*T\n",
    "flinha = lambda v: p - a/v**2 + 2*a*b/v**3\n",
    "\n",
    "x = 30.0\n",
    "x_ant = x\n",
    "eps = 0.0001\n",
    "err = 10.0\n",
    "i = 0\n",
    "\n",
    "while err>eps:\n",
    "    x = x - f(x)/flinha(x)\n",
    "    err = abs(x-x_ant)/abs(x)\n",
    "    x_ant = x\n",
    "    i=i+1\n",
    "    print (i, \"| x=%.9f\"%x, \"| err=%.9f\"%err)\n",
    "    \n",
    "    \n"
   ]
  },
  {
   "cell_type": "markdown",
   "metadata": {},
   "source": [
    "Método da bissecao para todos os casos"
   ]
  },
  {
   "cell_type": "code",
   "execution_count": 17,
   "metadata": {},
   "outputs": [
    {
     "name": "stdout",
     "output_type": "stream",
     "text": [
      "Dióxido de Carbono\n",
      "Para T= 300 e p= 1 o volume é v= 24.51259252548218 L/mol\n",
      "Para T= 300 e p= 10 o volume é v= 2.354504963159561 L/mol\n",
      "Para T= 300 e p= 100 o volume é v= 0.07951069049537182 L/mol\n",
      "Para T= 500 e p= 1 o volume é v= 40.982235984802244 L/mol\n",
      "Para T= 500 e p= 10 o volume é v= 4.057775762081146 L/mol\n",
      "Para T= 500 e p= 100 o volume é v= 0.36630179435014726 L/mol\n",
      "Para T= 700 e p= 1 o volume é v= 57.418122749328596 L/mol\n",
      "Para T= 700 e p= 10 o volume é v= 5.724178814888001 L/mol\n",
      "Para T= 700 e p= 100 o volume é v= 0.5575539723038672 L/mol\n",
      "Oxigênio\n",
      "Para T= 300 e p= 1 o volume é v= 24.59269315719605 L/mol\n",
      "Para T= 300 e p= 10 o volume é v= 2.4384079909324647 L/mol\n",
      "Para T= 300 e p= 100 o volume é v= 0.2263596136868 L/mol\n",
      "Para T= 500 e p= 1 o volume é v= 41.02571918487549 L/mol\n",
      "Para T= 500 e p= 10 o volume é v= 4.1016403937339785 L/mol\n",
      "Para T= 500 e p= 100 o volume é v= 0.4116146740317345 L/mol\n",
      "Para T= 700 e p= 1 o volume é v= 57.446348686218265 L/mol\n",
      "Para T= 700 e p= 10 o volume é v= 5.752118678092956 L/mol\n",
      "Para T= 700 e p= 100 o volume é v= 0.5841945841908454 L/mol\n"
     ]
    }
   ],
   "source": [
    "# bisseção\n",
    "import math\n",
    "v=0.0\n",
    "x_ant = 0.0\n",
    "\n",
    "d = lambda v, p, T: (p + 3.592/v**2)*(v-0.04267)-0.082054*T\n",
    "o = lambda v, p, T: (p + 1.360/v**2)*(v-0.03183)-0.082054*T\n",
    "\n",
    "def bissecao(eps, a, b, p, T, f):\n",
    "    v_ant = 0.0\n",
    "    err = 10.\n",
    "    while err > eps:\n",
    "        v = (a+b)/2.0\n",
    "        if f(v,p,T)*f(a,p,T) < 0:\n",
    "            b = v\n",
    "        else:\n",
    "            a = v\n",
    "\n",
    "        err = abs(v - v_ant)/abs(v)\n",
    "        v_ant = v\n",
    "    return v\n",
    "\n",
    "\n",
    "print (\"Dióxido de Carbono\")\n",
    "for T in temp:\n",
    "    for p in press:\n",
    "        v = bissecao(0.00001, 0.01, 100, p, T, d)\n",
    "        print (\"Para T=\",T, \"e p=\",p, \"o volume é v=\",v,\"L/mol\") \n",
    "\n",
    "print (\"Oxigênio\")        \n",
    "for T in temp:\n",
    "    for p in press:\n",
    "        v = bissecao(0.00001, 0.01, 100, p, T, o)\n",
    "        print (\"Para T=\",T, \"e p=\",p, \"o volume é v=\",v,\"L/mol\") "
   ]
  },
  {
   "cell_type": "markdown",
   "metadata": {},
   "source": [
    "<img src=\"https://github.com/tiagoburiol/NUMETHODS/raw/master/3_ZEROS_DE_FUNCOES/images/tab01.PNG\" width=\"600\">"
   ]
  },
  {
   "cell_type": "code",
   "execution_count": null,
   "metadata": {
    "collapsed": true
   },
   "outputs": [],
   "source": []
  }
 ],
 "metadata": {
  "kernelspec": {
   "display_name": "Python 3",
   "language": "python",
   "name": "python3"
  },
  "language_info": {
   "codemirror_mode": {
    "name": "ipython",
    "version": 3
   },
   "file_extension": ".py",
   "mimetype": "text/x-python",
   "name": "python",
   "nbconvert_exporter": "python",
   "pygments_lexer": "ipython3",
   "version": "3.8.5"
  }
 },
 "nbformat": 4,
 "nbformat_minor": 2
}
