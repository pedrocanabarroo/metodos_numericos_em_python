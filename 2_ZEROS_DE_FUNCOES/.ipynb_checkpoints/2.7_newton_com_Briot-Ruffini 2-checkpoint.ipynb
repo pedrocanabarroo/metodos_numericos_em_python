{
 "cells": [
  {
   "cell_type": "markdown",
   "metadata": {
    "collapsed": true
   },
   "source": [
    "### Método de Briot-Ruffini para divisão de polinômios\n",
    "\n",
    "Dados os polinômios\n",
    "$$\n",
    "P(x)=a_0 x^n+a_1 x^{n-1}+\\cdots+a_n\n",
    "$$\n",
    "e\n",
    "$$\n",
    "Q(x)=b_0 x^{n-1}+b_1 x^{n-2}+\\cdots+b_{n-1}\n",
    "$$\n",
    "\n",
    "tal que $P(x)=(x-\\alpha) Q(x)+P(\\alpha)$, ou seja, $Q(x)$ é o polinômio resultante da divisão de $P(x)$ por $(x-\\alpha)$ $P(\\alpha)$ é o resto. \n",
    "\n",
    "Podemos determinar $Q(x)$ e $P(\\alpha)$ usando o método de Briot-Ruffini escrevendo\n",
    "\n",
    "$$\n",
    "\\begin{array}{r}\n",
    "{\\left[a_0 x^n+a_1 x^{n-1}+\\cdots+a_n\\right]=(x-\\alpha)\\left[b_0 x^{n-1}+b_1 x^{n-2}+\\cdots+b_{n-1}\\right]+b_n} \\\\\n",
    "=b_0 x^n+\\left(b_1-\\alpha b_0\\right) x^{n-1}+\\left(b_2-\\alpha b_1\\right) x^{n-2}+ \\\\\n",
    "+\\cdots+\\left(b_{n-1}-\\alpha b_{n-2}\\right) x+\\left(b_n-\\alpha b_{n-1}\\right)\n",
    "\\end{array}\n",
    "$$\n",
    "\n",
    "que leva a \n",
    "\n",
    "$$\n",
    "\\begin{array}{cll}\n",
    "a_0=b_0 & \\rightarrow & b_0=a_0 \\\\\n",
    "a_1=b_1-\\alpha b_0 & \\rightarrow & b_1=a_1+\\alpha b_0 \\\\\n",
    "\\vdots & & \\\\\n",
    "a_{n-1}=b_{n-1}-\\alpha b_{n-2} & \\rightarrow & b_{n-1}=a_{n-1}+\\alpha b_{n-2} \\\\\n",
    "a_n=b_n-\\alpha b_{n-1} & \\rightarrow & b_n=a_n+\\alpha b_{n-1}\n",
    "\\end{array}\n",
    "$$"
   ]
  },
  {
   "cell_type": "markdown",
   "metadata": {},
   "source": [
    "Vejamos o seguinte exemplo:\n",
    "\n",
    "**Exemplo:** (Arenales e Darezzo, 2016) Seja $P(x)=6 x^3+x-1$, calcule $P(3)$."
   ]
  },
  {
   "cell_type": "code",
   "execution_count": 65,
   "metadata": {},
   "outputs": [],
   "source": [
    "import numpy as np\n",
    "import matplotlib.pyplot as plt"
   ]
  },
  {
   "cell_type": "code",
   "execution_count": 66,
   "metadata": {},
   "outputs": [],
   "source": [
    "def BriotRuffini(a,alpha):\n",
    "    q = a.copy()\n",
    "    for i in range(1,len(a)):\n",
    "         q[i] = alpha*q[i-1] + a[i]\n",
    "    return q"
   ]
  },
  {
   "cell_type": "code",
   "execution_count": 67,
   "metadata": {},
   "outputs": [
    {
     "name": "stdout",
     "output_type": "stream",
     "text": [
      "Coeficientes de Q(x): [6, 18, 55]\n",
      "Resto: P(3)= 164\n"
     ]
    }
   ],
   "source": [
    "an = [6,0,1,-1] \n",
    "bn = BriotRuffini(coefs , 3)\n",
    "\n",
    "print ('Coeficientes de Q(x):', bn[:-1] )\n",
    "print ('Resto: P(3)=', bn[-1])"
   ]
  },
  {
   "cell_type": "markdown",
   "metadata": {},
   "source": [
    "Podemos também obter a derivada $P'(\\alpha)$ pelo método de Briot-Ruffini, pois como\n",
    "\n",
    "$$P(x)=(x-\\alpha) Q(x)+P(\\alpha)$$\n",
    "\n",
    "temos que \n",
    "\n",
    "$$P'(x)=(x-\\alpha) Q'(x) + Q(x)$$\n",
    "\n",
    "Assim, para $x=\\alpha$, tem-se que $P'(\\alpha)=Q(\\alpha)$. Ou seja, para calcular $P'(\\alpha)$ precisamos obter o resto da divisão de $Q(x)$ por $(x-\\aplha)$, o que pode ser feito usando Briot-Ruffini uma segunda vez."
   ]
  },
  {
   "cell_type": "markdown",
   "metadata": {},
   "source": [
    "**Exemplo:** (Arenales e Darezzo, 2016) Seja $P(x)=6 x^3+x-1$, calcule $P'(3)$."
   ]
  },
  {
   "cell_type": "code",
   "execution_count": 68,
   "metadata": {},
   "outputs": [
    {
     "name": "stdout",
     "output_type": "stream",
     "text": [
      "P'(3)= 163\n"
     ]
    }
   ],
   "source": [
    "cn = BriotRuffini(bn[:-1] , 3)\n",
    "print (\"P'(3)=\", cn[-1])"
   ]
  },
  {
   "cell_type": "markdown",
   "metadata": {},
   "source": [
    "### Método de Newton com Briot-Ruffini\n",
    "\n",
    "Vamos agora obter zeros de polinômios pelo método iterativo de Newton \n",
    "\n",
    "$$\n",
    "x_{i+1}=x_i-\\frac{P\\left(x_i\\right)}{P^{\\prime}\\left(x_i\\right)}\n",
    "$$\n",
    "\n",
    "usando Briot-Ruffini para calcular $P(x_i)$ e $P'(x_i)$ a cada iteração.\n",
    "\n",
    "**Exemplo:**  (Arenales e Darezzo, 2016) Determine uma raiz da equação $P(x)=x^3+2 x^2-x-2=0$ usando o método de Newton mais Briot-Ruffini, com $\\varepsilon=0.001$"
   ]
  },
  {
   "cell_type": "code",
   "execution_count": 69,
   "metadata": {},
   "outputs": [],
   "source": [
    "a = np.array([1.,2.,-1.,-2.])\n",
    "x = 2.\n",
    "x_ant = x\n",
    "\n",
    "def IteraNewton(a,x):\n",
    "    q = BriotRuffini(a,x)\n",
    "    m = BriotRuffini(q[0:-1],x)\n",
    "    return (x - q[-1]/m[-1])"
   ]
  },
  {
   "cell_type": "code",
   "execution_count": 70,
   "metadata": {},
   "outputs": [
    {
     "data": {
      "text/plain": [
       "1.368421052631579"
      ]
     },
     "execution_count": 70,
     "metadata": {},
     "output_type": "execute_result"
    }
   ],
   "source": [
    "# uma iteração\n",
    "IteraNewton(a,x)"
   ]
  },
  {
   "cell_type": "code",
   "execution_count": 71,
   "metadata": {},
   "outputs": [
    {
     "name": "stdout",
     "output_type": "stream",
     "text": [
      "x= 1.368421052631579 Erro: 0.4615384615384615\n",
      "x= 1.077163124665906 Erro: 0.27039351913946175\n",
      "x= 1.0045201633201402 Erro: 0.07231608084965287\n",
      "x= 1.0000169296346983 Erro: 0.004503157448631215\n",
      "x= 1.0000000002388385 Erro: 1.6929395855800372e-05\n"
     ]
    }
   ],
   "source": [
    "# iterando até atingir a precisão\n",
    "err = 1.\n",
    "x = 2.\n",
    "while err>0.001:\n",
    "    x = IteraNewton(a,x)\n",
    "    err = abs(x-x_ant)/abs(x)\n",
    "    x_ant = x\n",
    "    print(\"x=\",x, 'Erro:', err)"
   ]
  },
  {
   "cell_type": "markdown",
   "metadata": {},
   "source": [
    "\n",
    "**Exemplo:**  (Arenales e Darezzo, 2016) Encontre as raízes de \n",
    "$P(x)=x^3+8 x^2-4 x-2=0$.\n",
    "\n"
   ]
  },
  {
   "cell_type": "code",
   "execution_count": 77,
   "metadata": {},
   "outputs": [
    {
     "data": {
      "image/png": "[encoded data removed]",
      "text/plain": [
       "<Figure size 432x288 with 1 Axes>"
      ]
     },
     "metadata": {
      "needs_background": "light"
     },
     "output_type": "display_data"
    }
   ],
   "source": [
    "a = [1,8,-4,-2]\n",
    "x = np.linspace(-9,2)\n",
    "plt.plot(x, np.polyval(a, x))\n",
    "plt.plot(x, np.zeros(len(x)), 'k--')\n",
    "plt.grid()"
   ]
  },
  {
   "cell_type": "code",
   "execution_count": 78,
   "metadata": {},
   "outputs": [
    {
     "name": "stdout",
     "output_type": "stream",
     "text": [
      "x= 0.8 Erro: 0.2500000002985481\n",
      "x= 0.7597014925373134 Erro: 0.053045186640471545\n",
      "x= 0.7579998221716971 Erro: 0.002244948238564167\n",
      "x= 0.7579968013604806 Erro: 3.985255889050246e-06\n"
     ]
    }
   ],
   "source": [
    "# iterando até atingir a precisão\n",
    "err = 1.\n",
    "x = 1.\n",
    "while err>0.001:\n",
    "    x = IteraNewton(a,x)\n",
    "    err = abs(x-x_ant)/abs(x)\n",
    "    x_ant = x\n",
    "    print(\"x=\",x, 'Erro:', err)"
   ]
  },
  {
   "cell_type": "code",
   "execution_count": 79,
   "metadata": {},
   "outputs": [
    {
     "name": "stdout",
     "output_type": "stream",
     "text": [
      "x= -0.47058823529411764 Erro: 2.6107432028910216\n",
      "x= -0.3279505432746347 Erro: 0.43493659316805666\n",
      "x= -0.31260601722010856 Erro: 0.04908583075584857\n",
      "x= -0.3124159051406068 Erro: 0.000608522409946434\n"
     ]
    }
   ],
   "source": [
    "# iterando até atingir a precisão\n",
    "err = 1.\n",
    "x = -1.\n",
    "while err>0.001:\n",
    "    x = IteraNewton(a,x)\n",
    "    err = abs(x-x_ant)/abs(x)\n",
    "    x_ant = x\n",
    "    print(\"x=\",x, 'Erro:', err)"
   ]
  },
  {
   "cell_type": "code",
   "execution_count": 80,
   "metadata": {},
   "outputs": [
    {
     "name": "stdout",
     "output_type": "stream",
     "text": [
      "x= -9.419354838709678 Erro: 0.9668325580158944\n",
      "x= -8.609635740090033 Erro: 0.09404800888953495\n",
      "x= -8.451477874162121 Erro: 0.0187136342640655\n",
      "x= -8.4455889629375 Erro: 0.0006972765606359088\n"
     ]
    }
   ],
   "source": [
    "# iterando até atingir a precisão\n",
    "err = 1.\n",
    "x = -7.\n",
    "while err>0.001:\n",
    "    x = IteraNewton(a,x)\n",
    "    err = abs(x-x_ant)/abs(x)\n",
    "    x_ant = x\n",
    "    print(\"x=\",x, 'Erro:', err)"
   ]
  },
  {
   "cell_type": "code",
   "execution_count": null,
   "metadata": {},
   "outputs": [],
   "source": []
  }
 ],
 "metadata": {
  "kernelspec": {
   "display_name": "Python 3",
   "language": "python",
   "name": "python3"
  },
  "language_info": {
   "codemirror_mode": {
    "name": "ipython",
    "version": 3
   },
   "file_extension": ".py",
   "mimetype": "text/x-python",
   "name": "python",
   "nbconvert_exporter": "python",
   "pygments_lexer": "ipython3",
   "version": "3.8.5"
  }
 },
 "nbformat": 4,
 "nbformat_minor": 1
}
