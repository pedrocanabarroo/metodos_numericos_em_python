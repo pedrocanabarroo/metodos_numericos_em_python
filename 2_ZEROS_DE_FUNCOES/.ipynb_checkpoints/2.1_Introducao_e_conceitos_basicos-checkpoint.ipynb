{
 "cells": [
  {
   "cell_type": "markdown",
   "metadata": {},
   "source": [
    "# 3.1 Introdução e conceitos básicos\n",
    "\n",
    "Em ciências e engenharias frequentemente a solução de um problema real é obtida resolvendo uma equação em uma variável real, a qual sempre pode ser escrita na forma \n",
    "$$f(x)=0$$\n",
    "\n",
    "Dada uma função $f:R \\rightarrow R$ dizemos que $\\overline{x} \\in R$, tal que $f(\\overline{x})=0$ é um _zero_ (ou _raiz_) da função $f$. Graficamente, uma raíz é o ponto onde a função $f(x)$ cruza ou toca o eixo $x$. Uma equação $f(x)=0$ pode não ter solução (raiz real), ter uma única raiz ou várias.\n",
    "\n",
    "![raizes.jpg](https://github.com/tiagoburiol/NUMETHODS/raw/master/3_ZEROS_DE_FUNCOES/images/raizes.jpg)\n",
    "\n",
    "Quando a equação é simples, o valor de $x$ pode ser determinado analiticamente. Esse é o caso quando se escreve $x$ explicitamente após a aplicação de operações matemáticas, ou quando uma fórmula conhecida (como a fórmula de Bháskara para resolução de equações quadráticas) pode ser usada para determinar o valor exato de $x$. Em muitas situações, no entanto, é impossível determinar analiticamente a raiz de uma equação.\n",
    "\n",
    "\n",
    "## Exemplo\n",
    "Em termodinâmica, sob determinadas condições, a relação entre o calor $Q$ fornecido a um gás e sua variação de temperatura $T_f - T_i$ é dada por \n",
    "\n",
    "$$ Q = nR \\left[ A (T_f-T_i)+ \\frac{B}{2}(T_f^2-T_i^2) + \\frac{C}{3}(T_f^3-T_i^3) \\right].$$\n",
    "\n",
    "Para o gás metano tem-se $R=8,314 J/mol.K$, $A=1,702$, $B=9,081 \\times 10^{-3}K^{-1}$, $C=-2,164 \\times 10^{-6} K^{-2}$. \n",
    "\n",
    "Considere o problema de calcular a temperatura final $T_f$ se $20 kJ$ de energia que é absorvido pelo gás, supondo estar contido em uma uma câmara com $n=2 mol$ de metano a temperatura $T_i = 300 K$. \n",
    "\n",
    "## Exemplo\n",
    "A área do segmento $A_S$ de um círculo de raio $r$ (ver figura abaixo) é dada por $A_S=\\frac{1}{2}r^2(\\theta-sen\\theta).$\n",
    "\n",
    "![fig1.png](https://github.com/tiagoburiol/NUMETHODS/raw/master/3_ZEROS_DE_FUNCOES/images/fig1.png)\n",
    "\n",
    "Para se determinar o ângulo $\\theta$ se $A_S$ e $r$ são conhecidos, a equação deve ser resolvida para $\\theta$. Obviamente, não é possível escrever $\\theta$ explicitamente em termos de $A_S$ e $r$, portanto, a equação não pode ser resolvida analiticamente."
   ]
  },
  {
   "cell_type": "markdown",
   "metadata": {},
   "source": [
    "### Encontrando raízes de funções com Scipy\n",
    "\n",
    "#### Exemplo 1\n",
    "Encontrando a raiz de $A_S=\\frac{1}{2}r^2(\\theta-sen\\theta)$ com $r=1$ e $A_s = 3.5$."
   ]
  },
  {
   "cell_type": "code",
   "execution_count": 7,
   "metadata": {},
   "outputs": [
    {
     "name": "stdout",
     "output_type": "stream",
     "text": [
      "[ 7.99067236]\n"
     ]
    }
   ],
   "source": [
    "from scipy.optimize import fsolve\n",
    "import math\n",
    "#scipy.optimize.root_scalar(f, args=(), method=None, bracket=None, \n",
    "#                           fprime=None, fprime2=None, x0=None, x1=None, \n",
    "#                           xtol=None, rtol=None, maxiter=None, options=None)[source]\n",
    "\n",
    "sol = fsolve(lambda x: 0.5*(x-math.sin(x))-3.5, 1.0)\n",
    "\n",
    "print (sol)\n",
    "\n"
   ]
  },
  {
   "cell_type": "code",
   "execution_count": null,
   "metadata": {},
   "outputs": [],
   "source": []
  }
 ],
 "metadata": {
  "kernelspec": {
   "display_name": "Python 3 (ipykernel)",
   "language": "python",
   "name": "python3"
  },
  "language_info": {
   "codemirror_mode": {
    "name": "ipython",
    "version": 3
   },
   "file_extension": ".py",
   "mimetype": "text/x-python",
   "name": "python",
   "nbconvert_exporter": "python",
   "pygments_lexer": "ipython3",
   "version": "3.12.4"
  }
 },
 "nbformat": 4,
 "nbformat_minor": 4
}
