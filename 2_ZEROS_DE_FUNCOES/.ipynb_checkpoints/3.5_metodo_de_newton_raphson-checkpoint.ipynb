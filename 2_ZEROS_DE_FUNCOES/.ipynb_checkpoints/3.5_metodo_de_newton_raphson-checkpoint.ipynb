{
 "cells": [
  {
   "cell_type": "markdown",
   "metadata": {},
   "source": [
    "# 3.5 Método de Newton-Raphson\n",
    "\n",
    "Muitos problemas em ciências e engenharia envolvem a resolução de uma equação que pode ser colocada na forma \n",
    "\n",
    "$$f(x)=0$$\n",
    "\n",
    "Em muitos casos, a solução exata $\\overline{x}$ só pode ser encontrada por processos numéricos. Uma solução numérica é geralmente obtida por meio de um processo iterativo que gera uma sequência de soluções aproximadas, que converge para a solução exata, a partir de uma aproximação inicial $x_0$. \n",
    "\n",
    "O **Método de Newton** para zeros de funções reais de uma variável basea-se no Método do Ponto Fixo e consiste em encontrar uma função de interação $\\phi(x)$ tal que $|\\phi'(x)|<1$. Dessa forma, escolhendo-se uma \"boa\" aproximação inicial $x_0$ garantimos que a sequência de soluções aproximadas irá convergir para a solução exata $\\overline{x}$.\n",
    "\n",
    "Para isso, estabelecemos que $|\\phi'(x)|=0$ e escrevemos \n",
    "\n",
    "$$\\phi(x) = x+\\theta(x)f(x)$$ \n",
    "\n",
    "onde $\\theta(x)$ é uma função de $x$ tal que $\\theta(\\overline{x})\\neq 0$. Então, para o ponto fixo $x=\\overline{x}$ tem-se $\\phi(\\overline{x}) = \\overline{x}$. Assim, derivando a função $\\phi(x)$ e avaliando no ponto fixo obtemos:\n",
    "\n",
    "$$\\phi(x) = x+\\theta(x)f(x)$$\n",
    "\n",
    "$$\\phi'(x) = 1+\\theta'(x)f(x) + \\theta(x)f'(x)$$\n",
    "\n",
    "avaliando em $\\overline{x}$\n",
    "\n",
    "$$\\phi'(\\overline{x}) = 1+\\theta'(\\overline{x})f(\\overline{x}) + \\theta(\\overline{x})f'(\\overline{x})$$\n",
    "\n",
    "\n",
    "$$ 0 = 1 + \\theta(\\overline{x})f'(\\overline{x}) $$\n",
    "\n",
    "ou \n",
    "\n",
    "$$  \\theta(\\overline{x}) = -\\frac{1}{f'(\\overline{x})} $$\n",
    "\n",
    "Assim, escolhento $\\theta(x) = -\\frac{1}{f'(x)}$ e substituindo em $\\Phi(x) = x+\\theta(x)f(x)$ obtemos\n",
    "\n",
    "$$ \\phi(x) = x - \\frac{f(x)}{f'(x)}$$\n",
    "\n",
    "que fornece o processo iterativo do método de Newton:\n",
    "\n",
    "$$ \\phi(x_{i+1}) = x_i - \\frac{f(x_i)}{f'(x_i)}$$\n",
    "\n",
    "A cada iteração, o ponto $x_{i+1}$ corresponde à intersecção da reta tangente à função $f(x)$ no ponto \n",
    "$(x_i, f(x_i))$, assim, o método de Newton pode ser interpretado geometricamente como mostra a figura abaixo.\n",
    "\n",
    "<img src=\"https://github.com/tiagoburiol/NUMETHODS/raw/master/3_ZEROS_DE_FUNCOES/images/newton_raphson.PNG\" width=\"350\">\n",
    "\n",
    "Observe que \n",
    "$$tg(\\alpha) = f'(x_i) = \\frac{f(x_i)}{(x_i-x_{i+1})}$$\n",
    ", ou seja, \n",
    "$$ x_{i+1} = x_i - \\frac{f(x_i)}{f'(x_i)}$$ \n",
    "que corresponde exatamente ao processo iterativo do Método de Newton. Observe que para o método funcionar é preciso que $f'(x_i) \\neq 0$.\n"
   ]
  },
  {
   "cell_type": "markdown",
   "metadata": {},
   "source": [
    "### Exemplo\n",
    "Encontre a raiz de $f(x)=ln(x)+x-4$"
   ]
  },
  {
   "cell_type": "code",
   "execution_count": 1,
   "metadata": {},
   "outputs": [
    {
     "name": "stdout",
     "output_type": "stream",
     "text": [
      "| x=1.547228340 | err=18.389510403\n",
      "| x=2.771966031 | err=0.441829978\n",
      "| x=2.925173019 | err=0.052375360\n",
      "| x=2.926271010 | err=0.000375218\n",
      "| x=2.926271062 | err=0.000000018\n"
     ]
    }
   ],
   "source": [
    "import math\n",
    "\n",
    "f = lambda x: math.log(x)+x-4.0\n",
    "flinha = lambda x: 1./x +1  \n",
    "x = 30.0\n",
    "x_ant = x\n",
    "err = 10.0\n",
    "\n",
    "while err>0.0001:\n",
    "    x = x - f(x)/flinha(x)\n",
    "    err = abs(x-x_ant)/abs(x)\n",
    "    x_ant = x\n",
    "    print (\"| x=%.9f\"%x, \"| err=%.9f\"%err)"
   ]
  },
  {
   "cell_type": "markdown",
   "metadata": {},
   "source": [
    "Apenas fazendo o gráfico para conferir"
   ]
  },
  {
   "cell_type": "code",
   "execution_count": 6,
   "metadata": {},
   "outputs": [
    {
     "data": {
      "image/png": "[encoded data removed]",
      "text/plain": [
       "<matplotlib.figure.Figure at 0x15e695ec5c0>"
      ]
     },
     "metadata": {},
     "output_type": "display_data"
    }
   ],
   "source": [
    "import numpy as np\n",
    "import matplotlib.pyplot as plt\n",
    "f = lambda x: np.log(x)+x-4.0\n",
    "X = np.linspace(1, 5, 31)\n",
    "plt.plot(X, f(X), \"-\") \n",
    "plt.grid()\n",
    "plt.show()"
   ]
  },
  {
   "cell_type": "markdown",
   "metadata": {},
   "source": [
    "Ou ainda, fazendo os gráficos de $f_1(x)= lnx$ e $f_2(x)=-x+4$ "
   ]
  },
  {
   "cell_type": "code",
   "execution_count": 7,
   "metadata": {},
   "outputs": [
    {
     "data": {
      "image/png": "[encoded data removed]",
      "text/plain": [
       "<matplotlib.figure.Figure at 0x15e69682048>"
      ]
     },
     "metadata": {},
     "output_type": "display_data"
    }
   ],
   "source": [
    "import numpy as np\n",
    "import matplotlib.pyplot as plt\n",
    "f1 = lambda x: np.log(x)\n",
    "f2 = lambda x: -x+4.0\n",
    "X = np.linspace(1, 5, 31)\n",
    "plt.plot(X, f1(X), \"b-\", X, f2(X), \"r-\") \n",
    "plt.grid()\n",
    "plt.show()"
   ]
  },
  {
   "cell_type": "markdown",
   "metadata": {},
   "source": [
    "### Exemplo"
   ]
  },
  {
   "cell_type": "code",
   "execution_count": 9,
   "metadata": {},
   "outputs": [
    {
     "name": "stdout",
     "output_type": "stream",
     "text": [
      "| x=2.756720935 | err=0.455875283\n",
      "| x=2.924937549 | err=0.057511181\n",
      "| x=2.926270985 | err=0.000455678\n",
      "| x=2.926271062 | err=0.000000026\n"
     ]
    }
   ],
   "source": [
    "import math\n",
    "\n",
    "x = 1.5\n",
    "err = 10.0\n",
    "x_ant = x\n",
    "\n",
    "while err>0.0001:\n",
    "    \n",
    "    x = x - (math.log(x)+x-4)/(1.0/x + 1)\n",
    "    \n",
    "    err = abs(x-x_ant)/abs(x)\n",
    "    \n",
    "    x_ant = x\n",
    "    \n",
    "    print (\"| x=%.9f\"%x, \"| err=%.9f\"%err)"
   ]
  },
  {
   "cell_type": "markdown",
   "metadata": {},
   "source": [
    "### Exemplo"
   ]
  },
  {
   "cell_type": "code",
   "execution_count": 12,
   "metadata": {},
   "outputs": [
    {
     "name": "stdout",
     "output_type": "stream",
     "text": [
      "1 | x=0.00865 | err=345.65325\n",
      "2 | x=0.25213 | err=0.96568\n",
      "3 | x=0.28321 | err=0.10975\n",
      "4 | x=0.28357 | err=0.00129\n",
      "5 | x=0.28357 | err=0.00000\n"
     ]
    }
   ],
   "source": [
    "import math\n",
    "x0 = 3.0\n",
    "f = lambda x: 2*x-math.exp(-2*x)\n",
    "df = lambda x: 2+2*math.exp(-2*x)\n",
    "\n",
    "\n",
    "# Inicializandoas variáveis\n",
    "err = 10.0\n",
    "x_ant = x0\n",
    "i = 0\n",
    "eps = 0.001\n",
    "\n",
    "while err>eps:\n",
    "    x = x_ant-f(x_ant)/df(x_ant)    \n",
    "    err = abs(x-x_ant)/x\n",
    "    x_ant = x\n",
    "    i=i+1\n",
    "    print (i, \"| x=%.5f\"%x, \"| err=%.5f\"%err)"
   ]
  },
  {
   "cell_type": "code",
   "execution_count": null,
   "metadata": {
    "collapsed": true
   },
   "outputs": [],
   "source": []
  }
 ],
 "metadata": {
  "kernelspec": {
   "display_name": "Python 3",
   "language": "python",
   "name": "python3"
  },
  "language_info": {
   "codemirror_mode": {
    "name": "ipython",
    "version": 3
   },
   "file_extension": ".py",
   "mimetype": "text/x-python",
   "name": "python",
   "nbconvert_exporter": "python",
   "pygments_lexer": "ipython3",
   "version": "3.8.5"
  }
 },
 "nbformat": 4,
 "nbformat_minor": 2
}
