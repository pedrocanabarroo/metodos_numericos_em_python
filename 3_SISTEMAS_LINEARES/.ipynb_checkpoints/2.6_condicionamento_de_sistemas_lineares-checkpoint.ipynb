{
 "cells": [
  {
   "cell_type": "markdown",
   "metadata": {},
   "source": [
    "# 2.6 Condicionamento de Sistemas Lineares\n",
    "\n",
    "Quando lidamos com matrizes no corpo do números reais (ou complexos), exis-\n",
    "tem apenas duas alternativas: i) a matriz é inversível; ii) a matriz não é inver-\n",
    "sível e, neste caso, é chamada de matriz singular. Ao lidar com a aritmética de\n",
    "precisão finita, encontramos uma situação mais sutil: alguns problema lineares\n",
    "são mais difíceis de serem resolvidos, pois os erros de arredondamento se propa-\n",
    "gam de forma mais significativa que em outros problemas. Neste caso falamos de\n",
    "problemas bem-condicionados e mal-condicionados. Intuitivamente falando, um\n",
    "problema bem-condicionado é um problema em que os erros de arredondamento\n",
    "se propagam de forma menos importante; enquanto problemas mal-condicionados\n",
    "são problemas em que os erros se propagam de forma mais relevante.\n",
    "Um caso típico de sistema mal-condicionado é aquele cujos coeficiente estão\n",
    "muito próximos ao de um problema singular. \n",
    "\n",
    "Considere o seguinte sistema linear\n",
    "\n",
    "$ \\left[\\begin{array}{cc} \n",
    "\t         71 & 41 \\\\ \n",
    "\t         \\lambda & 30 \\\\\n",
    "\t         \\end{array} \\right]\n",
    " \\left[\\begin{array}{c} \n",
    "\t         x \\\\ \n",
    "\t         y \\\\\n",
    "\t         \\end{array} \\right]\n",
    "=\n",
    " \\left[\\begin{array}{c} \n",
    "\t         100 \\\\ \n",
    "\t         70 \\\\\n",
    "\t         \\end{array} \\right]$ \n",
    "             \n",
    "Note que não existe solução para $\\lambda = \\frac{71\\times30}{41} \\approx$ 51,95122."
   ]
  },
  {
   "cell_type": "code",
   "execution_count": 7,
   "metadata": {},
   "outputs": [
    {
     "name": "stdout",
     "output_type": "stream",
     "text": [
      "[ 3.33333333 -3.33333333]\n"
     ]
    }
   ],
   "source": [
    "import numpy as np\n",
    "from scipy.linalg import solve\n",
    "\n",
    "A = np.array([[71, 41], \n",
    "              [51,30]])\n",
    "B = np.array([100,\n",
    "              70])\n",
    "print (solve(A, B))"
   ]
  },
  {
   "cell_type": "code",
   "execution_count": 8,
   "metadata": {},
   "outputs": [
    {
     "name": "stdout",
     "output_type": "stream",
     "text": [
      "[ -65.  115.]\n"
     ]
    }
   ],
   "source": [
    "A = np.array([[71, 41],\n",
    "              [52,30]])\n",
    "B = np.array([100,\n",
    "              70])\n",
    "print (solve(A, B))"
   ]
  },
  {
   "cell_type": "code",
   "execution_count": 9,
   "metadata": {},
   "outputs": [
    {
     "name": "stdout",
     "output_type": "stream",
     "text": [
      "[ -85.35  150.25]\n"
     ]
    }
   ],
   "source": [
    "A = np.array([[71, 41], \n",
    "              [52,30]])\n",
    "B = np.array([100.4, \n",
    "              69.30])\n",
    "print (solve(A, B))"
   ]
  },
  {
   "cell_type": "markdown",
   "metadata": {},
   "source": [
    "Pequenas variações nos coeficientes das matrizes fazem as soluções ficarem bem\n",
    "distintas, isto é, pequenas variações nos dados de entrada acarretaram em grandes\n",
    "variações na solução do sistema. Quando isso acontece, dizemos que o problema é\n",
    "mal-condicionado.\n",
    "Precisamos uma maneira de medir essas variações. Como os dados de entrada\n",
    "e os dados de saída são vetores (ou matrizes), precisamos introduzir as definições\n",
    "de norma de vetores e matrizes.\n"
   ]
  },
  {
   "cell_type": "markdown",
   "metadata": {},
   "source": [
    "### Norma de vetores\n"
   ]
  },
  {
   "cell_type": "code",
   "execution_count": 10,
   "metadata": {},
   "outputs": [
    {
     "name": "stdout",
     "output_type": "stream",
     "text": [
      "18\n",
      "13.9865778205\n",
      "16\n"
     ]
    }
   ],
   "source": [
    "A = np.array([[3,-5,7],\n",
    "              [1,-2,4],\n",
    "              [-8,1,-7]])\n",
    "print (np.linalg.norm(A,1))\n",
    "print (np.linalg.norm(A,2))\n",
    "print (np.linalg.norm(A,np.inf))"
   ]
  },
  {
   "cell_type": "code",
   "execution_count": null,
   "metadata": {
    "collapsed": true
   },
   "outputs": [],
   "source": []
  }
 ],
 "metadata": {
  "kernelspec": {
   "display_name": "Python 3",
   "language": "python",
   "name": "python3"
  },
  "language_info": {
   "codemirror_mode": {
    "name": "ipython",
    "version": 3
   },
   "file_extension": ".py",
   "mimetype": "text/x-python",
   "name": "python",
   "nbconvert_exporter": "python",
   "pygments_lexer": "ipython3",
   "version": "3.8.5"
  }
 },
 "nbformat": 4,
 "nbformat_minor": 1
}
