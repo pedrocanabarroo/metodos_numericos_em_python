{
 "cells": [
  {
   "cell_type": "markdown",
   "metadata": {},
   "source": [
    "# 2.5 Métodos Iterativos\n",
    "\n",
    "Em certos casos, os métodos iterativos são mais indicados do que os métodos diretos (exatos), como por exemplo, quando a matriz dos coeficientes é uma matriz esparsa. Eles ainda necessitam de menos memória para armazenamento e  possuem a vantagem de se auto corrigir se um erro é cometido. Além disso, podem ser usados para reduzir os erros de arredondamento na solução obtida por métodos exatos. Podem também, sob certas condições, resolver um conjunto de equações não lineares. Ao usar métodos iterativos, no entanto, precisamos sempre saber se a sequência se soluções aproximadas está\n",
    "convergindo ou não para a solução desejada.\n",
    "\n",
    "### Definição\n",
    "Dados uma sequência de vetores $x^{(k)} \\in V$ e uma norma sobre o espaço vetorial $V$, dizemos que a sequência $\\{x^{(k)}\\}$ converge para $\\bar{x} \\in V$ se $ \\|x^{(k)} - \\bar{x}\\|  \\rightarrow 0$, quando $k \\rightarrow \\infty$.\n",
    "\n",
    "Para determinar a solução de um sistema linear por métodos iterativos, precisamos transformar o sistema dado em um outro sistema equivalente que  possa ser definido um processo iterativo.\n",
    "\n",
    "Suponha então, que o sistema $Ax = b$ seja reescrito na forma equivalente \n",
    "\n",
    "$$x = Hx + g$$\n",
    "\n",
    "tal que a solução $\\bar{x}$ de $x = Hx + g$ é  também, solução de $Ax = b$. A partir dessa nova forma podemos obter um processo iterativo que fornecerá a sequência de soluções aproximadas que buscamos.\n",
    "\n",
    "Assim, seja $x^{(0)}$ uma aproximação inicial para a solução $\\bar{x}$, obtemos as aproximações sucessivas $x^{(k)}$ para a solução desejada usando o processo iterativo definido por:\n",
    "\n",
    "$$x^{(k)} = Hx^{(k-1)} + g$$"
   ]
  },
  {
   "cell_type": "markdown",
   "metadata": {},
   "source": [
    "### Convergência \n",
    "(Franco, 2006, p.169)\n",
    "\n",
    "### Teorema: \n",
    "A condição necessária e suficiente para a convergência do processo iterativo definido por $x = Hx + g$ é que $max \\{ |\\lambda_i |\\} < 1$, onde $\\lambda_i$ são os autovalores da matriz $H$. \n",
    "\n",
    "### Corolário (Critério geral de convergência):\n",
    "Como consequência do teorema acima, o processo será convergente se para qualquer norma de matrizes, $\\| H \\| < 1$.   \n",
    "\n",
    "#### Prova\n",
    "Na k-ésima iteração o vetor erro, dado por $e^{(k)}=\\bar{x}-x^{(k)}$ será \n",
    "\n",
    "$$ e ^{(k)} = H^ke^{(0)}$$\n",
    "\n",
    "Tomando normas consistentes, tem-se que \n",
    "\n",
    "$$ \\| H^k e^{(0)} \\| \\leq \\| H \\|^k \\|e^{(0)}\\|$$\n",
    "\n",
    "portanto \n",
    "$$ \\| e^{(k)} \\| \\leq \\| H \\|^k \\|e^{(0)}\\|$$\n",
    "\n",
    "como $\\| H \\|<1$ tem-se que $\\| e^{(k)} \\| \\rightarrow 0$ quando $k \\rightarrow \\infty$.\n",
    "\n",
    "Assim, se $\\| H \\|<1$ para alguma norma, temos a garantia de que o processo iterativo dado por $ x - x^{(k)} = H(x-x^{(k-1)})$ converge para a solução exata $\\bar{x}$. A matriz $H$ é chamada **matriz de iteração**.\n"
   ]
  },
  {
   "cell_type": "markdown",
   "metadata": {},
   "source": [
    "## Método iterativo de Jacobi-Richardson\n",
    "\n",
    "Considere um sistema  de equações lineares $Ax = b$ em que $det(A) \\neq 0$, com a diagonal principal $a_{ii} \\neq 0$, $i=1,...,n$ como segue\n",
    "\n",
    "$$ \\begin{cases} \n",
    "\t         a_{11}x_1 +a_{12}x_2 + \\cdots + a_{1n}x_n = b_1\\\\ \n",
    "\t         a_{21}x_1 +a_{22}x_2 + \\cdots + a_{2n}x_n = b_2\\\\\n",
    "\t         \\vdots   \\\\\n",
    "\t         a_{n1}x_1 +a_{n2}x_2 + \\cdots + a_{nn}x_n = b_1\\\\\n",
    "             \\end{cases} $$\n",
    "\n",
    "Dividindo cada linha do sistema dado pelo elemento da diagonal e isolando $x_1$ na $1^a$ equação, $x_2$ na $2^a$ equação até $x_n$ na n-ésima equação, temos o sistema escrito na forma equivalente:\n",
    "\n",
    "$$ \\begin{cases} \n",
    "\t         x_1 = \\frac{1}{a_{11}} \\left(b_1  - a_{12}x_2 - a_{13}x_3 - \\cdots - a_{1n}x_n \\right)\\\\ \n",
    "\t         x_2 = \\frac{1}{a_{22}} \\left(b_2  - a_{21}x_1 - a_{23}x_3 - \\cdots - a_{2n}x_n \\right)\\\\ \n",
    "\t         \\vdots   \\\\\n",
    "\t         x_n = \\frac{1}{a_{nn}} \\left(b_n  - a_{n1}x_1 - a_{n2}x_2 - \\cdots - a_{n \\, n-1}x_{n-1} \\right)\\\\ \n",
    "\\end{cases} $$\n",
    "\n",
    "O método iterativo de Jacobi-Richardson é dado da seguinte forma:\n",
    "\n",
    "$$ \\begin{cases} \n",
    "             x_1^{(k+1)} = \\frac{b_1}{a_{11}}  - \\frac{a_{12}}{a_{11}}x_2^{(k)} - \\frac{a_{13}}{a_{11}}x_3^{(k)} - \\cdots - \\frac{a_{1n}}{a_{11}}x_n^{(k)} \\\\ \n",
    "\t         x_2^{(k+1)} = \\frac{b_2}{a_{22}}  - \\frac{a_{21}}{a_{22}}x_1^{(k)} - \\frac{a_{23}}{a_{22}}x_3^{(k)} - \\cdots - \\frac{a_{1n}}{a_{11}}x_n^{(k)} \\\\ \n",
    "\t         \\vdots   \\\\\n",
    "\t         x_n^{(k+1)} = \\frac{b_n}{a_{nn}}  - \\frac{a_{n1}}{a_{nn}}x_1^{(k)} - \\frac{a_{n2}}{a_{nn}}x_3^{(k)} - \\cdots - \\frac{a_{n \\, n-1}}{a_{nn}}x_{n-1}^{(k)} \\\\\n",
    "\\end{cases} $$\n",
    "\n",
    "\n",
    "\n"
   ]
  },
  {
   "cell_type": "markdown",
   "metadata": {},
   "source": [
    "De forma geral, o método de Jacobi-Richardson pode ser resumido como:\n",
    "\n",
    "$$ x_i^{(k+1)} = \\frac{1}{a_{ii}} \\left(b_i - \\sum_{j=1}^{i-1} a_{ij}x_j^{(k)} -\\sum_{j=i+1}^{n} a_{ij}x_j^{(k)} \\right) \\,\\,\\,\\,\\,\\, i=1,...,n$$"
   ]
  },
  {
   "cell_type": "markdown",
   "metadata": {},
   "source": [
    "### Convergência\n",
    "Se a matriz $A=(a_{ij})_{i,j=1.,,,,n}$ do sistema $Ax=b$ for estritamente diagonalmente dominante, ou seja,\n",
    "\n",
    "$$ |a_{ii}| > \\sum_{j=1,i\\neq j} |a_{ij}| , i=1,...n$$\n",
    "\n",
    "então, o método iterativo de Jacobi-Richardson será convergente. "
   ]
  },
  {
   "cell_type": "markdown",
   "metadata": {},
   "source": [
    "### Critério de parada \n",
    "Considerando que o processo iterativo está fornecendo uma sequência convergente, um critério de parada para o algoritmo pode ser dado por\n",
    "\n",
    "$$ \\frac{\\parallel x^n - x^{n-1}\\parallel }{\\parallel x^n\\parallel} < \\epsilon$$\n",
    "\n",
    "para alguma norma vetorial $\\parallel . \\parallel : V \\rightarrow R$ e alguma tolerância $\\epsilon$ pré estabelecida. \n",
    "\n",
    "Por conveniência, é comum utilizarmos a norma infinito:\n",
    "\n",
    "$$\\parallel x\\parallel _ \\infty = max \\{ |x_0|, |x_1|, ..., |x_n| \\}$$."
   ]
  },
  {
   "cell_type": "markdown",
   "metadata": {},
   "source": [
    "#### Exemplo 1\n",
    "Usando o método interativo de Jacobi-Richardson, determine uma solução aproximada para o seguinte sistema de equações lineares, com aproximação inicial $x^{0}=(0,0,0)^t$ e precisão $\\epsilon = 0.01$. \n",
    "\n",
    "$$\n",
    "\\left[\\begin{array}{ccc} \n",
    "10 & 2 & 1\\\\\n",
    "1 & 5 & 1\\\\\n",
    "2 & 3 & 10\\\\\n",
    "\\end{array} \\right]\n",
    "\\left[\\begin{array}{c} \n",
    "x_1\\\\\n",
    "x_2\\\\\n",
    "x_3\\\\\n",
    "\\end{array} \\right]\n",
    "=\n",
    "\\left[\\begin{array}{c} \n",
    "14\\\\\n",
    "11\\\\\n",
    "8\\\\\n",
    "\\end{array} \\right]\n",
    "$$"
   ]
  },
  {
   "cell_type": "markdown",
   "metadata": {},
   "source": [
    "*Solução:*\n",
    "\n",
    "Reescrevendo o sistema, obtemos:\n",
    "\n",
    "$$ \n",
    "\\begin{cases} \n",
    "x_1^{(k+1)} = \\frac{14}{10} - \\frac{2}{10}x_2^{(k)} - \\frac{1}{10}x_3^{(k)}\\\\ \n",
    "x_2^{(k+1)} = \\frac{11}{5} - \\frac{1}{5}x_1^{(k)} - \\frac{1}{5}x_3^{(k)}\\\\ \n",
    "x_3^{(k+1)} = \\frac{8}{10} - \\frac{2}{10}x_1^{(k)} - \\frac{3}{10}x_2^{(k)}\\\\ \n",
    "\\end{cases} \n",
    "$$\n",
    "\n",
    "Em python podemos fazer como segue"
   ]
  },
  {
   "cell_type": "code",
   "execution_count": 41,
   "metadata": {},
   "outputs": [],
   "source": [
    "import numpy as np"
   ]
  },
  {
   "cell_type": "code",
   "execution_count": 42,
   "metadata": {},
   "outputs": [],
   "source": [
    "# definindo a aproximação inicial\n",
    "x = np.array([0.,0.,0.])"
   ]
  },
  {
   "cell_type": "code",
   "execution_count": 43,
   "metadata": {},
   "outputs": [],
   "source": [
    "def itera(x):\n",
    "    x1 = 1.4 - 0.2*x[1] - 0.1*x[2]\n",
    "    x2 = 2.2 - 0.2*x[0] - 0.2*x[2]\n",
    "    x3 = 0.8 - 0.2*x[0] - 0.3*x[1]\n",
    "    x = np.array([x1, x2, x3])\n",
    "    return x"
   ]
  },
  {
   "cell_type": "code",
   "execution_count": 44,
   "metadata": {},
   "outputs": [
    {
     "name": "stdout",
     "output_type": "stream",
     "text": [
      "k=1, x= [1.4 2.2 0.8]\n"
     ]
    }
   ],
   "source": [
    "#uma iteração\n",
    "x = itera(x)\n",
    "print (\"k=1,\", \"x=\",x)"
   ]
  },
  {
   "cell_type": "code",
   "execution_count": 45,
   "metadata": {},
   "outputs": [
    {
     "name": "stdout",
     "output_type": "stream",
     "text": [
      "2 [ 0.88  1.76 -0.14] 0.5340909090909091\n",
      "3 [1.062 2.052 0.096] 0.1423001949317738\n",
      "4 [ 0.98    1.9684 -0.028 ] 0.06299532615322088\n",
      "5 [1.00912 2.0096  0.01348] 0.02064092356687896\n",
      "6 [ 0.996732  1.99548  -0.004704] 0.009112594463487526\n"
     ]
    }
   ],
   "source": [
    "#várias iterações e o erro\n",
    "x_ant = x\n",
    "for i in range(2,7):\n",
    "    x = itera(x)\n",
    "    err = np.max(abs(x-x_ant))/np.max(abs(x))\n",
    "    x_ant = x\n",
    "    print (i, x, err)"
   ]
  },
  {
   "cell_type": "code",
   "execution_count": 46,
   "metadata": {},
   "outputs": [
    {
     "name": "stdout",
     "output_type": "stream",
     "text": [
      "Solução: [ 0.9967  1.9955 -0.0047]\n"
     ]
    }
   ],
   "source": [
    "print (\"Solução:\", np.round(x,4))"
   ]
  },
  {
   "cell_type": "markdown",
   "metadata": {},
   "source": [
    "O mesmo exemplo mas agora usando a função lambda"
   ]
  },
  {
   "cell_type": "code",
   "execution_count": 47,
   "metadata": {},
   "outputs": [
    {
     "name": "stdout",
     "output_type": "stream",
     "text": [
      "(1.4000, 2.2000, 0.8000)\n",
      "(0.8800, 1.7600, -0.1400)\n",
      "(1.0620, 2.0520, 0.0960)\n",
      "(0.9800, 1.9684, -0.0280)\n",
      "(1.0091, 2.0096, 0.0135)\n",
      "(0.9967, 1.9955, -0.0047)\n"
     ]
    }
   ],
   "source": [
    "x = [0,0,0]\n",
    "\n",
    "x1 = lambda x2, x3: 1.4 - 0.2*x2 - 0.1*x3\n",
    "x2 = lambda x1, x3: 2.2 - 0.2*x1 - 0.2*x3\n",
    "x3 = lambda x1, x2: 0.8 - 0.2*x1 - 0.3*x2\n",
    "\n",
    "for k in range(6):\n",
    "    x = [x1(x[1],x[2]), x2(x[0],x[2]), x3(x[0],x[1])]\n",
    "    print (\"(%.4f,\"%x[0],\"%.4f,\"%x[1],\"%.4f)\"%x[2])\n"
   ]
  },
  {
   "cell_type": "code",
   "execution_count": 48,
   "metadata": {},
   "outputs": [
    {
     "name": "stdout",
     "output_type": "stream",
     "text": [
      "Solução: [ 0.9967  1.9955 -0.0047]\n"
     ]
    }
   ],
   "source": [
    "print (\"Solução:\", np.round(x,4))"
   ]
  },
  {
   "cell_type": "markdown",
   "metadata": {},
   "source": [
    "Uma outra forma de obtermos os mesmo resultados usando a expressão resumida, seria"
   ]
  },
  {
   "cell_type": "code",
   "execution_count": 49,
   "metadata": {},
   "outputs": [
    {
     "name": "stdout",
     "output_type": "stream",
     "text": [
      "[1.4 2.2 0.8]\n",
      "[ 0.88  1.76 -0.14]\n",
      "[1.062 2.052 0.096]\n",
      "[ 0.98    1.9684 -0.028 ]\n",
      "[1.00912 2.0096  0.01348]\n",
      "[ 0.996732  1.99548  -0.004704]\n"
     ]
    }
   ],
   "source": [
    "A = np.array([[10., 2., 1.],[1.,5.,1.],[2.,3.,10.]])\n",
    "b = np.array([14.,11.,8.])\n",
    "x = np.array([0.,0.,0.])\n",
    "n = len(A)\n",
    "\n",
    "xk = np.array([0.,0.,0.])\n",
    "for k in range(6):\n",
    "    for i in range(n):\n",
    "        xk[i] = (b[i]-np.sum(A[i,0:i]*x[:i])-np.sum(A[i,i+1:]*x[i+1:]))/A[i,i]\n",
    "        # a linha acima é equivalente a:\n",
    "        #xk[i] = (b[i]-np.dot(A[i,0:i],x[:i])-np.dot(A[i,i+1:],x[i+1:]))/A[i,i]\n",
    "    print (xk)\n",
    "    x = xk.copy()"
   ]
  },
  {
   "cell_type": "code",
   "execution_count": 50,
   "metadata": {},
   "outputs": [
    {
     "name": "stdout",
     "output_type": "stream",
     "text": [
      "Solução: [ 0.9967  1.9955 -0.0047]\n"
     ]
    }
   ],
   "source": [
    "print (\"Solução:\", np.round(x,4))"
   ]
  },
  {
   "cell_type": "markdown",
   "metadata": {},
   "source": [
    "### Na forma matricial \n",
    "\n",
    "Na forma matricial, o podemos escrever o processo iterativo da seguinte maneira, \n",
    "\n",
    "$$ x^{(k+1)} = Hx^{(k)} + g $$\n",
    "\n",
    "onde \n",
    "\n",
    "<p style=\"text-align:center;\">\n",
    "$H = \n",
    "\\left[\\begin{array}{ccccc} \n",
    " 0 & -\\frac{a_{12}}{a_{11}} & -\\frac{a_{13}}{a_{11}} &\\cdots & -\\frac{a_{1n}}{a_{11}} \\\\ \n",
    " -\\frac{a_{21}}{a_{22}} & 0 & -\\frac{a_{23}}{a_{22}} &\\cdots & -\\frac{a_{2n}}{a_{22}} \\\\\n",
    "  \\vdots & \\vdots & \\vdots & \\vdots & \\vdots \\\\\n",
    " -\\frac{a_{n1}}{a_{nn}} & -\\frac{a_{n2}}{a_{nn}} & -\\frac{a_{n3}}{a_{nn}}&\\cdots & 0 \\\\\n",
    "\\end{array} \\right]\n",
    "\\,\\,\\,\\,\\,\\,$\n",
    "e\n",
    "$\\,\\,\\,\\,\\,\\,g = \n",
    "\\left[\\begin{array}{c} \n",
    "\\frac{b_1}{a_{11}} \\\\ \n",
    "\\frac{b_2}{a_{22}} \\\\\n",
    "\\vdots \\\\\n",
    "\\frac{b_n}{a_{nn}}\\\\\n",
    "\\end{array} \\right]\n",
    "$\n",
    "</p>\n",
    "\n",
    "ou, ainda,\n",
    "\n",
    "\n",
    "$$\n",
    "\\left[\\begin{array}{c} \n",
    "x_1^{(k+1)} \\\\ \n",
    "x_2^{(k+1)} \\\\\n",
    "\\vdots \\\\\n",
    "x_n^{(k+1)}\\\\\n",
    "\\end{array} \\right]\n",
    "= \n",
    "\\left[\\begin{array}{ccccc} \n",
    " 0 & -\\frac{a_{12}}{a_{11}} & -\\frac{a_{13}}{a_{11}} &\\cdots & -\\frac{a_{1n}}{a_{11}} \\\\ \n",
    " -\\frac{a_{21}}{a_{22}} & 0 & -\\frac{a_{23}}{a_{22}} &\\cdots & -\\frac{a_{2n}}{a_{22}} \\\\\n",
    "  \\vdots & \\vdots & \\vdots & \\vdots & \\vdots \\\\\n",
    " -\\frac{a_{n1}}{a_{nn}} & -\\frac{a_{n2}}{a_{nn}} & -\\frac{a_{n3}}{a_{nn}}&\\cdots & 0 \\\\\n",
    "\\end{array} \\right]\n",
    "\\left[\\begin{array}{c} \n",
    "x_1^{(k)} \\\\ \n",
    "x_2^{(k)} \\\\\n",
    "\\vdots \\\\\n",
    "x_n^{(k)}\\\\\n",
    "\\end{array} \\right]\n",
    "+\n",
    "\\left[\\begin{array}{c} \n",
    "\\frac{b_1}{a_{11}} \\\\ \n",
    "\\frac{b_2}{a_{22}} \\\\\n",
    "\\vdots \\\\\n",
    "\\frac{b_n}{a_{nn}}\\\\\n",
    "\\end{array} \\right]\n",
    "$$"
   ]
  },
  {
   "cell_type": "markdown",
   "metadata": {},
   "source": []
  },
  {
   "cell_type": "markdown",
   "metadata": {},
   "source": [
    "### Convergência\n",
    "\n",
    "Seja uma norma matricial consistente com alguma norma vetorial, se $\\parallel H \\parallel < 1$ então a sequência será convergente. Em geral, para verificar a convergência usamos a norma infinito \n",
    "\n",
    "$$\\parallel H \\parallel _\\infty = max_{1 \\leq i \\leq n}  \\left\\{ \\sum_{j=1}^n |a_{ij}|  \\right\\} $$"
   ]
  },
  {
   "cell_type": "markdown",
   "metadata": {},
   "source": [
    "Um outro programa, agora usando operações vetoriais com o Numpy"
   ]
  },
  {
   "cell_type": "markdown",
   "metadata": {},
   "source": [
    "#### Exemplo 2 \n",
    "Resolvendo novamente o Exemplo 1 mas agora usando operações matriciais\n"
   ]
  },
  {
   "cell_type": "code",
   "execution_count": 51,
   "metadata": {},
   "outputs": [],
   "source": [
    "# Entrando com a matriz a e o vetor b\n",
    "A = np.array([[10.0, 2.0, 1.0],\n",
    "              [ 1.0, 5.0, 1.0],\n",
    "              [ 2.0, 3.0, 10.0]])\n",
    "\n",
    "b = np.array([14., 11., 8.])\n"
   ]
  },
  {
   "cell_type": "code",
   "execution_count": 52,
   "metadata": {},
   "outputs": [
    {
     "name": "stdout",
     "output_type": "stream",
     "text": [
      "H = [[ 0.  -0.2 -0.1]\n",
      " [-0.2  0.  -0.2]\n",
      " [-0.2 -0.3  0. ]]\n",
      "g = [1.4 2.2 0.8]\n"
     ]
    }
   ],
   "source": [
    "# Calculando a matriz H\n",
    "H = A.copy()\n",
    "g = b.copy()\n",
    "\n",
    "for i in range(3):\n",
    "    H[i] = -A[i]/A[i][i]\n",
    "    g[i] = b[i]/A[i,i]\n",
    "    \n",
    "H = H + np.identity(len(A))\n",
    "print ('H =', H)\n",
    "print ('g =', g)"
   ]
  },
  {
   "cell_type": "code",
   "execution_count": 53,
   "metadata": {},
   "outputs": [
    {
     "name": "stdout",
     "output_type": "stream",
     "text": [
      "[[ 0.  -0.2 -0.1]\n",
      " [-0.2  0.  -0.2]\n",
      " [-0.2 -0.3  0. ]]\n"
     ]
    }
   ],
   "source": [
    "# O mesmo reultado pode ser obtido fazendo\n",
    "H = np.eye(len(A))-np.divide(A.T, np.diagonal(A)).T\n",
    "print (H)"
   ]
  },
  {
   "cell_type": "code",
   "execution_count": 54,
   "metadata": {},
   "outputs": [
    {
     "name": "stdout",
     "output_type": "stream",
     "text": [
      "0.5\n"
     ]
    }
   ],
   "source": [
    "# verificando a convergẽncia com a norma inf \n",
    "norma_inf = np.sum(abs(H), axis=1).max()\n",
    "print (norma_inf)"
   ]
  },
  {
   "cell_type": "code",
   "execution_count": 55,
   "metadata": {},
   "outputs": [
    {
     "name": "stdout",
     "output_type": "stream",
     "text": [
      "[1.4 2.2 0.8] , Err= 1.0\n",
      "[ 0.88  1.76 -0.14] , Err= 0.25\n",
      "[1.062 2.052 0.096] , Err= 0.1423\n",
      "[ 0.98    1.9684 -0.028 ] , Err= 0.0417\n",
      "[1.0091 2.0096 0.0135] , Err= 0.0206\n",
      "[ 0.9967  1.9955 -0.0047] , Err= 0.0062\n"
     ]
    }
   ],
   "source": [
    "# fazendo as iterações\n",
    "err = 1\n",
    "x = np.array([0,0,0])\n",
    "x_ant = x\n",
    "\n",
    "while err>0.01:\n",
    "    x = np.dot(H,x)+g\n",
    "    err = abs(max(x-x_ant)/max(x))\n",
    "    x_ant = x   \n",
    "    print(np.round(x, 4), \", Err=\", np.round(err,4))\n"
   ]
  },
  {
   "cell_type": "markdown",
   "metadata": {},
   "source": [
    "## Método iterativo de Gaus-Seidel\n",
    "\n",
    "Considere um sistema  de equações lineares $Ax = b$ em que $det(A) \\neq 0$, com a diagonal principal $a_{ii} \\neq 0$, $i=1,...,n$ como segue\n",
    "\n",
    "$$ \\begin{cases} \n",
    "\t         a_{11}x_1 +a_{12}x_2 + \\cdots + a_{1n}x_n = b_1\\\\ \n",
    "\t         a_{21}x_1 +a_{22}x_2 + \\cdots + a_{2n}x_n = b_2\\\\\n",
    "\t         \\vdots   \\\\\n",
    "\t         a_{n1}x_1 +a_{n2}x_2 + \\cdots + a_{nn}x_n = b_1\\\\\n",
    "             \\end{cases} $$\n",
    "\n",
    "Dividindo cada linha do sistema dado pelo elemento da diagonal e isolando $x_1$ na $1^a$ equação, $x_2$ na $2^a$ equação até $x_n$ na n-ésima equação, temos o sistema escrito na forma equivalente:\n",
    "\n",
    "$$ \\begin{cases} \n",
    "\t         x_1 = \\frac{1}{a_{11}} \\left(b_1  - a_{12}x_2 - a_{13}x_3 - \\cdots - a_{1n}x_n \\right)\\\\ \n",
    "\t         x_2 = \\frac{1}{a_{22}} \\left(b_2  - a_{21}x_1 - a_{23}x_3 - \\cdots - a_{2n}x_n \\right)\\\\ \n",
    "\t         \\vdots   \\\\\n",
    "\t         x_n = \\frac{1}{a_{nn}} \\left(b_n  - a_{n1}x_1 - a_{n2}x_2 - \\cdots - a_{n \\, n-1}x_{n-1} \\right)\\\\ \n",
    "\\end{cases} $$\n",
    "\n",
    "O método iterativo de Gauss-Seidel é dado da seguinte forma:\n",
    "\n",
    "$$ \\begin{cases} \n",
    "             x_1^{(k+1)} = \\frac{b_1}{a_{11}}  - \\frac{a_{12}}{a_{11}}x_2^{(k)} - \\frac{a_{13}}{a_{11}}x_3^{(k)} - \\cdots - \\frac{a_{1n}}{a_{11}}x_n^{(k)} \\\\ \n",
    "\t         x_2^{(k+1)} = \\frac{b_2}{a_{22}}  - \\frac{a_{21}}{a_{22}}x_1^{(k+1)} - \\frac{a_{23}}{a_{22}}x_3^{(k)} - \\cdots - \\frac{a_{1n}}{a_{11}}x_n^{(k)} \\\\ \n",
    "\t         \\vdots   \\\\\n",
    "\t         x_n^{(k+1)} = \\frac{b_n}{a_{nn}}  - \\frac{a_{n1}}{a_{nn}}x_1^{(k+1)} - \\frac{a_{n2}}{a_{nn}}x_3^{(k+1)} - \\cdots - \\frac{a_{n \\, n-1}}{a_{nn}}x_{n-1}^{(k+1)} \\\\\n",
    "\\end{cases} $$\n"
   ]
  },
  {
   "cell_type": "markdown",
   "metadata": {},
   "source": [
    "De forma geral, o método de Gauss-Seidel pode ser resumido como:\n",
    "\n",
    "$$ x_i^{(k+1)} = \\frac{1}{a_{ii}} \\left(b_i - \\sum_{j=1}^{i-1} a_{ij}x_j^{(k+1)} -\\sum_{j=i+1}^{n} a_{ij}x_j^{(k)} \\right) \\,\\,\\,\\,\\,\\, i=1,...,n$$\n",
    "\n",
    "ou ainda, de forma equivalente:\n",
    "\n",
    "$$ x_i^{(k+1)} = g_i - \\sum_{j=1}^{i-1} h_{ij}x_j^{(k+1)} -\\sum_{j=i+1}^{n} h_{ij}x_j^{(k)} \\,\\,\\,\\,\\,\\, i=1,...,n$$\n",
    "\n",
    "em que $g_i=\\frac{b_i}{a_{ii}}$ e $h_{ij}=\\frac{a_{ij}}{a_{ii}}$, $i=1,...,n$. "
   ]
  },
  {
   "cell_type": "code",
   "execution_count": null,
   "metadata": {},
   "outputs": [],
   "source": []
  },
  {
   "cell_type": "markdown",
   "metadata": {},
   "source": [
    "### Convergência: critério de Sassenfield\n",
    "Sejam as constantes $\\beta_i$ definidas pelas seguintes fórmulas de recorrência:\n",
    "\n",
    "$$\\beta_i = \\sum_{j=1}^{i-1} |h_{ij}|\\beta_i +\\sum_{j=i+1}^{n} |h_{ij}| \\,\\,\\,\\,\\,\\, i=1,...,n$$\n",
    "\n",
    "e seja\n",
    "\n",
    "$$\\beta = \\max_{1 \\leq i \\leq n}\\ \\beta_i$$\n",
    "\n",
    "Então, se $\\beta < 1$, a sequência $x^{(k)}$, gerada pelo método iterativo de Gauss-Seidel, converge para a solução $x$ do sistema dado.\n"
   ]
  },
  {
   "cell_type": "markdown",
   "metadata": {},
   "source": [
    "### Exemplo\n",
    "Usando o método iterativo de Gauss-Seidel, determine uma solução aproximada para o sistema dado a seguir, com aproximação inicial\n",
    "$x^{(0)} =(x_1^{(0)},x_2^{(0)},x_3^{(0)})^t =(0,0,0)^t$ eprecisão $\\epsilon = 0.01$.\n",
    "\n",
    "$$ \\left[\\begin{array}{ccc} \n",
    "10 & 2 & 1\\\\ 1 & 5 & 1\\\\ 2 & 3 & 10\\\\\n",
    "\\end{array} \\right]\n",
    "\\left[\\begin{array}{c} \n",
    "x_1\\\\ x_2\\\\ x_3\\\\\n",
    "\\end{array} \\right]\n",
    "=\n",
    "\\left[\\begin{array}{c} \n",
    "14\\\\ 11\\\\ 8\\\\\n",
    "\\end{array} \\right] $$\n"
   ]
  },
  {
   "cell_type": "code",
   "execution_count": 100,
   "metadata": {},
   "outputs": [],
   "source": [
    "# Entrando com a matriz a e o vetor b\n",
    "A = np.array([[10.0, 2.0, 1.0],\n",
    "              [ 1.0, 5.0, 1.0],\n",
    "              [ 2.0, 3.0, 10.0]])\n",
    "\n",
    "b = np.array([14., 11., 8.])"
   ]
  },
  {
   "cell_type": "code",
   "execution_count": 103,
   "metadata": {},
   "outputs": [
    {
     "data": {
      "text/plain": [
       "array([[10.,  0.,  0.],\n",
       "       [ 0.,  5.,  0.],\n",
       "       [ 0.,  0., 10.]])"
      ]
     },
     "execution_count": 103,
     "metadata": {},
     "output_type": "execute_result"
    }
   ],
   "source": [
    "np.diag(np.diag(A))\n"
   ]
  },
  {
   "cell_type": "code",
   "execution_count": 83,
   "metadata": {},
   "outputs": [
    {
     "name": "stdout",
     "output_type": "stream",
     "text": [
      "[[ 0.  -0.2 -0.1]\n",
      " [-0.2  0.  -0.2]\n",
      " [-0.2 -0.3  0. ]]\n"
     ]
    }
   ],
   "source": [
    "# obtendo a matriz H\n",
    "H = np.eye(len(A))-np.divide(A.T, np.diagonal(A)).T\n",
    "print (H)"
   ]
  },
  {
   "cell_type": "code",
   "execution_count": 85,
   "metadata": {},
   "outputs": [
    {
     "name": "stdout",
     "output_type": "stream",
     "text": [
      "max{ [0.3, 0.26, 0.138] } = 0.3\n"
     ]
    }
   ],
   "source": [
    "# verificando a convergência pelo critério de Sassenfield\n",
    "beta = []\n",
    "for i in range(len(H)):\n",
    "    bi = np.dot(beta,abs(H[i,0:i])) + np.sum(abs(H[i,i+1:]))\n",
    "    beta.append(np.round(bi,4))\n",
    "\n",
    "print ('max{',beta,'} =',np.array(beta).max())\n"
   ]
  },
  {
   "cell_type": "code",
   "execution_count": 96,
   "metadata": {},
   "outputs": [
    {
     "name": "stdout",
     "output_type": "stream",
     "text": [
      "1 [ 1.4    1.92  -0.056]\n",
      "2 [ 1.0216  2.0069 -0.0064]\n",
      "3 [ 9.9930e-01  2.0014e+00 -3.0000e-04]\n",
      "4 [0.9997 2.0001 0.    ]\n",
      "Solução: [0.9997 2.0001 0.    ]\n"
     ]
    }
   ],
   "source": [
    "# com 4 iterações\n",
    "x = np.array([0.,0.,0.])\n",
    "\n",
    "for k in range(1,5):\n",
    "    for i in range(len(A)):\n",
    "        x[i] = (b[i] - np.dot(A[i,0:i],x[0:i])-np.dot(A[i,i+1:n],x[i+1:n]))/A[i,i]\n",
    "    print(k, np.round(x,4))\n",
    "\n",
    "    \n",
    "print(\"Solução:\",np.round(x,4))"
   ]
  },
  {
   "cell_type": "markdown",
   "metadata": {},
   "source": [
    "## Exemplos"
   ]
  },
  {
   "cell_type": "code",
   "execution_count": 38,
   "metadata": {},
   "outputs": [
    {
     "name": "stdout",
     "output_type": "stream",
     "text": [
      "(0.8000, 1.0333, -0.0778) err= 1.0\n",
      "(0.9911, 1.0015, -0.0035) err= 0.19082840236686394\n",
      "(0.9996, 1.0001, -0.0002) err= 0.00849326793297563\n"
     ]
    }
   ],
   "source": [
    "import numpy as np\n",
    "\n",
    "x = np.array([0.,0.,0.])\n",
    "x_ant = np.array([0.,0.,0.])\n",
    "eps = 0.01\n",
    "\n",
    "A = np.array([[-10., 2.0, 2.0],\n",
    "              [ 1.0, 6.0, 0.0],\n",
    "              [-1.0, 1.0, 3.0]])\n",
    "b = np.array([-8., 7., 0.])\n",
    "\n",
    "x1 = lambda x2, x3: (b[0] - A[0,1]*x2 - A[0,2]*x3)/A[0,0]\n",
    "x2 = lambda x1, x3: (b[1] - A[1,0]*x1 - A[1,2]*x3)/A[1,1]\n",
    "x3 = lambda x1, x2: (b[2] - A[2,0]*x1 - A[2,1]*x2)/A[2,2]\n",
    "\n",
    "err = 10.\n",
    "while err>eps:\n",
    "#for k in range(5):\n",
    "    x[0] = x1(x[1],x[2])\n",
    "    x[1] = x2(x[0],x[2])\n",
    "    x[2] = x3(x[0],x[1])\n",
    "    err = np.amax(np.absolute(x-x_ant))/np.amax(np.absolute(x))   \n",
    "    print (\"(%.4f,\"%x[0],\"%.4f,\"%x[1],\"%.4f)\"%x[2], \"err=\",err)\n",
    "    x_ant = np.copy(x)"
   ]
  },
  {
   "cell_type": "code",
   "execution_count": null,
   "metadata": {},
   "outputs": [],
   "source": [
    "import numpy as np\n",
    "\n",
    "x = np.array([0.,0.,0.])\n",
    "x_ant = np.array([0.,0.,0.])\n",
    "eps = 0.01\n",
    "\n",
    "A = np.array([[10,2,1],\n",
    "              [1,5,1],\n",
    "              [2,3,10]])\n",
    "b = np.array([14,11,8])\n",
    "\n",
    "x1 = lambda x2, x3: (b[0] - A[0,1]*x2 - A[0,2]*x3)/A[0,0]\n",
    "x2 = lambda x1, x3: (b[1] - A[1,0]*x1 - A[1,2]*x3)/A[1,1]\n",
    "x3 = lambda x1, x2: (b[2] - A[2,0]*x1 - A[2,1]*x2)/A[2,2]\n",
    "\n",
    "err = 10.\n",
    "while err>eps:\n",
    "#for k in range(5):\n",
    "    x[0] = x1(x[1],x[2])\n",
    "    x[1] = x2(x[0],x[2])\n",
    "    x[2] = x3(x[0],x[1])\n",
    "    err = np.amax(np.absolute(x-x_ant))/np.amax(np.absolute(x))   \n",
    "    print (\"(%.4f,\"%x[0],\"%.4f,\"%x[1],\"%.4f)\"%x[2], \"err=\",err)\n",
    "    x_ant = np.copy(x)"
   ]
  },
  {
   "cell_type": "code",
   "execution_count": null,
   "metadata": {},
   "outputs": [],
   "source": [
    "import numpy as np\n",
    "\n",
    "x = np.array([0.,0.,0.,0,0])\n",
    "x_ant = np.array([0.,0.,0.,0,0])\n",
    "eps = 0.001\n",
    "\n",
    "A = np.array([[5,1,2,1,-1],\n",
    "              [0,6,1,1,-1],\n",
    "              [0,1,-3,2,1],\n",
    "              [3,0,2,7,0],\n",
    "              [1,1,0,0,8]])\n",
    "b = np.array([1,2,0,2,1])\n",
    "\n",
    "x1 = lambda x2, x3, x4, x5: (b[0] - A[0,1]*x2 - A[0,2]*x3 - A[0,3]*x4 - A[0,4]*x5)/A[0,0]\n",
    "x2 = lambda x1, x3, x4, x5: (b[1] - A[1,0]*x1 - A[1,2]*x3 - A[1,3]*x4 - A[1,4]*x5)/A[1,1]\n",
    "x3 = lambda x1, x2, x4, x5: (b[2] - A[2,0]*x1 - A[2,1]*x2 - A[2,3]*x4 - A[2,4]*x5)/A[2,2]\n",
    "x4 = lambda x1, x2, x3, x5: (b[3] - A[3,0]*x1 - A[3,1]*x2 - A[3,2]*x3 - A[3,4]*x5)/A[3,3]\n",
    "x5 = lambda x1, x2, x3, x4: (b[4] - A[4,0]*x1 - A[4,1]*x2 - A[4,2]*x3 - A[4,3]*x4)/A[4,4]\n",
    "\n",
    "err = 10.\n",
    "while err>eps:\n",
    "#for k in range(5):\n",
    "    x[0] = x1(x[1],x[2],x[3],x[4])\n",
    "    x[1] = x2(x[0],x[2],x[3],x[4])\n",
    "    x[2] = x3(x[0],x[1],x[3],x[4])\n",
    "    x[3] = x4(x[0],x[1],x[2],x[4])\n",
    "    x[4] = x5(x[0],x[1],x[2],x[3])\n",
    "    err = np.amax(np.absolute(x-x_ant))/np.amax(np.absolute(x))   \n",
    "    print (\"(%.4f,\"%x[0],\"%.4f,\"%x[1],\"%.4f,\"%x[2],\"%.4f,\"%x[3],\"%.4f,)\"%x[4], \"err=\",err)\n",
    "    x_ant = np.copy(x)"
   ]
  },
  {
   "cell_type": "markdown",
   "metadata": {},
   "source": [
    "Na forma matricial, o método de Gauss-Seidel  pode ser escrito como\n",
    "\n",
    "$$\\left[\n",
    "    \\begin{array}{c} \n",
    "\t         x_1^{(k+1)} \\\\ \n",
    "\t         x_2^{(k+1)} \\\\\n",
    "             \\vdots\\\\\n",
    "\t         x_n^{(k+1)} \\\\\n",
    "\t\\end{array} \n",
    "\\right]\n",
    "=\n",
    "\\left[\\begin{array}{ccccc} \n",
    "\t         0                     & 0 & 0 & \\cdots & 0 \\\\ \n",
    "\t         -\\frac{a_{21}}{a_{22}} & 0 & 0 & \\cdots & 0 \\\\\n",
    "\t         \\vdots & \\vdots & \\vdots & \\vdots & \\vdots \\\\\n",
    "\t         -\\frac{a_{n1}}{a_{nn}} & -\\frac{a_{n2}}{a_{nn}} & \\cdots & -\\frac{a_{n \\,n-1}}{a_{nn}} & 0\\\\\n",
    "\t         \\end{array} \\right]\n",
    "             \\left[\n",
    "    \\begin{array}{c} \n",
    "\t         x_1^{(k+1)} \\\\ \n",
    "\t         x_2^{(k+1)} \\\\\n",
    "             \\vdots\\\\\n",
    "\t         x_n^{(k+1)} \\\\\n",
    "\t\\end{array} \n",
    "\\right]\n",
    "+\n",
    "\\left[\\begin{array}{ccccc} \n",
    "\t         0&  -\\frac{a_{12}}{a_{11}}& -\\frac{a_{13}}{a_{11}}& \\cdots &-\\frac{a_{1n}}{a_{11}} \\\\ \n",
    "\t         0& 0& -\\frac{a_{23}}{a_{22}} & \\cdots & -\\frac{a_{2n}}{a_{22}} \\\\\n",
    "\t         \\vdots & \\vdots & \\vdots & \\vdots & \\vdots \\\\\n",
    "\t         0& 0& 0& \\cdots& 0\\\\\n",
    "\t         \\end{array} \\right]\n",
    "\\left[\\begin{array}{c} \n",
    "\t         x_1^{(k)} \\\\ \n",
    "\t         x_2^{(k)} \\\\\n",
    "             \\vdots\\\\\n",
    "\t         x_n^{(k)} \\\\\n",
    "\t\\end{array} \\right]\n",
    "+\n",
    "\\left[ \\begin{array}{c} \n",
    "\t         \\frac{b_1}{a_{11}} \\\\ \n",
    "\t         \\frac{b_2}{a_{22}} \\\\\n",
    "             \\vdots\\\\\n",
    "\t         \\frac{b_n}{a_{nn}} \\\\\n",
    "\t\\end{array} \\right]$$\n"
   ]
  },
  {
   "cell_type": "markdown",
   "metadata": {},
   "source": [
    "ou \n",
    "$$ x^{(k+1)} = P x^{(k+1)} + Q x^{(k)} + g$$\n",
    "\n",
    "$$ (I-P)x^{(k+1)} = Q x^{(k)} + g$$\n",
    "\n",
    "$$ x^{(k+1)} = (I-P)^{-1}Q x^{(k)} + (I-P)^{-1}g$$\n",
    "\n",
    "Fazendo-se $H = (I-P)^{-1}Q$ e $g' =(I-P)^{-1}g$ o processo iterativo torna-se\n",
    "\n",
    "$$x^{(k+1)} = H x^{(k)} + g'$$"
   ]
  },
  {
   "cell_type": "markdown",
   "metadata": {
    "collapsed": true
   },
   "source": [
    "Agora usando operações vetoriais com Numpy"
   ]
  },
  {
   "cell_type": "code",
   "execution_count": null,
   "metadata": {},
   "outputs": [],
   "source": [
    "import numpy as np\n",
    "\n",
    "x = np.array([0.,0.,0.,0,0])\n",
    "x_ant = x.copy()\n",
    "eps = 0.001\n",
    "\n",
    "A = np.array([[5,1,2,1,-1],\n",
    "              [0,6,1,1,-1],\n",
    "              [0,1,-3,2,1],\n",
    "              [3,0,2,7,0],\n",
    "              [1,1,0,0,8]])\n",
    "b = np.array([1,2,0,2,1])\n",
    "\n",
    "n = len(A)\n",
    "for k in range(10):\n",
    "    for i in range(n):\n",
    "        x[i] = (b[i] - np.dot(A[i,0:i],x[0:i])-np.dot(A[i,i+1:n],x[i+1:n]))/A[i,i]\n",
    "\n",
    "print (np.round(x,4))\n",
    "    \n",
    "    \n",
    "    \n",
    "    \n",
    "    "
   ]
  },
  {
   "cell_type": "code",
   "execution_count": null,
   "metadata": {},
   "outputs": [],
   "source": [
    "from numpy.linalg import inv\n",
    "\n",
    "\n",
    "x = np.array([0.,0.,0.,0,0])\n",
    "\n",
    "eps = 0.001\n",
    "A = np.array([[5,1,2,1,-1],\n",
    "              [0,6,1,1,-1],\n",
    "              [0,1,-3,2,1],\n",
    "              [3,0,2,7,0],\n",
    "              [1,1,0,0,8]])\n",
    "b = np.array([1,2,0,2,1])\n",
    "\n",
    "n = len(A)\n",
    "P = np.zeros((n,n))\n",
    "Q = np.zeros((n,n))\n",
    "g = np.zeros(n)\n",
    "\n",
    "\n",
    "for i in range(n):\n",
    "    P[i,0:i] = -A[i,0:i]/A[i,i]\n",
    "    Q[i,i+1:n] = -A[i,i+1:n]/A[i,i]\n",
    "    g[i] = b[i]/A[i,i] \n",
    "    \n",
    "I = np.eye(n)\n",
    "H = np.dot(inv(I-P),Q)\n",
    "g = np.dot(inv(I-P),g)\n",
    "\n",
    "\n",
    "for k in range(10):\n",
    "    x = np.dot(H,x) + g\n",
    "    \n",
    "    print (np.round(x,4))\n",
    "\n"
   ]
  },
  {
   "cell_type": "markdown",
   "metadata": {
    "collapsed": true
   },
   "source": [
    "### Referências\n",
    "\n",
    "FRANCO, Neide Maria Bertoldi . Cálculo Numérico.  Pearson, 2006.\n",
    "\n",
    "KIUSALAAS, Jaan. Numerical Methods in Engineering with Python 3. Cambridge: University Press, 2013.\n",
    "\n",
    "RUGGIERO, M.A.G. & LOPES, V.L. Cálculo numérico: aspectos teóricos e computacionais. São Paulo: Makron Books, 1996.\n"
   ]
  },
  {
   "cell_type": "code",
   "execution_count": null,
   "metadata": {},
   "outputs": [],
   "source": []
  }
 ],
 "metadata": {
  "kernelspec": {
   "display_name": "Python 3",
   "language": "python",
   "name": "python3"
  },
  "language_info": {
   "codemirror_mode": {
    "name": "ipython",
    "version": 3
   },
   "file_extension": ".py",
   "mimetype": "text/x-python",
   "name": "python",
   "nbconvert_exporter": "python",
   "pygments_lexer": "ipython3",
   "version": "3.8.5"
  }
 },
 "nbformat": 4,
 "nbformat_minor": 1
}
