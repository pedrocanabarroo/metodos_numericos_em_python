{
 "cells": [
  {
   "cell_type": "markdown",
   "metadata": {},
   "source": [
    "## 3.3 Métodos de eliminação\n",
    "\n",
    "Os métodos diretos de eliminação consistem no processo \n",
    "de transformar um sistema de equações lineares $Ax=b$, em que $A= (a_{ij})_i,j=1,..,n$, \n",
    "$x=(x_1,x_2,...,x_n)^t$ e $b=(b_1, b_2,...,b_n)^t$, em um sistema equivalente, \n",
    "aplicando operações elementares sobre as linhas da matriz $(A,b)$.\n",
    "\n",
    "O sistema equivalente obtido ao final do processo, deve ser de \n",
    "resolução mais simples ou imediata, por substituição direta. No caso da eliminação de Gauss \n",
    "com pivoteamento diagonal ou pivoteamento parcial, obtém-se um sistema equivalente \n",
    "na forma triangular. No caso da eliminação de Gauss-Jordan o sistema equivalente \n",
    "obtido possui a matriz de coeficientes igual a matriz identidade.   \n",
    "\n",
    "\n",
    "Em geral, consideraremos neste texto, um sistema linear escrito na forma geral como  \n",
    "\n",
    "$$ \\begin{cases} \n",
    "\t         a_{11}x_1 +a_{12}x_2 + \\cdots + a_{1n}x_n = b_1\\\\ \n",
    "\t         a_{21}x_1 +a_{22}x_2 + \\cdots + a_{2n}x_n = b_2\\\\\n",
    "\t         \\vdots   \\\\\n",
    "\t         a_{n1}x_1 +a_{n2}x_2 + \\cdots + a_{nn}x_n = b_1\\\\\n",
    "\t         \\end{cases} $$\n",
    "             \n",
    "cuja forma forma matricial $Ax=b$ tem a seguinte representação\n",
    "            \n",
    "$$\\left[\\begin{array}{cccc} \n",
    "\t         a_{11} & a_{12} & \\cdots & a_{1n} \\\\ \n",
    "\t         a_{21} & a_{22} & \\cdots & a_{2n} \\\\\n",
    "\t         \\vdots & \\vdots & \\vdots & \\vdots \\\\\n",
    "\t         a_{n1} & a_{n2} & \\cdots & a_{nn} \\\\\n",
    "\t         \\end{array} \\right]\n",
    "\\left[\\begin{array}{c} \n",
    "\t         x_1 \\\\ \n",
    "\t         x_2 \\\\\n",
    "             \\vdots\\\\\n",
    "\t         x_n \\\\\n",
    "\t         \\end{array} \\right]\n",
    "=\n",
    "\\left[\\begin{array}{c} \n",
    "\t         b_1 \\\\ \n",
    "\t         b_2 \\\\\n",
    "             \\vdots\\\\\n",
    "\t         b_n \\\\\n",
    "\t         \\end{array} \\right]\n",
    "\t         $$\n",
    "\t         \n",
    "e a matriz aumentada $(A,b)$ é dada por  \n",
    "\n",
    "$$\\left[\\begin{array}{cccccc} \n",
    "\t         a_{11} & a_{12} & \\cdots & a_{1n} & | & b_1\\\\ \n",
    "\t         a_{21} & a_{22} & \\cdots & a_{2n} & | & b_2\\\\\n",
    "\t         \\vdots & \\vdots & \\vdots & \\vdots & | & \\vdots\\\\\n",
    "\t         a_{n1} & a_{n2} & \\cdots & a_{nn} & | & b_n\\\\\n",
    "\t         \\end{array} \\right]$$\n",
    "\t         "
   ]
  },
  {
   "cell_type": "markdown",
   "metadata": {},
   "source": [
    "\n",
    "\n",
    "O processo de **eliminação de Gauss** com pivoteamento diagonal consiste em transformar \n",
    "o sistema em um sistema equivalente triangular superior por meio de operações \n",
    "elementares sobre as linhas da matriz $(A,b)$ tomando, em cada passo, como pivô,\n",
    "os elementos da diadonal de $A$, desde que não seja nulo. Caso o algum elemento da \n",
    "diagonal seja nulo podemos permutar duas linhas da matriz a fim obter um pivô \n",
    "diferente de zero.\n",
    "\n",
    "Para cada passo $k$ do processo, anulamos os termos abaixo do \n",
    "elemento da diagonal $a_{kk}$, subtraindo cada linha $i=k+1$ da matriz $(A,b)$, \n",
    "pela linha linha anterior, $i=k$, multiplicada pelo fator $m_{ik}=\\frac{a_{ik}}{a_{kk}}$.\n",
    "\n",
    "Assim, no 1º passo ($k=1$), fazemos $m_{i1}=\\frac{a_{i1}}{a_{k1}}$, $i=2,...,n$ \n",
    "e cada linha de $(A,b)$, a partir da 2ª, será subtraída da 1ª linha multiplicada por\n",
    "$m_{k1}$ obtendo-se a matriz $(A^{(1)},b^{(1)})$ tal que\n",
    "\n",
    "\n",
    "$$(A^{(1)},b^{(1)}) = \\left[\\begin{array}{ccccccc} \n",
    "\t         a^{(1)}_{11} & a^{(1)}_{12} & a^{(1)}_{13} & \\cdots & a^{(1)}_{1n} & | & b^{(1)}_1\\\\ \n",
    "\t         0            & a^{(2)}_{22} & a^{(2)}_{23} & \\cdots & a^{(2)}_{2n} & | & b^{(2)}_2\\\\\n",
    "\t         0            & a^{(2)}_{32} & a^{(2)}_{33} & \\cdots & a^{(2)}_{3n} & | & b^{(2)}_3\\\\\n",
    "\t         \\vdots       & \\vdots       & \\vdots       & \\vdots & \\vdots       & | & \\vdots   \\\\\n",
    "\t         0            & a^{(2)}_{n2} & a^{(2)}_{n3} & \\cdots & a^{(2)}_{nn} & | & b^{(2)}_n\\\\\n",
    "\t         \\end{array} \\right]$$\n",
    "             \n",
    "\n",
    "No 2º passo ($k=2$), fazemos $m_{i2}=\\frac{a_{i2}}{a_{k2}}$, $i=3,...,n$ \n",
    "e cada linha de $(A^{(1)},b^{(1)})$, a partir da 3ª, será subtraída da 2ª linha multiplicada por\n",
    "$m_{k2}$ obtendo-se a matriz $(A^{(2)},b^{(2)})$ tal que\n",
    "\n",
    "$$(A^{(2)},b^{(2)}) = \\left[\\begin{array}{ccccccc} \n",
    "\t         a^{(1)}_{11} & a^{(1)}_{12} & a^{(1)}_{13} & \\cdots & a^{(1)}_{1n} & | & b^{(1)}_1\\\\ \n",
    "\t         0            & 0            & a^{(2)}_{23} & \\cdots & a^{(2)}_{2n} & | & b^{(2)}_2\\\\\n",
    "\t         0            & 0            & a^{(3)}_{33} & \\cdots & a^{(3)}_{3n} & | & b^{(3)}_3\\\\\n",
    "\t         \\vdots       & \\vdots       & \\vdots       & \\vdots & \\vdots       & | & \\vdots   \\\\\n",
    "\t         0            & 0            & a^{(3)}_{n3} & \\cdots & a^{(3)}_{nn} & | & b^{(3)}_n\\\\\n",
    "\t         \\end{array} \\right]$$\n",
    "\n",
    "Segundo os passos seguintes, até o passo $n-1$, obtemos ou sistema triangular superior na forma   \n",
    " \n",
    "$$ \\begin{cases} \n",
    "\t         a^{(1)}_{11}x_1 + a^{(1)}_{12}x_2 + a^{(1)}_{13}x_2 + \\cdots + a^{(1)}_{1n}x_n = b^{(1)}_1\\\\ \n",
    "             \\hspace{65px}     a^{(2)}_{22}x_2 + a^{(2)}_{23}x_2 + \\cdots + a^{(2)}_{2n}x_n = b^{(2)}_2\\\\ \n",
    "             \\hspace{65px}     \\hspace{65px}     a^{(3)}_{33}x_2 + \\cdots + a^{(3)}_{3n}x_n = b^{(3)}_3\\\\ \n",
    " \t         \\hspace{65px}     \\hspace{65px}      \\hspace{65px}     \\hspace{45px}      \\vdots   \\\\\n",
    "\t         \\hspace{65px}     \\hspace{65px}      \\hspace{65px}     \\hspace{45px}  a^{(n)}_{nn}x_n = b^{(n)}_n\\\\ \n",
    "\t         \\end{cases} $$\n",
    "\n",
    "O qual pode ser resolvido por substituição retroativa.\n",
    "\n"
   ]
  },
  {
   "cell_type": "markdown",
   "metadata": {},
   "source": [
    "**Exemplo 3.3.1:** Um exemplo de algoritmo para resolver sistemas lineares por eliminação de Gauss."
   ]
  },
  {
   "cell_type": "code",
   "execution_count": 1,
   "metadata": {},
   "outputs": [],
   "source": [
    "# funcao que triangulariza o sistema\n",
    "\n",
    "def triangulariza(M):\n",
    "    for j in range(n-1):\n",
    "        for i in range(j,n-1):\n",
    "            m = M[i+1,j]/M[j,j]\n",
    "            M[i+1] = M[i+1]-m*M[j]\n",
    "    return (M)"
   ]
  },
  {
   "cell_type": "code",
   "execution_count": 2,
   "metadata": {},
   "outputs": [
    {
     "name": "stdout",
     "output_type": "stream",
     "text": [
      "[[  3.           2.           4.           1.        ]\n",
      " [  0.           0.33333333   0.66666667   1.66666667]\n",
      " [  0.           0.          -4.         -24.        ]]\n"
     ]
    }
   ],
   "source": [
    "import numpy as np\n",
    "# chamando a fucao acima passando a matriz ampliada\n",
    "M = np.array([[3.,2.,4.,1.],\n",
    "              [1.,1.,2.,2.],\n",
    "              [-4.,3.,2.,3.]])\n",
    "n = len(M)\n",
    "\n",
    "M = triangulariza(M)\n",
    "print (M)"
   ]
  },
  {
   "cell_type": "code",
   "execution_count": 3,
   "metadata": {},
   "outputs": [
    {
     "name": "stdout",
     "output_type": "stream",
     "text": [
      "[[  1.    ]\n",
      " [  1.6667]\n",
      " [-24.    ]]\n",
      "[[ 3.      2.      4.    ]\n",
      " [ 0.      0.3333  0.6667]\n",
      " [ 0.      0.     -4.    ]]\n"
     ]
    }
   ],
   "source": [
    "# separa a matriz ampliada em duas\n",
    "b = M[0:n+1,n:n+1]       \n",
    "A = M[0:n+1,0:n]  \n",
    "\n",
    "print (np.round(b,4))\n",
    "print (np.round(A,4))"
   ]
  },
  {
   "cell_type": "code",
   "execution_count": 4,
   "metadata": {},
   "outputs": [
    {
     "name": "stdout",
     "output_type": "stream",
     "text": [
      "[array([-3.]), array([-7.]), array([6.])]\n"
     ]
    }
   ],
   "source": [
    "#funcao para resolver um sistema triangular superior\n",
    "def solve_U(U, y):\n",
    "    n = len(U)-1       #os indices correm de 0 ate n-1\n",
    "    xn = y[n]/U[n][n]\n",
    "\n",
    "    x = [0]*len(U)     # cria um vetor de zeros    \n",
    "    x[-1] = xn         # atribui xn na ultima posicao de x\n",
    "    \n",
    "    for i in range(n-1,-1,-1):\n",
    "        soma = 0\n",
    "        for j in range(i+1,n+1):\n",
    "            soma +=  U[i][j]*x[j]\n",
    "        xi = (y[i]-soma)/U[i][i]\n",
    "        x[i] = xi\n",
    "    return x\n",
    "\n",
    "print (solve_U(A,b))\n"
   ]
  },
  {
   "cell_type": "markdown",
   "metadata": {},
   "source": [
    "**Exemplo 3.3.2:**\n",
    "Um outro algoritmo para a eliminação de Gauss"
   ]
  },
  {
   "cell_type": "code",
   "execution_count": 5,
   "metadata": {},
   "outputs": [],
   "source": [
    "import numpy as np\n",
    "from numpy import dot\n",
    "def gaussElimin(a,b): \n",
    "    n = len(b) \n",
    "    for k in range(0,n-1): \n",
    "        for i in range(k+1,n): \n",
    "            if a[i][k] != 0.0: \n",
    "                lam = a [i][k]/a[k][k] \n",
    "                a[i][k+1:n] = a[i][k+1:n] - lam*a[k][k+1:n] \n",
    "                b[i] = b[i] - lam*b[k] \n",
    "    for k in range(n-1,-1,-1): \n",
    "        b[k] = (b[k] - dot(a[k][k+1:n],b[k+1:n]))/a[k][k] \n",
    "    return b"
   ]
  },
  {
   "cell_type": "code",
   "execution_count": 6,
   "metadata": {},
   "outputs": [
    {
     "name": "stdout",
     "output_type": "stream",
     "text": [
      "[-3. -7.  6.]\n"
     ]
    }
   ],
   "source": [
    "A = np.array([[3.,2.,4.],\n",
    "     [1.,1.,2.],\n",
    "     [-4.,3.,2.]])\n",
    "b = np.array([1., 2., 3.])\n",
    "\n",
    "print (gaussElimin(A,b))"
   ]
  },
  {
   "cell_type": "markdown",
   "metadata": {},
   "source": [
    "**Exemplo 3.3.3:**\n",
    "Novamente um algoritmo para a eliminação de Gauss, mas agora usando mais as operações vetoriais do módulo Numpy."
   ]
  },
  {
   "cell_type": "code",
   "execution_count": 7,
   "metadata": {},
   "outputs": [
    {
     "name": "stdout",
     "output_type": "stream",
     "text": [
      "[[ 3.      2.      4.    ]\n",
      " [ 0.      0.3333  0.6667]\n",
      " [ 0.      0.     -4.    ]] [  1.           1.66666667 -24.        ]\n"
     ]
    }
   ],
   "source": [
    "import numpy as np\n",
    "A = np.array([[3.,2.,4.],\n",
    "              [1.,1.,2.],\n",
    "              [-4.,3.,2.]])\n",
    "b = np.array([1., 2., 3.])\n",
    "\n",
    "n = len(b)\n",
    " \n",
    "\n",
    "for j in range(0,n):\n",
    "    for i in range(j+1,n):\n",
    "        mij = A[i,j]/A[j,j]\n",
    "        A[i] = A[i] - mij*A[j]\n",
    "        b[i] = b[i] - mij*b[j] \n",
    "print (np.round(A,4), b)\n",
    "              \n"
   ]
  },
  {
   "cell_type": "code",
   "execution_count": 8,
   "metadata": {},
   "outputs": [
    {
     "data": {
      "text/plain": [
       "[-3.0000000000000004, -7.000000000000001, 6.000000000000001]"
      ]
     },
     "execution_count": 8,
     "metadata": {},
     "output_type": "execute_result"
    }
   ],
   "source": [
    "solve_U(A,b)"
   ]
  },
  {
   "cell_type": "code",
   "execution_count": null,
   "metadata": {
    "collapsed": true,
    "jupyter": {
     "outputs_hidden": true
    }
   },
   "outputs": [],
   "source": []
  }
 ],
 "metadata": {
  "kernelspec": {
   "display_name": "Python 3 (ipykernel)",
   "language": "python",
   "name": "python3"
  },
  "language_info": {
   "codemirror_mode": {
    "name": "ipython",
    "version": 3
   },
   "file_extension": ".py",
   "mimetype": "text/x-python",
   "name": "python",
   "nbconvert_exporter": "python",
   "pygments_lexer": "ipython3",
   "version": "3.12.4"
  }
 },
 "nbformat": 4,
 "nbformat_minor": 4
}
