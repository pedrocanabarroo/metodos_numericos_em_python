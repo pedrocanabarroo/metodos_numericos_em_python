{
 "cells": [
  {
   "cell_type": "markdown",
   "metadata": {},
   "source": [
    "# 2.2 Métodos de decomposição\n",
    "\n",
    "## 2.2.1 Decomposição LU\n",
    "\n",
    "A decomposição $LU$ consiste no processo de fatorar uma matriz quadrada $A$ em um produto de duas matrizes triangulares: uma matriz triangular superior $U$ e uma matriz triangular inferior $L$. \n",
    "\n",
    "É especialmente útil em problemas que envolvem a resolução de múltiplos sistemas lineares do tipo $Ax=b$ em que a matriz dos coeficientes $A = (a_{ij})_{n \\times n}$ permanece inalterada e o vetor de termos independentes $b = (b_1, b_2,...,b_n)^T$ muda. \n",
    "\n",
    "Assim, em muitos casos é útil escrever $A=LU$, em que \n",
    "\n",
    "\n",
    "$ L = \\left[\\begin{array}{cccc} \n",
    "\t         1      & 0      & \\cdots & 0      \\\\ \n",
    "\t         l_{21} & 1      & \\cdots & 0      \\\\\n",
    "\t         \\vdots & \\vdots & \\vdots & \\vdots \\\\\n",
    "\t         l_{n1} & l_{n2} & \\cdots & 1 \\\\\n",
    "\t         \\end{array} \\right]$ e \n",
    "$ U = \\left[\\begin{array}{cccc} \n",
    "\t         u_{11} & u_{12} & \\cdots & u_{1n} \\\\ \n",
    "\t         0      & u_{22} & \\cdots & u_{2n} \\\\\n",
    "\t         \\vdots & \\vdots & \\vdots & \\vdots \\\\\n",
    "\t         0      & 0      & \\cdots & u_{nn} \\\\\n",
    "\t         \\end{array} \\right].$\n",
    "\n",
    "O método de eliminação Gauss também pode ser usado, mas requer o escalonamento da matriz ampliada para cada novo sistema linear a ser resolvido, mesmo quando a matriz dos coeficientes $A$ permanece inalterada. \n",
    "\n",
    "Utilizando a decomplosição $LU$, para resolver um novo sistema, que possui a mesma matriz $A$ mas um vetor $b$, diferente, basta resolver dois sistemas triangulares o que, em geral, demanda menor esforço computacional. \n",
    "\n",
    "Então, para a resolução do sistema $Ax=b$, em que $A=LU$, fazemos \n",
    "\n",
    "$$Ax=b$$\n",
    "\n",
    "$$(LU)x=b$$\n",
    "\n",
    "$$L(Ux)=b$$\n",
    "\n",
    "fazemos $Ux=y$ e resolvemos o sistema triangular $Ly=b$, obtendo a solução $y = (y_1,...,y_n)^T$. Em seguida resolvemos o sistema triangular $Ux=y$, obtendo a solução procurada $x = (x_1,...,x_n)^T$, do sistema $Ax=b$."
   ]
  },
  {
   "cell_type": "markdown",
   "metadata": {},
   "source": [
    "## Exemplo 1\n",
    "\n",
    "Considere a matriz \n",
    "$A = \\left[\\begin{array}{ccc} \n",
    "\t         3 & 2 & 4 \\\\ \n",
    "\t         1 & 1 & 2 \\\\\n",
    "\t         4 & 3 & 2 \\\\\n",
    "\t         \\end{array} \\right]$ \n",
    "\t         \n",
    "\t     \n",
    "Podemos proceder o escalonamento da matriz $A$, primeiramente, subtraindo da 2ª linha a 1ª linha multiplicada por $m_{21}=\\frac{a_{21}}{a_{11}}=\\frac{1}{3}$ e da 3ª linha a 1ª linha multiplicada por $m_{31}=\\frac{a_{31}}{a_{11}}=\\frac{4}{3}$, obtendo-se a matriz \n",
    "$$A'= \\left[\\begin{array}{ccc} \n",
    "\t         3 & 2   & 4 \\\\ \n",
    "\t         0 & 1/3 & 2/3 \\\\\n",
    "\t         0 & 1/3 & -10/3 \\\\\n",
    "\t         \\end{array} \\right]$$\t         \n",
    "Essas operações são equivalentes a multiplicar a matriz $A$ pela matriz \n",
    "$$M_1 = \\left[\\begin{array}{ccc} \n",
    "\t         1       & 0 & 0 \\\\ \n",
    "\t         -m_{21} & 1 & 0 \\\\\n",
    "\t         -m_{31} & 0 & 1 \\\\\n",
    "\t         \\end{array} \\right].$$\n",
    "Em seguida, completamos o escalonamento subtraindo da 3ª linha de  $A'$ a 2ª linha dessa matriz multiplicada por $m_{32}=\\frac{a_{32}}{a_{22}}=\\frac{1/3}{1/3}=1$. Obtendo-se a matriz \n",
    "$$A''=  \\left[\\begin{array}{ccc} \n",
    "\t         3 & 2   & 4 \\\\ \n",
    "\t         0 & 1/3 & 2/3 \\\\\n",
    "\t         0 & 0   & -4 \\\\\n",
    "\t         \\end{array} \\right]$$\n",
    "Essas operações são equivalentes a multiplicar a matriz $A'$ pela matriz \n",
    "$$M_2 = \\left[\\begin{array}{ccc} \n",
    "\t         1 & 0       & 0 \\\\ \n",
    "\t         0 & 1       & 0 \\\\\n",
    "\t         0 & -m_{32} & 1 \\\\\n",
    "\t         \\end{array} \\right]$$\n",
    "Assim, a partir da matriz $A$, podemos obter a matriz $A''$ fazendo $M_2(M_1A)=A''$. Além disso, supondo que $M_1$ e $M_2$ são invertíveis, podemos escrever $A= M_1^{-1}M_2^{-1}A''$.\n",
    "\n",
    "É fácil verificar que  \n",
    "$$M_1^{-1}M_2^{-1}=\t \\left[\\begin{array}{ccc} \n",
    "\t         1      & 0      & 0 \\\\ \n",
    "\t         m_{21} & 1      & 0 \\\\\n",
    "\t         m_{31} & m_{32} & 1 \\\\\n",
    "\t         \\end{array} \\right]=\\left[\\begin{array}{ccc} \n",
    "\t         1      & 0      & 0 \\\\ \n",
    "\t         1/3    & 1      & 0 \\\\\n",
    "\t         4/3    & 1      & 1 \\\\\n",
    "\t         \\end{array} \\right]$$             \n",
    "Por fim, escrevendo $L = M_1^{-1}M_2^{-1}$ e $U=A''$, temos a decomposição da matriz $A$ no produto de uma matriz triangular inferior $L$ por uma matriz triangular superior $U$."
   ]
  },
  {
   "cell_type": "markdown",
   "metadata": {},
   "source": [
    "### Teorema\n",
    "Seja $A = (a_{ij})$ com $i,j = 1,2,...,n$. Se os menores principais $\\Delta_i$, $i = 1,2,...,n$  de $A$ forem todos diferentes de zero, ou seja, se $\\Delta_i \\neq 0$ em que $\\Delta_i = det(A_i)$ onde $A_i$,  $i = 1,2,...,n$, são matrizes formadas pelas $i$ primeiras linhas e $i$ primeiras colunas de $A$. Então, $A$ se decompõe de maneira única em em um produto de uma matriz triangular inferior $L = (l_{ij})$, $i,j = 1,2,...,n$, com $l_{ii} = 1$, por uma matriz triangular superior $U=(u_{ij})$,$i,j = 1,2,...,n$, ou seja, $A = LU$. Além disso, $det(A) = det(U)$.\n",
    "\n"
   ]
  },
  {
   "cell_type": "markdown",
   "metadata": {},
   "source": [
    "## Exemplo 2\n",
    "\n",
    "Considere o sistema linear \n",
    "\n",
    "$$ \\begin{cases} \n",
    "\t         3x_1 + 2x_2 + 4x_3 = 1\\\\ \n",
    "\t         x_1  + x_2  + 2x_3 = 2\\\\\n",
    "\t         4x_1 + 3x_2 + 2x_3 = 3\n",
    "\t         \\end{cases} $$\n",
    "             \n",
    "Sabemos, do exemplo anterior que a matriz dos coeficientes $A$ pode ser decomposta em um produto de matrizes triangular inferior $L$ e superior $U$, como segue\n",
    "\n",
    "$$\\left[\\begin{array}{ccc} \n",
    "\t         3 & 2 & 4 \\\\ \n",
    "\t         1 & 1 & 2 \\\\\n",
    "\t         4 & 3 & 2 \\\\\n",
    "\t         \\end{array} \\right]=\\left[\\begin{array}{ccc} \n",
    "\t         3 & 2   & 4 \\\\ \n",
    "\t         0 & 1/3 & 2/3 \\\\\n",
    "\t         0 & 0   & -4 \\\\\n",
    "\t         \\end{array} \\right]\n",
    "\t        \\left[\\begin{array}{ccc} \n",
    "\t         1      & 0      & 0 \\\\ \n",
    "\t         1/3    & 1      & 0 \\\\\n",
    "\t         4/3    & 1      & 1 \\\\\n",
    "\t         \\end{array} \\right]$$\n",
    "             \n",
    "Fazendo $Ux=y$ e resolvendo o sistema triangular $Ly=b$ para $y$, obtemos \n",
    "\n",
    "$$\\left[\\begin{array}{ccc} \n",
    "\t         1      & 0      & 0 \\\\ \n",
    "\t         1/3    & 1      & 0 \\\\\n",
    "\t         4/3    & 1      & 1 \\\\\n",
    "\t         \\end{array} \\right] \n",
    "\\left[\\begin{array}{c} \n",
    "\t         y_1 \\\\ \n",
    "\t         y_2 \\\\\n",
    "\t         y_3 \\\\\n",
    "\t         \\end{array} \\right]=\\left[\\begin{array}{c} \n",
    "\t         1 \\\\ \n",
    "\t         2 \\\\\n",
    "\t         3 \\\\\n",
    "\t         \\end{array} \\right]$$\n",
    "\n",
    "que fornece $y_1 = 1$, $y_2 = \\frac{5}{3}$ e $y_3=0$. \n",
    "\n",
    "Agora, escrevemos o sistema $Ux=y$ como\n",
    "\n",
    "$$\\left[\\begin{array}{ccc} \n",
    "\t         3 & 2   & 4 \\\\ \n",
    "\t         0 & 1/3 & 2/3 \\\\\n",
    "\t         0 & 0   & -4 \\\\\n",
    "\t         \\end{array} \\right]\n",
    "\\left[\\begin{array}{c} \n",
    "\t         x_1 \\\\ \n",
    "\t         x_2 \\\\\n",
    "\t         x_3 \\\\\n",
    "\t         \\end{array} \\right]=\\left[\\begin{array}{c} \n",
    "\t         1 \\\\ \n",
    "\t         5/3 \\\\\n",
    "\t         0 \\\\\n",
    "\t         \\end{array} \\right]$$\n",
    "             \n",
    "cuja solução é $x_1 = -3$, $x_2 = 5$ e $x_3=0$, ou \n",
    "$$x = (-3, 5, 0)^T$$ "
   ]
  },
  {
   "cell_type": "markdown",
   "metadata": {},
   "source": [
    "### Algoritmo para resolução de sistemas triangulares\n",
    "\n",
    "**Sistema triangular inferior**\n",
    "\n",
    "Um sistema triangular inferior $Ax=b$ com coeficientes $(a_{ij})=0$ para $i<j$ e $a_{ij} \\neq 0$, $i=0,1,...,n$ é representado por\n",
    "$$ \\begin{cases} \n",
    "\t         a_{11}x_1 = b_1\\\\\n",
    "\t         a_{21}x_1 + a_{22}x_2 = b_2\\\\\n",
    "\t         a_{31}x_1 + a_{32}x_2 + a_{33}x_3= b_3\\\\\n",
    "\t         \\vdots \\\\\n",
    "\t         a_{n1}x_1 + a_{n2}x_2 + a_{33}x_3 + \\cdots + a_{nn}x_n= b_n\\\\\n",
    "\t         \\end{cases} $$\n",
    "pode ser resolvido usando o seguinte algoritmo:\n",
    "$$ x_1 = b_1/a_{11}$$\n",
    "para $i=2,3...,n$, faça\n",
    "$$ x_i = \\frac{b_i- \\sum\\limits_{j=1}^{(i-1)} a_{ij}x_j}{a_{ii}}$$\t         \n",
    "\t         \n"
   ]
  },
  {
   "cell_type": "markdown",
   "metadata": {},
   "source": [
    "## Exemplo 3\n",
    "Usando apenas funções do Python (sem usar funções do Numpy), um código que implementa esse algoritmo mostrado abaixo:"
   ]
  },
  {
   "cell_type": "code",
   "execution_count": 1,
   "metadata": {
    "collapsed": true
   },
   "outputs": [],
   "source": [
    "#funcao para resolver um sistema triangula inferior L usando Numpy\n",
    "import numpy as np\n",
    "\n",
    "def solve_L(L, b):\n",
    "    \n",
    "    x1 = b[0]/L[0][0]\n",
    "    x = [x1]\n",
    "    for i in range(1,len(L)):\n",
    "        soma = 0\n",
    "        for j in range(0,i):\n",
    "            soma +=  L[i][j]*x[j]\n",
    "        x.append((b[i]-soma)/L[i][i])\n",
    "    return x"
   ]
  },
  {
   "cell_type": "code",
   "execution_count": 2,
   "metadata": {
    "collapsed": false
   },
   "outputs": [
    {
     "name": "stdout",
     "output_type": "stream",
     "text": [
      "solução: [1.0, -1.0, 0.0]\n"
     ]
    }
   ],
   "source": [
    "# exemplo de uso chamando a funcao \n",
    "A = np.array([[2,0,0],\n",
    "              [1,4,0],\n",
    "              [1,1,1]])\n",
    "\n",
    "B = np.array([2, -3, 0])\n",
    "\n",
    "x = solve_L(A,B)\n",
    "\n",
    "print (\"solução:\", x)"
   ]
  },
  {
   "cell_type": "markdown",
   "metadata": {},
   "source": [
    "## Exemplo 4\n",
    "Agora usando funções do Numpy "
   ]
  },
  {
   "cell_type": "code",
   "execution_count": 3,
   "metadata": {
    "collapsed": true,
    "scrolled": true
   },
   "outputs": [],
   "source": [
    "#funcao para resolver um sistema triangula inferior L\n",
    "def solve_L(L, b):\n",
    "    x = np.copy(b)\n",
    "    for i in range(len(b)):\n",
    "        x[i] = (b[i]-np.sum(L[i,0:i]*x[0:i]))/L[i,i]             \n",
    "    return x"
   ]
  },
  {
   "cell_type": "code",
   "execution_count": 4,
   "metadata": {
    "collapsed": false
   },
   "outputs": [
    {
     "name": "stdout",
     "output_type": "stream",
     "text": [
      "solução: [ 1 -1  0]\n"
     ]
    }
   ],
   "source": [
    "# exemplo de uso chamando a funcao \n",
    "A = np.array([[2,0,0],\n",
    "              [1,4,0],\n",
    "              [1,1,1]])\n",
    "\n",
    "B = np.array([2, -3, 0])\n",
    "\n",
    "x = solve_L(A,B)\n",
    "\n",
    "print (\"solução:\", x)"
   ]
  },
  {
   "cell_type": "markdown",
   "metadata": {},
   "source": [
    "**Sistema triangular superior**\n",
    "\n",
    "Um sistema triangular superior $Ax=b$ com coeficientes $(a_{ij})=0$ para $i>j$ e $a_{ij} \\neq 0$, $i=0,1,...,n$ é representado por\n",
    "$$ \\begin{cases} \n",
    "\t         a_{21}x_1 + a_{22}x_2 + a_{23}x_3 + \\cdots + a_{2n}x_n = b_1\\\\\n",
    "\t         a_{22}x_2 + a_{23}x_3 + \\cdots + a_{2n}x_n = b_2\\\\\n",
    "\t         a_{33}x_3 + \\cdots + a_{3n}x_n = b_3\\\\\n",
    "\t         \\vdots \\\\\n",
    "\t         a_{nn}x_n= b_n\\\\\n",
    "\t         \\end{cases} $$\n",
    "pode ser resolvido usando o seguinte algoritmo:\n",
    "$$ x_n = b_n/a_{nn}$$\n",
    "para $i=(n-1), (n-2),...,1$, faça\n",
    "$$ x_i = \\frac{b_i- \\sum\\limits_{j=i+1}^{(n)} a_{ij}x_j}{a_{ii}}$$\t\n",
    "\n",
    "Usando Python, um código que implementan esse algoritmo em uma função, é mostrada abaixo:"
   ]
  },
  {
   "cell_type": "code",
   "execution_count": 5,
   "metadata": {
    "collapsed": true
   },
   "outputs": [],
   "source": [
    "#funcao para resolver um sistema triangula superior U\n",
    "def solve_U(A, b):\n",
    "    n = len(A)-1       #os indices correm de 0 ate n-1\n",
    "    xn = b[n]/A[n][n]\n",
    "\n",
    "    x = [0]*len(A)     # cria um vetor de zeros    \n",
    "    x[-1] = xn         # atribui xn na ultima posicao de x\n",
    "    \n",
    "    for i in range(n-1,-1,-1):\n",
    "        soma = 0\n",
    "        for j in range(i+1,n+1):\n",
    "            soma +=  A[i][j]*x[j]\n",
    "        xi = (b[i]-soma)/A[i][i]\n",
    "        x[i] = xi\n",
    "    return x"
   ]
  },
  {
   "cell_type": "markdown",
   "metadata": {},
   "source": [
    "Para executar a função, basta entrar com a matriz $A$ e o vetor $b$, como é mostrado a seguir:"
   ]
  },
  {
   "cell_type": "code",
   "execution_count": 6,
   "metadata": {
    "collapsed": true
   },
   "outputs": [],
   "source": [
    "L = [[3,1,0], [0,2,-1], [0,0,3]] \n",
    "b = [4,2,0]\n",
    "S = solve_U(L, b)"
   ]
  },
  {
   "cell_type": "markdown",
   "metadata": {},
   "source": [
    "###  Fatoração LU pelo processo Redução de Doolittle\n",
    "Considere a fatoração da matriz $A = (a_{ij})_{i,j=1,...,n}$ nas matrizes $L = (l_{ij})_{i,j=1,...,n}$ e $U = (u_{ij})_{i,j=1,...,n}$ como é mostrado a seguir\n",
    "\n",
    "$$\\left[\\begin{array}{cccc} \n",
    "\t         1      & 0      & \\cdots & 0      \\\\ \n",
    "\t         l_{21} & 1      & \\cdots & 0      \\\\\n",
    "\t         \\vdots & \\vdots & \\vdots & \\vdots \\\\\n",
    "\t         l_{n1} & l_{n2} & \\cdots & 1 \\\\\n",
    "\t         \\end{array} \\right] \n",
    "\\left[\\begin{array}{cccc} \n",
    "\t         u_{11} & u_{12} & \\cdots & u_{1n} \\\\ \n",
    "\t         0      & u_{22} & \\cdots & u_{2n} \\\\\n",
    "\t         \\vdots & \\vdots & \\vdots & \\vdots \\\\\n",
    "\t         0      & 0      & \\cdots & u_{nn} \\\\\n",
    "\t         \\end{array} \\right]\n",
    "\t         =\n",
    "\\left[\\begin{array}{cccc} \n",
    "\t         a_{11} & a_{12} & \\cdots & a_{1n} \\\\ \n",
    "\t         a_{21} & a_{22} & \\cdots & a_{2n} \\\\\n",
    "\t         \\vdots & \\vdots & \\vdots & \\vdots \\\\\n",
    "\t         a_{n1} & a_{n2} & \\cdots & a_{nn} \\\\\n",
    "\t         \\end{array} \\right]$$\n",
    "\n",
    "o processo de múltiplicação de matrizes nos leva às seguintes equações, que fornecem a primeira linha da matriz $U$: $u_{11}=a_{11}$, $u_{12}=a_{12}$, $u_{12}=a_{12}$,..., $u_{1n}=a_{1n}$. Seguindo o procedimento de multiplicar matrizes, podemos encontrar a 1ª coluna da matriz $L$: $l_{21}=a_{21}/u_{11}$, $l_{31}=a_{31}/u_{11}$,..., $u_{n1}=a_{n1}/u_{11}$. Continuando o processo para a 2ª linha de $U$, 2ª coluna de $L$, 3ª linha de $U$, 3ª coluna de $L$, e assim por diante, chegamos nas seguintes fórmulas:\n",
    "$$u_{ij}=a_{ij}-\\sum\\limits_{k=1}^{i-1}l_{ik}u_{kj} \\qquad i,j=1,...,n$$\n",
    "e\n",
    "$$l_{ij}=\\frac{a_{ij}-\\sum\\limits_{k=1}^{j-1}l_{ik}u_{kj}}{ujj} \\qquad i,j=1,...,n$$"
   ]
  },
  {
   "cell_type": "markdown",
   "metadata": {},
   "source": [
    "## Exemplo 5\n",
    "Exemplo de programa como função para fatorar uma matriz A em uma matriz triangular inferior L e uma matriz triangular superior U pelo processo Redução de Doolittle (Nesse exemplo são usadas apenas as funções da biblioteca padrão do Python, sem usar o módulos numéricos Numpy)."
   ]
  },
  {
   "cell_type": "code",
   "execution_count": 7,
   "metadata": {
    "collapsed": true
   },
   "outputs": [],
   "source": [
    "#funcao fatorar uma matriz A em um produto LU\n",
    "def factor_LU(A):\n",
    "    n = len(A)     \n",
    "    U=[]  # cria uma lista vazia\n",
    "    L=[]  # cria uma lista vazia\n",
    "    for i in range(n):\n",
    "        U.append([0]*n) # preenche a matriz com zeros\n",
    "        L.append([0]*n) # preenche a matriz com zeros\n",
    "    \n",
    "    for m in range(n):\n",
    "        L[m][m] = 1\n",
    "        \n",
    "        soma = 0    \n",
    "        for k in range(n):\n",
    "            soma +=  L[m][k]*U[k][m]\n",
    "        U[m][m] = A[m][m]-soma   \n",
    "        \n",
    "        for j in range(m,n):\n",
    "            soma = 0\n",
    "            for k in range(m):\n",
    "                soma +=  L[m][k]*U[k][j]\n",
    "            U[m][j] = A[m][j]-soma\n",
    "        \n",
    "        for i in range(m+1,n):\n",
    "            soma = 0\n",
    "            for k in range(m+1):\n",
    "                soma +=  L[i][k]*U[k][m]\n",
    "            L[i][m] = (A[i][m]-soma)/U[m][m]\n",
    "\n",
    "    return L,U"
   ]
  },
  {
   "cell_type": "code",
   "execution_count": 8,
   "metadata": {
    "collapsed": false
   },
   "outputs": [
    {
     "name": "stdout",
     "output_type": "stream",
     "text": [
      "Matriz L:\n",
      "[[1, 0, 0], [0.0, 1, 0], [0.5, 0.5, 1]]\n",
      "Matriz U:\n",
      "[[2, 0, 1], [0, 2.0, 1.0], [0, 0, 2.0]]\n"
     ]
    }
   ],
   "source": [
    "A = np.array([[2,0,1],[0,2,1],[1,1,3]])\n",
    "L,U = factor_LU(A)\n",
    "\n",
    "print (\"Matriz L:\")\n",
    "print (L)\n",
    "print (\"Matriz U:\")\n",
    "print(U)"
   ]
  },
  {
   "cell_type": "markdown",
   "metadata": {},
   "source": [
    "## Exemplo 6\n",
    "Neste exemplo também é apresentada uma função para fatorar uma matriz A em uma matriz triangular inferior L e uma matriz triangular superior U pelo processo Redução de Doolittle, mas agora são usadas funções do módulos numéricos Numpy para relizar as operações de modo vetorial."
   ]
  },
  {
   "cell_type": "code",
   "execution_count": 9,
   "metadata": {
    "collapsed": true
   },
   "outputs": [],
   "source": [
    "# usando numpy e vetorização das operacoes\n",
    "import numpy as np\n",
    "\n",
    "def fatoracao_LU(A):\n",
    "    n = len(A)     \n",
    "    U = np.zeros((n,n))\n",
    "    L = np.identity(n)\n",
    "    for m in range(n):\n",
    "        for j in range(m, n):\n",
    "            U[m,j] = A[m,j] - np.sum(L[m,0:m] * U[0:m,j])\n",
    "        for i in range(m+1, n):\n",
    "            L[i,m] = (A[i,m] - np.sum(L[i,0:m] * U[0:m,m]))/U[m,m]\n",
    "    return L,U"
   ]
  },
  {
   "cell_type": "code",
   "execution_count": 10,
   "metadata": {
    "collapsed": false
   },
   "outputs": [
    {
     "name": "stdout",
     "output_type": "stream",
     "text": [
      "Matriz L:\n",
      "[[ 1.   0.   0. ]\n",
      " [ 0.   1.   0. ]\n",
      " [ 0.5  0.5  1. ]]\n",
      "Matriz U:\n",
      "[[ 2.  0.  1.]\n",
      " [ 0.  2.  1.]\n",
      " [ 0.  0.  2.]]\n"
     ]
    }
   ],
   "source": [
    "A = np.array([[2,0,1],[0,2,1],[1,1,3]])\n",
    "L,U = fatoracao_LU(A)\n",
    "\n",
    "print (\"Matriz L:\")\n",
    "print (np.array(L))\n",
    "print (\"Matriz U:\")\n",
    "print(np.array(U))"
   ]
  },
  {
   "cell_type": "markdown",
   "metadata": {},
   "source": [
    "## Fatoração LU com estratégia de pivoteamento parcial\n",
    "\n",
    "A estratégia de pivoteamento consiste em permutar linhas de uma matriz com a intensão de reduzir erros numéricos \n",
    "escolhendo o melhor pivô para a operação de escalonamento. \n",
    "\n",
    "A permutação de duas linhas de uma matriz $A$ pode ser realizada multiplicando-se uma matriz de permutação $P$ pela matriz $A$. A matriz de permutação é obtida permutando-se duas linhas da matriz identidade $I$. A permutação de linhas realizadas na matriz $I$ para obter a matriz $P$ é a mesma que será efetuada na matriz $A$ pelo produto $PA$. "
   ]
  },
  {
   "cell_type": "markdown",
   "metadata": {},
   "source": [
    "### Exemplo:\n",
    "Sejam \n",
    "       $ P= \\left[\\begin{array}{ccc} \n",
    "\t         0 &  1 &  0 \\\\ \n",
    "\t         0 &  0 &  1 \\\\\n",
    "\t         1 &  0 &  0 \\\\\n",
    "\t         \\end{array} \\right]$ \n",
    "             e\n",
    "       $ A = \\left[\\begin{array}{ccc} \n",
    "\t         3 &  1 &  4 \\\\ \n",
    "\t         1 &  5 &  9 \\\\\n",
    "\t         2 &  6 &  5 \\\\\n",
    "\t         \\end{array} \\right]$. Vamos encontrar o produto $PA$."
   ]
  },
  {
   "cell_type": "code",
   "execution_count": 11,
   "metadata": {
    "collapsed": false
   },
   "outputs": [
    {
     "name": "stdout",
     "output_type": "stream",
     "text": [
      "[[1 5 9]\n",
      " [2 6 5]\n",
      " [3 1 4]]\n"
     ]
    }
   ],
   "source": [
    "import numpy.linalg \n",
    "\n",
    "A = numpy.array([[3,1,4],[1,5,9],[2,6,5]])\n",
    "P = numpy.array([[0,1,0],[0,0,1],[1,0,0]])\n",
    "\n",
    "print(numpy.dot(P,A))\n"
   ]
  },
  {
   "cell_type": "markdown",
   "metadata": {},
   "source": [
    "Ao resolver um sistema linear $Ax=b$ usando fatoração LU com estratégia de pivoteamento parcial, é importante lembrar de \n",
    "multiplicar o vetor $b$ pelo produto das matrizes de permutação utilizadas em cada etapa do escalonamento da \n",
    "matriz $A$ para a obtenção da matriz $U$. Pois cada vez que realizamod uma operação sobre as linhas da matriz, estamos realizando as operações sobre as equações do sistema, incluindo, portanto, o vetor **b** de termos independentes."
   ]
  },
  {
   "cell_type": "code",
   "execution_count": null,
   "metadata": {
    "collapsed": true
   },
   "outputs": [],
   "source": []
  },
  {
   "cell_type": "markdown",
   "metadata": {},
   "source": [
    "### EXEMPLO 7\n",
    "**Resolução de sistema linear usando fatoração LU com estratégia de pivoteamento parcial**\n",
    "\n",
    "Considere o sistema linear \n",
    "$$ \\begin{cases} \n",
    "\t         3x_1 -4x_2 + x_3 = 9\\\\ \n",
    "\t         x_1  + 2x_2  + 2x_3 = 3\\\\\n",
    "\t         4x_1 -3x_3 = -2\n",
    "\t         \\end{cases} $$\n",
    "então a matriz dos coeficientes é \n",
    "$$A = \\left[\\begin{array}{ccc} \n",
    "\t         3 & -4 &  1 \\\\ \n",
    "\t         1 &  2 &  2 \\\\\n",
    "\t         4 &  0 & -3 \\\\\n",
    "\t         \\end{array} \\right]$$"
   ]
  },
  {
   "cell_type": "markdown",
   "metadata": {},
   "source": [
    "O maior elemento em módulo (pivô) da primeira coluna pertence à 3ª linha, assim, permutamos a 1ª e a 3ª linha de $A$, por meio da pré multiplicação pela matriz de permutação $P^{(0)}$, tem-se \n",
    "\n",
    "$$A' = P^{(0)}A=  \\left[\\begin{array}{ccc} \n",
    "\t         0 &  0 &  1 \\\\ \n",
    "\t         0 &  1 &  0 \\\\\n",
    "\t         1 &  0 &  1 \\\\\n",
    "\t         \\end{array} \\right]\n",
    "             \\left[\\begin{array}{ccc} \n",
    "\t         3 & -4 &  1 \\\\ \n",
    "\t         1 &  2 &  2 \\\\\n",
    "\t         4 &  0 & -3 \\\\\n",
    "\t         \\end{array} \\right]=\n",
    "\t         \\left[\\begin{array}{ccc} \n",
    "\t\t\t 4 &  0 & -3 \\\\\n",
    "\t         1 &  2 &  2 \\\\\n",
    "\t         3 & -4 &  1 \\\\\n",
    "\t         \\end{array} \\right]$$\n",
    "\n",
    "\t        "
   ]
  },
  {
   "cell_type": "markdown",
   "metadata": {},
   "source": [
    "Procedemos o escalonamento da matriz $A'$, primeiramente, subtraindo da 2ª linha a 1ª linha multiplicada por $m_{21}=\\frac{a_{21}}{a_{11}}=\\frac{1}{4}$ e da 3ª linha a 1ª linha multiplicada por $m_{31}=\\frac{a_{31}}{a_{11}}=\\frac{3}{4}$. Essas operações são equivalentes a multiplicar a matriz  \n",
    "$$M_1 = \\left[\\begin{array}{ccc} \n",
    "\t         1       &   0 &  0 \\\\ \n",
    "\t         -m_{21} &   1 &  0 \\\\\n",
    "\t         -m_{31} &   0 &  1 \\\\\n",
    "\t         \\end{array} \\right]$$\n",
    "pela matriz $A'$, como segue\n",
    "\n",
    "$$  A'' = M_1 A' = \n",
    "       \\left[\\begin{array}{ccc} \n",
    "\t         1       &   0 &  0 \\\\ \n",
    "\t         -1/4 &   1 &  0 \\\\\n",
    "\t         -3/4 &   0 &  1 \\\\\n",
    "\t         \\end{array} \\right]\n",
    "       \\left[\\begin{array}{ccc} \n",
    "\t\t\t 4 &  0 & -3 \\\\\n",
    "\t         1 &  2 &  2 \\\\\n",
    "\t         3 & -4 &  1 \\\\\n",
    "\t         \\end{array} \\right]=            \n",
    "       \\left[\\begin{array}{ccc} \n",
    "\t         4 &   0 &   -3   \\\\ \n",
    "\t         0 &   2 &  11/4 \\\\\n",
    "\t         0 &  -4 &  13/4 \\\\\n",
    "\t         \\end{array} \\right]$$\n",
    "\n",
    "Armazenamos, então os valores na matriz $A^{(1)}$ com os multiplicadores $m_{31}$ e $m_{21}$ (representados em negrito) no lugar dos zeros da matriz\n",
    "\n",
    "$$A^{(1)} = \\left[\\begin{array}{ccc}\n",
    "\t         4             &  0 &   -3  \\\\\n",
    "\t         \\mathbf{1/4}  &  2 &  11/4 \\\\\n",
    "\t         \\mathbf{3/4}  & -4 &  13/4 \\\\\n",
    "\t         \\end{array} \\right]$$"
   ]
  },
  {
   "cell_type": "markdown",
   "metadata": {},
   "source": [
    "O pivô da segunda coluna e abaixo da 1ª linha de $A^{(1)}$, pertence à 3ª linha, assim, permutamos a 2ª e a 3ª linha de $A^{(1)}$ pré multiplicando-a pela matriz de permutação $P^{(1)}$ tal que \n",
    "\n",
    "$$P^{(1)}A^{(1)}= \\left[\\begin{array}{ccc} \n",
    "\t         1 &  0 &  0 \\\\ \n",
    "\t         0 &  0 &  1 \\\\\n",
    "\t         0 &  1 &  0 \\\\\n",
    "\t         \\end{array} \\right]\n",
    " \\left[\\begin{array}{ccc} \n",
    "\t         4             &  0 &   -3  \\\\\n",
    "\t         \\mathbf{1/4}  &  2 &  11/4 \\\\\n",
    "\t         \\mathbf{3/4}  & -4 &  13/4 \\\\\n",
    "\t         \\end{array} \\right]\n",
    "\t         =\n",
    "\\left[\\begin{array}{ccc} \n",
    "\t         4            &   0 &   -3   \\\\ \n",
    "\t         \\mathbf{3/4} &  -4 &  13/4 \\\\\n",
    "\t         \\mathbf{1/4} &   2 &  11/4 \\\\\n",
    "\t         \\end{array} \\right]$$"
   ]
  },
  {
   "cell_type": "markdown",
   "metadata": {},
   "source": [
    "Em seguida, completamos o escalonamento subtraindo da 3ª linha da matriz resultante a 2ª linha multiplicada por $m_{32}=\\frac{a_{32}}{a_{22}}=\\frac{2}{-4}=-1/2$, ou equivalentemente, usano produto de matrizes, fazemos\n",
    "\n",
    "$$M_2A''= \\left[\\begin{array}{ccc} \n",
    "\t         1       &   0       &  0 \\\\ \n",
    "\t         0       &   1       &  0 \\\\\n",
    "\t         0       &   -m_{32} &  1 \\\\\n",
    "\t         \\end{array} \\right]\n",
    "\\left[\\begin{array}{ccc} \n",
    "\t         4 &   0 &   -3   \\\\ \n",
    "\t         0 &  -4 &  13/4 \\\\\n",
    "\t         0 &   2 &  11/4 \\\\\n",
    "\t         \\end{array} \\right]$$\n",
    "             \n",
    "Como resultado, obtemos a matriz U\t         \n",
    "\n",
    "$$U = \\left[\\begin{array}{ccc} \n",
    "\t         4 &   0 &   -3   \\\\ \n",
    "\t         0 &  -4 &  13/4 \\\\\n",
    "\t         0 &   0 &  35/8 \\\\\n",
    "\t         \\end{array} \\right]$$"
   ]
  },
  {
   "cell_type": "markdown",
   "metadata": {},
   "source": [
    "A matriz de permutação $P=P_{1}P_{0}$ será dada por\n",
    "$$P= \\left[\\begin{array}{ccc} \n",
    "\t         0 &  0 &  1 \\\\ \n",
    "\t         1 &  0 &  0 \\\\\n",
    "\t         0 &  1 &  0 \\\\\n",
    "\t         \\end{array} \\right]$$\n",
    "e a matriz $L$\tserá dada por\n",
    "\n",
    "$$\\left[\\begin{array}{ccc} \n",
    "\t         1      & 0      & 0 \\\\ \n",
    "\t         m_{31} & 1      & 0 \\\\\n",
    "\t         m_{21} & m_{32} & 1 \\\\\n",
    "\t         \\end{array} \\right] =  \n",
    "\\left[\\begin{array}{ccc} \n",
    "\t         1    & 0      & 0 \\\\ \n",
    "\t         3/4  & 1      & 0 \\\\\n",
    "\t         1/4  & -1/2   & 1 \\\\\n",
    "\t         \\end{array} \\right]$$\n",
    "\t         \n",
    "e o vetor $b$ do novo sistema será dado pelo produto $Pb$\n",
    "\n",
    "$$\\left[\\begin{array}{ccc} \n",
    "\t         0 &  0 &  1 \\\\ \n",
    "\t         1 &  0 &  0 \\\\\n",
    "\t         0 &  1 &  0 \\\\\n",
    "\t         \\end{array} \\right]\n",
    "\\left[\\begin{array}{c} \n",
    "\t         9 \\\\ \n",
    "\t         3 \\\\\n",
    "\t         -2 \\\\\n",
    "\t         \\end{array} \\right] = \n",
    "\\left[\\begin{array}{c} \n",
    "\t         -2 \\\\ \n",
    "\t          9 \\\\\n",
    "\t          3 \\\\\n",
    "\t         \\end{array} \\right]$$\n",
    "             \n",
    "Assim, o produto LU fatora a matrix PA. "
   ]
  },
  {
   "cell_type": "markdown",
   "metadata": {},
   "source": [
    "## Exemplo 8\n",
    "Agora usando as funções do Scipy"
   ]
  },
  {
   "cell_type": "code",
   "execution_count": 13,
   "metadata": {
    "collapsed": false
   },
   "outputs": [
    {
     "name": "stdout",
     "output_type": "stream",
     "text": [
      "P = [[ 0.  1.  0.]\n",
      " [ 0.  0.  1.]\n",
      " [ 1.  0.  0.]]\n",
      "L = [[ 1.    0.    0.  ]\n",
      " [ 0.75  1.    0.  ]\n",
      " [ 0.25 -0.5   1.  ]]\n",
      "U = [[ 4.     0.    -3.   ]\n",
      " [ 0.    -4.     3.25 ]\n",
      " [ 0.     0.     4.375]]\n",
      "A = [[ 3. -4.  1.]\n",
      " [ 1.  2.  2.]\n",
      " [ 4.  0. -3.]]\n"
     ]
    }
   ],
   "source": [
    "#Fatoração LU usando scipy\n",
    "from scipy import linalg, array\n",
    "import numpy as np\n",
    "A = array([[3.,-4.,1.],[1.,2.,2.],[4.,0.,-3.]])\n",
    "b = array([9.,3.,2.])\n",
    "P, L, U = linalg.lu(A)\n",
    "print (\"P =\", P)\n",
    "print (\"L =\", L)\n",
    "print (\"U =\", U)\n",
    "\n",
    "print (\"A =\", np.dot(P, np.dot(L,U)))"
   ]
  },
  {
   "cell_type": "code",
   "execution_count": null,
   "metadata": {
    "collapsed": true
   },
   "outputs": [],
   "source": []
  }
 ],
 "metadata": {
  "kernelspec": {
   "display_name": "Python 3",
   "language": "python",
   "name": "python3"
  },
  "language_info": {
   "codemirror_mode": {
    "name": "ipython",
    "version": 3
   },
   "file_extension": ".py",
   "mimetype": "text/x-python",
   "name": "python",
   "nbconvert_exporter": "python",
   "pygments_lexer": "ipython3",
   "version": "3.5.1"
  }
 },
 "nbformat": 4,
 "nbformat_minor": 1
}
