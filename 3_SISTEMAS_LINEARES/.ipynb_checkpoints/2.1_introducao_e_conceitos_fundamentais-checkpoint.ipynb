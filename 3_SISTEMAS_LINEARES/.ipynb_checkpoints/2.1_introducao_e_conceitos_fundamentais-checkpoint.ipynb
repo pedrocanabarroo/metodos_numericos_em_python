{
 "cells": [
  {
   "cell_type": "markdown",
   "metadata": {},
   "source": [
    "# 2.1 Introdução e conceitos fundamentais\n",
    "\n",
    "A solução de sistema de equações algébricas lineares é provavelmente o processo numérico mais utilizado para simular situações do mundo real. É uma etapa fundamental na resolução de vários problemas que envolvam, por exemplo, equações diferenciais parciais, otimização, regressão linear e não linear e sistemas de equações não lineares. Geralmente, a solução do sistema linear é a fase que demanda a maior parte do tempo de processamento para resolver o problema. Portanto, é de extrema importância que se tenha uma implementação eficiente do método. Serão abordados os principais métodos diretos e alguns métodos iterativos usados na solução de sistemas.\n",
    "\n",
    "Considere um sistema  de equações lineares \n",
    "\n",
    "$$ \\begin{cases} \n",
    "\t         a_{11}x_1 +a_{12}x_2 + \\cdots + a_{1n}x_n = b_1\\\\ \n",
    "\t         a_{21}x_1 +a_{22}x_2 + \\cdots + a_{2n}x_n = b_2\\\\\n",
    "\t         \\vdots   \\\\\n",
    "\t         a_{n1}x_1 +a_{n2}x_2 + \\cdots + a_{nn}x_n = b_1\\\\\n",
    "             \\end{cases} $$\n",
    "\n",
    "O qual pode ser escrito em notação compacta, na seguinte forma\n",
    "\n",
    "$$  \\sum_{j=1}^{n} a_{ij} x_j = b_i$$\n",
    "\n",
    "com $i=1,2,...,n$. Ou, ainda, na forma de equação matricial\n",
    "\n",
    "$$Ax=b$$\n",
    "\n",
    "em que $A= (a_{ij})$ com $i,j=1,..,n$, é a matriz dos coeficientes, \n",
    "$x=(x_1,x_2,...,x_n)^t$ é o vetor de incógintas e $b=(b_1, b_2,...,b_n)^t$ é o vetor de termos independentes de  $x$. Então, tem-se\n",
    "\n",
    "$$\\left[\\begin{array}{cccc} \n",
    "\t         a_{11} & a_{12} & \\cdots & a_{1n} \\\\ \n",
    "\t         a_{21} & a_{22} & \\cdots & a_{2n} \\\\\n",
    "\t         \\vdots & \\vdots & \\vdots & \\vdots \\\\\n",
    "\t         a_{n1} & a_{n2} & \\cdots & a_{nn} \\\\\n",
    "\t         \\end{array} \\right]\n",
    "\\left[\\begin{array}{c} \n",
    "\t         x_1 \\\\ \n",
    "\t         x_2 \\\\\n",
    "             \\vdots\\\\\n",
    "\t         x_n \\\\\n",
    "\t         \\end{array} \\right]\n",
    "=\n",
    "\\left[\\begin{array}{c} \n",
    "\t         b_1 \\\\ \n",
    "\t         b_2 \\\\\n",
    "             \\vdots\\\\\n",
    "\t         b_n \\\\\n",
    "\t         \\end{array} \\right]\n",
    "\t         $$\n",
    "\n",
    "\n",
    "\n",
    "Resolver o sistema dado, consiste em encontrar o vetor solução $\\overline x=(\\overline x_1, \\overline x_2,..., \\overline x_n)^t$ que satisfaça todas as equações simultaneamente.\n",
    "\n",
    "Graficamente em $R^2$, a solução de um sistema linear representa a intersecção das retas definidas pelas equações.\n",
    "\n"
   ]
  },
  {
   "cell_type": "markdown",
   "metadata": {},
   "source": [
    "## Exemplo\n",
    "O sistema linear \n",
    "\n",
    "$$ \\begin{cases} \n",
    "\t         -x_1 + 2x_2 = 3\\\\ \n",
    "              x_1 + x_2 = 3\n",
    "             \\end{cases} $$\n",
    "             \n",
    "tem uma única solução $\\overline x= (1,2)^t$, como pode ser visto no gráfico abaixo."
   ]
  },
  {
   "cell_type": "code",
   "execution_count": 1,
   "metadata": {},
   "outputs": [
    {
     "data": {
      "image/png": "[encoded data removed]",
      "text/plain": [
       "<matplotlib.figure.Figure at 0x7f1459353ac8>"
      ]
     },
     "metadata": {},
     "output_type": "display_data"
    }
   ],
   "source": [
    "% matplotlib inline\n",
    "import numpy as np\n",
    "from scipy.linalg import solve\n",
    "import matplotlib.pyplot as plt\n",
    "eq1 = lambda x: -3+2*x\n",
    "eq2 = lambda x: 3-x\n",
    "# Lista de pontos para o plot\n",
    "xi = np.linspace(-1,3,2)\n",
    "# Plota \n",
    "plt.plot(xi, eq1(xi), \"-\", xi, eq2(xi), \"r-\") \n",
    "plt.grid()\n",
    "plt.show()"
   ]
  },
  {
   "cell_type": "markdown",
   "metadata": {},
   "source": [
    "Já o sistema linear \n",
    "\n",
    "$$ \\begin{cases} \n",
    "\t         x_1 + x_2 = 1\\\\ \n",
    "             2x_1 + 2x_2 = 2\n",
    "             \\end{cases} $$\n",
    "             \n",
    "tem infinitas soluções já que as duas equações representam a retas coincidentes."
   ]
  },
  {
   "cell_type": "code",
   "execution_count": 2,
   "metadata": {},
   "outputs": [
    {
     "data": {
      "image/png": "[encoded data removed]",
      "text/plain": [
       "<matplotlib.figure.Figure at 0x7f145adcba58>"
      ]
     },
     "metadata": {},
     "output_type": "display_data"
    }
   ],
   "source": [
    "% matplotlib inline\n",
    "import numpy as np\n",
    "from scipy.linalg import solve\n",
    "import matplotlib.pyplot as plt\n",
    "eq1 = lambda x: 1-x\n",
    "eq2 = lambda x: (2-2*x)/2\n",
    "# Lista de pontos para o plot\n",
    "xi = np.linspace(-1,3,2)\n",
    "# Plota \n",
    "plt.plot(xi, eq1(xi), \"b-\", linewidth= 2.0)\n",
    "plt.plot( xi, eq2(xi), \"r-\", linewidth=1.0) \n",
    "plt.grid()\n",
    "plt.show()"
   ]
  },
  {
   "cell_type": "markdown",
   "metadata": {},
   "source": [
    "Por fim, o sistema linear \n",
    "\n",
    "$$ \\begin{cases} \n",
    "\t         x_1 + x_2 = 1\\\\ \n",
    "             2x_1 + 2x_2 = 4\n",
    "             \\end{cases} $$\n",
    "             \n",
    "Não tem nenhuma solução (sistema inconsistente) já que as duas equações representam a retas paralelas."
   ]
  },
  {
   "cell_type": "code",
   "execution_count": 3,
   "metadata": {},
   "outputs": [
    {
     "data": {
      "image/png": "[encoded data removed]",
      "text/plain": [
       "<matplotlib.figure.Figure at 0x7f145a28e588>"
      ]
     },
     "metadata": {},
     "output_type": "display_data"
    }
   ],
   "source": [
    "% matplotlib inline\n",
    "import numpy as np\n",
    "from scipy.linalg import solve\n",
    "import matplotlib.pyplot as plt\n",
    "eq1 = lambda x: 1-x\n",
    "eq2 = lambda x: (4-2*x)/2\n",
    "# Lista de pontos para o plot\n",
    "xi = np.linspace(-1,3,2)\n",
    "# Plota \n",
    "plt.plot(xi, eq1(xi), \"b-\",  xi, eq2(xi), \"r-\") \n",
    "plt.grid()\n",
    "plt.show()"
   ]
  },
  {
   "cell_type": "markdown",
   "metadata": {},
   "source": [
    "## Condicionamento de matrizes\n",
    "\n",
    "Sabemos que um sistema linear $n \\times n$, $Ax=b$ tem solução única se $det(A) \\neq 0$, caso $det(A)=0$ dizemos que a matriz $A$ é singular e o sistema poderá ter infinitas soluções ou nenhuma solução. Mas o que acontece se a matriz é \"quase singular\" ($det(A)$ é muito pequeno)?\n",
    "\n",
    "Dizemos que $det(A)=|A|$ é muito pequeno se $|A|<<||A||$ onde $||A||$ é a **norma** da matriz $A$. A norma é um número real usado para expressar a magnitude de um vetor ou de uma matriz. "
   ]
  },
  {
   "cell_type": "markdown",
   "metadata": {},
   "source": [
    "### Norma de vetores\n",
    "No caso de um vetor $x$ de tamanho $n$, as normas são definidas em termos da _norma−p_\n",
    "\n",
    "$$ \\|x\\|_p = \\left( \\sum^n_{i=1} \\left|x_i \\right|^p \\right)^{1/p}, \\,\\,\\, 1\\leq p < \\infty$$\n",
    "\n",
    "A partir dessa equação, definimos três normas vetoriais importantes, a **norma soma de magnitudes**, definida como \n",
    "\n",
    "$$\\|x\\|_1 =  \\sum^n_{i=1} \\left|x_i \\right| $$\n",
    "\n",
    "A **norma Euclidiana**, com a forma\n",
    "\n",
    "$$\\|x\\|_2 =  \\sqrt{\\sum^n_{i=1} \\left|x_i \\right|^2}  $$\n",
    "\n",
    "E a **norma de máxima magnitude**, como segue\n",
    "\n",
    "$$\\|x\\|_\\infty = \\lim_{p \\to \\infty} \\left( \\sum^n_{i=1} \\left|x_i \\right|^p \\right)^{1/p}= \\max_{1 \\leq i\\leq n} \\left|x_i \\right|$$\n"
   ]
  },
  {
   "cell_type": "markdown",
   "metadata": {},
   "source": [
    "### Norma de matrizes\n",
    "Normas de matrizes podem ser definidas forma semelhante. Chamamos de **norma Euclidiana** ao valor dado por\n",
    "$$ \\|A\\|_e = \\sqrt{\\sum^n_{i=1} \\sum^n_{j=1} A_{ij}^2}$$\n",
    "\n",
    "e **norma linha** ou **norma infinito** ao valor dado por\n",
    "$$\\|A\\|_{\\infty} = \\max_{1 \\leq i \\leq n} \\sum_{j=1}^n \\left|A_{ij} \\right| $$\n"
   ]
  },
  {
   "cell_type": "markdown",
   "metadata": {},
   "source": [
    "### Número de condicionamento de uma matriz\n",
    "Uma medida formal para o condicionamento de uma matriz, o **número de condicionamento da matriz** definido como \n",
    "\n",
    "$$cond(A) = \\|A\\| \\|A^{-1}\\| $$\n",
    "\n",
    "se esse número estiver próximo de 1, então a matriz é bem condicionada. Esse número aumenta com o mal condicionamento da matriz. \n",
    "\n",
    "Infelizmente, o número de condicionamento é computacionalmente oneroso para matrizes grandes. Então, muitas vezes é suficiente estimar o condicionamento comparando o determinante com a magnitude dos elementos da matriz. \n",
    "\n",
    "Se as equações estiverem mal condicionadas, pequenas mudanças nos coeficientes da matriz resultarão em grandes mudanças na solução."
   ]
  },
  {
   "cell_type": "markdown",
   "metadata": {},
   "source": [
    "### Exemplo\n",
    "Consideremos o sistema linear \n",
    "$$ \\begin{cases} \n",
    "\t         2x_1 + x_2 = 3\\\\ \n",
    "             2x_1 + 1.001x_2 = 0\n",
    "             \\end{cases} $$\n",
    "Cuja solução é dada por:"
   ]
  },
  {
   "cell_type": "code",
   "execution_count": 4,
   "metadata": {},
   "outputs": [
    {
     "name": "stdout",
     "output_type": "stream",
     "text": [
      "x = [ 1501.5 -3000. ]\n"
     ]
    }
   ],
   "source": [
    "import scipy.linalg as la\n",
    "\n",
    "A = [[2, 1], [2, 1.001]]\n",
    "b = [3, 0]\n",
    "print ('x =', la.solve(A,b))"
   ]
  },
  {
   "cell_type": "markdown",
   "metadata": {},
   "source": [
    "A matriz dos coeficientes desse sistema tem um número de condicionamento grande, ou seja, a matriz é mal condicionada"
   ]
  },
  {
   "cell_type": "code",
   "execution_count": 5,
   "metadata": {},
   "outputs": [
    {
     "name": "stdout",
     "output_type": "stream",
     "text": [
      "5001.0005\n"
     ]
    }
   ],
   "source": [
    "print (la.norm(A) * la.norm(la.inv(A)))"
   ]
  },
  {
   "cell_type": "code",
   "execution_count": 6,
   "metadata": {},
   "outputs": [
    {
     "data": {
      "text/plain": [
       "3.1625940302226589"
      ]
     },
     "execution_count": 6,
     "metadata": {},
     "output_type": "execute_result"
    }
   ],
   "source": [
    "la.norm(A)"
   ]
  },
  {
   "cell_type": "code",
   "execution_count": 7,
   "metadata": {},
   "outputs": [
    {
     "data": {
      "text/plain": [
       "0.0019999999999997797"
      ]
     },
     "execution_count": 7,
     "metadata": {},
     "output_type": "execute_result"
    }
   ],
   "source": [
    "la.det(A)"
   ]
  },
  {
   "cell_type": "markdown",
   "metadata": {},
   "source": [
    "Observe o que acontece com a solução do sistema quando variamos ligeiramente um dos coeficientes "
   ]
  },
  {
   "cell_type": "code",
   "execution_count": 8,
   "metadata": {},
   "outputs": [
    {
     "name": "stdout",
     "output_type": "stream",
     "text": [
      "x = [  751.5 -1500. ]\n"
     ]
    }
   ],
   "source": [
    "A = [[2, 1], [2, 1.002]]\n",
    "print ('x =',la.solve(A,b))"
   ]
  },
  {
   "cell_type": "markdown",
   "metadata": {},
   "source": [
    "Uma mudança no coeficiente na ordem de 1% gerou uma diferença na solução de 100%!"
   ]
  },
  {
   "cell_type": "markdown",
   "metadata": {
    "collapsed": true
   },
   "source": [
    "## Sistemas triangulares\n",
    "\n",
    "Sistemas lineares triangulares são aqueles cuja matriz dos coeficientes é uma matriz triangular. Em geral o algoritmo para resolução de sistemas triangulares é bastante simples e basea-se em substituições subsequentes. \n",
    "\n",
    "**Sistema triangular inferior**\n",
    "\n",
    "Um sistema triangular inferior $Ax=b$ com coeficientes $(a_{ij})=0$ para $i<j$ e $a_{ij} \\neq 0$, $i=0,1,...,n$ é representado por\n",
    "\n",
    "$$ \\begin{cases} \n",
    "\t         a_{11}x_1 = b_1\\\\\n",
    "\t         a_{21}x_1 + a_{22}x_2 = b_2\\\\\n",
    "\t         a_{31}x_1 + a_{32}x_2 + a_{33}x_3= b_3\\\\\n",
    "\t         \\vdots \\\\\n",
    "\t         a_{n1}x_1 + a_{n2}x_2 + a_{33}x_3 + \\cdots + a_{nn}x_n= b_n\\\\\n",
    "\t         \\end{cases} $$\n",
    "             \n",
    "pode ser resolvido usando o seguinte algoritmo:\n",
    "\n",
    "$$ x_1 = b_1/a_{11}$$\n",
    "\n",
    "para $i=2,3...,n$, faça\n",
    "\n",
    "$$ x_i = \\frac{b_i- \\sum\\limits_{j=1}^{(i-1)} a_{ij}x_j}{a_{ii}}$$\t         \n",
    "\t         \n",
    "Usando Python, um código que implementa esse algoritmo, é mostrado no exemplo abaixo.\n"
   ]
  },
  {
   "cell_type": "markdown",
   "metadata": {},
   "source": [
    "### Exemplo\n",
    "Seja o sistema linear\n",
    "$$ \\begin{cases} \n",
    "\t         2x_1 = 2\\\\ \n",
    "             x_1 + 4x_2 = -3\\\\\n",
    "             x_1 + x_2 + x_3 = 0\n",
    "             \\end{cases} $$\n",
    "um código em Python que implementa esse algoritmo e a solução obtida executando o programa são mostrados a seguir "
   ]
  },
  {
   "cell_type": "code",
   "execution_count": 9,
   "metadata": {},
   "outputs": [
    {
     "name": "stdout",
     "output_type": "stream",
     "text": [
      "[1.0, -1.0, 0.0]\n"
     ]
    }
   ],
   "source": [
    "A = [[2,0,0], [1,4,0], [1,1,1]] \n",
    "b = [2,-3,0]\n",
    "x1 = b[0]/A[0][0]\n",
    "x = [x1]\n",
    "\n",
    "for i in range(1,len(A)):\n",
    "    soma = 0\n",
    "    for j in range(0,i):\n",
    "        soma +=  A[i][j]*x[j]\n",
    "    x.append((b[i]-soma)/A[i][i])\n",
    "print (x)"
   ]
  },
  {
   "cell_type": "markdown",
   "metadata": {},
   "source": [
    "Usando o módulo numérico Numpy podemos escrever esse mesmo algoritmo usando operações vetoriais, como o produto interno _dot_, por exemplo "
   ]
  },
  {
   "cell_type": "code",
   "execution_count": 10,
   "metadata": {},
   "outputs": [
    {
     "name": "stdout",
     "output_type": "stream",
     "text": [
      "[ 1 -1  0]\n"
     ]
    }
   ],
   "source": [
    "import numpy as np\n",
    "A = np.array([[2,0,0], [1,4,0], [1,1,1]] )\n",
    "b = np.array([2,-3,0])\n",
    "\n",
    "n = len(b)\n",
    "for i in range(n): \n",
    "    b[i] = (b[i] - np.dot(A[i,0:i],b[0:i]))/A[i][i] \n",
    "print (b)"
   ]
  },
  {
   "cell_type": "markdown",
   "metadata": {},
   "source": [
    "**Sistema triangular superior**\n",
    "\n",
    "Um sistema triangular superior $Ax=b$ com coeficientes $(a_{ij})=0$ para $i>j$ e $a_{ij} \\neq 0$, $i=0,1,...,n$ é representado por\n",
    "\n",
    "$$ \\begin{cases} \n",
    "\t         a_{21}x_1 + a_{22}x_2 + a_{23}x_3 + \\cdots + a_{2n}x_n = b_1\\\\\n",
    "\t         a_{22}x_2 + a_{23}x_3 + \\cdots + a_{2n}x_n = b_2\\\\\n",
    "\t         a_{33}x_3 + \\cdots + a_{3n}x_n = b_3\\\\\n",
    "\t         \\vdots \\\\\n",
    "\t         a_{nn}x_n= b_n\\\\\n",
    "\t         \\end{cases} $$\n",
    "             \n",
    "pode ser resolvido usando o seguinte algoritmo:\n",
    "\n",
    "$$ x_n = b_n/a_{nn}$$\n",
    "\n",
    "para $i=(n-1), (n-2),...,1$, faça\n",
    "\n",
    "$$ x_i = \\frac{b_i- \\sum\\limits_{j=i+1}^{(n)} a_{ij}x_j}{a_{ii}}$$\t\n",
    "\n",
    "Usando Python, um código que implementa esse algoritmo, é mostrado abaixo."
   ]
  },
  {
   "cell_type": "markdown",
   "metadata": {},
   "source": [
    "### Exemplo\n",
    "Seja o sistema linear\n",
    "$$ \\begin{cases} \n",
    "\t         3x_1 + x_2 +x_3= 4\\\\ \n",
    "             2x_2 -x_3 = 2\\\\\n",
    "             3x_3 = 3\n",
    "             \\end{cases} $$\n",
    "um código em Python que implementa esse algoritmo e a solução obtida executando o programa são mostrados a seguir "
   ]
  },
  {
   "cell_type": "code",
   "execution_count": 11,
   "metadata": {},
   "outputs": [
    {
     "name": "stdout",
     "output_type": "stream",
     "text": [
      "[0.5, 1.5, 1.0]\n"
     ]
    }
   ],
   "source": [
    "A = [[3,1,1], [0,2,-1], [0,0,3]] \n",
    "b = [4,2,3]\n",
    "\n",
    "n = len(A)-1       #os indices correm de 0 ate n-1\n",
    "xn = b[n]/A[n][n]\n",
    "\n",
    "x = [0]*len(A)     # cria um vetor de zeros    \n",
    "x[-1] = xn         # atribui xn na ultima posicao de x\n",
    "    \n",
    "for i in range(n-1,-1,-1):\n",
    "    soma = 0\n",
    "    for j in range(i+1,n+1):\n",
    "        soma +=  A[i][j]*x[j]\n",
    "    xi = (b[i]-soma)/A[i][i]\n",
    "    x[i] = xi\n",
    "\n",
    "print(x)"
   ]
  },
  {
   "cell_type": "code",
   "execution_count": null,
   "metadata": {
    "collapsed": true
   },
   "outputs": [],
   "source": []
  }
 ],
 "metadata": {
  "kernelspec": {
   "display_name": "Python 3",
   "language": "python",
   "name": "python3"
  },
  "language_info": {
   "codemirror_mode": {
    "name": "ipython",
    "version": 3
   },
   "file_extension": ".py",
   "mimetype": "text/x-python",
   "name": "python",
   "nbconvert_exporter": "python",
   "pygments_lexer": "ipython3",
   "version": "3.8.5"
  }
 },
 "nbformat": 4,
 "nbformat_minor": 1
}
