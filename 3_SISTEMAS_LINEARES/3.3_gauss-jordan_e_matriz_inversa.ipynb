{
 "cells": [
  {
   "cell_type": "markdown",
   "metadata": {},
   "source": [
    "## 3.3 Eliminação de Gauss-Jordan e matriz inversa\n",
    "\n",
    "Os métodos diretos de eliminação consistem no processo \n",
    "de transformar um sistema de equações lineares $Ax=b$, em que $A= (a_{ij})_i,j=1,..,n$, \n",
    "$x=(x_1,x_2,...,x_n)^t$ e $b=(b_1, b_2,...,b_n)^t$, em um sistema equivalente, \n",
    "aplicando operações elementares sobre as linhas da matriz $(A,b)$.\n",
    "\n",
    "O sistema equivalente obtido ao final do processo, deve ser de \n",
    "resolução mais simples ou imediata, por substituição direta. No caso da eliminação de Gauss \n",
    "com pivoteamento diagonal ou pivoteamento parcial, obtém-se um sistema equivalente \n",
    "na forma triangular. No caso da eliminação de Gauss-Jordan oz sistema equivalente \n",
    "obtido possui a matriz de coeficientes igual a matriz identidade.   "
   ]
  },
  {
   "cell_type": "markdown",
   "metadata": {},
   "source": [
    "### Método Gauss-Jordan e matriz inversa\n",
    "\n",
    "Considere o sistema de $n$ equações e $n$ variáveis dado por \n",
    "\n",
    "$$ Ax=b$$\n",
    "\n",
    "Se a matriz $A$ dos coeficientes for não singular, ou seja, se o sistema possuir solução única a matriz é invertível e a solução do sistema pode ser obtida multiplicando-se a inversa $A^{-1}$ à esquerda de ambos os lados da equação, como segue: \n",
    "\n",
    "$$A^{-1}Ax=A^{-1}b$$\n",
    "logo\n",
    "$$Ix = A^{-1}b$$\n",
    "ou\n",
    "$$x = A^{-1}b$$\n",
    "Que é a solução do sistema linear."
   ]
  },
  {
   "cell_type": "markdown",
   "metadata": {},
   "source": [
    "**Exemplo 3.3.1:** Resolver o sistema $Ax=b$ com $A = \n",
    " \\left[\\begin{array}{ccc} \n",
    "\t         3 & 0 & 1 \\\\ \n",
    "\t         3 & 2 & 1 \\\\\n",
    "            -3 & 1 & 3 \\\\\n",
    "\t     \\end{array} \\right]$\n",
    "e $b = (1,1,3)^t$.   "
   ]
  },
  {
   "cell_type": "code",
   "execution_count": 3,
   "metadata": {},
   "outputs": [],
   "source": [
    "import numpy as np"
   ]
  },
  {
   "cell_type": "code",
   "execution_count": 4,
   "metadata": {},
   "outputs": [
    {
     "name": "stdout",
     "output_type": "stream",
     "text": [
      "[0. 0. 1.]\n"
     ]
    }
   ],
   "source": [
    "A = np.array([[3,0,1],[3,2,1],[-3,1,3]])\n",
    "b = np.array([1,1,3])\n",
    "x = np.dot(np.linalg.inv(A),b)\n",
    "print (np.round(x,4))"
   ]
  },
  {
   "cell_type": "markdown",
   "metadata": {},
   "source": [
    "A obtenção inversa pode ser feita pelo processo de eliminação de Gauss-Jordan em que são realizadas operações elementares sobre as linhas da matriz $A$ até que ela se torne uma matriz identidade. Essas mesmas operações são realizadas em uma matriz identidade de mesma ordem, ao final das operações na matriz identidade o resultado é a inversa da matriz $A$. O exemplo a seguir implementa o processo de eliminação de Gauss-Jordan."
   ]
  },
  {
   "cell_type": "markdown",
   "metadata": {},
   "source": [
    "**Exemplo 3.3.2:** Vamos nesse exemplo utilizar o processo de eliminação de Gauss-Jordan para obter a matriz inversa de \n",
    "$A = \n",
    " \\left[\\begin{array}{ccc} \n",
    "\t         2 & 1 & 3 \\\\ \n",
    "\t         0 & -1 & 1 \\\\\n",
    "            1 & 0 & 3 \\\\\n",
    "\t     \\end{array} \\right]$"
   ]
  },
  {
   "cell_type": "code",
   "execution_count": 5,
   "metadata": {},
   "outputs": [
    {
     "name": "stdout",
     "output_type": "stream",
     "text": [
      "Matriz ampliada:\n",
      "[[ 2.  1.  3.  1.  0.  0.]\n",
      " [ 0. -1.  1.  0.  1.  0.]\n",
      " [ 1.  0.  3.  0.  0.  1.]]\n",
      "Matriz após eliminação:\n",
      "[[ 1.   0.   0.   1.5  1.5 -2. ]\n",
      " [ 0.   1.   0.  -0.5 -1.5  1. ]\n",
      " [ 0.   0.   1.  -0.5 -0.5  1. ]]\n",
      "Matriz inversa:\n",
      "[[ 1.5  1.5 -2. ]\n",
      " [-0.5 -1.5  1. ]\n",
      " [-0.5 -0.5  1. ]]\n"
     ]
    }
   ],
   "source": [
    "def gaussJordan(M):\n",
    "    n = len(M)\n",
    "    for k in range(n):\n",
    "        M[k] = M[k]/M[k,k]\n",
    "        for i in range(n):\n",
    "            if i!=k:\n",
    "                M[i] = M[i] - M[i,k]*M[k]\n",
    "    return (M)\n",
    "\n",
    "A = np.array([[2,1,3],[0,-1,1],[1,0,3]], float)\n",
    "I = np.identity(len(A))\n",
    "M = np.concatenate((A,I), axis=1)\n",
    "\n",
    "print ('Matriz ampliada:')\n",
    "print (M)\n",
    "\n",
    "print ('Matriz após eliminação:')\n",
    "Mgj = gaussJordan(M)\n",
    "print (Mgj )\n",
    "\n",
    "print ('Matriz inversa:')\n",
    "Ainv = Mgj[:,3:6]\n",
    "print(Ainv)"
   ]
  },
  {
   "cell_type": "code",
   "execution_count": null,
   "metadata": {},
   "outputs": [],
   "source": []
  },
  {
   "cell_type": "markdown",
   "metadata": {},
   "source": [
    "### Exercícios\n",
    "\n",
    "**1.** Obtenha, caso exista, a solução para os seguintes sistemas lineares utilizando os métodos eliminação de Gauss-Jordan e Matriz inversa).\n",
    "\n",
    "\n",
    "a) $\\begin{cases} \n",
    "\t         2x_1 + 3x_2 + x_3 +5x_4= 11\\\\ \n",
    "\t         x_1  + 3.5x_2  + x_3 +7.5x_4= 13\\\\\n",
    "\t         1.4x_1 + 2.7x_2 + 5.5x_3 + 12x_4 = 21.6\\\\\n",
    "\t         -2x_1 + 1x_2 + 3x_3 +28x_4 = 30\n",
    "\t         \\end{cases}$\n",
    "    \n",
    "b) $\\begin{cases} \n",
    "\t         6.1x_1 + 0.32x_2 + 1.3x_3 +2.1x_4 + 0.11x_5 = 19.52\\\\ \n",
    "\t         0.82x_1  + 8.81x_2  + 1.01x_3 +3x_4 + 3.12x_5= 15.83\\\\\n",
    "\t         0.5x_1 + 1.78x_2 + 15.2x_3 + 4.2x_4 +8.1x_5= -22.14\\\\\n",
    "\t         4.2x_1 + 5.3x_2 + 1.8x_3 +20.9x_4 +7.51x_5 = 27.28\\\\\n",
    "\t         0.2x_1 + 9.1x_2 + 4.68x_3 +4.3x_4 +20.1x_5  = -21.78\n",
    "\t         \\end{cases}$\n",
    "             \n",
    "c)$ \\begin{cases} \n",
    "    12.1756 x_1 + 4.0231 x_2 - 2.1732 x_3 + 5.1967 x_4 = 17.1020\\\\ \n",
    "   -4.0231 x_1 + 6.0030 x_2              + 1.1973 x_4 = -6.1593\\\\\n",
    "   -1.0000 x_1 - 5.2107 x_2 + 11.1111 x_3              =  3.0004\\\\\n",
    "\t6.0235 x_1 + 7.0000 x_2 +            - 14.1561 x_4 =  0.0000\n",
    "\\end{cases} $"
   ]
  },
  {
   "cell_type": "markdown",
   "metadata": {},
   "source": [
    "**2.** ([Burden et al, 2016, p. 420](https://integrada.minhabiblioteca.com.br/reader/books/9788522123414/pageid/436)) Resolva o seguinte sistema linear por eliminação de Gauss-Jordan e usando matriz inversa.\n",
    "\n",
    "$$\n",
    "\\begin{aligned}\n",
    "1,19 x_1+2,11 x_2-100 x_3+x_4 & =1,12 \\\\\n",
    "14,2 x_1-0,122 x_2+12,2 x_3-x_4 & =3,44 \\\\\n",
    "100 x_2-99,9 x_3+x_4 & =2,15 \\\\\n",
    "15,3 x_1+0,110 x_2-13,1 x_3-x_4 & =4,16\n",
    "\\end{aligned}\n",
    "$$\n"
   ]
  },
  {
   "cell_type": "markdown",
   "metadata": {},
   "source": [
    "**3.** ([Burden et al, 2016, p.455](https://integrada.minhabiblioteca.com.br/reader/books/9788522123414/pageid/471)) Use eliminação de Gauss-Jordan para resolver o sistema linear a seguir. \n",
    "\n",
    "$$\n",
    "\\begin{aligned}\n",
    "2 x_1+x_2 & =0, \\\\\n",
    "-x_1+3 x_2+3 x_3 & =5, \\\\\n",
    "2 x_1-2 x_2+x_3+4 x_4 & =-2, \\\\\n",
    "-2 x_1+2 x_2+2 x_3+5 x_4 & =6 .\n",
    "\\end{aligned}\n",
    "$$"
   ]
  },
  {
   "cell_type": "code",
   "execution_count": null,
   "metadata": {},
   "outputs": [],
   "source": []
  }
 ],
 "metadata": {
  "kernelspec": {
   "display_name": "Python 3 (ipykernel)",
   "language": "python",
   "name": "python3"
  },
  "language_info": {
   "codemirror_mode": {
    "name": "ipython",
    "version": 3
   },
   "file_extension": ".py",
   "mimetype": "text/x-python",
   "name": "python",
   "nbconvert_exporter": "python",
   "pygments_lexer": "ipython3",
   "version": "3.12.4"
  }
 },
 "nbformat": 4,
 "nbformat_minor": 4
}
