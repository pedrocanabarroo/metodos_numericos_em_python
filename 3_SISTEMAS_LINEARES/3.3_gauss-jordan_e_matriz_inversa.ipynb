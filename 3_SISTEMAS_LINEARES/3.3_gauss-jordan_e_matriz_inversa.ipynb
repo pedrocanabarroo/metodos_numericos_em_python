{
 "cells": [
  {
   "cell_type": "markdown",
   "metadata": {},
   "source": [
    "## 3.3 Eliminação de Gauss-Jordan e matriz inversa\n",
    "\n",
    "Os métodos diretos de eliminação consistem no processo \n",
    "de transformar um sistema de equações lineares $Ax=b$, em que $A= (a_{ij})_i,j=1,..,n$, \n",
    "$x=(x_1,x_2,...,x_n)^t$ e $b=(b_1, b_2,...,b_n)^t$, em um sistema equivalente, \n",
    "aplicando operações elementares sobre as linhas da matriz $(A,b)$.\n",
    "\n",
    "O sistema equivalente obtido ao final do processo, deve ser de \n",
    "resolução mais simples ou imediata, por substituição direta. No caso da eliminação de Gauss \n",
    "com pivoteamento diagonal ou pivoteamento parcial, obtém-se um sistema equivalente \n",
    "na forma triangular. No caso da eliminação de Gauss-Jordan o sistema equivalente \n",
    "obtido possui a matriz de coeficientes igual a matriz identidade (forma escalonada reduzida).   "
   ]
  },
  {
   "cell_type": "markdown",
   "metadata": {},
   "source": [
    "**Exemplo 3.3.1:** ([Fonte](https://integrada.minhabiblioteca.com.br/reader/books/9788522127238/pageid/29)) Use a eliminação de Gauss-Jordan para resolver o sistema\n",
    "\n",
    "$$\n",
    "\\begin{aligned}\n",
    "x-2 y+3 z & =9 \\\\\n",
    "-x+3 y & =-4 \\\\\n",
    "2 x-5 y+5 z & =17\n",
    "\\end{aligned}\n",
    "$$\n"
   ]
  },
  {
   "cell_type": "markdown",
   "metadata": {},
   "source": [
    "A matriz aumentada associada ao sistema é:\n",
    "\n",
    "$$\n",
    "\\left[\\begin{array}{rrrr}\n",
    "1 & -2 & 3 & 9 \\\\\n",
    "-1 & 3 & 0 & -4 \\\\\n",
    "2 & -5 & 5 & 17\n",
    "\\end{array}\\right]\n",
    "$$\n"
   ]
  },
  {
   "cell_type": "markdown",
   "metadata": {},
   "source": [
    "Substituindo a 2ª linha por ela mesma subtraída da 1ª linha ($L_2 = L_2-L_1$) e a 3ª linha por ela mesma subtraida da 1ª linha multiplicada por $2$ ($L_3 = L_3-2L_1$), obtém-se\n",
    "\n",
    "$$\r\n",
    "\\left[\\begin{array}{rrrr}\n",
    "1 & -2 & 3 & 9 \\\\\n",
    "0 & 1 & 3 & 5 \\\\\n",
    "0 & -1 & -1 & -1\n",
    "\\end{array}\\right]\r\n",
    "$$"
   ]
  },
  {
   "cell_type": "markdown",
   "metadata": {},
   "source": [
    "Agora, substituindo a 1ª linha por ela mesma somada da 2ª linha multiplicada por $2$ ($L_1 = L_1+2L_2$) e a 3ª linha por ela mesma somada à 2ª ($L_3=L_3+L_2$), obtém-se\n",
    "\n",
    "$$\n",
    "\\left[\\begin{array}{rrrr}\n",
    "1 & 0 & 9 & 19 \\\\\n",
    "0 & 1 & 3 & 5 \\\\\n",
    "0 & 0 & 2 & 4\n",
    "\\end{array}\\right]\n",
    "$$"
   ]
  },
  {
   "cell_type": "markdown",
   "metadata": {},
   "source": [
    "Por fim, dividindo a 3ª linha por $2$, então, substituindo a 1ª pela 3ª multiplicada por $-9$ ($L_1=L_1-9L3$) e a 2ª por ela mesma multiplicada por $-3$, obtém-se:\n",
    "\n",
    "$$\n",
    "\\left[\\begin{array}{rrrr}\n",
    "1 & 0 & 0 & 1 \\\\\n",
    "0 & 1 & 0 & -1 \\\\\n",
    "0 & 0 & 1 & 2\n",
    "\\end{array}\\right]\n",
    "$$"
   ]
  },
  {
   "cell_type": "markdown",
   "metadata": {},
   "source": [
    "A matriz está agora na forma escalonada reduzida. Convertendo de volta para um sistema de equações lineares, tem-se\n",
    "\n",
    "\r",
    "$$\r\n",
    "\\begin{aligned}\n",
    "& x=1 \\\\\n",
    "& y=-1 \\\\\n",
    "& z=2 .\n",
    "\\end{aligned}\r\n",
    "$$"
   ]
  },
  {
   "cell_type": "markdown",
   "metadata": {},
   "source": [
    "Usando Python podemos fazer:"
   ]
  },
  {
   "cell_type": "code",
   "execution_count": null,
   "metadata": {},
   "outputs": [],
   "source": [
    "def gaussJordan(M):\n",
    "    n = len(M)\n",
    "    for k in range(n):\n",
    "        M[k] = M[k]/M[k,k]\n",
    "        for i in range(n):\n",
    "            if i!=k:\n",
    "                M[i] = M[i] - M[i,k]*M[k]\n",
    "    return (M)"
   ]
  },
  {
   "cell_type": "code",
   "execution_count": 7,
   "metadata": {},
   "outputs": [
    {
     "data": {
      "text/plain": [
       "array([[ 1, -2,  3,  9],\n",
       "       [-1,  3,  0, -4],\n",
       "       [ 2, -5,  5, 17]])"
      ]
     },
     "execution_count": 7,
     "metadata": {},
     "output_type": "execute_result"
    }
   ],
   "source": [
    "Ab = np.array([[1,-2,3,9],[-1,3,0,-4],[2,-5,5,17]])\n",
    "Ab"
   ]
  },
  {
   "cell_type": "code",
   "execution_count": 8,
   "metadata": {},
   "outputs": [
    {
     "data": {
      "text/plain": [
       "array([[ 1,  0,  0,  1],\n",
       "       [ 0,  1,  0, -1],\n",
       "       [ 0,  0,  1,  2]])"
      ]
     },
     "execution_count": 8,
     "metadata": {},
     "output_type": "execute_result"
    }
   ],
   "source": [
    "gaussJordan(Ab)"
   ]
  },
  {
   "cell_type": "code",
   "execution_count": 9,
   "metadata": {},
   "outputs": [
    {
     "name": "stdout",
     "output_type": "stream",
     "text": [
      "Solução: [ 1 -1  2]\n"
     ]
    }
   ],
   "source": [
    "print ('Solução:', Ab[:,-1])"
   ]
  },
  {
   "cell_type": "markdown",
   "metadata": {},
   "source": [
    "### Método Gauss-Jordan e matriz inversa\n",
    "\n",
    "Considere o sistema de $n$ equações e $n$ variáveis dado por \n",
    "\n",
    "$$ Ax=b$$\n",
    "\n",
    "Se a matriz $A$ dos coeficientes for não singular, ou seja, se o sistema possuir solução única a matriz é invertível e a solução do sistema pode ser obtida multiplicando-se a inversa $A^{-1}$ à esquerda de ambos os lados da equação, como segue: \n",
    "\n",
    "$$A^{-1}Ax=A^{-1}b$$\n",
    "logo\n",
    "$$Ix = A^{-1}b$$\n",
    "ou\n",
    "$$x = A^{-1}b$$\n",
    "Que é a solução do sistema linear."
   ]
  },
  {
   "cell_type": "markdown",
   "metadata": {},
   "source": [
    "Podemos obter a inversa da matriz $A$ por eliminação da Gauss-Jordam aplicando a eliminação à matriz aumentada $[A \\mid I ]$ em que $I$ é a matriz identidade de mesma ordem de $A$. Ao final da eliminação obtemos a matriz $[I \\mid A^{-1}]$ em que $A^{-1}$ é a inversa da matriz $A$."
   ]
  },
  {
   "cell_type": "markdown",
   "metadata": {},
   "source": [
    "**Exemplo 3.3.2:** Resolva o sistema $Ax=b$ usando a matriz inversa de $A$, sendo $A = \n",
    " \\left[\\begin{array}{ccc} \n",
    "\t         3 & 0 & 1 \\\\ \n",
    "\t         3 & 2 & 1 \\\\\n",
    "            -3 & 1 & 3 \\\\\n",
    "\t     \\end{array} \\right]$\n",
    "e $b = (1,1,3)^t$.   "
   ]
  },
  {
   "cell_type": "code",
   "execution_count": 10,
   "metadata": {},
   "outputs": [],
   "source": [
    "import numpy as np"
   ]
  },
  {
   "cell_type": "code",
   "execution_count": 11,
   "metadata": {},
   "outputs": [
    {
     "name": "stdout",
     "output_type": "stream",
     "text": [
      "[0. 0. 1.]\n"
     ]
    }
   ],
   "source": [
    "A = np.array([[3,0,1],[3,2,1],[-3,1,3]])\n",
    "b = np.array([1,1,3])\n",
    "x = np.dot(np.linalg.inv(A),b)\n",
    "print (np.round(x,4))"
   ]
  },
  {
   "cell_type": "markdown",
   "metadata": {},
   "source": [
    "A obtenção inversa pode ser feita pelo processo de eliminação de Gauss-Jordan em que são realizadas operações elementares sobre as linhas da matriz $A$ até que ela se torne uma matriz identidade. \n",
    "\n",
    "Essas mesmas operações são realizadas em uma matriz identidade de mesma ordem, ao final das operações na matriz identidade, o resultado é a inversa da matriz $A$. O exemplo a seguir implementa o processo de eliminação de Gauss-Jordan para obter a inversa de uma matriz $A$."
   ]
  },
  {
   "cell_type": "markdown",
   "metadata": {},
   "source": [
    "**Exemplo 3.3.2:** Vamos nesse exemplo utilizar o processo de eliminação de Gauss-Jordan para obter a matriz inversa de \n",
    "\n",
    "$$A = \n",
    " \\left[\\begin{array}{ccc} \n",
    "\t         2 & 1 & 3 \\\\ \n",
    "\t         0 & -1 & 1 \\\\\n",
    "            1 & 0 & 3 \\\\\n",
    "\t     \\end{array} \\right]$$"
   ]
  },
  {
   "cell_type": "code",
   "execution_count": 12,
   "metadata": {},
   "outputs": [
    {
     "name": "stdout",
     "output_type": "stream",
     "text": [
      "Matriz ampliada:\n",
      "[[ 2.  1.  3.  1.  0.  0.]\n",
      " [ 0. -1.  1.  0.  1.  0.]\n",
      " [ 1.  0.  3.  0.  0.  1.]]\n",
      "Matriz após eliminação:\n",
      "[[ 1.   0.   0.   1.5  1.5 -2. ]\n",
      " [ 0.   1.   0.  -0.5 -1.5  1. ]\n",
      " [ 0.   0.   1.  -0.5 -0.5  1. ]]\n",
      "Matriz inversa:\n",
      "[[ 1.5  1.5 -2. ]\n",
      " [-0.5 -1.5  1. ]\n",
      " [-0.5 -0.5  1. ]]\n"
     ]
    }
   ],
   "source": [
    "A = np.array([[2,1,3],[0,-1,1],[1,0,3]], float)\n",
    "I = np.identity(len(A))\n",
    "M = np.concatenate((A,I), axis=1)\n",
    "\n",
    "print ('Matriz ampliada:')\n",
    "print (M)\n",
    "\n",
    "print ('Matriz após eliminação:')\n",
    "Mgj = gaussJordan(M)\n",
    "print (Mgj )\n",
    "\n",
    "print ('Matriz inversa:')\n",
    "Ainv = Mgj[:,3:6]\n",
    "print(Ainv)"
   ]
  },
  {
   "cell_type": "code",
   "execution_count": null,
   "metadata": {},
   "outputs": [],
   "source": []
  },
  {
   "cell_type": "markdown",
   "metadata": {},
   "source": [
    "### Exercícios\n",
    "\n",
    "**1.** ([Larson, 2017](https://integrada.minhabiblioteca.com.br/reader/books/9788522127238/pageid/33)) Obtenha, caso exista, a solução para os seguintes sistemas lineares utilizando os métodos eliminação de Gauss-Jordan e Matriz inversa).\n",
    "\n",
    "\n",
    "a) $\\begin{aligned} 2 x+y-z+2 w & =-6 \\\\ 3 x+4 y+w & =1 \\\\ x+5 y+2 z+6 w & =-3 \\\\ 5 x+2 y-z-w= & 3\\end{aligned}$\n",
    "\n",
    "\n",
    "    \n",
    "b) $\\begin{aligned} x_1+x_2-2 x_3+3 x_4+2 x_5 & =9 \\\\ 3 x_1+3 x_2-x_3+x_4+x_5 & =5 \\\\ 2 x_1+2 x_2-x_3+x_4-2 x_5 & =1 \\\\ 4 x_1+4 x_2+x_3-3 x_5 & =4 \\\\ 8 x_1+5 x_2-2 x_3-x_4+2 x_5 & =3\\end{aligned}$\n",
    "\n",
    "\n",
    "             \n",
    "c) $\\begin{array}{rr}x_1-x_2+2 x_3+2 x_4+6 x_5= & 6 \\\\ 3 x_1-2 x_2+4 x_3+4 x_4+12 x_5= & 14 \\\\ x_2-x_3-x_4-3 x_5= & -3 \\\\ 2 x_1-2 x_2+4 x_3+5 x_4+15 x_5= & 10 \\\\ 2 x_1-2 x_2+4 x_3+4 x_4+13 x_5= & 13\\end{array}$\n",
    "\n",
    "\n",
    "\n",
    "d) $\\begin{array}{rr}x_1+2 x_2-2 x_3+2 x_4-x_5+3 x_6= & 0 \\\\ 2 x_1-x_2+3 x_3+x_4-3 x_5+2 x_6= & 17 \\\\ x_1+3 x_2-2 x_3+x_4-2 x_5-3 x_6= & -5 \\\\ 3 x_1-2 x_2+x_3-x_4+3 x_5-2 x_6= & -1 \\\\ -x_1-2 x_2+x_3+2 x_4-2 x_5+3 x_6= & 10 \\\\ x_1-3 x_2+x_3+3 x_4-2 x_5+x_6= & 11\\end{array}$"
   ]
  },
  {
   "cell_type": "markdown",
   "metadata": {},
   "source": [
    "### Referências\n",
    "\n",
    "LARSON, Ron. Elementos de álgebra linear: Tradução da 8ª edição norte-americana. Porto Alegre: +A Educação - Cengage Learning Brasil, 2017. "
   ]
  },
  {
   "cell_type": "code",
   "execution_count": null,
   "metadata": {},
   "outputs": [],
   "source": []
  }
 ],
 "metadata": {
  "kernelspec": {
   "display_name": "Python 3 (ipykernel)",
   "language": "python",
   "name": "python3"
  },
  "language_info": {
   "codemirror_mode": {
    "name": "ipython",
    "version": 3
   },
   "file_extension": ".py",
   "mimetype": "text/x-python",
   "name": "python",
   "nbconvert_exporter": "python",
   "pygments_lexer": "ipython3",
   "version": "3.12.4"
  }
 },
 "nbformat": 4,
 "nbformat_minor": 4
}
